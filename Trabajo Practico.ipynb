{
 "cells": [
  {
   "cell_type": "code",
   "execution_count": 146,
   "id": "d62d72c8-457a-4497-872a-e3d3abb0d11e",
   "metadata": {},
   "outputs": [],
   "source": [
    "# -*- coding: utf-8 -*-\n",
    "#leemos las librerias para poder aplicar distintas funciones\n",
    "library(readxl) \n",
    "library(dplyr)\n",
    "library(stringr)"
   ]
  },
  {
   "cell_type": "code",
   "execution_count": 147,
   "id": "82302e92-656a-424e-90e8-79c2661d624f",
   "metadata": {
    "editable": true,
    "slideshow": {
     "slide_type": ""
    },
    "tags": []
   },
   "outputs": [],
   "source": [
    "#guardamos los archivos\n",
    "Victoria <- read.csv(\"VICTORIA.csv\")\n",
    "primaria_2023 <- read.csv(\"Primaria 2023 - matrícula primaria.xls.csv\")\n",
    "secundaria_2023 <- read.csv(\"secundaria 2023 - xls_export.csv\")\n",
    "primaria_depta <- read.csv(\"primaria 2023 por departamentos - xls_export (10).csv\")\n",
    "secundaria_depta <- read.csv(\"secundaria por departamentos 2023 - xls_export (11).csv\")"
   ]
  },
  {
   "cell_type": "code",
   "execution_count": 148,
   "id": "ab284d49-a53c-4a69-90c9-5e6d366c3d77",
   "metadata": {},
   "outputs": [
    {
     "data": {
      "text/html": [
       "<style>\n",
       ".list-inline {list-style: none; margin:0; padding: 0}\n",
       ".list-inline>li {display: inline-block}\n",
       ".list-inline>li:not(:last-child)::after {content: \"\\00b7\"; padding: 0 .5ex}\n",
       "</style>\n",
       "<ol class=list-inline><li>320330</li><li>26</li></ol>\n"
      ],
      "text/latex": [
       "\\begin{enumerate*}\n",
       "\\item 320330\n",
       "\\item 26\n",
       "\\end{enumerate*}\n"
      ],
      "text/markdown": [
       "1. 320330\n",
       "2. 26\n",
       "\n",
       "\n"
      ],
      "text/plain": [
       "[1] 320330     26"
      ]
     },
     "metadata": {},
     "output_type": "display_data"
    }
   ],
   "source": [
    "dim(Victoria) #dimension del archivo"
   ]
  },
  {
   "cell_type": "code",
   "execution_count": 149,
   "id": "417f2a8f-8c4e-4106-bdfa-fbf72ec42f44",
   "metadata": {
    "scrolled": true
   },
   "outputs": [
    {
     "data": {
      "text/html": [
       "<style>\n",
       ".list-inline {list-style: none; margin:0; padding: 0}\n",
       ".list-inline>li {display: inline-block}\n",
       ".list-inline>li:not(:last-child)::after {content: \"\\00b7\"; padding: 0 .5ex}\n",
       "</style>\n",
       "<ol class=list-inline><li>'X'</li><li>'CUE'</li><li>'departamento'</li><li>'localidad'</li><li>'CodigoPostal'</li><li>'EsPrivada'</li><li>'turno'</li><li>'curso'</li><li>'periodoEvaluatorio'</li><li>'idalumno'</li><li>'Documento'</li><li>'anioLectivo'</li><li>'asignatura'</li><li>'nota'</li><li>'observaciones'</li><li>'idSubOrganizacion'</li><li>'idDivision'</li><li>'NivelEnsenanza'</li><li>'orden'</li><li>'idOrganizaciones'</li><li>'ddivision'</li><li>'Nivel'</li><li>'esMultianio'</li><li>'IdModEnsenanza'</li><li>'Modalidad'</li><li>'ModEnsenaza'</li></ol>\n"
      ],
      "text/latex": [
       "\\begin{enumerate*}\n",
       "\\item 'X'\n",
       "\\item 'CUE'\n",
       "\\item 'departamento'\n",
       "\\item 'localidad'\n",
       "\\item 'CodigoPostal'\n",
       "\\item 'EsPrivada'\n",
       "\\item 'turno'\n",
       "\\item 'curso'\n",
       "\\item 'periodoEvaluatorio'\n",
       "\\item 'idalumno'\n",
       "\\item 'Documento'\n",
       "\\item 'anioLectivo'\n",
       "\\item 'asignatura'\n",
       "\\item 'nota'\n",
       "\\item 'observaciones'\n",
       "\\item 'idSubOrganizacion'\n",
       "\\item 'idDivision'\n",
       "\\item 'NivelEnsenanza'\n",
       "\\item 'orden'\n",
       "\\item 'idOrganizaciones'\n",
       "\\item 'ddivision'\n",
       "\\item 'Nivel'\n",
       "\\item 'esMultianio'\n",
       "\\item 'IdModEnsenanza'\n",
       "\\item 'Modalidad'\n",
       "\\item 'ModEnsenaza'\n",
       "\\end{enumerate*}\n"
      ],
      "text/markdown": [
       "1. 'X'\n",
       "2. 'CUE'\n",
       "3. 'departamento'\n",
       "4. 'localidad'\n",
       "5. 'CodigoPostal'\n",
       "6. 'EsPrivada'\n",
       "7. 'turno'\n",
       "8. 'curso'\n",
       "9. 'periodoEvaluatorio'\n",
       "10. 'idalumno'\n",
       "11. 'Documento'\n",
       "12. 'anioLectivo'\n",
       "13. 'asignatura'\n",
       "14. 'nota'\n",
       "15. 'observaciones'\n",
       "16. 'idSubOrganizacion'\n",
       "17. 'idDivision'\n",
       "18. 'NivelEnsenanza'\n",
       "19. 'orden'\n",
       "20. 'idOrganizaciones'\n",
       "21. 'ddivision'\n",
       "22. 'Nivel'\n",
       "23. 'esMultianio'\n",
       "24. 'IdModEnsenanza'\n",
       "25. 'Modalidad'\n",
       "26. 'ModEnsenaza'\n",
       "\n",
       "\n"
      ],
      "text/plain": [
       " [1] \"X\"                  \"CUE\"                \"departamento\"      \n",
       " [4] \"localidad\"          \"CodigoPostal\"       \"EsPrivada\"         \n",
       " [7] \"turno\"              \"curso\"              \"periodoEvaluatorio\"\n",
       "[10] \"idalumno\"           \"Documento\"          \"anioLectivo\"       \n",
       "[13] \"asignatura\"         \"nota\"               \"observaciones\"     \n",
       "[16] \"idSubOrganizacion\"  \"idDivision\"         \"NivelEnsenanza\"    \n",
       "[19] \"orden\"              \"idOrganizaciones\"   \"ddivision\"         \n",
       "[22] \"Nivel\"              \"esMultianio\"        \"IdModEnsenanza\"    \n",
       "[25] \"Modalidad\"          \"ModEnsenaza\"       "
      ]
     },
     "metadata": {},
     "output_type": "display_data"
    },
    {
     "name": "stdout",
     "output_type": "stream",
     "text": [
      "'data.frame':\t320330 obs. of  26 variables:\n",
      " $ X                 : int  1 2 3 4 5 6 7 8 9 10 ...\n",
      " $ CodigoUnicoEscolar: int  9002121 9002121 9002121 9002121 9002121 9002121 9002121 9002121 9002121 9002121 ...\n",
      " $ departamento      : chr  \"VICTORIA\" \"VICTORIA\" \"VICTORIA\" \"VICTORIA\" ...\n",
      " $ localidad         : chr  \"VICTORIA\" \"VICTORIA\" \"VICTORIA\" \"VICTORIA\" ...\n",
      " $ CodigoPostal      : int  3151 3151 3151 3151 3151 3151 3151 3151 3151 3151 ...\n",
      " $ EsPrivada         : chr  \"N\" \"N\" \"N\" \"N\" ...\n",
      " $ turno             : chr  \"TARDE\" \"TARDE\" \"TARDE\" \"TARDE\" ...\n",
      " $ curso             : chr  \"4 - M Prim\" \"4 - M Prim\" \"4 - M Prim\" \"4 - M Prim\" ...\n",
      " $ periodoEvaluatorio: chr  \"Primer Trimestre\" \"Primer Trimestre\" \"Primer Trimestre\" \"Primer Trimestre\" ...\n",
      " $ idalumno          : int  672655 672655 672655 672655 852106 852106 852106 852106 852106 852106 ...\n",
      " $ Documento         : int  53400853 53400853 53400853 53400853 53799627 53799627 53799627 53799627 53799627 53799627 ...\n",
      " $ año               : int  2023 2023 2023 2023 2023 2023 2023 2023 2023 2023 ...\n",
      " $ asignatura        : chr  \"CIENCIAS SOCIALES\" \"ARTES VISUALES\" \"EDUCACION FISICA\" \"EDUCACION MUSICAL\" ...\n",
      " $ nota              : chr  \"8\" \"8\" \"8\" \"8\" ...\n",
      " $ observaciones     : chr  NA NA NA NA ...\n",
      " $ idSubOrganizacion : int  1163 1163 1163 1163 1163 1163 1163 1163 1163 1163 ...\n",
      " $ idDivision        : int  59017 59017 59017 59017 59017 59017 59017 59017 59017 59017 ...\n",
      " $ NivelEnseñanza    : chr  \"PRIMARIO\" \"PRIMARIO\" \"PRIMARIO\" \"PRIMARIO\" ...\n",
      " $ orden             : int  1 1 1 1 1 1 1 1 1 1 ...\n",
      " $ idOrganizaciones  : int  615 615 615 615 615 615 615 615 615 615 ...\n",
      " $ ddivision         : int  59017 59017 59017 59017 59017 59017 59017 59017 59017 59017 ...\n",
      " $ Nivel             : int  2 2 2 2 2 2 2 2 2 2 ...\n",
      " $ esMultiaño        : chr  \"N\" \"N\" \"N\" \"N\" ...\n",
      " $ IdModEnseñanza    : int  5 5 5 5 5 5 5 5 5 5 ...\n",
      " $ Modalidad         : chr  \"Primaria\" \"Primaria\" \"Primaria\" \"Primaria\" ...\n",
      " $ ModEnseñanza      : chr  \"Comun\" \"Comun\" \"Comun\" \"Comun\" ...\n"
     ]
    }
   ],
   "source": [
    "names(Victoria) #muestra las variables\n",
    "#cambiamos los nombres de las variables para un mejor entendimiento\n",
    "Victoria <- rename(Victoria, c(\"CodigoUnicoEscolar\" = \"CUE\", \"ModEnseñanza\" = \"ModEnsenaza\", \"año\" = \"anioLectivo\", \"esMultiaño\" =\"esMultianio\", \"IdModEnseñanza\" = \"IdModEnsenanza\",\"NivelEnseñanza\" = \"NivelEnsenanza\"))\n",
    "str(Victoria) #muestra los nombres del dataset, nos ayuda a identificar el tipo de variables"
   ]
  },
  {
   "cell_type": "code",
   "execution_count": 150,
   "id": "c97c7c0a-088c-4a85-8257-9278d207f6dc",
   "metadata": {
    "scrolled": true
   },
   "outputs": [
    {
     "name": "stdout",
     "output_type": "stream",
     "text": [
      "   [1] TRUE TRUE TRUE TRUE TRUE TRUE TRUE TRUE TRUE TRUE TRUE TRUE TRUE TRUE\n",
      "  [15] TRUE TRUE TRUE TRUE TRUE TRUE TRUE TRUE TRUE TRUE TRUE TRUE TRUE TRUE\n",
      "  [29] TRUE TRUE TRUE TRUE TRUE TRUE TRUE TRUE TRUE TRUE TRUE TRUE TRUE TRUE\n",
      "  [43] TRUE TRUE TRUE TRUE TRUE TRUE TRUE TRUE TRUE TRUE TRUE TRUE TRUE TRUE\n",
      "  [57] TRUE TRUE TRUE TRUE TRUE TRUE TRUE TRUE TRUE TRUE TRUE TRUE TRUE TRUE\n",
      "  [71] TRUE TRUE TRUE TRUE TRUE TRUE TRUE TRUE TRUE TRUE TRUE TRUE TRUE TRUE\n",
      "  [85] TRUE TRUE TRUE TRUE TRUE TRUE TRUE TRUE TRUE TRUE TRUE TRUE TRUE TRUE\n",
      "  [99] TRUE TRUE TRUE TRUE TRUE TRUE TRUE TRUE TRUE TRUE TRUE TRUE TRUE TRUE\n",
      " [113] TRUE TRUE TRUE TRUE TRUE TRUE TRUE TRUE TRUE TRUE TRUE TRUE TRUE TRUE\n",
      " [127] TRUE TRUE TRUE TRUE TRUE TRUE TRUE TRUE TRUE TRUE TRUE TRUE TRUE TRUE\n",
      " [141] TRUE TRUE TRUE TRUE TRUE TRUE TRUE TRUE TRUE TRUE TRUE TRUE TRUE TRUE\n",
      " [155] TRUE TRUE TRUE TRUE TRUE TRUE TRUE TRUE TRUE TRUE TRUE TRUE TRUE TRUE\n",
      " [169] TRUE TRUE TRUE TRUE TRUE TRUE TRUE TRUE TRUE TRUE TRUE TRUE TRUE TRUE\n",
      " [183] TRUE TRUE TRUE TRUE TRUE TRUE TRUE TRUE TRUE TRUE TRUE TRUE TRUE TRUE\n",
      " [197] TRUE TRUE TRUE TRUE TRUE TRUE TRUE TRUE TRUE TRUE TRUE TRUE TRUE TRUE\n",
      " [211] TRUE TRUE TRUE TRUE TRUE TRUE TRUE TRUE TRUE TRUE TRUE TRUE TRUE TRUE\n",
      " [225] TRUE TRUE TRUE TRUE TRUE TRUE TRUE TRUE TRUE TRUE TRUE TRUE TRUE TRUE\n",
      " [239] TRUE TRUE TRUE TRUE TRUE TRUE TRUE TRUE TRUE TRUE TRUE TRUE TRUE TRUE\n",
      " [253] TRUE TRUE TRUE TRUE TRUE TRUE TRUE TRUE TRUE TRUE TRUE TRUE TRUE TRUE\n",
      " [267] TRUE TRUE TRUE TRUE TRUE TRUE TRUE TRUE TRUE TRUE TRUE TRUE TRUE TRUE\n",
      " [281] TRUE TRUE TRUE TRUE TRUE TRUE TRUE TRUE TRUE TRUE TRUE TRUE TRUE TRUE\n",
      " [295] TRUE TRUE TRUE TRUE TRUE TRUE TRUE TRUE TRUE TRUE TRUE TRUE TRUE TRUE\n",
      " [309] TRUE TRUE TRUE TRUE TRUE TRUE TRUE TRUE TRUE TRUE TRUE TRUE TRUE TRUE\n",
      " [323] TRUE TRUE TRUE TRUE TRUE TRUE TRUE TRUE TRUE TRUE TRUE TRUE TRUE TRUE\n",
      " [337] TRUE TRUE TRUE TRUE TRUE TRUE TRUE TRUE TRUE TRUE TRUE TRUE TRUE TRUE\n",
      " [351] TRUE TRUE TRUE TRUE TRUE TRUE TRUE TRUE TRUE TRUE TRUE TRUE TRUE TRUE\n",
      " [365] TRUE TRUE TRUE TRUE TRUE TRUE TRUE TRUE TRUE TRUE TRUE TRUE TRUE TRUE\n",
      " [379] TRUE TRUE TRUE TRUE TRUE TRUE TRUE TRUE TRUE TRUE TRUE TRUE TRUE TRUE\n",
      " [393] TRUE TRUE TRUE TRUE TRUE TRUE TRUE TRUE TRUE TRUE TRUE TRUE TRUE TRUE\n",
      " [407] TRUE TRUE TRUE TRUE TRUE TRUE TRUE TRUE TRUE TRUE TRUE TRUE TRUE TRUE\n",
      " [421] TRUE TRUE TRUE TRUE TRUE TRUE TRUE TRUE TRUE TRUE TRUE TRUE TRUE TRUE\n",
      " [435] TRUE TRUE TRUE TRUE TRUE TRUE TRUE TRUE TRUE TRUE TRUE TRUE TRUE TRUE\n",
      " [449] TRUE TRUE TRUE TRUE TRUE TRUE TRUE TRUE TRUE TRUE TRUE TRUE TRUE TRUE\n",
      " [463] TRUE TRUE TRUE TRUE TRUE TRUE TRUE TRUE TRUE TRUE TRUE TRUE TRUE TRUE\n",
      " [477] TRUE TRUE TRUE TRUE TRUE TRUE TRUE TRUE TRUE TRUE TRUE TRUE TRUE TRUE\n",
      " [491] TRUE TRUE TRUE TRUE TRUE TRUE TRUE TRUE TRUE TRUE TRUE TRUE TRUE TRUE\n",
      " [505] TRUE TRUE TRUE TRUE TRUE TRUE TRUE TRUE TRUE TRUE TRUE TRUE TRUE TRUE\n",
      " [519] TRUE TRUE TRUE TRUE TRUE TRUE TRUE TRUE TRUE TRUE TRUE TRUE TRUE TRUE\n",
      " [533] TRUE TRUE TRUE TRUE TRUE TRUE TRUE TRUE TRUE TRUE TRUE TRUE TRUE TRUE\n",
      " [547] TRUE TRUE TRUE TRUE TRUE TRUE TRUE TRUE TRUE TRUE TRUE TRUE TRUE TRUE\n",
      " [561] TRUE TRUE TRUE TRUE TRUE TRUE TRUE TRUE TRUE TRUE TRUE TRUE TRUE TRUE\n",
      " [575] TRUE TRUE TRUE TRUE TRUE TRUE TRUE TRUE TRUE TRUE TRUE TRUE TRUE TRUE\n",
      " [589] TRUE TRUE TRUE TRUE TRUE TRUE TRUE TRUE TRUE TRUE TRUE TRUE TRUE TRUE\n",
      " [603] TRUE TRUE TRUE TRUE TRUE TRUE TRUE TRUE TRUE TRUE TRUE TRUE TRUE TRUE\n",
      " [617] TRUE TRUE TRUE TRUE TRUE TRUE TRUE TRUE TRUE TRUE TRUE TRUE TRUE TRUE\n",
      " [631] TRUE TRUE TRUE TRUE TRUE TRUE TRUE TRUE TRUE TRUE TRUE TRUE TRUE TRUE\n",
      " [645] TRUE TRUE TRUE TRUE TRUE TRUE TRUE TRUE TRUE TRUE TRUE TRUE TRUE TRUE\n",
      " [659] TRUE TRUE TRUE TRUE TRUE TRUE TRUE TRUE TRUE TRUE TRUE TRUE TRUE TRUE\n",
      " [673] TRUE TRUE TRUE TRUE TRUE TRUE TRUE TRUE TRUE TRUE TRUE TRUE TRUE TRUE\n",
      " [687] TRUE TRUE TRUE TRUE TRUE TRUE TRUE TRUE TRUE TRUE TRUE TRUE TRUE TRUE\n",
      " [701] TRUE TRUE TRUE TRUE TRUE TRUE TRUE TRUE TRUE TRUE TRUE TRUE TRUE TRUE\n",
      " [715] TRUE TRUE TRUE TRUE TRUE TRUE TRUE TRUE TRUE TRUE TRUE TRUE TRUE TRUE\n",
      " [729] TRUE TRUE TRUE TRUE TRUE TRUE TRUE TRUE TRUE TRUE TRUE TRUE TRUE TRUE\n",
      " [743] TRUE TRUE TRUE TRUE TRUE TRUE TRUE TRUE TRUE TRUE TRUE TRUE TRUE TRUE\n",
      " [757] TRUE TRUE TRUE TRUE TRUE TRUE TRUE TRUE TRUE TRUE TRUE TRUE TRUE TRUE\n",
      " [771] TRUE TRUE TRUE TRUE TRUE TRUE TRUE TRUE TRUE TRUE TRUE TRUE TRUE TRUE\n",
      " [785] TRUE TRUE TRUE TRUE TRUE TRUE TRUE TRUE TRUE TRUE TRUE TRUE TRUE TRUE\n",
      " [799] TRUE TRUE TRUE TRUE TRUE TRUE TRUE TRUE TRUE TRUE TRUE TRUE TRUE TRUE\n",
      " [813] TRUE TRUE TRUE TRUE TRUE TRUE TRUE TRUE TRUE TRUE TRUE TRUE TRUE TRUE\n",
      " [827] TRUE TRUE TRUE TRUE TRUE TRUE TRUE TRUE TRUE TRUE TRUE TRUE TRUE TRUE\n",
      " [841] TRUE TRUE TRUE TRUE TRUE TRUE TRUE TRUE TRUE TRUE TRUE TRUE TRUE TRUE\n",
      " [855] TRUE TRUE TRUE TRUE TRUE TRUE TRUE TRUE TRUE TRUE TRUE TRUE TRUE TRUE\n",
      " [869] TRUE TRUE TRUE TRUE TRUE TRUE TRUE TRUE TRUE TRUE TRUE TRUE TRUE TRUE\n",
      " [883] TRUE TRUE TRUE TRUE TRUE TRUE TRUE TRUE TRUE TRUE TRUE TRUE TRUE TRUE\n",
      " [897] TRUE TRUE TRUE TRUE TRUE TRUE TRUE TRUE TRUE TRUE TRUE TRUE TRUE TRUE\n",
      " [911] TRUE TRUE TRUE TRUE TRUE TRUE TRUE TRUE TRUE TRUE TRUE TRUE TRUE TRUE\n",
      " [925] TRUE TRUE TRUE TRUE TRUE TRUE TRUE TRUE TRUE TRUE TRUE TRUE TRUE TRUE\n",
      " [939] TRUE TRUE TRUE TRUE TRUE TRUE TRUE TRUE TRUE TRUE TRUE TRUE TRUE TRUE\n",
      " [953] TRUE TRUE TRUE TRUE TRUE TRUE TRUE TRUE TRUE TRUE TRUE TRUE TRUE TRUE\n",
      " [967] TRUE TRUE TRUE TRUE TRUE TRUE TRUE TRUE TRUE TRUE TRUE TRUE TRUE TRUE\n",
      " [981] TRUE TRUE TRUE TRUE TRUE TRUE TRUE TRUE TRUE TRUE TRUE TRUE TRUE TRUE\n",
      " [995] TRUE TRUE TRUE TRUE TRUE TRUE\n",
      " [ reached getOption(\"max.print\") -- omitted 319330 entries ]\n"
     ]
    },
    {
     "data": {
      "text/html": [
       "<style>\n",
       ".list-inline {list-style: none; margin:0; padding: 0}\n",
       ".list-inline>li {display: inline-block}\n",
       ".list-inline>li:not(:last-child)::after {content: \"\\00b7\"; padding: 0 .5ex}\n",
       "</style>\n",
       "<ol class=list-inline><li>'X'</li><li>'CodigoUnicoEscolar'</li><li>'departamento'</li><li>'localidad'</li><li>'CodigoPostal'</li><li>'EsPrivada'</li><li>'turno'</li><li>'curso'</li><li>'periodoEvaluatorio'</li><li>'idalumno'</li><li>'Documento'</li><li>'año'</li><li>'asignatura'</li><li>'nota'</li><li>'observaciones'</li><li>'idSubOrganizacion'</li><li>'idDivision'</li><li>'NivelEnseñanza'</li><li>'orden'</li><li>'idOrganizaciones'</li><li>'Nivel'</li><li>'esMultiaño'</li><li>'IdModEnseñanza'</li><li>'Modalidad'</li><li>'ModEnseñanza'</li></ol>\n"
      ],
      "text/latex": [
       "\\begin{enumerate*}\n",
       "\\item 'X'\n",
       "\\item 'CodigoUnicoEscolar'\n",
       "\\item 'departamento'\n",
       "\\item 'localidad'\n",
       "\\item 'CodigoPostal'\n",
       "\\item 'EsPrivada'\n",
       "\\item 'turno'\n",
       "\\item 'curso'\n",
       "\\item 'periodoEvaluatorio'\n",
       "\\item 'idalumno'\n",
       "\\item 'Documento'\n",
       "\\item 'año'\n",
       "\\item 'asignatura'\n",
       "\\item 'nota'\n",
       "\\item 'observaciones'\n",
       "\\item 'idSubOrganizacion'\n",
       "\\item 'idDivision'\n",
       "\\item 'NivelEnseñanza'\n",
       "\\item 'orden'\n",
       "\\item 'idOrganizaciones'\n",
       "\\item 'Nivel'\n",
       "\\item 'esMultiaño'\n",
       "\\item 'IdModEnseñanza'\n",
       "\\item 'Modalidad'\n",
       "\\item 'ModEnseñanza'\n",
       "\\end{enumerate*}\n"
      ],
      "text/markdown": [
       "1. 'X'\n",
       "2. 'CodigoUnicoEscolar'\n",
       "3. 'departamento'\n",
       "4. 'localidad'\n",
       "5. 'CodigoPostal'\n",
       "6. 'EsPrivada'\n",
       "7. 'turno'\n",
       "8. 'curso'\n",
       "9. 'periodoEvaluatorio'\n",
       "10. 'idalumno'\n",
       "11. 'Documento'\n",
       "12. 'año'\n",
       "13. 'asignatura'\n",
       "14. 'nota'\n",
       "15. 'observaciones'\n",
       "16. 'idSubOrganizacion'\n",
       "17. 'idDivision'\n",
       "18. 'NivelEnseñanza'\n",
       "19. 'orden'\n",
       "20. 'idOrganizaciones'\n",
       "21. 'Nivel'\n",
       "22. 'esMultiaño'\n",
       "23. 'IdModEnseñanza'\n",
       "24. 'Modalidad'\n",
       "25. 'ModEnseñanza'\n",
       "\n",
       "\n"
      ],
      "text/plain": [
       " [1] \"X\"                  \"CodigoUnicoEscolar\" \"departamento\"      \n",
       " [4] \"localidad\"          \"CodigoPostal\"       \"EsPrivada\"         \n",
       " [7] \"turno\"              \"curso\"              \"periodoEvaluatorio\"\n",
       "[10] \"idalumno\"           \"Documento\"          \"año\"               \n",
       "[13] \"asignatura\"         \"nota\"               \"observaciones\"     \n",
       "[16] \"idSubOrganizacion\"  \"idDivision\"         \"NivelEnseñanza\"    \n",
       "[19] \"orden\"              \"idOrganizaciones\"   \"Nivel\"             \n",
       "[22] \"esMultiaño\"         \"IdModEnseñanza\"     \"Modalidad\"         \n",
       "[25] \"ModEnseñanza\"      "
      ]
     },
     "metadata": {},
     "output_type": "display_data"
    }
   ],
   "source": [
    "#descubrimos que al intentar modificar el nombre de una varible, esta se encuentra dos veces en el conjunto de datos\n",
    "verificacion <- Victoria$idDivision == Victoria$ddivision\n",
    "print(verificacion) #como se muestra acá abajo, todos los datos coinciden, lo que quiere decir que son dos columnas identicas\n",
    "Victoria$ddivision <- NULL #entonces procedemos a eliminar una columna\n",
    "names(Victoria) #verificamos si se elimino correctamente"
   ]
  },
  {
   "cell_type": "code",
   "execution_count": 151,
   "id": "7406d2aa-1828-454d-8adc-03291b1e5042",
   "metadata": {},
   "outputs": [
    {
     "name": "stderr",
     "output_type": "stream",
     "text": [
      "Warning message in eval(expr, envir, enclos):\n",
      "\"NAs introducidos por coerción\"\n"
     ]
    }
   ],
   "source": [
    "#reemplazamos las notas \"EPAC\", \"UP\" y \"PA\" con un valor menor a 6\n",
    "Victoria$nota[Victoria$nota %in% c(\"EPAC\", \"UP\", \"PA\")] <- 5\n",
    "Victoria$nota <- as.numeric(Victoria$nota) #convertimos la variable nota a tipo numérico"
   ]
  },
  {
   "cell_type": "code",
   "execution_count": 152,
   "id": "daee0ad1-850b-4419-afe4-c8e15177926a",
   "metadata": {
    "scrolled": true
   },
   "outputs": [
    {
     "data": {
      "text/html": [
       "<style>\n",
       ".list-inline {list-style: none; margin:0; padding: 0}\n",
       ".list-inline>li {display: inline-block}\n",
       ".list-inline>li:not(:last-child)::after {content: \"\\00b7\"; padding: 0 .5ex}\n",
       "</style>\n",
       "<ol class=list-inline><li>'Comun'</li><li>'Escuelas NINA'</li><li>'Artistica'</li><li>'Ed.Especial'</li><li>'Adultos'</li><li>'Técnica'</li><li>'Agrotécnica'</li><li>'Cap Tecnica Priv'</li><li>'S/D'</li></ol>\n"
      ],
      "text/latex": [
       "\\begin{enumerate*}\n",
       "\\item 'Comun'\n",
       "\\item 'Escuelas NINA'\n",
       "\\item 'Artistica'\n",
       "\\item 'Ed.Especial'\n",
       "\\item 'Adultos'\n",
       "\\item 'Técnica'\n",
       "\\item 'Agrotécnica'\n",
       "\\item 'Cap Tecnica Priv'\n",
       "\\item 'S/D'\n",
       "\\end{enumerate*}\n"
      ],
      "text/markdown": [
       "1. 'Comun'\n",
       "2. 'Escuelas NINA'\n",
       "3. 'Artistica'\n",
       "4. 'Ed.Especial'\n",
       "5. 'Adultos'\n",
       "6. 'Técnica'\n",
       "7. 'Agrotécnica'\n",
       "8. 'Cap Tecnica Priv'\n",
       "9. 'S/D'\n",
       "\n",
       "\n"
      ],
      "text/plain": [
       "[1] \"Comun\"            \"Escuelas NINA\"    \"Artistica\"        \"Ed.Especial\"     \n",
       "[5] \"Adultos\"          \"Técnica\"          \"Agrotécnica\"      \"Cap Tecnica Priv\"\n",
       "[9] \"S/D\"             "
      ]
     },
     "metadata": {},
     "output_type": "display_data"
    },
    {
     "data": {
      "text/html": [
       "<table class=\"dataframe\">\n",
       "<caption>A data.frame: 14 × 25</caption>\n",
       "<thead>\n",
       "\t<tr><th></th><th scope=col>X</th><th scope=col>CodigoUnicoEscolar</th><th scope=col>departamento</th><th scope=col>localidad</th><th scope=col>CodigoPostal</th><th scope=col>EsPrivada</th><th scope=col>turno</th><th scope=col>curso</th><th scope=col>periodoEvaluatorio</th><th scope=col>idalumno</th><th scope=col>...</th><th scope=col>idSubOrganizacion</th><th scope=col>idDivision</th><th scope=col>NivelEnseñanza</th><th scope=col>orden</th><th scope=col>idOrganizaciones</th><th scope=col>Nivel</th><th scope=col>esMultiaño</th><th scope=col>IdModEnseñanza</th><th scope=col>Modalidad</th><th scope=col>ModEnseñanza</th></tr>\n",
       "\t<tr><th></th><th scope=col>&lt;int&gt;</th><th scope=col>&lt;int&gt;</th><th scope=col>&lt;chr&gt;</th><th scope=col>&lt;chr&gt;</th><th scope=col>&lt;int&gt;</th><th scope=col>&lt;chr&gt;</th><th scope=col>&lt;chr&gt;</th><th scope=col>&lt;chr&gt;</th><th scope=col>&lt;chr&gt;</th><th scope=col>&lt;int&gt;</th><th scope=col>...</th><th scope=col>&lt;int&gt;</th><th scope=col>&lt;int&gt;</th><th scope=col>&lt;chr&gt;</th><th scope=col>&lt;int&gt;</th><th scope=col>&lt;int&gt;</th><th scope=col>&lt;int&gt;</th><th scope=col>&lt;chr&gt;</th><th scope=col>&lt;int&gt;</th><th scope=col>&lt;chr&gt;</th><th scope=col>&lt;chr&gt;</th></tr>\n",
       "</thead>\n",
       "<tbody>\n",
       "\t<tr><th scope=row>175599</th><td>175599</td><td>9009816</td><td>VICTORIA</td><td>VICTORIA</td><td>3153</td><td>N</td><td>ROTATIVO</td><td>1 - A Cs. Soc y Hum 485/10C</td><td>Primer Trimestre </td><td>1132136</td><td>...</td><td>7426</td><td>105975</td><td>SECUNDARIO</td><td>1</td><td>3625</td><td>5</td><td>N</td><td>13</td><td>NULL</td><td>S/D</td></tr>\n",
       "\t<tr><th scope=row>175600</th><td>175600</td><td>9009816</td><td>VICTORIA</td><td>VICTORIA</td><td>3153</td><td>N</td><td>ROTATIVO</td><td>1 - A Cs. Soc y Hum 485/10C</td><td>Primer Trimestre </td><td>1132136</td><td>...</td><td>7426</td><td>105975</td><td>SECUNDARIO</td><td>1</td><td>3625</td><td>5</td><td>N</td><td>13</td><td>NULL</td><td>S/D</td></tr>\n",
       "\t<tr><th scope=row>175601</th><td>175601</td><td>9009816</td><td>VICTORIA</td><td>VICTORIA</td><td>3153</td><td>N</td><td>ROTATIVO</td><td>1 - A Cs. Soc y Hum 485/10C</td><td>Primer Trimestre </td><td>1132136</td><td>...</td><td>7426</td><td>105975</td><td>SECUNDARIO</td><td>1</td><td>3625</td><td>5</td><td>N</td><td>13</td><td>NULL</td><td>S/D</td></tr>\n",
       "\t<tr><th scope=row>175602</th><td>175602</td><td>9009816</td><td>VICTORIA</td><td>VICTORIA</td><td>3153</td><td>N</td><td>ROTATIVO</td><td>1 - A Cs. Soc y Hum 485/10C</td><td>Primer Trimestre </td><td>1132136</td><td>...</td><td>7426</td><td>105975</td><td>SECUNDARIO</td><td>1</td><td>3625</td><td>5</td><td>N</td><td>13</td><td>NULL</td><td>S/D</td></tr>\n",
       "\t<tr><th scope=row>175603</th><td>175603</td><td>9009816</td><td>VICTORIA</td><td>VICTORIA</td><td>3153</td><td>N</td><td>ROTATIVO</td><td>1 - A Cs. Soc y Hum 485/10C</td><td>Primer Trimestre </td><td>1132136</td><td>...</td><td>7426</td><td>105975</td><td>SECUNDARIO</td><td>1</td><td>3625</td><td>5</td><td>N</td><td>13</td><td>NULL</td><td>S/D</td></tr>\n",
       "\t<tr><th scope=row>175604</th><td>175604</td><td>9009816</td><td>VICTORIA</td><td>VICTORIA</td><td>3153</td><td>N</td><td>ROTATIVO</td><td>1 - A Cs. Soc y Hum 485/10C</td><td>Primer Trimestre </td><td>1132136</td><td>...</td><td>7426</td><td>105975</td><td>SECUNDARIO</td><td>1</td><td>3625</td><td>5</td><td>N</td><td>13</td><td>NULL</td><td>S/D</td></tr>\n",
       "\t<tr><th scope=row>175605</th><td>175605</td><td>9009816</td><td>VICTORIA</td><td>VICTORIA</td><td>3153</td><td>N</td><td>ROTATIVO</td><td>1 - A Cs. Soc y Hum 485/10C</td><td>Primer Trimestre </td><td>1132136</td><td>...</td><td>7426</td><td>105975</td><td>SECUNDARIO</td><td>1</td><td>3625</td><td>5</td><td>N</td><td>13</td><td>NULL</td><td>S/D</td></tr>\n",
       "\t<tr><th scope=row>175606</th><td>175606</td><td>9009816</td><td>VICTORIA</td><td>VICTORIA</td><td>3153</td><td>N</td><td>ROTATIVO</td><td>1 - A Cs. Soc y Hum 485/10C</td><td>Primer Trimestre </td><td>1132136</td><td>...</td><td>7426</td><td>105975</td><td>SECUNDARIO</td><td>1</td><td>3625</td><td>5</td><td>N</td><td>13</td><td>NULL</td><td>S/D</td></tr>\n",
       "\t<tr><th scope=row>175607</th><td>175607</td><td>9009816</td><td>VICTORIA</td><td>VICTORIA</td><td>3153</td><td>N</td><td>ROTATIVO</td><td>1 - A Cs. Soc y Hum 485/10C</td><td>Primer Trimestre </td><td>1132136</td><td>...</td><td>7426</td><td>105975</td><td>SECUNDARIO</td><td>1</td><td>3625</td><td>5</td><td>N</td><td>13</td><td>NULL</td><td>S/D</td></tr>\n",
       "\t<tr><th scope=row>251801</th><td>251801</td><td>9009816</td><td>VICTORIA</td><td>VICTORIA</td><td>3153</td><td>N</td><td>ROTATIVO</td><td>1 - A Cs. Soc y Hum 485/10C</td><td>Segundo Trimestre</td><td>1132136</td><td>...</td><td>7426</td><td>105975</td><td>SECUNDARIO</td><td>2</td><td>3625</td><td>5</td><td>N</td><td>13</td><td>NULL</td><td>S/D</td></tr>\n",
       "\t<tr><th scope=row>251802</th><td>251802</td><td>9009816</td><td>VICTORIA</td><td>VICTORIA</td><td>3153</td><td>N</td><td>ROTATIVO</td><td>1 - A Cs. Soc y Hum 485/10C</td><td>Segundo Trimestre</td><td>1132136</td><td>...</td><td>7426</td><td>105975</td><td>SECUNDARIO</td><td>2</td><td>3625</td><td>5</td><td>N</td><td>13</td><td>NULL</td><td>S/D</td></tr>\n",
       "\t<tr><th scope=row>251803</th><td>251803</td><td>9009816</td><td>VICTORIA</td><td>VICTORIA</td><td>3153</td><td>N</td><td>ROTATIVO</td><td>1 - A Cs. Soc y Hum 485/10C</td><td>Segundo Trimestre</td><td>1132136</td><td>...</td><td>7426</td><td>105975</td><td>SECUNDARIO</td><td>2</td><td>3625</td><td>5</td><td>N</td><td>13</td><td>NULL</td><td>S/D</td></tr>\n",
       "\t<tr><th scope=row>314659</th><td>314659</td><td>9009816</td><td>VICTORIA</td><td>VICTORIA</td><td>3153</td><td>N</td><td>ROTATIVO</td><td>1 - A Cs. Soc y Hum 485/10C</td><td>Tercer Trimestre </td><td>1132136</td><td>...</td><td>7426</td><td>105975</td><td>SECUNDARIO</td><td>3</td><td>3625</td><td>5</td><td>N</td><td>13</td><td>NULL</td><td>S/D</td></tr>\n",
       "\t<tr><th scope=row>314660</th><td>314660</td><td>9009816</td><td>VICTORIA</td><td>VICTORIA</td><td>3153</td><td>N</td><td>ROTATIVO</td><td>1 - A Cs. Soc y Hum 485/10C</td><td>Tercer Trimestre </td><td>1132136</td><td>...</td><td>7426</td><td>105975</td><td>SECUNDARIO</td><td>3</td><td>3625</td><td>5</td><td>N</td><td>13</td><td>NULL</td><td>S/D</td></tr>\n",
       "</tbody>\n",
       "</table>\n"
      ],
      "text/latex": [
       "A data.frame: 14 × 25\n",
       "\\begin{tabular}{r|lllllllllllllllllllll}\n",
       "  & X & CodigoUnicoEscolar & departamento & localidad & CodigoPostal & EsPrivada & turno & curso & periodoEvaluatorio & idalumno & ... & idSubOrganizacion & idDivision & NivelEnseñanza & orden & idOrganizaciones & Nivel & esMultiaño & IdModEnseñanza & Modalidad & ModEnseñanza\\\\\n",
       "  & <int> & <int> & <chr> & <chr> & <int> & <chr> & <chr> & <chr> & <chr> & <int> & ... & <int> & <int> & <chr> & <int> & <int> & <int> & <chr> & <int> & <chr> & <chr>\\\\\n",
       "\\hline\n",
       "\t175599 & 175599 & 9009816 & VICTORIA & VICTORIA & 3153 & N & ROTATIVO & 1 - A Cs. Soc y Hum 485/10C & Primer Trimestre  & 1132136 & ... & 7426 & 105975 & SECUNDARIO & 1 & 3625 & 5 & N & 13 & NULL & S/D\\\\\n",
       "\t175600 & 175600 & 9009816 & VICTORIA & VICTORIA & 3153 & N & ROTATIVO & 1 - A Cs. Soc y Hum 485/10C & Primer Trimestre  & 1132136 & ... & 7426 & 105975 & SECUNDARIO & 1 & 3625 & 5 & N & 13 & NULL & S/D\\\\\n",
       "\t175601 & 175601 & 9009816 & VICTORIA & VICTORIA & 3153 & N & ROTATIVO & 1 - A Cs. Soc y Hum 485/10C & Primer Trimestre  & 1132136 & ... & 7426 & 105975 & SECUNDARIO & 1 & 3625 & 5 & N & 13 & NULL & S/D\\\\\n",
       "\t175602 & 175602 & 9009816 & VICTORIA & VICTORIA & 3153 & N & ROTATIVO & 1 - A Cs. Soc y Hum 485/10C & Primer Trimestre  & 1132136 & ... & 7426 & 105975 & SECUNDARIO & 1 & 3625 & 5 & N & 13 & NULL & S/D\\\\\n",
       "\t175603 & 175603 & 9009816 & VICTORIA & VICTORIA & 3153 & N & ROTATIVO & 1 - A Cs. Soc y Hum 485/10C & Primer Trimestre  & 1132136 & ... & 7426 & 105975 & SECUNDARIO & 1 & 3625 & 5 & N & 13 & NULL & S/D\\\\\n",
       "\t175604 & 175604 & 9009816 & VICTORIA & VICTORIA & 3153 & N & ROTATIVO & 1 - A Cs. Soc y Hum 485/10C & Primer Trimestre  & 1132136 & ... & 7426 & 105975 & SECUNDARIO & 1 & 3625 & 5 & N & 13 & NULL & S/D\\\\\n",
       "\t175605 & 175605 & 9009816 & VICTORIA & VICTORIA & 3153 & N & ROTATIVO & 1 - A Cs. Soc y Hum 485/10C & Primer Trimestre  & 1132136 & ... & 7426 & 105975 & SECUNDARIO & 1 & 3625 & 5 & N & 13 & NULL & S/D\\\\\n",
       "\t175606 & 175606 & 9009816 & VICTORIA & VICTORIA & 3153 & N & ROTATIVO & 1 - A Cs. Soc y Hum 485/10C & Primer Trimestre  & 1132136 & ... & 7426 & 105975 & SECUNDARIO & 1 & 3625 & 5 & N & 13 & NULL & S/D\\\\\n",
       "\t175607 & 175607 & 9009816 & VICTORIA & VICTORIA & 3153 & N & ROTATIVO & 1 - A Cs. Soc y Hum 485/10C & Primer Trimestre  & 1132136 & ... & 7426 & 105975 & SECUNDARIO & 1 & 3625 & 5 & N & 13 & NULL & S/D\\\\\n",
       "\t251801 & 251801 & 9009816 & VICTORIA & VICTORIA & 3153 & N & ROTATIVO & 1 - A Cs. Soc y Hum 485/10C & Segundo Trimestre & 1132136 & ... & 7426 & 105975 & SECUNDARIO & 2 & 3625 & 5 & N & 13 & NULL & S/D\\\\\n",
       "\t251802 & 251802 & 9009816 & VICTORIA & VICTORIA & 3153 & N & ROTATIVO & 1 - A Cs. Soc y Hum 485/10C & Segundo Trimestre & 1132136 & ... & 7426 & 105975 & SECUNDARIO & 2 & 3625 & 5 & N & 13 & NULL & S/D\\\\\n",
       "\t251803 & 251803 & 9009816 & VICTORIA & VICTORIA & 3153 & N & ROTATIVO & 1 - A Cs. Soc y Hum 485/10C & Segundo Trimestre & 1132136 & ... & 7426 & 105975 & SECUNDARIO & 2 & 3625 & 5 & N & 13 & NULL & S/D\\\\\n",
       "\t314659 & 314659 & 9009816 & VICTORIA & VICTORIA & 3153 & N & ROTATIVO & 1 - A Cs. Soc y Hum 485/10C & Tercer Trimestre  & 1132136 & ... & 7426 & 105975 & SECUNDARIO & 3 & 3625 & 5 & N & 13 & NULL & S/D\\\\\n",
       "\t314660 & 314660 & 9009816 & VICTORIA & VICTORIA & 3153 & N & ROTATIVO & 1 - A Cs. Soc y Hum 485/10C & Tercer Trimestre  & 1132136 & ... & 7426 & 105975 & SECUNDARIO & 3 & 3625 & 5 & N & 13 & NULL & S/D\\\\\n",
       "\\end{tabular}\n"
      ],
      "text/markdown": [
       "\n",
       "A data.frame: 14 × 25\n",
       "\n",
       "| <!--/--> | X &lt;int&gt; | CodigoUnicoEscolar &lt;int&gt; | departamento &lt;chr&gt; | localidad &lt;chr&gt; | CodigoPostal &lt;int&gt; | EsPrivada &lt;chr&gt; | turno &lt;chr&gt; | curso &lt;chr&gt; | periodoEvaluatorio &lt;chr&gt; | idalumno &lt;int&gt; | ... ... | idSubOrganizacion &lt;int&gt; | idDivision &lt;int&gt; | NivelEnseñanza &lt;chr&gt; | orden &lt;int&gt; | idOrganizaciones &lt;int&gt; | Nivel &lt;int&gt; | esMultiaño &lt;chr&gt; | IdModEnseñanza &lt;int&gt; | Modalidad &lt;chr&gt; | ModEnseñanza &lt;chr&gt; |\n",
       "|---|---|---|---|---|---|---|---|---|---|---|---|---|---|---|---|---|---|---|---|---|---|\n",
       "| 175599 | 175599 | 9009816 | VICTORIA | VICTORIA | 3153 | N | ROTATIVO | 1 - A Cs. Soc y Hum 485/10C | Primer Trimestre  | 1132136 | ... | 7426 | 105975 | SECUNDARIO | 1 | 3625 | 5 | N | 13 | NULL | S/D |\n",
       "| 175600 | 175600 | 9009816 | VICTORIA | VICTORIA | 3153 | N | ROTATIVO | 1 - A Cs. Soc y Hum 485/10C | Primer Trimestre  | 1132136 | ... | 7426 | 105975 | SECUNDARIO | 1 | 3625 | 5 | N | 13 | NULL | S/D |\n",
       "| 175601 | 175601 | 9009816 | VICTORIA | VICTORIA | 3153 | N | ROTATIVO | 1 - A Cs. Soc y Hum 485/10C | Primer Trimestre  | 1132136 | ... | 7426 | 105975 | SECUNDARIO | 1 | 3625 | 5 | N | 13 | NULL | S/D |\n",
       "| 175602 | 175602 | 9009816 | VICTORIA | VICTORIA | 3153 | N | ROTATIVO | 1 - A Cs. Soc y Hum 485/10C | Primer Trimestre  | 1132136 | ... | 7426 | 105975 | SECUNDARIO | 1 | 3625 | 5 | N | 13 | NULL | S/D |\n",
       "| 175603 | 175603 | 9009816 | VICTORIA | VICTORIA | 3153 | N | ROTATIVO | 1 - A Cs. Soc y Hum 485/10C | Primer Trimestre  | 1132136 | ... | 7426 | 105975 | SECUNDARIO | 1 | 3625 | 5 | N | 13 | NULL | S/D |\n",
       "| 175604 | 175604 | 9009816 | VICTORIA | VICTORIA | 3153 | N | ROTATIVO | 1 - A Cs. Soc y Hum 485/10C | Primer Trimestre  | 1132136 | ... | 7426 | 105975 | SECUNDARIO | 1 | 3625 | 5 | N | 13 | NULL | S/D |\n",
       "| 175605 | 175605 | 9009816 | VICTORIA | VICTORIA | 3153 | N | ROTATIVO | 1 - A Cs. Soc y Hum 485/10C | Primer Trimestre  | 1132136 | ... | 7426 | 105975 | SECUNDARIO | 1 | 3625 | 5 | N | 13 | NULL | S/D |\n",
       "| 175606 | 175606 | 9009816 | VICTORIA | VICTORIA | 3153 | N | ROTATIVO | 1 - A Cs. Soc y Hum 485/10C | Primer Trimestre  | 1132136 | ... | 7426 | 105975 | SECUNDARIO | 1 | 3625 | 5 | N | 13 | NULL | S/D |\n",
       "| 175607 | 175607 | 9009816 | VICTORIA | VICTORIA | 3153 | N | ROTATIVO | 1 - A Cs. Soc y Hum 485/10C | Primer Trimestre  | 1132136 | ... | 7426 | 105975 | SECUNDARIO | 1 | 3625 | 5 | N | 13 | NULL | S/D |\n",
       "| 251801 | 251801 | 9009816 | VICTORIA | VICTORIA | 3153 | N | ROTATIVO | 1 - A Cs. Soc y Hum 485/10C | Segundo Trimestre | 1132136 | ... | 7426 | 105975 | SECUNDARIO | 2 | 3625 | 5 | N | 13 | NULL | S/D |\n",
       "| 251802 | 251802 | 9009816 | VICTORIA | VICTORIA | 3153 | N | ROTATIVO | 1 - A Cs. Soc y Hum 485/10C | Segundo Trimestre | 1132136 | ... | 7426 | 105975 | SECUNDARIO | 2 | 3625 | 5 | N | 13 | NULL | S/D |\n",
       "| 251803 | 251803 | 9009816 | VICTORIA | VICTORIA | 3153 | N | ROTATIVO | 1 - A Cs. Soc y Hum 485/10C | Segundo Trimestre | 1132136 | ... | 7426 | 105975 | SECUNDARIO | 2 | 3625 | 5 | N | 13 | NULL | S/D |\n",
       "| 314659 | 314659 | 9009816 | VICTORIA | VICTORIA | 3153 | N | ROTATIVO | 1 - A Cs. Soc y Hum 485/10C | Tercer Trimestre  | 1132136 | ... | 7426 | 105975 | SECUNDARIO | 3 | 3625 | 5 | N | 13 | NULL | S/D |\n",
       "| 314660 | 314660 | 9009816 | VICTORIA | VICTORIA | 3153 | N | ROTATIVO | 1 - A Cs. Soc y Hum 485/10C | Tercer Trimestre  | 1132136 | ... | 7426 | 105975 | SECUNDARIO | 3 | 3625 | 5 | N | 13 | NULL | S/D |\n",
       "\n"
      ],
      "text/plain": [
       "       X      CodigoUnicoEscolar departamento localidad CodigoPostal EsPrivada\n",
       "175599 175599 9009816            VICTORIA     VICTORIA  3153         N        \n",
       "175600 175600 9009816            VICTORIA     VICTORIA  3153         N        \n",
       "175601 175601 9009816            VICTORIA     VICTORIA  3153         N        \n",
       "175602 175602 9009816            VICTORIA     VICTORIA  3153         N        \n",
       "175603 175603 9009816            VICTORIA     VICTORIA  3153         N        \n",
       "175604 175604 9009816            VICTORIA     VICTORIA  3153         N        \n",
       "175605 175605 9009816            VICTORIA     VICTORIA  3153         N        \n",
       "175606 175606 9009816            VICTORIA     VICTORIA  3153         N        \n",
       "175607 175607 9009816            VICTORIA     VICTORIA  3153         N        \n",
       "251801 251801 9009816            VICTORIA     VICTORIA  3153         N        \n",
       "251802 251802 9009816            VICTORIA     VICTORIA  3153         N        \n",
       "251803 251803 9009816            VICTORIA     VICTORIA  3153         N        \n",
       "314659 314659 9009816            VICTORIA     VICTORIA  3153         N        \n",
       "314660 314660 9009816            VICTORIA     VICTORIA  3153         N        \n",
       "       turno    curso                       periodoEvaluatorio idalumno ...\n",
       "175599 ROTATIVO 1 - A Cs. Soc y Hum 485/10C Primer Trimestre   1132136  ...\n",
       "175600 ROTATIVO 1 - A Cs. Soc y Hum 485/10C Primer Trimestre   1132136  ...\n",
       "175601 ROTATIVO 1 - A Cs. Soc y Hum 485/10C Primer Trimestre   1132136  ...\n",
       "175602 ROTATIVO 1 - A Cs. Soc y Hum 485/10C Primer Trimestre   1132136  ...\n",
       "175603 ROTATIVO 1 - A Cs. Soc y Hum 485/10C Primer Trimestre   1132136  ...\n",
       "175604 ROTATIVO 1 - A Cs. Soc y Hum 485/10C Primer Trimestre   1132136  ...\n",
       "175605 ROTATIVO 1 - A Cs. Soc y Hum 485/10C Primer Trimestre   1132136  ...\n",
       "175606 ROTATIVO 1 - A Cs. Soc y Hum 485/10C Primer Trimestre   1132136  ...\n",
       "175607 ROTATIVO 1 - A Cs. Soc y Hum 485/10C Primer Trimestre   1132136  ...\n",
       "251801 ROTATIVO 1 - A Cs. Soc y Hum 485/10C Segundo Trimestre  1132136  ...\n",
       "251802 ROTATIVO 1 - A Cs. Soc y Hum 485/10C Segundo Trimestre  1132136  ...\n",
       "251803 ROTATIVO 1 - A Cs. Soc y Hum 485/10C Segundo Trimestre  1132136  ...\n",
       "314659 ROTATIVO 1 - A Cs. Soc y Hum 485/10C Tercer Trimestre   1132136  ...\n",
       "314660 ROTATIVO 1 - A Cs. Soc y Hum 485/10C Tercer Trimestre   1132136  ...\n",
       "       idSubOrganizacion idDivision NivelEnseñanza orden idOrganizaciones Nivel\n",
       "175599 7426              105975     SECUNDARIO     1     3625             5    \n",
       "175600 7426              105975     SECUNDARIO     1     3625             5    \n",
       "175601 7426              105975     SECUNDARIO     1     3625             5    \n",
       "175602 7426              105975     SECUNDARIO     1     3625             5    \n",
       "175603 7426              105975     SECUNDARIO     1     3625             5    \n",
       "175604 7426              105975     SECUNDARIO     1     3625             5    \n",
       "175605 7426              105975     SECUNDARIO     1     3625             5    \n",
       "175606 7426              105975     SECUNDARIO     1     3625             5    \n",
       "175607 7426              105975     SECUNDARIO     1     3625             5    \n",
       "251801 7426              105975     SECUNDARIO     2     3625             5    \n",
       "251802 7426              105975     SECUNDARIO     2     3625             5    \n",
       "251803 7426              105975     SECUNDARIO     2     3625             5    \n",
       "314659 7426              105975     SECUNDARIO     3     3625             5    \n",
       "314660 7426              105975     SECUNDARIO     3     3625             5    \n",
       "       esMultiaño IdModEnseñanza Modalidad ModEnseñanza\n",
       "175599 N          13             NULL      S/D         \n",
       "175600 N          13             NULL      S/D         \n",
       "175601 N          13             NULL      S/D         \n",
       "175602 N          13             NULL      S/D         \n",
       "175603 N          13             NULL      S/D         \n",
       "175604 N          13             NULL      S/D         \n",
       "175605 N          13             NULL      S/D         \n",
       "175606 N          13             NULL      S/D         \n",
       "175607 N          13             NULL      S/D         \n",
       "251801 N          13             NULL      S/D         \n",
       "251802 N          13             NULL      S/D         \n",
       "251803 N          13             NULL      S/D         \n",
       "314659 N          13             NULL      S/D         \n",
       "314660 N          13             NULL      S/D         "
      ]
     },
     "metadata": {},
     "output_type": "display_data"
    },
    {
     "data": {
      "text/html": [
       "<style>\n",
       ".list-inline {list-style: none; margin:0; padding: 0}\n",
       ".list-inline>li {display: inline-block}\n",
       ".list-inline>li:not(:last-child)::after {content: \"\\00b7\"; padding: 0 .5ex}\n",
       "</style>\n",
       "<ol class=list-inline><li>'Comun'</li><li>'Escuelas NINA'</li><li>'Artistica'</li><li>'Ed.Especial'</li><li>'Adultos'</li><li>'Técnica'</li><li>'Agrotécnica'</li><li>'Cap Tecnica Priv'</li></ol>\n"
      ],
      "text/latex": [
       "\\begin{enumerate*}\n",
       "\\item 'Comun'\n",
       "\\item 'Escuelas NINA'\n",
       "\\item 'Artistica'\n",
       "\\item 'Ed.Especial'\n",
       "\\item 'Adultos'\n",
       "\\item 'Técnica'\n",
       "\\item 'Agrotécnica'\n",
       "\\item 'Cap Tecnica Priv'\n",
       "\\end{enumerate*}\n"
      ],
      "text/markdown": [
       "1. 'Comun'\n",
       "2. 'Escuelas NINA'\n",
       "3. 'Artistica'\n",
       "4. 'Ed.Especial'\n",
       "5. 'Adultos'\n",
       "6. 'Técnica'\n",
       "7. 'Agrotécnica'\n",
       "8. 'Cap Tecnica Priv'\n",
       "\n",
       "\n"
      ],
      "text/plain": [
       "[1] \"Comun\"            \"Escuelas NINA\"    \"Artistica\"        \"Ed.Especial\"     \n",
       "[5] \"Adultos\"          \"Técnica\"          \"Agrotécnica\"      \"Cap Tecnica Priv\""
      ]
     },
     "metadata": {},
     "output_type": "display_data"
    }
   ],
   "source": [
    "unique(Victoria$ModEnseñanza) #verificamos los distintos tipos de modos de enseñanza\n",
    "#nos encontramos con datos incompletos, vamos a intentar reemplazar esos datos para no perderlos\n",
    "Victoria[Victoria$ModEnseñanza == 'S/D',] #buscamos todas las filas que le falten el dato sobre la modalidad de enseñanza\n",
    "#todos los alumnos pertenecen a una secundaria comun, por eso se remplazan los datos para no perderlos\n",
    "Victoria <- Victoria %>% mutate(ModEnseñanza = if_else(ModEnseñanza == \"S/D\",\"Comun\", ModEnseñanza))\n",
    "unique(Victoria$ModEnseñanza) #ya no quedan datos incompletos"
   ]
  },
  {
   "cell_type": "code",
   "execution_count": 153,
   "id": "5a8a7455-991a-4217-b7cc-ab3c82b9cf64",
   "metadata": {},
   "outputs": [],
   "source": [
    "#ahora podemos dividir el dataset en dos\n",
    "Victoria_primaria <- filter(Victoria, NivelEnseñanza == \"PRIMARIO\" & ModEnseñanza == \"Comun\") #se guardan los alumnos que cursan la primaria\n",
    "Victoria_secundaria <- filter(Victoria, NivelEnseñanza == \"SECUNDARIO\" & ModEnseñanza == \"Comun\" | ModEnseñanza == \"Técnica\" | ModEnseñanza ==\"Agrotécnica\") #se guardan los alumnos que cursan la secundaria"
   ]
  },
  {
   "cell_type": "code",
   "execution_count": 154,
   "id": "77e79846-3d78-4bd5-bb78-2a39a6761800",
   "metadata": {},
   "outputs": [
    {
     "data": {
      "text/html": [
       "44"
      ],
      "text/latex": [
       "44"
      ],
      "text/markdown": [
       "44"
      ],
      "text/plain": [
       "[1] 44"
      ]
     },
     "metadata": {},
     "output_type": "display_data"
    },
    {
     "data": {
      "text/html": [
       "1261"
      ],
      "text/latex": [
       "1261"
      ],
      "text/markdown": [
       "1261"
      ],
      "text/plain": [
       "[1] 1261"
      ]
     },
     "metadata": {},
     "output_type": "display_data"
    },
    {
     "data": {
      "text/html": [
       "21"
      ],
      "text/latex": [
       "21"
      ],
      "text/markdown": [
       "21"
      ],
      "text/plain": [
       "[1] 21"
      ]
     },
     "metadata": {},
     "output_type": "display_data"
    },
    {
     "data": {
      "text/html": [
       "578"
      ],
      "text/latex": [
       "578"
      ],
      "text/markdown": [
       "578"
      ],
      "text/plain": [
       "[1] 578"
      ]
     },
     "metadata": {},
     "output_type": "display_data"
    }
   ],
   "source": [
    "length(unique(Victoria_primaria$CodigoUnicoEscolar)) #cantidad de escuelas primarias en Victoria\n",
    "length(unique(primaria_2023$CUE)) #total de escuelas primarias\n",
    "length(unique(Victoria_secundaria$CodigoUnicoEscolar))#cantidad de escuelas secundarias en Victoria\n",
    "length(unique(secundaria_2023$CUE))#total de escuelas secundarias"
   ]
  },
  {
   "cell_type": "code",
   "execution_count": 170,
   "id": "8f404d3f-1bd5-45ff-bf66-3a67f2b98c1b",
   "metadata": {},
   "outputs": [
    {
     "data": {
      "text/plain": [
       "\n",
       "                       Ac.en Lengua y Cs. Sociales \n",
       "                                                 6 \n",
       "                  Ac.en Matemática y Cs. Naturales \n",
       "                                                 6 \n",
       "       Acompañamiento a matematica y cs. Naturales \n",
       "                                                30 \n",
       "                         Acompañamiento al Estudio \n",
       "                                               240 \n",
       "                         ACOMPAÑAMIENTO AL ESTUDIO \n",
       "                                               389 \n",
       "                  Acompañamiento al Estudio Lengua \n",
       "                                               199 \n",
       "              Acompañamiento al Estudio Matemática \n",
       "                                               199 \n",
       "               Acompañamiento al Estudio Naturales \n",
       "                                               199 \n",
       "                Acompañamiento al Estudio Sociales \n",
       "                                               199 \n",
       "             Acompañamiento lengua y. Cs. Sociales \n",
       "                                                30 \n",
       "                                    ARTES VISUALES \n",
       "                                             11182 \n",
       "                                        Catequesis \n",
       "                                               617 \n",
       "                                        CATEQUESIS \n",
       "                                               601 \n",
       "                                CIENCIAS NATURALES \n",
       "                                             11177 \n",
       "                                 CIENCIAS SOCIALES \n",
       "                                             11053 \n",
       "                                           DEPORTE \n",
       "                                                 6 \n",
       "                                            E.D.I. \n",
       "                                               577 \n",
       "                                               EDI \n",
       "                                               845 \n",
       "                                  EDUCACION FISICA \n",
       "                                             11141 \n",
       "                                 EDUCACION MUSICAL \n",
       "                                             11029 \n",
       "                             EDUCACION TECNOLOGICA \n",
       "                                             10868 \n",
       "                                 IDIOMA EXTRANJERO \n",
       "                                                65 \n",
       "                                       INFORMATICA \n",
       "                                               695 \n",
       "                                       INFORMÁTICA \n",
       "                                                63 \n",
       "                                            INGLES \n",
       "                                              2388 \n",
       "                                            Inglés \n",
       "                                               935 \n",
       "                                            INGLÉS \n",
       "                                               608 \n",
       "                                          ITALIANO \n",
       "                                               479 \n",
       "    Laborat.en el aula para enseñar/aprender ccias \n",
       "                                               817 \n",
       "    LABORAT.EN EL AULA PARA ENSEÑAR/APRENDER CCIAS \n",
       "                                                24 \n",
       "                             Laboratori en el Aula \n",
       "                                                22 \n",
       "                            Laboratorio en el Aula \n",
       "                                                60 \n",
       "                                            LENGUA \n",
       "                                             11152 \n",
       "                          LENGUA EXTRANJERA INGLES \n",
       "                                                25 \n",
       "                          LENGUA EXTRANJERA INGLÉS \n",
       "                                                12 \n",
       "                                        LITERATURA \n",
       "                                                 6 \n",
       "                                        MATEMATICA \n",
       "                                             11161 \n",
       "                  T/A ESTUDIO (LENGUA-CS SOCIALES) \n",
       "                                                34 \n",
       "             T/A ESTUDIO (MATEMATICA-CS NATURALES) \n",
       "                                                34 \n",
       "        TALLER  DE A.  AL ESTUDIO  LENG. Y CS. SOC \n",
       "                                                13 \n",
       "                                 TALLER  DE TEATRO \n",
       "                                                34 \n",
       "                                  Taller  Folklore \n",
       "                                                30 \n",
       "     TALLER A. AL ESTUDIO EN LENGUA Y CS. SOCIALES \n",
       "                                                71 \n",
       "TALLER A. AL ESTUDIO EN MATEMÁTICA Y CS. NATURALES \n",
       "                                                71 \n",
       " Taller Acompañamiento  Matemática y Cs. Naturales \n",
       "                                                12 \n",
       "  Taller Acompañamiento Lengua y Ciencias Sociales \n",
       "                                                12 \n",
       "                                   TALLER CREATIVO \n",
       "                                               425 \n",
       "          TALLER DE A.  AL ESTUDIO MAT. Y CS. NAT. \n",
       "                                                15 \n",
       "                                 TALLER DE AJEDREZ \n",
       "                                               129 \n",
       "                        TALLER DE ARTE Y RECICLADO \n",
       "                                                48 \n",
       "                          TALLER DE ARTES VISUALES \n",
       "                                               205 \n",
       "                      TALLER DE DANZAS FOLKLÓRICAS \n",
       "                                                46 \n",
       "                                 TALLER DE DEPORTE \n",
       "                                               204 \n",
       "      TALLER DE DEPORTE       Y EXPRESIÓN CORPORAL \n",
       "                                                47 \n",
       "                                Taller de Folklore \n",
       "                                                12 \n",
       "                                TALLER DE FOLKLORE \n",
       "                                                34 \n",
       "                                  TALLER DE INGLES \n",
       "                                               200 \n",
       "                                  Taller de Inglés \n",
       "                                                82 \n",
       "                                  TALLER DE INGLÉS \n",
       "                                               786 \n",
       "                    TALLER DE L. EXTRANJERA INGLÉS \n",
       "                                                14 \n",
       "                             TALLER DE LABORATORIO \n",
       "                                               200 \n",
       "                TALLER DE LENGUA EXTRANJERA INGLES \n",
       "                                               142 \n",
       "                TALLER DE LENGUA EXTRANJERA:INGLÉS \n",
       "                                                70 \n",
       "          Taller de Lenguaje de las Artes Visuales \n",
       "                                               364 \n",
       "                                  TALLER DE MUSICA \n",
       "                                               199 \n",
       "                                  Taller de teatro \n",
       "                                                30 \n",
       "                                  Taller de Teatro \n",
       "                                                12 \n",
       "                                  TALLER DE TEATRO \n",
       "                                               312 \n",
       "                                     TALLER DE TIC \n",
       "                                               199 \n",
       "           Taller de TiC y Recreacion de la imagen \n",
       "                                                30 \n",
       "           Taller de TIC y Recreación de la Imagen \n",
       "                                                12 \n",
       "           TALLER DE TIC Y RECREACIÓN DE LA IMAGEN \n",
       "                                                34 \n",
       "                                     Taller Ingles \n",
       "                                               273 \n",
       "                                     TALLER INGLES \n",
       "                                                34 \n",
       "                                TALLER LABORATORIO \n",
       "                                               577 \n",
       "                 Taller Lengua Extranjera (Ingles) \n",
       "                                                12 \n",
       "                                     TALLER TEATRO \n",
       "                                               439 \n",
       "                                        TALLER TIC \n",
       "                                               401 \n",
       "                      TALLER VIDA EN LA NATURALEZA \n",
       "                                               205 \n",
       "                                            TEATRO \n",
       "                                                 4 \n",
       "                                               TIC \n",
       "                                               467 \n",
       "                                              TICS \n",
       "                                               174 \n",
       "                                   Tiempo de Hogar \n",
       "                                                63 "
      ]
     },
     "metadata": {},
     "output_type": "display_data"
    }
   ],
   "source": [
    "table(Victoria_primaria$asignatura) #matemática es la materia con mas frecuencias"
   ]
  },
  {
   "cell_type": "code",
   "execution_count": 155,
   "id": "54ddc2fd-a597-437c-941f-e326ff74b784",
   "metadata": {},
   "outputs": [
    {
     "data": {
      "text/html": [
       "603"
      ],
      "text/latex": [
       "603"
      ],
      "text/markdown": [
       "603"
      ],
      "text/plain": [
       "[1] 603"
      ]
     },
     "metadata": {},
     "output_type": "display_data"
    }
   ],
   "source": [
    "Victoria_1Grado <- filter(Victoria_primaria, str_detect(curso, \"^1\")) #extraemos todos los estudiantes de primer grado\n",
    "cantidad_matricula <- 0 #inicializamos una variable\n",
    "\n",
    "for (alumno in unique(Victoria_1Grado$idalumno)) { #por cada alumno de primer grado, extraeremos sus notas en Matemática\n",
    "  nota1 <- filter(Victoria_1Grado, idalumno == alumno & asignatura == \"MATEMATICA\" & periodoEvaluatorio == \"Primer Trimestre\")$nota\n",
    "  nota2 <- filter(Victoria_1Grado, idalumno == alumno & asignatura == \"MATEMATICA\" & periodoEvaluatorio == \"Segundo Trimestre\")$nota\n",
    "  nota3 <- filter(Victoria_1Grado, idalumno == alumno & asignatura == \"MATEMATICA\" & periodoEvaluatorio == \"Tercer Trimestre\")$nota\n",
    "  \n",
    "  if (length(nota1) > 0 & length(nota2) > 0 & length(nota3) > 0) { #si las notas estan\n",
    "    cantidad_matricula <- cantidad_matricula + 1 #incrementamos la cantidad de matriculados\n",
    "  }\n",
    "}\n",
    "\n",
    "cantidad_matricula"
   ]
  },
  {
   "cell_type": "code",
   "execution_count": 156,
   "id": "5c2b91ff-a3d9-46fe-9b5c-e29b6094f75e",
   "metadata": {},
   "outputs": [
    {
     "data": {
      "text/html": [
       "514"
      ],
      "text/latex": [
       "514"
      ],
      "text/markdown": [
       "514"
      ],
      "text/plain": [
       "[1] 514"
      ]
     },
     "metadata": {},
     "output_type": "display_data"
    }
   ],
   "source": [
    "Victoria_2Grado <- filter(Victoria_primaria, str_detect(curso, \"^2\")) #extraemos todos los estudiantes de segundo grado\n",
    "cantidad_matricula <- 0 #inicializamos una variable\n",
    "\n",
    "for (alumno in unique(Victoria_2Grado$idalumno)) { #por cada alumno de primer grado, extraeremos sus notas en Matemática\n",
    "  nota1 <- filter(Victoria_2Grado, idalumno == alumno & asignatura == \"MATEMATICA\" & periodoEvaluatorio == \"Primer Trimestre\")$nota\n",
    "  nota2 <- filter(Victoria_2Grado, idalumno == alumno & asignatura == \"MATEMATICA\" & periodoEvaluatorio == \"Segundo Trimestre\")$nota\n",
    "  nota3 <- filter(Victoria_2Grado, idalumno == alumno & asignatura == \"MATEMATICA\" & periodoEvaluatorio == \"Tercer Trimestre\")$nota\n",
    "  \n",
    "  if (length(nota1) > 0 & length(nota2) > 0 & length(nota3) > 0) { #si las notas estan\n",
    "    cantidad_matricula <- cantidad_matricula + 1 #incrementamos la cantidad de matriculados\n",
    "  }\n",
    "}\n",
    "\n",
    "cantidad_matricula"
   ]
  },
  {
   "cell_type": "code",
   "execution_count": 157,
   "id": "cdd66e21-f2c6-41ab-99d7-de98d96f723e",
   "metadata": {},
   "outputs": [
    {
     "data": {
      "text/html": [
       "571"
      ],
      "text/latex": [
       "571"
      ],
      "text/markdown": [
       "571"
      ],
      "text/plain": [
       "[1] 571"
      ]
     },
     "metadata": {},
     "output_type": "display_data"
    }
   ],
   "source": [
    "Victoria_3Grado <- filter(Victoria_primaria, str_detect(curso, \"^3\")) #extraemos todos los estudiantes de tercero grado\n",
    "cantidad_matricula <- 0 #inicializamos una variable\n",
    "\n",
    "for (alumno in unique(Victoria_3Grado$idalumno)) { #por cada alumno de primer grado, extraeremos sus notas en Matemática\n",
    "  nota1 <- filter(Victoria_3Grado, idalumno == alumno & asignatura == \"MATEMATICA\" & periodoEvaluatorio == \"Primer Trimestre\")$nota\n",
    "  nota2 <- filter(Victoria_3Grado, idalumno == alumno & asignatura == \"MATEMATICA\" & periodoEvaluatorio == \"Segundo Trimestre\")$nota\n",
    "  nota3 <- filter(Victoria_3Grado, idalumno == alumno & asignatura == \"MATEMATICA\" & periodoEvaluatorio == \"Tercer Trimestre\")$nota\n",
    "  \n",
    "  if (length(nota1) > 0 & length(nota2) > 0 & length(nota3) > 0) { #si las notas estan\n",
    "    cantidad_matricula <- cantidad_matricula + 1 #incrementamos la cantidad de matriculados\n",
    "  }\n",
    "}\n",
    "\n",
    "cantidad_matricula"
   ]
  },
  {
   "cell_type": "code",
   "execution_count": 158,
   "id": "6cf360ab-55b5-435e-9ff7-9520c7a7ddaa",
   "metadata": {},
   "outputs": [
    {
     "data": {
      "text/html": [
       "472"
      ],
      "text/latex": [
       "472"
      ],
      "text/markdown": [
       "472"
      ],
      "text/plain": [
       "[1] 472"
      ]
     },
     "metadata": {},
     "output_type": "display_data"
    }
   ],
   "source": [
    "Victoria_4Grado <- filter(Victoria_primaria, str_detect(curso, \"^4\")) #extraemos todos los estudiantes de cuarto grado\n",
    "cantidad_matricula <- 0 #inicializamos una variable\n",
    "\n",
    "for (alumno in unique(Victoria_4Grado$idalumno)) { #por cada alumno de primer grado, extraeremos sus notas en Matemática\n",
    "  nota1 <- filter(Victoria_4Grado, idalumno == alumno & asignatura == \"MATEMATICA\" & periodoEvaluatorio == \"Primer Trimestre\")$nota\n",
    "  nota2 <- filter(Victoria_4Grado, idalumno == alumno & asignatura == \"MATEMATICA\" & periodoEvaluatorio == \"Segundo Trimestre\")$nota\n",
    "  nota3 <- filter(Victoria_4Grado, idalumno == alumno & asignatura == \"MATEMATICA\" & periodoEvaluatorio == \"Tercer Trimestre\")$nota\n",
    "  \n",
    "  if (length(nota1) > 0 & length(nota2) > 0 & length(nota3) > 0) { #si las notas estan\n",
    "    cantidad_matricula <- cantidad_matricula + 1 #incrementamos la cantidad de matriculados\n",
    "  }\n",
    "}\n",
    "\n",
    "cantidad_matricula"
   ]
  },
  {
   "cell_type": "code",
   "execution_count": 159,
   "id": "2a11355d-e7f3-4446-afc7-3b01b50f3b5d",
   "metadata": {},
   "outputs": [
    {
     "data": {
      "text/html": [
       "522"
      ],
      "text/latex": [
       "522"
      ],
      "text/markdown": [
       "522"
      ],
      "text/plain": [
       "[1] 522"
      ]
     },
     "metadata": {},
     "output_type": "display_data"
    }
   ],
   "source": [
    "Victoria_5Grado <- filter(Victoria_primaria, str_detect(curso, \"^5\")) #extraemos todos los estudiantes de quinto grado\n",
    "cantidad_matricula <- 0 #inicializamos una variable\n",
    "\n",
    "for (alumno in unique(Victoria_5Grado$idalumno)) { #por cada alumno de primer grado, extraeremos sus notas en Matemática\n",
    "  nota1 <- filter(Victoria_5Grado, idalumno == alumno & asignatura == \"MATEMATICA\" & periodoEvaluatorio == \"Primer Trimestre\")$nota\n",
    "  nota2 <- filter(Victoria_5Grado, idalumno == alumno & asignatura == \"MATEMATICA\" & periodoEvaluatorio == \"Segundo Trimestre\")$nota\n",
    "  nota3 <- filter(Victoria_5Grado, idalumno == alumno & asignatura == \"MATEMATICA\" & periodoEvaluatorio == \"Tercer Trimestre\")$nota\n",
    "  \n",
    "  if (length(nota1) > 0 & length(nota2) > 0 & length(nota3) > 0) { #si las notas estan\n",
    "    cantidad_matricula <- cantidad_matricula + 1 #incrementamos la cantidad de matriculados\n",
    "  }\n",
    "}\n",
    "\n",
    "cantidad_matricula"
   ]
  },
  {
   "cell_type": "code",
   "execution_count": 160,
   "id": "22e13f49-8a7a-42ba-bd58-7699c22fdc62",
   "metadata": {},
   "outputs": [
    {
     "data": {
      "text/html": [
       "484"
      ],
      "text/latex": [
       "484"
      ],
      "text/markdown": [
       "484"
      ],
      "text/plain": [
       "[1] 484"
      ]
     },
     "metadata": {},
     "output_type": "display_data"
    }
   ],
   "source": [
    "Victoria_6Grado <- filter(Victoria_primaria, str_detect(curso, \"^6\")) #extraemos todos los estudiantes de sexto grado\n",
    "cantidad_matricula <- 0 #inicializamos una variable\n",
    "\n",
    "for (alumno in unique(Victoria_6Grado$idalumno)) { #por cada alumno de primer grado, extraeremos sus notas en Matemática\n",
    "  nota1 <- filter(Victoria_6Grado, idalumno == alumno & asignatura == \"MATEMATICA\" & periodoEvaluatorio == \"Primer Trimestre\")$nota\n",
    "  nota2 <- filter(Victoria_6Grado, idalumno == alumno & asignatura == \"MATEMATICA\" & periodoEvaluatorio == \"Segundo Trimestre\")$nota\n",
    "  nota3 <- filter(Victoria_6Grado, idalumno == alumno & asignatura == \"MATEMATICA\" & periodoEvaluatorio == \"Tercer Trimestre\")$nota\n",
    "  \n",
    "  if (length(nota1) > 0 & length(nota2) > 0 & length(nota3) > 0) { #si las notas estan\n",
    "    cantidad_matricula <- cantidad_matricula + 1 #incrementamos la cantidad de matriculados\n",
    "  }\n",
    "}\n",
    "\n",
    "cantidad_matricula"
   ]
  },
  {
   "cell_type": "code",
   "execution_count": 161,
   "id": "7610ae5b-a421-422b-b4bb-35b5b03c2bc1",
   "metadata": {},
   "outputs": [
    {
     "data": {
      "text/html": [
       "0"
      ],
      "text/latex": [
       "0"
      ],
      "text/markdown": [
       "0"
      ],
      "text/plain": [
       "[1] 0"
      ]
     },
     "metadata": {},
     "output_type": "display_data"
    }
   ],
   "source": [
    "Victoria_7Grado <- filter(Victoria_primaria, str_detect(curso, \"^7\")) #extraemos todos los estudiantes de septimo grado\n",
    "cantidad_matricula <- 0 #inicializamos una variable\n",
    "\n",
    "for (alumno in unique(Victoria_1Grado$idalumno)) { #por cada alumno de primer grado, extraeremos sus notas en Matemática\n",
    "  nota1 <- filter(Victoria_7Grado, idalumno == alumno & asignatura == \"MATEMATICA\" & periodoEvaluatorio == \"Primer Trimestre\")$nota\n",
    "  nota2 <- filter(Victoria_7Grado, idalumno == alumno & asignatura == \"MATEMATICA\" & periodoEvaluatorio == \"Segundo Trimestre\")$nota\n",
    "  nota3 <- filter(Victoria_7Grado, idalumno == alumno & asignatura == \"MATEMATICA\" & periodoEvaluatorio == \"Tercer Trimestre\")$nota\n",
    "  \n",
    "  if (length(nota1) > 0 & length(nota2) > 0 & length(nota3) > 0) { #si las notas estan\n",
    "    cantidad_matricula <- cantidad_matricula + 1 #incrementamos la cantidad de matriculados\n",
    "  }\n",
    "}\n",
    "\n",
    "cantidad_matricula"
   ]
  },
  {
   "cell_type": "code",
   "execution_count": 162,
   "id": "33095ad9-e8b5-4fb6-90b4-562a9c4dc27b",
   "metadata": {},
   "outputs": [
    {
     "data": {
      "text/plain": [
       "\n",
       "                                            ANALISIS MATEMATICO \n",
       "                                                            136 \n",
       "                                                 ARTES VISUALES \n",
       "                                                           7876 \n",
       "                                              AUDIOPERCEPTIVA I \n",
       "                                                             12 \n",
       "                                             AUDIOPERCEPTIVA II \n",
       "                                                             31 \n",
       "                                            AUDIOPERCEPTIVA III \n",
       "                                                              8 \n",
       "                                                     AUTO C.A.D \n",
       "                                                             75 \n",
       "                                             BIDIMENSION I Y II \n",
       "                                                            148 \n",
       "                                                       BIOLOGIA \n",
       "                                                           8778 \n",
       "                                                       Biología \n",
       "                                                             15 \n",
       "                                                       BIOLOGÍA \n",
       "                                                             31 \n",
       "                                                          C.A.D \n",
       "                                                             51 \n",
       "                                                    CARPINTERÍA \n",
       "                                                             14 \n",
       "                                                     CATEQUESIS \n",
       "                                                            427 \n",
       "                                         CEREALES Y OLEAGINOSAS \n",
       "                                                             48 \n",
       "                                           CIENCIA DE LA TIERRA \n",
       "                                                            108 \n",
       "                                          CIENCIAS DE LA TIERRA \n",
       "                                                            289 \n",
       "                                        CIENCIAS DE LA TIERRA I \n",
       "                                                            172 \n",
       "                                  CIENCIAS NATURALES (BIOLOGIA) \n",
       "                                                            828 \n",
       "                            CIENCIAS NATURALES (FISICO QUIMICA) \n",
       "                                                            735 \n",
       "              CIENCIAS NATURALES APLICADAS A PRO. AGROPECUARIOS \n",
       "                                                             42 \n",
       "                                    CIENCIAS NATURALES BIOLOGIA \n",
       "                                                            627 \n",
       "                                      CIENCIAS NATURALES FISICO \n",
       "                                                             28 \n",
       "                              CIENCIAS NATURALES FISICO-QUIMICA \n",
       "                                                            505 \n",
       "                                  CIENCIAS SOCIALES (GEOGRAFIA) \n",
       "                                                           1445 \n",
       "                                   CIENCIAS SOCIALES (HISTORIA) \n",
       "                                                           1445 \n",
       "                                         CIRCUITOS TURISTICOS I \n",
       "                                                             17 \n",
       "                                    CIRCUITOS TURISTICOS I y II \n",
       "                                                            139 \n",
       "                                        CIRCUITOS TURISTICOS II \n",
       "                                                             12 \n",
       "                                                   COMUNICACION \n",
       "                                                             48 \n",
       "                   COMUNICACION, EDUCACION Y NUEVAS TECNOLOGIAS \n",
       "                                                             21 \n",
       "                                                         CORO I \n",
       "                                                             13 \n",
       "                                                        CORO II \n",
       "                                                             14 \n",
       "                                                       CORO III \n",
       "                                                              6 \n",
       "                                             CULTIVO DE PLANTAS \n",
       "                                                             18 \n",
       "                                         CULTURA Y COMUNICACION \n",
       "                                                             28 \n",
       "                                             CULTURA Y ESTETICA \n",
       "                                                             97 \n",
       "                            CULTURAS Y ESTÉTICAS CONTEMPORANEAS \n",
       "                                                             42 \n",
       "                          CULTURAS Y ESTETICAS CONTEMPORANEAS I \n",
       "                                                            228 \n",
       "                CULTURAS Y ESTETICAS CONTEMPORANEAS I, II y III \n",
       "                                                             74 \n",
       "                CULTURAS Y ESTETICAS CONTEMPORANEAS I, II Y III \n",
       "                                                              7 \n",
       "                              DEPORTE, ACTIVIDAD FÍSICA Y SALUD \n",
       "                                                             30 \n",
       "                                                        DERECHO \n",
       "                                                            207 \n",
       "                                              DERECHO COMERCIAL \n",
       "                                                            403 \n",
       "                           DESARROLLO DE LOCALIDADES TURISTICAS \n",
       "                                                             97 \n",
       "                                             DIBUJO DE MAQUINAS \n",
       "                                                             75 \n",
       "                                                 DIBUJO TECNICO \n",
       "                                                           1467 \n",
       "                             DIBUJO Y COMPOSICION VISUAL I y II \n",
       "                                                             40 \n",
       "     DIBUJO Y COMPOSICION VISUAL I y II - FAPIC  ARTES VISUALES \n",
       "                                                             21 \n",
       "                                                       ECOLOGIA \n",
       "                                                            487 \n",
       "                                                       ECONOMIA \n",
       "                                                           1605 \n",
       "                                                       ECONOMÍA \n",
       "                                                             11 \n",
       "                                                    ECONOMIA II \n",
       "                                                            185 \n",
       "                                    EDI CONTAMINACION AMBIENTAL \n",
       "                                                             30 \n",
       "             EDI: COOPERATIVISMO Y FORMAS DE ORGANIZACION LABOR \n",
       "                                                             30 \n",
       "                EDI: ECONOMIA REGIONAL Y ADMIN AGROPECUARIA POL \n",
       "                                                             27 \n",
       "                                       EDI: MATEMATICA APLICADA \n",
       "                                                             30 \n",
       "                                               EDUCACION FISICA \n",
       "                                                          10828 \n",
       "                                               EDUCACIÓN FISICA \n",
       "                                                             19 \n",
       "                                               EDUCACIÓN FÍSICA \n",
       "                                                              8 \n",
       "                                          EDUCACION TECNOLOGICA \n",
       "                                                           6845 \n",
       "                                               ELECTRO MECÁNICA \n",
       "                                                             17 \n",
       "                                                  ELECTROTECNIA \n",
       "                                                             51 \n",
       "                                            EMPRESAS TURISTICAS \n",
       "                                                             87 \n",
       "                ESPACIO DE LA ORIENTACION EN CIENCIAS NATURALES \n",
       "                                                             33 \n",
       "                                           F. ÉTICA Y CIUDADANA \n",
       "                                                              4 \n",
       "                                                      FILOSOFIA \n",
       "                                                           1296 \n",
       "                                                   FILOSOFIA II \n",
       "                                                            175 \n",
       "                                                         FISICA \n",
       "                                                           3741 \n",
       "                                                         Física \n",
       "                                                             16 \n",
       "                                                FISICA APLICADA \n",
       "                                                             86 \n",
       "                                               FISICA Y QUIMICA \n",
       "                                                           5145 \n",
       "                                               FÍSICA Y QUÍMICA \n",
       "                                                             28 \n",
       "                                                   FLORICULTURA \n",
       "                                                             64 \n",
       "                                       FORMACION COOPERATIVISTA \n",
       "                                                             36 \n",
       "                                     FORMACIÓN ÉTCA Y CIUDADANA \n",
       "                                                              2 \n",
       "                                    FORMACION ETICA Y CIUDADANA \n",
       "                                                          11078 \n",
       "                                    Formación Ética y Ciudadana \n",
       "                                                             16 \n",
       "                                    FORMACIÓN ÉTICA Y CIUDADANA \n",
       "                                                             21 \n",
       "                           FORMULACION DE PROYECTOS PRODUCTIVOS \n",
       "                                                             48 \n",
       "                                                        FRANCES \n",
       "                                                            144 \n",
       "                                                        Francés \n",
       "                                                             27 \n",
       "                                                        FRANCÉS \n",
       "                                                            605 \n",
       "                                                      GEOGRAFIA \n",
       "                                                           9548 \n",
       "                                                      Geografía \n",
       "                                                             15 \n",
       "                                                      GEOGRAFÍA \n",
       "                                                             27 \n",
       "                                            GEOGRAFIA AMBIENTAL \n",
       "                                                            175 \n",
       "                             GESTION DE LA PRODUCCION ARTISTICA \n",
       "                                                             25 \n",
       "                              HIDRAULICA Y MAQUINAS HIDRAULICAS \n",
       "                                                             75 \n",
       "                                                       Historia \n",
       "                                                             29 \n",
       "                                                       HISTORIA \n",
       "                                                           9537 \n",
       "                             HISTORIA SOCIO CULTURAL DEL ARTE I \n",
       "                                                            121 \n",
       "                   HISTORIA SOCIO CULTURAL DEL ARTE I, II Y III \n",
       "                                                             84 \n",
       "                                        INDUSTRIA CARNE PORCINA \n",
       "                                                             48 \n",
       "                 INDUSTRIA DE PROD. LACTEOS DE BOVINO O CAPRINO \n",
       "                                                             48 \n",
       "                     INFRAESTRUCTURA TURISTICA Y TURISMO TERMAL \n",
       "                                                             87 \n",
       "                   INFRAESTRUCTURA TURISTICA Y TURISMO TERMAL I \n",
       "                                                             17 \n",
       "                  INFRAESTRUCTURA TURISTICA Y TURISMO TERMAL II \n",
       "                                                             10 \n",
       "                                                         INGLÉS \n",
       "                                                             30 \n",
       "                                    INSTALACIONES AGROPECUARIAS \n",
       "                                                             44 \n",
       "                                                  INSTRUMENTO I \n",
       "                                                             12 \n",
       "                                                 INSTRUMENTO II \n",
       "                                                             15 \n",
       "                                                INSTRUMENTO III \n",
       "                                                              8 \n",
       "                             INTROD. INVESTIGACION C. NATURALES \n",
       "                                                             30 \n",
       "                               INTRODUCCION A LA ADMINISTRACION \n",
       "                                                            486 \n",
       "                                 INTRODUCCION A LA HOSPITALIDAD \n",
       "                                                             83 \n",
       "          INTRODUCCION A LA INVESTIGACION EN CIENCIAS NATURALES \n",
       "                                                            453 \n",
       "                                        INTRODUCCION AL TURISMO \n",
       "                                                             89 \n",
       "                                                       ITALIANO \n",
       "                                                            124 \n",
       "                                          ITINERARIOS PROYECTOS \n",
       "                                                            445 \n",
       "                                                     JARDINERIA \n",
       "                                                             18 \n",
       "                   LABORATORIO DE ENSAYOS DE MAQUINAS Y MOTORES \n",
       "                                                             51 \n",
       "                            LABORATORIO DE ENSAYOS INDUSTRIALES \n",
       "                                                             75 \n",
       "                                   LABORATORIO DE MICROBIOLOGIA \n",
       "                                                             54 \n",
       "     LABORATORIO DEL COLOR E INVESTIGACION DE MATERIALES I Y II \n",
       "                                                             96 \n",
       "                                        LEGISLACION DEL TRABAJO \n",
       "                                                             75 \n",
       "                      LEGISLACION LABORAL Y PRACTICA IMPOSITIVA \n",
       "                                                            406 \n",
       "                                                         Lengua \n",
       "                                                             16 \n",
       "                                              LENGUA EXTRANJERA \n",
       "                                                            370 \n",
       "                                     LENGUA EXTRANJERA (INGLES) \n",
       "                                                           1654 \n",
       "                                           LENGUA EXTRANJERA II \n",
       "                                                             18 \n",
       "                                  LENGUA EXTRANJERA II (INGLES) \n",
       "                                                             18 \n",
       "                                            LENGUA Y LITERATURA \n",
       "                                                           8801 \n",
       "                                      LENGUAJE CORPORAL Y DANZA \n",
       "                                                            182 \n",
       "                             LENGUAJE CORPORAL Y DANZA O TEATRO \n",
       "                                                             24 \n",
       "                                LENGUAJE Y PRODUCCION MUSICAL I \n",
       "                                                            169 \n",
       "                               LENGUAJE Y PRODUCCION MUSICAL II \n",
       "                                                            151 \n",
       "                                 LENGUAJE Y PRODUCCION VISUAL I \n",
       "                                                            154 \n",
       "                                LENGUAJE Y PRODUCCION VISUAL II \n",
       "                                                            150 \n",
       "                                            LENGUAS EXTRANJERAS \n",
       "                                                           8883 \n",
       "                                           LITERATURA ARGENTINA \n",
       "                                                           1196 \n",
       "                                     LITERATURA LATINOAMERICANA \n",
       "                                                           1220 \n",
       "                                                  MACROECONOMIA \n",
       "                                                            405 \n",
       "                          MANTENIMIENTO Y REPARACION DE EQUIPOS \n",
       "                                                             51 \n",
       "                                              MAQUINAS TERMICAS \n",
       "                                                             51 \n",
       "                             MAQUINAS Y ELEMENTOS DE TRANSPORTE \n",
       "                                                             51 \n",
       "                                             MAQUINAS Y EQUIPOS \n",
       "                                                             44 \n",
       "                                        MAQUINAS Y HERRAMIENTAS \n",
       "                                                             17 \n",
       "                     MARCO JURIDICO DE LOS PROCESOS PRODUCTIVOS \n",
       "                                                             27 \n",
       "                                            MARKETING TURISTICO \n",
       "                                                             24 \n",
       "                                                      Matemaica \n",
       "                                                             16 \n",
       "                                                     MATEMATICA \n",
       "                                                          11207 \n",
       "                                                    MATEMÁTICAS \n",
       "                                                             29 \n",
       "                             MECANICA APLICADA A LOS MECANISMOS \n",
       "                                                             75 \n",
       "                                               MECANICA TECNICA \n",
       "                                                             51 \n",
       "                                            MEDIO AMBIENTE SANO \n",
       "                                                             90 \n",
       "                 METALURGIA Y MATERIALES PARA CONSTR. MECANICAS \n",
       "                                                             51 \n",
       "                                METODOLOGIA DE LA INVESTIGACION \n",
       "                                                            175 \n",
       "                                                  MICROBIOLOGIA \n",
       "                                                             54 \n",
       "                                                  MICROECONOMIA \n",
       "                                                            377 \n",
       "                                                         MUSICA \n",
       "                                                           7873 \n",
       "                                                         MÚSICA \n",
       "                                                             27 \n",
       "                                               MUSICA POPULAR I \n",
       "                                                              1 \n",
       "                                             MUSICA POPULAR III \n",
       "                                                              2 \n",
       "                                                OFICINA TECNICA \n",
       "                                                             17 \n",
       "                                         OFIMATICA Y LA WEB 2.0 \n",
       "                                                            277 \n",
       "                       OPINION PUBLICA Y MEDIOS DE COMUNICACION \n",
       "                                                             21 \n",
       "                   ORGANIZACION INDUSTRIAL Y RELACIONES HUMANAS \n",
       "                                                             66 \n",
       "                              ORGANIZACION Y CONTROL INDUSTRIAL \n",
       "                                                             51 \n",
       "               ORGANIZACION Y GESTION DE EMPRESAS AGROPECUARIAS \n",
       "                                                             48 \n",
       "ORGANIZACION Y GESTION PARA LA INTERPRETACION DE MUSICA EN VIVO \n",
       "                                                              2 \n",
       "                                                      PORTUGUES \n",
       "                                                             78 \n",
       "                                                      Portugués \n",
       "                                                            142 \n",
       "                                                      PORTUGUÉS \n",
       "                                                            534 \n",
       "                          PRACTICA DE CONJUNTO - INSTRUMENTAL I \n",
       "                                                             11 \n",
       "                         PRACTICA DE CONJUNTO - INSTRUMENTAL II \n",
       "                                                             14 \n",
       "                        PRACTICA DE CONJUNTO - INSTRUMENTAL III \n",
       "                                                              6 \n",
       "                    PRACTICA DE CONJUNTO VOCAL - INSTRUMENTAL I \n",
       "                                                              1 \n",
       "                  PRACTICA DE CONJUNTO VOCAL - INSTRUMENTAL III \n",
       "                                                              2 \n",
       "                                     PRACTICAS COMUNICACIONALES \n",
       "                                                             49 \n",
       "        PRACTICAS CORPORALES Y DEPORTIVAS EN EL MEDIO NATURAL I \n",
       "                                                             30 \n",
       "       PRACTICAS CORPORALES Y DEPORTIVAS EN EL MEDIO NATURAL II \n",
       "                                                             24 \n",
       "                                           PRACTICAS EDUCATIVAS \n",
       "                                                           1301 \n",
       "                           PRACTICAS GIMNASTICAS Y EXPRESIVAS I \n",
       "                                                             30 \n",
       "                          PRACTICAS GIMNASTICAS Y EXPRESIVAS II \n",
       "                                                             36 \n",
       "                 PRACTICAS LUDOMOTRICES Y DEPORTIVAS I II Y III \n",
       "                                                             97 \n",
       "                             PRINCIPIOS BASICOS DE CONTABILIDAD \n",
       "                                                            378 \n",
       "                PROBLEMATICAS CONTEMPORANEAS Y EDUCACION FISICA \n",
       "                                                             35 \n",
       "                                           PROCESOS PRODUCTIVOS \n",
       "                                                             44 \n",
       "                                PROCESOS Y OPERACIONES QUIMICAS \n",
       "                                                             36 \n",
       "                                   PRODUCCION BOVINO PARA CARNE \n",
       "                                                             78 \n",
       "                                         PRODUCCION DE CAPRINOS \n",
       "                                                             48 \n",
       "                                           PRODUCCION DE CERDOS \n",
       "                                                             27 \n",
       "                                         PRODUCCION DE FORRAJES \n",
       "                                                             30 \n",
       "                                PRODUCCION DE PLANTAS EN VIVERO \n",
       "                                                             42 \n",
       "                                           PRODUCCION HORTICOLA \n",
       "                                                             27 \n",
       "                PRODUCCION MULTIMEDIAL EN LENGUAJES ART. I y II \n",
       "                                                             59 \n",
       "                 PRODUCCION MULTIMEDIAL EN LENGUAJES ARTISTICOS \n",
       "                                                             25 \n",
       "               PRODUCCION MULTIMEDIAL EN LENGUAJES ARTISTICOS I \n",
       "                                                            121 \n",
       "                             PRODUCCIONES ARTISTICAS INTEGRADAS \n",
       "                                                            150 \n",
       "                                                       PROYECTO \n",
       "                                                             51 \n",
       "                       PROYECTO DE PRACTICAS PROFESIONALIZANTES \n",
       "                                                            384 \n",
       "                                 PROYECTO ORIENTACION Y TUTORIA \n",
       "                                                             53 \n",
       "                                PROYECTO PRODUCTIVO TECNOLOGICO \n",
       "                                                             30 \n",
       "                PROYECTO, UNIDADES E INSTALACIONES INDUSTRIALES \n",
       "                                                             17 \n",
       "                                                      PROYECTOS \n",
       "                                                             49 \n",
       "                                                     PSICOLOGIA \n",
       "                                                           1666 \n",
       "                                                        QUIMICA \n",
       "                                                           3722 \n",
       "                                  QUIMICA ANALITICA CUALITATIVA \n",
       "                                                             54 \n",
       "                                 QUIMICA ANALITICA CUANTITATIVA \n",
       "                                                             66 \n",
       "                                                QUIMICA GENERAL \n",
       "                                                             86 \n",
       "                                             QUIMICA INDUSTRIAL \n",
       "                                                             36 \n",
       "                                    QUIMICA INDUSTRIAL APLICADA \n",
       "                                                             44 \n",
       "                                             QUIMICA INORGANICA \n",
       "                                                             86 \n",
       "                                               QUIMICA ORGANICA \n",
       "                                                             36 \n",
       "                                            QUIMICA ORGANICA II \n",
       "                                                             66 \n",
       "                                             RELACIONES HUMANAS \n",
       "                                                             51 \n",
       "                 RESISTENCIA Y CALCULO DE ELEMENTOS DE MAQUINAS \n",
       "                                                             75 \n",
       "                                         RESPONSABILIDAD SOCIAL \n",
       "                                                             59 \n",
       "                              SECTOR DE TECNOLOGIAS ESPECIFICAS \n",
       "                                                             96 \n",
       "                                 SEGURIDAD E HIGIENE INDUSTRIAL \n",
       "                                                            105 \n",
       "                              SEMINARIO DE PRACTICA PROFESIONAL \n",
       "                                                             11 \n",
       "                                SISTEMA DE INFORMACION CONTABLE \n",
       "                                                            406 \n",
       "                                                     SOCIOLOGIA \n",
       "                                                            187 \n",
       "                                                      Soldadura \n",
       "                                                             17 \n",
       "                                                            STE \n",
       "                                                            182 \n",
       "                                               STE - APICULTURA \n",
       "                                                             34 \n",
       "                                               STE - AVICULTURA \n",
       "                                                             51 \n",
       "                                                 STE - CAPRINOS \n",
       "                                                             68 \n",
       "                                              STE - CUNICULTURA \n",
       "                                                             77 \n",
       "                                                   STE - HUERTA \n",
       "                                                             63 \n",
       "                                            STE - METALMECANICA \n",
       "                                                             35 \n",
       "                                            TALLER  CARPINTERIA \n",
       "                                                             29 \n",
       "                                   TALLER  INSTRUMENTAL QUIMICO \n",
       "                                                             24 \n",
       "                                              TALLER APICULTURA \n",
       "                                                             33 \n",
       "                  TALLER AUTOMATIZACION DE PROC.  INDUST. PROG. \n",
       "                                                             45 \n",
       "                                             TALLER CARPINTERÍA \n",
       "                                                            258 \n",
       "                                             TALLER COMPUTACIÓN \n",
       "                                                            207 \n",
       "                                        TALLER DE BIDIMENSION I \n",
       "                                                             67 \n",
       "                                       TALLER DE BIDIMENSION II \n",
       "                                                             25 \n",
       "                                                TALLER DE C.A.D \n",
       "                                                             18 \n",
       "                                                TALLER DE C.N.C \n",
       "                                                             17 \n",
       "                                                  TALLER DE CAD \n",
       "                                                             64 \n",
       "                                          TALLER DE CARPINTERÍA \n",
       "                                                             22 \n",
       "                                            TALLER DE FUNDICIÓN \n",
       "                                                             22 \n",
       "                              TALLER DE INSTRUMENTAL DE QUÍMICA \n",
       "                                                             21 \n",
       "                                 TALLER DE INSTRUMENTAL QUIMICO \n",
       "                                                             29 \n",
       "                   TALLER DE MANTENIMIENTO ELECTRICO Y MECÁNICO \n",
       "                                                             14 \n",
       "                              TALLER DE MAQUINAS Y HERRAMIENTAS \n",
       "                                                             23 \n",
       "                                            TALLER DE SOLDADURA \n",
       "                                                             17 \n",
       "                                  TALLER DE TRIDIMENSION I Y II \n",
       "                                                             92 \n",
       "                                            TALLER ELECTRICIDAD \n",
       "                                                            318 \n",
       "                                               TALLER FUNDICIÓN \n",
       "                                                             55 \n",
       "                                    TALLER HERRERIA Y SOLDADURA \n",
       "                                                             27 \n",
       "                                    TALLER HERRERÍA Y SOLDADURA \n",
       "                                                             23 \n",
       "                                    TALLER INSTRUMENTAL QUÍMICA \n",
       "                                                             28 \n",
       "                                 TALLER MAQUINAS Y HERRAMIENTAS \n",
       "                                                             25 \n",
       "                                          TALLER METAL MECÁNICA \n",
       "                                                             53 \n",
       "                                           TALLER METALMECANICA \n",
       "                                                            229 \n",
       "                                         TALLER MODULAR QUIMICA \n",
       "                                                             69 \n",
       "                                      TALLER MOLDEO Y FUNDICIÓN \n",
       "                                                             28 \n",
       "                                       TALLER OVINOS Y CAPRINOS \n",
       "                                                              1 \n",
       "                                        TALLER: ELECTROMECANICA \n",
       "                                                             26 \n",
       "                                   TALLER: HERRERIA Y SOLDADURA \n",
       "                                                             25 \n",
       "                                TALLER: MAQUINAS Y HERRAMIENTAS \n",
       "                                                             26 \n",
       "                                                         TEATRO \n",
       "                                                            135 \n",
       "                                                     TECNOLOGÍA \n",
       "                                                             27 \n",
       "                                          TECNOLOGIA DE CONTROL \n",
       "                                                             30 \n",
       "                                          TECNOLOGIA DE GESTION \n",
       "                                                             30 \n",
       "                 TECNOLOGIA DE LA COMUNICACION Y LA INFORMATICA \n",
       "                                                             30 \n",
       "                    TECNOLOGIA DE LA INFORMACION Y COMUNICACION \n",
       "                                                           1131 \n",
       "                 TECNOLOGIA DE LA INFORMACION Y LA COMUNICACION \n",
       "                                                            443 \n",
       "                                    TECNOLOGIA DE LOS ALIMENTOS \n",
       "                                                             66 \n",
       "                                   TECNOLOGIA DE LOS MATERIALES \n",
       "                                                             25 \n",
       "                                                   TECNOLOGIA I \n",
       "                                                             51 \n",
       "                                                  TECNOLOGIA II \n",
       "                                                             75 \n",
       "                                                 TECNOLOGIA III \n",
       "                                                             51 \n",
       "                TECNOLOGIAS DE LA INFORMACION Y LA COMUNICACION \n",
       "                                                             71 \n",
       "                         TEORIA Y GESTION DE LAS ORGANIZACIONES \n",
       "                                                            610 \n",
       "                       TEORIA Y GESTION DE LAS ORGANIZACIONES I \n",
       "                                                             75 \n",
       "                      TEORIA Y GESTION DE LAS ORGANIZACIONES II \n",
       "                                                             93 \n",
       "                              TEORIAS DE LA COMUNICACION I Y II \n",
       "                                                             49 \n",
       "                                                  TERMODINAMICA \n",
       "                                                             75 \n",
       "                          TRABAJOS PRACTICOS DE FISICA APLICADA \n",
       "                                                             87 \n",
       "             TRABAJOS PRACTICOS DE PROC. Y OPERACIONES QUIMICAS \n",
       "                                                             54 \n",
       "                        TRABAJOS PRACTICOS DE QUIMICA ANALITICA \n",
       "                                                             54 \n",
       "               TRABAJOS PRACTICOS DE QUIMICA ANALITICA CUANTIT. \n",
       "                                                             66 \n",
       "                          TRABAJOS PRACTICOS DE QUIMICA GENERAL \n",
       "                                                             86 \n",
       "                       TRABAJOS PRACTICOS DE QUIMICA INDUSTRIAL \n",
       "                                                             54 \n",
       "              TRABAJOS PRACTICOS DE QUIMICA INDUSTRIAL APLICADA \n",
       "                                                             66 \n",
       "                       TRABAJOS PRACTICOS DE QUIMICA INORGANICA \n",
       "                                                             87 \n",
       "                         TRABAJOS PRACTICOS DE QUIMICA ORGANICA \n",
       "                                                             54 \n",
       "                      TRABAJOS PRACTICOS DE QUIMICA ORGANICA II \n",
       "                                                             66 \n",
       "                 TRABAJOS PRACTICOS DE TECNOL. DE LOS ALIMENTOS \n",
       "                                                             66 \n",
       "                                            TRIDIMENSION I Y II \n",
       "                                                            146 \n",
       "                                                        Tutoría \n",
       "                                                             13 \n",
       "                                                       TUTORIAS \n",
       "                                                            418 \n",
       "                                         TUTORIAS DISCIPLINARES \n",
       "                                                             77 "
      ]
     },
     "metadata": {},
     "output_type": "display_data"
    }
   ],
   "source": [
    "table(Victoria_secundaria$asignatura) #nos fijamos cual es la materia que mas frecuencias tiene para usarla como materia troncal"
   ]
  },
  {
   "cell_type": "code",
   "execution_count": 163,
   "id": "1aa100fa-ec32-4600-8e81-c93c20130013",
   "metadata": {},
   "outputs": [
    {
     "data": {
      "text/html": [
       "587"
      ],
      "text/latex": [
       "587"
      ],
      "text/markdown": [
       "587"
      ],
      "text/plain": [
       "[1] 587"
      ]
     },
     "metadata": {},
     "output_type": "display_data"
    }
   ],
   "source": [
    "Victoria_1año <- filter(Victoria_secundaria, str_detect(curso, \"^1\")) #extraemos todos los estudiantes de primer año\n",
    "cantidad_matricula <- 0 #inicializamos una variable\n",
    "\n",
    "for (alumno in unique(Victoria_1año$idalumno)) { #por cada alumno de primer grado, extraeremos sus notas en Matemática\n",
    "  nota1 <- filter(Victoria_1año, idalumno == alumno & asignatura == \"MATEMATICA\" & periodoEvaluatorio == \"Primer Trimestre\")$nota\n",
    "  nota2 <- filter(Victoria_1año, idalumno == alumno & asignatura == \"MATEMATICA\" & periodoEvaluatorio == \"Segundo Trimestre\")$nota\n",
    "  nota3 <- filter(Victoria_1año, idalumno == alumno & asignatura == \"MATEMATICA\" & periodoEvaluatorio == \"Tercer Trimestre\")$nota\n",
    "  \n",
    "  if (length(nota1) > 0 & length(nota2) > 0 & length(nota3) > 0) { #si las notas estan\n",
    "    cantidad_matricula <- cantidad_matricula + 1 #incrementamos la cantidad de matriculados\n",
    "  }\n",
    "}\n",
    "\n",
    "cantidad_matricula"
   ]
  },
  {
   "cell_type": "code",
   "execution_count": 164,
   "id": "1977297c-0a88-4b3d-a156-30bdd2672712",
   "metadata": {},
   "outputs": [
    {
     "data": {
      "text/html": [
       "604"
      ],
      "text/latex": [
       "604"
      ],
      "text/markdown": [
       "604"
      ],
      "text/plain": [
       "[1] 604"
      ]
     },
     "metadata": {},
     "output_type": "display_data"
    }
   ],
   "source": [
    "Victoria_2año <- filter(Victoria_secundaria, str_detect(curso, \"^2\")) #extraemos todos los estudiantes de segundo año\n",
    "cantidad_matricula <- 0 #inicializamos una variable\n",
    "\n",
    "for (alumno in unique(Victoria_2año$idalumno)) { #por cada alumno de primer grado, extraeremos sus notas en Matemática\n",
    "  nota1 <- filter(Victoria_2año, idalumno == alumno & asignatura == \"MATEMATICA\" & periodoEvaluatorio == \"Primer Trimestre\")$nota\n",
    "  nota2 <- filter(Victoria_2año, idalumno == alumno & asignatura == \"MATEMATICA\" & periodoEvaluatorio == \"Segundo Trimestre\")$nota\n",
    "  nota3 <- filter(Victoria_2año, idalumno == alumno & asignatura == \"MATEMATICA\" & periodoEvaluatorio == \"Tercer Trimestre\")$nota\n",
    "  \n",
    "  if (length(nota1) > 0 & length(nota2) > 0 & length(nota3) > 0) { #si las notas estan\n",
    "    cantidad_matricula <- cantidad_matricula + 1 #incrementamos la cantidad de matriculados\n",
    "  }\n",
    "}\n",
    "\n",
    "cantidad_matricula"
   ]
  },
  {
   "cell_type": "code",
   "execution_count": 165,
   "id": "18a90a46-4f40-4bcf-a58e-c32f31aaadb4",
   "metadata": {},
   "outputs": [
    {
     "data": {
      "text/html": [
       "538"
      ],
      "text/latex": [
       "538"
      ],
      "text/markdown": [
       "538"
      ],
      "text/plain": [
       "[1] 538"
      ]
     },
     "metadata": {},
     "output_type": "display_data"
    }
   ],
   "source": [
    "Victoria_3año <- filter(Victoria_secundaria, str_detect(curso, \"^3\")) #extraemos todos los estudiantes de tercer año\n",
    "cantidad_matricula <- 0 #inicializamos una variable\n",
    "\n",
    "for (alumno in unique(Victoria_3año$idalumno)) { #por cada alumno de primer grado, extraeremos sus notas en Matemática\n",
    "  nota1 <- filter(Victoria_3año, idalumno == alumno & asignatura == \"MATEMATICA\" & periodoEvaluatorio == \"Primer Trimestre\")$nota\n",
    "  nota2 <- filter(Victoria_3año, idalumno == alumno & asignatura == \"MATEMATICA\" & periodoEvaluatorio == \"Segundo Trimestre\")$nota\n",
    "  nota3 <- filter(Victoria_3año, idalumno == alumno & asignatura == \"MATEMATICA\" & periodoEvaluatorio == \"Tercer Trimestre\")$nota\n",
    "  \n",
    "  if (length(nota1) > 0 & length(nota2) > 0 & length(nota3) > 0) { #si las notas estan\n",
    "    cantidad_matricula <- cantidad_matricula + 1 #incrementamos la cantidad de matriculados\n",
    "  }\n",
    "}\n",
    "\n",
    "cantidad_matricula"
   ]
  },
  {
   "cell_type": "code",
   "execution_count": 166,
   "id": "502ab3f3-aac8-43a6-87c9-30a340043f3c",
   "metadata": {},
   "outputs": [
    {
     "data": {
      "text/html": [
       "469"
      ],
      "text/latex": [
       "469"
      ],
      "text/markdown": [
       "469"
      ],
      "text/plain": [
       "[1] 469"
      ]
     },
     "metadata": {},
     "output_type": "display_data"
    }
   ],
   "source": [
    "Victoria_4año <- filter(Victoria_secundaria, str_detect(curso, \"^4\")) #extraemos todos los estudiantes de cuarto año\n",
    "cantidad_matricula <- 0 #inicializamos una variable\n",
    "\n",
    "for (alumno in unique(Victoria_4año$idalumno)) { #por cada alumno de primer grado, extraeremos sus notas en Matemática\n",
    "  nota1 <- filter(Victoria_4año, idalumno == alumno & asignatura == \"MATEMATICA\" & periodoEvaluatorio == \"Primer Trimestre\")$nota\n",
    "  nota2 <- filter(Victoria_4año, idalumno == alumno & asignatura == \"MATEMATICA\" & periodoEvaluatorio == \"Segundo Trimestre\")$nota\n",
    "  nota3 <- filter(Victoria_4año, idalumno == alumno & asignatura == \"MATEMATICA\" & periodoEvaluatorio == \"Tercer Trimestre\")$nota\n",
    "  \n",
    "  if (length(nota1) > 0 & length(nota2) > 0 & length(nota3) > 0) { #si las notas estan\n",
    "    cantidad_matricula <- cantidad_matricula + 1 #incrementamos la cantidad de matriculados\n",
    "  }\n",
    "}\n",
    "\n",
    "cantidad_matricula"
   ]
  },
  {
   "cell_type": "code",
   "execution_count": 167,
   "id": "a24eebfc-9e4c-455b-ab99-5509e16c5985",
   "metadata": {},
   "outputs": [
    {
     "data": {
      "text/html": [
       "341"
      ],
      "text/latex": [
       "341"
      ],
      "text/markdown": [
       "341"
      ],
      "text/plain": [
       "[1] 341"
      ]
     },
     "metadata": {},
     "output_type": "display_data"
    }
   ],
   "source": [
    "Victoria_5año <- filter(Victoria_secundaria, str_detect(curso, \"^5\")) #extraemos todos los estudiantes de quinto año\n",
    "cantidad_matricula <- 0 #inicializamos una variable\n",
    "\n",
    "for (alumno in unique(Victoria_5año$idalumno)) { #por cada alumno de primer grado, extraeremos sus notas en Matemática\n",
    "  nota1 <- filter(Victoria_5año, idalumno == alumno & asignatura == \"MATEMATICA\" & periodoEvaluatorio == \"Primer Trimestre\")$nota\n",
    "  nota2 <- filter(Victoria_5año, idalumno == alumno & asignatura == \"MATEMATICA\" & periodoEvaluatorio == \"Segundo Trimestre\")$nota\n",
    "  nota3 <- filter(Victoria_5año, idalumno == alumno & asignatura == \"MATEMATICA\" & periodoEvaluatorio == \"Tercer Trimestre\")$nota\n",
    "  \n",
    "  if (length(nota1) > 0 & length(nota2) > 0 & length(nota3) > 0) { #si las notas estan\n",
    "    cantidad_matricula <- cantidad_matricula + 1 #incrementamos la cantidad de matriculados\n",
    "  }\n",
    "}\n",
    "\n",
    "cantidad_matricula"
   ]
  },
  {
   "cell_type": "code",
   "execution_count": 168,
   "id": "0db7c9e2-fda0-4ae3-8986-55ecf818871c",
   "metadata": {},
   "outputs": [
    {
     "data": {
      "text/html": [
       "321"
      ],
      "text/latex": [
       "321"
      ],
      "text/markdown": [
       "321"
      ],
      "text/plain": [
       "[1] 321"
      ]
     },
     "metadata": {},
     "output_type": "display_data"
    }
   ],
   "source": [
    "Victoria_6año <- filter(Victoria_secundaria, str_detect(curso, \"^6\")) #extraemos todos los estudiantes de sexto año\n",
    "cantidad_matricula <- 0 #inicializamos una variable\n",
    "\n",
    "for (alumno in unique(Victoria_6año$idalumno)) { #por cada alumno de primer grado, extraeremos sus notas en Matemática\n",
    "  nota1 <- filter(Victoria_6año, idalumno == alumno & asignatura == \"MATEMATICA\" & periodoEvaluatorio == \"Primer Trimestre\")$nota\n",
    "  nota2 <- filter(Victoria_6año, idalumno == alumno & asignatura == \"MATEMATICA\" & periodoEvaluatorio == \"Segundo Trimestre\")$nota\n",
    "  nota3 <- filter(Victoria_6año, idalumno == alumno & asignatura == \"MATEMATICA\" & periodoEvaluatorio == \"Tercer Trimestre\")$nota\n",
    "  \n",
    "  if (length(nota1) > 0 & length(nota2) > 0 & length(nota3) > 0) { #si las notas estan\n",
    "    cantidad_matricula <- cantidad_matricula + 1 #incrementamos la cantidad de matriculados\n",
    "  }\n",
    "}\n",
    "\n",
    "cantidad_matricula"
   ]
  },
  {
   "cell_type": "code",
   "execution_count": 169,
   "id": "fe901fa6-5f40-45ff-9f31-9f9284afb24e",
   "metadata": {},
   "outputs": [
    {
     "data": {
      "text/html": [
       "14"
      ],
      "text/latex": [
       "14"
      ],
      "text/markdown": [
       "14"
      ],
      "text/plain": [
       "[1] 14"
      ]
     },
     "metadata": {},
     "output_type": "display_data"
    }
   ],
   "source": [
    "Victoria_7año <- filter(Victoria_secundaria, str_detect(curso, \"^7\")) #extraemos todos los estudiantes de septimo año\n",
    "cantidad_matricula <- 0 #inicializamos una variable\n",
    "\n",
    "for (alumno in unique(Victoria_7año$idalumno)) { #por cada alumno de primer grado, extraeremos sus notas en Matemática\n",
    "  nota1 <- filter(Victoria_7año, idalumno == alumno & asignatura == \"MATEMATICA\" & periodoEvaluatorio == \"Primer Trimestre\")$nota\n",
    "  nota2 <- filter(Victoria_7año, idalumno == alumno & asignatura == \"MATEMATICA\" & periodoEvaluatorio == \"Segundo Trimestre\")$nota\n",
    "  nota3 <- filter(Victoria_7año, idalumno == alumno & asignatura == \"MATEMATICA\" & periodoEvaluatorio == \"Tercer Trimestre\")$nota\n",
    "  \n",
    "  if (length(nota1) > 0 & length(nota2) > 0 & length(nota3) > 0) { #si las notas estan\n",
    "    cantidad_matricula <- cantidad_matricula + 1 #incrementamos la cantidad de matriculados\n",
    "  }\n",
    "}\n",
    "\n",
    "cantidad_matricula"
   ]
  },
  {
   "cell_type": "code",
   "execution_count": null,
   "id": "2ef9936b-b9e0-4ee6-96e2-a66ac02eff6a",
   "metadata": {},
   "outputs": [],
   "source": []
  }
 ],
 "metadata": {
  "kernelspec": {
   "display_name": "R",
   "language": "R",
   "name": "ir"
  },
  "language_info": {
   "codemirror_mode": "r",
   "file_extension": ".r",
   "mimetype": "text/x-r-source",
   "name": "R",
   "pygments_lexer": "r",
   "version": "4.1.3"
  }
 },
 "nbformat": 4,
 "nbformat_minor": 5
}
