{
 "cells": [
  {
   "cell_type": "code",
   "execution_count": 1,
   "id": "f564439c-2b45-4eec-81bb-7782b438ea98",
   "metadata": {},
   "outputs": [
    {
     "name": "stderr",
     "output_type": "stream",
     "text": [
      "\n",
      "Attaching package: 'dplyr'\n",
      "\n",
      "\n",
      "The following objects are masked from 'package:stats':\n",
      "\n",
      "    filter, lag\n",
      "\n",
      "\n",
      "The following objects are masked from 'package:base':\n",
      "\n",
      "    intersect, setdiff, setequal, union\n",
      "\n",
      "\n"
     ]
    }
   ],
   "source": [
    "library(nortest)\n",
    "library(readxl)\n",
    "library(dplyr)\n",
    "library(stringr)"
   ]
  },
  {
   "cell_type": "code",
   "execution_count": 2,
   "id": "4496d8d3-9e04-438c-9011-72fe2074f79d",
   "metadata": {},
   "outputs": [],
   "source": [
    "Victoria_primaria <- read_excel(\"C:/Users/ayrto/OneDrive/Escritorio/Exploración de Datos Multivariados/1 - Trabajo Practico/VICTORIA_BASE_PRIMARIA_LIMPIA.xlsx\")\n",
    "Victoria_secundaria <- read_excel(\"C:/Users/ayrto/OneDrive/Escritorio/Exploración de Datos Multivariados/1 - Trabajo Practico/VICTORIA_BASE_SECUNDARIA_LIMPIA.xlsx\")"
   ]
  },
  {
   "cell_type": "code",
   "execution_count": 5,
   "id": "7fb4353b-813a-4429-ae2b-54309932a118",
   "metadata": {},
   "outputs": [],
   "source": [
    "Victoria_primaria_tercero_publica <- filter(Victoria_primaria, asignatura == \"MATEMATICA\" & Año_curso == \"TERCERO\" & ModEnseñanza == \"Comun\" & EsPrivada == \"N\")\n",
    "Victoria_primaria_tercero_privada <- filter(Victoria_primaria, asignatura == \"MATEMATICA\" & Año_curso == \"TERCERO\" & ModEnseñanza == \"Comun\" & EsPrivada == \"S\")\n",
    "Victoria_primaria_tercero_tecnica <- filter(Victoria_primaria, asignatura == \"MATEMATICA\" & Año_curso == \"TERCERO\" & ModEnseñanza == \"Técnica\")"
   ]
  },
  {
   "cell_type": "code",
   "execution_count": 16,
   "id": "54cdb473-142d-45bc-9082-9ceb161e3ba3",
   "metadata": {},
   "outputs": [
    {
     "data": {
      "text/html": [
       "'MATEMATICA --&gt; TERCERO PUBLICA COMUN'"
      ],
      "text/latex": [
       "'MATEMATICA --> TERCERO PUBLICA COMUN'"
      ],
      "text/markdown": [
       "'MATEMATICA --&gt; TERCERO PUBLICA COMUN'"
      ],
      "text/plain": [
       "[1] \"MATEMATICA --> TERCERO PUBLICA COMUN\""
      ]
     },
     "metadata": {},
     "output_type": "display_data"
    },
    {
     "name": "stdout",
     "output_type": "stream",
     "text": [
      "[1] \"Promedio en Matemáticas: 7.48\"\n",
      "[1] \"Desviación estándar en Matemáticas: 1.28\"\n"
     ]
    },
    {
     "data": {
      "text/html": [
       "'MATEMATICA --&gt; TERCERO PRIVADA COMUN'"
      ],
      "text/latex": [
       "'MATEMATICA --> TERCERO PRIVADA COMUN'"
      ],
      "text/markdown": [
       "'MATEMATICA --&gt; TERCERO PRIVADA COMUN'"
      ],
      "text/plain": [
       "[1] \"MATEMATICA --> TERCERO PRIVADA COMUN\""
      ]
     },
     "metadata": {},
     "output_type": "display_data"
    },
    {
     "name": "stdout",
     "output_type": "stream",
     "text": [
      "[1] \"Promedio en Matemáticas: 8.49\"\n",
      "[1] \"Desviación estándar en Matemáticas: 0.93\"\n"
     ]
    },
    {
     "data": {
      "text/html": [
       "'MATEMATICA --&gt; TERCERO TÉCNICA'"
      ],
      "text/latex": [
       "'MATEMATICA --> TERCERO TÉCNICA'"
      ],
      "text/markdown": [
       "'MATEMATICA --&gt; TERCERO TÉCNICA'"
      ],
      "text/plain": [
       "[1] \"MATEMATICA --> TERCERO TÉCNICA\""
      ]
     },
     "metadata": {},
     "output_type": "display_data"
    },
    {
     "name": "stdout",
     "output_type": "stream",
     "text": [
      "[1] \"Promedio en Matemáticas: NaN\"\n",
      "[1] \"Desviación estándar en Matemáticas: NA\"\n"
     ]
    }
   ],
   "source": [
    "Prom_tercero_publica <- mean(Victoria_primaria_tercero_publica$Promedio, na.rm = TRUE)\n",
    "sd_tercero_publica <- sd(Victoria_primaria_tercero_publica$Promedio, na.rm = TRUE)\n",
    "\"MATEMATICA --> TERCERO PUBLICA COMUN\"\n",
    "print(paste(\"Promedio en Matemáticas:\", round(Prom_tercero_publica, 2)))\n",
    "print(paste(\"Desviación estándar en Matemáticas:\", round(sd_tercero_publica, 2)))\n",
    "\n",
    "Prom_tercero_privada <- mean(Victoria_primaria_tercero_privada$Promedio, na.rm = TRUE)\n",
    "sd_tercero_privada <- sd(Victoria_primaria_tercero_privada$Promedio, na.rm = TRUE)\n",
    "\"MATEMATICA --> TERCERO PRIVADA COMUN\"\n",
    "print(paste(\"Promedio en Matemáticas:\", round(Prom_tercero_privada, 2)))\n",
    "print(paste(\"Desviación estándar en Matemáticas:\", round(sd_tercero_privada, 2)))\n",
    "\n",
    "Prom_tercero_tecnica <- mean(Victoria_primaria_tercero_tecnica$Promedio, na.rm = TRUE)\n",
    "sd_tercero_tecnica <- sd(Victoria_primaria_tercero_tecnica$Promedio, na.rm = TRUE)\n",
    "\"MATEMATICA --> TERCERO TÉCNICA\"\n",
    "print(paste(\"Promedio en Matemáticas:\", round(Prom_tercero_tecnica, 2)))\n",
    "print(paste(\"Desviación estándar en Matemáticas:\", round(sd_tercero_tecnica, 2)))"
   ]
  },
  {
   "cell_type": "code",
   "execution_count": 15,
   "id": "86ace4c7-5d89-4342-9ad4-b0b8afe55a01",
   "metadata": {},
   "outputs": [
    {
     "name": "stdout",
     "output_type": "stream",
     "text": [
      "[1] -2.713903\n",
      "[1] -4.849316\n",
      "[1] NaN\n"
     ]
    }
   ],
   "source": [
    "promedio_muestra <- 4\n",
    "z_tercero_publica <- (promedio_muestra - Prom_tercero_publica)/sd_tercero_publica\n",
    "print(z_tercero_publica)\n",
    "\n",
    "z_tercero_privada <- (promedio_muestra - Prom_tercero_privada)/sd_tercero_privada\n",
    "print(z_tercero_privada)\n",
    "\n",
    "z_tercero_tecnica <- (promedio_muestra - Prom_tercero_tecnica)/sd_tercero_tecnica\n",
    "print(z_tercero_tecnica)"
   ]
  },
  {
   "cell_type": "code",
   "execution_count": 18,
   "id": "ccf0438b-e294-4afd-bb78-2e86657d08d7",
   "metadata": {},
   "outputs": [
    {
     "data": {
      "text/plain": [
       "\n",
       "9000291 9000753 9000756 9000759 9001791 9003555 9003561 9004011 9004017 9004020 \n",
       "      3      16      16      92       8       4      83      31      59      22 \n",
       "9005391 9005394 9005397 9005403 9005406 9006249 \n",
       "     30      42      33       1      80      44 "
      ]
     },
     "metadata": {},
     "output_type": "display_data"
    }
   ],
   "source": [
    "Victoria_primaria_primero <- filter(Victoria_primaria, asignatura == \"MATEMATICA\" & Año_curso == \"PRIMERO\")\n",
    "table(Victoria_primaria_primero$CodigoUnicoEscolar)"
   ]
  },
  {
   "cell_type": "code",
   "execution_count": 20,
   "id": "65707f4e-1e85-4a9f-92d2-0d22cb2f7b12",
   "metadata": {},
   "outputs": [
    {
     "data": {
      "image/png": "[encoded data removed]",
      "text/plain": [
       "Plot with title \"Histograma de los Promedios Colegio A\""
      ]
     },
     "metadata": {
      "image/png": {
       "height": 420,
       "width": 420
      }
     },
     "output_type": "display_data"
    },
    {
     "data": {
      "image/png": "[encoded data removed]",
      "text/plain": [
       "Plot with title \"Histograma de los Promedios Colegio B\""
      ]
     },
     "metadata": {
      "image/png": {
       "height": 420,
       "width": 420
      }
     },
     "output_type": "display_data"
    }
   ],
   "source": [
    "colegio_A <- filter(Victoria_primaria_primero, CodigoUnicoEscolar == \"9000759\")\n",
    "colegio_B <- filter(Victoria_primaria_primero, CodigoUnicoEscolar == \"9000753\")\n",
    "hist(colegio_A$Promedio, main = \"Histograma de los Promedios Colegio A\", xlab = \"Promedios\", ylab = \"Frecuencia\")\n",
    "hist(colegio_B$Promedio, main = \"Histograma de los Promedios Colegio B\", xlab = \"Promedios\", ylab = \"Frecuencia\")"
   ]
  },
  {
   "cell_type": "code",
   "execution_count": 23,
   "id": "33ea3442-26d8-4673-89b5-7fc942beb4e2",
   "metadata": {},
   "outputs": [
    {
     "name": "stdout",
     "output_type": "stream",
     "text": [
      "[1] \"Colegio_A: -2.99\"\n",
      "[1] \"Colegio_B: -2.02\"\n"
     ]
    }
   ],
   "source": [
    "calificacion = 4\n",
    "promedio_colegio_A <- mean(colegio_A$Promedio, na.rm = TRUE)\n",
    "sd_colegio_A <- sd(colegio_A$Promedio, na.rm = TRUE)\n",
    "z_colegio_A <- (calificacion - promedio_colegio_A)/sd_colegio_A\n",
    "print(paste(\"Colegio_A:\", round(z_colegio_A, 2)))\n",
    "\n",
    "promedio_colegio_B <- mean(colegio_B$Promedio, na.rm = TRUE)\n",
    "sd_colegio_B <- sd(colegio_B$Promedio, na.rm = TRUE)\n",
    "z_colegio_B <- (calificacion - promedio_colegio_B)/sd_colegio_B\n",
    "print(paste(\"Colegio_B:\", round(z_colegio_B, 2)))"
   ]
  },
  {
   "cell_type": "code",
   "execution_count": 34,
   "id": "9fa824df-3117-493e-a9ab-0c365ce157d7",
   "metadata": {},
   "outputs": [],
   "source": [
    "Victoria_primaria_primero_mat <- filter(Victoria_primaria, asignatura == \"MATEMATICA\" & Año_curso == \"PRIMERO\" & ModEnseñanza == \"Comun\")\n",
    "Victoria_primaria_primero_len <- filter(Victoria_primaria, asignatura == \"LENGUA\" & Año_curso == \"PRIMERO\" & ModEnseñanza == \"Comun\")"
   ]
  },
  {
   "cell_type": "code",
   "execution_count": 39,
   "id": "420030d2-1818-4e47-acfb-7d15ac75d88d",
   "metadata": {},
   "outputs": [
    {
     "name": "stderr",
     "output_type": "stream",
     "text": [
      "Warning message in ks.test(Victoria_primaria_primero_mat$Promedio, \"pnorm\"):\n",
      "\"ties should not be present for the Kolmogorov-Smirnov test\"\n"
     ]
    },
    {
     "data": {
      "text/plain": [
       "\n",
       "\tOne-sample Kolmogorov-Smirnov test\n",
       "\n",
       "data:  Victoria_primaria_primero_mat$Promedio\n",
       "D = 1, p-value < 2.2e-16\n",
       "alternative hypothesis: two-sided\n"
      ]
     },
     "metadata": {},
     "output_type": "display_data"
    },
    {
     "name": "stderr",
     "output_type": "stream",
     "text": [
      "Warning message in ks.test(Victoria_primaria_primero_len$Promedio, \"pnorm\"):\n",
      "\"ties should not be present for the Kolmogorov-Smirnov test\"\n"
     ]
    },
    {
     "data": {
      "text/plain": [
       "\n",
       "\tOne-sample Kolmogorov-Smirnov test\n",
       "\n",
       "data:  Victoria_primaria_primero_len$Promedio\n",
       "D = 1, p-value < 2.2e-16\n",
       "alternative hypothesis: two-sided\n"
      ]
     },
     "metadata": {},
     "output_type": "display_data"
    }
   ],
   "source": [
    "# Realizar la prueba de Kolmogorov-Smirnov para la normalidad\n",
    "ks.test(Victoria_primaria_primero_mat$Promedio, \"pnorm\")\n",
    "ks.test(Victoria_primaria_primero_len$Promedio, \"pnorm\")"
   ]
  },
  {
   "cell_type": "code",
   "execution_count": 40,
   "id": "08e7ff1b-f1fb-4cc7-86f0-b72e04ae8e7b",
   "metadata": {},
   "outputs": [
    {
     "data": {
      "text/plain": [
       "\n",
       "\tAnderson-Darling normality test\n",
       "\n",
       "data:  Victoria_primaria_primero_mat$Promedio\n",
       "A = 8.2321, p-value < 2.2e-16\n"
      ]
     },
     "metadata": {},
     "output_type": "display_data"
    },
    {
     "data": {
      "text/plain": [
       "\n",
       "\tAnderson-Darling normality test\n",
       "\n",
       "data:  Victoria_primaria_primero_len$Promedio\n",
       "A = 8.5373, p-value < 2.2e-16\n"
      ]
     },
     "metadata": {},
     "output_type": "display_data"
    }
   ],
   "source": [
    "# Realizar la prueba de Anderson-Darling para la normalidad\n",
    "ad.test(Victoria_primaria_primero_mat$Promedio)\n",
    "ad.test(Victoria_primaria_primero_len$Promedio)"
   ]
  },
  {
   "cell_type": "code",
   "execution_count": 41,
   "id": "b984a636-040e-4a75-95cb-661dd55c0837",
   "metadata": {},
   "outputs": [
    {
     "data": {
      "text/plain": [
       "\n",
       "\tLilliefors (Kolmogorov-Smirnov) normality test\n",
       "\n",
       "data:  Victoria_primaria_primero_mat$Promedio\n",
       "D = 0.11517, p-value < 2.2e-16\n"
      ]
     },
     "metadata": {},
     "output_type": "display_data"
    },
    {
     "data": {
      "text/plain": [
       "\n",
       "\tLilliefors (Kolmogorov-Smirnov) normality test\n",
       "\n",
       "data:  Victoria_primaria_primero_len$Promedio\n",
       "D = 0.11955, p-value < 2.2e-16\n"
      ]
     },
     "metadata": {},
     "output_type": "display_data"
    }
   ],
   "source": [
    "# Realizar el test de Lilliefors para la normalidad\n",
    "lillie.test(Victoria_primaria_primero_mat$Promedio)\n",
    "lillie.test(Victoria_primaria_primero_len$Promedio)"
   ]
  },
  {
   "cell_type": "code",
   "execution_count": 42,
   "id": "4e943bec-1a96-48a0-ab03-7927a44a6f81",
   "metadata": {},
   "outputs": [
    {
     "data": {
      "text/plain": [
       "\n",
       "\tShapiro-Wilk normality test\n",
       "\n",
       "data:  Victoria_primaria_primero_mat$Promedio\n",
       "W = 0.94428, p-value = 1.745e-13\n"
      ]
     },
     "metadata": {},
     "output_type": "display_data"
    },
    {
     "data": {
      "text/plain": [
       "\n",
       "\tShapiro-Wilk normality test\n",
       "\n",
       "data:  Victoria_primaria_primero_len$Promedio\n",
       "W = 0.94295, p-value = 1.068e-13\n"
      ]
     },
     "metadata": {},
     "output_type": "display_data"
    }
   ],
   "source": [
    "shapiro.test(Victoria_primaria_primero_mat$Promedio)\n",
    "shapiro.test(Victoria_primaria_primero_len$Promedio)"
   ]
  },
  {
   "cell_type": "code",
   "execution_count": 43,
   "id": "24000e34-196a-472e-9427-9610e5014e05",
   "metadata": {},
   "outputs": [
    {
     "data": {
      "image/png": "[encoded data removed]",
      "text/plain": [
       "Plot with title \"Normal Q-Q Plot\""
      ]
     },
     "metadata": {
      "image/png": {
       "height": 420,
       "width": 420
      }
     },
     "output_type": "display_data"
    },
    {
     "data": {
      "image/png": "[encoded data removed]",
      "text/plain": [
       "Plot with title \"Normal Q-Q Plot\""
      ]
     },
     "metadata": {
      "image/png": {
       "height": 420,
       "width": 420
      }
     },
     "output_type": "display_data"
    }
   ],
   "source": [
    "qqnorm(as.numeric(Victoria_primaria_primero_mat[!is.na(Victoria_primaria_primero_mat$Promedio),]$Promedio))\n",
    "qqline(as.numeric(Victoria_primaria_primero_mat[!is.na(Victoria_primaria_primero_mat$Promedio),]$Promedio))\n",
    "\n",
    "qqnorm(as.numeric(Victoria_primaria_primero_len[!is.na(Victoria_primaria_primero_len$Promedio),]$Promedio))\n",
    "qqline(as.numeric(Victoria_primaria_primero_len[!is.na(Victoria_primaria_primero_len$Promedio),]$Promedio))"
   ]
  },
  {
   "cell_type": "code",
   "execution_count": 44,
   "id": "62bc5211-eb31-49b6-af53-28a260f88cf6",
   "metadata": {},
   "outputs": [],
   "source": [
    "estandar_mat <- scale(Victoria_primaria_primero_mat$Promedio)\n",
    "estandar_len <- scale(Victoria_primaria_primero_len$Promedio)"
   ]
  },
  {
   "cell_type": "code",
   "execution_count": 49,
   "id": "dcbaea56-5a0f-4e27-a625-79c18eaa3345",
   "metadata": {},
   "outputs": [
    {
     "data": {
      "text/plain": [
       "\n",
       "\tShapiro-Wilk normality test\n",
       "\n",
       "data:  estandar_mat\n",
       "W = 0.94428, p-value = 1.745e-13\n"
      ]
     },
     "metadata": {},
     "output_type": "display_data"
    },
    {
     "data": {
      "text/plain": [
       "\n",
       "\tShapiro-Wilk normality test\n",
       "\n",
       "data:  estandar_len\n",
       "W = 0.94295, p-value = 1.068e-13\n"
      ]
     },
     "metadata": {},
     "output_type": "display_data"
    }
   ],
   "source": [
    "shapiro.test(estandar_mat)\n",
    "shapiro.test(estandar_len)"
   ]
  },
  {
   "cell_type": "code",
   "execution_count": 50,
   "id": "093e029e-43d8-4a4d-bbb5-7c75848b66d4",
   "metadata": {},
   "outputs": [
    {
     "data": {
      "text/plain": [
       "\n",
       "\tLilliefors (Kolmogorov-Smirnov) normality test\n",
       "\n",
       "data:  estandar_mat\n",
       "D = 0.11517, p-value < 2.2e-16\n"
      ]
     },
     "metadata": {},
     "output_type": "display_data"
    },
    {
     "data": {
      "text/plain": [
       "\n",
       "\tLilliefors (Kolmogorov-Smirnov) normality test\n",
       "\n",
       "data:  estandar_len\n",
       "D = 0.11955, p-value < 2.2e-16\n"
      ]
     },
     "metadata": {},
     "output_type": "display_data"
    }
   ],
   "source": [
    "lillie.test(estandar_mat)\n",
    "lillie.test(estandar_len)"
   ]
  },
  {
   "cell_type": "code",
   "execution_count": 51,
   "id": "d72bed2f-00f9-42b9-8c1c-93bee3c23595",
   "metadata": {},
   "outputs": [
    {
     "data": {
      "text/plain": [
       "\n",
       "\tAnderson-Darling normality test\n",
       "\n",
       "data:  estandar_mat\n",
       "A = 8.2321, p-value < 2.2e-16\n"
      ]
     },
     "metadata": {},
     "output_type": "display_data"
    },
    {
     "data": {
      "text/plain": [
       "\n",
       "\tAnderson-Darling normality test\n",
       "\n",
       "data:  estandar_len\n",
       "A = 8.5373, p-value < 2.2e-16\n"
      ]
     },
     "metadata": {},
     "output_type": "display_data"
    }
   ],
   "source": [
    "# Realizar la prueba de Anderson-Darling para la normalidad\n",
    "ad.test(estandar_mat)\n",
    "ad.test(estandar_len)"
   ]
  },
  {
   "cell_type": "code",
   "execution_count": 52,
   "id": "17f7ea4d-0fb4-4d4c-af0b-c9faffc1d0a3",
   "metadata": {},
   "outputs": [
    {
     "name": "stderr",
     "output_type": "stream",
     "text": [
      "Warning message in ks.test(estandar_mat, \"pnorm\"):\n",
      "\"ties should not be present for the Kolmogorov-Smirnov test\"\n"
     ]
    },
    {
     "data": {
      "text/plain": [
       "\n",
       "\tOne-sample Kolmogorov-Smirnov test\n",
       "\n",
       "data:  estandar_mat\n",
       "D = 0.11517, p-value = 9.72e-07\n",
       "alternative hypothesis: two-sided\n"
      ]
     },
     "metadata": {},
     "output_type": "display_data"
    },
    {
     "name": "stderr",
     "output_type": "stream",
     "text": [
      "Warning message in ks.test(estandar_len, \"pnorm\"):\n",
      "\"ties should not be present for the Kolmogorov-Smirnov test\"\n"
     ]
    },
    {
     "data": {
      "text/plain": [
       "\n",
       "\tOne-sample Kolmogorov-Smirnov test\n",
       "\n",
       "data:  estandar_len\n",
       "D = 0.11955, p-value = 2.974e-07\n",
       "alternative hypothesis: two-sided\n"
      ]
     },
     "metadata": {},
     "output_type": "display_data"
    }
   ],
   "source": [
    "# Realizar la prueba de Kolmogorov-Smirnov para la normalidad\n",
    "ks.test(estandar_mat, \"pnorm\")\n",
    "ks.test(estandar_len, \"pnorm\")"
   ]
  },
  {
   "cell_type": "code",
   "execution_count": null,
   "id": "6aecb1a1-3115-49dc-bf35-f52d5d257e3d",
   "metadata": {},
   "outputs": [],
   "source": []
  }
 ],
 "metadata": {
  "kernelspec": {
   "display_name": "R",
   "language": "R",
   "name": "ir"
  },
  "language_info": {
   "codemirror_mode": "r",
   "file_extension": ".r",
   "mimetype": "text/x-r-source",
   "name": "R",
   "pygments_lexer": "r",
   "version": "4.1.3"
  }
 },
 "nbformat": 4,
 "nbformat_minor": 5
}
