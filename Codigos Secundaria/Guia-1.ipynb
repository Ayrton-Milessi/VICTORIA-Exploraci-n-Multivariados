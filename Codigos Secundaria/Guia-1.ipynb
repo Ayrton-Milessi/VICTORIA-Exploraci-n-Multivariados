{
 "cells": [
  {
   "cell_type": "markdown",
   "id": "90636db6-e188-45c6-832f-58ff68ce1509",
   "metadata": {},
   "source": [
    "# TRABAJO PRÁCTICO -VICTORIA-"
   ]
  },
  {
   "cell_type": "markdown",
   "id": "98dcddb5-d340-45a9-b29b-9205dc1d7942",
   "metadata": {},
   "source": [
    "# Guia ejercicios 1"
   ]
  },
  {
   "cell_type": "code",
   "execution_count": 1,
   "id": "bb307a74-b732-4973-893b-087a847b9408",
   "metadata": {},
   "outputs": [],
   "source": [
    "library(readxl) #cargamos libreria"
   ]
  },
  {
   "cell_type": "code",
   "execution_count": 2,
   "id": "d9680276-f3cf-46e5-bb63-21be93284399",
   "metadata": {},
   "outputs": [],
   "source": [
    "# -*- coding: utf-8 -*-\n",
    "#El archivo esta en \"ISO-8859-1\", pero lo leemos en \"UTF-8\"\n",
    "# Leemos el archivo CSV con read_csv()\n",
    "\n",
    "#Dataset departamento VICTORIA\n",
    "VICTORIA <- read.csv(\"/home/santiago/Documentos/TUPED/Exploracion_Datos_Multivariados/TP_VICTORIA/VICTORIA.csv\")\n",
    "\n",
    "#Dataset primarias 2023 (Entre Rios 2023)\n",
    "primaria_2023 <- read.csv(\"/home/santiago/Documentos/TUPED/Exploracion_Datos_Multivariados/TP_VICTORIA/Primaria 2023 - matrícula primaria.xls.csv\")\n",
    "#Dataset secundarias (Entre Rios 2023)\n",
    "secundaria_2023 <- read.csv(\"/home/santiago/Documentos/TUPED/Exploracion_Datos_Multivariados/TP_VICTORIA/secundaria 2023 - xls_export.csv\")\n",
    "\n",
    "#Dataset primaria por departamentos Entre Rios\n",
    "primaria_departamentos <- read.csv(\"/home/santiago/Documentos/TUPED/Exploracion_Datos_Multivariados/TP_VICTORIA/primaria 2023 por departamentos - xls_export (10).csv\")\n",
    "#Dataset secundaria por departamentos Entre Rios\n",
    "secundaria_departamentos <- read.csv(\"/home/santiago/Documentos/TUPED/Exploracion_Datos_Multivariados/TP_VICTORIA/secundaria por departamentos 2023 - xls_export (11).csv\")"
   ]
  },
  {
   "cell_type": "markdown",
   "id": "549a720b-cbc9-4695-8dd3-96a859518d2a",
   "metadata": {},
   "source": [
    "### Hacemos una lectura del dataset, completamos tabla 3-"
   ]
  },
  {
   "cell_type": "code",
   "execution_count": 3,
   "id": "c337f83f-5031-48da-b987-6316e11aaa17",
   "metadata": {},
   "outputs": [
    {
     "data": {
      "text/html": [
       "<style>\n",
       ".list-inline {list-style: none; margin:0; padding: 0}\n",
       ".list-inline>li {display: inline-block}\n",
       ".list-inline>li:not(:last-child)::after {content: \"\\00b7\"; padding: 0 .5ex}\n",
       "</style>\n",
       "<ol class=list-inline><li>'X'</li><li>'CUE'</li><li>'departamento'</li><li>'localidad'</li><li>'CodigoPostal'</li><li>'EsPrivada'</li><li>'turno'</li><li>'curso'</li><li>'periodoEvaluatorio'</li><li>'idalumno'</li><li>'Documento'</li><li>'anioLectivo'</li><li>'asignatura'</li><li>'nota'</li><li>'observaciones'</li><li>'idSubOrganizacion'</li><li>'idDivision'</li><li>'NivelEnsenanza'</li><li>'orden'</li><li>'idOrganizaciones'</li><li>'ddivision'</li><li>'Nivel'</li><li>'esMultianio'</li><li>'IdModEnsenanza'</li><li>'Modalidad'</li><li>'ModEnsenaza'</li></ol>\n"
      ],
      "text/latex": [
       "\\begin{enumerate*}\n",
       "\\item 'X'\n",
       "\\item 'CUE'\n",
       "\\item 'departamento'\n",
       "\\item 'localidad'\n",
       "\\item 'CodigoPostal'\n",
       "\\item 'EsPrivada'\n",
       "\\item 'turno'\n",
       "\\item 'curso'\n",
       "\\item 'periodoEvaluatorio'\n",
       "\\item 'idalumno'\n",
       "\\item 'Documento'\n",
       "\\item 'anioLectivo'\n",
       "\\item 'asignatura'\n",
       "\\item 'nota'\n",
       "\\item 'observaciones'\n",
       "\\item 'idSubOrganizacion'\n",
       "\\item 'idDivision'\n",
       "\\item 'NivelEnsenanza'\n",
       "\\item 'orden'\n",
       "\\item 'idOrganizaciones'\n",
       "\\item 'ddivision'\n",
       "\\item 'Nivel'\n",
       "\\item 'esMultianio'\n",
       "\\item 'IdModEnsenanza'\n",
       "\\item 'Modalidad'\n",
       "\\item 'ModEnsenaza'\n",
       "\\end{enumerate*}\n"
      ],
      "text/markdown": [
       "1. 'X'\n",
       "2. 'CUE'\n",
       "3. 'departamento'\n",
       "4. 'localidad'\n",
       "5. 'CodigoPostal'\n",
       "6. 'EsPrivada'\n",
       "7. 'turno'\n",
       "8. 'curso'\n",
       "9. 'periodoEvaluatorio'\n",
       "10. 'idalumno'\n",
       "11. 'Documento'\n",
       "12. 'anioLectivo'\n",
       "13. 'asignatura'\n",
       "14. 'nota'\n",
       "15. 'observaciones'\n",
       "16. 'idSubOrganizacion'\n",
       "17. 'idDivision'\n",
       "18. 'NivelEnsenanza'\n",
       "19. 'orden'\n",
       "20. 'idOrganizaciones'\n",
       "21. 'ddivision'\n",
       "22. 'Nivel'\n",
       "23. 'esMultianio'\n",
       "24. 'IdModEnsenanza'\n",
       "25. 'Modalidad'\n",
       "26. 'ModEnsenaza'\n",
       "\n",
       "\n"
      ],
      "text/plain": [
       " [1] \"X\"                  \"CUE\"                \"departamento\"      \n",
       " [4] \"localidad\"          \"CodigoPostal\"       \"EsPrivada\"         \n",
       " [7] \"turno\"              \"curso\"              \"periodoEvaluatorio\"\n",
       "[10] \"idalumno\"           \"Documento\"          \"anioLectivo\"       \n",
       "[13] \"asignatura\"         \"nota\"               \"observaciones\"     \n",
       "[16] \"idSubOrganizacion\"  \"idDivision\"         \"NivelEnsenanza\"    \n",
       "[19] \"orden\"              \"idOrganizaciones\"   \"ddivision\"         \n",
       "[22] \"Nivel\"              \"esMultianio\"        \"IdModEnsenanza\"    \n",
       "[25] \"Modalidad\"          \"ModEnsenaza\"       "
      ]
     },
     "metadata": {},
     "output_type": "display_data"
    }
   ],
   "source": [
    "names(VICTORIA) #Vemos los nombres de todas las variables"
   ]
  },
  {
   "cell_type": "code",
   "execution_count": 4,
   "id": "a937b060-a218-48f6-ba8f-0595c4ccac54",
   "metadata": {
    "scrolled": true
   },
   "outputs": [
    {
     "name": "stdout",
     "output_type": "stream",
     "text": [
      "'data.frame':\t320330 obs. of  26 variables:\n",
      " $ X                 : int  1 2 3 4 5 6 7 8 9 10 ...\n",
      " $ CUE               : int  9002121 9002121 9002121 9002121 9002121 9002121 9002121 9002121 9002121 9002121 ...\n",
      " $ departamento      : chr  \"VICTORIA\" \"VICTORIA\" \"VICTORIA\" \"VICTORIA\" ...\n",
      " $ localidad         : chr  \"VICTORIA\" \"VICTORIA\" \"VICTORIA\" \"VICTORIA\" ...\n",
      " $ CodigoPostal      : int  3151 3151 3151 3151 3151 3151 3151 3151 3151 3151 ...\n",
      " $ EsPrivada         : chr  \"N\" \"N\" \"N\" \"N\" ...\n",
      " $ turno             : chr  \"TARDE\" \"TARDE\" \"TARDE\" \"TARDE\" ...\n",
      " $ curso             : chr  \"4 - M Prim\" \"4 - M Prim\" \"4 - M Prim\" \"4 - M Prim\" ...\n",
      " $ periodoEvaluatorio: chr  \"Primer Trimestre\" \"Primer Trimestre\" \"Primer Trimestre\" \"Primer Trimestre\" ...\n",
      " $ idalumno          : int  672655 672655 672655 672655 852106 852106 852106 852106 852106 852106 ...\n",
      " $ Documento         : int  53400853 53400853 53400853 53400853 53799627 53799627 53799627 53799627 53799627 53799627 ...\n",
      " $ anioLectivo       : int  2023 2023 2023 2023 2023 2023 2023 2023 2023 2023 ...\n",
      " $ asignatura        : chr  \"CIENCIAS SOCIALES\" \"ARTES VISUALES\" \"EDUCACION FISICA\" \"EDUCACION MUSICAL\" ...\n",
      " $ nota              : chr  \"8\" \"8\" \"8\" \"8\" ...\n",
      " $ observaciones     : chr  NA NA NA NA ...\n",
      " $ idSubOrganizacion : int  1163 1163 1163 1163 1163 1163 1163 1163 1163 1163 ...\n",
      " $ idDivision        : int  59017 59017 59017 59017 59017 59017 59017 59017 59017 59017 ...\n",
      " $ NivelEnsenanza    : chr  \"PRIMARIO\" \"PRIMARIO\" \"PRIMARIO\" \"PRIMARIO\" ...\n",
      " $ orden             : int  1 1 1 1 1 1 1 1 1 1 ...\n",
      " $ idOrganizaciones  : int  615 615 615 615 615 615 615 615 615 615 ...\n",
      " $ ddivision         : int  59017 59017 59017 59017 59017 59017 59017 59017 59017 59017 ...\n",
      " $ Nivel             : int  2 2 2 2 2 2 2 2 2 2 ...\n",
      " $ esMultianio       : chr  \"N\" \"N\" \"N\" \"N\" ...\n",
      " $ IdModEnsenanza    : int  5 5 5 5 5 5 5 5 5 5 ...\n",
      " $ Modalidad         : chr  \"Primaria\" \"Primaria\" \"Primaria\" \"Primaria\" ...\n",
      " $ ModEnsenaza       : chr  \"Comun\" \"Comun\" \"Comun\" \"Comun\" ...\n"
     ]
    }
   ],
   "source": [
    "str(VICTORIA) #Vemos variables cuantitativas(int) y cualitativas(char)"
   ]
  },
  {
   "cell_type": "code",
   "execution_count": 5,
   "id": "442360cd-02ea-4253-a4f5-c262ad43bf68",
   "metadata": {},
   "outputs": [
    {
     "data": {
      "text/html": [
       "<table class=\"dataframe\">\n",
       "<caption>A data.frame: 6 × 26</caption>\n",
       "<thead>\n",
       "\t<tr><th></th><th scope=col>X</th><th scope=col>CUE</th><th scope=col>departamento</th><th scope=col>localidad</th><th scope=col>CodigoPostal</th><th scope=col>EsPrivada</th><th scope=col>turno</th><th scope=col>curso</th><th scope=col>periodoEvaluatorio</th><th scope=col>idalumno</th><th scope=col>⋯</th><th scope=col>idDivision</th><th scope=col>NivelEnsenanza</th><th scope=col>orden</th><th scope=col>idOrganizaciones</th><th scope=col>ddivision</th><th scope=col>Nivel</th><th scope=col>esMultianio</th><th scope=col>IdModEnsenanza</th><th scope=col>Modalidad</th><th scope=col>ModEnsenaza</th></tr>\n",
       "\t<tr><th></th><th scope=col>&lt;int&gt;</th><th scope=col>&lt;int&gt;</th><th scope=col>&lt;chr&gt;</th><th scope=col>&lt;chr&gt;</th><th scope=col>&lt;int&gt;</th><th scope=col>&lt;chr&gt;</th><th scope=col>&lt;chr&gt;</th><th scope=col>&lt;chr&gt;</th><th scope=col>&lt;chr&gt;</th><th scope=col>&lt;int&gt;</th><th scope=col>⋯</th><th scope=col>&lt;int&gt;</th><th scope=col>&lt;chr&gt;</th><th scope=col>&lt;int&gt;</th><th scope=col>&lt;int&gt;</th><th scope=col>&lt;int&gt;</th><th scope=col>&lt;int&gt;</th><th scope=col>&lt;chr&gt;</th><th scope=col>&lt;int&gt;</th><th scope=col>&lt;chr&gt;</th><th scope=col>&lt;chr&gt;</th></tr>\n",
       "</thead>\n",
       "<tbody>\n",
       "\t<tr><th scope=row>1</th><td>1</td><td>9002121</td><td>VICTORIA</td><td>VICTORIA</td><td>3151</td><td>N</td><td>TARDE</td><td>4 - M Prim</td><td>Primer Trimestre</td><td>672655</td><td>⋯</td><td>59017</td><td>PRIMARIO</td><td>1</td><td>615</td><td>59017</td><td>2</td><td>N</td><td>5</td><td>Primaria</td><td>Comun</td></tr>\n",
       "\t<tr><th scope=row>2</th><td>2</td><td>9002121</td><td>VICTORIA</td><td>VICTORIA</td><td>3151</td><td>N</td><td>TARDE</td><td>4 - M Prim</td><td>Primer Trimestre</td><td>672655</td><td>⋯</td><td>59017</td><td>PRIMARIO</td><td>1</td><td>615</td><td>59017</td><td>2</td><td>N</td><td>5</td><td>Primaria</td><td>Comun</td></tr>\n",
       "\t<tr><th scope=row>3</th><td>3</td><td>9002121</td><td>VICTORIA</td><td>VICTORIA</td><td>3151</td><td>N</td><td>TARDE</td><td>4 - M Prim</td><td>Primer Trimestre</td><td>672655</td><td>⋯</td><td>59017</td><td>PRIMARIO</td><td>1</td><td>615</td><td>59017</td><td>2</td><td>N</td><td>5</td><td>Primaria</td><td>Comun</td></tr>\n",
       "\t<tr><th scope=row>4</th><td>4</td><td>9002121</td><td>VICTORIA</td><td>VICTORIA</td><td>3151</td><td>N</td><td>TARDE</td><td>4 - M Prim</td><td>Primer Trimestre</td><td>672655</td><td>⋯</td><td>59017</td><td>PRIMARIO</td><td>1</td><td>615</td><td>59017</td><td>2</td><td>N</td><td>5</td><td>Primaria</td><td>Comun</td></tr>\n",
       "\t<tr><th scope=row>5</th><td>5</td><td>9002121</td><td>VICTORIA</td><td>VICTORIA</td><td>3151</td><td>N</td><td>TARDE</td><td>4 - M Prim</td><td>Primer Trimestre</td><td>852106</td><td>⋯</td><td>59017</td><td>PRIMARIO</td><td>1</td><td>615</td><td>59017</td><td>2</td><td>N</td><td>5</td><td>Primaria</td><td>Comun</td></tr>\n",
       "\t<tr><th scope=row>6</th><td>6</td><td>9002121</td><td>VICTORIA</td><td>VICTORIA</td><td>3151</td><td>N</td><td>TARDE</td><td>4 - M Prim</td><td>Primer Trimestre</td><td>852106</td><td>⋯</td><td>59017</td><td>PRIMARIO</td><td>1</td><td>615</td><td>59017</td><td>2</td><td>N</td><td>5</td><td>Primaria</td><td>Comun</td></tr>\n",
       "</tbody>\n",
       "</table>\n"
      ],
      "text/latex": [
       "A data.frame: 6 × 26\n",
       "\\begin{tabular}{r|lllllllllllllllllllll}\n",
       "  & X & CUE & departamento & localidad & CodigoPostal & EsPrivada & turno & curso & periodoEvaluatorio & idalumno & ⋯ & idDivision & NivelEnsenanza & orden & idOrganizaciones & ddivision & Nivel & esMultianio & IdModEnsenanza & Modalidad & ModEnsenaza\\\\\n",
       "  & <int> & <int> & <chr> & <chr> & <int> & <chr> & <chr> & <chr> & <chr> & <int> & ⋯ & <int> & <chr> & <int> & <int> & <int> & <int> & <chr> & <int> & <chr> & <chr>\\\\\n",
       "\\hline\n",
       "\t1 & 1 & 9002121 & VICTORIA & VICTORIA & 3151 & N & TARDE & 4 - M Prim & Primer Trimestre & 672655 & ⋯ & 59017 & PRIMARIO & 1 & 615 & 59017 & 2 & N & 5 & Primaria & Comun\\\\\n",
       "\t2 & 2 & 9002121 & VICTORIA & VICTORIA & 3151 & N & TARDE & 4 - M Prim & Primer Trimestre & 672655 & ⋯ & 59017 & PRIMARIO & 1 & 615 & 59017 & 2 & N & 5 & Primaria & Comun\\\\\n",
       "\t3 & 3 & 9002121 & VICTORIA & VICTORIA & 3151 & N & TARDE & 4 - M Prim & Primer Trimestre & 672655 & ⋯ & 59017 & PRIMARIO & 1 & 615 & 59017 & 2 & N & 5 & Primaria & Comun\\\\\n",
       "\t4 & 4 & 9002121 & VICTORIA & VICTORIA & 3151 & N & TARDE & 4 - M Prim & Primer Trimestre & 672655 & ⋯ & 59017 & PRIMARIO & 1 & 615 & 59017 & 2 & N & 5 & Primaria & Comun\\\\\n",
       "\t5 & 5 & 9002121 & VICTORIA & VICTORIA & 3151 & N & TARDE & 4 - M Prim & Primer Trimestre & 852106 & ⋯ & 59017 & PRIMARIO & 1 & 615 & 59017 & 2 & N & 5 & Primaria & Comun\\\\\n",
       "\t6 & 6 & 9002121 & VICTORIA & VICTORIA & 3151 & N & TARDE & 4 - M Prim & Primer Trimestre & 852106 & ⋯ & 59017 & PRIMARIO & 1 & 615 & 59017 & 2 & N & 5 & Primaria & Comun\\\\\n",
       "\\end{tabular}\n"
      ],
      "text/markdown": [
       "\n",
       "A data.frame: 6 × 26\n",
       "\n",
       "| <!--/--> | X &lt;int&gt; | CUE &lt;int&gt; | departamento &lt;chr&gt; | localidad &lt;chr&gt; | CodigoPostal &lt;int&gt; | EsPrivada &lt;chr&gt; | turno &lt;chr&gt; | curso &lt;chr&gt; | periodoEvaluatorio &lt;chr&gt; | idalumno &lt;int&gt; | ⋯ ⋯ | idDivision &lt;int&gt; | NivelEnsenanza &lt;chr&gt; | orden &lt;int&gt; | idOrganizaciones &lt;int&gt; | ddivision &lt;int&gt; | Nivel &lt;int&gt; | esMultianio &lt;chr&gt; | IdModEnsenanza &lt;int&gt; | Modalidad &lt;chr&gt; | ModEnsenaza &lt;chr&gt; |\n",
       "|---|---|---|---|---|---|---|---|---|---|---|---|---|---|---|---|---|---|---|---|---|---|\n",
       "| 1 | 1 | 9002121 | VICTORIA | VICTORIA | 3151 | N | TARDE | 4 - M Prim | Primer Trimestre | 672655 | ⋯ | 59017 | PRIMARIO | 1 | 615 | 59017 | 2 | N | 5 | Primaria | Comun |\n",
       "| 2 | 2 | 9002121 | VICTORIA | VICTORIA | 3151 | N | TARDE | 4 - M Prim | Primer Trimestre | 672655 | ⋯ | 59017 | PRIMARIO | 1 | 615 | 59017 | 2 | N | 5 | Primaria | Comun |\n",
       "| 3 | 3 | 9002121 | VICTORIA | VICTORIA | 3151 | N | TARDE | 4 - M Prim | Primer Trimestre | 672655 | ⋯ | 59017 | PRIMARIO | 1 | 615 | 59017 | 2 | N | 5 | Primaria | Comun |\n",
       "| 4 | 4 | 9002121 | VICTORIA | VICTORIA | 3151 | N | TARDE | 4 - M Prim | Primer Trimestre | 672655 | ⋯ | 59017 | PRIMARIO | 1 | 615 | 59017 | 2 | N | 5 | Primaria | Comun |\n",
       "| 5 | 5 | 9002121 | VICTORIA | VICTORIA | 3151 | N | TARDE | 4 - M Prim | Primer Trimestre | 852106 | ⋯ | 59017 | PRIMARIO | 1 | 615 | 59017 | 2 | N | 5 | Primaria | Comun |\n",
       "| 6 | 6 | 9002121 | VICTORIA | VICTORIA | 3151 | N | TARDE | 4 - M Prim | Primer Trimestre | 852106 | ⋯ | 59017 | PRIMARIO | 1 | 615 | 59017 | 2 | N | 5 | Primaria | Comun |\n",
       "\n"
      ],
      "text/plain": [
       "  X CUE     departamento localidad CodigoPostal EsPrivada turno curso     \n",
       "1 1 9002121 VICTORIA     VICTORIA  3151         N         TARDE 4 - M Prim\n",
       "2 2 9002121 VICTORIA     VICTORIA  3151         N         TARDE 4 - M Prim\n",
       "3 3 9002121 VICTORIA     VICTORIA  3151         N         TARDE 4 - M Prim\n",
       "4 4 9002121 VICTORIA     VICTORIA  3151         N         TARDE 4 - M Prim\n",
       "5 5 9002121 VICTORIA     VICTORIA  3151         N         TARDE 4 - M Prim\n",
       "6 6 9002121 VICTORIA     VICTORIA  3151         N         TARDE 4 - M Prim\n",
       "  periodoEvaluatorio idalumno ⋯ idDivision NivelEnsenanza orden\n",
       "1 Primer Trimestre   672655   ⋯ 59017      PRIMARIO       1    \n",
       "2 Primer Trimestre   672655   ⋯ 59017      PRIMARIO       1    \n",
       "3 Primer Trimestre   672655   ⋯ 59017      PRIMARIO       1    \n",
       "4 Primer Trimestre   672655   ⋯ 59017      PRIMARIO       1    \n",
       "5 Primer Trimestre   852106   ⋯ 59017      PRIMARIO       1    \n",
       "6 Primer Trimestre   852106   ⋯ 59017      PRIMARIO       1    \n",
       "  idOrganizaciones ddivision Nivel esMultianio IdModEnsenanza Modalidad\n",
       "1 615              59017     2     N           5              Primaria \n",
       "2 615              59017     2     N           5              Primaria \n",
       "3 615              59017     2     N           5              Primaria \n",
       "4 615              59017     2     N           5              Primaria \n",
       "5 615              59017     2     N           5              Primaria \n",
       "6 615              59017     2     N           5              Primaria \n",
       "  ModEnsenaza\n",
       "1 Comun      \n",
       "2 Comun      \n",
       "3 Comun      \n",
       "4 Comun      \n",
       "5 Comun      \n",
       "6 Comun      "
      ]
     },
     "metadata": {},
     "output_type": "display_data"
    }
   ],
   "source": [
    "head(VICTORIA) #Analizamos las primereas 5 filas"
   ]
  },
  {
   "cell_type": "markdown",
   "id": "bdee130d-8398-4cc0-8197-053fa43929d5",
   "metadata": {},
   "source": [
    "#### Detectamos que podriamos llegar a tener una variable repetida, comparamos y chequeamos."
   ]
  },
  {
   "cell_type": "code",
   "execution_count": 87,
   "id": "7d359327-25c7-4891-8408-784dfe3b3d63",
   "metadata": {},
   "outputs": [
    {
     "name": "stdout",
     "output_type": "stream",
     "text": [
      "logical(0)\n"
     ]
    }
   ],
   "source": [
    "son_repetidas <- VICTORIA$idDivision == VICTORIA$ddivision #Chequeamos si esta repetida (ddivision = idDivision ????)\n",
    "print(son_repetidas)"
   ]
  },
  {
   "cell_type": "code",
   "execution_count": 88,
   "id": "c63a11e4-bffe-4776-8db4-1746118169da",
   "metadata": {},
   "outputs": [],
   "source": [
    "VICTORIA$ddivision <- NULL #Eliminamos la variable ddivison"
   ]
  },
  {
   "cell_type": "code",
   "execution_count": 89,
   "id": "5be49186-a369-4f80-9d09-39eb3d707d06",
   "metadata": {},
   "outputs": [
    {
     "data": {
      "text/html": [
       "<style>\n",
       ".list-inline {list-style: none; margin:0; padding: 0}\n",
       ".list-inline>li {display: inline-block}\n",
       ".list-inline>li:not(:last-child)::after {content: \"\\00b7\"; padding: 0 .5ex}\n",
       "</style>\n",
       "<ol class=list-inline><li>320330</li><li>25</li></ol>\n"
      ],
      "text/latex": [
       "\\begin{enumerate*}\n",
       "\\item 320330\n",
       "\\item 25\n",
       "\\end{enumerate*}\n"
      ],
      "text/markdown": [
       "1. 320330\n",
       "2. 25\n",
       "\n",
       "\n"
      ],
      "text/plain": [
       "[1] 320330     25"
      ]
     },
     "metadata": {},
     "output_type": "display_data"
    },
    {
     "data": {
      "text/html": [
       "<style>\n",
       ".list-inline {list-style: none; margin:0; padding: 0}\n",
       ".list-inline>li {display: inline-block}\n",
       ".list-inline>li:not(:last-child)::after {content: \"\\00b7\"; padding: 0 .5ex}\n",
       "</style>\n",
       "<ol class=list-inline><li>'X'</li><li>'CodigoUnicoEscolar'</li><li>'departamento'</li><li>'localidad'</li><li>'CodigoPostal'</li><li>'EsPrivada'</li><li>'turno'</li><li>'curso'</li><li>'periodoEvaluatorio'</li><li>'idalumno'</li><li>'Documento'</li><li>'año'</li><li>'asignatura'</li><li>'nota'</li><li>'observaciones'</li><li>'idSubOrganizacion'</li><li>'idDivision'</li><li>'NivelEnseñanza'</li><li>'orden'</li><li>'idOrganizaciones'</li><li>'Nivel'</li><li>'esMultiaño'</li><li>'IdModEnseñanza'</li><li>'Modalidad'</li><li>'ModEnseñanza'</li></ol>\n"
      ],
      "text/latex": [
       "\\begin{enumerate*}\n",
       "\\item 'X'\n",
       "\\item 'CodigoUnicoEscolar'\n",
       "\\item 'departamento'\n",
       "\\item 'localidad'\n",
       "\\item 'CodigoPostal'\n",
       "\\item 'EsPrivada'\n",
       "\\item 'turno'\n",
       "\\item 'curso'\n",
       "\\item 'periodoEvaluatorio'\n",
       "\\item 'idalumno'\n",
       "\\item 'Documento'\n",
       "\\item 'año'\n",
       "\\item 'asignatura'\n",
       "\\item 'nota'\n",
       "\\item 'observaciones'\n",
       "\\item 'idSubOrganizacion'\n",
       "\\item 'idDivision'\n",
       "\\item 'NivelEnseñanza'\n",
       "\\item 'orden'\n",
       "\\item 'idOrganizaciones'\n",
       "\\item 'Nivel'\n",
       "\\item 'esMultiaño'\n",
       "\\item 'IdModEnseñanza'\n",
       "\\item 'Modalidad'\n",
       "\\item 'ModEnseñanza'\n",
       "\\end{enumerate*}\n"
      ],
      "text/markdown": [
       "1. 'X'\n",
       "2. 'CodigoUnicoEscolar'\n",
       "3. 'departamento'\n",
       "4. 'localidad'\n",
       "5. 'CodigoPostal'\n",
       "6. 'EsPrivada'\n",
       "7. 'turno'\n",
       "8. 'curso'\n",
       "9. 'periodoEvaluatorio'\n",
       "10. 'idalumno'\n",
       "11. 'Documento'\n",
       "12. 'año'\n",
       "13. 'asignatura'\n",
       "14. 'nota'\n",
       "15. 'observaciones'\n",
       "16. 'idSubOrganizacion'\n",
       "17. 'idDivision'\n",
       "18. 'NivelEnseñanza'\n",
       "19. 'orden'\n",
       "20. 'idOrganizaciones'\n",
       "21. 'Nivel'\n",
       "22. 'esMultiaño'\n",
       "23. 'IdModEnseñanza'\n",
       "24. 'Modalidad'\n",
       "25. 'ModEnseñanza'\n",
       "\n",
       "\n"
      ],
      "text/plain": [
       " [1] \"X\"                  \"CodigoUnicoEscolar\" \"departamento\"      \n",
       " [4] \"localidad\"          \"CodigoPostal\"       \"EsPrivada\"         \n",
       " [7] \"turno\"              \"curso\"              \"periodoEvaluatorio\"\n",
       "[10] \"idalumno\"           \"Documento\"          \"año\"               \n",
       "[13] \"asignatura\"         \"nota\"               \"observaciones\"     \n",
       "[16] \"idSubOrganizacion\"  \"idDivision\"         \"NivelEnseñanza\"    \n",
       "[19] \"orden\"              \"idOrganizaciones\"   \"Nivel\"             \n",
       "[22] \"esMultiaño\"         \"IdModEnseñanza\"     \"Modalidad\"         \n",
       "[25] \"ModEnseñanza\"      "
      ]
     },
     "metadata": {},
     "output_type": "display_data"
    }
   ],
   "source": [
    "dim(VICTORIA) #Vemos tamaño dataset --> se reduce a 25 variables\n",
    "names(VICTORIA)"
   ]
  },
  {
   "cell_type": "markdown",
   "id": "a433c10e-6e9d-4d72-8144-c0a61f3c3d51",
   "metadata": {
    "jp-MarkdownHeadingCollapsed": true
   },
   "source": [
    "### 4)a- Cambiamos de nombre las variables para que entendamos la información que contiene. "
   ]
  },
  {
   "cell_type": "markdown",
   "id": "2c1e13cb-760c-4bbd-957d-4100c1e8384b",
   "metadata": {},
   "source": [
    "Nombres de variables a modificar:\n",
    "- CUE → CodigoUnicoEscolar\n",
    "- ModEnsenaza -> ModEnsenanza\n",
    "- anioLectivo -> año\n",
    "- esMultianio -> esMultiaño\n",
    "- IdModEnsenanza -> IdModEnseñanza\n",
    "- NivelEnsenanza -> NivelEnseñanza\n"
   ]
  },
  {
   "cell_type": "code",
   "execution_count": 9,
   "id": "3d7aa2da-c72e-4ea6-b38c-e9b5f792b730",
   "metadata": {},
   "outputs": [],
   "source": [
    "colnames(VICTORIA)[colnames(VICTORIA) == 'CUE'] <- 'CodigoUnicoEscolar' #Modifico nombre columna 'CUE'"
   ]
  },
  {
   "cell_type": "code",
   "execution_count": 10,
   "id": "a53fbfdd-d1dd-4e2b-a4b8-b4b6a1013285",
   "metadata": {},
   "outputs": [],
   "source": [
    "colnames(VICTORIA)[colnames(VICTORIA) == 'ModEnsenaza'] <- 'ModEnseñanza' #Modifico nombre columna 'ModEnsenaza'"
   ]
  },
  {
   "cell_type": "code",
   "execution_count": 11,
   "id": "5a5f58f1-c219-4688-abb4-8f390791c22c",
   "metadata": {},
   "outputs": [],
   "source": [
    "colnames(VICTORIA)[colnames(VICTORIA) == 'anioLectivo'] <- 'año' #Modifico nombre columna 'anioLectivo'"
   ]
  },
  {
   "cell_type": "code",
   "execution_count": 12,
   "id": "f3807fd1-31d2-4555-bfc4-8a3173f2dbe1",
   "metadata": {},
   "outputs": [],
   "source": [
    "colnames(VICTORIA)[colnames(VICTORIA) == 'esMultianio'] <- 'esMultiaño' #Modifico nombre columna 'esMultianio'"
   ]
  },
  {
   "cell_type": "code",
   "execution_count": 13,
   "id": "5ab50f66-4936-4752-9c0d-c1c9fb9bf9fe",
   "metadata": {},
   "outputs": [],
   "source": [
    "colnames(VICTORIA)[colnames(VICTORIA) == 'IdModEnsenanza'] <- 'IdModEnseñanza' #Modifico nombre columna 'IdModEnsenanza'"
   ]
  },
  {
   "cell_type": "code",
   "execution_count": 14,
   "id": "d0aa7262-2229-46f0-acb1-91221c620b4e",
   "metadata": {},
   "outputs": [],
   "source": [
    "colnames(VICTORIA)[colnames(VICTORIA) == 'NivelEnsenanza'] <- 'NivelEnseñanza' #Modifico nombre columna 'NivelEnsenanza'"
   ]
  },
  {
   "cell_type": "code",
   "execution_count": 15,
   "id": "7d636bc8-fea8-4475-b15a-a0f4e07aa29d",
   "metadata": {},
   "outputs": [
    {
     "data": {
      "text/html": [
       "<style>\n",
       ".list-inline {list-style: none; margin:0; padding: 0}\n",
       ".list-inline>li {display: inline-block}\n",
       ".list-inline>li:not(:last-child)::after {content: \"\\00b7\"; padding: 0 .5ex}\n",
       "</style>\n",
       "<ol class=list-inline><li>'X'</li><li>'CodigoUnicoEscolar'</li><li>'departamento'</li><li>'localidad'</li><li>'CodigoPostal'</li><li>'EsPrivada'</li><li>'turno'</li><li>'curso'</li><li>'periodoEvaluatorio'</li><li>'idalumno'</li><li>'Documento'</li><li>'año'</li><li>'asignatura'</li><li>'nota'</li><li>'observaciones'</li><li>'idSubOrganizacion'</li><li>'idDivision'</li><li>'NivelEnseñanza'</li><li>'orden'</li><li>'idOrganizaciones'</li><li>'Nivel'</li><li>'esMultiaño'</li><li>'IdModEnseñanza'</li><li>'Modalidad'</li><li>'ModEnseñanza'</li></ol>\n"
      ],
      "text/latex": [
       "\\begin{enumerate*}\n",
       "\\item 'X'\n",
       "\\item 'CodigoUnicoEscolar'\n",
       "\\item 'departamento'\n",
       "\\item 'localidad'\n",
       "\\item 'CodigoPostal'\n",
       "\\item 'EsPrivada'\n",
       "\\item 'turno'\n",
       "\\item 'curso'\n",
       "\\item 'periodoEvaluatorio'\n",
       "\\item 'idalumno'\n",
       "\\item 'Documento'\n",
       "\\item 'año'\n",
       "\\item 'asignatura'\n",
       "\\item 'nota'\n",
       "\\item 'observaciones'\n",
       "\\item 'idSubOrganizacion'\n",
       "\\item 'idDivision'\n",
       "\\item 'NivelEnseñanza'\n",
       "\\item 'orden'\n",
       "\\item 'idOrganizaciones'\n",
       "\\item 'Nivel'\n",
       "\\item 'esMultiaño'\n",
       "\\item 'IdModEnseñanza'\n",
       "\\item 'Modalidad'\n",
       "\\item 'ModEnseñanza'\n",
       "\\end{enumerate*}\n"
      ],
      "text/markdown": [
       "1. 'X'\n",
       "2. 'CodigoUnicoEscolar'\n",
       "3. 'departamento'\n",
       "4. 'localidad'\n",
       "5. 'CodigoPostal'\n",
       "6. 'EsPrivada'\n",
       "7. 'turno'\n",
       "8. 'curso'\n",
       "9. 'periodoEvaluatorio'\n",
       "10. 'idalumno'\n",
       "11. 'Documento'\n",
       "12. 'año'\n",
       "13. 'asignatura'\n",
       "14. 'nota'\n",
       "15. 'observaciones'\n",
       "16. 'idSubOrganizacion'\n",
       "17. 'idDivision'\n",
       "18. 'NivelEnseñanza'\n",
       "19. 'orden'\n",
       "20. 'idOrganizaciones'\n",
       "21. 'Nivel'\n",
       "22. 'esMultiaño'\n",
       "23. 'IdModEnseñanza'\n",
       "24. 'Modalidad'\n",
       "25. 'ModEnseñanza'\n",
       "\n",
       "\n"
      ],
      "text/plain": [
       " [1] \"X\"                  \"CodigoUnicoEscolar\" \"departamento\"      \n",
       " [4] \"localidad\"          \"CodigoPostal\"       \"EsPrivada\"         \n",
       " [7] \"turno\"              \"curso\"              \"periodoEvaluatorio\"\n",
       "[10] \"idalumno\"           \"Documento\"          \"año\"               \n",
       "[13] \"asignatura\"         \"nota\"               \"observaciones\"     \n",
       "[16] \"idSubOrganizacion\"  \"idDivision\"         \"NivelEnseñanza\"    \n",
       "[19] \"orden\"              \"idOrganizaciones\"   \"Nivel\"             \n",
       "[22] \"esMultiaño\"         \"IdModEnseñanza\"     \"Modalidad\"         \n",
       "[25] \"ModEnseñanza\"      "
      ]
     },
     "metadata": {},
     "output_type": "display_data"
    }
   ],
   "source": [
    "names(VICTORIA) #Vemos que se modificaron correctamente los nombres"
   ]
  },
  {
   "cell_type": "markdown",
   "id": "a6e80382-0900-4f77-9138-c824d0c648b0",
   "metadata": {},
   "source": [
    "#### Reemplazamos los datos de (VICTORIA$nota) no numericos EPAC/ PA / UP"
   ]
  },
  {
   "cell_type": "code",
   "execution_count": 16,
   "id": "47f7739b-65c9-4afc-bef0-991dec4d23b7",
   "metadata": {},
   "outputs": [
    {
     "data": {
      "text/html": [
       "<style>\n",
       ".list-inline {list-style: none; margin:0; padding: 0}\n",
       ".list-inline>li {display: inline-block}\n",
       ".list-inline>li:not(:last-child)::after {content: \"\\00b7\"; padding: 0 .5ex}\n",
       "</style>\n",
       "<ol class=list-inline><li>'8'</li><li>'7'</li><li>'6'</li><li>'9'</li><li>'10'</li><li>'EPAC'</li><li>'NULL'</li><li>'UP'</li><li>'PA'</li><li>'5'</li><li>'4'</li><li>'3'</li><li>'2'</li><li>'1'</li></ol>\n"
      ],
      "text/latex": [
       "\\begin{enumerate*}\n",
       "\\item '8'\n",
       "\\item '7'\n",
       "\\item '6'\n",
       "\\item '9'\n",
       "\\item '10'\n",
       "\\item 'EPAC'\n",
       "\\item 'NULL'\n",
       "\\item 'UP'\n",
       "\\item 'PA'\n",
       "\\item '5'\n",
       "\\item '4'\n",
       "\\item '3'\n",
       "\\item '2'\n",
       "\\item '1'\n",
       "\\end{enumerate*}\n"
      ],
      "text/markdown": [
       "1. '8'\n",
       "2. '7'\n",
       "3. '6'\n",
       "4. '9'\n",
       "5. '10'\n",
       "6. 'EPAC'\n",
       "7. 'NULL'\n",
       "8. 'UP'\n",
       "9. 'PA'\n",
       "10. '5'\n",
       "11. '4'\n",
       "12. '3'\n",
       "13. '2'\n",
       "14. '1'\n",
       "\n",
       "\n"
      ],
      "text/plain": [
       " [1] \"8\"    \"7\"    \"6\"    \"9\"    \"10\"   \"EPAC\" \"NULL\" \"UP\"   \"PA\"   \"5\"   \n",
       "[11] \"4\"    \"3\"    \"2\"    \"1\"   "
      ]
     },
     "metadata": {},
     "output_type": "display_data"
    }
   ],
   "source": [
    "unique(VICTORIA$nota)"
   ]
  },
  {
   "cell_type": "code",
   "execution_count": 17,
   "id": "862aa351-28de-4817-a11d-aa2be36b08eb",
   "metadata": {},
   "outputs": [],
   "source": [
    "#reemplazamos las notas \"EPAC\", \"UP\" y \"PA\" con un valor menor a 6\n",
    "VICTORIA$nota[VICTORIA$nota %in% c(\"EPAC\")] <- 5\n",
    "VICTORIA$nota[VICTORIA$nota %in% c(\"PA\")] <- 6\n",
    "VICTORIA$nota[VICTORIA$nota %in% c(\"UP\")] <- 7\n",
    "VICTORIA$nota <- suppressWarnings(as.numeric(VICTORIA$nota)) #convertimos la variable nota a tipo numérico"
   ]
  },
  {
   "cell_type": "code",
   "execution_count": 18,
   "id": "6ae639c0-d82a-405a-954f-007a6721981d",
   "metadata": {},
   "outputs": [
    {
     "data": {
      "text/html": [
       "<style>\n",
       ".list-inline {list-style: none; margin:0; padding: 0}\n",
       ".list-inline>li {display: inline-block}\n",
       ".list-inline>li:not(:last-child)::after {content: \"\\00b7\"; padding: 0 .5ex}\n",
       "</style>\n",
       "<ol class=list-inline><li>8</li><li>7</li><li>6</li><li>9</li><li>10</li><li>5</li><li>&lt;NA&gt;</li><li>4</li><li>3</li><li>2</li><li>1</li></ol>\n"
      ],
      "text/latex": [
       "\\begin{enumerate*}\n",
       "\\item 8\n",
       "\\item 7\n",
       "\\item 6\n",
       "\\item 9\n",
       "\\item 10\n",
       "\\item 5\n",
       "\\item <NA>\n",
       "\\item 4\n",
       "\\item 3\n",
       "\\item 2\n",
       "\\item 1\n",
       "\\end{enumerate*}\n"
      ],
      "text/markdown": [
       "1. 8\n",
       "2. 7\n",
       "3. 6\n",
       "4. 9\n",
       "5. 10\n",
       "6. 5\n",
       "7. &lt;NA&gt;\n",
       "8. 4\n",
       "9. 3\n",
       "10. 2\n",
       "11. 1\n",
       "\n",
       "\n"
      ],
      "text/plain": [
       " [1]  8  7  6  9 10  5 NA  4  3  2  1"
      ]
     },
     "metadata": {},
     "output_type": "display_data"
    }
   ],
   "source": [
    "unique(VICTORIA$nota) "
   ]
  },
  {
   "cell_type": "markdown",
   "id": "15af974f-5046-4c0e-9006-13bf4921eda5",
   "metadata": {
    "jp-MarkdownHeadingCollapsed": true
   },
   "source": [
    "### 4)f- Dividir el dataset en dos dataset uno de Primaria Común y otro de Secundaria Común y Técnica (incluir Agrotécnica y EGB3), seleccionando columnas de interés para el análisis."
   ]
  },
  {
   "cell_type": "markdown",
   "id": "81ddfe42-43da-4ae6-b5c5-ad78bcbc2f32",
   "metadata": {},
   "source": [
    "1er dataset: Victoria_primaria → se guardan los datos de todo el nivel primario comun.\n",
    "\n",
    "2do dataset: Victoria_secundaria → se guardan los datos de todo el nivel secundario comun y tecnico.\n"
   ]
  },
  {
   "cell_type": "code",
   "execution_count": 19,
   "id": "f3923945-a040-42ec-88b0-d225098ecd25",
   "metadata": {},
   "outputs": [
    {
     "name": "stderr",
     "output_type": "stream",
     "text": [
      "\n",
      "Attaching package: ‘dplyr’\n",
      "\n",
      "\n",
      "The following objects are masked from ‘package:stats’:\n",
      "\n",
      "    filter, lag\n",
      "\n",
      "\n",
      "The following objects are masked from ‘package:base’:\n",
      "\n",
      "    intersect, setdiff, setequal, union\n",
      "\n",
      "\n"
     ]
    }
   ],
   "source": [
    "library(dplyr) #Importamos libreria 'dplyr' a utilizar"
   ]
  },
  {
   "cell_type": "markdown",
   "id": "ff8011ef-93e3-460d-9847-29b42530be50",
   "metadata": {},
   "source": [
    "##### esMultianio y Modalidad de 3 ciclos no nos sirve"
   ]
  },
  {
   "cell_type": "code",
   "execution_count": 20,
   "id": "00753705-df9c-48f6-bb05-93db29cc8af6",
   "metadata": {},
   "outputs": [
    {
     "name": "stdout",
     "output_type": "stream",
     "text": [
      "NivelEnsenaza:  PRIMARIO SECUNDARIO \n",
      "ModEnsenanza:  Comun Escuelas NINA Artistica Ed.Especial Adultos T�cnica Agrot�cnica Cap Tecnica Priv S/D \n",
      "Modalida:  Primaria Inicial Secundaria NULL Secundaria 3 a�os Primaria 3 ciclos"
     ]
    }
   ],
   "source": [
    "#Analizamos las variables que tenemos disponibles\n",
    "cat(\"NivelEnsenaza: \",unique(VICTORIA$NivelEnseñanza),\"\\n\") #Datos que hay en variable \"NivelEnseñanza\"\n",
    "cat(\"ModEnsenanza: \", unique(VICTORIA$ModEnseñanza),\"\\n\") #Datos que hay en variable \"ModEnseñanza\"\n",
    "cat(\"Modalida: \", unique(VICTORIA$Modalidad)) #Datos que hay en variable \"Modalidad\""
   ]
  },
  {
   "cell_type": "code",
   "execution_count": 21,
   "id": "22fe119e-da25-45c3-bc19-268ad22b0ec6",
   "metadata": {},
   "outputs": [
    {
     "data": {
      "text/html": [
       "<style>\n",
       ".list-inline {list-style: none; margin:0; padding: 0}\n",
       ".list-inline>li {display: inline-block}\n",
       ".list-inline>li:not(:last-child)::after {content: \"\\00b7\"; padding: 0 .5ex}\n",
       "</style>\n",
       "<ol class=list-inline><li>'N'</li><li>'S'</li><li>NA</li></ol>\n"
      ],
      "text/latex": [
       "\\begin{enumerate*}\n",
       "\\item 'N'\n",
       "\\item 'S'\n",
       "\\item NA\n",
       "\\end{enumerate*}\n"
      ],
      "text/markdown": [
       "1. 'N'\n",
       "2. 'S'\n",
       "3. NA\n",
       "\n",
       "\n"
      ],
      "text/plain": [
       "[1] \"N\" \"S\" NA "
      ]
     },
     "metadata": {},
     "output_type": "display_data"
    }
   ],
   "source": [
    "#Los colegios multiaño, no nos sirve para el analisis. Los niveles se mezclan en el cursado\n",
    "unique(VICTORIA$esMultiaño) "
   ]
  },
  {
   "cell_type": "code",
   "execution_count": 22,
   "id": "8f027633-d4aa-4b03-b79d-dc8ce04cf382",
   "metadata": {},
   "outputs": [
    {
     "data": {
      "text/html": [
       "<style>\n",
       ".list-inline {list-style: none; margin:0; padding: 0}\n",
       ".list-inline>li {display: inline-block}\n",
       ".list-inline>li:not(:last-child)::after {content: \"\\00b7\"; padding: 0 .5ex}\n",
       "</style>\n",
       "<ol class=list-inline><li>'Primaria'</li><li>'Inicial'</li><li>'Secundaria'</li><li>'NULL'</li><li>'Secundaria 3 a\\xf1os'</li><li>'Primaria 3 ciclos'</li></ol>\n"
      ],
      "text/latex": [
       "\\begin{enumerate*}\n",
       "\\item 'Primaria'\n",
       "\\item 'Inicial'\n",
       "\\item 'Secundaria'\n",
       "\\item 'NULL'\n",
       "\\item 'Secundaria 3 a\\textbackslash{}xf1os'\n",
       "\\item 'Primaria 3 ciclos'\n",
       "\\end{enumerate*}\n"
      ],
      "text/markdown": [
       "1. 'Primaria'\n",
       "2. 'Inicial'\n",
       "3. 'Secundaria'\n",
       "4. 'NULL'\n",
       "5. 'Secundaria 3 a\\xf1os'\n",
       "6. 'Primaria 3 ciclos'\n",
       "\n",
       "\n"
      ],
      "text/plain": [
       "[1] \"Primaria\"             \"Inicial\"              \"Secundaria\"          \n",
       "[4] \"NULL\"                 \"Secundaria 3 a\\xf1os\" \"Primaria 3 ciclos\"   "
      ]
     },
     "metadata": {},
     "output_type": "display_data"
    }
   ],
   "source": [
    "#Primaria 3 ciclos y Secundaria 3 ciclos afuera, no nos sirve (EMPAS)\n",
    "unique(VICTORIA$Modalidad) "
   ]
  },
  {
   "cell_type": "code",
   "execution_count": 23,
   "id": "9102debf-7ecd-4950-9b7d-1cf746d40d3f",
   "metadata": {},
   "outputs": [],
   "source": [
    "#Aplicamos filtro sobre dataset VICTORIA\n",
    "#Puede ser comun y NINA (programa especial)\n",
    "VICTORIA_Primaria <- filter(VICTORIA, NivelEnseñanza == \"PRIMARIO\" & (ModEnseñanza == \"Comun\" | ModEnseñanza == \"Escuelas NINA\")& esMultiaño == \"N\" & Modalidad == \"Primaria\")                         "
   ]
  },
  {
   "cell_type": "code",
   "execution_count": 24,
   "id": "200085c7-b744-40dd-828a-ea1616ccd67e",
   "metadata": {},
   "outputs": [],
   "source": [
    "#Aplicamos filtro sobre dataset VICTORIA\n",
    "VICTORIA_Secundaria <- filter(VICTORIA, NivelEnseñanza == \"SECUNDARIO\" & (ModEnseñanza == \"Comun\" | ModEnseñanza == \"T\\xe9cnica\" | ModEnseñanza == \"Agrot\\xe9cnica\")& esMultiaño == \"N\" & Modalidad == \"Secundaria\")"
   ]
  },
  {
   "cell_type": "code",
   "execution_count": 25,
   "id": "286980e5-6ab4-4766-94d9-16dee9727333",
   "metadata": {},
   "outputs": [
    {
     "data": {
      "text/html": [
       "<style>\n",
       ".list-inline {list-style: none; margin:0; padding: 0}\n",
       ".list-inline>li {display: inline-block}\n",
       ".list-inline>li:not(:last-child)::after {content: \"\\00b7\"; padding: 0 .5ex}\n",
       "</style>\n",
       "<ol class=list-inline><li>98613</li><li>25</li></ol>\n"
      ],
      "text/latex": [
       "\\begin{enumerate*}\n",
       "\\item 98613\n",
       "\\item 25\n",
       "\\end{enumerate*}\n"
      ],
      "text/markdown": [
       "1. 98613\n",
       "2. 25\n",
       "\n",
       "\n"
      ],
      "text/plain": [
       "[1] 98613    25"
      ]
     },
     "metadata": {},
     "output_type": "display_data"
    },
    {
     "data": {
      "text/html": [
       "<style>\n",
       ".list-inline {list-style: none; margin:0; padding: 0}\n",
       ".list-inline>li {display: inline-block}\n",
       ".list-inline>li:not(:last-child)::after {content: \"\\00b7\"; padding: 0 .5ex}\n",
       "</style>\n",
       "<ol class=list-inline><li>128743</li><li>25</li></ol>\n"
      ],
      "text/latex": [
       "\\begin{enumerate*}\n",
       "\\item 128743\n",
       "\\item 25\n",
       "\\end{enumerate*}\n"
      ],
      "text/markdown": [
       "1. 128743\n",
       "2. 25\n",
       "\n",
       "\n"
      ],
      "text/plain": [
       "[1] 128743     25"
      ]
     },
     "metadata": {},
     "output_type": "display_data"
    }
   ],
   "source": [
    "dim(VICTORIA_Primaria)\n",
    "dim(VICTORIA_Secundaria)"
   ]
  },
  {
   "cell_type": "code",
   "execution_count": 26,
   "id": "80c1d51d-b6bf-480c-911e-f0ea4936b58b",
   "metadata": {},
   "outputs": [
    {
     "data": {
      "text/html": [
       "24"
      ],
      "text/latex": [
       "24"
      ],
      "text/markdown": [
       "24"
      ],
      "text/plain": [
       "[1] 24"
      ]
     },
     "metadata": {},
     "output_type": "display_data"
    },
    {
     "data": {
      "text/html": [
       "1261"
      ],
      "text/latex": [
       "1261"
      ],
      "text/markdown": [
       "1261"
      ],
      "text/plain": [
       "[1] 1261"
      ]
     },
     "metadata": {},
     "output_type": "display_data"
    },
    {
     "data": {
      "text/html": [
       "21"
      ],
      "text/latex": [
       "21"
      ],
      "text/markdown": [
       "21"
      ],
      "text/plain": [
       "[1] 21"
      ]
     },
     "metadata": {},
     "output_type": "display_data"
    },
    {
     "data": {
      "text/html": [
       "578"
      ],
      "text/latex": [
       "578"
      ],
      "text/markdown": [
       "578"
      ],
      "text/plain": [
       "[1] 578"
      ]
     },
     "metadata": {},
     "output_type": "display_data"
    }
   ],
   "source": [
    "#Podemos hacer un conteo de la cantidad de escuelas en general\n",
    "#PRIMARIAS\n",
    "length(unique(VICTORIA_Primaria$CodigoUnicoEscolar)) #Cantidad de escuelas primarias en departamento Victoria\n",
    "length(unique(primaria_2023$CUE)) #Cantidad de escuelas primarias en Entre Rios\n",
    "\n",
    "#SECUNDARIAS\n",
    "length(unique(VICTORIA_Secundaria$CodigoUnicoEscolar)) #Cantidad de escuelas secundarias en departamento Victoria\n",
    "length(unique(secundaria_2023$CUE)) #Cantidad de escuelas primarias en Entre Rios"
   ]
  },
  {
   "cell_type": "markdown",
   "id": "e1201119-7b62-4231-87c9-2a0a0de9580e",
   "metadata": {},
   "source": [
    "### Creamos nuevas variables que ayuden a resolver el análisis, como por ejemplo Notas Primer/Segundo/Tercer Trimestre, Promedio, Condición Final en la materia."
   ]
  },
  {
   "cell_type": "markdown",
   "id": "925d003f-fcd3-44ae-a30c-6fab79568de9",
   "metadata": {},
   "source": [
    "#### Solucionamos el tema de los caracteres MA\\xd1ANA --> MAÑANA"
   ]
  },
  {
   "cell_type": "code",
   "execution_count": 27,
   "id": "769c9ada-2273-46e0-9db6-06257c7845ce",
   "metadata": {},
   "outputs": [
    {
     "data": {
      "text/html": [
       "<style>\n",
       ".list-inline {list-style: none; margin:0; padding: 0}\n",
       ".list-inline>li {display: inline-block}\n",
       ".list-inline>li:not(:last-child)::after {content: \"\\00b7\"; padding: 0 .5ex}\n",
       "</style>\n",
       "<ol class=list-inline><li>'TARDE'</li><li>'MA\\xd1ANA'</li><li>'COMPLETO'</li><li>'ROTATIVO'</li></ol>\n"
      ],
      "text/latex": [
       "\\begin{enumerate*}\n",
       "\\item 'TARDE'\n",
       "\\item 'MA\\textbackslash{}xd1ANA'\n",
       "\\item 'COMPLETO'\n",
       "\\item 'ROTATIVO'\n",
       "\\end{enumerate*}\n"
      ],
      "text/markdown": [
       "1. 'TARDE'\n",
       "2. 'MA\\xd1ANA'\n",
       "3. 'COMPLETO'\n",
       "4. 'ROTATIVO'\n",
       "\n",
       "\n"
      ],
      "text/plain": [
       "[1] \"TARDE\"     \"MA\\xd1ANA\" \"COMPLETO\"  \"ROTATIVO\" "
      ]
     },
     "metadata": {},
     "output_type": "display_data"
    },
    {
     "data": {
      "text/html": [
       "<style>\n",
       ".list-inline {list-style: none; margin:0; padding: 0}\n",
       ".list-inline>li {display: inline-block}\n",
       ".list-inline>li:not(:last-child)::after {content: \"\\00b7\"; padding: 0 .5ex}\n",
       "</style>\n",
       "<ol class=list-inline><li>'TARDE'</li><li>'ROTATIVO'</li><li>'MA\\xd1ANA'</li><li>'NOCHE'</li></ol>\n"
      ],
      "text/latex": [
       "\\begin{enumerate*}\n",
       "\\item 'TARDE'\n",
       "\\item 'ROTATIVO'\n",
       "\\item 'MA\\textbackslash{}xd1ANA'\n",
       "\\item 'NOCHE'\n",
       "\\end{enumerate*}\n"
      ],
      "text/markdown": [
       "1. 'TARDE'\n",
       "2. 'ROTATIVO'\n",
       "3. 'MA\\xd1ANA'\n",
       "4. 'NOCHE'\n",
       "\n",
       "\n"
      ],
      "text/plain": [
       "[1] \"TARDE\"     \"ROTATIVO\"  \"MA\\xd1ANA\" \"NOCHE\"    "
      ]
     },
     "metadata": {},
     "output_type": "display_data"
    },
    {
     "data": {
      "text/html": [
       "<style>\n",
       ".list-inline {list-style: none; margin:0; padding: 0}\n",
       ".list-inline>li {display: inline-block}\n",
       ".list-inline>li:not(:last-child)::after {content: \"\\00b7\"; padding: 0 .5ex}\n",
       "</style>\n",
       "<ol class=list-inline><li>'TARDE'</li><li>'MAÑANA'</li><li>'COMPLETO'</li><li>'ROTATIVO'</li></ol>\n"
      ],
      "text/latex": [
       "\\begin{enumerate*}\n",
       "\\item 'TARDE'\n",
       "\\item 'MAÑANA'\n",
       "\\item 'COMPLETO'\n",
       "\\item 'ROTATIVO'\n",
       "\\end{enumerate*}\n"
      ],
      "text/markdown": [
       "1. 'TARDE'\n",
       "2. 'MAÑANA'\n",
       "3. 'COMPLETO'\n",
       "4. 'ROTATIVO'\n",
       "\n",
       "\n"
      ],
      "text/plain": [
       "[1] \"TARDE\"    \"MAÑANA\"   \"COMPLETO\" \"ROTATIVO\""
      ]
     },
     "metadata": {},
     "output_type": "display_data"
    },
    {
     "data": {
      "text/html": [
       "<style>\n",
       ".list-inline {list-style: none; margin:0; padding: 0}\n",
       ".list-inline>li {display: inline-block}\n",
       ".list-inline>li:not(:last-child)::after {content: \"\\00b7\"; padding: 0 .5ex}\n",
       "</style>\n",
       "<ol class=list-inline><li>'TARDE'</li><li>'ROTATIVO'</li><li>'MAÑANA'</li><li>'NOCHE'</li></ol>\n"
      ],
      "text/latex": [
       "\\begin{enumerate*}\n",
       "\\item 'TARDE'\n",
       "\\item 'ROTATIVO'\n",
       "\\item 'MAÑANA'\n",
       "\\item 'NOCHE'\n",
       "\\end{enumerate*}\n"
      ],
      "text/markdown": [
       "1. 'TARDE'\n",
       "2. 'ROTATIVO'\n",
       "3. 'MAÑANA'\n",
       "4. 'NOCHE'\n",
       "\n",
       "\n"
      ],
      "text/plain": [
       "[1] \"TARDE\"    \"ROTATIVO\" \"MAÑANA\"   \"NOCHE\"   "
      ]
     },
     "metadata": {},
     "output_type": "display_data"
    }
   ],
   "source": [
    "#Chequeamos que tenemos mal codificaco un caracter en MA\\xd1ANA\n",
    "unique(VICTORIA_Primaria$turno)\n",
    "unique(VICTORIA_Secundaria$turno)\n",
    "\n",
    "#Convertimos la columna 'turno' a codificacion UTF-8\n",
    "VICTORIA_Primaria$turno <- iconv(VICTORIA_Primaria$turno, to = \"UTF-8\", sub = \"byte\")\n",
    "VICTORIA_Secundaria$turno <- iconv(VICTORIA_Secundaria$turno, to = \"UTF-8\", sub = \"byte\")\n",
    "\n",
    "#Reemplazamos todas las instancias del valor incorrecto 'MA<d1>ANA' con el valor correcto 'MAÑANA'\n",
    "VICTORIA_Primaria$turno <- gsub(\"MA<d1>ANA\", \"MAÑANA\", VICTORIA_Primaria$turno)\n",
    "VICTORIA_Secundaria$turno <- gsub(\"MA<d1>ANA\", \"MAÑANA\", VICTORIA_Secundaria$turno)\n",
    "\n",
    "#Chequeamos el resultado\n",
    "unique(VICTORIA_Primaria$turno)\n",
    "unique(VICTORIA_Secundaria$turno)"
   ]
  },
  {
   "cell_type": "markdown",
   "id": "77d30b8e-5b8c-4ece-a37a-e0de3eaa1bdb",
   "metadata": {
    "jp-MarkdownHeadingCollapsed": true
   },
   "source": [
    "#### Nueva variable PROMEDIO y nueva variable CONDICION FINAL"
   ]
  },
  {
   "cell_type": "code",
   "execution_count": 28,
   "id": "935e2e6c-18f7-4439-9319-b2f3b133da17",
   "metadata": {},
   "outputs": [],
   "source": [
    "#Dividimos el dataset VICTORIA_Primaria en 3 (cada uno correspondiente a un trimestre)\n",
    "PrimerT_primaria <- filter(VICTORIA_Primaria, periodoEvaluatorio == \"Primer Trimestre\")\n",
    "PrimerT_primaria <- rename(PrimerT_primaria,NotasPrimerT = nota)\n",
    "SegundoT_primaria <- filter(VICTORIA_Primaria, periodoEvaluatorio == \"Segundo Trimestre\")\n",
    "SegundoT_primaria <- rename(SegundoT_primaria,NotasSegundoT = nota)\n",
    "TercerT_primaria <- filter(VICTORIA_Primaria, periodoEvaluatorio == \"Tercer Trimestre\")\n",
    "TercerT_primaria <- rename(TercerT_primaria,NotasTercerT = nota)"
   ]
  },
  {
   "cell_type": "code",
   "execution_count": 29,
   "id": "39e4ba34-2287-482a-8a94-218590210ba5",
   "metadata": {},
   "outputs": [],
   "source": [
    "#Hacemos lo mismo con el dataset VICTORIA_Secundaria\n",
    "PrimerT_secundaria <- filter(VICTORIA_Secundaria, periodoEvaluatorio == \"Primer Trimestre\")\n",
    "PrimerT_secundaria <- rename(PrimerT_secundaria,NotasPrimerT = nota)\n",
    "SegundoT_secundaria <- filter(VICTORIA_Secundaria, periodoEvaluatorio == \"Segundo Trimestre\")\n",
    "SegundoT_secundaria <- rename(SegundoT_secundaria,NotasSegundoT = nota)\n",
    "TercerT_secundaria <- filter(VICTORIA_Secundaria, periodoEvaluatorio == \"Tercer Trimestre\")\n",
    "TercerT_secundaria <- rename(TercerT_secundaria,NotasTercerT = nota)"
   ]
  },
  {
   "cell_type": "markdown",
   "id": "383a1259-df5b-4fee-902d-51e6a0703c57",
   "metadata": {},
   "source": [
    "---------"
   ]
  },
  {
   "cell_type": "code",
   "execution_count": 30,
   "id": "453f1837-73d1-468f-9855-88042835df28",
   "metadata": {
    "scrolled": true
   },
   "outputs": [],
   "source": [
    "#Fusionamos los 3 daset usando las columnas Documento (DNI) y Asignatura como claves para la fusion\n",
    "#\"Claves de fusion\" --> Columnas que deben coincidir en los conjuntos de datos que se están fusionando\n",
    "\n",
    "aux <- merge(x = PrimerT_primaria, y = SegundoT_primaria, by = c(\"Documento\", \"asignatura\"))\n",
    "auxiliar <- merge(x = aux, y = TercerT_primaria, by = c(\"Documento\", \"asignatura\"))"
   ]
  },
  {
   "cell_type": "code",
   "execution_count": 31,
   "id": "3f35a667-67d0-4ccc-827b-a03e033f4184",
   "metadata": {},
   "outputs": [],
   "source": [
    "#Nos quedamos con las columnas de nuestro interes\n",
    "Notas_Victoria_primaria <- select(auxiliar, 'CodigoUnicoEscolar', 'departamento', 'localidad', 'EsPrivada', 'turno' , 'curso' , 'periodoEvaluatorio' , 'Documento', 'asignatura','idalumno', 'observaciones', 'idSubOrganizacion', 'idDivision', 'NivelEnseñanza', 'orden','Nivel', 'esMultiaño', 'IdModEnseñanza', 'Modalidad', 'ModEnseñanza', 'año','NotasPrimerT','NotasSegundoT', 'NotasTercerT')"
   ]
  },
  {
   "cell_type": "code",
   "execution_count": 32,
   "id": "3c5a364d-1417-433d-ac48-139ee60b5d28",
   "metadata": {},
   "outputs": [],
   "source": [
    "#Agregamos nueva columna 'Promedio' de los 3 trimestres\n",
    "Notas_Victoria_primaria$Promedio <-round ((as.numeric(Notas_Victoria_primaria$NotasPrimerT)+as.numeric(Notas_Victoria_primaria$NotasSegundoT)+as.numeric(Notas_Victoria_primaria$NotasTercerT))/3,2)\n",
    "\n",
    "#Agregamos nueva columna 'Condicion' \n",
    "Notas_Victoria_primaria <- Notas_Victoria_primaria %>% mutate(Condición = case_when(\n",
    "  Promedio >= 6 ~ \"Aprobado\", #Promedio > 6 --> Aprobado\n",
    "  Promedio <=6  ~ \"Rinde\", #Promedio <6 --> Rinde \n",
    "   TRUE~ \"sin registro completo\")) #No se cumple ninguno de los casos anteriores --> \"sin registro completo\""
   ]
  },
  {
   "cell_type": "code",
   "execution_count": 33,
   "id": "9a4edb48-fd2c-4273-9b01-d71a5d7404bc",
   "metadata": {},
   "outputs": [
    {
     "data": {
      "text/html": [
       "<table class=\"dataframe\">\n",
       "<caption>A data.frame: 6 × 26</caption>\n",
       "<thead>\n",
       "\t<tr><th></th><th scope=col>CodigoUnicoEscolar</th><th scope=col>departamento</th><th scope=col>localidad</th><th scope=col>EsPrivada</th><th scope=col>turno</th><th scope=col>curso</th><th scope=col>periodoEvaluatorio</th><th scope=col>Documento</th><th scope=col>asignatura</th><th scope=col>idalumno</th><th scope=col>⋯</th><th scope=col>esMultiaño</th><th scope=col>IdModEnseñanza</th><th scope=col>Modalidad</th><th scope=col>ModEnseñanza</th><th scope=col>año</th><th scope=col>NotasPrimerT</th><th scope=col>NotasSegundoT</th><th scope=col>NotasTercerT</th><th scope=col>Promedio</th><th scope=col>Condición</th></tr>\n",
       "\t<tr><th></th><th scope=col>&lt;int&gt;</th><th scope=col>&lt;chr&gt;</th><th scope=col>&lt;chr&gt;</th><th scope=col>&lt;chr&gt;</th><th scope=col>&lt;chr&gt;</th><th scope=col>&lt;chr&gt;</th><th scope=col>&lt;chr&gt;</th><th scope=col>&lt;int&gt;</th><th scope=col>&lt;chr&gt;</th><th scope=col>&lt;int&gt;</th><th scope=col>⋯</th><th scope=col>&lt;chr&gt;</th><th scope=col>&lt;int&gt;</th><th scope=col>&lt;chr&gt;</th><th scope=col>&lt;chr&gt;</th><th scope=col>&lt;int&gt;</th><th scope=col>&lt;dbl&gt;</th><th scope=col>&lt;dbl&gt;</th><th scope=col>&lt;dbl&gt;</th><th scope=col>&lt;dbl&gt;</th><th scope=col>&lt;chr&gt;</th></tr>\n",
       "</thead>\n",
       "<tbody>\n",
       "\t<tr><th scope=row>1</th><td>9000753</td><td>VICTORIA</td><td>VICTORIA</td><td>N</td><td>MAÑANA</td><td>6 - B Prim</td><td>Tercer Trimestre</td><td>49438652</td><td>ARTES VISUALES       </td><td>512667</td><td>⋯</td><td>N</td><td>5</td><td>Primaria</td><td>Comun</td><td>2023</td><td>9</td><td>5</td><td>8</td><td>7.33</td><td>Aprobado</td></tr>\n",
       "\t<tr><th scope=row>2</th><td>9000753</td><td>VICTORIA</td><td>VICTORIA</td><td>N</td><td>MAÑANA</td><td>6 - B Prim</td><td>Tercer Trimestre</td><td>49438652</td><td>CIENCIAS NATURALES   </td><td>512667</td><td>⋯</td><td>N</td><td>5</td><td>Primaria</td><td>Comun</td><td>2023</td><td>6</td><td>6</td><td>6</td><td>6.00</td><td>Aprobado</td></tr>\n",
       "\t<tr><th scope=row>3</th><td>9000753</td><td>VICTORIA</td><td>VICTORIA</td><td>N</td><td>MAÑANA</td><td>6 - B Prim</td><td>Tercer Trimestre</td><td>49438652</td><td>CIENCIAS SOCIALES    </td><td>512667</td><td>⋯</td><td>N</td><td>5</td><td>Primaria</td><td>Comun</td><td>2023</td><td>6</td><td>6</td><td>6</td><td>6.00</td><td>Aprobado</td></tr>\n",
       "\t<tr><th scope=row>4</th><td>9000753</td><td>VICTORIA</td><td>VICTORIA</td><td>N</td><td>MAÑANA</td><td>6 - B Prim</td><td>Tercer Trimestre</td><td>49438652</td><td>EDUCACION FISICA     </td><td>512667</td><td>⋯</td><td>N</td><td>5</td><td>Primaria</td><td>Comun</td><td>2023</td><td>7</td><td>8</td><td>7</td><td>7.33</td><td>Aprobado</td></tr>\n",
       "\t<tr><th scope=row>5</th><td>9000753</td><td>VICTORIA</td><td>VICTORIA</td><td>N</td><td>MAÑANA</td><td>6 - B Prim</td><td>Tercer Trimestre</td><td>49438652</td><td>EDUCACION MUSICAL    </td><td>512667</td><td>⋯</td><td>N</td><td>5</td><td>Primaria</td><td>Comun</td><td>2023</td><td>8</td><td>7</td><td>7</td><td>7.33</td><td>Aprobado</td></tr>\n",
       "\t<tr><th scope=row>6</th><td>9000753</td><td>VICTORIA</td><td>VICTORIA</td><td>N</td><td>MAÑANA</td><td>6 - B Prim</td><td>Tercer Trimestre</td><td>49438652</td><td>EDUCACION TECNOLOGICA</td><td>512667</td><td>⋯</td><td>N</td><td>5</td><td>Primaria</td><td>Comun</td><td>2023</td><td>7</td><td>6</td><td>7</td><td>6.67</td><td>Aprobado</td></tr>\n",
       "</tbody>\n",
       "</table>\n"
      ],
      "text/latex": [
       "A data.frame: 6 × 26\n",
       "\\begin{tabular}{r|lllllllllllllllllllll}\n",
       "  & CodigoUnicoEscolar & departamento & localidad & EsPrivada & turno & curso & periodoEvaluatorio & Documento & asignatura & idalumno & ⋯ & esMultiaño & IdModEnseñanza & Modalidad & ModEnseñanza & año & NotasPrimerT & NotasSegundoT & NotasTercerT & Promedio & Condición\\\\\n",
       "  & <int> & <chr> & <chr> & <chr> & <chr> & <chr> & <chr> & <int> & <chr> & <int> & ⋯ & <chr> & <int> & <chr> & <chr> & <int> & <dbl> & <dbl> & <dbl> & <dbl> & <chr>\\\\\n",
       "\\hline\n",
       "\t1 & 9000753 & VICTORIA & VICTORIA & N & MAÑANA & 6 - B Prim & Tercer Trimestre & 49438652 & ARTES VISUALES        & 512667 & ⋯ & N & 5 & Primaria & Comun & 2023 & 9 & 5 & 8 & 7.33 & Aprobado\\\\\n",
       "\t2 & 9000753 & VICTORIA & VICTORIA & N & MAÑANA & 6 - B Prim & Tercer Trimestre & 49438652 & CIENCIAS NATURALES    & 512667 & ⋯ & N & 5 & Primaria & Comun & 2023 & 6 & 6 & 6 & 6.00 & Aprobado\\\\\n",
       "\t3 & 9000753 & VICTORIA & VICTORIA & N & MAÑANA & 6 - B Prim & Tercer Trimestre & 49438652 & CIENCIAS SOCIALES     & 512667 & ⋯ & N & 5 & Primaria & Comun & 2023 & 6 & 6 & 6 & 6.00 & Aprobado\\\\\n",
       "\t4 & 9000753 & VICTORIA & VICTORIA & N & MAÑANA & 6 - B Prim & Tercer Trimestre & 49438652 & EDUCACION FISICA      & 512667 & ⋯ & N & 5 & Primaria & Comun & 2023 & 7 & 8 & 7 & 7.33 & Aprobado\\\\\n",
       "\t5 & 9000753 & VICTORIA & VICTORIA & N & MAÑANA & 6 - B Prim & Tercer Trimestre & 49438652 & EDUCACION MUSICAL     & 512667 & ⋯ & N & 5 & Primaria & Comun & 2023 & 8 & 7 & 7 & 7.33 & Aprobado\\\\\n",
       "\t6 & 9000753 & VICTORIA & VICTORIA & N & MAÑANA & 6 - B Prim & Tercer Trimestre & 49438652 & EDUCACION TECNOLOGICA & 512667 & ⋯ & N & 5 & Primaria & Comun & 2023 & 7 & 6 & 7 & 6.67 & Aprobado\\\\\n",
       "\\end{tabular}\n"
      ],
      "text/markdown": [
       "\n",
       "A data.frame: 6 × 26\n",
       "\n",
       "| <!--/--> | CodigoUnicoEscolar &lt;int&gt; | departamento &lt;chr&gt; | localidad &lt;chr&gt; | EsPrivada &lt;chr&gt; | turno &lt;chr&gt; | curso &lt;chr&gt; | periodoEvaluatorio &lt;chr&gt; | Documento &lt;int&gt; | asignatura &lt;chr&gt; | idalumno &lt;int&gt; | ⋯ ⋯ | esMultiaño &lt;chr&gt; | IdModEnseñanza &lt;int&gt; | Modalidad &lt;chr&gt; | ModEnseñanza &lt;chr&gt; | año &lt;int&gt; | NotasPrimerT &lt;dbl&gt; | NotasSegundoT &lt;dbl&gt; | NotasTercerT &lt;dbl&gt; | Promedio &lt;dbl&gt; | Condición &lt;chr&gt; |\n",
       "|---|---|---|---|---|---|---|---|---|---|---|---|---|---|---|---|---|---|---|---|---|---|\n",
       "| 1 | 9000753 | VICTORIA | VICTORIA | N | MAÑANA | 6 - B Prim | Tercer Trimestre | 49438652 | ARTES VISUALES        | 512667 | ⋯ | N | 5 | Primaria | Comun | 2023 | 9 | 5 | 8 | 7.33 | Aprobado |\n",
       "| 2 | 9000753 | VICTORIA | VICTORIA | N | MAÑANA | 6 - B Prim | Tercer Trimestre | 49438652 | CIENCIAS NATURALES    | 512667 | ⋯ | N | 5 | Primaria | Comun | 2023 | 6 | 6 | 6 | 6.00 | Aprobado |\n",
       "| 3 | 9000753 | VICTORIA | VICTORIA | N | MAÑANA | 6 - B Prim | Tercer Trimestre | 49438652 | CIENCIAS SOCIALES     | 512667 | ⋯ | N | 5 | Primaria | Comun | 2023 | 6 | 6 | 6 | 6.00 | Aprobado |\n",
       "| 4 | 9000753 | VICTORIA | VICTORIA | N | MAÑANA | 6 - B Prim | Tercer Trimestre | 49438652 | EDUCACION FISICA      | 512667 | ⋯ | N | 5 | Primaria | Comun | 2023 | 7 | 8 | 7 | 7.33 | Aprobado |\n",
       "| 5 | 9000753 | VICTORIA | VICTORIA | N | MAÑANA | 6 - B Prim | Tercer Trimestre | 49438652 | EDUCACION MUSICAL     | 512667 | ⋯ | N | 5 | Primaria | Comun | 2023 | 8 | 7 | 7 | 7.33 | Aprobado |\n",
       "| 6 | 9000753 | VICTORIA | VICTORIA | N | MAÑANA | 6 - B Prim | Tercer Trimestre | 49438652 | EDUCACION TECNOLOGICA | 512667 | ⋯ | N | 5 | Primaria | Comun | 2023 | 7 | 6 | 7 | 6.67 | Aprobado |\n",
       "\n"
      ],
      "text/plain": [
       "  CodigoUnicoEscolar departamento localidad EsPrivada turno  curso     \n",
       "1 9000753            VICTORIA     VICTORIA  N         MAÑANA 6 - B Prim\n",
       "2 9000753            VICTORIA     VICTORIA  N         MAÑANA 6 - B Prim\n",
       "3 9000753            VICTORIA     VICTORIA  N         MAÑANA 6 - B Prim\n",
       "4 9000753            VICTORIA     VICTORIA  N         MAÑANA 6 - B Prim\n",
       "5 9000753            VICTORIA     VICTORIA  N         MAÑANA 6 - B Prim\n",
       "6 9000753            VICTORIA     VICTORIA  N         MAÑANA 6 - B Prim\n",
       "  periodoEvaluatorio Documento asignatura            idalumno ⋯ esMultiaño\n",
       "1 Tercer Trimestre   49438652  ARTES VISUALES        512667   ⋯ N         \n",
       "2 Tercer Trimestre   49438652  CIENCIAS NATURALES    512667   ⋯ N         \n",
       "3 Tercer Trimestre   49438652  CIENCIAS SOCIALES     512667   ⋯ N         \n",
       "4 Tercer Trimestre   49438652  EDUCACION FISICA      512667   ⋯ N         \n",
       "5 Tercer Trimestre   49438652  EDUCACION MUSICAL     512667   ⋯ N         \n",
       "6 Tercer Trimestre   49438652  EDUCACION TECNOLOGICA 512667   ⋯ N         \n",
       "  IdModEnseñanza Modalidad ModEnseñanza año  NotasPrimerT NotasSegundoT\n",
       "1 5              Primaria  Comun        2023 9            5            \n",
       "2 5              Primaria  Comun        2023 6            6            \n",
       "3 5              Primaria  Comun        2023 6            6            \n",
       "4 5              Primaria  Comun        2023 7            8            \n",
       "5 5              Primaria  Comun        2023 8            7            \n",
       "6 5              Primaria  Comun        2023 7            6            \n",
       "  NotasTercerT Promedio Condición\n",
       "1 8            7.33     Aprobado \n",
       "2 6            6.00     Aprobado \n",
       "3 6            6.00     Aprobado \n",
       "4 7            7.33     Aprobado \n",
       "5 7            7.33     Aprobado \n",
       "6 7            6.67     Aprobado "
      ]
     },
     "metadata": {},
     "output_type": "display_data"
    }
   ],
   "source": [
    "head(Notas_Victoria_primaria)"
   ]
  },
  {
   "cell_type": "markdown",
   "id": "99e74b3f-30b9-4c53-9647-eaedcf9a4e18",
   "metadata": {},
   "source": [
    "-----------------------"
   ]
  },
  {
   "cell_type": "code",
   "execution_count": 34,
   "id": "7de1889c-3b8d-4643-8b80-aafc7a983bea",
   "metadata": {},
   "outputs": [],
   "source": [
    "#Fusionamos los 3 daset usando las columnas Documento (DNI) y Asignatura como claves para la fusion\n",
    "#\"Claves de fusion\" --> Columnas que deben coincidir en los conjuntos de datos que se están fusionando\n",
    "\n",
    "aux1 <- merge(x = PrimerT_secundaria, y = SegundoT_secundaria, by = c(\"Documento\", \"asignatura\"))\n",
    "auxiliar1 <- merge(x = aux1, y = TercerT_secundaria, by = c(\"Documento\", \"asignatura\"))"
   ]
  },
  {
   "cell_type": "code",
   "execution_count": 35,
   "id": "033210bb-a59b-45a0-8f09-bffdd77d3e7d",
   "metadata": {},
   "outputs": [],
   "source": [
    "#Nos quedamos con las columnas de nuestro interes\n",
    "Notas_Victoria_secundaria <- select(auxiliar1, 'CodigoUnicoEscolar', 'departamento', 'localidad', 'EsPrivada', 'turno' , 'curso' , 'periodoEvaluatorio' , 'Documento', 'asignatura','idalumno', 'observaciones', 'idSubOrganizacion', 'idDivision', 'NivelEnseñanza', 'orden','Nivel', 'esMultiaño', 'IdModEnseñanza', 'Modalidad', 'ModEnseñanza', 'año','NotasPrimerT','NotasSegundoT', 'NotasTercerT')"
   ]
  },
  {
   "cell_type": "code",
   "execution_count": 36,
   "id": "e9d6d0b0-be7f-417b-ab3b-b6a4bb168a80",
   "metadata": {},
   "outputs": [],
   "source": [
    "#Agregamos nueva columna 'Promedio' de los 3 trimestres\n",
    "Notas_Victoria_secundaria$Promedio <-round ((as.numeric(Notas_Victoria_secundaria$NotasPrimerT)+as.numeric(Notas_Victoria_secundaria$NotasSegundoT)+as.numeric(Notas_Victoria_secundaria$NotasTercerT))/3,2)\n",
    "\n",
    "#Agregamos nueva columna 'Condicion' \n",
    "Notas_Victoria_secundaria <- Notas_Victoria_secundaria %>% mutate(Condición = case_when(\n",
    "  Promedio >= 6 ~ \"Aprobado\", #Promedio > 6 --> Aprobado\n",
    "  Promedio <=6  ~ \"Rinde\", #Promedio <6 --> Rinde \n",
    "   TRUE~ \"sin registro completo\")) #No se cumple ninguno de los casos anteriores --> \"sin registro completo\""
   ]
  },
  {
   "cell_type": "code",
   "execution_count": 37,
   "id": "c9320ef9-c91b-432f-bb83-1150be1dc88c",
   "metadata": {},
   "outputs": [
    {
     "data": {
      "text/html": [
       "<table class=\"dataframe\">\n",
       "<caption>A data.frame: 6 × 26</caption>\n",
       "<thead>\n",
       "\t<tr><th></th><th scope=col>CodigoUnicoEscolar</th><th scope=col>departamento</th><th scope=col>localidad</th><th scope=col>EsPrivada</th><th scope=col>turno</th><th scope=col>curso</th><th scope=col>periodoEvaluatorio</th><th scope=col>Documento</th><th scope=col>asignatura</th><th scope=col>idalumno</th><th scope=col>⋯</th><th scope=col>esMultiaño</th><th scope=col>IdModEnseñanza</th><th scope=col>Modalidad</th><th scope=col>ModEnseñanza</th><th scope=col>año</th><th scope=col>NotasPrimerT</th><th scope=col>NotasSegundoT</th><th scope=col>NotasTercerT</th><th scope=col>Promedio</th><th scope=col>Condición</th></tr>\n",
       "\t<tr><th></th><th scope=col>&lt;int&gt;</th><th scope=col>&lt;chr&gt;</th><th scope=col>&lt;chr&gt;</th><th scope=col>&lt;chr&gt;</th><th scope=col>&lt;chr&gt;</th><th scope=col>&lt;chr&gt;</th><th scope=col>&lt;chr&gt;</th><th scope=col>&lt;int&gt;</th><th scope=col>&lt;chr&gt;</th><th scope=col>&lt;int&gt;</th><th scope=col>⋯</th><th scope=col>&lt;chr&gt;</th><th scope=col>&lt;int&gt;</th><th scope=col>&lt;chr&gt;</th><th scope=col>&lt;chr&gt;</th><th scope=col>&lt;int&gt;</th><th scope=col>&lt;dbl&gt;</th><th scope=col>&lt;dbl&gt;</th><th scope=col>&lt;dbl&gt;</th><th scope=col>&lt;dbl&gt;</th><th scope=col>&lt;chr&gt;</th></tr>\n",
       "</thead>\n",
       "<tbody>\n",
       "\t<tr><th scope=row>1</th><td>9008373</td><td>VICTORIA</td><td>VICTORIA</td><td>N</td><td>NOCHE</td><td>3 - B 4000A</td><td>Tercer Trimestre</td><td>37098670</td><td>TECNOLOGIA DE LA INFORMACION Y LA COMUNICACION</td><td>1157557</td><td>⋯</td><td>N</td><td>5</td><td>Secundaria</td><td>Comun</td><td>2023</td><td> 3</td><td> 3</td><td> 1</td><td> 2.33</td><td>Rinde   </td></tr>\n",
       "\t<tr><th scope=row>2</th><td>9008373</td><td>VICTORIA</td><td>VICTORIA</td><td>N</td><td>NOCHE</td><td>3 - B 4000A</td><td>Tercer Trimestre</td><td>37098670</td><td>TUTORIAS                                      </td><td>1157557</td><td>⋯</td><td>N</td><td>5</td><td>Secundaria</td><td>Comun</td><td>2023</td><td> 2</td><td> 2</td><td> 2</td><td> 2.00</td><td>Rinde   </td></tr>\n",
       "\t<tr><th scope=row>3</th><td>9008373</td><td>VICTORIA</td><td>VICTORIA</td><td>N</td><td>NOCHE</td><td>3 - B 4000A</td><td>Tercer Trimestre</td><td>38052214</td><td>HISTORIA                                      </td><td> 907312</td><td>⋯</td><td>N</td><td>5</td><td>Secundaria</td><td>Comun</td><td>2023</td><td> 9</td><td> 9</td><td> 9</td><td> 9.00</td><td>Aprobado</td></tr>\n",
       "\t<tr><th scope=row>4</th><td>9008373</td><td>VICTORIA</td><td>VICTORIA</td><td>N</td><td>NOCHE</td><td>3 - B 4000A</td><td>Tercer Trimestre</td><td>38052214</td><td>LENGUA Y LITERATURA                           </td><td> 907312</td><td>⋯</td><td>N</td><td>5</td><td>Secundaria</td><td>Comun</td><td>2023</td><td> 9</td><td> 7</td><td>10</td><td> 8.67</td><td>Aprobado</td></tr>\n",
       "\t<tr><th scope=row>5</th><td>9008373</td><td>VICTORIA</td><td>VICTORIA</td><td>N</td><td>NOCHE</td><td>3 - B 4000A</td><td>Tercer Trimestre</td><td>38052214</td><td>LENGUAJE Y PRODUCCION MUSICAL II              </td><td> 907312</td><td>⋯</td><td>N</td><td>5</td><td>Secundaria</td><td>Comun</td><td>2023</td><td>10</td><td>10</td><td>10</td><td>10.00</td><td>Aprobado</td></tr>\n",
       "\t<tr><th scope=row>6</th><td>9008373</td><td>VICTORIA</td><td>VICTORIA</td><td>N</td><td>NOCHE</td><td>3 - B 4000A</td><td>Tercer Trimestre</td><td>38052214</td><td>LENGUAJE Y PRODUCCION VISUAL II               </td><td> 907312</td><td>⋯</td><td>N</td><td>5</td><td>Secundaria</td><td>Comun</td><td>2023</td><td> 8</td><td> 9</td><td> 8</td><td> 8.33</td><td>Aprobado</td></tr>\n",
       "</tbody>\n",
       "</table>\n"
      ],
      "text/latex": [
       "A data.frame: 6 × 26\n",
       "\\begin{tabular}{r|lllllllllllllllllllll}\n",
       "  & CodigoUnicoEscolar & departamento & localidad & EsPrivada & turno & curso & periodoEvaluatorio & Documento & asignatura & idalumno & ⋯ & esMultiaño & IdModEnseñanza & Modalidad & ModEnseñanza & año & NotasPrimerT & NotasSegundoT & NotasTercerT & Promedio & Condición\\\\\n",
       "  & <int> & <chr> & <chr> & <chr> & <chr> & <chr> & <chr> & <int> & <chr> & <int> & ⋯ & <chr> & <int> & <chr> & <chr> & <int> & <dbl> & <dbl> & <dbl> & <dbl> & <chr>\\\\\n",
       "\\hline\n",
       "\t1 & 9008373 & VICTORIA & VICTORIA & N & NOCHE & 3 - B 4000A & Tercer Trimestre & 37098670 & TECNOLOGIA DE LA INFORMACION Y LA COMUNICACION & 1157557 & ⋯ & N & 5 & Secundaria & Comun & 2023 &  3 &  3 &  1 &  2.33 & Rinde   \\\\\n",
       "\t2 & 9008373 & VICTORIA & VICTORIA & N & NOCHE & 3 - B 4000A & Tercer Trimestre & 37098670 & TUTORIAS                                       & 1157557 & ⋯ & N & 5 & Secundaria & Comun & 2023 &  2 &  2 &  2 &  2.00 & Rinde   \\\\\n",
       "\t3 & 9008373 & VICTORIA & VICTORIA & N & NOCHE & 3 - B 4000A & Tercer Trimestre & 38052214 & HISTORIA                                       &  907312 & ⋯ & N & 5 & Secundaria & Comun & 2023 &  9 &  9 &  9 &  9.00 & Aprobado\\\\\n",
       "\t4 & 9008373 & VICTORIA & VICTORIA & N & NOCHE & 3 - B 4000A & Tercer Trimestre & 38052214 & LENGUA Y LITERATURA                            &  907312 & ⋯ & N & 5 & Secundaria & Comun & 2023 &  9 &  7 & 10 &  8.67 & Aprobado\\\\\n",
       "\t5 & 9008373 & VICTORIA & VICTORIA & N & NOCHE & 3 - B 4000A & Tercer Trimestre & 38052214 & LENGUAJE Y PRODUCCION MUSICAL II               &  907312 & ⋯ & N & 5 & Secundaria & Comun & 2023 & 10 & 10 & 10 & 10.00 & Aprobado\\\\\n",
       "\t6 & 9008373 & VICTORIA & VICTORIA & N & NOCHE & 3 - B 4000A & Tercer Trimestre & 38052214 & LENGUAJE Y PRODUCCION VISUAL II                &  907312 & ⋯ & N & 5 & Secundaria & Comun & 2023 &  8 &  9 &  8 &  8.33 & Aprobado\\\\\n",
       "\\end{tabular}\n"
      ],
      "text/markdown": [
       "\n",
       "A data.frame: 6 × 26\n",
       "\n",
       "| <!--/--> | CodigoUnicoEscolar &lt;int&gt; | departamento &lt;chr&gt; | localidad &lt;chr&gt; | EsPrivada &lt;chr&gt; | turno &lt;chr&gt; | curso &lt;chr&gt; | periodoEvaluatorio &lt;chr&gt; | Documento &lt;int&gt; | asignatura &lt;chr&gt; | idalumno &lt;int&gt; | ⋯ ⋯ | esMultiaño &lt;chr&gt; | IdModEnseñanza &lt;int&gt; | Modalidad &lt;chr&gt; | ModEnseñanza &lt;chr&gt; | año &lt;int&gt; | NotasPrimerT &lt;dbl&gt; | NotasSegundoT &lt;dbl&gt; | NotasTercerT &lt;dbl&gt; | Promedio &lt;dbl&gt; | Condición &lt;chr&gt; |\n",
       "|---|---|---|---|---|---|---|---|---|---|---|---|---|---|---|---|---|---|---|---|---|---|\n",
       "| 1 | 9008373 | VICTORIA | VICTORIA | N | NOCHE | 3 - B 4000A | Tercer Trimestre | 37098670 | TECNOLOGIA DE LA INFORMACION Y LA COMUNICACION | 1157557 | ⋯ | N | 5 | Secundaria | Comun | 2023 |  3 |  3 |  1 |  2.33 | Rinde    |\n",
       "| 2 | 9008373 | VICTORIA | VICTORIA | N | NOCHE | 3 - B 4000A | Tercer Trimestre | 37098670 | TUTORIAS                                       | 1157557 | ⋯ | N | 5 | Secundaria | Comun | 2023 |  2 |  2 |  2 |  2.00 | Rinde    |\n",
       "| 3 | 9008373 | VICTORIA | VICTORIA | N | NOCHE | 3 - B 4000A | Tercer Trimestre | 38052214 | HISTORIA                                       |  907312 | ⋯ | N | 5 | Secundaria | Comun | 2023 |  9 |  9 |  9 |  9.00 | Aprobado |\n",
       "| 4 | 9008373 | VICTORIA | VICTORIA | N | NOCHE | 3 - B 4000A | Tercer Trimestre | 38052214 | LENGUA Y LITERATURA                            |  907312 | ⋯ | N | 5 | Secundaria | Comun | 2023 |  9 |  7 | 10 |  8.67 | Aprobado |\n",
       "| 5 | 9008373 | VICTORIA | VICTORIA | N | NOCHE | 3 - B 4000A | Tercer Trimestre | 38052214 | LENGUAJE Y PRODUCCION MUSICAL II               |  907312 | ⋯ | N | 5 | Secundaria | Comun | 2023 | 10 | 10 | 10 | 10.00 | Aprobado |\n",
       "| 6 | 9008373 | VICTORIA | VICTORIA | N | NOCHE | 3 - B 4000A | Tercer Trimestre | 38052214 | LENGUAJE Y PRODUCCION VISUAL II                |  907312 | ⋯ | N | 5 | Secundaria | Comun | 2023 |  8 |  9 |  8 |  8.33 | Aprobado |\n",
       "\n"
      ],
      "text/plain": [
       "  CodigoUnicoEscolar departamento localidad EsPrivada turno curso      \n",
       "1 9008373            VICTORIA     VICTORIA  N         NOCHE 3 - B 4000A\n",
       "2 9008373            VICTORIA     VICTORIA  N         NOCHE 3 - B 4000A\n",
       "3 9008373            VICTORIA     VICTORIA  N         NOCHE 3 - B 4000A\n",
       "4 9008373            VICTORIA     VICTORIA  N         NOCHE 3 - B 4000A\n",
       "5 9008373            VICTORIA     VICTORIA  N         NOCHE 3 - B 4000A\n",
       "6 9008373            VICTORIA     VICTORIA  N         NOCHE 3 - B 4000A\n",
       "  periodoEvaluatorio Documento asignatura                                    \n",
       "1 Tercer Trimestre   37098670  TECNOLOGIA DE LA INFORMACION Y LA COMUNICACION\n",
       "2 Tercer Trimestre   37098670  TUTORIAS                                      \n",
       "3 Tercer Trimestre   38052214  HISTORIA                                      \n",
       "4 Tercer Trimestre   38052214  LENGUA Y LITERATURA                           \n",
       "5 Tercer Trimestre   38052214  LENGUAJE Y PRODUCCION MUSICAL II              \n",
       "6 Tercer Trimestre   38052214  LENGUAJE Y PRODUCCION VISUAL II               \n",
       "  idalumno ⋯ esMultiaño IdModEnseñanza Modalidad  ModEnseñanza año \n",
       "1 1157557  ⋯ N          5              Secundaria Comun        2023\n",
       "2 1157557  ⋯ N          5              Secundaria Comun        2023\n",
       "3  907312  ⋯ N          5              Secundaria Comun        2023\n",
       "4  907312  ⋯ N          5              Secundaria Comun        2023\n",
       "5  907312  ⋯ N          5              Secundaria Comun        2023\n",
       "6  907312  ⋯ N          5              Secundaria Comun        2023\n",
       "  NotasPrimerT NotasSegundoT NotasTercerT Promedio Condición\n",
       "1  3            3             1            2.33    Rinde    \n",
       "2  2            2             2            2.00    Rinde    \n",
       "3  9            9             9            9.00    Aprobado \n",
       "4  9            7            10            8.67    Aprobado \n",
       "5 10           10            10           10.00    Aprobado \n",
       "6  8            9             8            8.33    Aprobado "
      ]
     },
     "metadata": {},
     "output_type": "display_data"
    }
   ],
   "source": [
    "head(Notas_Victoria_secundaria)"
   ]
  },
  {
   "cell_type": "markdown",
   "id": "19f62db7-d02e-47d8-b706-49ab524c9f21",
   "metadata": {},
   "source": [
    "### Unificamos los nombres de las asignaturas (normalizacion)"
   ]
  },
  {
   "cell_type": "markdown",
   "id": "ca288aed-305f-4012-881e-46c1ed472064",
   "metadata": {},
   "source": [
    "#### Comenzamos con el dataset PRIMARIA (Notas_Victoria_primaria)"
   ]
  },
  {
   "cell_type": "code",
   "execution_count": 38,
   "id": "dc58e5ba-eda7-4665-9a0d-09ea7c7b0f73",
   "metadata": {},
   "outputs": [],
   "source": [
    "#ACA CONVIENE QUE DIRECTAMENTE LLAME A TODOS LOS ICONV() PARA CONVERTIR TODO A ASCII?\n",
    "#O MEJOR LO HAGO CUANDO ME VEO EN LA NECESIDAD ?\n",
    "\n",
    "#Notas_Victoria_primaria$curso <- iconv(Notas_Victoria_primaria$curso, from = \"UTF-8\", to = \"ASCII\", sub = \"\")\n",
    "#Notas_Victoria_primaria$asignatura <- iconv(Notas_Victoria_primaria$asignatura, from = \"UTF-8\", to = \"ASCII\", sub = \"\")\n",
    "#Notas_Victoria_primaria$....."
   ]
  },
  {
   "cell_type": "code",
   "execution_count": 39,
   "id": "3334836e-aa8c-473e-81de-1289815932c2",
   "metadata": {},
   "outputs": [],
   "source": [
    "library(stringr) #Importamos libreria stringr"
   ]
  },
  {
   "cell_type": "code",
   "execution_count": 40,
   "id": "8309c6a2-77bd-4d75-85f3-886f29ad5419",
   "metadata": {},
   "outputs": [],
   "source": [
    "#Para evitarnos errores con la codificacion UTF-8 a la hora de normalizar, convertimos todo a ASCII (evito problemas con las tildes)\n",
    "Notas_Victoria_primaria$asignatura <- iconv(Notas_Victoria_primaria$asignatura, from = \"UTF-8\", to = \"ASCII\", sub = \"\")"
   ]
  },
  {
   "cell_type": "code",
   "execution_count": 41,
   "id": "7bcdc4ee-4783-4c87-913e-bc8bf75bfc67",
   "metadata": {},
   "outputs": [
    {
     "data": {
      "text/html": [
       "<style>\n",
       ".list-inline {list-style: none; margin:0; padding: 0}\n",
       ".list-inline>li {display: inline-block}\n",
       ".list-inline>li:not(:last-child)::after {content: \"\\00b7\"; padding: 0 .5ex}\n",
       "</style>\n",
       "<ol class=list-inline><li>'ARTES VISUALES'</li><li>'CIENCIAS NATURALES'</li><li>'CIENCIAS SOCIALES'</li><li>'EDUCACION FISICA'</li><li>'EDUCACION MUSICAL'</li><li>'EDUCACION TECNOLOGICA'</li><li>'LENGUA'</li><li>'MATEMATICA'</li><li>'EDI'</li><li>'Ingls'</li><li>'Laborat.en el aula para ensear/aprender ccias'</li><li>'TIC'</li><li>'Acompaamiento al Estudio Lengua'</li><li>'Acompaamiento al Estudio Matemtica'</li><li>'Acompaamiento al Estudio Naturales'</li><li>'Acompaamiento al Estudio Sociales'</li><li>'TALLER DE ARTES VISUALES'</li><li>'TALLER DE DEPORTE'</li><li>'TALLER DE INGLES'</li><li>'TALLER DE LABORATORIO'</li><li>'TALLER DE MUSICA'</li><li>'TALLER DE TEATRO'</li><li>'TALLER DE TIC'</li><li>'TALLER VIDA EN LA NATURALEZA'</li><li>'Taller Ingles'</li><li>'INFORMATICA'</li><li>'INGLES'</li><li>'ITALIANO'</li><li>'E.D.I.'</li><li>'TALLER LABORATORIO'</li><li>'TALLER TEATRO'</li><li>'TALLER TIC'</li><li>'TALLER DE LENGUA EXTRANJERA INGLES'</li><li>'Ac.en Lengua y Cs. Sociales'</li><li>'Ac.en Matemtica y Cs. Naturales'</li><li>'DEPORTE'</li><li>'INGLS'</li><li>'LITERATURA'</li><li>'TALLER DE INGLS'</li><li>'IDIOMA EXTRANJERO'</li><li>'CATEQUESIS'</li><li>'Catequesis'</li><li>'TICS'</li><li>'Taller de Lenguaje de las Artes Visuales'</li><li>'Acompaamiento al Estudio'</li><li>'TALLER CREATIVO'</li><li>'T/A ESTUDIO (LENGUA-CS SOCIALES)'</li><li>'T/A ESTUDIO (MATEMATICA-CS NATURALES)'</li><li><span style=white-space:pre-wrap>'TALLER  DE TEATRO'</span></li><li>'TALLER DE FOLKLORE'</li><li>'TALLER DE TIC Y RECREACIN DE LA IMAGEN'</li><li>'TALLER INGLES'</li><li>'INFORMTICA'</li><li><span style=white-space:pre-wrap>'Taller Acompaamiento  Matemtica y Cs. Naturales'</span></li><li>'Taller Acompaamiento Lengua y Ciencias Sociales'</li><li>'Taller de Folklore'</li><li>'Taller de Teatro'</li><li>'Taller de TIC y Recreacin de la Imagen'</li><li>'Taller Lengua Extranjera (Ingles)'</li></ol>\n"
      ],
      "text/latex": [
       "\\begin{enumerate*}\n",
       "\\item 'ARTES VISUALES'\n",
       "\\item 'CIENCIAS NATURALES'\n",
       "\\item 'CIENCIAS SOCIALES'\n",
       "\\item 'EDUCACION FISICA'\n",
       "\\item 'EDUCACION MUSICAL'\n",
       "\\item 'EDUCACION TECNOLOGICA'\n",
       "\\item 'LENGUA'\n",
       "\\item 'MATEMATICA'\n",
       "\\item 'EDI'\n",
       "\\item 'Ingls'\n",
       "\\item 'Laborat.en el aula para ensear/aprender ccias'\n",
       "\\item 'TIC'\n",
       "\\item 'Acompaamiento al Estudio Lengua'\n",
       "\\item 'Acompaamiento al Estudio Matemtica'\n",
       "\\item 'Acompaamiento al Estudio Naturales'\n",
       "\\item 'Acompaamiento al Estudio Sociales'\n",
       "\\item 'TALLER DE ARTES VISUALES'\n",
       "\\item 'TALLER DE DEPORTE'\n",
       "\\item 'TALLER DE INGLES'\n",
       "\\item 'TALLER DE LABORATORIO'\n",
       "\\item 'TALLER DE MUSICA'\n",
       "\\item 'TALLER DE TEATRO'\n",
       "\\item 'TALLER DE TIC'\n",
       "\\item 'TALLER VIDA EN LA NATURALEZA'\n",
       "\\item 'Taller Ingles'\n",
       "\\item 'INFORMATICA'\n",
       "\\item 'INGLES'\n",
       "\\item 'ITALIANO'\n",
       "\\item 'E.D.I.'\n",
       "\\item 'TALLER LABORATORIO'\n",
       "\\item 'TALLER TEATRO'\n",
       "\\item 'TALLER TIC'\n",
       "\\item 'TALLER DE LENGUA EXTRANJERA INGLES'\n",
       "\\item 'Ac.en Lengua y Cs. Sociales'\n",
       "\\item 'Ac.en Matemtica y Cs. Naturales'\n",
       "\\item 'DEPORTE'\n",
       "\\item 'INGLS'\n",
       "\\item 'LITERATURA'\n",
       "\\item 'TALLER DE INGLS'\n",
       "\\item 'IDIOMA EXTRANJERO'\n",
       "\\item 'CATEQUESIS'\n",
       "\\item 'Catequesis'\n",
       "\\item 'TICS'\n",
       "\\item 'Taller de Lenguaje de las Artes Visuales'\n",
       "\\item 'Acompaamiento al Estudio'\n",
       "\\item 'TALLER CREATIVO'\n",
       "\\item 'T/A ESTUDIO (LENGUA-CS SOCIALES)'\n",
       "\\item 'T/A ESTUDIO (MATEMATICA-CS NATURALES)'\n",
       "\\item 'TALLER  DE TEATRO'\n",
       "\\item 'TALLER DE FOLKLORE'\n",
       "\\item 'TALLER DE TIC Y RECREACIN DE LA IMAGEN'\n",
       "\\item 'TALLER INGLES'\n",
       "\\item 'INFORMTICA'\n",
       "\\item 'Taller Acompaamiento  Matemtica y Cs. Naturales'\n",
       "\\item 'Taller Acompaamiento Lengua y Ciencias Sociales'\n",
       "\\item 'Taller de Folklore'\n",
       "\\item 'Taller de Teatro'\n",
       "\\item 'Taller de TIC y Recreacin de la Imagen'\n",
       "\\item 'Taller Lengua Extranjera (Ingles)'\n",
       "\\end{enumerate*}\n"
      ],
      "text/markdown": [
       "1. 'ARTES VISUALES'\n",
       "2. 'CIENCIAS NATURALES'\n",
       "3. 'CIENCIAS SOCIALES'\n",
       "4. 'EDUCACION FISICA'\n",
       "5. 'EDUCACION MUSICAL'\n",
       "6. 'EDUCACION TECNOLOGICA'\n",
       "7. 'LENGUA'\n",
       "8. 'MATEMATICA'\n",
       "9. 'EDI'\n",
       "10. 'Ingls'\n",
       "11. 'Laborat.en el aula para ensear/aprender ccias'\n",
       "12. 'TIC'\n",
       "13. 'Acompaamiento al Estudio Lengua'\n",
       "14. 'Acompaamiento al Estudio Matemtica'\n",
       "15. 'Acompaamiento al Estudio Naturales'\n",
       "16. 'Acompaamiento al Estudio Sociales'\n",
       "17. 'TALLER DE ARTES VISUALES'\n",
       "18. 'TALLER DE DEPORTE'\n",
       "19. 'TALLER DE INGLES'\n",
       "20. 'TALLER DE LABORATORIO'\n",
       "21. 'TALLER DE MUSICA'\n",
       "22. 'TALLER DE TEATRO'\n",
       "23. 'TALLER DE TIC'\n",
       "24. 'TALLER VIDA EN LA NATURALEZA'\n",
       "25. 'Taller Ingles'\n",
       "26. 'INFORMATICA'\n",
       "27. 'INGLES'\n",
       "28. 'ITALIANO'\n",
       "29. 'E.D.I.'\n",
       "30. 'TALLER LABORATORIO'\n",
       "31. 'TALLER TEATRO'\n",
       "32. 'TALLER TIC'\n",
       "33. 'TALLER DE LENGUA EXTRANJERA INGLES'\n",
       "34. 'Ac.en Lengua y Cs. Sociales'\n",
       "35. 'Ac.en Matemtica y Cs. Naturales'\n",
       "36. 'DEPORTE'\n",
       "37. 'INGLS'\n",
       "38. 'LITERATURA'\n",
       "39. 'TALLER DE INGLS'\n",
       "40. 'IDIOMA EXTRANJERO'\n",
       "41. 'CATEQUESIS'\n",
       "42. 'Catequesis'\n",
       "43. 'TICS'\n",
       "44. 'Taller de Lenguaje de las Artes Visuales'\n",
       "45. 'Acompaamiento al Estudio'\n",
       "46. 'TALLER CREATIVO'\n",
       "47. 'T/A ESTUDIO (LENGUA-CS SOCIALES)'\n",
       "48. 'T/A ESTUDIO (MATEMATICA-CS NATURALES)'\n",
       "49. <span style=white-space:pre-wrap>'TALLER  DE TEATRO'</span>\n",
       "50. 'TALLER DE FOLKLORE'\n",
       "51. 'TALLER DE TIC Y RECREACIN DE LA IMAGEN'\n",
       "52. 'TALLER INGLES'\n",
       "53. 'INFORMTICA'\n",
       "54. <span style=white-space:pre-wrap>'Taller Acompaamiento  Matemtica y Cs. Naturales'</span>\n",
       "55. 'Taller Acompaamiento Lengua y Ciencias Sociales'\n",
       "56. 'Taller de Folklore'\n",
       "57. 'Taller de Teatro'\n",
       "58. 'Taller de TIC y Recreacin de la Imagen'\n",
       "59. 'Taller Lengua Extranjera (Ingles)'\n",
       "\n",
       "\n"
      ],
      "text/plain": [
       " [1] \"ARTES VISUALES\"                                 \n",
       " [2] \"CIENCIAS NATURALES\"                             \n",
       " [3] \"CIENCIAS SOCIALES\"                              \n",
       " [4] \"EDUCACION FISICA\"                               \n",
       " [5] \"EDUCACION MUSICAL\"                              \n",
       " [6] \"EDUCACION TECNOLOGICA\"                          \n",
       " [7] \"LENGUA\"                                         \n",
       " [8] \"MATEMATICA\"                                     \n",
       " [9] \"EDI\"                                            \n",
       "[10] \"Ingls\"                                          \n",
       "[11] \"Laborat.en el aula para ensear/aprender ccias\"  \n",
       "[12] \"TIC\"                                            \n",
       "[13] \"Acompaamiento al Estudio Lengua\"                \n",
       "[14] \"Acompaamiento al Estudio Matemtica\"             \n",
       "[15] \"Acompaamiento al Estudio Naturales\"             \n",
       "[16] \"Acompaamiento al Estudio Sociales\"              \n",
       "[17] \"TALLER DE ARTES VISUALES\"                       \n",
       "[18] \"TALLER DE DEPORTE\"                              \n",
       "[19] \"TALLER DE INGLES\"                               \n",
       "[20] \"TALLER DE LABORATORIO\"                          \n",
       "[21] \"TALLER DE MUSICA\"                               \n",
       "[22] \"TALLER DE TEATRO\"                               \n",
       "[23] \"TALLER DE TIC\"                                  \n",
       "[24] \"TALLER VIDA EN LA NATURALEZA\"                   \n",
       "[25] \"Taller Ingles\"                                  \n",
       "[26] \"INFORMATICA\"                                    \n",
       "[27] \"INGLES\"                                         \n",
       "[28] \"ITALIANO\"                                       \n",
       "[29] \"E.D.I.\"                                         \n",
       "[30] \"TALLER LABORATORIO\"                             \n",
       "[31] \"TALLER TEATRO\"                                  \n",
       "[32] \"TALLER TIC\"                                     \n",
       "[33] \"TALLER DE LENGUA EXTRANJERA INGLES\"             \n",
       "[34] \"Ac.en Lengua y Cs. Sociales\"                    \n",
       "[35] \"Ac.en Matemtica y Cs. Naturales\"                \n",
       "[36] \"DEPORTE\"                                        \n",
       "[37] \"INGLS\"                                          \n",
       "[38] \"LITERATURA\"                                     \n",
       "[39] \"TALLER DE INGLS\"                                \n",
       "[40] \"IDIOMA EXTRANJERO\"                              \n",
       "[41] \"CATEQUESIS\"                                     \n",
       "[42] \"Catequesis\"                                     \n",
       "[43] \"TICS\"                                           \n",
       "[44] \"Taller de Lenguaje de las Artes Visuales\"       \n",
       "[45] \"Acompaamiento al Estudio\"                       \n",
       "[46] \"TALLER CREATIVO\"                                \n",
       "[47] \"T/A ESTUDIO (LENGUA-CS SOCIALES)\"               \n",
       "[48] \"T/A ESTUDIO (MATEMATICA-CS NATURALES)\"          \n",
       "[49] \"TALLER  DE TEATRO\"                              \n",
       "[50] \"TALLER DE FOLKLORE\"                             \n",
       "[51] \"TALLER DE TIC Y RECREACIN DE LA IMAGEN\"         \n",
       "[52] \"TALLER INGLES\"                                  \n",
       "[53] \"INFORMTICA\"                                     \n",
       "[54] \"Taller Acompaamiento  Matemtica y Cs. Naturales\"\n",
       "[55] \"Taller Acompaamiento Lengua y Ciencias Sociales\"\n",
       "[56] \"Taller de Folklore\"                             \n",
       "[57] \"Taller de Teatro\"                               \n",
       "[58] \"Taller de TIC y Recreacin de la Imagen\"         \n",
       "[59] \"Taller Lengua Extranjera (Ingles)\"              "
      ]
     },
     "metadata": {},
     "output_type": "display_data"
    },
    {
     "data": {
      "text/html": [
       "<style>\n",
       ".list-inline {list-style: none; margin:0; padding: 0}\n",
       ".list-inline>li {display: inline-block}\n",
       ".list-inline>li:not(:last-child)::after {content: \"\\00b7\"; padding: 0 .5ex}\n",
       "</style>\n",
       "<ol class=list-inline><li>'ARTES VISUALES'</li><li>'CIENCIAS NATURALES'</li><li>'CIENCIAS SOCIALES'</li><li>'EDUCACION FISICA'</li><li>'EDUCACION MUSICAL'</li><li>'EDUCACION TECNOLOGICA'</li><li>'LENGUA'</li><li>'MATEMATICA'</li><li>'EDI'</li><li>'INGLS'</li><li>'LABORAT.EN EL AULA PARA ENSEAR/APRENDER CCIAS'</li><li>'TIC'</li><li>'ACOMPAAMIENTO AL ESTUDIO LENGUA'</li><li>'ACOMPAAMIENTO AL ESTUDIO MATEMTICA'</li><li>'ACOMPAAMIENTO AL ESTUDIO NATURALES'</li><li>'ACOMPAAMIENTO AL ESTUDIO SOCIALES'</li><li>'TALLER DE ARTES VISUALES'</li><li>'TALLER DE DEPORTE'</li><li>'TALLER DE INGLES'</li><li>'TALLER DE LABORATORIO'</li><li>'TALLER DE MUSICA'</li><li>'TALLER DE TEATRO'</li><li>'TALLER DE TIC'</li><li>'TALLER VIDA EN LA NATURALEZA'</li><li>'TALLER INGLES'</li><li>'INFORMATICA'</li><li>'INGLES'</li><li>'ITALIANO'</li><li>'E.D.I.'</li><li>'TALLER LABORATORIO'</li><li>'TALLER TEATRO'</li><li>'TALLER TIC'</li><li>'TALLER DE LENGUA EXTRANJERA INGLES'</li><li>'AC.EN LENGUA Y CS. SOCIALES'</li><li>'AC.EN MATEMTICA Y CS. NATURALES'</li><li>'DEPORTE'</li><li>'LITERATURA'</li><li>'TALLER DE INGLS'</li><li>'IDIOMA EXTRANJERO'</li><li>'CATEQUESIS'</li><li>'TICS'</li><li>'TALLER DE LENGUAJE DE LAS ARTES VISUALES'</li><li>'ACOMPAAMIENTO AL ESTUDIO'</li><li>'TALLER CREATIVO'</li><li>'T/A ESTUDIO (LENGUA-CS SOCIALES)'</li><li>'T/A ESTUDIO (MATEMATICA-CS NATURALES)'</li><li><span style=white-space:pre-wrap>'TALLER  DE TEATRO'</span></li><li>'TALLER DE FOLKLORE'</li><li>'TALLER DE TIC Y RECREACIN DE LA IMAGEN'</li><li>'INFORMTICA'</li><li><span style=white-space:pre-wrap>'TALLER ACOMPAAMIENTO  MATEMTICA Y CS. NATURALES'</span></li><li>'TALLER ACOMPAAMIENTO LENGUA Y CIENCIAS SOCIALES'</li><li>'TALLER LENGUA EXTRANJERA (INGLES)'</li></ol>\n"
      ],
      "text/latex": [
       "\\begin{enumerate*}\n",
       "\\item 'ARTES VISUALES'\n",
       "\\item 'CIENCIAS NATURALES'\n",
       "\\item 'CIENCIAS SOCIALES'\n",
       "\\item 'EDUCACION FISICA'\n",
       "\\item 'EDUCACION MUSICAL'\n",
       "\\item 'EDUCACION TECNOLOGICA'\n",
       "\\item 'LENGUA'\n",
       "\\item 'MATEMATICA'\n",
       "\\item 'EDI'\n",
       "\\item 'INGLS'\n",
       "\\item 'LABORAT.EN EL AULA PARA ENSEAR/APRENDER CCIAS'\n",
       "\\item 'TIC'\n",
       "\\item 'ACOMPAAMIENTO AL ESTUDIO LENGUA'\n",
       "\\item 'ACOMPAAMIENTO AL ESTUDIO MATEMTICA'\n",
       "\\item 'ACOMPAAMIENTO AL ESTUDIO NATURALES'\n",
       "\\item 'ACOMPAAMIENTO AL ESTUDIO SOCIALES'\n",
       "\\item 'TALLER DE ARTES VISUALES'\n",
       "\\item 'TALLER DE DEPORTE'\n",
       "\\item 'TALLER DE INGLES'\n",
       "\\item 'TALLER DE LABORATORIO'\n",
       "\\item 'TALLER DE MUSICA'\n",
       "\\item 'TALLER DE TEATRO'\n",
       "\\item 'TALLER DE TIC'\n",
       "\\item 'TALLER VIDA EN LA NATURALEZA'\n",
       "\\item 'TALLER INGLES'\n",
       "\\item 'INFORMATICA'\n",
       "\\item 'INGLES'\n",
       "\\item 'ITALIANO'\n",
       "\\item 'E.D.I.'\n",
       "\\item 'TALLER LABORATORIO'\n",
       "\\item 'TALLER TEATRO'\n",
       "\\item 'TALLER TIC'\n",
       "\\item 'TALLER DE LENGUA EXTRANJERA INGLES'\n",
       "\\item 'AC.EN LENGUA Y CS. SOCIALES'\n",
       "\\item 'AC.EN MATEMTICA Y CS. NATURALES'\n",
       "\\item 'DEPORTE'\n",
       "\\item 'LITERATURA'\n",
       "\\item 'TALLER DE INGLS'\n",
       "\\item 'IDIOMA EXTRANJERO'\n",
       "\\item 'CATEQUESIS'\n",
       "\\item 'TICS'\n",
       "\\item 'TALLER DE LENGUAJE DE LAS ARTES VISUALES'\n",
       "\\item 'ACOMPAAMIENTO AL ESTUDIO'\n",
       "\\item 'TALLER CREATIVO'\n",
       "\\item 'T/A ESTUDIO (LENGUA-CS SOCIALES)'\n",
       "\\item 'T/A ESTUDIO (MATEMATICA-CS NATURALES)'\n",
       "\\item 'TALLER  DE TEATRO'\n",
       "\\item 'TALLER DE FOLKLORE'\n",
       "\\item 'TALLER DE TIC Y RECREACIN DE LA IMAGEN'\n",
       "\\item 'INFORMTICA'\n",
       "\\item 'TALLER ACOMPAAMIENTO  MATEMTICA Y CS. NATURALES'\n",
       "\\item 'TALLER ACOMPAAMIENTO LENGUA Y CIENCIAS SOCIALES'\n",
       "\\item 'TALLER LENGUA EXTRANJERA (INGLES)'\n",
       "\\end{enumerate*}\n"
      ],
      "text/markdown": [
       "1. 'ARTES VISUALES'\n",
       "2. 'CIENCIAS NATURALES'\n",
       "3. 'CIENCIAS SOCIALES'\n",
       "4. 'EDUCACION FISICA'\n",
       "5. 'EDUCACION MUSICAL'\n",
       "6. 'EDUCACION TECNOLOGICA'\n",
       "7. 'LENGUA'\n",
       "8. 'MATEMATICA'\n",
       "9. 'EDI'\n",
       "10. 'INGLS'\n",
       "11. 'LABORAT.EN EL AULA PARA ENSEAR/APRENDER CCIAS'\n",
       "12. 'TIC'\n",
       "13. 'ACOMPAAMIENTO AL ESTUDIO LENGUA'\n",
       "14. 'ACOMPAAMIENTO AL ESTUDIO MATEMTICA'\n",
       "15. 'ACOMPAAMIENTO AL ESTUDIO NATURALES'\n",
       "16. 'ACOMPAAMIENTO AL ESTUDIO SOCIALES'\n",
       "17. 'TALLER DE ARTES VISUALES'\n",
       "18. 'TALLER DE DEPORTE'\n",
       "19. 'TALLER DE INGLES'\n",
       "20. 'TALLER DE LABORATORIO'\n",
       "21. 'TALLER DE MUSICA'\n",
       "22. 'TALLER DE TEATRO'\n",
       "23. 'TALLER DE TIC'\n",
       "24. 'TALLER VIDA EN LA NATURALEZA'\n",
       "25. 'TALLER INGLES'\n",
       "26. 'INFORMATICA'\n",
       "27. 'INGLES'\n",
       "28. 'ITALIANO'\n",
       "29. 'E.D.I.'\n",
       "30. 'TALLER LABORATORIO'\n",
       "31. 'TALLER TEATRO'\n",
       "32. 'TALLER TIC'\n",
       "33. 'TALLER DE LENGUA EXTRANJERA INGLES'\n",
       "34. 'AC.EN LENGUA Y CS. SOCIALES'\n",
       "35. 'AC.EN MATEMTICA Y CS. NATURALES'\n",
       "36. 'DEPORTE'\n",
       "37. 'LITERATURA'\n",
       "38. 'TALLER DE INGLS'\n",
       "39. 'IDIOMA EXTRANJERO'\n",
       "40. 'CATEQUESIS'\n",
       "41. 'TICS'\n",
       "42. 'TALLER DE LENGUAJE DE LAS ARTES VISUALES'\n",
       "43. 'ACOMPAAMIENTO AL ESTUDIO'\n",
       "44. 'TALLER CREATIVO'\n",
       "45. 'T/A ESTUDIO (LENGUA-CS SOCIALES)'\n",
       "46. 'T/A ESTUDIO (MATEMATICA-CS NATURALES)'\n",
       "47. <span style=white-space:pre-wrap>'TALLER  DE TEATRO'</span>\n",
       "48. 'TALLER DE FOLKLORE'\n",
       "49. 'TALLER DE TIC Y RECREACIN DE LA IMAGEN'\n",
       "50. 'INFORMTICA'\n",
       "51. <span style=white-space:pre-wrap>'TALLER ACOMPAAMIENTO  MATEMTICA Y CS. NATURALES'</span>\n",
       "52. 'TALLER ACOMPAAMIENTO LENGUA Y CIENCIAS SOCIALES'\n",
       "53. 'TALLER LENGUA EXTRANJERA (INGLES)'\n",
       "\n",
       "\n"
      ],
      "text/plain": [
       " [1] \"ARTES VISUALES\"                                 \n",
       " [2] \"CIENCIAS NATURALES\"                             \n",
       " [3] \"CIENCIAS SOCIALES\"                              \n",
       " [4] \"EDUCACION FISICA\"                               \n",
       " [5] \"EDUCACION MUSICAL\"                              \n",
       " [6] \"EDUCACION TECNOLOGICA\"                          \n",
       " [7] \"LENGUA\"                                         \n",
       " [8] \"MATEMATICA\"                                     \n",
       " [9] \"EDI\"                                            \n",
       "[10] \"INGLS\"                                          \n",
       "[11] \"LABORAT.EN EL AULA PARA ENSEAR/APRENDER CCIAS\"  \n",
       "[12] \"TIC\"                                            \n",
       "[13] \"ACOMPAAMIENTO AL ESTUDIO LENGUA\"                \n",
       "[14] \"ACOMPAAMIENTO AL ESTUDIO MATEMTICA\"             \n",
       "[15] \"ACOMPAAMIENTO AL ESTUDIO NATURALES\"             \n",
       "[16] \"ACOMPAAMIENTO AL ESTUDIO SOCIALES\"              \n",
       "[17] \"TALLER DE ARTES VISUALES\"                       \n",
       "[18] \"TALLER DE DEPORTE\"                              \n",
       "[19] \"TALLER DE INGLES\"                               \n",
       "[20] \"TALLER DE LABORATORIO\"                          \n",
       "[21] \"TALLER DE MUSICA\"                               \n",
       "[22] \"TALLER DE TEATRO\"                               \n",
       "[23] \"TALLER DE TIC\"                                  \n",
       "[24] \"TALLER VIDA EN LA NATURALEZA\"                   \n",
       "[25] \"TALLER INGLES\"                                  \n",
       "[26] \"INFORMATICA\"                                    \n",
       "[27] \"INGLES\"                                         \n",
       "[28] \"ITALIANO\"                                       \n",
       "[29] \"E.D.I.\"                                         \n",
       "[30] \"TALLER LABORATORIO\"                             \n",
       "[31] \"TALLER TEATRO\"                                  \n",
       "[32] \"TALLER TIC\"                                     \n",
       "[33] \"TALLER DE LENGUA EXTRANJERA INGLES\"             \n",
       "[34] \"AC.EN LENGUA Y CS. SOCIALES\"                    \n",
       "[35] \"AC.EN MATEMTICA Y CS. NATURALES\"                \n",
       "[36] \"DEPORTE\"                                        \n",
       "[37] \"LITERATURA\"                                     \n",
       "[38] \"TALLER DE INGLS\"                                \n",
       "[39] \"IDIOMA EXTRANJERO\"                              \n",
       "[40] \"CATEQUESIS\"                                     \n",
       "[41] \"TICS\"                                           \n",
       "[42] \"TALLER DE LENGUAJE DE LAS ARTES VISUALES\"       \n",
       "[43] \"ACOMPAAMIENTO AL ESTUDIO\"                       \n",
       "[44] \"TALLER CREATIVO\"                                \n",
       "[45] \"T/A ESTUDIO (LENGUA-CS SOCIALES)\"               \n",
       "[46] \"T/A ESTUDIO (MATEMATICA-CS NATURALES)\"          \n",
       "[47] \"TALLER  DE TEATRO\"                              \n",
       "[48] \"TALLER DE FOLKLORE\"                             \n",
       "[49] \"TALLER DE TIC Y RECREACIN DE LA IMAGEN\"         \n",
       "[50] \"INFORMTICA\"                                     \n",
       "[51] \"TALLER ACOMPAAMIENTO  MATEMTICA Y CS. NATURALES\"\n",
       "[52] \"TALLER ACOMPAAMIENTO LENGUA Y CIENCIAS SOCIALES\"\n",
       "[53] \"TALLER LENGUA EXTRANJERA (INGLES)\"              "
      ]
     },
     "metadata": {},
     "output_type": "display_data"
    }
   ],
   "source": [
    "#Vemos los nombres de las asignaturas\n",
    "unique(Notas_Victoria_primaria$asignatura)\n",
    "#Convertimos todos los nombres a MAYUSCULA\n",
    "Notas_Victoria_primaria$asignatura <- toupper(Notas_Victoria_primaria$asignatura)\n",
    "#Chequeamos\n",
    "unique(Notas_Victoria_primaria$asignatura)"
   ]
  },
  {
   "cell_type": "code",
   "execution_count": 42,
   "id": "8c4103c0-a75b-4098-a88c-b39b732cf02a",
   "metadata": {},
   "outputs": [],
   "source": [
    "#Normalizamos los nombres de las asignaturas en el conjunto de datos.\n",
    "#Nos aseguramos que las asignaturas que refieren a lo mismo sean llamadas de igual manera.\n",
    "\n",
    "Notas_Victoria_primaria$asignatura <- gsub(\"MATEMÁTICA|ACOMPAÑAMIENTO AL ESTUDIO MATEMÁTICA\", \"MATEMATICA\", Notas_Victoria_primaria$asignatura)\n",
    "Notas_Victoria_primaria$asignatura <- gsub(\"LITERATURA|ACOMPAÑAMIENTO AL ESTUDIO LENGUA\", \"LENGUA\", Notas_Victoria_primaria$asignatura)\n",
    "Notas_Victoria_primaria$asignatura <- gsub(\"ACOMPAÑAMIENTO AL ESTUDIO SOCIALES\", \"CIENCIAS SOCIALES\", Notas_Victoria_primaria$asignatura)\n",
    "Notas_Victoria_primaria$asignatura <- gsub(\"ACOMPAÑAMIENTO AL ESTUDIO NATURALES|TALLER VIDA EN LA NATURALEZA\", \"CIENCIAS NATURALES\", Notas_Victoria_primaria$asignatura)\n",
    "Notas_Victoria_primaria$asignatura <- gsub(\"TALLER DE ARTES VISUALES|TALLER DE LENGUAJE DE LAS ARTES VISUALES\", \"ARTES VISUALES\", Notas_Victoria_primaria$asignatura)\n",
    "Notas_Victoria_primaria$asignatura <- gsub(\"TALLER DE DEPORTE|DEPORTE\", \"EDUCACION FISICA\", Notas_Victoria_primaria$asignatura)\n",
    "Notas_Victoria_primaria$asignatura <- gsub(\"E.D.I.\", \"EDI\", Notas_Victoria_primaria$asignatura)\n",
    "Notas_Victoria_primaria$asignatura <- gsub(\"TALLER DE MUSICA|TALLER DE FOLKLORE\", \"EDUCACION MUSICAL\", Notas_Victoria_primaria$asignatura)\n",
    "Notas_Victoria_primaria$asignatura <- gsub(\"TALLER DE TIC|TALLER DE TIC Y RECREACIÓN DE LA IMAGEN|TALLER TIC|TICS\", \"TIC\", Notas_Victoria_primaria$asignatura)\n",
    "Notas_Victoria_primaria$asignatura <- gsub(\"IDIOMA EXTRANJERO|INGLÉS|TALLER DE INGLES|TALLER DE INGLÉS|TALLER DE LENGUA EXTRANJERA|INGLEs|TALLER INGLES|TALLER LENGUA EXTRANJERA (INGLES)\", \"INGLES\", Notas_Victoria_primaria$asignatura)\n",
    "Notas_Victoria_primaria$asignatura <- gsub(\"TALLER DE TEATRO|TALLER TEATRO\", \"TALLER  DE TEATRO\", Notas_Victoria_primaria$asignatura)\n",
    "Notas_Victoria_primaria$asignatura <- gsub(\"INFORMÁTICA\", \"INFORMATICA\", Notas_Victoria_primaria$asignatura)\n",
    "Notas_Victoria_primaria$asignatura <- gsub(\"TALLER LABORATORIO\", \"TALLER DE LABORATORIO\", Notas_Victoria_primaria$asignatura)\n",
    "Notas_Victoria_primaria$asignatura <- gsub(\"AC.EN LENGUA Y CS. SOCIALES|T/A ESTUDIO (LENGUA-CS SOCIALES)|TALLER ACOMPAÑAMIENTO LENGUA Y CIENCIAS SOCIALES\", \"TALLER DE CS. SOCIALES Y LENGUA\", Notas_Victoria_primaria$asignatura)\n",
    "Notas_Victoria_primaria$asignatura <- gsub(\"AC.EN MATEMÁTICA Y CS. NATURALES|T/A ESTUDIO (MATEMATICA-CS NATURALES)|TALLER ACOMPAÑAMIENTO  MATEMÁTICA Y CS. NATURALES\", \"TALLER DE CS. NATURALES Y MATEMATICA\", Notas_Victoria_primaria$asignatura)"
   ]
  },
  {
   "cell_type": "code",
   "execution_count": 43,
   "id": "2e189f43-92fd-420c-ba18-4f65c1adef19",
   "metadata": {},
   "outputs": [
    {
     "data": {
      "text/html": [
       "<style>\n",
       ".list-inline {list-style: none; margin:0; padding: 0}\n",
       ".list-inline>li {display: inline-block}\n",
       ".list-inline>li:not(:last-child)::after {content: \"\\00b7\"; padding: 0 .5ex}\n",
       "</style>\n",
       "<ol class=list-inline><li>'ARTES VISUALES'</li><li>'CIENCIAS NATURALES'</li><li>'CIENCIAS SOCIALES'</li><li>'EDUCACION FISICA'</li><li>'EDUCACION MUSICAL'</li><li>'EDUCACION TECNOLOGICA'</li><li>'LENGUA'</li><li>'MATEMATICA'</li><li>'EDI'</li><li>'INGLS'</li><li>'LABORAT.EN EL AULA PARA ENSEAR/APRENDER CCIAS'</li><li>'TIC'</li><li>'ACOMPAAMIENTO AL ESTUDIO LENGUA'</li><li>'ACOMPAAMIENTO AL ESTUDIO MATEMTICA'</li><li>'ACOMPAAMIENTO AL ESTUDIO NATURALES'</li><li>'ACOMPAAMIENTO AL ESTUDIO SOCIALES'</li><li>'INGLES'</li><li>'TALLER DE LABORATORIO'</li><li><span style=white-space:pre-wrap>'TALLER  DE TEATRO'</span></li><li>'INFORMATICA'</li><li>'ITALIANO'</li><li>'INGLES INGLES'</li><li>'TALLER DE CS. SOCIALES Y LENGUA'</li><li>'AC.EN MATEMTICA Y CS. NATURALES'</li><li>'TALLER DE INGLS'</li><li>'CATEQUESIS'</li><li>'ACOMPAAMIENTO AL ESTUDIO'</li><li>'TALLER CREATIVO'</li><li>'T/A ESTUDIO (LENGUA-CS SOCIALES)'</li><li>'T/A ESTUDIO (MATEMATICA-CS NATURALES)'</li><li>'TIC Y RECREACIN DE LA IMAGEN'</li><li>'INFORMTICA'</li><li><span style=white-space:pre-wrap>'TALLER ACOMPAAMIENTO  MATEMTICA Y CS. NATURALES'</span></li><li>'TALLER ACOMPAAMIENTO LENGUA Y CIENCIAS SOCIALES'</li><li>'TALLER LENGUA EXTRANJERA (INGLES)'</li></ol>\n"
      ],
      "text/latex": [
       "\\begin{enumerate*}\n",
       "\\item 'ARTES VISUALES'\n",
       "\\item 'CIENCIAS NATURALES'\n",
       "\\item 'CIENCIAS SOCIALES'\n",
       "\\item 'EDUCACION FISICA'\n",
       "\\item 'EDUCACION MUSICAL'\n",
       "\\item 'EDUCACION TECNOLOGICA'\n",
       "\\item 'LENGUA'\n",
       "\\item 'MATEMATICA'\n",
       "\\item 'EDI'\n",
       "\\item 'INGLS'\n",
       "\\item 'LABORAT.EN EL AULA PARA ENSEAR/APRENDER CCIAS'\n",
       "\\item 'TIC'\n",
       "\\item 'ACOMPAAMIENTO AL ESTUDIO LENGUA'\n",
       "\\item 'ACOMPAAMIENTO AL ESTUDIO MATEMTICA'\n",
       "\\item 'ACOMPAAMIENTO AL ESTUDIO NATURALES'\n",
       "\\item 'ACOMPAAMIENTO AL ESTUDIO SOCIALES'\n",
       "\\item 'INGLES'\n",
       "\\item 'TALLER DE LABORATORIO'\n",
       "\\item 'TALLER  DE TEATRO'\n",
       "\\item 'INFORMATICA'\n",
       "\\item 'ITALIANO'\n",
       "\\item 'INGLES INGLES'\n",
       "\\item 'TALLER DE CS. SOCIALES Y LENGUA'\n",
       "\\item 'AC.EN MATEMTICA Y CS. NATURALES'\n",
       "\\item 'TALLER DE INGLS'\n",
       "\\item 'CATEQUESIS'\n",
       "\\item 'ACOMPAAMIENTO AL ESTUDIO'\n",
       "\\item 'TALLER CREATIVO'\n",
       "\\item 'T/A ESTUDIO (LENGUA-CS SOCIALES)'\n",
       "\\item 'T/A ESTUDIO (MATEMATICA-CS NATURALES)'\n",
       "\\item 'TIC Y RECREACIN DE LA IMAGEN'\n",
       "\\item 'INFORMTICA'\n",
       "\\item 'TALLER ACOMPAAMIENTO  MATEMTICA Y CS. NATURALES'\n",
       "\\item 'TALLER ACOMPAAMIENTO LENGUA Y CIENCIAS SOCIALES'\n",
       "\\item 'TALLER LENGUA EXTRANJERA (INGLES)'\n",
       "\\end{enumerate*}\n"
      ],
      "text/markdown": [
       "1. 'ARTES VISUALES'\n",
       "2. 'CIENCIAS NATURALES'\n",
       "3. 'CIENCIAS SOCIALES'\n",
       "4. 'EDUCACION FISICA'\n",
       "5. 'EDUCACION MUSICAL'\n",
       "6. 'EDUCACION TECNOLOGICA'\n",
       "7. 'LENGUA'\n",
       "8. 'MATEMATICA'\n",
       "9. 'EDI'\n",
       "10. 'INGLS'\n",
       "11. 'LABORAT.EN EL AULA PARA ENSEAR/APRENDER CCIAS'\n",
       "12. 'TIC'\n",
       "13. 'ACOMPAAMIENTO AL ESTUDIO LENGUA'\n",
       "14. 'ACOMPAAMIENTO AL ESTUDIO MATEMTICA'\n",
       "15. 'ACOMPAAMIENTO AL ESTUDIO NATURALES'\n",
       "16. 'ACOMPAAMIENTO AL ESTUDIO SOCIALES'\n",
       "17. 'INGLES'\n",
       "18. 'TALLER DE LABORATORIO'\n",
       "19. <span style=white-space:pre-wrap>'TALLER  DE TEATRO'</span>\n",
       "20. 'INFORMATICA'\n",
       "21. 'ITALIANO'\n",
       "22. 'INGLES INGLES'\n",
       "23. 'TALLER DE CS. SOCIALES Y LENGUA'\n",
       "24. 'AC.EN MATEMTICA Y CS. NATURALES'\n",
       "25. 'TALLER DE INGLS'\n",
       "26. 'CATEQUESIS'\n",
       "27. 'ACOMPAAMIENTO AL ESTUDIO'\n",
       "28. 'TALLER CREATIVO'\n",
       "29. 'T/A ESTUDIO (LENGUA-CS SOCIALES)'\n",
       "30. 'T/A ESTUDIO (MATEMATICA-CS NATURALES)'\n",
       "31. 'TIC Y RECREACIN DE LA IMAGEN'\n",
       "32. 'INFORMTICA'\n",
       "33. <span style=white-space:pre-wrap>'TALLER ACOMPAAMIENTO  MATEMTICA Y CS. NATURALES'</span>\n",
       "34. 'TALLER ACOMPAAMIENTO LENGUA Y CIENCIAS SOCIALES'\n",
       "35. 'TALLER LENGUA EXTRANJERA (INGLES)'\n",
       "\n",
       "\n"
      ],
      "text/plain": [
       " [1] \"ARTES VISUALES\"                                 \n",
       " [2] \"CIENCIAS NATURALES\"                             \n",
       " [3] \"CIENCIAS SOCIALES\"                              \n",
       " [4] \"EDUCACION FISICA\"                               \n",
       " [5] \"EDUCACION MUSICAL\"                              \n",
       " [6] \"EDUCACION TECNOLOGICA\"                          \n",
       " [7] \"LENGUA\"                                         \n",
       " [8] \"MATEMATICA\"                                     \n",
       " [9] \"EDI\"                                            \n",
       "[10] \"INGLS\"                                          \n",
       "[11] \"LABORAT.EN EL AULA PARA ENSEAR/APRENDER CCIAS\"  \n",
       "[12] \"TIC\"                                            \n",
       "[13] \"ACOMPAAMIENTO AL ESTUDIO LENGUA\"                \n",
       "[14] \"ACOMPAAMIENTO AL ESTUDIO MATEMTICA\"             \n",
       "[15] \"ACOMPAAMIENTO AL ESTUDIO NATURALES\"             \n",
       "[16] \"ACOMPAAMIENTO AL ESTUDIO SOCIALES\"              \n",
       "[17] \"INGLES\"                                         \n",
       "[18] \"TALLER DE LABORATORIO\"                          \n",
       "[19] \"TALLER  DE TEATRO\"                              \n",
       "[20] \"INFORMATICA\"                                    \n",
       "[21] \"ITALIANO\"                                       \n",
       "[22] \"INGLES INGLES\"                                  \n",
       "[23] \"TALLER DE CS. SOCIALES Y LENGUA\"                \n",
       "[24] \"AC.EN MATEMTICA Y CS. NATURALES\"                \n",
       "[25] \"TALLER DE INGLS\"                                \n",
       "[26] \"CATEQUESIS\"                                     \n",
       "[27] \"ACOMPAAMIENTO AL ESTUDIO\"                       \n",
       "[28] \"TALLER CREATIVO\"                                \n",
       "[29] \"T/A ESTUDIO (LENGUA-CS SOCIALES)\"               \n",
       "[30] \"T/A ESTUDIO (MATEMATICA-CS NATURALES)\"          \n",
       "[31] \"TIC Y RECREACIN DE LA IMAGEN\"                   \n",
       "[32] \"INFORMTICA\"                                     \n",
       "[33] \"TALLER ACOMPAAMIENTO  MATEMTICA Y CS. NATURALES\"\n",
       "[34] \"TALLER ACOMPAAMIENTO LENGUA Y CIENCIAS SOCIALES\"\n",
       "[35] \"TALLER LENGUA EXTRANJERA (INGLES)\"              "
      ]
     },
     "metadata": {},
     "output_type": "display_data"
    },
    {
     "data": {
      "text/plain": [
       "\n",
       "                AC.EN MATEMTICA Y CS. NATURALES \n",
       "                                             54 \n",
       "                       ACOMPAAMIENTO AL ESTUDIO \n",
       "                                             29 \n",
       "                ACOMPAAMIENTO AL ESTUDIO LENGUA \n",
       "                                             66 \n",
       "             ACOMPAAMIENTO AL ESTUDIO MATEMTICA \n",
       "                                             66 \n",
       "             ACOMPAAMIENTO AL ESTUDIO NATURALES \n",
       "                                             66 \n",
       "              ACOMPAAMIENTO AL ESTUDIO SOCIALES \n",
       "                                             66 \n",
       "                                 ARTES VISUALES \n",
       "                                           3431 \n",
       "                                     CATEQUESIS \n",
       "                                            397 \n",
       "                             CIENCIAS NATURALES \n",
       "                                           3354 \n",
       "                              CIENCIAS SOCIALES \n",
       "                                           3166 \n",
       "                                            EDI \n",
       "                                            448 \n",
       "                               EDUCACION FISICA \n",
       "                                           3396 \n",
       "                              EDUCACION MUSICAL \n",
       "                                           3236 \n",
       "                          EDUCACION TECNOLOGICA \n",
       "                                           3202 \n",
       "                                    INFORMATICA \n",
       "                                            191 \n",
       "                                     INFORMTICA \n",
       "                                             21 \n",
       "                                         INGLES \n",
       "                                            852 \n",
       "                                  INGLES INGLES \n",
       "                                             43 \n",
       "                                          INGLS \n",
       "                                            566 \n",
       "                                       ITALIANO \n",
       "                                            114 \n",
       "  LABORAT.EN EL AULA PARA ENSEAR/APRENDER CCIAS \n",
       "                                            256 \n",
       "                                         LENGUA \n",
       "                                           3305 \n",
       "                                     MATEMATICA \n",
       "                                           3276 \n",
       "               T/A ESTUDIO (LENGUA-CS SOCIALES) \n",
       "                                              3 \n",
       "          T/A ESTUDIO (MATEMATICA-CS NATURALES) \n",
       "                                              3 \n",
       "                              TALLER  DE TEATRO \n",
       "                                            225 \n",
       "TALLER ACOMPAAMIENTO  MATEMTICA Y CS. NATURALES \n",
       "                                              4 \n",
       "TALLER ACOMPAAMIENTO LENGUA Y CIENCIAS SOCIALES \n",
       "                                              4 \n",
       "                                TALLER CREATIVO \n",
       "                                            146 \n",
       "                TALLER DE CS. SOCIALES Y LENGUA \n",
       "                                             54 \n",
       "                                TALLER DE INGLS \n",
       "                                            225 \n",
       "                          TALLER DE LABORATORIO \n",
       "                                            242 \n",
       "              TALLER LENGUA EXTRANJERA (INGLES) \n",
       "                                              4 \n",
       "                                            TIC \n",
       "                                            441 \n",
       "                   TIC Y RECREACIN DE LA IMAGEN \n",
       "                                              7 "
      ]
     },
     "metadata": {},
     "output_type": "display_data"
    }
   ],
   "source": [
    "unique(Notas_Victoria_primaria$asignatura)\n",
    "table(Notas_Victoria_primaria$asignatura)"
   ]
  },
  {
   "cell_type": "code",
   "execution_count": 44,
   "id": "a04addad-2d7c-425a-a306-56a550cd6d92",
   "metadata": {},
   "outputs": [
    {
     "data": {
      "text/plain": [
       "\n",
       "  1 - A Prim   1 - B Prim   1 - C Prim   1 - D Prim   1 - E Prim 1-6 - A Prim \n",
       "        2502         1279          729          519          104            8 \n",
       "  2 - A Prim   2 - B Prim   2 - C Prim   2 - D Prim   2 - U Prim   3 - A Prim \n",
       "        2302         1401          697          648          153         2622 \n",
       "  3 - B Prim   3 - C Prim   3 - D Prim   4 - A Prim   4 - B Prim   4 - C Prim \n",
       "        1671          537          723         2157         1004          539 \n",
       "  4 - D Prim   5 - A Prim   5 - B Prim   5 - C Prim   5 - D Prim   6 - A Prim \n",
       "         716         2364         1246          861          565         2738 \n",
       "  6 - B Prim  6 - C  Prim   6 - C Prim   6 - D Prim \n",
       "        1475          108          530          761 "
      ]
     },
     "metadata": {},
     "output_type": "display_data"
    },
    {
     "data": {
      "text/plain": [
       "\n",
       " 1 - A Prim  1 - B Prim  1 - C Prim  1 - D Prim  1 - E Prim  2 - A Prim \n",
       "       2502        1279         729         519         104        2302 \n",
       " 2 - B Prim  2 - C Prim  2 - D Prim  2 - U Prim  3 - A Prim  3 - B Prim \n",
       "       1401         697         648         153        2622        1671 \n",
       " 3 - C Prim  3 - D Prim  4 - A Prim  4 - B Prim  4 - C Prim  4 - D Prim \n",
       "        537         723        2157        1004         539         716 \n",
       " 5 - A Prim  5 - B Prim  5 - C Prim  5 - D Prim  6 - A Prim  6 - B Prim \n",
       "       2364        1246         861         565        2738        1475 \n",
       "6 - C  Prim  6 - C Prim  6 - D Prim \n",
       "        108         530         761 "
      ]
     },
     "metadata": {},
     "output_type": "display_data"
    }
   ],
   "source": [
    "Notas_Victoria_primaria$curso <- iconv(Notas_Victoria_primaria$curso, from = \"UTF-8\", to = \"ASCII\", sub = \"\")\n",
    "table(Notas_Victoria_primaria$curso)\n",
    "#Filtramos lo cursos (1-6 - A Prim), no nos sirven para el analisis\n",
    "Notas_Victoria_primaria <- subset(Notas_Victoria_primaria, curso != \"1-6 - A Prim\")\n",
    "table(Notas_Victoria_primaria$curso)"
   ]
  },
  {
   "cell_type": "code",
   "execution_count": 45,
   "id": "50f53c61-26f8-4272-ac68-9f23dc9dad2a",
   "metadata": {},
   "outputs": [
    {
     "data": {
      "text/html": [
       "<style>\n",
       ".list-inline {list-style: none; margin:0; padding: 0}\n",
       ".list-inline>li {display: inline-block}\n",
       ".list-inline>li:not(:last-child)::after {content: \"\\00b7\"; padding: 0 .5ex}\n",
       "</style>\n",
       "<ol class=list-inline><li>'Aprobado'</li><li>'Rinde'</li><li>'sin registro completo'</li></ol>\n"
      ],
      "text/latex": [
       "\\begin{enumerate*}\n",
       "\\item 'Aprobado'\n",
       "\\item 'Rinde'\n",
       "\\item 'sin registro completo'\n",
       "\\end{enumerate*}\n"
      ],
      "text/markdown": [
       "1. 'Aprobado'\n",
       "2. 'Rinde'\n",
       "3. 'sin registro completo'\n",
       "\n",
       "\n"
      ],
      "text/plain": [
       "[1] \"Aprobado\"              \"Rinde\"                 \"sin registro completo\""
      ]
     },
     "metadata": {},
     "output_type": "display_data"
    },
    {
     "data": {
      "text/html": [
       "<style>\n",
       ".list-inline {list-style: none; margin:0; padding: 0}\n",
       ".list-inline>li {display: inline-block}\n",
       ".list-inline>li:not(:last-child)::after {content: \"\\00b7\"; padding: 0 .5ex}\n",
       "</style>\n",
       "<ol class=list-inline><li>'Aprobado'</li><li>'Rinde'</li></ol>\n"
      ],
      "text/latex": [
       "\\begin{enumerate*}\n",
       "\\item 'Aprobado'\n",
       "\\item 'Rinde'\n",
       "\\end{enumerate*}\n"
      ],
      "text/markdown": [
       "1. 'Aprobado'\n",
       "2. 'Rinde'\n",
       "\n",
       "\n"
      ],
      "text/plain": [
       "[1] \"Aprobado\" \"Rinde\"   "
      ]
     },
     "metadata": {},
     "output_type": "display_data"
    }
   ],
   "source": [
    "#Recordamos la variable nueva creada anteriormente 'Condicion'\n",
    "unique(Notas_Victoria_primaria$Condición)\n",
    "#No nos sirven los alumnos 'SIN REGISTRO COMPLETO' para el analisis\n",
    "Notas_Victoria_primaria <- subset(Notas_Victoria_primaria, Condición != \"sin registro completo\")\n",
    "unique(Notas_Victoria_primaria$Condición)"
   ]
  },
  {
   "cell_type": "code",
   "execution_count": 46,
   "id": "e26815f9-48e3-4aff-ba4d-1b8571bbf274",
   "metadata": {},
   "outputs": [
    {
     "data": {
      "text/html": [
       "<style>\n",
       ".list-inline {list-style: none; margin:0; padding: 0}\n",
       ".list-inline>li {display: inline-block}\n",
       ".list-inline>li:not(:last-child)::after {content: \"\\00b7\"; padding: 0 .5ex}\n",
       "</style>\n",
       "<ol class=list-inline><li>'6'</li><li>'5'</li><li>'4'</li><li>'3'</li><li>'2'</li><li>'1'</li></ol>\n"
      ],
      "text/latex": [
       "\\begin{enumerate*}\n",
       "\\item '6'\n",
       "\\item '5'\n",
       "\\item '4'\n",
       "\\item '3'\n",
       "\\item '2'\n",
       "\\item '1'\n",
       "\\end{enumerate*}\n"
      ],
      "text/markdown": [
       "1. '6'\n",
       "2. '5'\n",
       "3. '4'\n",
       "4. '3'\n",
       "5. '2'\n",
       "6. '1'\n",
       "\n",
       "\n"
      ],
      "text/plain": [
       "[1] \"6\" \"5\" \"4\" \"3\" \"2\" \"1\""
      ]
     },
     "metadata": {},
     "output_type": "display_data"
    },
    {
     "data": {
      "text/plain": [
       "\n",
       " CUARTO PRIMERO  QUINTO SEGUNDO   SEXTO TERCERO \n",
       "   4416    5120    5036    5188    5592    5538 "
      ]
     },
     "metadata": {},
     "output_type": "display_data"
    }
   ],
   "source": [
    "#Creamos nueva variable \"Año_Curso\"\n",
    "\n",
    "#Para ello convertimos todos los datos en 'Condición' en caracteres (strings)\n",
    "Notas_Victoria_primaria$curso <- as.character(Notas_Victoria_primaria$curso)\n",
    "#En la nueva variable 'Año_Curso\" guardo \n",
    "Notas_Victoria_primaria$Año_Curso <- substr(Notas_Victoria_primaria$curso, 1, 1)\n",
    "unique(Notas_Victoria_primaria$Año_Curso)\n",
    "#Ahora reemplazo el numero por su equivalente en palabras\n",
    "Notas_Victoria_primaria$Año_Curso <- str_replace(Notas_Victoria_primaria$Año_Curso, \"1\" , \"PRIMERO\")\n",
    "Notas_Victoria_primaria$Año_Curso <- str_replace(Notas_Victoria_primaria$Año_Curso, \"2\" , \"SEGUNDO\")\n",
    "Notas_Victoria_primaria$Año_Curso <- str_replace(Notas_Victoria_primaria$Año_Curso, \"3\" , \"TERCERO\")\n",
    "Notas_Victoria_primaria$Año_Curso <- str_replace(Notas_Victoria_primaria$Año_Curso, \"4\" , \"CUARTO\")\n",
    "Notas_Victoria_primaria$Año_Curso <- str_replace(Notas_Victoria_primaria$Año_Curso, \"5\" , \"QUINTO\")\n",
    "Notas_Victoria_primaria$Año_Curso <- str_replace(Notas_Victoria_primaria$Año_Curso, \"6\" , \"SEXTO\")\n",
    "\n",
    "table(Notas_Victoria_primaria$Año_Curso)"
   ]
  },
  {
   "cell_type": "code",
   "execution_count": 47,
   "id": "68330cd9-9d11-4875-a0a7-7ad240a71158",
   "metadata": {},
   "outputs": [],
   "source": [
    "#install.packages(\"writexl\") #Instalamos libreria necesaria\n",
    "library(writexl)\n",
    "\n",
    "#Guardamos el dataset Victoria_Primaria limpio\n",
    "#Como xlsx\n",
    "write_xlsx(Notas_Victoria_primaria, \"/home/santiago/Documentos/TUPED/Exploracion_Datos_Multivariados/TP_VICTORIA/VICTORIA_BASE_PRIMARIA_LIMPIA.xlsx\")\n",
    "#Como csv (luego elimino uno de los dos)\n",
    "write.csv(Notas_Victoria_primaria, \"/home/santiago/Documentos/TUPED/Exploracion_Datos_Multivariados/TP_VICTORIA/VICTORIA_BASE_PRIMARIA_LIMPIA.csv\", row.names = TRUE)"
   ]
  },
  {
   "cell_type": "markdown",
   "id": "4e2a0c7b-d525-4556-a58b-0ddc007fb0e8",
   "metadata": {},
   "source": [
    "#### Continuamos con el dataset SECUNDARIA (Notas_Victoria_secundaria)"
   ]
  },
  {
   "cell_type": "code",
   "execution_count": 48,
   "id": "85b26956-d3e8-4681-94c1-a111961d5b13",
   "metadata": {},
   "outputs": [],
   "source": [
    "#Para evitarnos errores con la codificacion UTF-8 a la hora de normalizar, convertimos todo a ASCII (evito problemas con las tildes)\n",
    "Notas_Victoria_secundaria$asignatura <- iconv(Notas_Victoria_secundaria$asignatura, from = \"UTF-8\", to = \"ASCII\", sub = \"\")"
   ]
  },
  {
   "cell_type": "code",
   "execution_count": 49,
   "id": "41f7ef98-7c72-47e0-a421-334fdbdf5cc1",
   "metadata": {},
   "outputs": [
    {
     "data": {
      "text/html": [
       "<style>\n",
       ".list-inline {list-style: none; margin:0; padding: 0}\n",
       ".list-inline>li {display: inline-block}\n",
       ".list-inline>li:not(:last-child)::after {content: \"\\00b7\"; padding: 0 .5ex}\n",
       "</style>\n",
       "<ol class=list-inline><li>'TECNOLOGIA DE LA INFORMACION Y LA COMUNICACION'</li><li>'TUTORIAS'</li><li>'HISTORIA'</li><li>'LENGUA Y LITERATURA'</li><li>'LENGUAJE Y PRODUCCION MUSICAL II'</li><li>'LENGUAJE Y PRODUCCION VISUAL II'</li><li>'LENGUAS EXTRANJERAS'</li><li>'MATEMATICA'</li><li>'PRODUCCION MULTIMEDIAL EN LENGUAJES ART. I y II'</li><li>'PRODUCCIONES ARTISTICAS INTEGRADAS'</li><li>'PSICOLOGIA'</li><li>'BIOLOGIA'</li><li>'EDUCACION TECNOLOGICA'</li><li>'CULTURA Y ESTETICA'</li><li>'FORMACION ETICA Y CIUDADANA'</li><li>'CIRCUITOS TURISTICOS I y II'</li><li>'DESARROLLO DE LOCALIDADES TURISTICAS'</li><li>'EDUCACION FISICA'</li><li>'EMPRESAS TURISTICAS'</li><li>'GEOGRAFIA'</li><li>'INFRAESTRUCTURA TURISTICA Y TURISMO TERMAL'</li><li>'LITERATURA ARGENTINA'</li><li>'PRACTICAS EDUCATIVAS'</li><li>'FISICA'</li><li>'LENGUAJE Y PRODUCCION MUSICAL I'</li><li>'LENGUAJE Y PRODUCCION VISUAL I'</li><li>'MICROECONOMIA'</li><li>'PRINCIPIOS BASICOS DE CONTABILIDAD'</li><li>'QUIMICA'</li><li>'TEORIA Y GESTION DE LAS ORGANIZACIONES I'</li><li>'FILOSOFIA'</li><li>'LITERATURA LATINOAMERICANA'</li><li>'TECNOLOGIA DE LA INFORMACION Y COMUNICACION'</li><li>'INTRODUCCION A LA HOSPITALIDAD'</li><li>'INTRODUCCION AL TURISMO'</li><li>'TUTORIAS DISCIPLINARES'</li><li>'DERECHO COMERCIAL'</li><li>'LEGISLACION LABORAL Y PRACTICA IMPOSITIVA'</li><li>'MACROECONOMIA'</li><li>'SISTEMA DE INFORMACION CONTABLE'</li><li>'TEORIA Y GESTION DE LAS ORGANIZACIONES II'</li><li>'FILOSOFIA II'</li><li>'GEOGRAFIA AMBIENTAL'</li><li>'METODOLOGIA DE LA INVESTIGACION'</li><li>'SOCIOLOGIA'</li><li>'TEORIA Y GESTION DE LAS ORGANIZACIONES'</li><li>'ECONOMIA'</li><li>'ECOLOGIA'</li><li>'INTRODUCCION A LA INVESTIGACION EN CIENCIAS NATURALES'</li><li>'ORGANIZACION INDUSTRIAL Y RELACIONES HUMANAS'</li><li>'PROYECTO DE PRACTICAS PROFESIONALIZANTES'</li><li>'QUIMICA ANALITICA CUANTITATIVA'</li><li>'QUIMICA ORGANICA II'</li><li>'TECNOLOGIA DE LOS ALIMENTOS'</li><li>'TRABAJOS PRACTICOS DE QUIMICA ANALITICA CUANTIT.'</li><li>'TRABAJOS PRACTICOS DE QUIMICA INDUSTRIAL APLICADA'</li><li>'TRABAJOS PRACTICOS DE QUIMICA ORGANICA II'</li><li>'TRABAJOS PRACTICOS DE TECNOL. DE LOS ALIMENTOS'</li><li>'TEATRO'</li><li>'INTRODUCCION A LA ADMINISTRACION'</li><li>'MUSICA'</li><li>'ARTES VISUALES'</li><li>'ESPACIO DE LA ORIENTACION EN CIENCIAS NATURALES'</li><li>'INFRAESTRUCTURA TURISTICA Y TURISMO TERMAL I'</li><li>'MARKETING TURISTICO'</li><li>'PORTUGUS'</li><li>'FISICA Y QUIMICA'</li><li>'FRANCES'</li><li>'EDI CONTAMINACION AMBIENTAL'</li><li>'EDI: COOPERATIVISMO Y FORMAS DE ORGANIZACION LABOR'</li><li>'EDI: MATEMATICA APLICADA'</li><li>'LENGUA EXTRANJERA (INGLES)'</li><li>'PRODUCCION BOVINO PARA CARNE'</li><li>'PRODUCCION DE FORRAJES'</li><li>'PROYECTO PRODUCTIVO TECNOLOGICO'</li><li>'TECNOLOGIA DE CONTROL'</li><li>'TECNOLOGIA DE GESTION'</li><li>'LENGUAJE CORPORAL Y DANZA O TEATRO'</li><li>'CIRCUITOS TURISTICOS II'</li><li>'INFRAESTRUCTURA TURISTICA Y TURISMO TERMAL II'</li><li>'SEMINARIO DE PRACTICA PROFESIONAL'</li><li>'CEREALES Y OLEAGINOSAS'</li><li>'FORMULACION DE PROYECTOS PRODUCTIVOS'</li><li>'INDUSTRIA CARNE PORCINA'</li><li>'INDUSTRIA DE PROD. LACTEOS DE BOVINO O CAPRINO'</li><li>'ORGANIZACION Y GESTION DE EMPRESAS AGROPECUARIAS'</li><li>'PRODUCCION DE CAPRINOS'</li><li>'PRACTICAS GIMNASTICAS Y EXPRESIVAS II'</li><li>'PRACTICAS LUDOMOTRICES Y DEPORTIVAS I II Y III'</li><li>'PROBLEMATICAS CONTEMPORANEAS Y EDUCACION FISICA'</li><li>'LABORATORIO DE ENSAYOS DE MAQUINAS Y MOTORES'</li><li>'MANTENIMIENTO Y REPARACION DE EQUIPOS'</li><li>'MAQUINAS TERMICAS'</li><li>'MAQUINAS Y ELEMENTOS DE TRANSPORTE'</li><li>'ORGANIZACION Y CONTROL INDUSTRIAL'</li><li>'PROYECTO'</li><li>'RELACIONES HUMANAS'</li><li>'SEGURIDAD E HIGIENE INDUSTRIAL'</li><li>'TECNOLOGIA III'</li><li>'LENGUAJE CORPORAL Y DANZA'</li><li>'PRODUCCION MULTIMEDIAL EN LENGUAJES ARTISTICOS I'</li><li>'DERECHO'</li><li>'ECONOMIA II'</li><li>'COMUNICACION'</li><li>'COMUNICACION, EDUCACION Y NUEVAS TECNOLOGIAS'</li><li>'OPINION PUBLICA Y MEDIOS DE COMUNICACION'</li><li>'PRACTICAS COMUNICACIONALES'</li><li>'TEORIAS DE LA COMUNICACION I Y II'</li><li>'GESTION DE LA PRODUCCION ARTISTICA'</li><li>'LABORATORIO DEL COLOR E INVESTIGACION DE MATERIALES I Y II'</li><li>'LENGUA EXTRANJERA'</li><li>'PRODUCCION MULTIMEDIAL EN LENGUAJES ARTISTICOS'</li><li>'TALLER DE BIDIMENSION II'</li><li>'TALLER DE TRIDIMENSION I Y II'</li><li>'CATEQUESIS'</li><li>'OFIMATICA Y LA WEB 2.0'</li><li>'CULTURAS Y ESTETICAS CONTEMPORANEAS I'</li><li>'ITINERARIOS PROYECTOS'</li><li>'FRANCS'</li><li>'LABORATORIO DE MICROBIOLOGIA'</li><li>'MICROBIOLOGIA'</li><li>'QUIMICA ANALITICA CUALITATIVA'</li><li>'TRABAJOS PRACTICOS DE PROC. Y OPERACIONES QUIMICAS'</li><li>'TRABAJOS PRACTICOS DE QUIMICA ANALITICA'</li><li>'TRABAJOS PRACTICOS DE QUIMICA INDUSTRIAL'</li><li>'TRABAJOS PRACTICOS DE QUIMICA ORGANICA'</li><li>'AUTO C.A.D'</li><li>'DIBUJO DE MAQUINAS'</li><li>'HIDRAULICA Y MAQUINAS HIDRAULICAS'</li><li>'LABORATORIO DE ENSAYOS INDUSTRIALES'</li><li>'LEGISLACION DEL TRABAJO'</li><li>'MECANICA APLICADA A LOS MECANISMOS'</li><li>'RESISTENCIA Y CALCULO DE ELEMENTOS DE MAQUINAS'</li><li>'TECNOLOGIA II'</li><li>'TERMODINAMICA'</li><li>'CIENCIAS NATURALES (BIOLOGIA)'</li><li>'CIENCIAS SOCIALES (GEOGRAFIA)'</li><li>'CIENCIAS SOCIALES (HISTORIA)'</li><li>'DIBUJO TECNICO'</li><li>'TALLER MODULAR QUIMICA'</li><li>'PRACTICAS CORPORALES Y DEPORTIVAS EN EL MEDIO NATURAL I'</li><li>'PRACTICAS GIMNASTICAS Y EXPRESIVAS I'</li><li>'TECNOLOGIA DE LA COMUNICACION Y LA INFORMATICA'</li><li>'PORTUGUES'</li><li>'ANALISIS MATEMATICO'</li><li>'C.A.D'</li><li>'ELECTROTECNIA'</li><li>'MECANICA TECNICA'</li><li>'METALURGIA Y MATERIALES PARA CONSTR. MECANICAS'</li><li>'TECNOLOGIA I'</li><li>'FISICA APLICADA'</li><li>'QUIMICA GENERAL'</li><li>'QUIMICA INORGANICA'</li><li>'TRABAJOS PRACTICOS DE FISICA APLICADA'</li><li>'TRABAJOS PRACTICOS DE QUIMICA GENERAL'</li><li>'TRABAJOS PRACTICOS DE QUIMICA INORGANICA'</li><li>'Portugus'</li><li>'TECNOLOGIAS DE LA INFORMACION Y LA COMUNICACION'</li><li>'CIENCIAS NATURALES BIOLOGIA'</li><li>'RESPONSABILIDAD SOCIAL'</li><li>'MEDIO AMBIENTE SANO'</li><li>'CULTURA Y COMUNICACION'</li><li>'EDI: ECONOMIA REGIONAL Y ADMIN AGROPECUARIA POL'</li><li>'MARCO JURIDICO DE LOS PROCESOS PRODUCTIVOS'</li><li>'PRODUCCION DE CERDOS'</li><li>'PRODUCCION HORTICOLA'</li><li>'TECNOLOGIA DE LOS MATERIALES'</li><li>'INTROD. INVESTIGACION C. NATURALES'</li><li>'CIENCIAS NATURALES (FISICO QUIMICA)'</li><li>'ITALIANO'</li><li>'CIENCIAS NATURALES APLICADAS A PRO. AGROPECUARIOS'</li><li>'INSTALACIONES AGROPECUARIAS'</li><li>'MAQUINAS Y EQUIPOS'</li><li>'PROCESOS PRODUCTIVOS'</li><li>'PRODUCCION DE PLANTAS EN VIVERO'</li><li>'CIENCIAS NATURALES FISICO-QUIMICA'</li><li>'TALLER DE BIDIMENSION I'</li><li>'BIDIMENSION I Y II'</li><li>'HISTORIA SOCIO CULTURAL DEL ARTE I'</li><li>'TRIDIMENSION I Y II'</li><li>'HISTORIA SOCIO CULTURAL DEL ARTE I, II Y III'</li><li>'STE - CUNICULTURA'</li><li>'SECTOR DE TECNOLOGIAS ESPECIFICAS'</li></ol>\n"
      ],
      "text/latex": [
       "\\begin{enumerate*}\n",
       "\\item 'TECNOLOGIA DE LA INFORMACION Y LA COMUNICACION'\n",
       "\\item 'TUTORIAS'\n",
       "\\item 'HISTORIA'\n",
       "\\item 'LENGUA Y LITERATURA'\n",
       "\\item 'LENGUAJE Y PRODUCCION MUSICAL II'\n",
       "\\item 'LENGUAJE Y PRODUCCION VISUAL II'\n",
       "\\item 'LENGUAS EXTRANJERAS'\n",
       "\\item 'MATEMATICA'\n",
       "\\item 'PRODUCCION MULTIMEDIAL EN LENGUAJES ART. I y II'\n",
       "\\item 'PRODUCCIONES ARTISTICAS INTEGRADAS'\n",
       "\\item 'PSICOLOGIA'\n",
       "\\item 'BIOLOGIA'\n",
       "\\item 'EDUCACION TECNOLOGICA'\n",
       "\\item 'CULTURA Y ESTETICA'\n",
       "\\item 'FORMACION ETICA Y CIUDADANA'\n",
       "\\item 'CIRCUITOS TURISTICOS I y II'\n",
       "\\item 'DESARROLLO DE LOCALIDADES TURISTICAS'\n",
       "\\item 'EDUCACION FISICA'\n",
       "\\item 'EMPRESAS TURISTICAS'\n",
       "\\item 'GEOGRAFIA'\n",
       "\\item 'INFRAESTRUCTURA TURISTICA Y TURISMO TERMAL'\n",
       "\\item 'LITERATURA ARGENTINA'\n",
       "\\item 'PRACTICAS EDUCATIVAS'\n",
       "\\item 'FISICA'\n",
       "\\item 'LENGUAJE Y PRODUCCION MUSICAL I'\n",
       "\\item 'LENGUAJE Y PRODUCCION VISUAL I'\n",
       "\\item 'MICROECONOMIA'\n",
       "\\item 'PRINCIPIOS BASICOS DE CONTABILIDAD'\n",
       "\\item 'QUIMICA'\n",
       "\\item 'TEORIA Y GESTION DE LAS ORGANIZACIONES I'\n",
       "\\item 'FILOSOFIA'\n",
       "\\item 'LITERATURA LATINOAMERICANA'\n",
       "\\item 'TECNOLOGIA DE LA INFORMACION Y COMUNICACION'\n",
       "\\item 'INTRODUCCION A LA HOSPITALIDAD'\n",
       "\\item 'INTRODUCCION AL TURISMO'\n",
       "\\item 'TUTORIAS DISCIPLINARES'\n",
       "\\item 'DERECHO COMERCIAL'\n",
       "\\item 'LEGISLACION LABORAL Y PRACTICA IMPOSITIVA'\n",
       "\\item 'MACROECONOMIA'\n",
       "\\item 'SISTEMA DE INFORMACION CONTABLE'\n",
       "\\item 'TEORIA Y GESTION DE LAS ORGANIZACIONES II'\n",
       "\\item 'FILOSOFIA II'\n",
       "\\item 'GEOGRAFIA AMBIENTAL'\n",
       "\\item 'METODOLOGIA DE LA INVESTIGACION'\n",
       "\\item 'SOCIOLOGIA'\n",
       "\\item 'TEORIA Y GESTION DE LAS ORGANIZACIONES'\n",
       "\\item 'ECONOMIA'\n",
       "\\item 'ECOLOGIA'\n",
       "\\item 'INTRODUCCION A LA INVESTIGACION EN CIENCIAS NATURALES'\n",
       "\\item 'ORGANIZACION INDUSTRIAL Y RELACIONES HUMANAS'\n",
       "\\item 'PROYECTO DE PRACTICAS PROFESIONALIZANTES'\n",
       "\\item 'QUIMICA ANALITICA CUANTITATIVA'\n",
       "\\item 'QUIMICA ORGANICA II'\n",
       "\\item 'TECNOLOGIA DE LOS ALIMENTOS'\n",
       "\\item 'TRABAJOS PRACTICOS DE QUIMICA ANALITICA CUANTIT.'\n",
       "\\item 'TRABAJOS PRACTICOS DE QUIMICA INDUSTRIAL APLICADA'\n",
       "\\item 'TRABAJOS PRACTICOS DE QUIMICA ORGANICA II'\n",
       "\\item 'TRABAJOS PRACTICOS DE TECNOL. DE LOS ALIMENTOS'\n",
       "\\item 'TEATRO'\n",
       "\\item 'INTRODUCCION A LA ADMINISTRACION'\n",
       "\\item 'MUSICA'\n",
       "\\item 'ARTES VISUALES'\n",
       "\\item 'ESPACIO DE LA ORIENTACION EN CIENCIAS NATURALES'\n",
       "\\item 'INFRAESTRUCTURA TURISTICA Y TURISMO TERMAL I'\n",
       "\\item 'MARKETING TURISTICO'\n",
       "\\item 'PORTUGUS'\n",
       "\\item 'FISICA Y QUIMICA'\n",
       "\\item 'FRANCES'\n",
       "\\item 'EDI CONTAMINACION AMBIENTAL'\n",
       "\\item 'EDI: COOPERATIVISMO Y FORMAS DE ORGANIZACION LABOR'\n",
       "\\item 'EDI: MATEMATICA APLICADA'\n",
       "\\item 'LENGUA EXTRANJERA (INGLES)'\n",
       "\\item 'PRODUCCION BOVINO PARA CARNE'\n",
       "\\item 'PRODUCCION DE FORRAJES'\n",
       "\\item 'PROYECTO PRODUCTIVO TECNOLOGICO'\n",
       "\\item 'TECNOLOGIA DE CONTROL'\n",
       "\\item 'TECNOLOGIA DE GESTION'\n",
       "\\item 'LENGUAJE CORPORAL Y DANZA O TEATRO'\n",
       "\\item 'CIRCUITOS TURISTICOS II'\n",
       "\\item 'INFRAESTRUCTURA TURISTICA Y TURISMO TERMAL II'\n",
       "\\item 'SEMINARIO DE PRACTICA PROFESIONAL'\n",
       "\\item 'CEREALES Y OLEAGINOSAS'\n",
       "\\item 'FORMULACION DE PROYECTOS PRODUCTIVOS'\n",
       "\\item 'INDUSTRIA CARNE PORCINA'\n",
       "\\item 'INDUSTRIA DE PROD. LACTEOS DE BOVINO O CAPRINO'\n",
       "\\item 'ORGANIZACION Y GESTION DE EMPRESAS AGROPECUARIAS'\n",
       "\\item 'PRODUCCION DE CAPRINOS'\n",
       "\\item 'PRACTICAS GIMNASTICAS Y EXPRESIVAS II'\n",
       "\\item 'PRACTICAS LUDOMOTRICES Y DEPORTIVAS I II Y III'\n",
       "\\item 'PROBLEMATICAS CONTEMPORANEAS Y EDUCACION FISICA'\n",
       "\\item 'LABORATORIO DE ENSAYOS DE MAQUINAS Y MOTORES'\n",
       "\\item 'MANTENIMIENTO Y REPARACION DE EQUIPOS'\n",
       "\\item 'MAQUINAS TERMICAS'\n",
       "\\item 'MAQUINAS Y ELEMENTOS DE TRANSPORTE'\n",
       "\\item 'ORGANIZACION Y CONTROL INDUSTRIAL'\n",
       "\\item 'PROYECTO'\n",
       "\\item 'RELACIONES HUMANAS'\n",
       "\\item 'SEGURIDAD E HIGIENE INDUSTRIAL'\n",
       "\\item 'TECNOLOGIA III'\n",
       "\\item 'LENGUAJE CORPORAL Y DANZA'\n",
       "\\item 'PRODUCCION MULTIMEDIAL EN LENGUAJES ARTISTICOS I'\n",
       "\\item 'DERECHO'\n",
       "\\item 'ECONOMIA II'\n",
       "\\item 'COMUNICACION'\n",
       "\\item 'COMUNICACION, EDUCACION Y NUEVAS TECNOLOGIAS'\n",
       "\\item 'OPINION PUBLICA Y MEDIOS DE COMUNICACION'\n",
       "\\item 'PRACTICAS COMUNICACIONALES'\n",
       "\\item 'TEORIAS DE LA COMUNICACION I Y II'\n",
       "\\item 'GESTION DE LA PRODUCCION ARTISTICA'\n",
       "\\item 'LABORATORIO DEL COLOR E INVESTIGACION DE MATERIALES I Y II'\n",
       "\\item 'LENGUA EXTRANJERA'\n",
       "\\item 'PRODUCCION MULTIMEDIAL EN LENGUAJES ARTISTICOS'\n",
       "\\item 'TALLER DE BIDIMENSION II'\n",
       "\\item 'TALLER DE TRIDIMENSION I Y II'\n",
       "\\item 'CATEQUESIS'\n",
       "\\item 'OFIMATICA Y LA WEB 2.0'\n",
       "\\item 'CULTURAS Y ESTETICAS CONTEMPORANEAS I'\n",
       "\\item 'ITINERARIOS PROYECTOS'\n",
       "\\item 'FRANCS'\n",
       "\\item 'LABORATORIO DE MICROBIOLOGIA'\n",
       "\\item 'MICROBIOLOGIA'\n",
       "\\item 'QUIMICA ANALITICA CUALITATIVA'\n",
       "\\item 'TRABAJOS PRACTICOS DE PROC. Y OPERACIONES QUIMICAS'\n",
       "\\item 'TRABAJOS PRACTICOS DE QUIMICA ANALITICA'\n",
       "\\item 'TRABAJOS PRACTICOS DE QUIMICA INDUSTRIAL'\n",
       "\\item 'TRABAJOS PRACTICOS DE QUIMICA ORGANICA'\n",
       "\\item 'AUTO C.A.D'\n",
       "\\item 'DIBUJO DE MAQUINAS'\n",
       "\\item 'HIDRAULICA Y MAQUINAS HIDRAULICAS'\n",
       "\\item 'LABORATORIO DE ENSAYOS INDUSTRIALES'\n",
       "\\item 'LEGISLACION DEL TRABAJO'\n",
       "\\item 'MECANICA APLICADA A LOS MECANISMOS'\n",
       "\\item 'RESISTENCIA Y CALCULO DE ELEMENTOS DE MAQUINAS'\n",
       "\\item 'TECNOLOGIA II'\n",
       "\\item 'TERMODINAMICA'\n",
       "\\item 'CIENCIAS NATURALES (BIOLOGIA)'\n",
       "\\item 'CIENCIAS SOCIALES (GEOGRAFIA)'\n",
       "\\item 'CIENCIAS SOCIALES (HISTORIA)'\n",
       "\\item 'DIBUJO TECNICO'\n",
       "\\item 'TALLER MODULAR QUIMICA'\n",
       "\\item 'PRACTICAS CORPORALES Y DEPORTIVAS EN EL MEDIO NATURAL I'\n",
       "\\item 'PRACTICAS GIMNASTICAS Y EXPRESIVAS I'\n",
       "\\item 'TECNOLOGIA DE LA COMUNICACION Y LA INFORMATICA'\n",
       "\\item 'PORTUGUES'\n",
       "\\item 'ANALISIS MATEMATICO'\n",
       "\\item 'C.A.D'\n",
       "\\item 'ELECTROTECNIA'\n",
       "\\item 'MECANICA TECNICA'\n",
       "\\item 'METALURGIA Y MATERIALES PARA CONSTR. MECANICAS'\n",
       "\\item 'TECNOLOGIA I'\n",
       "\\item 'FISICA APLICADA'\n",
       "\\item 'QUIMICA GENERAL'\n",
       "\\item 'QUIMICA INORGANICA'\n",
       "\\item 'TRABAJOS PRACTICOS DE FISICA APLICADA'\n",
       "\\item 'TRABAJOS PRACTICOS DE QUIMICA GENERAL'\n",
       "\\item 'TRABAJOS PRACTICOS DE QUIMICA INORGANICA'\n",
       "\\item 'Portugus'\n",
       "\\item 'TECNOLOGIAS DE LA INFORMACION Y LA COMUNICACION'\n",
       "\\item 'CIENCIAS NATURALES BIOLOGIA'\n",
       "\\item 'RESPONSABILIDAD SOCIAL'\n",
       "\\item 'MEDIO AMBIENTE SANO'\n",
       "\\item 'CULTURA Y COMUNICACION'\n",
       "\\item 'EDI: ECONOMIA REGIONAL Y ADMIN AGROPECUARIA POL'\n",
       "\\item 'MARCO JURIDICO DE LOS PROCESOS PRODUCTIVOS'\n",
       "\\item 'PRODUCCION DE CERDOS'\n",
       "\\item 'PRODUCCION HORTICOLA'\n",
       "\\item 'TECNOLOGIA DE LOS MATERIALES'\n",
       "\\item 'INTROD. INVESTIGACION C. NATURALES'\n",
       "\\item 'CIENCIAS NATURALES (FISICO QUIMICA)'\n",
       "\\item 'ITALIANO'\n",
       "\\item 'CIENCIAS NATURALES APLICADAS A PRO. AGROPECUARIOS'\n",
       "\\item 'INSTALACIONES AGROPECUARIAS'\n",
       "\\item 'MAQUINAS Y EQUIPOS'\n",
       "\\item 'PROCESOS PRODUCTIVOS'\n",
       "\\item 'PRODUCCION DE PLANTAS EN VIVERO'\n",
       "\\item 'CIENCIAS NATURALES FISICO-QUIMICA'\n",
       "\\item 'TALLER DE BIDIMENSION I'\n",
       "\\item 'BIDIMENSION I Y II'\n",
       "\\item 'HISTORIA SOCIO CULTURAL DEL ARTE I'\n",
       "\\item 'TRIDIMENSION I Y II'\n",
       "\\item 'HISTORIA SOCIO CULTURAL DEL ARTE I, II Y III'\n",
       "\\item 'STE - CUNICULTURA'\n",
       "\\item 'SECTOR DE TECNOLOGIAS ESPECIFICAS'\n",
       "\\end{enumerate*}\n"
      ],
      "text/markdown": [
       "1. 'TECNOLOGIA DE LA INFORMACION Y LA COMUNICACION'\n",
       "2. 'TUTORIAS'\n",
       "3. 'HISTORIA'\n",
       "4. 'LENGUA Y LITERATURA'\n",
       "5. 'LENGUAJE Y PRODUCCION MUSICAL II'\n",
       "6. 'LENGUAJE Y PRODUCCION VISUAL II'\n",
       "7. 'LENGUAS EXTRANJERAS'\n",
       "8. 'MATEMATICA'\n",
       "9. 'PRODUCCION MULTIMEDIAL EN LENGUAJES ART. I y II'\n",
       "10. 'PRODUCCIONES ARTISTICAS INTEGRADAS'\n",
       "11. 'PSICOLOGIA'\n",
       "12. 'BIOLOGIA'\n",
       "13. 'EDUCACION TECNOLOGICA'\n",
       "14. 'CULTURA Y ESTETICA'\n",
       "15. 'FORMACION ETICA Y CIUDADANA'\n",
       "16. 'CIRCUITOS TURISTICOS I y II'\n",
       "17. 'DESARROLLO DE LOCALIDADES TURISTICAS'\n",
       "18. 'EDUCACION FISICA'\n",
       "19. 'EMPRESAS TURISTICAS'\n",
       "20. 'GEOGRAFIA'\n",
       "21. 'INFRAESTRUCTURA TURISTICA Y TURISMO TERMAL'\n",
       "22. 'LITERATURA ARGENTINA'\n",
       "23. 'PRACTICAS EDUCATIVAS'\n",
       "24. 'FISICA'\n",
       "25. 'LENGUAJE Y PRODUCCION MUSICAL I'\n",
       "26. 'LENGUAJE Y PRODUCCION VISUAL I'\n",
       "27. 'MICROECONOMIA'\n",
       "28. 'PRINCIPIOS BASICOS DE CONTABILIDAD'\n",
       "29. 'QUIMICA'\n",
       "30. 'TEORIA Y GESTION DE LAS ORGANIZACIONES I'\n",
       "31. 'FILOSOFIA'\n",
       "32. 'LITERATURA LATINOAMERICANA'\n",
       "33. 'TECNOLOGIA DE LA INFORMACION Y COMUNICACION'\n",
       "34. 'INTRODUCCION A LA HOSPITALIDAD'\n",
       "35. 'INTRODUCCION AL TURISMO'\n",
       "36. 'TUTORIAS DISCIPLINARES'\n",
       "37. 'DERECHO COMERCIAL'\n",
       "38. 'LEGISLACION LABORAL Y PRACTICA IMPOSITIVA'\n",
       "39. 'MACROECONOMIA'\n",
       "40. 'SISTEMA DE INFORMACION CONTABLE'\n",
       "41. 'TEORIA Y GESTION DE LAS ORGANIZACIONES II'\n",
       "42. 'FILOSOFIA II'\n",
       "43. 'GEOGRAFIA AMBIENTAL'\n",
       "44. 'METODOLOGIA DE LA INVESTIGACION'\n",
       "45. 'SOCIOLOGIA'\n",
       "46. 'TEORIA Y GESTION DE LAS ORGANIZACIONES'\n",
       "47. 'ECONOMIA'\n",
       "48. 'ECOLOGIA'\n",
       "49. 'INTRODUCCION A LA INVESTIGACION EN CIENCIAS NATURALES'\n",
       "50. 'ORGANIZACION INDUSTRIAL Y RELACIONES HUMANAS'\n",
       "51. 'PROYECTO DE PRACTICAS PROFESIONALIZANTES'\n",
       "52. 'QUIMICA ANALITICA CUANTITATIVA'\n",
       "53. 'QUIMICA ORGANICA II'\n",
       "54. 'TECNOLOGIA DE LOS ALIMENTOS'\n",
       "55. 'TRABAJOS PRACTICOS DE QUIMICA ANALITICA CUANTIT.'\n",
       "56. 'TRABAJOS PRACTICOS DE QUIMICA INDUSTRIAL APLICADA'\n",
       "57. 'TRABAJOS PRACTICOS DE QUIMICA ORGANICA II'\n",
       "58. 'TRABAJOS PRACTICOS DE TECNOL. DE LOS ALIMENTOS'\n",
       "59. 'TEATRO'\n",
       "60. 'INTRODUCCION A LA ADMINISTRACION'\n",
       "61. 'MUSICA'\n",
       "62. 'ARTES VISUALES'\n",
       "63. 'ESPACIO DE LA ORIENTACION EN CIENCIAS NATURALES'\n",
       "64. 'INFRAESTRUCTURA TURISTICA Y TURISMO TERMAL I'\n",
       "65. 'MARKETING TURISTICO'\n",
       "66. 'PORTUGUS'\n",
       "67. 'FISICA Y QUIMICA'\n",
       "68. 'FRANCES'\n",
       "69. 'EDI CONTAMINACION AMBIENTAL'\n",
       "70. 'EDI: COOPERATIVISMO Y FORMAS DE ORGANIZACION LABOR'\n",
       "71. 'EDI: MATEMATICA APLICADA'\n",
       "72. 'LENGUA EXTRANJERA (INGLES)'\n",
       "73. 'PRODUCCION BOVINO PARA CARNE'\n",
       "74. 'PRODUCCION DE FORRAJES'\n",
       "75. 'PROYECTO PRODUCTIVO TECNOLOGICO'\n",
       "76. 'TECNOLOGIA DE CONTROL'\n",
       "77. 'TECNOLOGIA DE GESTION'\n",
       "78. 'LENGUAJE CORPORAL Y DANZA O TEATRO'\n",
       "79. 'CIRCUITOS TURISTICOS II'\n",
       "80. 'INFRAESTRUCTURA TURISTICA Y TURISMO TERMAL II'\n",
       "81. 'SEMINARIO DE PRACTICA PROFESIONAL'\n",
       "82. 'CEREALES Y OLEAGINOSAS'\n",
       "83. 'FORMULACION DE PROYECTOS PRODUCTIVOS'\n",
       "84. 'INDUSTRIA CARNE PORCINA'\n",
       "85. 'INDUSTRIA DE PROD. LACTEOS DE BOVINO O CAPRINO'\n",
       "86. 'ORGANIZACION Y GESTION DE EMPRESAS AGROPECUARIAS'\n",
       "87. 'PRODUCCION DE CAPRINOS'\n",
       "88. 'PRACTICAS GIMNASTICAS Y EXPRESIVAS II'\n",
       "89. 'PRACTICAS LUDOMOTRICES Y DEPORTIVAS I II Y III'\n",
       "90. 'PROBLEMATICAS CONTEMPORANEAS Y EDUCACION FISICA'\n",
       "91. 'LABORATORIO DE ENSAYOS DE MAQUINAS Y MOTORES'\n",
       "92. 'MANTENIMIENTO Y REPARACION DE EQUIPOS'\n",
       "93. 'MAQUINAS TERMICAS'\n",
       "94. 'MAQUINAS Y ELEMENTOS DE TRANSPORTE'\n",
       "95. 'ORGANIZACION Y CONTROL INDUSTRIAL'\n",
       "96. 'PROYECTO'\n",
       "97. 'RELACIONES HUMANAS'\n",
       "98. 'SEGURIDAD E HIGIENE INDUSTRIAL'\n",
       "99. 'TECNOLOGIA III'\n",
       "100. 'LENGUAJE CORPORAL Y DANZA'\n",
       "101. 'PRODUCCION MULTIMEDIAL EN LENGUAJES ARTISTICOS I'\n",
       "102. 'DERECHO'\n",
       "103. 'ECONOMIA II'\n",
       "104. 'COMUNICACION'\n",
       "105. 'COMUNICACION, EDUCACION Y NUEVAS TECNOLOGIAS'\n",
       "106. 'OPINION PUBLICA Y MEDIOS DE COMUNICACION'\n",
       "107. 'PRACTICAS COMUNICACIONALES'\n",
       "108. 'TEORIAS DE LA COMUNICACION I Y II'\n",
       "109. 'GESTION DE LA PRODUCCION ARTISTICA'\n",
       "110. 'LABORATORIO DEL COLOR E INVESTIGACION DE MATERIALES I Y II'\n",
       "111. 'LENGUA EXTRANJERA'\n",
       "112. 'PRODUCCION MULTIMEDIAL EN LENGUAJES ARTISTICOS'\n",
       "113. 'TALLER DE BIDIMENSION II'\n",
       "114. 'TALLER DE TRIDIMENSION I Y II'\n",
       "115. 'CATEQUESIS'\n",
       "116. 'OFIMATICA Y LA WEB 2.0'\n",
       "117. 'CULTURAS Y ESTETICAS CONTEMPORANEAS I'\n",
       "118. 'ITINERARIOS PROYECTOS'\n",
       "119. 'FRANCS'\n",
       "120. 'LABORATORIO DE MICROBIOLOGIA'\n",
       "121. 'MICROBIOLOGIA'\n",
       "122. 'QUIMICA ANALITICA CUALITATIVA'\n",
       "123. 'TRABAJOS PRACTICOS DE PROC. Y OPERACIONES QUIMICAS'\n",
       "124. 'TRABAJOS PRACTICOS DE QUIMICA ANALITICA'\n",
       "125. 'TRABAJOS PRACTICOS DE QUIMICA INDUSTRIAL'\n",
       "126. 'TRABAJOS PRACTICOS DE QUIMICA ORGANICA'\n",
       "127. 'AUTO C.A.D'\n",
       "128. 'DIBUJO DE MAQUINAS'\n",
       "129. 'HIDRAULICA Y MAQUINAS HIDRAULICAS'\n",
       "130. 'LABORATORIO DE ENSAYOS INDUSTRIALES'\n",
       "131. 'LEGISLACION DEL TRABAJO'\n",
       "132. 'MECANICA APLICADA A LOS MECANISMOS'\n",
       "133. 'RESISTENCIA Y CALCULO DE ELEMENTOS DE MAQUINAS'\n",
       "134. 'TECNOLOGIA II'\n",
       "135. 'TERMODINAMICA'\n",
       "136. 'CIENCIAS NATURALES (BIOLOGIA)'\n",
       "137. 'CIENCIAS SOCIALES (GEOGRAFIA)'\n",
       "138. 'CIENCIAS SOCIALES (HISTORIA)'\n",
       "139. 'DIBUJO TECNICO'\n",
       "140. 'TALLER MODULAR QUIMICA'\n",
       "141. 'PRACTICAS CORPORALES Y DEPORTIVAS EN EL MEDIO NATURAL I'\n",
       "142. 'PRACTICAS GIMNASTICAS Y EXPRESIVAS I'\n",
       "143. 'TECNOLOGIA DE LA COMUNICACION Y LA INFORMATICA'\n",
       "144. 'PORTUGUES'\n",
       "145. 'ANALISIS MATEMATICO'\n",
       "146. 'C.A.D'\n",
       "147. 'ELECTROTECNIA'\n",
       "148. 'MECANICA TECNICA'\n",
       "149. 'METALURGIA Y MATERIALES PARA CONSTR. MECANICAS'\n",
       "150. 'TECNOLOGIA I'\n",
       "151. 'FISICA APLICADA'\n",
       "152. 'QUIMICA GENERAL'\n",
       "153. 'QUIMICA INORGANICA'\n",
       "154. 'TRABAJOS PRACTICOS DE FISICA APLICADA'\n",
       "155. 'TRABAJOS PRACTICOS DE QUIMICA GENERAL'\n",
       "156. 'TRABAJOS PRACTICOS DE QUIMICA INORGANICA'\n",
       "157. 'Portugus'\n",
       "158. 'TECNOLOGIAS DE LA INFORMACION Y LA COMUNICACION'\n",
       "159. 'CIENCIAS NATURALES BIOLOGIA'\n",
       "160. 'RESPONSABILIDAD SOCIAL'\n",
       "161. 'MEDIO AMBIENTE SANO'\n",
       "162. 'CULTURA Y COMUNICACION'\n",
       "163. 'EDI: ECONOMIA REGIONAL Y ADMIN AGROPECUARIA POL'\n",
       "164. 'MARCO JURIDICO DE LOS PROCESOS PRODUCTIVOS'\n",
       "165. 'PRODUCCION DE CERDOS'\n",
       "166. 'PRODUCCION HORTICOLA'\n",
       "167. 'TECNOLOGIA DE LOS MATERIALES'\n",
       "168. 'INTROD. INVESTIGACION C. NATURALES'\n",
       "169. 'CIENCIAS NATURALES (FISICO QUIMICA)'\n",
       "170. 'ITALIANO'\n",
       "171. 'CIENCIAS NATURALES APLICADAS A PRO. AGROPECUARIOS'\n",
       "172. 'INSTALACIONES AGROPECUARIAS'\n",
       "173. 'MAQUINAS Y EQUIPOS'\n",
       "174. 'PROCESOS PRODUCTIVOS'\n",
       "175. 'PRODUCCION DE PLANTAS EN VIVERO'\n",
       "176. 'CIENCIAS NATURALES FISICO-QUIMICA'\n",
       "177. 'TALLER DE BIDIMENSION I'\n",
       "178. 'BIDIMENSION I Y II'\n",
       "179. 'HISTORIA SOCIO CULTURAL DEL ARTE I'\n",
       "180. 'TRIDIMENSION I Y II'\n",
       "181. 'HISTORIA SOCIO CULTURAL DEL ARTE I, II Y III'\n",
       "182. 'STE - CUNICULTURA'\n",
       "183. 'SECTOR DE TECNOLOGIAS ESPECIFICAS'\n",
       "\n",
       "\n"
      ],
      "text/plain": [
       "  [1] \"TECNOLOGIA DE LA INFORMACION Y LA COMUNICACION\"            \n",
       "  [2] \"TUTORIAS\"                                                  \n",
       "  [3] \"HISTORIA\"                                                  \n",
       "  [4] \"LENGUA Y LITERATURA\"                                       \n",
       "  [5] \"LENGUAJE Y PRODUCCION MUSICAL II\"                          \n",
       "  [6] \"LENGUAJE Y PRODUCCION VISUAL II\"                           \n",
       "  [7] \"LENGUAS EXTRANJERAS\"                                       \n",
       "  [8] \"MATEMATICA\"                                                \n",
       "  [9] \"PRODUCCION MULTIMEDIAL EN LENGUAJES ART. I y II\"           \n",
       " [10] \"PRODUCCIONES ARTISTICAS INTEGRADAS\"                        \n",
       " [11] \"PSICOLOGIA\"                                                \n",
       " [12] \"BIOLOGIA\"                                                  \n",
       " [13] \"EDUCACION TECNOLOGICA\"                                     \n",
       " [14] \"CULTURA Y ESTETICA\"                                        \n",
       " [15] \"FORMACION ETICA Y CIUDADANA\"                               \n",
       " [16] \"CIRCUITOS TURISTICOS I y II\"                               \n",
       " [17] \"DESARROLLO DE LOCALIDADES TURISTICAS\"                      \n",
       " [18] \"EDUCACION FISICA\"                                          \n",
       " [19] \"EMPRESAS TURISTICAS\"                                       \n",
       " [20] \"GEOGRAFIA\"                                                 \n",
       " [21] \"INFRAESTRUCTURA TURISTICA Y TURISMO TERMAL\"                \n",
       " [22] \"LITERATURA ARGENTINA\"                                      \n",
       " [23] \"PRACTICAS EDUCATIVAS\"                                      \n",
       " [24] \"FISICA\"                                                    \n",
       " [25] \"LENGUAJE Y PRODUCCION MUSICAL I\"                           \n",
       " [26] \"LENGUAJE Y PRODUCCION VISUAL I\"                            \n",
       " [27] \"MICROECONOMIA\"                                             \n",
       " [28] \"PRINCIPIOS BASICOS DE CONTABILIDAD\"                        \n",
       " [29] \"QUIMICA\"                                                   \n",
       " [30] \"TEORIA Y GESTION DE LAS ORGANIZACIONES I\"                  \n",
       " [31] \"FILOSOFIA\"                                                 \n",
       " [32] \"LITERATURA LATINOAMERICANA\"                                \n",
       " [33] \"TECNOLOGIA DE LA INFORMACION Y COMUNICACION\"               \n",
       " [34] \"INTRODUCCION A LA HOSPITALIDAD\"                            \n",
       " [35] \"INTRODUCCION AL TURISMO\"                                   \n",
       " [36] \"TUTORIAS DISCIPLINARES\"                                    \n",
       " [37] \"DERECHO COMERCIAL\"                                         \n",
       " [38] \"LEGISLACION LABORAL Y PRACTICA IMPOSITIVA\"                 \n",
       " [39] \"MACROECONOMIA\"                                             \n",
       " [40] \"SISTEMA DE INFORMACION CONTABLE\"                           \n",
       " [41] \"TEORIA Y GESTION DE LAS ORGANIZACIONES II\"                 \n",
       " [42] \"FILOSOFIA II\"                                              \n",
       " [43] \"GEOGRAFIA AMBIENTAL\"                                       \n",
       " [44] \"METODOLOGIA DE LA INVESTIGACION\"                           \n",
       " [45] \"SOCIOLOGIA\"                                                \n",
       " [46] \"TEORIA Y GESTION DE LAS ORGANIZACIONES\"                    \n",
       " [47] \"ECONOMIA\"                                                  \n",
       " [48] \"ECOLOGIA\"                                                  \n",
       " [49] \"INTRODUCCION A LA INVESTIGACION EN CIENCIAS NATURALES\"     \n",
       " [50] \"ORGANIZACION INDUSTRIAL Y RELACIONES HUMANAS\"              \n",
       " [51] \"PROYECTO DE PRACTICAS PROFESIONALIZANTES\"                  \n",
       " [52] \"QUIMICA ANALITICA CUANTITATIVA\"                            \n",
       " [53] \"QUIMICA ORGANICA II\"                                       \n",
       " [54] \"TECNOLOGIA DE LOS ALIMENTOS\"                               \n",
       " [55] \"TRABAJOS PRACTICOS DE QUIMICA ANALITICA CUANTIT.\"          \n",
       " [56] \"TRABAJOS PRACTICOS DE QUIMICA INDUSTRIAL APLICADA\"         \n",
       " [57] \"TRABAJOS PRACTICOS DE QUIMICA ORGANICA II\"                 \n",
       " [58] \"TRABAJOS PRACTICOS DE TECNOL. DE LOS ALIMENTOS\"            \n",
       " [59] \"TEATRO\"                                                    \n",
       " [60] \"INTRODUCCION A LA ADMINISTRACION\"                          \n",
       " [61] \"MUSICA\"                                                    \n",
       " [62] \"ARTES VISUALES\"                                            \n",
       " [63] \"ESPACIO DE LA ORIENTACION EN CIENCIAS NATURALES\"           \n",
       " [64] \"INFRAESTRUCTURA TURISTICA Y TURISMO TERMAL I\"              \n",
       " [65] \"MARKETING TURISTICO\"                                       \n",
       " [66] \"PORTUGUS\"                                                  \n",
       " [67] \"FISICA Y QUIMICA\"                                          \n",
       " [68] \"FRANCES\"                                                   \n",
       " [69] \"EDI CONTAMINACION AMBIENTAL\"                               \n",
       " [70] \"EDI: COOPERATIVISMO Y FORMAS DE ORGANIZACION LABOR\"        \n",
       " [71] \"EDI: MATEMATICA APLICADA\"                                  \n",
       " [72] \"LENGUA EXTRANJERA (INGLES)\"                                \n",
       " [73] \"PRODUCCION BOVINO PARA CARNE\"                              \n",
       " [74] \"PRODUCCION DE FORRAJES\"                                    \n",
       " [75] \"PROYECTO PRODUCTIVO TECNOLOGICO\"                           \n",
       " [76] \"TECNOLOGIA DE CONTROL\"                                     \n",
       " [77] \"TECNOLOGIA DE GESTION\"                                     \n",
       " [78] \"LENGUAJE CORPORAL Y DANZA O TEATRO\"                        \n",
       " [79] \"CIRCUITOS TURISTICOS II\"                                   \n",
       " [80] \"INFRAESTRUCTURA TURISTICA Y TURISMO TERMAL II\"             \n",
       " [81] \"SEMINARIO DE PRACTICA PROFESIONAL\"                         \n",
       " [82] \"CEREALES Y OLEAGINOSAS\"                                    \n",
       " [83] \"FORMULACION DE PROYECTOS PRODUCTIVOS\"                      \n",
       " [84] \"INDUSTRIA CARNE PORCINA\"                                   \n",
       " [85] \"INDUSTRIA DE PROD. LACTEOS DE BOVINO O CAPRINO\"            \n",
       " [86] \"ORGANIZACION Y GESTION DE EMPRESAS AGROPECUARIAS\"          \n",
       " [87] \"PRODUCCION DE CAPRINOS\"                                    \n",
       " [88] \"PRACTICAS GIMNASTICAS Y EXPRESIVAS II\"                     \n",
       " [89] \"PRACTICAS LUDOMOTRICES Y DEPORTIVAS I II Y III\"            \n",
       " [90] \"PROBLEMATICAS CONTEMPORANEAS Y EDUCACION FISICA\"           \n",
       " [91] \"LABORATORIO DE ENSAYOS DE MAQUINAS Y MOTORES\"              \n",
       " [92] \"MANTENIMIENTO Y REPARACION DE EQUIPOS\"                     \n",
       " [93] \"MAQUINAS TERMICAS\"                                         \n",
       " [94] \"MAQUINAS Y ELEMENTOS DE TRANSPORTE\"                        \n",
       " [95] \"ORGANIZACION Y CONTROL INDUSTRIAL\"                         \n",
       " [96] \"PROYECTO\"                                                  \n",
       " [97] \"RELACIONES HUMANAS\"                                        \n",
       " [98] \"SEGURIDAD E HIGIENE INDUSTRIAL\"                            \n",
       " [99] \"TECNOLOGIA III\"                                            \n",
       "[100] \"LENGUAJE CORPORAL Y DANZA\"                                 \n",
       "[101] \"PRODUCCION MULTIMEDIAL EN LENGUAJES ARTISTICOS I\"          \n",
       "[102] \"DERECHO\"                                                   \n",
       "[103] \"ECONOMIA II\"                                               \n",
       "[104] \"COMUNICACION\"                                              \n",
       "[105] \"COMUNICACION, EDUCACION Y NUEVAS TECNOLOGIAS\"              \n",
       "[106] \"OPINION PUBLICA Y MEDIOS DE COMUNICACION\"                  \n",
       "[107] \"PRACTICAS COMUNICACIONALES\"                                \n",
       "[108] \"TEORIAS DE LA COMUNICACION I Y II\"                         \n",
       "[109] \"GESTION DE LA PRODUCCION ARTISTICA\"                        \n",
       "[110] \"LABORATORIO DEL COLOR E INVESTIGACION DE MATERIALES I Y II\"\n",
       "[111] \"LENGUA EXTRANJERA\"                                         \n",
       "[112] \"PRODUCCION MULTIMEDIAL EN LENGUAJES ARTISTICOS\"            \n",
       "[113] \"TALLER DE BIDIMENSION II\"                                  \n",
       "[114] \"TALLER DE TRIDIMENSION I Y II\"                             \n",
       "[115] \"CATEQUESIS\"                                                \n",
       "[116] \"OFIMATICA Y LA WEB 2.0\"                                    \n",
       "[117] \"CULTURAS Y ESTETICAS CONTEMPORANEAS I\"                     \n",
       "[118] \"ITINERARIOS PROYECTOS\"                                     \n",
       "[119] \"FRANCS\"                                                    \n",
       "[120] \"LABORATORIO DE MICROBIOLOGIA\"                              \n",
       "[121] \"MICROBIOLOGIA\"                                             \n",
       "[122] \"QUIMICA ANALITICA CUALITATIVA\"                             \n",
       "[123] \"TRABAJOS PRACTICOS DE PROC. Y OPERACIONES QUIMICAS\"        \n",
       "[124] \"TRABAJOS PRACTICOS DE QUIMICA ANALITICA\"                   \n",
       "[125] \"TRABAJOS PRACTICOS DE QUIMICA INDUSTRIAL\"                  \n",
       "[126] \"TRABAJOS PRACTICOS DE QUIMICA ORGANICA\"                    \n",
       "[127] \"AUTO C.A.D\"                                                \n",
       "[128] \"DIBUJO DE MAQUINAS\"                                        \n",
       "[129] \"HIDRAULICA Y MAQUINAS HIDRAULICAS\"                         \n",
       "[130] \"LABORATORIO DE ENSAYOS INDUSTRIALES\"                       \n",
       "[131] \"LEGISLACION DEL TRABAJO\"                                   \n",
       "[132] \"MECANICA APLICADA A LOS MECANISMOS\"                        \n",
       "[133] \"RESISTENCIA Y CALCULO DE ELEMENTOS DE MAQUINAS\"            \n",
       "[134] \"TECNOLOGIA II\"                                             \n",
       "[135] \"TERMODINAMICA\"                                             \n",
       "[136] \"CIENCIAS NATURALES (BIOLOGIA)\"                             \n",
       "[137] \"CIENCIAS SOCIALES (GEOGRAFIA)\"                             \n",
       "[138] \"CIENCIAS SOCIALES (HISTORIA)\"                              \n",
       "[139] \"DIBUJO TECNICO\"                                            \n",
       "[140] \"TALLER MODULAR QUIMICA\"                                    \n",
       "[141] \"PRACTICAS CORPORALES Y DEPORTIVAS EN EL MEDIO NATURAL I\"   \n",
       "[142] \"PRACTICAS GIMNASTICAS Y EXPRESIVAS I\"                      \n",
       "[143] \"TECNOLOGIA DE LA COMUNICACION Y LA INFORMATICA\"            \n",
       "[144] \"PORTUGUES\"                                                 \n",
       "[145] \"ANALISIS MATEMATICO\"                                       \n",
       "[146] \"C.A.D\"                                                     \n",
       "[147] \"ELECTROTECNIA\"                                             \n",
       "[148] \"MECANICA TECNICA\"                                          \n",
       "[149] \"METALURGIA Y MATERIALES PARA CONSTR. MECANICAS\"            \n",
       "[150] \"TECNOLOGIA I\"                                              \n",
       "[151] \"FISICA APLICADA\"                                           \n",
       "[152] \"QUIMICA GENERAL\"                                           \n",
       "[153] \"QUIMICA INORGANICA\"                                        \n",
       "[154] \"TRABAJOS PRACTICOS DE FISICA APLICADA\"                     \n",
       "[155] \"TRABAJOS PRACTICOS DE QUIMICA GENERAL\"                     \n",
       "[156] \"TRABAJOS PRACTICOS DE QUIMICA INORGANICA\"                  \n",
       "[157] \"Portugus\"                                                  \n",
       "[158] \"TECNOLOGIAS DE LA INFORMACION Y LA COMUNICACION\"           \n",
       "[159] \"CIENCIAS NATURALES BIOLOGIA\"                               \n",
       "[160] \"RESPONSABILIDAD SOCIAL\"                                    \n",
       "[161] \"MEDIO AMBIENTE SANO\"                                       \n",
       "[162] \"CULTURA Y COMUNICACION\"                                    \n",
       "[163] \"EDI: ECONOMIA REGIONAL Y ADMIN AGROPECUARIA POL\"           \n",
       "[164] \"MARCO JURIDICO DE LOS PROCESOS PRODUCTIVOS\"                \n",
       "[165] \"PRODUCCION DE CERDOS\"                                      \n",
       "[166] \"PRODUCCION HORTICOLA\"                                      \n",
       "[167] \"TECNOLOGIA DE LOS MATERIALES\"                              \n",
       "[168] \"INTROD. INVESTIGACION C. NATURALES\"                        \n",
       "[169] \"CIENCIAS NATURALES (FISICO QUIMICA)\"                       \n",
       "[170] \"ITALIANO\"                                                  \n",
       "[171] \"CIENCIAS NATURALES APLICADAS A PRO. AGROPECUARIOS\"         \n",
       "[172] \"INSTALACIONES AGROPECUARIAS\"                               \n",
       "[173] \"MAQUINAS Y EQUIPOS\"                                        \n",
       "[174] \"PROCESOS PRODUCTIVOS\"                                      \n",
       "[175] \"PRODUCCION DE PLANTAS EN VIVERO\"                           \n",
       "[176] \"CIENCIAS NATURALES FISICO-QUIMICA\"                         \n",
       "[177] \"TALLER DE BIDIMENSION I\"                                   \n",
       "[178] \"BIDIMENSION I Y II\"                                        \n",
       "[179] \"HISTORIA SOCIO CULTURAL DEL ARTE I\"                        \n",
       "[180] \"TRIDIMENSION I Y II\"                                       \n",
       "[181] \"HISTORIA SOCIO CULTURAL DEL ARTE I, II Y III\"              \n",
       "[182] \"STE - CUNICULTURA\"                                         \n",
       "[183] \"SECTOR DE TECNOLOGIAS ESPECIFICAS\"                         "
      ]
     },
     "metadata": {},
     "output_type": "display_data"
    },
    {
     "data": {
      "text/html": [
       "<style>\n",
       ".list-inline {list-style: none; margin:0; padding: 0}\n",
       ".list-inline>li {display: inline-block}\n",
       ".list-inline>li:not(:last-child)::after {content: \"\\00b7\"; padding: 0 .5ex}\n",
       "</style>\n",
       "<ol class=list-inline><li>'TECNOLOGIA DE LA INFORMACION Y LA COMUNICACION'</li><li>'TUTORIAS'</li><li>'HISTORIA'</li><li>'LENGUA Y LITERATURA'</li><li>'LENGUAJE Y PRODUCCION MUSICAL II'</li><li>'LENGUAJE Y PRODUCCION VISUAL II'</li><li>'LENGUAS EXTRANJERAS'</li><li>'MATEMATICA'</li><li>'PRODUCCION MULTIMEDIAL EN LENGUAJES ART. I Y II'</li><li>'PRODUCCIONES ARTISTICAS INTEGRADAS'</li><li>'PSICOLOGIA'</li><li>'BIOLOGIA'</li><li>'EDUCACION TECNOLOGICA'</li><li>'CULTURA Y ESTETICA'</li><li>'FORMACION ETICA Y CIUDADANA'</li><li>'CIRCUITOS TURISTICOS I Y II'</li><li>'DESARROLLO DE LOCALIDADES TURISTICAS'</li><li>'EDUCACION FISICA'</li><li>'EMPRESAS TURISTICAS'</li><li>'GEOGRAFIA'</li><li>'INFRAESTRUCTURA TURISTICA Y TURISMO TERMAL'</li><li>'LITERATURA ARGENTINA'</li><li>'PRACTICAS EDUCATIVAS'</li><li>'FISICA'</li><li>'LENGUAJE Y PRODUCCION MUSICAL I'</li><li>'LENGUAJE Y PRODUCCION VISUAL I'</li><li>'MICROECONOMIA'</li><li>'PRINCIPIOS BASICOS DE CONTABILIDAD'</li><li>'QUIMICA'</li><li>'TEORIA Y GESTION DE LAS ORGANIZACIONES I'</li><li>'FILOSOFIA'</li><li>'LITERATURA LATINOAMERICANA'</li><li>'TECNOLOGIA DE LA INFORMACION Y COMUNICACION'</li><li>'INTRODUCCION A LA HOSPITALIDAD'</li><li>'INTRODUCCION AL TURISMO'</li><li>'TUTORIAS DISCIPLINARES'</li><li>'DERECHO COMERCIAL'</li><li>'LEGISLACION LABORAL Y PRACTICA IMPOSITIVA'</li><li>'MACROECONOMIA'</li><li>'SISTEMA DE INFORMACION CONTABLE'</li><li>'TEORIA Y GESTION DE LAS ORGANIZACIONES II'</li><li>'FILOSOFIA II'</li><li>'GEOGRAFIA AMBIENTAL'</li><li>'METODOLOGIA DE LA INVESTIGACION'</li><li>'SOCIOLOGIA'</li><li>'TEORIA Y GESTION DE LAS ORGANIZACIONES'</li><li>'ECONOMIA'</li><li>'ECOLOGIA'</li><li>'INTRODUCCION A LA INVESTIGACION EN CIENCIAS NATURALES'</li><li>'ORGANIZACION INDUSTRIAL Y RELACIONES HUMANAS'</li><li>'PROYECTO DE PRACTICAS PROFESIONALIZANTES'</li><li>'QUIMICA ANALITICA CUANTITATIVA'</li><li>'QUIMICA ORGANICA II'</li><li>'TECNOLOGIA DE LOS ALIMENTOS'</li><li>'TRABAJOS PRACTICOS DE QUIMICA ANALITICA CUANTIT.'</li><li>'TRABAJOS PRACTICOS DE QUIMICA INDUSTRIAL APLICADA'</li><li>'TRABAJOS PRACTICOS DE QUIMICA ORGANICA II'</li><li>'TRABAJOS PRACTICOS DE TECNOL. DE LOS ALIMENTOS'</li><li>'TEATRO'</li><li>'INTRODUCCION A LA ADMINISTRACION'</li><li>'MUSICA'</li><li>'ARTES VISUALES'</li><li>'ESPACIO DE LA ORIENTACION EN CIENCIAS NATURALES'</li><li>'INFRAESTRUCTURA TURISTICA Y TURISMO TERMAL I'</li><li>'MARKETING TURISTICO'</li><li>'PORTUGUS'</li><li>'FISICA Y QUIMICA'</li><li>'FRANCES'</li><li>'EDI CONTAMINACION AMBIENTAL'</li><li>'EDI: COOPERATIVISMO Y FORMAS DE ORGANIZACION LABOR'</li><li>'EDI: MATEMATICA APLICADA'</li><li>'LENGUA EXTRANJERA (INGLES)'</li><li>'PRODUCCION BOVINO PARA CARNE'</li><li>'PRODUCCION DE FORRAJES'</li><li>'PROYECTO PRODUCTIVO TECNOLOGICO'</li><li>'TECNOLOGIA DE CONTROL'</li><li>'TECNOLOGIA DE GESTION'</li><li>'LENGUAJE CORPORAL Y DANZA O TEATRO'</li><li>'CIRCUITOS TURISTICOS II'</li><li>'INFRAESTRUCTURA TURISTICA Y TURISMO TERMAL II'</li><li>'SEMINARIO DE PRACTICA PROFESIONAL'</li><li>'CEREALES Y OLEAGINOSAS'</li><li>'FORMULACION DE PROYECTOS PRODUCTIVOS'</li><li>'INDUSTRIA CARNE PORCINA'</li><li>'INDUSTRIA DE PROD. LACTEOS DE BOVINO O CAPRINO'</li><li>'ORGANIZACION Y GESTION DE EMPRESAS AGROPECUARIAS'</li><li>'PRODUCCION DE CAPRINOS'</li><li>'PRACTICAS GIMNASTICAS Y EXPRESIVAS II'</li><li>'PRACTICAS LUDOMOTRICES Y DEPORTIVAS I II Y III'</li><li>'PROBLEMATICAS CONTEMPORANEAS Y EDUCACION FISICA'</li><li>'LABORATORIO DE ENSAYOS DE MAQUINAS Y MOTORES'</li><li>'MANTENIMIENTO Y REPARACION DE EQUIPOS'</li><li>'MAQUINAS TERMICAS'</li><li>'MAQUINAS Y ELEMENTOS DE TRANSPORTE'</li><li>'ORGANIZACION Y CONTROL INDUSTRIAL'</li><li>'PROYECTO'</li><li>'RELACIONES HUMANAS'</li><li>'SEGURIDAD E HIGIENE INDUSTRIAL'</li><li>'TECNOLOGIA III'</li><li>'LENGUAJE CORPORAL Y DANZA'</li><li>'PRODUCCION MULTIMEDIAL EN LENGUAJES ARTISTICOS I'</li><li>'DERECHO'</li><li>'ECONOMIA II'</li><li>'COMUNICACION'</li><li>'COMUNICACION, EDUCACION Y NUEVAS TECNOLOGIAS'</li><li>'OPINION PUBLICA Y MEDIOS DE COMUNICACION'</li><li>'PRACTICAS COMUNICACIONALES'</li><li>'TEORIAS DE LA COMUNICACION I Y II'</li><li>'GESTION DE LA PRODUCCION ARTISTICA'</li><li>'LABORATORIO DEL COLOR E INVESTIGACION DE MATERIALES I Y II'</li><li>'LENGUA EXTRANJERA'</li><li>'PRODUCCION MULTIMEDIAL EN LENGUAJES ARTISTICOS'</li><li>'TALLER DE BIDIMENSION II'</li><li>'TALLER DE TRIDIMENSION I Y II'</li><li>'CATEQUESIS'</li><li>'OFIMATICA Y LA WEB 2.0'</li><li>'CULTURAS Y ESTETICAS CONTEMPORANEAS I'</li><li>'ITINERARIOS PROYECTOS'</li><li>'FRANCS'</li><li>'LABORATORIO DE MICROBIOLOGIA'</li><li>'MICROBIOLOGIA'</li><li>'QUIMICA ANALITICA CUALITATIVA'</li><li>'TRABAJOS PRACTICOS DE PROC. Y OPERACIONES QUIMICAS'</li><li>'TRABAJOS PRACTICOS DE QUIMICA ANALITICA'</li><li>'TRABAJOS PRACTICOS DE QUIMICA INDUSTRIAL'</li><li>'TRABAJOS PRACTICOS DE QUIMICA ORGANICA'</li><li>'AUTO C.A.D'</li><li>'DIBUJO DE MAQUINAS'</li><li>'HIDRAULICA Y MAQUINAS HIDRAULICAS'</li><li>'LABORATORIO DE ENSAYOS INDUSTRIALES'</li><li>'LEGISLACION DEL TRABAJO'</li><li>'MECANICA APLICADA A LOS MECANISMOS'</li><li>'RESISTENCIA Y CALCULO DE ELEMENTOS DE MAQUINAS'</li><li>'TECNOLOGIA II'</li><li>'TERMODINAMICA'</li><li>'CIENCIAS NATURALES (BIOLOGIA)'</li><li>'CIENCIAS SOCIALES (GEOGRAFIA)'</li><li>'CIENCIAS SOCIALES (HISTORIA)'</li><li>'DIBUJO TECNICO'</li><li>'TALLER MODULAR QUIMICA'</li><li>'PRACTICAS CORPORALES Y DEPORTIVAS EN EL MEDIO NATURAL I'</li><li>'PRACTICAS GIMNASTICAS Y EXPRESIVAS I'</li><li>'TECNOLOGIA DE LA COMUNICACION Y LA INFORMATICA'</li><li>'PORTUGUES'</li><li>'ANALISIS MATEMATICO'</li><li>'C.A.D'</li><li>'ELECTROTECNIA'</li><li>'MECANICA TECNICA'</li><li>'METALURGIA Y MATERIALES PARA CONSTR. MECANICAS'</li><li>'TECNOLOGIA I'</li><li>'FISICA APLICADA'</li><li>'QUIMICA GENERAL'</li><li>'QUIMICA INORGANICA'</li><li>'TRABAJOS PRACTICOS DE FISICA APLICADA'</li><li>'TRABAJOS PRACTICOS DE QUIMICA GENERAL'</li><li>'TRABAJOS PRACTICOS DE QUIMICA INORGANICA'</li><li>'TECNOLOGIAS DE LA INFORMACION Y LA COMUNICACION'</li><li>'CIENCIAS NATURALES BIOLOGIA'</li><li>'RESPONSABILIDAD SOCIAL'</li><li>'MEDIO AMBIENTE SANO'</li><li>'CULTURA Y COMUNICACION'</li><li>'EDI: ECONOMIA REGIONAL Y ADMIN AGROPECUARIA POL'</li><li>'MARCO JURIDICO DE LOS PROCESOS PRODUCTIVOS'</li><li>'PRODUCCION DE CERDOS'</li><li>'PRODUCCION HORTICOLA'</li><li>'TECNOLOGIA DE LOS MATERIALES'</li><li>'INTROD. INVESTIGACION C. NATURALES'</li><li>'CIENCIAS NATURALES (FISICO QUIMICA)'</li><li>'ITALIANO'</li><li>'CIENCIAS NATURALES APLICADAS A PRO. AGROPECUARIOS'</li><li>'INSTALACIONES AGROPECUARIAS'</li><li>'MAQUINAS Y EQUIPOS'</li><li>'PROCESOS PRODUCTIVOS'</li><li>'PRODUCCION DE PLANTAS EN VIVERO'</li><li>'CIENCIAS NATURALES FISICO-QUIMICA'</li><li>'TALLER DE BIDIMENSION I'</li><li>'BIDIMENSION I Y II'</li><li>'HISTORIA SOCIO CULTURAL DEL ARTE I'</li><li>'TRIDIMENSION I Y II'</li><li>'HISTORIA SOCIO CULTURAL DEL ARTE I, II Y III'</li><li>'STE - CUNICULTURA'</li><li>'SECTOR DE TECNOLOGIAS ESPECIFICAS'</li></ol>\n"
      ],
      "text/latex": [
       "\\begin{enumerate*}\n",
       "\\item 'TECNOLOGIA DE LA INFORMACION Y LA COMUNICACION'\n",
       "\\item 'TUTORIAS'\n",
       "\\item 'HISTORIA'\n",
       "\\item 'LENGUA Y LITERATURA'\n",
       "\\item 'LENGUAJE Y PRODUCCION MUSICAL II'\n",
       "\\item 'LENGUAJE Y PRODUCCION VISUAL II'\n",
       "\\item 'LENGUAS EXTRANJERAS'\n",
       "\\item 'MATEMATICA'\n",
       "\\item 'PRODUCCION MULTIMEDIAL EN LENGUAJES ART. I Y II'\n",
       "\\item 'PRODUCCIONES ARTISTICAS INTEGRADAS'\n",
       "\\item 'PSICOLOGIA'\n",
       "\\item 'BIOLOGIA'\n",
       "\\item 'EDUCACION TECNOLOGICA'\n",
       "\\item 'CULTURA Y ESTETICA'\n",
       "\\item 'FORMACION ETICA Y CIUDADANA'\n",
       "\\item 'CIRCUITOS TURISTICOS I Y II'\n",
       "\\item 'DESARROLLO DE LOCALIDADES TURISTICAS'\n",
       "\\item 'EDUCACION FISICA'\n",
       "\\item 'EMPRESAS TURISTICAS'\n",
       "\\item 'GEOGRAFIA'\n",
       "\\item 'INFRAESTRUCTURA TURISTICA Y TURISMO TERMAL'\n",
       "\\item 'LITERATURA ARGENTINA'\n",
       "\\item 'PRACTICAS EDUCATIVAS'\n",
       "\\item 'FISICA'\n",
       "\\item 'LENGUAJE Y PRODUCCION MUSICAL I'\n",
       "\\item 'LENGUAJE Y PRODUCCION VISUAL I'\n",
       "\\item 'MICROECONOMIA'\n",
       "\\item 'PRINCIPIOS BASICOS DE CONTABILIDAD'\n",
       "\\item 'QUIMICA'\n",
       "\\item 'TEORIA Y GESTION DE LAS ORGANIZACIONES I'\n",
       "\\item 'FILOSOFIA'\n",
       "\\item 'LITERATURA LATINOAMERICANA'\n",
       "\\item 'TECNOLOGIA DE LA INFORMACION Y COMUNICACION'\n",
       "\\item 'INTRODUCCION A LA HOSPITALIDAD'\n",
       "\\item 'INTRODUCCION AL TURISMO'\n",
       "\\item 'TUTORIAS DISCIPLINARES'\n",
       "\\item 'DERECHO COMERCIAL'\n",
       "\\item 'LEGISLACION LABORAL Y PRACTICA IMPOSITIVA'\n",
       "\\item 'MACROECONOMIA'\n",
       "\\item 'SISTEMA DE INFORMACION CONTABLE'\n",
       "\\item 'TEORIA Y GESTION DE LAS ORGANIZACIONES II'\n",
       "\\item 'FILOSOFIA II'\n",
       "\\item 'GEOGRAFIA AMBIENTAL'\n",
       "\\item 'METODOLOGIA DE LA INVESTIGACION'\n",
       "\\item 'SOCIOLOGIA'\n",
       "\\item 'TEORIA Y GESTION DE LAS ORGANIZACIONES'\n",
       "\\item 'ECONOMIA'\n",
       "\\item 'ECOLOGIA'\n",
       "\\item 'INTRODUCCION A LA INVESTIGACION EN CIENCIAS NATURALES'\n",
       "\\item 'ORGANIZACION INDUSTRIAL Y RELACIONES HUMANAS'\n",
       "\\item 'PROYECTO DE PRACTICAS PROFESIONALIZANTES'\n",
       "\\item 'QUIMICA ANALITICA CUANTITATIVA'\n",
       "\\item 'QUIMICA ORGANICA II'\n",
       "\\item 'TECNOLOGIA DE LOS ALIMENTOS'\n",
       "\\item 'TRABAJOS PRACTICOS DE QUIMICA ANALITICA CUANTIT.'\n",
       "\\item 'TRABAJOS PRACTICOS DE QUIMICA INDUSTRIAL APLICADA'\n",
       "\\item 'TRABAJOS PRACTICOS DE QUIMICA ORGANICA II'\n",
       "\\item 'TRABAJOS PRACTICOS DE TECNOL. DE LOS ALIMENTOS'\n",
       "\\item 'TEATRO'\n",
       "\\item 'INTRODUCCION A LA ADMINISTRACION'\n",
       "\\item 'MUSICA'\n",
       "\\item 'ARTES VISUALES'\n",
       "\\item 'ESPACIO DE LA ORIENTACION EN CIENCIAS NATURALES'\n",
       "\\item 'INFRAESTRUCTURA TURISTICA Y TURISMO TERMAL I'\n",
       "\\item 'MARKETING TURISTICO'\n",
       "\\item 'PORTUGUS'\n",
       "\\item 'FISICA Y QUIMICA'\n",
       "\\item 'FRANCES'\n",
       "\\item 'EDI CONTAMINACION AMBIENTAL'\n",
       "\\item 'EDI: COOPERATIVISMO Y FORMAS DE ORGANIZACION LABOR'\n",
       "\\item 'EDI: MATEMATICA APLICADA'\n",
       "\\item 'LENGUA EXTRANJERA (INGLES)'\n",
       "\\item 'PRODUCCION BOVINO PARA CARNE'\n",
       "\\item 'PRODUCCION DE FORRAJES'\n",
       "\\item 'PROYECTO PRODUCTIVO TECNOLOGICO'\n",
       "\\item 'TECNOLOGIA DE CONTROL'\n",
       "\\item 'TECNOLOGIA DE GESTION'\n",
       "\\item 'LENGUAJE CORPORAL Y DANZA O TEATRO'\n",
       "\\item 'CIRCUITOS TURISTICOS II'\n",
       "\\item 'INFRAESTRUCTURA TURISTICA Y TURISMO TERMAL II'\n",
       "\\item 'SEMINARIO DE PRACTICA PROFESIONAL'\n",
       "\\item 'CEREALES Y OLEAGINOSAS'\n",
       "\\item 'FORMULACION DE PROYECTOS PRODUCTIVOS'\n",
       "\\item 'INDUSTRIA CARNE PORCINA'\n",
       "\\item 'INDUSTRIA DE PROD. LACTEOS DE BOVINO O CAPRINO'\n",
       "\\item 'ORGANIZACION Y GESTION DE EMPRESAS AGROPECUARIAS'\n",
       "\\item 'PRODUCCION DE CAPRINOS'\n",
       "\\item 'PRACTICAS GIMNASTICAS Y EXPRESIVAS II'\n",
       "\\item 'PRACTICAS LUDOMOTRICES Y DEPORTIVAS I II Y III'\n",
       "\\item 'PROBLEMATICAS CONTEMPORANEAS Y EDUCACION FISICA'\n",
       "\\item 'LABORATORIO DE ENSAYOS DE MAQUINAS Y MOTORES'\n",
       "\\item 'MANTENIMIENTO Y REPARACION DE EQUIPOS'\n",
       "\\item 'MAQUINAS TERMICAS'\n",
       "\\item 'MAQUINAS Y ELEMENTOS DE TRANSPORTE'\n",
       "\\item 'ORGANIZACION Y CONTROL INDUSTRIAL'\n",
       "\\item 'PROYECTO'\n",
       "\\item 'RELACIONES HUMANAS'\n",
       "\\item 'SEGURIDAD E HIGIENE INDUSTRIAL'\n",
       "\\item 'TECNOLOGIA III'\n",
       "\\item 'LENGUAJE CORPORAL Y DANZA'\n",
       "\\item 'PRODUCCION MULTIMEDIAL EN LENGUAJES ARTISTICOS I'\n",
       "\\item 'DERECHO'\n",
       "\\item 'ECONOMIA II'\n",
       "\\item 'COMUNICACION'\n",
       "\\item 'COMUNICACION, EDUCACION Y NUEVAS TECNOLOGIAS'\n",
       "\\item 'OPINION PUBLICA Y MEDIOS DE COMUNICACION'\n",
       "\\item 'PRACTICAS COMUNICACIONALES'\n",
       "\\item 'TEORIAS DE LA COMUNICACION I Y II'\n",
       "\\item 'GESTION DE LA PRODUCCION ARTISTICA'\n",
       "\\item 'LABORATORIO DEL COLOR E INVESTIGACION DE MATERIALES I Y II'\n",
       "\\item 'LENGUA EXTRANJERA'\n",
       "\\item 'PRODUCCION MULTIMEDIAL EN LENGUAJES ARTISTICOS'\n",
       "\\item 'TALLER DE BIDIMENSION II'\n",
       "\\item 'TALLER DE TRIDIMENSION I Y II'\n",
       "\\item 'CATEQUESIS'\n",
       "\\item 'OFIMATICA Y LA WEB 2.0'\n",
       "\\item 'CULTURAS Y ESTETICAS CONTEMPORANEAS I'\n",
       "\\item 'ITINERARIOS PROYECTOS'\n",
       "\\item 'FRANCS'\n",
       "\\item 'LABORATORIO DE MICROBIOLOGIA'\n",
       "\\item 'MICROBIOLOGIA'\n",
       "\\item 'QUIMICA ANALITICA CUALITATIVA'\n",
       "\\item 'TRABAJOS PRACTICOS DE PROC. Y OPERACIONES QUIMICAS'\n",
       "\\item 'TRABAJOS PRACTICOS DE QUIMICA ANALITICA'\n",
       "\\item 'TRABAJOS PRACTICOS DE QUIMICA INDUSTRIAL'\n",
       "\\item 'TRABAJOS PRACTICOS DE QUIMICA ORGANICA'\n",
       "\\item 'AUTO C.A.D'\n",
       "\\item 'DIBUJO DE MAQUINAS'\n",
       "\\item 'HIDRAULICA Y MAQUINAS HIDRAULICAS'\n",
       "\\item 'LABORATORIO DE ENSAYOS INDUSTRIALES'\n",
       "\\item 'LEGISLACION DEL TRABAJO'\n",
       "\\item 'MECANICA APLICADA A LOS MECANISMOS'\n",
       "\\item 'RESISTENCIA Y CALCULO DE ELEMENTOS DE MAQUINAS'\n",
       "\\item 'TECNOLOGIA II'\n",
       "\\item 'TERMODINAMICA'\n",
       "\\item 'CIENCIAS NATURALES (BIOLOGIA)'\n",
       "\\item 'CIENCIAS SOCIALES (GEOGRAFIA)'\n",
       "\\item 'CIENCIAS SOCIALES (HISTORIA)'\n",
       "\\item 'DIBUJO TECNICO'\n",
       "\\item 'TALLER MODULAR QUIMICA'\n",
       "\\item 'PRACTICAS CORPORALES Y DEPORTIVAS EN EL MEDIO NATURAL I'\n",
       "\\item 'PRACTICAS GIMNASTICAS Y EXPRESIVAS I'\n",
       "\\item 'TECNOLOGIA DE LA COMUNICACION Y LA INFORMATICA'\n",
       "\\item 'PORTUGUES'\n",
       "\\item 'ANALISIS MATEMATICO'\n",
       "\\item 'C.A.D'\n",
       "\\item 'ELECTROTECNIA'\n",
       "\\item 'MECANICA TECNICA'\n",
       "\\item 'METALURGIA Y MATERIALES PARA CONSTR. MECANICAS'\n",
       "\\item 'TECNOLOGIA I'\n",
       "\\item 'FISICA APLICADA'\n",
       "\\item 'QUIMICA GENERAL'\n",
       "\\item 'QUIMICA INORGANICA'\n",
       "\\item 'TRABAJOS PRACTICOS DE FISICA APLICADA'\n",
       "\\item 'TRABAJOS PRACTICOS DE QUIMICA GENERAL'\n",
       "\\item 'TRABAJOS PRACTICOS DE QUIMICA INORGANICA'\n",
       "\\item 'TECNOLOGIAS DE LA INFORMACION Y LA COMUNICACION'\n",
       "\\item 'CIENCIAS NATURALES BIOLOGIA'\n",
       "\\item 'RESPONSABILIDAD SOCIAL'\n",
       "\\item 'MEDIO AMBIENTE SANO'\n",
       "\\item 'CULTURA Y COMUNICACION'\n",
       "\\item 'EDI: ECONOMIA REGIONAL Y ADMIN AGROPECUARIA POL'\n",
       "\\item 'MARCO JURIDICO DE LOS PROCESOS PRODUCTIVOS'\n",
       "\\item 'PRODUCCION DE CERDOS'\n",
       "\\item 'PRODUCCION HORTICOLA'\n",
       "\\item 'TECNOLOGIA DE LOS MATERIALES'\n",
       "\\item 'INTROD. INVESTIGACION C. NATURALES'\n",
       "\\item 'CIENCIAS NATURALES (FISICO QUIMICA)'\n",
       "\\item 'ITALIANO'\n",
       "\\item 'CIENCIAS NATURALES APLICADAS A PRO. AGROPECUARIOS'\n",
       "\\item 'INSTALACIONES AGROPECUARIAS'\n",
       "\\item 'MAQUINAS Y EQUIPOS'\n",
       "\\item 'PROCESOS PRODUCTIVOS'\n",
       "\\item 'PRODUCCION DE PLANTAS EN VIVERO'\n",
       "\\item 'CIENCIAS NATURALES FISICO-QUIMICA'\n",
       "\\item 'TALLER DE BIDIMENSION I'\n",
       "\\item 'BIDIMENSION I Y II'\n",
       "\\item 'HISTORIA SOCIO CULTURAL DEL ARTE I'\n",
       "\\item 'TRIDIMENSION I Y II'\n",
       "\\item 'HISTORIA SOCIO CULTURAL DEL ARTE I, II Y III'\n",
       "\\item 'STE - CUNICULTURA'\n",
       "\\item 'SECTOR DE TECNOLOGIAS ESPECIFICAS'\n",
       "\\end{enumerate*}\n"
      ],
      "text/markdown": [
       "1. 'TECNOLOGIA DE LA INFORMACION Y LA COMUNICACION'\n",
       "2. 'TUTORIAS'\n",
       "3. 'HISTORIA'\n",
       "4. 'LENGUA Y LITERATURA'\n",
       "5. 'LENGUAJE Y PRODUCCION MUSICAL II'\n",
       "6. 'LENGUAJE Y PRODUCCION VISUAL II'\n",
       "7. 'LENGUAS EXTRANJERAS'\n",
       "8. 'MATEMATICA'\n",
       "9. 'PRODUCCION MULTIMEDIAL EN LENGUAJES ART. I Y II'\n",
       "10. 'PRODUCCIONES ARTISTICAS INTEGRADAS'\n",
       "11. 'PSICOLOGIA'\n",
       "12. 'BIOLOGIA'\n",
       "13. 'EDUCACION TECNOLOGICA'\n",
       "14. 'CULTURA Y ESTETICA'\n",
       "15. 'FORMACION ETICA Y CIUDADANA'\n",
       "16. 'CIRCUITOS TURISTICOS I Y II'\n",
       "17. 'DESARROLLO DE LOCALIDADES TURISTICAS'\n",
       "18. 'EDUCACION FISICA'\n",
       "19. 'EMPRESAS TURISTICAS'\n",
       "20. 'GEOGRAFIA'\n",
       "21. 'INFRAESTRUCTURA TURISTICA Y TURISMO TERMAL'\n",
       "22. 'LITERATURA ARGENTINA'\n",
       "23. 'PRACTICAS EDUCATIVAS'\n",
       "24. 'FISICA'\n",
       "25. 'LENGUAJE Y PRODUCCION MUSICAL I'\n",
       "26. 'LENGUAJE Y PRODUCCION VISUAL I'\n",
       "27. 'MICROECONOMIA'\n",
       "28. 'PRINCIPIOS BASICOS DE CONTABILIDAD'\n",
       "29. 'QUIMICA'\n",
       "30. 'TEORIA Y GESTION DE LAS ORGANIZACIONES I'\n",
       "31. 'FILOSOFIA'\n",
       "32. 'LITERATURA LATINOAMERICANA'\n",
       "33. 'TECNOLOGIA DE LA INFORMACION Y COMUNICACION'\n",
       "34. 'INTRODUCCION A LA HOSPITALIDAD'\n",
       "35. 'INTRODUCCION AL TURISMO'\n",
       "36. 'TUTORIAS DISCIPLINARES'\n",
       "37. 'DERECHO COMERCIAL'\n",
       "38. 'LEGISLACION LABORAL Y PRACTICA IMPOSITIVA'\n",
       "39. 'MACROECONOMIA'\n",
       "40. 'SISTEMA DE INFORMACION CONTABLE'\n",
       "41. 'TEORIA Y GESTION DE LAS ORGANIZACIONES II'\n",
       "42. 'FILOSOFIA II'\n",
       "43. 'GEOGRAFIA AMBIENTAL'\n",
       "44. 'METODOLOGIA DE LA INVESTIGACION'\n",
       "45. 'SOCIOLOGIA'\n",
       "46. 'TEORIA Y GESTION DE LAS ORGANIZACIONES'\n",
       "47. 'ECONOMIA'\n",
       "48. 'ECOLOGIA'\n",
       "49. 'INTRODUCCION A LA INVESTIGACION EN CIENCIAS NATURALES'\n",
       "50. 'ORGANIZACION INDUSTRIAL Y RELACIONES HUMANAS'\n",
       "51. 'PROYECTO DE PRACTICAS PROFESIONALIZANTES'\n",
       "52. 'QUIMICA ANALITICA CUANTITATIVA'\n",
       "53. 'QUIMICA ORGANICA II'\n",
       "54. 'TECNOLOGIA DE LOS ALIMENTOS'\n",
       "55. 'TRABAJOS PRACTICOS DE QUIMICA ANALITICA CUANTIT.'\n",
       "56. 'TRABAJOS PRACTICOS DE QUIMICA INDUSTRIAL APLICADA'\n",
       "57. 'TRABAJOS PRACTICOS DE QUIMICA ORGANICA II'\n",
       "58. 'TRABAJOS PRACTICOS DE TECNOL. DE LOS ALIMENTOS'\n",
       "59. 'TEATRO'\n",
       "60. 'INTRODUCCION A LA ADMINISTRACION'\n",
       "61. 'MUSICA'\n",
       "62. 'ARTES VISUALES'\n",
       "63. 'ESPACIO DE LA ORIENTACION EN CIENCIAS NATURALES'\n",
       "64. 'INFRAESTRUCTURA TURISTICA Y TURISMO TERMAL I'\n",
       "65. 'MARKETING TURISTICO'\n",
       "66. 'PORTUGUS'\n",
       "67. 'FISICA Y QUIMICA'\n",
       "68. 'FRANCES'\n",
       "69. 'EDI CONTAMINACION AMBIENTAL'\n",
       "70. 'EDI: COOPERATIVISMO Y FORMAS DE ORGANIZACION LABOR'\n",
       "71. 'EDI: MATEMATICA APLICADA'\n",
       "72. 'LENGUA EXTRANJERA (INGLES)'\n",
       "73. 'PRODUCCION BOVINO PARA CARNE'\n",
       "74. 'PRODUCCION DE FORRAJES'\n",
       "75. 'PROYECTO PRODUCTIVO TECNOLOGICO'\n",
       "76. 'TECNOLOGIA DE CONTROL'\n",
       "77. 'TECNOLOGIA DE GESTION'\n",
       "78. 'LENGUAJE CORPORAL Y DANZA O TEATRO'\n",
       "79. 'CIRCUITOS TURISTICOS II'\n",
       "80. 'INFRAESTRUCTURA TURISTICA Y TURISMO TERMAL II'\n",
       "81. 'SEMINARIO DE PRACTICA PROFESIONAL'\n",
       "82. 'CEREALES Y OLEAGINOSAS'\n",
       "83. 'FORMULACION DE PROYECTOS PRODUCTIVOS'\n",
       "84. 'INDUSTRIA CARNE PORCINA'\n",
       "85. 'INDUSTRIA DE PROD. LACTEOS DE BOVINO O CAPRINO'\n",
       "86. 'ORGANIZACION Y GESTION DE EMPRESAS AGROPECUARIAS'\n",
       "87. 'PRODUCCION DE CAPRINOS'\n",
       "88. 'PRACTICAS GIMNASTICAS Y EXPRESIVAS II'\n",
       "89. 'PRACTICAS LUDOMOTRICES Y DEPORTIVAS I II Y III'\n",
       "90. 'PROBLEMATICAS CONTEMPORANEAS Y EDUCACION FISICA'\n",
       "91. 'LABORATORIO DE ENSAYOS DE MAQUINAS Y MOTORES'\n",
       "92. 'MANTENIMIENTO Y REPARACION DE EQUIPOS'\n",
       "93. 'MAQUINAS TERMICAS'\n",
       "94. 'MAQUINAS Y ELEMENTOS DE TRANSPORTE'\n",
       "95. 'ORGANIZACION Y CONTROL INDUSTRIAL'\n",
       "96. 'PROYECTO'\n",
       "97. 'RELACIONES HUMANAS'\n",
       "98. 'SEGURIDAD E HIGIENE INDUSTRIAL'\n",
       "99. 'TECNOLOGIA III'\n",
       "100. 'LENGUAJE CORPORAL Y DANZA'\n",
       "101. 'PRODUCCION MULTIMEDIAL EN LENGUAJES ARTISTICOS I'\n",
       "102. 'DERECHO'\n",
       "103. 'ECONOMIA II'\n",
       "104. 'COMUNICACION'\n",
       "105. 'COMUNICACION, EDUCACION Y NUEVAS TECNOLOGIAS'\n",
       "106. 'OPINION PUBLICA Y MEDIOS DE COMUNICACION'\n",
       "107. 'PRACTICAS COMUNICACIONALES'\n",
       "108. 'TEORIAS DE LA COMUNICACION I Y II'\n",
       "109. 'GESTION DE LA PRODUCCION ARTISTICA'\n",
       "110. 'LABORATORIO DEL COLOR E INVESTIGACION DE MATERIALES I Y II'\n",
       "111. 'LENGUA EXTRANJERA'\n",
       "112. 'PRODUCCION MULTIMEDIAL EN LENGUAJES ARTISTICOS'\n",
       "113. 'TALLER DE BIDIMENSION II'\n",
       "114. 'TALLER DE TRIDIMENSION I Y II'\n",
       "115. 'CATEQUESIS'\n",
       "116. 'OFIMATICA Y LA WEB 2.0'\n",
       "117. 'CULTURAS Y ESTETICAS CONTEMPORANEAS I'\n",
       "118. 'ITINERARIOS PROYECTOS'\n",
       "119. 'FRANCS'\n",
       "120. 'LABORATORIO DE MICROBIOLOGIA'\n",
       "121. 'MICROBIOLOGIA'\n",
       "122. 'QUIMICA ANALITICA CUALITATIVA'\n",
       "123. 'TRABAJOS PRACTICOS DE PROC. Y OPERACIONES QUIMICAS'\n",
       "124. 'TRABAJOS PRACTICOS DE QUIMICA ANALITICA'\n",
       "125. 'TRABAJOS PRACTICOS DE QUIMICA INDUSTRIAL'\n",
       "126. 'TRABAJOS PRACTICOS DE QUIMICA ORGANICA'\n",
       "127. 'AUTO C.A.D'\n",
       "128. 'DIBUJO DE MAQUINAS'\n",
       "129. 'HIDRAULICA Y MAQUINAS HIDRAULICAS'\n",
       "130. 'LABORATORIO DE ENSAYOS INDUSTRIALES'\n",
       "131. 'LEGISLACION DEL TRABAJO'\n",
       "132. 'MECANICA APLICADA A LOS MECANISMOS'\n",
       "133. 'RESISTENCIA Y CALCULO DE ELEMENTOS DE MAQUINAS'\n",
       "134. 'TECNOLOGIA II'\n",
       "135. 'TERMODINAMICA'\n",
       "136. 'CIENCIAS NATURALES (BIOLOGIA)'\n",
       "137. 'CIENCIAS SOCIALES (GEOGRAFIA)'\n",
       "138. 'CIENCIAS SOCIALES (HISTORIA)'\n",
       "139. 'DIBUJO TECNICO'\n",
       "140. 'TALLER MODULAR QUIMICA'\n",
       "141. 'PRACTICAS CORPORALES Y DEPORTIVAS EN EL MEDIO NATURAL I'\n",
       "142. 'PRACTICAS GIMNASTICAS Y EXPRESIVAS I'\n",
       "143. 'TECNOLOGIA DE LA COMUNICACION Y LA INFORMATICA'\n",
       "144. 'PORTUGUES'\n",
       "145. 'ANALISIS MATEMATICO'\n",
       "146. 'C.A.D'\n",
       "147. 'ELECTROTECNIA'\n",
       "148. 'MECANICA TECNICA'\n",
       "149. 'METALURGIA Y MATERIALES PARA CONSTR. MECANICAS'\n",
       "150. 'TECNOLOGIA I'\n",
       "151. 'FISICA APLICADA'\n",
       "152. 'QUIMICA GENERAL'\n",
       "153. 'QUIMICA INORGANICA'\n",
       "154. 'TRABAJOS PRACTICOS DE FISICA APLICADA'\n",
       "155. 'TRABAJOS PRACTICOS DE QUIMICA GENERAL'\n",
       "156. 'TRABAJOS PRACTICOS DE QUIMICA INORGANICA'\n",
       "157. 'TECNOLOGIAS DE LA INFORMACION Y LA COMUNICACION'\n",
       "158. 'CIENCIAS NATURALES BIOLOGIA'\n",
       "159. 'RESPONSABILIDAD SOCIAL'\n",
       "160. 'MEDIO AMBIENTE SANO'\n",
       "161. 'CULTURA Y COMUNICACION'\n",
       "162. 'EDI: ECONOMIA REGIONAL Y ADMIN AGROPECUARIA POL'\n",
       "163. 'MARCO JURIDICO DE LOS PROCESOS PRODUCTIVOS'\n",
       "164. 'PRODUCCION DE CERDOS'\n",
       "165. 'PRODUCCION HORTICOLA'\n",
       "166. 'TECNOLOGIA DE LOS MATERIALES'\n",
       "167. 'INTROD. INVESTIGACION C. NATURALES'\n",
       "168. 'CIENCIAS NATURALES (FISICO QUIMICA)'\n",
       "169. 'ITALIANO'\n",
       "170. 'CIENCIAS NATURALES APLICADAS A PRO. AGROPECUARIOS'\n",
       "171. 'INSTALACIONES AGROPECUARIAS'\n",
       "172. 'MAQUINAS Y EQUIPOS'\n",
       "173. 'PROCESOS PRODUCTIVOS'\n",
       "174. 'PRODUCCION DE PLANTAS EN VIVERO'\n",
       "175. 'CIENCIAS NATURALES FISICO-QUIMICA'\n",
       "176. 'TALLER DE BIDIMENSION I'\n",
       "177. 'BIDIMENSION I Y II'\n",
       "178. 'HISTORIA SOCIO CULTURAL DEL ARTE I'\n",
       "179. 'TRIDIMENSION I Y II'\n",
       "180. 'HISTORIA SOCIO CULTURAL DEL ARTE I, II Y III'\n",
       "181. 'STE - CUNICULTURA'\n",
       "182. 'SECTOR DE TECNOLOGIAS ESPECIFICAS'\n",
       "\n",
       "\n"
      ],
      "text/plain": [
       "  [1] \"TECNOLOGIA DE LA INFORMACION Y LA COMUNICACION\"            \n",
       "  [2] \"TUTORIAS\"                                                  \n",
       "  [3] \"HISTORIA\"                                                  \n",
       "  [4] \"LENGUA Y LITERATURA\"                                       \n",
       "  [5] \"LENGUAJE Y PRODUCCION MUSICAL II\"                          \n",
       "  [6] \"LENGUAJE Y PRODUCCION VISUAL II\"                           \n",
       "  [7] \"LENGUAS EXTRANJERAS\"                                       \n",
       "  [8] \"MATEMATICA\"                                                \n",
       "  [9] \"PRODUCCION MULTIMEDIAL EN LENGUAJES ART. I Y II\"           \n",
       " [10] \"PRODUCCIONES ARTISTICAS INTEGRADAS\"                        \n",
       " [11] \"PSICOLOGIA\"                                                \n",
       " [12] \"BIOLOGIA\"                                                  \n",
       " [13] \"EDUCACION TECNOLOGICA\"                                     \n",
       " [14] \"CULTURA Y ESTETICA\"                                        \n",
       " [15] \"FORMACION ETICA Y CIUDADANA\"                               \n",
       " [16] \"CIRCUITOS TURISTICOS I Y II\"                               \n",
       " [17] \"DESARROLLO DE LOCALIDADES TURISTICAS\"                      \n",
       " [18] \"EDUCACION FISICA\"                                          \n",
       " [19] \"EMPRESAS TURISTICAS\"                                       \n",
       " [20] \"GEOGRAFIA\"                                                 \n",
       " [21] \"INFRAESTRUCTURA TURISTICA Y TURISMO TERMAL\"                \n",
       " [22] \"LITERATURA ARGENTINA\"                                      \n",
       " [23] \"PRACTICAS EDUCATIVAS\"                                      \n",
       " [24] \"FISICA\"                                                    \n",
       " [25] \"LENGUAJE Y PRODUCCION MUSICAL I\"                           \n",
       " [26] \"LENGUAJE Y PRODUCCION VISUAL I\"                            \n",
       " [27] \"MICROECONOMIA\"                                             \n",
       " [28] \"PRINCIPIOS BASICOS DE CONTABILIDAD\"                        \n",
       " [29] \"QUIMICA\"                                                   \n",
       " [30] \"TEORIA Y GESTION DE LAS ORGANIZACIONES I\"                  \n",
       " [31] \"FILOSOFIA\"                                                 \n",
       " [32] \"LITERATURA LATINOAMERICANA\"                                \n",
       " [33] \"TECNOLOGIA DE LA INFORMACION Y COMUNICACION\"               \n",
       " [34] \"INTRODUCCION A LA HOSPITALIDAD\"                            \n",
       " [35] \"INTRODUCCION AL TURISMO\"                                   \n",
       " [36] \"TUTORIAS DISCIPLINARES\"                                    \n",
       " [37] \"DERECHO COMERCIAL\"                                         \n",
       " [38] \"LEGISLACION LABORAL Y PRACTICA IMPOSITIVA\"                 \n",
       " [39] \"MACROECONOMIA\"                                             \n",
       " [40] \"SISTEMA DE INFORMACION CONTABLE\"                           \n",
       " [41] \"TEORIA Y GESTION DE LAS ORGANIZACIONES II\"                 \n",
       " [42] \"FILOSOFIA II\"                                              \n",
       " [43] \"GEOGRAFIA AMBIENTAL\"                                       \n",
       " [44] \"METODOLOGIA DE LA INVESTIGACION\"                           \n",
       " [45] \"SOCIOLOGIA\"                                                \n",
       " [46] \"TEORIA Y GESTION DE LAS ORGANIZACIONES\"                    \n",
       " [47] \"ECONOMIA\"                                                  \n",
       " [48] \"ECOLOGIA\"                                                  \n",
       " [49] \"INTRODUCCION A LA INVESTIGACION EN CIENCIAS NATURALES\"     \n",
       " [50] \"ORGANIZACION INDUSTRIAL Y RELACIONES HUMANAS\"              \n",
       " [51] \"PROYECTO DE PRACTICAS PROFESIONALIZANTES\"                  \n",
       " [52] \"QUIMICA ANALITICA CUANTITATIVA\"                            \n",
       " [53] \"QUIMICA ORGANICA II\"                                       \n",
       " [54] \"TECNOLOGIA DE LOS ALIMENTOS\"                               \n",
       " [55] \"TRABAJOS PRACTICOS DE QUIMICA ANALITICA CUANTIT.\"          \n",
       " [56] \"TRABAJOS PRACTICOS DE QUIMICA INDUSTRIAL APLICADA\"         \n",
       " [57] \"TRABAJOS PRACTICOS DE QUIMICA ORGANICA II\"                 \n",
       " [58] \"TRABAJOS PRACTICOS DE TECNOL. DE LOS ALIMENTOS\"            \n",
       " [59] \"TEATRO\"                                                    \n",
       " [60] \"INTRODUCCION A LA ADMINISTRACION\"                          \n",
       " [61] \"MUSICA\"                                                    \n",
       " [62] \"ARTES VISUALES\"                                            \n",
       " [63] \"ESPACIO DE LA ORIENTACION EN CIENCIAS NATURALES\"           \n",
       " [64] \"INFRAESTRUCTURA TURISTICA Y TURISMO TERMAL I\"              \n",
       " [65] \"MARKETING TURISTICO\"                                       \n",
       " [66] \"PORTUGUS\"                                                  \n",
       " [67] \"FISICA Y QUIMICA\"                                          \n",
       " [68] \"FRANCES\"                                                   \n",
       " [69] \"EDI CONTAMINACION AMBIENTAL\"                               \n",
       " [70] \"EDI: COOPERATIVISMO Y FORMAS DE ORGANIZACION LABOR\"        \n",
       " [71] \"EDI: MATEMATICA APLICADA\"                                  \n",
       " [72] \"LENGUA EXTRANJERA (INGLES)\"                                \n",
       " [73] \"PRODUCCION BOVINO PARA CARNE\"                              \n",
       " [74] \"PRODUCCION DE FORRAJES\"                                    \n",
       " [75] \"PROYECTO PRODUCTIVO TECNOLOGICO\"                           \n",
       " [76] \"TECNOLOGIA DE CONTROL\"                                     \n",
       " [77] \"TECNOLOGIA DE GESTION\"                                     \n",
       " [78] \"LENGUAJE CORPORAL Y DANZA O TEATRO\"                        \n",
       " [79] \"CIRCUITOS TURISTICOS II\"                                   \n",
       " [80] \"INFRAESTRUCTURA TURISTICA Y TURISMO TERMAL II\"             \n",
       " [81] \"SEMINARIO DE PRACTICA PROFESIONAL\"                         \n",
       " [82] \"CEREALES Y OLEAGINOSAS\"                                    \n",
       " [83] \"FORMULACION DE PROYECTOS PRODUCTIVOS\"                      \n",
       " [84] \"INDUSTRIA CARNE PORCINA\"                                   \n",
       " [85] \"INDUSTRIA DE PROD. LACTEOS DE BOVINO O CAPRINO\"            \n",
       " [86] \"ORGANIZACION Y GESTION DE EMPRESAS AGROPECUARIAS\"          \n",
       " [87] \"PRODUCCION DE CAPRINOS\"                                    \n",
       " [88] \"PRACTICAS GIMNASTICAS Y EXPRESIVAS II\"                     \n",
       " [89] \"PRACTICAS LUDOMOTRICES Y DEPORTIVAS I II Y III\"            \n",
       " [90] \"PROBLEMATICAS CONTEMPORANEAS Y EDUCACION FISICA\"           \n",
       " [91] \"LABORATORIO DE ENSAYOS DE MAQUINAS Y MOTORES\"              \n",
       " [92] \"MANTENIMIENTO Y REPARACION DE EQUIPOS\"                     \n",
       " [93] \"MAQUINAS TERMICAS\"                                         \n",
       " [94] \"MAQUINAS Y ELEMENTOS DE TRANSPORTE\"                        \n",
       " [95] \"ORGANIZACION Y CONTROL INDUSTRIAL\"                         \n",
       " [96] \"PROYECTO\"                                                  \n",
       " [97] \"RELACIONES HUMANAS\"                                        \n",
       " [98] \"SEGURIDAD E HIGIENE INDUSTRIAL\"                            \n",
       " [99] \"TECNOLOGIA III\"                                            \n",
       "[100] \"LENGUAJE CORPORAL Y DANZA\"                                 \n",
       "[101] \"PRODUCCION MULTIMEDIAL EN LENGUAJES ARTISTICOS I\"          \n",
       "[102] \"DERECHO\"                                                   \n",
       "[103] \"ECONOMIA II\"                                               \n",
       "[104] \"COMUNICACION\"                                              \n",
       "[105] \"COMUNICACION, EDUCACION Y NUEVAS TECNOLOGIAS\"              \n",
       "[106] \"OPINION PUBLICA Y MEDIOS DE COMUNICACION\"                  \n",
       "[107] \"PRACTICAS COMUNICACIONALES\"                                \n",
       "[108] \"TEORIAS DE LA COMUNICACION I Y II\"                         \n",
       "[109] \"GESTION DE LA PRODUCCION ARTISTICA\"                        \n",
       "[110] \"LABORATORIO DEL COLOR E INVESTIGACION DE MATERIALES I Y II\"\n",
       "[111] \"LENGUA EXTRANJERA\"                                         \n",
       "[112] \"PRODUCCION MULTIMEDIAL EN LENGUAJES ARTISTICOS\"            \n",
       "[113] \"TALLER DE BIDIMENSION II\"                                  \n",
       "[114] \"TALLER DE TRIDIMENSION I Y II\"                             \n",
       "[115] \"CATEQUESIS\"                                                \n",
       "[116] \"OFIMATICA Y LA WEB 2.0\"                                    \n",
       "[117] \"CULTURAS Y ESTETICAS CONTEMPORANEAS I\"                     \n",
       "[118] \"ITINERARIOS PROYECTOS\"                                     \n",
       "[119] \"FRANCS\"                                                    \n",
       "[120] \"LABORATORIO DE MICROBIOLOGIA\"                              \n",
       "[121] \"MICROBIOLOGIA\"                                             \n",
       "[122] \"QUIMICA ANALITICA CUALITATIVA\"                             \n",
       "[123] \"TRABAJOS PRACTICOS DE PROC. Y OPERACIONES QUIMICAS\"        \n",
       "[124] \"TRABAJOS PRACTICOS DE QUIMICA ANALITICA\"                   \n",
       "[125] \"TRABAJOS PRACTICOS DE QUIMICA INDUSTRIAL\"                  \n",
       "[126] \"TRABAJOS PRACTICOS DE QUIMICA ORGANICA\"                    \n",
       "[127] \"AUTO C.A.D\"                                                \n",
       "[128] \"DIBUJO DE MAQUINAS\"                                        \n",
       "[129] \"HIDRAULICA Y MAQUINAS HIDRAULICAS\"                         \n",
       "[130] \"LABORATORIO DE ENSAYOS INDUSTRIALES\"                       \n",
       "[131] \"LEGISLACION DEL TRABAJO\"                                   \n",
       "[132] \"MECANICA APLICADA A LOS MECANISMOS\"                        \n",
       "[133] \"RESISTENCIA Y CALCULO DE ELEMENTOS DE MAQUINAS\"            \n",
       "[134] \"TECNOLOGIA II\"                                             \n",
       "[135] \"TERMODINAMICA\"                                             \n",
       "[136] \"CIENCIAS NATURALES (BIOLOGIA)\"                             \n",
       "[137] \"CIENCIAS SOCIALES (GEOGRAFIA)\"                             \n",
       "[138] \"CIENCIAS SOCIALES (HISTORIA)\"                              \n",
       "[139] \"DIBUJO TECNICO\"                                            \n",
       "[140] \"TALLER MODULAR QUIMICA\"                                    \n",
       "[141] \"PRACTICAS CORPORALES Y DEPORTIVAS EN EL MEDIO NATURAL I\"   \n",
       "[142] \"PRACTICAS GIMNASTICAS Y EXPRESIVAS I\"                      \n",
       "[143] \"TECNOLOGIA DE LA COMUNICACION Y LA INFORMATICA\"            \n",
       "[144] \"PORTUGUES\"                                                 \n",
       "[145] \"ANALISIS MATEMATICO\"                                       \n",
       "[146] \"C.A.D\"                                                     \n",
       "[147] \"ELECTROTECNIA\"                                             \n",
       "[148] \"MECANICA TECNICA\"                                          \n",
       "[149] \"METALURGIA Y MATERIALES PARA CONSTR. MECANICAS\"            \n",
       "[150] \"TECNOLOGIA I\"                                              \n",
       "[151] \"FISICA APLICADA\"                                           \n",
       "[152] \"QUIMICA GENERAL\"                                           \n",
       "[153] \"QUIMICA INORGANICA\"                                        \n",
       "[154] \"TRABAJOS PRACTICOS DE FISICA APLICADA\"                     \n",
       "[155] \"TRABAJOS PRACTICOS DE QUIMICA GENERAL\"                     \n",
       "[156] \"TRABAJOS PRACTICOS DE QUIMICA INORGANICA\"                  \n",
       "[157] \"TECNOLOGIAS DE LA INFORMACION Y LA COMUNICACION\"           \n",
       "[158] \"CIENCIAS NATURALES BIOLOGIA\"                               \n",
       "[159] \"RESPONSABILIDAD SOCIAL\"                                    \n",
       "[160] \"MEDIO AMBIENTE SANO\"                                       \n",
       "[161] \"CULTURA Y COMUNICACION\"                                    \n",
       "[162] \"EDI: ECONOMIA REGIONAL Y ADMIN AGROPECUARIA POL\"           \n",
       "[163] \"MARCO JURIDICO DE LOS PROCESOS PRODUCTIVOS\"                \n",
       "[164] \"PRODUCCION DE CERDOS\"                                      \n",
       "[165] \"PRODUCCION HORTICOLA\"                                      \n",
       "[166] \"TECNOLOGIA DE LOS MATERIALES\"                              \n",
       "[167] \"INTROD. INVESTIGACION C. NATURALES\"                        \n",
       "[168] \"CIENCIAS NATURALES (FISICO QUIMICA)\"                       \n",
       "[169] \"ITALIANO\"                                                  \n",
       "[170] \"CIENCIAS NATURALES APLICADAS A PRO. AGROPECUARIOS\"         \n",
       "[171] \"INSTALACIONES AGROPECUARIAS\"                               \n",
       "[172] \"MAQUINAS Y EQUIPOS\"                                        \n",
       "[173] \"PROCESOS PRODUCTIVOS\"                                      \n",
       "[174] \"PRODUCCION DE PLANTAS EN VIVERO\"                           \n",
       "[175] \"CIENCIAS NATURALES FISICO-QUIMICA\"                         \n",
       "[176] \"TALLER DE BIDIMENSION I\"                                   \n",
       "[177] \"BIDIMENSION I Y II\"                                        \n",
       "[178] \"HISTORIA SOCIO CULTURAL DEL ARTE I\"                        \n",
       "[179] \"TRIDIMENSION I Y II\"                                       \n",
       "[180] \"HISTORIA SOCIO CULTURAL DEL ARTE I, II Y III\"              \n",
       "[181] \"STE - CUNICULTURA\"                                         \n",
       "[182] \"SECTOR DE TECNOLOGIAS ESPECIFICAS\"                         "
      ]
     },
     "metadata": {},
     "output_type": "display_data"
    }
   ],
   "source": [
    "#Vemos los nombres de las asignaturas\n",
    "unique(Notas_Victoria_secundaria$asignatura)\n",
    "#Convertimos todos los nombres a MAYUSCULA\n",
    "Notas_Victoria_secundaria$asignatura <- toupper(Notas_Victoria_secundaria$asignatura)\n",
    "#Chequeamos\n",
    "unique(Notas_Victoria_secundaria$asignatura)"
   ]
  },
  {
   "cell_type": "code",
   "execution_count": 50,
   "id": "c71e0bc4-9b94-48be-a9fa-a82d820ec25e",
   "metadata": {},
   "outputs": [],
   "source": [
    "#Normalizamos los nombres de las asignaturas en el conjunto de datos.\n",
    "#Nos aseguramos que las asignaturas que refieren a lo mismo sean llamadas de igual manera.\n",
    "\n",
    "Notas_Victoria_secundaria$asignatura <- str_replace_all(Notas_Victoria_secundaria$asignatura, \".*BIOLOGIA.*\", \"BIOLOGIA\")\n",
    "Notas_Victoria_secundaria$asignatura <- str_replace_all(Notas_Victoria_secundaria$asignatura, \".*MATEMATICA*\", \"MATEMATICA\")\n",
    "Notas_Victoria_secundaria$asignatura <- str_replace_all(Notas_Victoria_secundaria$asignatura, \".*LENGUA*\", \"LENGUA\")\n",
    "Notas_Victoria_secundaria$asignatura <- str_replace_all(Notas_Victoria_secundaria$asignatura, \".*EXTRANJERA*\", \"INGLES\")\n",
    "Notas_Victoria_secundaria$asignatura <- str_replace_all(Notas_Victoria_secundaria$asignatura, \".*GEOGRAFIA.*\", \"GEOGRAFIA\")\n",
    "Notas_Victoria_secundaria$asignatura <- str_replace_all(Notas_Victoria_secundaria$asignatura, \".*HISTORIA*\", \"HISTORIA\")\n",
    "Notas_Victoria_secundaria$asignatura <- str_replace_all(Notas_Victoria_secundaria$asignatura, \".*BIOLOGIA.*\", \"BIOLOGIA\")\n",
    "Notas_Victoria_secundaria$asignatura <- str_replace_all(Notas_Victoria_secundaria$asignatura, \".*ETICA*\", \"ETICA\")\n",
    "Notas_Victoria_secundaria$asignatura <- str_replace_all(Notas_Victoria_secundaria$asignatura, \".*MUSICA*\", \"MUSICA\")\n",
    "Notas_Victoria_secundaria$asignatura <- str_replace_all(Notas_Victoria_secundaria$asignatura, \".*ETICA*\", \"ETICA\")\n",
    "Notas_Victoria_secundaria$asignatura <- str_replace_all(Notas_Victoria_secundaria$asignatura, \".*FILOSOFIA*\", \"FILOSOFIA\")\n",
    "Notas_Victoria_secundaria$asignatura <- str_replace_all(Notas_Victoria_secundaria$asignatura, \".*ECONOMIA*\", \"ECONOMIA\")\n",
    "Notas_Victoria_secundaria$asignatura <- str_replace_all(Notas_Victoria_secundaria$asignatura, \".*FISICO QUIMICA*\", \"FISICA Y QUIMICA\")\n",
    "Notas_Victoria_secundaria$asignatura <- gsub(\"AUTO C.A.D\", \"C.A.D\", Notas_Victoria_secundaria$asignatura)\n",
    "Notas_Victoria_secundaria$asignatura <- gsub(\"DERECHO COMERCIAL\", \"DERECHO\", Notas_Victoria_secundaria$asignatura)\n",
    "Notas_Victoria_secundaria$asignatura <- gsub(\"CEREALES Y OLEAGINOSAS|MARCO JURIDICO DE LOS CIENCIAS AGROPECUARIAS |PRODUCCION HORTICOLA|PRODUCCION DE PLANTAS EN VIVERO |PRODUCCION DE FORRAJES|PRODUCCION DE CERDOS|PRODUCCION DE CAPRINOS|PRODUCCION BOVINO PARA CARNE|PROCESOS PRODUCTIVOS|INSTALACIONES AGROPECUARIAS|CIENCIAS NATURALES APLICADAS A PRO. AGROPECUARIOS|INDUSTRIA DE PROD. LACTEOS DE BOVINO O CAPRINO|INDUSTRIA CARNE PORCINA\", \"CIENCIAS AGROPECUARIAS\", Notas_Victoria_secundaria$asignatura)\n",
    "Notas_Victoria_secundaria$asignatura <- gsub(\"CIENCIAS NATURALES (FISICO QUIMICA)|FISICO Y QUIMICA)|CIENCIAS NATURALES FISICO-QUIMICA|FISICA Y QUIMICA|ESPACIO DE LA ORIENTACION EN CIENCIAS NATURALES (FISICO QUIMICA)\", \"FISICO Y QUIMICA\", Notas_Victoria_secundaria$asignatura)\n",
    "Notas_Victoria_secundaria$asignatura <- gsub(\"CIRCUITOS TURISTICOS I Y II|MARKETING TURISTICO|INTRODUCCION AL TURISMO|EMPRESAS TURISTICAS|INFRAESTRUCTURA TURISTICA Y TURISMO TERMAL II|INFRAESTRUCTURA TURISTICA Y TURISMO TERMAL I|INFRAESTRUCTURA TURISTICA Y TURISMO TERMAL|CIRCUITOS TURISTICOS II|DESARROLLO DE LOCALIDADES TURISTICAS\", \"TURISMO\", Notas_Victoria_secundaria$asignatura)\n",
    "Notas_Victoria_secundaria$asignatura <- gsub(\"ECONOMIA II\", \"ECONOMIA\", Notas_Victoria_secundaria$asignatura)\n",
    "Notas_Victoria_secundaria$asignatura <- gsub(\"ETICA Y CIUDADANA|ETICAS CONTEMPORANEAS I\", \"ETICA\", Notas_Victoria_secundaria$asignatura)\n",
    "Notas_Victoria_secundaria$asignatura <- gsub(\"FILOSOFIA II\", \"FILOSOFIA\", Notas_Victoria_secundaria$asignatura)\n",
    "Notas_Victoria_secundaria$asignatura <- gsub(\"FISICA APLICADA|TRABAJOS PRACTICOS DE FISICA APLICADA\", \"FISICA\", Notas_Victoria_secundaria$asignatura)\n",
    "Notas_Victoria_secundaria$asignatura <- gsub(\"FRANCÉS\", \"FRANCES\", Notas_Victoria_secundaria$asignatura)\n",
    "Notas_Victoria_secundaria$asignatura <- gsub(\"INGLES (INGLES)|INGLES (INGLES)|INGLESS\", \"INGLES\", Notas_Victoria_secundaria$asignatura)\n",
    "Notas_Victoria_secundaria$asignatura <- gsub(\"PORTUGUÉS\", \"PORTUGUES\", Notas_Victoria_secundaria$asignatura)\n",
    "Notas_Victoria_secundaria$asignatura <- gsub(\"QUIMICA ANALITICA CUALITATIVA|QUIMICA APLICADA|TRABAJOS PRACTICOS DE QUIMICA ORGANICA II|TRABAJOS PRACTICOS DE QUIMICA ORGANICA |TRABAJOS PRACTICOS DE QUIMICA INORGANICA |TRABAJOS PRACTICOS DE QUIMICA INDUSTRIAL APLICADA |TRABAJOS PRACTICOS DE QUIMICA INDUSTRIAL|TRABAJOS PRACTICOS DE QUIMICA GENERAL|TRABAJOS PRACTICOS DE QUIMICA ANALITICA CUANTIT.|TRABAJOS PRACTICOS DE PROC. Y OPERACIONES QUIMICAS|TRABAJOS PRACTICOS DE PROC. Y OPERACIONES QUIMICAS|QUIMICA ANALITICA CUANTITATIVA|QUIMICA GENERAL|QUIMICA INORGANICA|QUIMICA ORGANICA II|TALLER MODULAR QUIMICA\", \"QUIMICA\", Notas_Victoria_secundaria$asignatura)\n",
    "Notas_Victoria_secundaria$asignatura <- gsub(\"TECNOLOGIA I|TECNOLOGIA II|TECNOLOGIA III|EDUCACION TECNOLOGICA\", \"TECNOLOGIA\", Notas_Victoria_secundaria$asignatura)\n",
    "Notas_Victoria_secundaria$asignatura <- gsub(\"TUTORIAS DISCIPLINARES\", \"TUTORIAS\", Notas_Victoria_secundaria$asignatura)\n",
    "Notas_Victoria_secundaria$asignatura <- gsub(\"GESTION DE LA PRODUCCION ARTISTICA\", \"ARTES VISUALES\", Notas_Victoria_secundaria$asignatura)\n",
    "Notas_Victoria_secundaria$asignatura <- gsub(\"HISTORIA)\", \"HISTORIA\", Notas_Victoria_secundaria$asignatura)\n",
    "Notas_Victoria_secundaria$asignatura <- gsub(\"MATEMATICA|MATEMATICAO\", \"MATEMATICA\", Notas_Victoria_secundaria$asignatura)\n",
    "Notas_Victoria_secundaria$asignatura <- gsub(\"LENGUA Y LITERATURA|LITERATURA ARGENTINA|LITERATURA LATINOAMERICANA\", \"LENGUA Y LITERATURA\", Notas_Victoria_secundaria$asignatura)\n",
    "Notas_Victoria_secundaria$asignatura <- gsub(\"INGLES\\\\s*\\\\(INGLES\\\\)\", \"INGLES\", Notas_Victoria_secundaria$asignatura)"
   ]
  },
  {
   "cell_type": "code",
   "execution_count": 51,
   "id": "854ac8ba-a26f-4e75-ad7c-224e605e9083",
   "metadata": {},
   "outputs": [
    {
     "data": {
      "text/html": [
       "<style>\n",
       ".list-inline {list-style: none; margin:0; padding: 0}\n",
       ".list-inline>li {display: inline-block}\n",
       ".list-inline>li:not(:last-child)::after {content: \"\\00b7\"; padding: 0 .5ex}\n",
       "</style>\n",
       "<ol class=list-inline><li>'ARTES VISUALES'</li><li>'CIENCIAS NATURALES'</li><li>'CIENCIAS SOCIALES'</li><li>'EDUCACION FISICA'</li><li>'EDUCACION MUSICAL'</li><li>'EDUCACION TECNOLOGICA'</li><li>'LENGUA'</li><li>'MATEMATICA'</li><li>'EDI'</li><li>'INGLS'</li><li>'LABORAT.EN EL AULA PARA ENSEAR/APRENDER CCIAS'</li><li>'TIC'</li><li>'ACOMPAAMIENTO AL ESTUDIO LENGUA'</li><li>'ACOMPAAMIENTO AL ESTUDIO MATEMTICA'</li><li>'ACOMPAAMIENTO AL ESTUDIO NATURALES'</li><li>'ACOMPAAMIENTO AL ESTUDIO SOCIALES'</li><li>'INGLES'</li><li>'TALLER DE LABORATORIO'</li><li><span style=white-space:pre-wrap>'TALLER  DE TEATRO'</span></li><li>'INFORMATICA'</li><li>'ITALIANO'</li><li>'INGLES INGLES'</li><li>'TALLER DE CS. SOCIALES Y LENGUA'</li><li>'AC.EN MATEMTICA Y CS. NATURALES'</li><li>'TALLER DE INGLS'</li><li>'CATEQUESIS'</li><li>'ACOMPAAMIENTO AL ESTUDIO'</li><li>'TALLER CREATIVO'</li><li>'T/A ESTUDIO (LENGUA-CS SOCIALES)'</li><li>'T/A ESTUDIO (MATEMATICA-CS NATURALES)'</li><li>'TIC Y RECREACIN DE LA IMAGEN'</li><li>'INFORMTICA'</li><li><span style=white-space:pre-wrap>'TALLER ACOMPAAMIENTO  MATEMTICA Y CS. NATURALES'</span></li><li>'TALLER ACOMPAAMIENTO LENGUA Y CIENCIAS SOCIALES'</li><li>'TALLER LENGUA EXTRANJERA (INGLES)'</li></ol>\n"
      ],
      "text/latex": [
       "\\begin{enumerate*}\n",
       "\\item 'ARTES VISUALES'\n",
       "\\item 'CIENCIAS NATURALES'\n",
       "\\item 'CIENCIAS SOCIALES'\n",
       "\\item 'EDUCACION FISICA'\n",
       "\\item 'EDUCACION MUSICAL'\n",
       "\\item 'EDUCACION TECNOLOGICA'\n",
       "\\item 'LENGUA'\n",
       "\\item 'MATEMATICA'\n",
       "\\item 'EDI'\n",
       "\\item 'INGLS'\n",
       "\\item 'LABORAT.EN EL AULA PARA ENSEAR/APRENDER CCIAS'\n",
       "\\item 'TIC'\n",
       "\\item 'ACOMPAAMIENTO AL ESTUDIO LENGUA'\n",
       "\\item 'ACOMPAAMIENTO AL ESTUDIO MATEMTICA'\n",
       "\\item 'ACOMPAAMIENTO AL ESTUDIO NATURALES'\n",
       "\\item 'ACOMPAAMIENTO AL ESTUDIO SOCIALES'\n",
       "\\item 'INGLES'\n",
       "\\item 'TALLER DE LABORATORIO'\n",
       "\\item 'TALLER  DE TEATRO'\n",
       "\\item 'INFORMATICA'\n",
       "\\item 'ITALIANO'\n",
       "\\item 'INGLES INGLES'\n",
       "\\item 'TALLER DE CS. SOCIALES Y LENGUA'\n",
       "\\item 'AC.EN MATEMTICA Y CS. NATURALES'\n",
       "\\item 'TALLER DE INGLS'\n",
       "\\item 'CATEQUESIS'\n",
       "\\item 'ACOMPAAMIENTO AL ESTUDIO'\n",
       "\\item 'TALLER CREATIVO'\n",
       "\\item 'T/A ESTUDIO (LENGUA-CS SOCIALES)'\n",
       "\\item 'T/A ESTUDIO (MATEMATICA-CS NATURALES)'\n",
       "\\item 'TIC Y RECREACIN DE LA IMAGEN'\n",
       "\\item 'INFORMTICA'\n",
       "\\item 'TALLER ACOMPAAMIENTO  MATEMTICA Y CS. NATURALES'\n",
       "\\item 'TALLER ACOMPAAMIENTO LENGUA Y CIENCIAS SOCIALES'\n",
       "\\item 'TALLER LENGUA EXTRANJERA (INGLES)'\n",
       "\\end{enumerate*}\n"
      ],
      "text/markdown": [
       "1. 'ARTES VISUALES'\n",
       "2. 'CIENCIAS NATURALES'\n",
       "3. 'CIENCIAS SOCIALES'\n",
       "4. 'EDUCACION FISICA'\n",
       "5. 'EDUCACION MUSICAL'\n",
       "6. 'EDUCACION TECNOLOGICA'\n",
       "7. 'LENGUA'\n",
       "8. 'MATEMATICA'\n",
       "9. 'EDI'\n",
       "10. 'INGLS'\n",
       "11. 'LABORAT.EN EL AULA PARA ENSEAR/APRENDER CCIAS'\n",
       "12. 'TIC'\n",
       "13. 'ACOMPAAMIENTO AL ESTUDIO LENGUA'\n",
       "14. 'ACOMPAAMIENTO AL ESTUDIO MATEMTICA'\n",
       "15. 'ACOMPAAMIENTO AL ESTUDIO NATURALES'\n",
       "16. 'ACOMPAAMIENTO AL ESTUDIO SOCIALES'\n",
       "17. 'INGLES'\n",
       "18. 'TALLER DE LABORATORIO'\n",
       "19. <span style=white-space:pre-wrap>'TALLER  DE TEATRO'</span>\n",
       "20. 'INFORMATICA'\n",
       "21. 'ITALIANO'\n",
       "22. 'INGLES INGLES'\n",
       "23. 'TALLER DE CS. SOCIALES Y LENGUA'\n",
       "24. 'AC.EN MATEMTICA Y CS. NATURALES'\n",
       "25. 'TALLER DE INGLS'\n",
       "26. 'CATEQUESIS'\n",
       "27. 'ACOMPAAMIENTO AL ESTUDIO'\n",
       "28. 'TALLER CREATIVO'\n",
       "29. 'T/A ESTUDIO (LENGUA-CS SOCIALES)'\n",
       "30. 'T/A ESTUDIO (MATEMATICA-CS NATURALES)'\n",
       "31. 'TIC Y RECREACIN DE LA IMAGEN'\n",
       "32. 'INFORMTICA'\n",
       "33. <span style=white-space:pre-wrap>'TALLER ACOMPAAMIENTO  MATEMTICA Y CS. NATURALES'</span>\n",
       "34. 'TALLER ACOMPAAMIENTO LENGUA Y CIENCIAS SOCIALES'\n",
       "35. 'TALLER LENGUA EXTRANJERA (INGLES)'\n",
       "\n",
       "\n"
      ],
      "text/plain": [
       " [1] \"ARTES VISUALES\"                                 \n",
       " [2] \"CIENCIAS NATURALES\"                             \n",
       " [3] \"CIENCIAS SOCIALES\"                              \n",
       " [4] \"EDUCACION FISICA\"                               \n",
       " [5] \"EDUCACION MUSICAL\"                              \n",
       " [6] \"EDUCACION TECNOLOGICA\"                          \n",
       " [7] \"LENGUA\"                                         \n",
       " [8] \"MATEMATICA\"                                     \n",
       " [9] \"EDI\"                                            \n",
       "[10] \"INGLS\"                                          \n",
       "[11] \"LABORAT.EN EL AULA PARA ENSEAR/APRENDER CCIAS\"  \n",
       "[12] \"TIC\"                                            \n",
       "[13] \"ACOMPAAMIENTO AL ESTUDIO LENGUA\"                \n",
       "[14] \"ACOMPAAMIENTO AL ESTUDIO MATEMTICA\"             \n",
       "[15] \"ACOMPAAMIENTO AL ESTUDIO NATURALES\"             \n",
       "[16] \"ACOMPAAMIENTO AL ESTUDIO SOCIALES\"              \n",
       "[17] \"INGLES\"                                         \n",
       "[18] \"TALLER DE LABORATORIO\"                          \n",
       "[19] \"TALLER  DE TEATRO\"                              \n",
       "[20] \"INFORMATICA\"                                    \n",
       "[21] \"ITALIANO\"                                       \n",
       "[22] \"INGLES INGLES\"                                  \n",
       "[23] \"TALLER DE CS. SOCIALES Y LENGUA\"                \n",
       "[24] \"AC.EN MATEMTICA Y CS. NATURALES\"                \n",
       "[25] \"TALLER DE INGLS\"                                \n",
       "[26] \"CATEQUESIS\"                                     \n",
       "[27] \"ACOMPAAMIENTO AL ESTUDIO\"                       \n",
       "[28] \"TALLER CREATIVO\"                                \n",
       "[29] \"T/A ESTUDIO (LENGUA-CS SOCIALES)\"               \n",
       "[30] \"T/A ESTUDIO (MATEMATICA-CS NATURALES)\"          \n",
       "[31] \"TIC Y RECREACIN DE LA IMAGEN\"                   \n",
       "[32] \"INFORMTICA\"                                     \n",
       "[33] \"TALLER ACOMPAAMIENTO  MATEMTICA Y CS. NATURALES\"\n",
       "[34] \"TALLER ACOMPAAMIENTO LENGUA Y CIENCIAS SOCIALES\"\n",
       "[35] \"TALLER LENGUA EXTRANJERA (INGLES)\"              "
      ]
     },
     "metadata": {},
     "output_type": "display_data"
    },
    {
     "data": {
      "text/plain": [
       "\n",
       "                AC.EN MATEMTICA Y CS. NATURALES \n",
       "                                             53 \n",
       "                       ACOMPAAMIENTO AL ESTUDIO \n",
       "                                             16 \n",
       "                ACOMPAAMIENTO AL ESTUDIO LENGUA \n",
       "                                             66 \n",
       "             ACOMPAAMIENTO AL ESTUDIO MATEMTICA \n",
       "                                             66 \n",
       "             ACOMPAAMIENTO AL ESTUDIO NATURALES \n",
       "                                             66 \n",
       "              ACOMPAAMIENTO AL ESTUDIO SOCIALES \n",
       "                                             66 \n",
       "                                 ARTES VISUALES \n",
       "                                           3426 \n",
       "                                     CATEQUESIS \n",
       "                                            397 \n",
       "                             CIENCIAS NATURALES \n",
       "                                           3336 \n",
       "                              CIENCIAS SOCIALES \n",
       "                                           3161 \n",
       "                                            EDI \n",
       "                                            448 \n",
       "                               EDUCACION FISICA \n",
       "                                           3392 \n",
       "                              EDUCACION MUSICAL \n",
       "                                           3232 \n",
       "                          EDUCACION TECNOLOGICA \n",
       "                                           3198 \n",
       "                                    INFORMATICA \n",
       "                                            191 \n",
       "                                     INFORMTICA \n",
       "                                             21 \n",
       "                                         INGLES \n",
       "                                            852 \n",
       "                                  INGLES INGLES \n",
       "                                             43 \n",
       "                                          INGLS \n",
       "                                            565 \n",
       "                                       ITALIANO \n",
       "                                            114 \n",
       "  LABORAT.EN EL AULA PARA ENSEAR/APRENDER CCIAS \n",
       "                                            256 \n",
       "                                         LENGUA \n",
       "                                           3298 \n",
       "                                     MATEMATICA \n",
       "                                           3271 \n",
       "               T/A ESTUDIO (LENGUA-CS SOCIALES) \n",
       "                                              3 \n",
       "          T/A ESTUDIO (MATEMATICA-CS NATURALES) \n",
       "                                              3 \n",
       "                              TALLER  DE TEATRO \n",
       "                                            225 \n",
       "TALLER ACOMPAAMIENTO  MATEMTICA Y CS. NATURALES \n",
       "                                              4 \n",
       "TALLER ACOMPAAMIENTO LENGUA Y CIENCIAS SOCIALES \n",
       "                                              4 \n",
       "                                TALLER CREATIVO \n",
       "                                            146 \n",
       "                TALLER DE CS. SOCIALES Y LENGUA \n",
       "                                             53 \n",
       "                                TALLER DE INGLS \n",
       "                                            225 \n",
       "                          TALLER DE LABORATORIO \n",
       "                                            242 \n",
       "              TALLER LENGUA EXTRANJERA (INGLES) \n",
       "                                              4 \n",
       "                                            TIC \n",
       "                                            440 \n",
       "                   TIC Y RECREACIN DE LA IMAGEN \n",
       "                                              7 "
      ]
     },
     "metadata": {},
     "output_type": "display_data"
    }
   ],
   "source": [
    "unique(Notas_Victoria_primaria$asignatura)\n",
    "table(Notas_Victoria_primaria$asignatura)"
   ]
  },
  {
   "cell_type": "code",
   "execution_count": 52,
   "id": "c4b31502-1040-4eb5-bc65-6106709012a1",
   "metadata": {},
   "outputs": [
    {
     "data": {
      "text/plain": [
       "\n",
       "                  1 - 1 CBC                1 - 1 RCBCET \n",
       "                        837                         295 \n",
       "                  1 - 2 CBC                1 - 2 RCBCET \n",
       "                        568                         370 \n",
       "                  1 - 3 CBC                1 - 3 RCBCET \n",
       "                        463                         319 \n",
       "                  1 - 4 CBC                1 - 4 RCBCET \n",
       "                        630                         310 \n",
       "                  1 - 5 CBC                1 - 5 RCBEAT \n",
       "                        195                         700 \n",
       "                1 - A 4000E                   1 - A ART \n",
       "                         20                         360 \n",
       "                  1 - A CBC 1 - A Cs. Soc y Hum 485/10C \n",
       "                       1714                           1 \n",
       "                1 - B 4000A                   1 - B CBC \n",
       "                        154                         394 \n",
       "                1 - C 4000A                   1 - C CBC \n",
       "                        102                         332 \n",
       "                1 - D 4000T                 1 - E 4000T \n",
       "                        103                          37 \n",
       "            1\\xba - 2 4000E             1\\xba - 3 4000E \n",
       "                          7                          25 \n",
       "              1\\xba - B CNR                 2 - 1 4000E \n",
       "                         11                         117 \n",
       "                  2 - 1 CBC                2 - 1 RCBCET \n",
       "                       1149                         350 \n",
       "                2 - 2 4000E                   2 - 2 CBC \n",
       "                        105                         944 \n",
       "               2 - 2 RCBCET                   2 - 3 CBC \n",
       "                        442                         562 \n",
       "               2 - 3 RCBCET                   2 - 4 CBC \n",
       "                        309                         848 \n",
       "               2 - 4 RCBCET                   2 - 5 CBC \n",
       "                        248                         308 \n",
       "               2 - 5 RCBEAT                 2 - A 4000E \n",
       "                        446                          12 \n",
       "                  2 - A ART                   2 - A CBC \n",
       "                        495                        2222 \n",
       "2 - A Cs. Soc y Hum 485/10C                 2 - B 4000A \n",
       "                          1                          32 \n",
       "                  2 - B CBC                 2 - C 4000A \n",
       "                       1470                         161 \n",
       "                  2 - C CBC                 2 - D 4000T \n",
       "                        228                          15 \n",
       "                3 - 1 4000E                   3 - 1 CBC \n",
       "                        116                        1128 \n",
       "               3 - 1 RCBCET                 3 - 2 4000E \n",
       "                        429                         402 \n",
       "                  3 - 2 CBC                3 - 2 RCBCET \n",
       "                        852                         288 \n",
       "                  3 - 3 CBC                3 - 3 RCBCET \n",
       "                        575                         279 \n",
       "                  3 - 4 CBC                3 - 4 RCBCET \n",
       "                        559                         347 \n",
       "          3 - 5 AGRO RCBEAT                   3 - A ART \n",
       "                        422                         269 \n",
       "                  3 - A CBC 3 - A Cs. Soc y Hum 485/10C \n",
       "                       2330                          16 \n",
       "                3 - B 4000A                   3 - B CBC \n",
       "                         35                         177 \n",
       "3 - B Cs. Soc y Hum 485/10C                 3 - C 4000A \n",
       "                          8                         110 \n",
       "                3 - D 4000T                3- - A 4000E \n",
       "                         30                          22 \n",
       "                4 - 1 3322C                 4 - 1 3322E \n",
       "                        144                         283 \n",
       "                4 - 1 3322N                 4 - 1 3322S \n",
       "                        885                         721 \n",
       "                4 - 1 3322T          4 - 1 TMEC TCMECAN \n",
       "                        158                         287 \n",
       "          4 - 1 TPA TEPABYS            4 - 1 TQ TQUIMIC \n",
       "                        168                         355 \n",
       "                4 - 2 3322E                 4 - 2 3322N \n",
       "                        165                         376 \n",
       "         4 - 2 TMEC TCMECAN                 4 - 3 3322S \n",
       "                        252                         347 \n",
       "                4 - 4 3322A                 4 - A 3322A \n",
       "                        196                         238 \n",
       "                4 - A 3322E                 4 - A 3322N \n",
       "                       1543                        1513 \n",
       "                4 - A 3322S                 4 - A 3322T \n",
       "                         89                          75 \n",
       "                4 - A 401Ef                   4 - A ART \n",
       "                        163                         301 \n",
       "                5 - 1 3322C                 5 - 1 3322E \n",
       "                        210                         255 \n",
       "                5 - 1 3322N                 5 - 1 3322S \n",
       "                        233                         528 \n",
       "                5 - 1 3322T          5 - 1 TMEC TCMECAN \n",
       "                        227                         208 \n",
       "          5 - 1 TPA TEPABYS            5 - 1 TQ TQUIMIC \n",
       "                         98                         327 \n",
       "                5 - 2 3322E                 5 - 2 3322N \n",
       "                        147                         667 \n",
       "                5 - 3 3322S                 5 - 4 3322A \n",
       "                        248                         281 \n",
       "                5 - A 3322A                 5 - A 3322E \n",
       "                        120                        1150 \n",
       "                5 - A 3322N                 5 - A 3322S \n",
       "                       2109                          79 \n",
       "                5 - A 3322T                 5 - A 401Ef \n",
       "                         70                         112 \n",
       "                  5 - A ART                 6 - 1 3322C \n",
       "                        573                          78 \n",
       "                6 - 1 3322E                 6 - 1 3322N \n",
       "                        121                         194 \n",
       "                6 - 1 3322S                 6 - 1 3322T \n",
       "                        627                         287 \n",
       "           6 - 1 TM TCMECAN           6 - 1 TPA TEPABYS \n",
       "                        264                         120 \n",
       "           6 - 1 TQ TQUIMIC                 6 - 2 3322E \n",
       "                        230                         195 \n",
       "                6 - 2 3322N                 6 - 3 3322S \n",
       "                        871                         300 \n",
       "                6 - 4 3322A                 6 - A 3322A \n",
       "                       1887                         130 \n",
       "                6 - A 3322E                 6 - A 3322N \n",
       "                       1074                        1402 \n",
       "                6 - A 3322S                 6 - A 3322T \n",
       "                        216                          84 \n",
       "                6 - A 401Ef                   6 - A ART \n",
       "                        177                         405 \n",
       "           7 - 1 TM TCMECAN           7 - 1 TPA TEPABYS \n",
       "                        253                         231 \n",
       "           7 - 1 TQ TQUIMIC              CN - RURAL CNR \n",
       "                        340                          51 "
      ]
     },
     "metadata": {},
     "output_type": "display_data"
    },
    {
     "data": {
      "text/plain": [
       "\n",
       "                  1 - 1 CBC                1 - 1 RCBCET \n",
       "                        837                         295 \n",
       "                  1 - 2 CBC                1 - 2 RCBCET \n",
       "                        568                         370 \n",
       "                  1 - 3 CBC                1 - 3 RCBCET \n",
       "                        463                         319 \n",
       "                  1 - 4 CBC                1 - 4 RCBCET \n",
       "                        630                         310 \n",
       "                  1 - 5 CBC                1 - 5 RCBEAT \n",
       "                        195                         700 \n",
       "                1 - A 4000E                   1 - A ART \n",
       "                         20                         360 \n",
       "                  1 - A CBC 1 - A Cs. Soc y Hum 485/10C \n",
       "                       1714                           1 \n",
       "                1 - B 4000A                   1 - B CBC \n",
       "                        154                         394 \n",
       "                1 - C 4000A                   1 - C CBC \n",
       "                        102                         332 \n",
       "                1 - D 4000T                 1 - E 4000T \n",
       "                        103                          37 \n",
       "            1\\xba - 2 4000E             1\\xba - 3 4000E \n",
       "                          7                          25 \n",
       "              1\\xba - B CNR                 2 - 1 4000E \n",
       "                         11                         117 \n",
       "                  2 - 1 CBC                2 - 1 RCBCET \n",
       "                       1149                         350 \n",
       "                2 - 2 4000E                   2 - 2 CBC \n",
       "                        105                         944 \n",
       "               2 - 2 RCBCET                   2 - 3 CBC \n",
       "                        442                         562 \n",
       "               2 - 3 RCBCET                   2 - 4 CBC \n",
       "                        309                         848 \n",
       "               2 - 4 RCBCET                   2 - 5 CBC \n",
       "                        248                         308 \n",
       "               2 - 5 RCBEAT                 2 - A 4000E \n",
       "                        446                          12 \n",
       "                  2 - A ART                   2 - A CBC \n",
       "                        495                        2222 \n",
       "2 - A Cs. Soc y Hum 485/10C                 2 - B 4000A \n",
       "                          1                          32 \n",
       "                  2 - B CBC                 2 - C 4000A \n",
       "                       1470                         161 \n",
       "                  2 - C CBC                 2 - D 4000T \n",
       "                        228                          15 \n",
       "                3 - 1 4000E                   3 - 1 CBC \n",
       "                        116                        1128 \n",
       "               3 - 1 RCBCET                 3 - 2 4000E \n",
       "                        429                         402 \n",
       "                  3 - 2 CBC                3 - 2 RCBCET \n",
       "                        852                         288 \n",
       "                  3 - 3 CBC                3 - 3 RCBCET \n",
       "                        575                         279 \n",
       "                  3 - 4 CBC                3 - 4 RCBCET \n",
       "                        559                         347 \n",
       "          3 - 5 AGRO RCBEAT                   3 - A ART \n",
       "                        422                         269 \n",
       "                  3 - A CBC 3 - A Cs. Soc y Hum 485/10C \n",
       "                       2330                          16 \n",
       "                3 - B 4000A                   3 - B CBC \n",
       "                         35                         177 \n",
       "3 - B Cs. Soc y Hum 485/10C                 3 - C 4000A \n",
       "                          8                         110 \n",
       "                3 - D 4000T                3- - A 4000E \n",
       "                         30                          22 \n",
       "                4 - 1 3322C                 4 - 1 3322E \n",
       "                        144                         283 \n",
       "                4 - 1 3322N                 4 - 1 3322S \n",
       "                        885                         721 \n",
       "                4 - 1 3322T          4 - 1 TMEC TCMECAN \n",
       "                        158                         287 \n",
       "          4 - 1 TPA TEPABYS            4 - 1 TQ TQUIMIC \n",
       "                        168                         355 \n",
       "                4 - 2 3322E                 4 - 2 3322N \n",
       "                        165                         376 \n",
       "         4 - 2 TMEC TCMECAN                 4 - 3 3322S \n",
       "                        252                         347 \n",
       "                4 - 4 3322A                 4 - A 3322A \n",
       "                        196                         238 \n",
       "                4 - A 3322E                 4 - A 3322N \n",
       "                       1543                        1513 \n",
       "                4 - A 3322S                 4 - A 3322T \n",
       "                         89                          75 \n",
       "                4 - A 401Ef                   4 - A ART \n",
       "                        163                         301 \n",
       "                5 - 1 3322C                 5 - 1 3322E \n",
       "                        210                         255 \n",
       "                5 - 1 3322N                 5 - 1 3322S \n",
       "                        233                         528 \n",
       "                5 - 1 3322T          5 - 1 TMEC TCMECAN \n",
       "                        227                         208 \n",
       "          5 - 1 TPA TEPABYS            5 - 1 TQ TQUIMIC \n",
       "                         98                         327 \n",
       "                5 - 2 3322E                 5 - 2 3322N \n",
       "                        147                         667 \n",
       "                5 - 3 3322S                 5 - 4 3322A \n",
       "                        248                         281 \n",
       "                5 - A 3322A                 5 - A 3322E \n",
       "                        120                        1150 \n",
       "                5 - A 3322N                 5 - A 3322S \n",
       "                       2109                          79 \n",
       "                5 - A 3322T                 5 - A 401Ef \n",
       "                         70                         112 \n",
       "                  5 - A ART                 6 - 1 3322C \n",
       "                        573                          78 \n",
       "                6 - 1 3322E                 6 - 1 3322N \n",
       "                        121                         194 \n",
       "                6 - 1 3322S                 6 - 1 3322T \n",
       "                        627                         287 \n",
       "           6 - 1 TM TCMECAN           6 - 1 TPA TEPABYS \n",
       "                        264                         120 \n",
       "           6 - 1 TQ TQUIMIC                 6 - 2 3322E \n",
       "                        230                         195 \n",
       "                6 - 2 3322N                 6 - 3 3322S \n",
       "                        871                         300 \n",
       "                6 - 4 3322A                 6 - A 3322A \n",
       "                       1887                         130 \n",
       "                6 - A 3322E                 6 - A 3322N \n",
       "                       1074                        1402 \n",
       "                6 - A 3322S                 6 - A 3322T \n",
       "                        216                          84 \n",
       "                6 - A 401Ef                   6 - A ART \n",
       "                        177                         405 \n",
       "           7 - 1 TM TCMECAN           7 - 1 TPA TEPABYS \n",
       "                        253                         231 \n",
       "           7 - 1 TQ TQUIMIC \n",
       "                        340 "
      ]
     },
     "metadata": {},
     "output_type": "display_data"
    }
   ],
   "source": [
    "#Filtramos lo cursos (CN - RURAL CNR), no nos sirven para el analisis\n",
    "table(Notas_Victoria_secundaria$curso)\n",
    "Notas_Victoria_secundaria <- Notas_Victoria_secundaria[Notas_Victoria_secundaria$curso != \"CN - RURAL CNR\", ]\n",
    "table(Notas_Victoria_secundaria$curso)"
   ]
  },
  {
   "cell_type": "code",
   "execution_count": 53,
   "id": "1c9c996d-81bf-49fd-83eb-33752bea5364",
   "metadata": {},
   "outputs": [
    {
     "data": {
      "text/html": [
       "<style>\n",
       ".list-inline {list-style: none; margin:0; padding: 0}\n",
       ".list-inline>li {display: inline-block}\n",
       ".list-inline>li:not(:last-child)::after {content: \"\\00b7\"; padding: 0 .5ex}\n",
       "</style>\n",
       "<ol class=list-inline><li>'Rinde'</li><li>'Aprobado'</li><li>'sin registro completo'</li></ol>\n"
      ],
      "text/latex": [
       "\\begin{enumerate*}\n",
       "\\item 'Rinde'\n",
       "\\item 'Aprobado'\n",
       "\\item 'sin registro completo'\n",
       "\\end{enumerate*}\n"
      ],
      "text/markdown": [
       "1. 'Rinde'\n",
       "2. 'Aprobado'\n",
       "3. 'sin registro completo'\n",
       "\n",
       "\n"
      ],
      "text/plain": [
       "[1] \"Rinde\"                 \"Aprobado\"              \"sin registro completo\""
      ]
     },
     "metadata": {},
     "output_type": "display_data"
    },
    {
     "data": {
      "text/html": [
       "<style>\n",
       ".list-inline {list-style: none; margin:0; padding: 0}\n",
       ".list-inline>li {display: inline-block}\n",
       ".list-inline>li:not(:last-child)::after {content: \"\\00b7\"; padding: 0 .5ex}\n",
       "</style>\n",
       "<ol class=list-inline><li>'Rinde'</li><li>'Aprobado'</li></ol>\n"
      ],
      "text/latex": [
       "\\begin{enumerate*}\n",
       "\\item 'Rinde'\n",
       "\\item 'Aprobado'\n",
       "\\end{enumerate*}\n"
      ],
      "text/markdown": [
       "1. 'Rinde'\n",
       "2. 'Aprobado'\n",
       "\n",
       "\n"
      ],
      "text/plain": [
       "[1] \"Rinde\"    \"Aprobado\""
      ]
     },
     "metadata": {},
     "output_type": "display_data"
    }
   ],
   "source": [
    "#Recordamos la variable nueva creada anteriormente 'Condicion'\n",
    "unique(Notas_Victoria_secundaria$Condición)\n",
    "#No nos sirven los alumnos 'SIN REGISTRO COMPLETO' para el analisis\n",
    "Notas_Victoria_secundaria <- subset(Notas_Victoria_secundaria, Condición != \"sin registro completo\")\n",
    "unique(Notas_Victoria_secundaria$Condición)"
   ]
  },
  {
   "cell_type": "code",
   "execution_count": 54,
   "id": "9a58d78b-dde8-4a95-88ea-07cca0b8b46c",
   "metadata": {},
   "outputs": [
    {
     "data": {
      "text/html": [
       "<style>\n",
       ".list-inline {list-style: none; margin:0; padding: 0}\n",
       ".list-inline>li {display: inline-block}\n",
       ".list-inline>li:not(:last-child)::after {content: \"\\00b7\"; padding: 0 .5ex}\n",
       "</style>\n",
       "<ol class=list-inline><li>'3'</li><li>'1'</li><li>'2'</li><li>'6'</li><li>'5'</li><li>'7'</li><li>'4'</li></ol>\n"
      ],
      "text/latex": [
       "\\begin{enumerate*}\n",
       "\\item '3'\n",
       "\\item '1'\n",
       "\\item '2'\n",
       "\\item '6'\n",
       "\\item '5'\n",
       "\\item '7'\n",
       "\\item '4'\n",
       "\\end{enumerate*}\n"
      ],
      "text/markdown": [
       "1. '3'\n",
       "2. '1'\n",
       "3. '2'\n",
       "4. '6'\n",
       "5. '5'\n",
       "6. '7'\n",
       "7. '4'\n",
       "\n",
       "\n"
      ],
      "text/plain": [
       "[1] \"3\" \"1\" \"2\" \"6\" \"5\" \"7\" \"4\""
      ]
     },
     "metadata": {},
     "output_type": "display_data"
    },
    {
     "data": {
      "text/plain": [
       "\n",
       " CUARTO PRIMERO  QUINTO SEGUNDO SEPTIMO   SEXTO TERCERO \n",
       "   8228    7845    7567   10177     819    8657    8298 "
      ]
     },
     "metadata": {},
     "output_type": "display_data"
    }
   ],
   "source": [
    "#Creamos nueva variable \"Año_Curso\"\n",
    "\n",
    "#Para ello convertimos todos los datos en 'Condición' en caracteres (strings)\n",
    "Notas_Victoria_secundaria$curso <- as.character(Notas_Victoria_secundaria$curso)\n",
    "#En la nueva variable 'Año_Curso\" guardo \n",
    "Notas_Victoria_secundaria$Año_Curso <- substr(Notas_Victoria_secundaria$curso, 1, 1)\n",
    "unique(Notas_Victoria_secundaria$Año_Curso)\n",
    "#Ahora reemplazo el numero por su equivalente en palabras\n",
    "Notas_Victoria_secundaria$Año_Curso <- str_replace(Notas_Victoria_secundaria$Año_Curso, \"1\" , \"PRIMERO\")\n",
    "Notas_Victoria_secundaria$Año_Curso <- str_replace(Notas_Victoria_secundaria$Año_Curso, \"2\" , \"SEGUNDO\")\n",
    "Notas_Victoria_secundaria$Año_Curso <- str_replace(Notas_Victoria_secundaria$Año_Curso, \"3\" , \"TERCERO\")\n",
    "Notas_Victoria_secundaria$Año_Curso <- str_replace(Notas_Victoria_secundaria$Año_Curso, \"4\" , \"CUARTO\")\n",
    "Notas_Victoria_secundaria$Año_Curso <- str_replace(Notas_Victoria_secundaria$Año_Curso, \"5\" , \"QUINTO\")\n",
    "Notas_Victoria_secundaria$Año_Curso <- str_replace(Notas_Victoria_secundaria$Año_Curso, \"6\" , \"SEXTO\")\n",
    "Notas_Victoria_secundaria$Año_Curso <- str_replace(Notas_Victoria_secundaria$Año_Curso, \"7\" , \"SEPTIMO\")\n",
    "\n",
    "table(Notas_Victoria_secundaria$Año_Curso)"
   ]
  },
  {
   "cell_type": "code",
   "execution_count": 55,
   "id": "a029302b-328c-4a00-8be9-0ee58d5394ae",
   "metadata": {},
   "outputs": [],
   "source": [
    "#Guardamos el dataset Victoria_secundaria limpio\n",
    "#Como xlsx\n",
    "write_xlsx(Notas_Victoria_secundaria, \"/home/santiago/Documentos/TUPED/Exploracion_Datos_Multivariados/TP_VICTORIA/VICTORIA_BASE_SECUNDARIA_LIMPIA.xlsx\")\n",
    "#Como csv (luego elimino uno de los dos)\n",
    "write.csv(Notas_Victoria_secundaria, \"/home/santiago/Documentos/TUPED/Exploracion_Datos_Multivariados/TP_VICTORIA/VICTORIA_BASE_SECUNDARIA_LIMPIA.csv\", row.names = TRUE)"
   ]
  },
  {
   "cell_type": "markdown",
   "id": "26e12533-47dd-482f-8b41-2324cfef7adb",
   "metadata": {},
   "source": [
    "### Completamos la tabla para primaria"
   ]
  },
  {
   "cell_type": "code",
   "execution_count": 56,
   "id": "16b63241-8d1e-453c-b3fb-b392e923411c",
   "metadata": {},
   "outputs": [
    {
     "data": {
      "text/html": [
       "<style>\n",
       ".list-inline {list-style: none; margin:0; padding: 0}\n",
       ".list-inline>li {display: inline-block}\n",
       ".list-inline>li:not(:last-child)::after {content: \"\\00b7\"; padding: 0 .5ex}\n",
       "</style>\n",
       "<ol class=list-inline><li>'Departamento'</li><li>'Sector'</li><li>'Ámbito'</li><li>'Todos'</li><li>'X1er.Año.Grado'</li><li>'X2do.Año.Grado'</li><li>'X3er.Año.Grado'</li><li>'X4to.Año.Grado'</li><li>'X5to.Año.Grado'</li><li>'X6to.Año.Grado'</li><li>'Total.Primer.Ciclo'</li><li>'Total.Segundo.Ciclo'</li></ol>\n"
      ],
      "text/latex": [
       "\\begin{enumerate*}\n",
       "\\item 'Departamento'\n",
       "\\item 'Sector'\n",
       "\\item 'Ámbito'\n",
       "\\item 'Todos'\n",
       "\\item 'X1er.Año.Grado'\n",
       "\\item 'X2do.Año.Grado'\n",
       "\\item 'X3er.Año.Grado'\n",
       "\\item 'X4to.Año.Grado'\n",
       "\\item 'X5to.Año.Grado'\n",
       "\\item 'X6to.Año.Grado'\n",
       "\\item 'Total.Primer.Ciclo'\n",
       "\\item 'Total.Segundo.Ciclo'\n",
       "\\end{enumerate*}\n"
      ],
      "text/markdown": [
       "1. 'Departamento'\n",
       "2. 'Sector'\n",
       "3. 'Ámbito'\n",
       "4. 'Todos'\n",
       "5. 'X1er.Año.Grado'\n",
       "6. 'X2do.Año.Grado'\n",
       "7. 'X3er.Año.Grado'\n",
       "8. 'X4to.Año.Grado'\n",
       "9. 'X5to.Año.Grado'\n",
       "10. 'X6to.Año.Grado'\n",
       "11. 'Total.Primer.Ciclo'\n",
       "12. 'Total.Segundo.Ciclo'\n",
       "\n",
       "\n"
      ],
      "text/plain": [
       " [1] \"Departamento\"        \"Sector\"              \"Ámbito\"             \n",
       " [4] \"Todos\"               \"X1er.Año.Grado\"      \"X2do.Año.Grado\"     \n",
       " [7] \"X3er.Año.Grado\"      \"X4to.Año.Grado\"      \"X5to.Año.Grado\"     \n",
       "[10] \"X6to.Año.Grado\"      \"Total.Primer.Ciclo\"  \"Total.Segundo.Ciclo\""
      ]
     },
     "metadata": {},
     "output_type": "display_data"
    }
   ],
   "source": [
    "#Dataset con todos los datos de la primaria ordenados por departamento\n",
    "#Usamos Departamento == 'VICTORIA'\n",
    "names(primaria_departamentos)"
   ]
  },
  {
   "cell_type": "markdown",
   "id": "f6104c26-166f-42ee-8731-b280fa833ff0",
   "metadata": {},
   "source": [
    "##### PRIMERO"
   ]
  },
  {
   "cell_type": "code",
   "execution_count": 57,
   "id": "9bbb5e87-2a1e-4404-9567-f629c77a7594",
   "metadata": {},
   "outputs": [
    {
     "data": {
      "text/html": [
       "<table class=\"dataframe\">\n",
       "<caption>A data.frame: 4 × 2</caption>\n",
       "<thead>\n",
       "\t<tr><th scope=col>X1er.Año.Grado</th><th scope=col>Departamento</th></tr>\n",
       "\t<tr><th scope=col>&lt;int&gt;</th><th scope=col>&lt;chr&gt;</th></tr>\n",
       "</thead>\n",
       "<tbody>\n",
       "\t<tr><td>492</td><td>VICTORIA</td></tr>\n",
       "\t<tr><td>  9</td><td>VICTORIA</td></tr>\n",
       "\t<tr><td> 31</td><td>VICTORIA</td></tr>\n",
       "\t<tr><td>105</td><td>VICTORIA</td></tr>\n",
       "</tbody>\n",
       "</table>\n"
      ],
      "text/latex": [
       "A data.frame: 4 × 2\n",
       "\\begin{tabular}{ll}\n",
       " X1er.Año.Grado & Departamento\\\\\n",
       " <int> & <chr>\\\\\n",
       "\\hline\n",
       "\t 492 & VICTORIA\\\\\n",
       "\t   9 & VICTORIA\\\\\n",
       "\t  31 & VICTORIA\\\\\n",
       "\t 105 & VICTORIA\\\\\n",
       "\\end{tabular}\n"
      ],
      "text/markdown": [
       "\n",
       "A data.frame: 4 × 2\n",
       "\n",
       "| X1er.Año.Grado &lt;int&gt; | Departamento &lt;chr&gt; |\n",
       "|---|---|\n",
       "| 492 | VICTORIA |\n",
       "|   9 | VICTORIA |\n",
       "|  31 | VICTORIA |\n",
       "| 105 | VICTORIA |\n",
       "\n"
      ],
      "text/plain": [
       "  X1er.Año.Grado Departamento\n",
       "1 492            VICTORIA    \n",
       "2   9            VICTORIA    \n",
       "3  31            VICTORIA    \n",
       "4 105            VICTORIA    "
      ]
     },
     "metadata": {},
     "output_type": "display_data"
    },
    {
     "name": "stdout",
     "output_type": "stream",
     "text": [
      "[1] 637\n"
     ]
    }
   ],
   "source": [
    "primaria_departamentos_1Grado_Victoria <- primaria_departamentos %>%\n",
    "  filter(Departamento == 'VICTORIA') %>% #Filtramos los datos de dpto VICTORIA\n",
    "  select(X1er.Año.Grado, Departamento)  # Seleccionar las columnas que deseas ver\n",
    "\n",
    "# Convertimos la columna a tipo entero\n",
    "primaria_departamentos_1Grado_Victoria$X1er.Año.Grado <- as.integer(primaria_departamentos_1Grado_Victoria$X1er.Año.Grado)\n",
    "# Vemos el resultado\n",
    "primaria_departamentos_1Grado_Victoria\n",
    "\n",
    "# Sumamos los datos en la columna 'X1er.Año.Grado'\n",
    "total <- sum(primaria_departamentos_1Grado_Victoria$X1er.Año.Grado)\n",
    "# Imprimir la matricula total\n",
    "print(total)"
   ]
  },
  {
   "cell_type": "code",
   "execution_count": 58,
   "id": "76e97a94-91f3-473d-86a3-fa59e97f9609",
   "metadata": {},
   "outputs": [
    {
     "name": "stdout",
     "output_type": "stream",
     "text": [
      "[1] 554\n"
     ]
    }
   ],
   "source": [
    "#Filtramos notas de PRIMERO\n",
    "Notas_Victoria_1Grado <- distinct(filter(Notas_Victoria_primaria, Año_Curso == \"PRIMERO\"))\n",
    "# Suma los datos en la columna 'asignatura'\n",
    "total <- sum(Notas_Victoria_1Grado$asignatura == 'MATEMATICA')\n",
    "# Imprime la matricula total en MATEMATICA\n",
    "print(total)"
   ]
  },
  {
   "cell_type": "markdown",
   "id": "e761fd9a-552d-4ee6-b99c-a38ed5148bca",
   "metadata": {},
   "source": [
    "##### SEGUNDO"
   ]
  },
  {
   "cell_type": "code",
   "execution_count": 59,
   "id": "4dc4caef-a02c-48cf-b031-6ffb2eaaf141",
   "metadata": {},
   "outputs": [
    {
     "data": {
      "text/html": [
       "<table class=\"dataframe\">\n",
       "<caption>A data.frame: 4 × 2</caption>\n",
       "<thead>\n",
       "\t<tr><th scope=col>X2do.Año.Grado</th><th scope=col>Departamento</th></tr>\n",
       "\t<tr><th scope=col>&lt;int&gt;</th><th scope=col>&lt;chr&gt;</th></tr>\n",
       "</thead>\n",
       "<tbody>\n",
       "\t<tr><td>480</td><td>VICTORIA</td></tr>\n",
       "\t<tr><td>  8</td><td>VICTORIA</td></tr>\n",
       "\t<tr><td> 53</td><td>VICTORIA</td></tr>\n",
       "\t<tr><td>111</td><td>VICTORIA</td></tr>\n",
       "</tbody>\n",
       "</table>\n"
      ],
      "text/latex": [
       "A data.frame: 4 × 2\n",
       "\\begin{tabular}{ll}\n",
       " X2do.Año.Grado & Departamento\\\\\n",
       " <int> & <chr>\\\\\n",
       "\\hline\n",
       "\t 480 & VICTORIA\\\\\n",
       "\t   8 & VICTORIA\\\\\n",
       "\t  53 & VICTORIA\\\\\n",
       "\t 111 & VICTORIA\\\\\n",
       "\\end{tabular}\n"
      ],
      "text/markdown": [
       "\n",
       "A data.frame: 4 × 2\n",
       "\n",
       "| X2do.Año.Grado &lt;int&gt; | Departamento &lt;chr&gt; |\n",
       "|---|---|\n",
       "| 480 | VICTORIA |\n",
       "|   8 | VICTORIA |\n",
       "|  53 | VICTORIA |\n",
       "| 111 | VICTORIA |\n",
       "\n"
      ],
      "text/plain": [
       "  X2do.Año.Grado Departamento\n",
       "1 480            VICTORIA    \n",
       "2   8            VICTORIA    \n",
       "3  53            VICTORIA    \n",
       "4 111            VICTORIA    "
      ]
     },
     "metadata": {},
     "output_type": "display_data"
    },
    {
     "name": "stdout",
     "output_type": "stream",
     "text": [
      "[1] 652\n"
     ]
    }
   ],
   "source": [
    "primaria_departamentos_2Grado_Victoria <- primaria_departamentos %>%\n",
    "  filter(Departamento == 'VICTORIA') %>% #Filtramos los datos de dpto VICTORIA\n",
    "  select(X2do.Año.Grado, Departamento)  # Seleccionar las columnas que deseas ver\n",
    "\n",
    "# Convertimos la columna a tipo entero\n",
    "primaria_departamentos_2Grado_Victoria$X2do.Año.Grado <- as.integer(primaria_departamentos_2Grado_Victoria$X2do.Año.Grado)\n",
    "# Vemos el resultado\n",
    "primaria_departamentos_2Grado_Victoria\n",
    "\n",
    "# Sumamos los datos en la columna 'X1er.Año.Grado'\n",
    "total <- sum(primaria_departamentos_2Grado_Victoria$X2do.Año.Grado)\n",
    "# Imprimir la matricula total\n",
    "print(total)"
   ]
  },
  {
   "cell_type": "code",
   "execution_count": 60,
   "id": "1338d070-2e73-4831-b9e1-906974e57eb6",
   "metadata": {},
   "outputs": [
    {
     "name": "stdout",
     "output_type": "stream",
     "text": [
      "[1] 541\n"
     ]
    }
   ],
   "source": [
    "#Filtramos notas de SEGUNDO\n",
    "Notas_Victoria_2Grado <- distinct(filter(Notas_Victoria_primaria, Año_Curso == \"SEGUNDO\"))\n",
    "# Suma los datos en la columna 'asignatura'\n",
    "total <- sum(Notas_Victoria_2Grado$asignatura == 'MATEMATICA')\n",
    "# Imprime la matricula total en MATEMATICA\n",
    "print(total)"
   ]
  },
  {
   "cell_type": "markdown",
   "id": "881f72d3-d890-464a-bce7-0a3e5df08271",
   "metadata": {},
   "source": [
    "##### TERCERO"
   ]
  },
  {
   "cell_type": "code",
   "execution_count": 61,
   "id": "d792bfa7-a915-4471-a00e-c093799841ef",
   "metadata": {},
   "outputs": [
    {
     "data": {
      "text/html": [
       "<table class=\"dataframe\">\n",
       "<caption>A data.frame: 4 × 2</caption>\n",
       "<thead>\n",
       "\t<tr><th scope=col>X3er.Año.Grado</th><th scope=col>Departamento</th></tr>\n",
       "\t<tr><th scope=col>&lt;int&gt;</th><th scope=col>&lt;chr&gt;</th></tr>\n",
       "</thead>\n",
       "<tbody>\n",
       "\t<tr><td>476</td><td>VICTORIA</td></tr>\n",
       "\t<tr><td> 15</td><td>VICTORIA</td></tr>\n",
       "\t<tr><td> 52</td><td>VICTORIA</td></tr>\n",
       "\t<tr><td>123</td><td>VICTORIA</td></tr>\n",
       "</tbody>\n",
       "</table>\n"
      ],
      "text/latex": [
       "A data.frame: 4 × 2\n",
       "\\begin{tabular}{ll}\n",
       " X3er.Año.Grado & Departamento\\\\\n",
       " <int> & <chr>\\\\\n",
       "\\hline\n",
       "\t 476 & VICTORIA\\\\\n",
       "\t  15 & VICTORIA\\\\\n",
       "\t  52 & VICTORIA\\\\\n",
       "\t 123 & VICTORIA\\\\\n",
       "\\end{tabular}\n"
      ],
      "text/markdown": [
       "\n",
       "A data.frame: 4 × 2\n",
       "\n",
       "| X3er.Año.Grado &lt;int&gt; | Departamento &lt;chr&gt; |\n",
       "|---|---|\n",
       "| 476 | VICTORIA |\n",
       "|  15 | VICTORIA |\n",
       "|  52 | VICTORIA |\n",
       "| 123 | VICTORIA |\n",
       "\n"
      ],
      "text/plain": [
       "  X3er.Año.Grado Departamento\n",
       "1 476            VICTORIA    \n",
       "2  15            VICTORIA    \n",
       "3  52            VICTORIA    \n",
       "4 123            VICTORIA    "
      ]
     },
     "metadata": {},
     "output_type": "display_data"
    },
    {
     "name": "stdout",
     "output_type": "stream",
     "text": [
      "[1] 666\n"
     ]
    }
   ],
   "source": [
    "primaria_departamentos_3Grado_Victoria <- primaria_departamentos %>%\n",
    "  filter(Departamento == 'VICTORIA') %>% #Filtramos los datos de dpto VICTORIA\n",
    "  select(X3er.Año.Grado, Departamento)  # Seleccionar las columnas que deseas ver\n",
    "\n",
    "# Convertimos la columna a tipo entero\n",
    "primaria_departamentos_3Grado_Victoria$X3er.Año.Grado <- as.integer(primaria_departamentos_3Grado_Victoria$X3er.Año.Grado)\n",
    "# Vemos el resultado\n",
    "primaria_departamentos_3Grado_Victoria\n",
    "\n",
    "# Sumamos los datos en la columna 'X1er.Año.Grado'\n",
    "total <- sum(primaria_departamentos_3Grado_Victoria$X3er.Año.Grado)\n",
    "# Imprimir la matricula total\n",
    "print(total)"
   ]
  },
  {
   "cell_type": "code",
   "execution_count": 62,
   "id": "54454795-b475-4348-964f-147c6d1d3d73",
   "metadata": {},
   "outputs": [
    {
     "name": "stdout",
     "output_type": "stream",
     "text": [
      "[1] 564\n"
     ]
    }
   ],
   "source": [
    "#Filtramos notas de TERCERO\n",
    "Notas_Victoria_3Grado <- distinct(filter(Notas_Victoria_primaria, Año_Curso == \"TERCERO\"))\n",
    "# Suma los datos en la columna 'asignatura'\n",
    "total <- sum(Notas_Victoria_3Grado$asignatura == 'MATEMATICA')\n",
    "# Imprime la matricula total en MATEMATICA\n",
    "print(total)"
   ]
  },
  {
   "cell_type": "markdown",
   "id": "c7462443-66b6-44ea-81e4-ddd0b6f61124",
   "metadata": {},
   "source": [
    "##### CUARTO"
   ]
  },
  {
   "cell_type": "code",
   "execution_count": 63,
   "id": "26db53d3-caa0-4729-857a-704e1cc119c3",
   "metadata": {},
   "outputs": [
    {
     "data": {
      "text/html": [
       "<table class=\"dataframe\">\n",
       "<caption>A data.frame: 4 × 2</caption>\n",
       "<thead>\n",
       "\t<tr><th scope=col>X4to.Año.Grado</th><th scope=col>Departamento</th></tr>\n",
       "\t<tr><th scope=col>&lt;int&gt;</th><th scope=col>&lt;chr&gt;</th></tr>\n",
       "</thead>\n",
       "<tbody>\n",
       "\t<tr><td>461</td><td>VICTORIA</td></tr>\n",
       "\t<tr><td> 13</td><td>VICTORIA</td></tr>\n",
       "\t<tr><td> 38</td><td>VICTORIA</td></tr>\n",
       "\t<tr><td>105</td><td>VICTORIA</td></tr>\n",
       "</tbody>\n",
       "</table>\n"
      ],
      "text/latex": [
       "A data.frame: 4 × 2\n",
       "\\begin{tabular}{ll}\n",
       " X4to.Año.Grado & Departamento\\\\\n",
       " <int> & <chr>\\\\\n",
       "\\hline\n",
       "\t 461 & VICTORIA\\\\\n",
       "\t  13 & VICTORIA\\\\\n",
       "\t  38 & VICTORIA\\\\\n",
       "\t 105 & VICTORIA\\\\\n",
       "\\end{tabular}\n"
      ],
      "text/markdown": [
       "\n",
       "A data.frame: 4 × 2\n",
       "\n",
       "| X4to.Año.Grado &lt;int&gt; | Departamento &lt;chr&gt; |\n",
       "|---|---|\n",
       "| 461 | VICTORIA |\n",
       "|  13 | VICTORIA |\n",
       "|  38 | VICTORIA |\n",
       "| 105 | VICTORIA |\n",
       "\n"
      ],
      "text/plain": [
       "  X4to.Año.Grado Departamento\n",
       "1 461            VICTORIA    \n",
       "2  13            VICTORIA    \n",
       "3  38            VICTORIA    \n",
       "4 105            VICTORIA    "
      ]
     },
     "metadata": {},
     "output_type": "display_data"
    },
    {
     "name": "stdout",
     "output_type": "stream",
     "text": [
      "[1] 617\n"
     ]
    }
   ],
   "source": [
    "primaria_departamentos_4Grado_Victoria <- primaria_departamentos %>%\n",
    "  filter(Departamento == 'VICTORIA') %>% #Filtramos los datos de dpto VICTORIA\n",
    "  select(X4to.Año.Grado, Departamento)  # Seleccionar las columnas que deseas ver\n",
    "\n",
    "# Convertimos la columna a tipo entero\n",
    "primaria_departamentos_4Grado_Victoria$X4to.Año.Grado <- as.integer(primaria_departamentos_4Grado_Victoria$X4to.Año.Grado)\n",
    "# Vemos el resultado\n",
    "primaria_departamentos_4Grado_Victoria\n",
    "\n",
    "# Sumamos los datos en la columna 'X1er.Año.Grado'\n",
    "total <- sum(primaria_departamentos_4Grado_Victoria$X4to.Año.Grado)\n",
    "# Imprimir la matricula total\n",
    "print(total)"
   ]
  },
  {
   "cell_type": "code",
   "execution_count": 64,
   "id": "6106d527-7f71-4996-8887-a45f8d83c9fa",
   "metadata": {},
   "outputs": [
    {
     "name": "stdout",
     "output_type": "stream",
     "text": [
      "[1] 475\n"
     ]
    }
   ],
   "source": [
    "#Filtramos notas de CUARTO\n",
    "Notas_Victoria_4Grado <- distinct(filter(Notas_Victoria_primaria, Año_Curso == \"CUARTO\"))\n",
    "# Suma los datos en la columna 'asignatura'\n",
    "total <- sum(Notas_Victoria_4Grado$asignatura == 'MATEMATICA')\n",
    "# Imprime la matricula total en MATEMATICA\n",
    "print(total)"
   ]
  },
  {
   "cell_type": "markdown",
   "id": "75e0086d-0b61-44c7-9d4e-e83865a75bc0",
   "metadata": {},
   "source": [
    "##### QUINTO"
   ]
  },
  {
   "cell_type": "code",
   "execution_count": 65,
   "id": "88304b56-dc49-4c6c-9252-d4d12414ecb6",
   "metadata": {},
   "outputs": [
    {
     "data": {
      "text/html": [
       "<table class=\"dataframe\">\n",
       "<caption>A data.frame: 4 × 2</caption>\n",
       "<thead>\n",
       "\t<tr><th scope=col>X5to.Año.Grado</th><th scope=col>Departamento</th></tr>\n",
       "\t<tr><th scope=col>&lt;int&gt;</th><th scope=col>&lt;chr&gt;</th></tr>\n",
       "</thead>\n",
       "<tbody>\n",
       "\t<tr><td>435</td><td>VICTORIA</td></tr>\n",
       "\t<tr><td>  5</td><td>VICTORIA</td></tr>\n",
       "\t<tr><td> 48</td><td>VICTORIA</td></tr>\n",
       "\t<tr><td>107</td><td>VICTORIA</td></tr>\n",
       "</tbody>\n",
       "</table>\n"
      ],
      "text/latex": [
       "A data.frame: 4 × 2\n",
       "\\begin{tabular}{ll}\n",
       " X5to.Año.Grado & Departamento\\\\\n",
       " <int> & <chr>\\\\\n",
       "\\hline\n",
       "\t 435 & VICTORIA\\\\\n",
       "\t   5 & VICTORIA\\\\\n",
       "\t  48 & VICTORIA\\\\\n",
       "\t 107 & VICTORIA\\\\\n",
       "\\end{tabular}\n"
      ],
      "text/markdown": [
       "\n",
       "A data.frame: 4 × 2\n",
       "\n",
       "| X5to.Año.Grado &lt;int&gt; | Departamento &lt;chr&gt; |\n",
       "|---|---|\n",
       "| 435 | VICTORIA |\n",
       "|   5 | VICTORIA |\n",
       "|  48 | VICTORIA |\n",
       "| 107 | VICTORIA |\n",
       "\n"
      ],
      "text/plain": [
       "  X5to.Año.Grado Departamento\n",
       "1 435            VICTORIA    \n",
       "2   5            VICTORIA    \n",
       "3  48            VICTORIA    \n",
       "4 107            VICTORIA    "
      ]
     },
     "metadata": {},
     "output_type": "display_data"
    },
    {
     "name": "stdout",
     "output_type": "stream",
     "text": [
      "[1] 595\n"
     ]
    }
   ],
   "source": [
    "primaria_departamentos_5Grado_Victoria <- primaria_departamentos %>%\n",
    "  filter(Departamento == 'VICTORIA') %>% #Filtramos los datos de dpto VICTORIA\n",
    "  select(X5to.Año.Grado, Departamento)  # Seleccionar las columnas que deseas ver\n",
    "\n",
    "# Convertimos la columna a tipo entero\n",
    "primaria_departamentos_5Grado_Victoria$X5to.Año.Grado <- as.integer(primaria_departamentos_5Grado_Victoria$X5to.Año.Grado)\n",
    "# Vemos el resultado\n",
    "primaria_departamentos_5Grado_Victoria\n",
    "\n",
    "# Sumamos los datos en la columna 'X1er.Año.Grado'\n",
    "total <- sum(primaria_departamentos_5Grado_Victoria$X5to.Año.Grado)\n",
    "# Imprimir la matricula total\n",
    "print(total)"
   ]
  },
  {
   "cell_type": "code",
   "execution_count": 66,
   "id": "00ff802c-2e21-44e5-a843-4ec37fc9a307",
   "metadata": {},
   "outputs": [
    {
     "name": "stdout",
     "output_type": "stream",
     "text": [
      "[1] 504\n"
     ]
    }
   ],
   "source": [
    "#Filtramos notas de QUINTO\n",
    "Notas_Victoria_5Grado <- distinct(filter(Notas_Victoria_primaria, Año_Curso == \"QUINTO\"))\n",
    "# Suma los datos en la columna 'asignatura'\n",
    "total <- sum(Notas_Victoria_5Grado$asignatura == \"MATEMATICA\")\n",
    "# Imprime la matricula total en MATEMATICA\n",
    "print(total)"
   ]
  },
  {
   "cell_type": "markdown",
   "id": "948e8f9b-d4a6-4c5a-b011-ad4e5b19e50e",
   "metadata": {},
   "source": [
    "##### SEXTO"
   ]
  },
  {
   "cell_type": "code",
   "execution_count": 67,
   "id": "075aa122-4bc0-40bc-bf1b-80cda3d537fd",
   "metadata": {},
   "outputs": [
    {
     "data": {
      "text/html": [
       "<table class=\"dataframe\">\n",
       "<caption>A data.frame: 4 × 2</caption>\n",
       "<thead>\n",
       "\t<tr><th scope=col>X6to.Año.Grado</th><th scope=col>Departamento</th></tr>\n",
       "\t<tr><th scope=col>&lt;int&gt;</th><th scope=col>&lt;chr&gt;</th></tr>\n",
       "</thead>\n",
       "<tbody>\n",
       "\t<tr><td>438</td><td>VICTORIA</td></tr>\n",
       "\t<tr><td>  8</td><td>VICTORIA</td></tr>\n",
       "\t<tr><td> 50</td><td>VICTORIA</td></tr>\n",
       "\t<tr><td>108</td><td>VICTORIA</td></tr>\n",
       "</tbody>\n",
       "</table>\n"
      ],
      "text/latex": [
       "A data.frame: 4 × 2\n",
       "\\begin{tabular}{ll}\n",
       " X6to.Año.Grado & Departamento\\\\\n",
       " <int> & <chr>\\\\\n",
       "\\hline\n",
       "\t 438 & VICTORIA\\\\\n",
       "\t   8 & VICTORIA\\\\\n",
       "\t  50 & VICTORIA\\\\\n",
       "\t 108 & VICTORIA\\\\\n",
       "\\end{tabular}\n"
      ],
      "text/markdown": [
       "\n",
       "A data.frame: 4 × 2\n",
       "\n",
       "| X6to.Año.Grado &lt;int&gt; | Departamento &lt;chr&gt; |\n",
       "|---|---|\n",
       "| 438 | VICTORIA |\n",
       "|   8 | VICTORIA |\n",
       "|  50 | VICTORIA |\n",
       "| 108 | VICTORIA |\n",
       "\n"
      ],
      "text/plain": [
       "  X6to.Año.Grado Departamento\n",
       "1 438            VICTORIA    \n",
       "2   8            VICTORIA    \n",
       "3  50            VICTORIA    \n",
       "4 108            VICTORIA    "
      ]
     },
     "metadata": {},
     "output_type": "display_data"
    },
    {
     "name": "stdout",
     "output_type": "stream",
     "text": [
      "[1] 604\n"
     ]
    }
   ],
   "source": [
    "primaria_departamentos_6Grado_Victoria <- primaria_departamentos %>%\n",
    "  filter(Departamento == 'VICTORIA') %>% #Filtramos los datos de dpto VICTORIA\n",
    "  select(X6to.Año.Grado, Departamento)  # Seleccionar las columnas que deseas ver\n",
    "\n",
    "# Convertimos la columna a tipo entero\n",
    "primaria_departamentos_6Grado_Victoria$X6to.Año.Grado <- as.integer(primaria_departamentos_6Grado_Victoria$X6to.Año.Grado)\n",
    "# Vemos el resultado\n",
    "primaria_departamentos_6Grado_Victoria\n",
    "\n",
    "# Sumamos los datos en la columna 'X1er.Año.Grado'\n",
    "total <- sum(primaria_departamentos_6Grado_Victoria$X6to.Año.Grado)\n",
    "# Imprimir la matricula total\n",
    "print(total)"
   ]
  },
  {
   "cell_type": "code",
   "execution_count": 68,
   "id": "53d239d9-e1a3-4d66-b616-4dd9607a4921",
   "metadata": {},
   "outputs": [
    {
     "name": "stdout",
     "output_type": "stream",
     "text": [
      "[1] 506\n"
     ]
    }
   ],
   "source": [
    "#Filtramos notas de SEXTO\n",
    "Notas_Victoria_6Grado <- distinct(filter(Notas_Victoria_primaria, Año_Curso == \"SEXTO\"))\n",
    "# Suma los datos en la columna 'asignatura'\n",
    "total <- sum(Notas_Victoria_6Grado$asignatura == 'MATEMATICA')\n",
    "# Imprime la matricula total en MATEMATICA\n",
    "print(total)"
   ]
  },
  {
   "cell_type": "markdown",
   "id": "acca0df3-498c-4bb9-aa13-bac6dc6412fc",
   "metadata": {
    "jp-MarkdownHeadingCollapsed": true
   },
   "source": [
    "### Completamos la tabla para secundaria"
   ]
  },
  {
   "cell_type": "code",
   "execution_count": 69,
   "id": "31026d99-83ae-4ddc-9ee9-e5a21b8f6a45",
   "metadata": {},
   "outputs": [
    {
     "data": {
      "text/html": [
       "<style>\n",
       ".list-inline {list-style: none; margin:0; padding: 0}\n",
       ".list-inline>li {display: inline-block}\n",
       ".list-inline>li:not(:last-child)::after {content: \"\\00b7\"; padding: 0 .5ex}\n",
       "</style>\n",
       "<ol class=list-inline><li>'X'</li><li>'X.1'</li><li>'X.2'</li><li>'X.3'</li><li>'X.4'</li><li>'Ciclo.Básico'</li><li>'X.5'</li><li>'X.6'</li><li>'Orientado'</li><li>'X.7'</li><li>'X.8'</li><li>'X.9'</li><li>'X.10'</li><li>'X.11'</li></ol>\n"
      ],
      "text/latex": [
       "\\begin{enumerate*}\n",
       "\\item 'X'\n",
       "\\item 'X.1'\n",
       "\\item 'X.2'\n",
       "\\item 'X.3'\n",
       "\\item 'X.4'\n",
       "\\item 'Ciclo.Básico'\n",
       "\\item 'X.5'\n",
       "\\item 'X.6'\n",
       "\\item 'Orientado'\n",
       "\\item 'X.7'\n",
       "\\item 'X.8'\n",
       "\\item 'X.9'\n",
       "\\item 'X.10'\n",
       "\\item 'X.11'\n",
       "\\end{enumerate*}\n"
      ],
      "text/markdown": [
       "1. 'X'\n",
       "2. 'X.1'\n",
       "3. 'X.2'\n",
       "4. 'X.3'\n",
       "5. 'X.4'\n",
       "6. 'Ciclo.Básico'\n",
       "7. 'X.5'\n",
       "8. 'X.6'\n",
       "9. 'Orientado'\n",
       "10. 'X.7'\n",
       "11. 'X.8'\n",
       "12. 'X.9'\n",
       "13. 'X.10'\n",
       "14. 'X.11'\n",
       "\n",
       "\n"
      ],
      "text/plain": [
       " [1] \"X\"            \"X.1\"          \"X.2\"          \"X.3\"          \"X.4\"         \n",
       " [6] \"Ciclo.Básico\" \"X.5\"          \"X.6\"          \"Orientado\"    \"X.7\"         \n",
       "[11] \"X.8\"          \"X.9\"          \"X.10\"         \"X.11\"        "
      ]
     },
     "metadata": {},
     "output_type": "display_data"
    },
    {
     "data": {
      "text/html": [
       "<table class=\"dataframe\">\n",
       "<caption>A data.frame: 6 × 14</caption>\n",
       "<thead>\n",
       "\t<tr><th></th><th scope=col>X</th><th scope=col>X.1</th><th scope=col>X.2</th><th scope=col>X.3</th><th scope=col>X.4</th><th scope=col>Ciclo.Básico</th><th scope=col>X.5</th><th scope=col>X.6</th><th scope=col>Orientado</th><th scope=col>X.7</th><th scope=col>X.8</th><th scope=col>X.9</th><th scope=col>X.10</th><th scope=col>X.11</th></tr>\n",
       "\t<tr><th></th><th scope=col>&lt;chr&gt;</th><th scope=col>&lt;chr&gt;</th><th scope=col>&lt;chr&gt;</th><th scope=col>&lt;chr&gt;</th><th scope=col>&lt;chr&gt;</th><th scope=col>&lt;chr&gt;</th><th scope=col>&lt;chr&gt;</th><th scope=col>&lt;chr&gt;</th><th scope=col>&lt;chr&gt;</th><th scope=col>&lt;chr&gt;</th><th scope=col>&lt;chr&gt;</th><th scope=col>&lt;chr&gt;</th><th scope=col>&lt;chr&gt;</th><th scope=col>&lt;chr&gt;</th></tr>\n",
       "</thead>\n",
       "<tbody>\n",
       "\t<tr><th scope=row>1</th><td>Departamento</td><td>Sector </td><td>Ámbito          </td><td>Tipo     </td><td>Todos</td><td>1er Año/Grado</td><td>2do Año/Grado</td><td>3er Año/Grado</td><td>4to Año/Grado</td><td>5to Año/Grado</td><td>6to Año/Grado</td><td>7mo Año/Grado</td><td>Total Ciclo Básico</td><td>Total Ciclo Orientado</td></tr>\n",
       "\t<tr><th scope=row>2</th><td>COLON       </td><td>Estatal</td><td>Urbano          </td><td>ORIENTADA</td><td>2515,</td><td>474          </td><td>476          </td><td>465          </td><td>437          </td><td>351          </td><td>312          </td><td>             </td><td>1415              </td><td>1100                 </td></tr>\n",
       "\t<tr><th scope=row>3</th><td>COLON       </td><td>Estatal</td><td>Urbano          </td><td>TECNICA  </td><td>1601,</td><td>312          </td><td>277          </td><td>244          </td><td>217          </td><td>187          </td><td>185          </td><td>179          </td><td>833               </td><td>768                  </td></tr>\n",
       "\t<tr><th scope=row>4</th><td>COLON       </td><td>Estatal</td><td>Rural Aglomerado</td><td>AGRO     </td><td>186  </td><td>34           </td><td>54           </td><td>24           </td><td>26           </td><td>17           </td><td>25           </td><td>6            </td><td>112               </td><td>74                   </td></tr>\n",
       "\t<tr><th scope=row>5</th><td>COLON       </td><td>Estatal</td><td>Rural Aglomerado</td><td>ORIENTADA</td><td>659  </td><td>170          </td><td>156          </td><td>116          </td><td>93           </td><td>62           </td><td>62           </td><td>             </td><td>442               </td><td>217                  </td></tr>\n",
       "\t<tr><th scope=row>6</th><td>COLON       </td><td>Estatal</td><td>Rural Aglomerado</td><td>TECNICA  </td><td>121  </td><td>34           </td><td>33           </td><td>21           </td><td>13           </td><td>3            </td><td>7            </td><td>10           </td><td>88                </td><td>33                   </td></tr>\n",
       "</tbody>\n",
       "</table>\n"
      ],
      "text/latex": [
       "A data.frame: 6 × 14\n",
       "\\begin{tabular}{r|llllllllllllll}\n",
       "  & X & X.1 & X.2 & X.3 & X.4 & Ciclo.Básico & X.5 & X.6 & Orientado & X.7 & X.8 & X.9 & X.10 & X.11\\\\\n",
       "  & <chr> & <chr> & <chr> & <chr> & <chr> & <chr> & <chr> & <chr> & <chr> & <chr> & <chr> & <chr> & <chr> & <chr>\\\\\n",
       "\\hline\n",
       "\t1 & Departamento & Sector  & Ámbito           & Tipo      & Todos & 1er Año/Grado & 2do Año/Grado & 3er Año/Grado & 4to Año/Grado & 5to Año/Grado & 6to Año/Grado & 7mo Año/Grado & Total Ciclo Básico & Total Ciclo Orientado\\\\\n",
       "\t2 & COLON        & Estatal & Urbano           & ORIENTADA & 2515, & 474           & 476           & 465           & 437           & 351           & 312           &               & 1415               & 1100                 \\\\\n",
       "\t3 & COLON        & Estatal & Urbano           & TECNICA   & 1601, & 312           & 277           & 244           & 217           & 187           & 185           & 179           & 833                & 768                  \\\\\n",
       "\t4 & COLON        & Estatal & Rural Aglomerado & AGRO      & 186   & 34            & 54            & 24            & 26            & 17            & 25            & 6             & 112                & 74                   \\\\\n",
       "\t5 & COLON        & Estatal & Rural Aglomerado & ORIENTADA & 659   & 170           & 156           & 116           & 93            & 62            & 62            &               & 442                & 217                  \\\\\n",
       "\t6 & COLON        & Estatal & Rural Aglomerado & TECNICA   & 121   & 34            & 33            & 21            & 13            & 3             & 7             & 10            & 88                 & 33                   \\\\\n",
       "\\end{tabular}\n"
      ],
      "text/markdown": [
       "\n",
       "A data.frame: 6 × 14\n",
       "\n",
       "| <!--/--> | X &lt;chr&gt; | X.1 &lt;chr&gt; | X.2 &lt;chr&gt; | X.3 &lt;chr&gt; | X.4 &lt;chr&gt; | Ciclo.Básico &lt;chr&gt; | X.5 &lt;chr&gt; | X.6 &lt;chr&gt; | Orientado &lt;chr&gt; | X.7 &lt;chr&gt; | X.8 &lt;chr&gt; | X.9 &lt;chr&gt; | X.10 &lt;chr&gt; | X.11 &lt;chr&gt; |\n",
       "|---|---|---|---|---|---|---|---|---|---|---|---|---|---|---|\n",
       "| 1 | Departamento | Sector  | Ámbito           | Tipo      | Todos | 1er Año/Grado | 2do Año/Grado | 3er Año/Grado | 4to Año/Grado | 5to Año/Grado | 6to Año/Grado | 7mo Año/Grado | Total Ciclo Básico | Total Ciclo Orientado |\n",
       "| 2 | COLON        | Estatal | Urbano           | ORIENTADA | 2515, | 474           | 476           | 465           | 437           | 351           | 312           | <!----> | 1415               | 1100                  |\n",
       "| 3 | COLON        | Estatal | Urbano           | TECNICA   | 1601, | 312           | 277           | 244           | 217           | 187           | 185           | 179           | 833                | 768                   |\n",
       "| 4 | COLON        | Estatal | Rural Aglomerado | AGRO      | 186   | 34            | 54            | 24            | 26            | 17            | 25            | 6             | 112                | 74                    |\n",
       "| 5 | COLON        | Estatal | Rural Aglomerado | ORIENTADA | 659   | 170           | 156           | 116           | 93            | 62            | 62            | <!----> | 442                | 217                   |\n",
       "| 6 | COLON        | Estatal | Rural Aglomerado | TECNICA   | 121   | 34            | 33            | 21            | 13            | 3             | 7             | 10            | 88                 | 33                    |\n",
       "\n"
      ],
      "text/plain": [
       "  X            X.1     X.2              X.3       X.4   Ciclo.Básico \n",
       "1 Departamento Sector  Ámbito           Tipo      Todos 1er Año/Grado\n",
       "2 COLON        Estatal Urbano           ORIENTADA 2515, 474          \n",
       "3 COLON        Estatal Urbano           TECNICA   1601, 312          \n",
       "4 COLON        Estatal Rural Aglomerado AGRO      186   34           \n",
       "5 COLON        Estatal Rural Aglomerado ORIENTADA 659   170          \n",
       "6 COLON        Estatal Rural Aglomerado TECNICA   121   34           \n",
       "  X.5           X.6           Orientado     X.7           X.8          \n",
       "1 2do Año/Grado 3er Año/Grado 4to Año/Grado 5to Año/Grado 6to Año/Grado\n",
       "2 476           465           437           351           312          \n",
       "3 277           244           217           187           185          \n",
       "4 54            24            26            17            25           \n",
       "5 156           116           93            62            62           \n",
       "6 33            21            13            3             7            \n",
       "  X.9           X.10               X.11                 \n",
       "1 7mo Año/Grado Total Ciclo Básico Total Ciclo Orientado\n",
       "2               1415               1100                 \n",
       "3 179           833                768                  \n",
       "4 6             112                74                   \n",
       "5               442                217                  \n",
       "6 10            88                 33                   "
      ]
     },
     "metadata": {},
     "output_type": "display_data"
    }
   ],
   "source": [
    "#Dataset con todos los datos de la secundaria ordenados por departamento\n",
    "#Usamos Departamento == 'VICTORIA'\n",
    "names(secundaria_departamentos)\n",
    "head(secundaria_departamentos)"
   ]
  },
  {
   "cell_type": "markdown",
   "id": "4d887ee9-38c2-4b69-9e72-ac0b8af29e65",
   "metadata": {},
   "source": [
    "##### PRIMERO"
   ]
  },
  {
   "cell_type": "code",
   "execution_count": 70,
   "id": "dbe2514a-d6b0-4490-8f65-60e5f5816476",
   "metadata": {},
   "outputs": [
    {
     "data": {
      "text/html": [
       "<table class=\"dataframe\">\n",
       "<caption>A data.frame: 6 × 2</caption>\n",
       "<thead>\n",
       "\t<tr><th scope=col>Ciclo.Básico</th><th scope=col>X</th></tr>\n",
       "\t<tr><th scope=col>&lt;int&gt;</th><th scope=col>&lt;chr&gt;</th></tr>\n",
       "</thead>\n",
       "<tbody>\n",
       "\t<tr><td>394</td><td>VICTORIA</td></tr>\n",
       "\t<tr><td>104</td><td>VICTORIA</td></tr>\n",
       "\t<tr><td> 31</td><td>VICTORIA</td></tr>\n",
       "\t<tr><td> 30</td><td>VICTORIA</td></tr>\n",
       "\t<tr><td> 37</td><td>VICTORIA</td></tr>\n",
       "\t<tr><td>118</td><td>VICTORIA</td></tr>\n",
       "</tbody>\n",
       "</table>\n"
      ],
      "text/latex": [
       "A data.frame: 6 × 2\n",
       "\\begin{tabular}{ll}\n",
       " Ciclo.Básico & X\\\\\n",
       " <int> & <chr>\\\\\n",
       "\\hline\n",
       "\t 394 & VICTORIA\\\\\n",
       "\t 104 & VICTORIA\\\\\n",
       "\t  31 & VICTORIA\\\\\n",
       "\t  30 & VICTORIA\\\\\n",
       "\t  37 & VICTORIA\\\\\n",
       "\t 118 & VICTORIA\\\\\n",
       "\\end{tabular}\n"
      ],
      "text/markdown": [
       "\n",
       "A data.frame: 6 × 2\n",
       "\n",
       "| Ciclo.Básico &lt;int&gt; | X &lt;chr&gt; |\n",
       "|---|---|\n",
       "| 394 | VICTORIA |\n",
       "| 104 | VICTORIA |\n",
       "|  31 | VICTORIA |\n",
       "|  30 | VICTORIA |\n",
       "|  37 | VICTORIA |\n",
       "| 118 | VICTORIA |\n",
       "\n"
      ],
      "text/plain": [
       "  Ciclo.Básico X       \n",
       "1 394          VICTORIA\n",
       "2 104          VICTORIA\n",
       "3  31          VICTORIA\n",
       "4  30          VICTORIA\n",
       "5  37          VICTORIA\n",
       "6 118          VICTORIA"
      ]
     },
     "metadata": {},
     "output_type": "display_data"
    },
    {
     "name": "stdout",
     "output_type": "stream",
     "text": [
      "[1] 714\n"
     ]
    }
   ],
   "source": [
    "secundaria_departamentos_1Año_Victoria <- secundaria_departamentos %>%\n",
    "  filter(X == 'VICTORIA') %>% #Filtramos los datos de dpto VICTORIA\n",
    "  select(Ciclo.Básico, X)  # Seleccionar las columnas que deseas ver\n",
    "\n",
    "# Convertimos la columna a tipo entero\n",
    "secundaria_departamentos_1Año_Victoria$Ciclo.Básico <- as.integer(secundaria_departamentos_1Año_Victoria$Ciclo.Básico)\n",
    "# Vemos el resultado\n",
    "secundaria_departamentos_1Año_Victoria\n",
    "\n",
    "# Sumamos los datos en la columna 'Ciclo.Básico'\n",
    "total <- sum(secundaria_departamentos_1Año_Victoria$Ciclo.Básico)\n",
    "# Imprimir la matricula total\n",
    "print(total)"
   ]
  },
  {
   "cell_type": "code",
   "execution_count": 71,
   "id": "45ec89a7-8616-49f8-aed1-6bdc46e2a6cb",
   "metadata": {},
   "outputs": [
    {
     "name": "stdout",
     "output_type": "stream",
     "text": [
      "[1] 558\n"
     ]
    }
   ],
   "source": [
    "#Filtramos notas de PRIMERO\n",
    "Notas_Victoria_1erAño <- distinct(filter(Notas_Victoria_secundaria, Año_Curso == \"PRIMERO\"))\n",
    "# Suma los datos en la columna 'asignatura'\n",
    "total <- sum(Notas_Victoria_1erAño$asignatura == 'MATEMATICA')\n",
    "# Imprime la matricula total en MATEMATICA\n",
    "print(total)"
   ]
  },
  {
   "cell_type": "markdown",
   "id": "24c95ecc-7694-4074-8a6f-edc04d7dccb1",
   "metadata": {},
   "source": [
    "##### SEGUNDO"
   ]
  },
  {
   "cell_type": "code",
   "execution_count": 72,
   "id": "6b9fe4c3-6510-447a-8e24-22d3c79907fe",
   "metadata": {},
   "outputs": [
    {
     "data": {
      "text/html": [
       "<table class=\"dataframe\">\n",
       "<caption>A data.frame: 6 × 2</caption>\n",
       "<thead>\n",
       "\t<tr><th scope=col>X.5</th><th scope=col>X</th></tr>\n",
       "\t<tr><th scope=col>&lt;int&gt;</th><th scope=col>&lt;chr&gt;</th></tr>\n",
       "</thead>\n",
       "<tbody>\n",
       "\t<tr><td>458</td><td>VICTORIA</td></tr>\n",
       "\t<tr><td>104</td><td>VICTORIA</td></tr>\n",
       "\t<tr><td> 36</td><td>VICTORIA</td></tr>\n",
       "\t<tr><td> 25</td><td>VICTORIA</td></tr>\n",
       "\t<tr><td> 46</td><td>VICTORIA</td></tr>\n",
       "\t<tr><td>126</td><td>VICTORIA</td></tr>\n",
       "</tbody>\n",
       "</table>\n"
      ],
      "text/latex": [
       "A data.frame: 6 × 2\n",
       "\\begin{tabular}{ll}\n",
       " X.5 & X\\\\\n",
       " <int> & <chr>\\\\\n",
       "\\hline\n",
       "\t 458 & VICTORIA\\\\\n",
       "\t 104 & VICTORIA\\\\\n",
       "\t  36 & VICTORIA\\\\\n",
       "\t  25 & VICTORIA\\\\\n",
       "\t  46 & VICTORIA\\\\\n",
       "\t 126 & VICTORIA\\\\\n",
       "\\end{tabular}\n"
      ],
      "text/markdown": [
       "\n",
       "A data.frame: 6 × 2\n",
       "\n",
       "| X.5 &lt;int&gt; | X &lt;chr&gt; |\n",
       "|---|---|\n",
       "| 458 | VICTORIA |\n",
       "| 104 | VICTORIA |\n",
       "|  36 | VICTORIA |\n",
       "|  25 | VICTORIA |\n",
       "|  46 | VICTORIA |\n",
       "| 126 | VICTORIA |\n",
       "\n"
      ],
      "text/plain": [
       "  X.5 X       \n",
       "1 458 VICTORIA\n",
       "2 104 VICTORIA\n",
       "3  36 VICTORIA\n",
       "4  25 VICTORIA\n",
       "5  46 VICTORIA\n",
       "6 126 VICTORIA"
      ]
     },
     "metadata": {},
     "output_type": "display_data"
    },
    {
     "name": "stdout",
     "output_type": "stream",
     "text": [
      "[1] 795\n"
     ]
    }
   ],
   "source": [
    "secundaria_departamentos_2Año_Victoria <- secundaria_departamentos %>%\n",
    "  filter(X == 'VICTORIA') %>% #Filtramos los datos de dpto VICTORIA\n",
    "  select(X.5, X)  # Seleccionar las columnas que deseas ver\n",
    "\n",
    "# Convertimos la columna a tipo entero\n",
    "secundaria_departamentos_2Año_Victoria$X.5 <- as.integer(secundaria_departamentos_2Año_Victoria$X.5)\n",
    "# Vemos el resultado\n",
    "secundaria_departamentos_2Año_Victoria\n",
    "\n",
    "# Sumamos los datos en la columna 'X.5'\n",
    "total <- sum(secundaria_departamentos_2Año_Victoria$X.5)\n",
    "# Imprimir la matricula total\n",
    "print(total)"
   ]
  },
  {
   "cell_type": "code",
   "execution_count": 73,
   "id": "491c809f-0930-4f47-a75c-dcbe36a97f27",
   "metadata": {},
   "outputs": [
    {
     "name": "stdout",
     "output_type": "stream",
     "text": [
      "[1] 598\n"
     ]
    }
   ],
   "source": [
    "#Filtramos notas de SEGUNDO\n",
    "Notas_Victoria_2doAño <- distinct(filter(Notas_Victoria_secundaria, Año_Curso == \"SEGUNDO\"))\n",
    "# Suma los datos en la columna 'asignatura'\n",
    "total <- sum(Notas_Victoria_2doAño$asignatura == 'MATEMATICA')\n",
    "# Imprime la matricula total en MATEMATICA\n",
    "print(total)"
   ]
  },
  {
   "cell_type": "markdown",
   "id": "8d5d5891-2fc0-4471-8dfb-02158f5ccd94",
   "metadata": {},
   "source": [
    "##### TERCERO"
   ]
  },
  {
   "cell_type": "code",
   "execution_count": 74,
   "id": "fa428855-22d3-4d65-8d64-2d8ee20a2035",
   "metadata": {},
   "outputs": [
    {
     "data": {
      "text/html": [
       "<table class=\"dataframe\">\n",
       "<caption>A data.frame: 6 × 2</caption>\n",
       "<thead>\n",
       "\t<tr><th scope=col>X.6</th><th scope=col>X</th></tr>\n",
       "\t<tr><th scope=col>&lt;int&gt;</th><th scope=col>&lt;chr&gt;</th></tr>\n",
       "</thead>\n",
       "<tbody>\n",
       "\t<tr><td>363</td><td>VICTORIA</td></tr>\n",
       "\t<tr><td>101</td><td>VICTORIA</td></tr>\n",
       "\t<tr><td> 28</td><td>VICTORIA</td></tr>\n",
       "\t<tr><td> 33</td><td>VICTORIA</td></tr>\n",
       "\t<tr><td> 27</td><td>VICTORIA</td></tr>\n",
       "\t<tr><td>139</td><td>VICTORIA</td></tr>\n",
       "</tbody>\n",
       "</table>\n"
      ],
      "text/latex": [
       "A data.frame: 6 × 2\n",
       "\\begin{tabular}{ll}\n",
       " X.6 & X\\\\\n",
       " <int> & <chr>\\\\\n",
       "\\hline\n",
       "\t 363 & VICTORIA\\\\\n",
       "\t 101 & VICTORIA\\\\\n",
       "\t  28 & VICTORIA\\\\\n",
       "\t  33 & VICTORIA\\\\\n",
       "\t  27 & VICTORIA\\\\\n",
       "\t 139 & VICTORIA\\\\\n",
       "\\end{tabular}\n"
      ],
      "text/markdown": [
       "\n",
       "A data.frame: 6 × 2\n",
       "\n",
       "| X.6 &lt;int&gt; | X &lt;chr&gt; |\n",
       "|---|---|\n",
       "| 363 | VICTORIA |\n",
       "| 101 | VICTORIA |\n",
       "|  28 | VICTORIA |\n",
       "|  33 | VICTORIA |\n",
       "|  27 | VICTORIA |\n",
       "| 139 | VICTORIA |\n",
       "\n"
      ],
      "text/plain": [
       "  X.6 X       \n",
       "1 363 VICTORIA\n",
       "2 101 VICTORIA\n",
       "3  28 VICTORIA\n",
       "4  33 VICTORIA\n",
       "5  27 VICTORIA\n",
       "6 139 VICTORIA"
      ]
     },
     "metadata": {},
     "output_type": "display_data"
    },
    {
     "name": "stdout",
     "output_type": "stream",
     "text": [
      "[1] 691\n"
     ]
    }
   ],
   "source": [
    "secundaria_departamentos_3Año_Victoria <- secundaria_departamentos %>%\n",
    "  filter(X == 'VICTORIA') %>% #Filtramos los datos de dpto VICTORIA\n",
    "  select(X.6, X)  # Seleccionar las columnas que deseas ver\n",
    "\n",
    "# Convertimos la columna a tipo entero\n",
    "secundaria_departamentos_3Año_Victoria$X.6 <- as.integer(secundaria_departamentos_3Año_Victoria$X.6)\n",
    "# Vemos el resultado\n",
    "secundaria_departamentos_3Año_Victoria\n",
    "\n",
    "# Sumamos los datos en la columna 'X.6'\n",
    "total <- sum(secundaria_departamentos_3Año_Victoria$X.6)\n",
    "# Imprimir la matricula total\n",
    "print(total)"
   ]
  },
  {
   "cell_type": "code",
   "execution_count": 75,
   "id": "bcb5cf34-84b4-45e7-8131-29fbafa37de4",
   "metadata": {},
   "outputs": [
    {
     "name": "stdout",
     "output_type": "stream",
     "text": [
      "[1] 507\n"
     ]
    }
   ],
   "source": [
    "#Filtramos notas de TERCERO\n",
    "Notas_Victoria_3erAño <- distinct(filter(Notas_Victoria_secundaria, Año_Curso == \"TERCERO\"))\n",
    "# Suma los datos en la columna 'asignatura'\n",
    "total <- sum(Notas_Victoria_3erAño$asignatura == 'MATEMATICA')\n",
    "# Imprime la matricula total en MATEMATICA\n",
    "print(total)"
   ]
  },
  {
   "cell_type": "markdown",
   "id": "a849d774-5e8c-4026-b897-2993d20b6b52",
   "metadata": {},
   "source": [
    "##### CUARTO"
   ]
  },
  {
   "cell_type": "code",
   "execution_count": 76,
   "id": "8ba9a1e5-1772-4899-ab9e-83ee5f09454d",
   "metadata": {},
   "outputs": [
    {
     "data": {
      "text/html": [
       "<table class=\"dataframe\">\n",
       "<caption>A data.frame: 6 × 2</caption>\n",
       "<thead>\n",
       "\t<tr><th scope=col>Orientado</th><th scope=col>X</th></tr>\n",
       "\t<tr><th scope=col>&lt;int&gt;</th><th scope=col>&lt;chr&gt;</th></tr>\n",
       "</thead>\n",
       "<tbody>\n",
       "\t<tr><td>256</td><td>VICTORIA</td></tr>\n",
       "\t<tr><td> 68</td><td>VICTORIA</td></tr>\n",
       "\t<tr><td> 29</td><td>VICTORIA</td></tr>\n",
       "\t<tr><td> 14</td><td>VICTORIA</td></tr>\n",
       "\t<tr><td> 24</td><td>VICTORIA</td></tr>\n",
       "\t<tr><td>120</td><td>VICTORIA</td></tr>\n",
       "</tbody>\n",
       "</table>\n"
      ],
      "text/latex": [
       "A data.frame: 6 × 2\n",
       "\\begin{tabular}{ll}\n",
       " Orientado & X\\\\\n",
       " <int> & <chr>\\\\\n",
       "\\hline\n",
       "\t 256 & VICTORIA\\\\\n",
       "\t  68 & VICTORIA\\\\\n",
       "\t  29 & VICTORIA\\\\\n",
       "\t  14 & VICTORIA\\\\\n",
       "\t  24 & VICTORIA\\\\\n",
       "\t 120 & VICTORIA\\\\\n",
       "\\end{tabular}\n"
      ],
      "text/markdown": [
       "\n",
       "A data.frame: 6 × 2\n",
       "\n",
       "| Orientado &lt;int&gt; | X &lt;chr&gt; |\n",
       "|---|---|\n",
       "| 256 | VICTORIA |\n",
       "|  68 | VICTORIA |\n",
       "|  29 | VICTORIA |\n",
       "|  14 | VICTORIA |\n",
       "|  24 | VICTORIA |\n",
       "| 120 | VICTORIA |\n",
       "\n"
      ],
      "text/plain": [
       "  Orientado X       \n",
       "1 256       VICTORIA\n",
       "2  68       VICTORIA\n",
       "3  29       VICTORIA\n",
       "4  14       VICTORIA\n",
       "5  24       VICTORIA\n",
       "6 120       VICTORIA"
      ]
     },
     "metadata": {},
     "output_type": "display_data"
    },
    {
     "name": "stdout",
     "output_type": "stream",
     "text": [
      "[1] 511\n"
     ]
    }
   ],
   "source": [
    "secundaria_departamentos_4Año_Victoria <- secundaria_departamentos %>%\n",
    "  filter(X == 'VICTORIA') %>% #Filtramos los datos de dpto VICTORIA\n",
    "  select(Orientado, X)  # Seleccionar las columnas que deseas ver\n",
    "\n",
    "# Convertimos la columna a tipo entero\n",
    "secundaria_departamentos_4Año_Victoria$Orientado <- as.integer(secundaria_departamentos_4Año_Victoria$Orientado)\n",
    "# Vemos el resultado\n",
    "secundaria_departamentos_4Año_Victoria\n",
    "\n",
    "# Sumamos los datos en la columna 'Orientado'\n",
    "total <- sum(secundaria_departamentos_4Año_Victoria$Orientado)\n",
    "# Imprimir la matricula total\n",
    "print(total)"
   ]
  },
  {
   "cell_type": "code",
   "execution_count": 77,
   "id": "c2ec35a4-00a3-4bc7-875b-37474cd86607",
   "metadata": {},
   "outputs": [
    {
     "name": "stdout",
     "output_type": "stream",
     "text": [
      "[1] 482\n"
     ]
    }
   ],
   "source": [
    "#Filtramos notas de CUARTO\n",
    "Notas_Victoria_4toAño <- distinct(filter(Notas_Victoria_secundaria, Año_Curso == \"CUARTO\"))\n",
    "# Suma los datos en la columna 'asignatura'\n",
    "total <- sum(Notas_Victoria_4toAño$asignatura == 'MATEMATICA')\n",
    "# Imprime la matricula total en MATEMATICA\n",
    "print(total)"
   ]
  },
  {
   "cell_type": "markdown",
   "id": "708ba7b9-9922-4e9c-aec0-8a51e9b9483a",
   "metadata": {},
   "source": [
    "##### QUINTO"
   ]
  },
  {
   "cell_type": "code",
   "execution_count": 78,
   "id": "ffac380d-f806-40a7-875c-3436cb4e6866",
   "metadata": {},
   "outputs": [
    {
     "data": {
      "text/html": [
       "<table class=\"dataframe\">\n",
       "<caption>A data.frame: 6 × 2</caption>\n",
       "<thead>\n",
       "\t<tr><th scope=col>X.7</th><th scope=col>X</th></tr>\n",
       "\t<tr><th scope=col>&lt;int&gt;</th><th scope=col>&lt;chr&gt;</th></tr>\n",
       "</thead>\n",
       "<tbody>\n",
       "\t<tr><td>210</td><td>VICTORIA</td></tr>\n",
       "\t<tr><td> 44</td><td>VICTORIA</td></tr>\n",
       "\t<tr><td> 12</td><td>VICTORIA</td></tr>\n",
       "\t<tr><td>  9</td><td>VICTORIA</td></tr>\n",
       "\t<tr><td> 25</td><td>VICTORIA</td></tr>\n",
       "\t<tr><td>122</td><td>VICTORIA</td></tr>\n",
       "</tbody>\n",
       "</table>\n"
      ],
      "text/latex": [
       "A data.frame: 6 × 2\n",
       "\\begin{tabular}{ll}\n",
       " X.7 & X\\\\\n",
       " <int> & <chr>\\\\\n",
       "\\hline\n",
       "\t 210 & VICTORIA\\\\\n",
       "\t  44 & VICTORIA\\\\\n",
       "\t  12 & VICTORIA\\\\\n",
       "\t   9 & VICTORIA\\\\\n",
       "\t  25 & VICTORIA\\\\\n",
       "\t 122 & VICTORIA\\\\\n",
       "\\end{tabular}\n"
      ],
      "text/markdown": [
       "\n",
       "A data.frame: 6 × 2\n",
       "\n",
       "| X.7 &lt;int&gt; | X &lt;chr&gt; |\n",
       "|---|---|\n",
       "| 210 | VICTORIA |\n",
       "|  44 | VICTORIA |\n",
       "|  12 | VICTORIA |\n",
       "|   9 | VICTORIA |\n",
       "|  25 | VICTORIA |\n",
       "| 122 | VICTORIA |\n",
       "\n"
      ],
      "text/plain": [
       "  X.7 X       \n",
       "1 210 VICTORIA\n",
       "2  44 VICTORIA\n",
       "3  12 VICTORIA\n",
       "4   9 VICTORIA\n",
       "5  25 VICTORIA\n",
       "6 122 VICTORIA"
      ]
     },
     "metadata": {},
     "output_type": "display_data"
    },
    {
     "name": "stdout",
     "output_type": "stream",
     "text": [
      "[1] 422\n"
     ]
    }
   ],
   "source": [
    "secundaria_departamentos_5Año_Victoria <- secundaria_departamentos %>%\n",
    "  filter(X == 'VICTORIA') %>% #Filtramos los datos de dpto VICTORIA\n",
    "  select(X.7, X)  # Seleccionar las columnas que deseas ver\n",
    "\n",
    "# Convertimos la columna a tipo entero\n",
    "secundaria_departamentos_5Año_Victoria$X.7 <- as.integer(secundaria_departamentos_5Año_Victoria$X.7)\n",
    "# Vemos el resultado\n",
    "secundaria_departamentos_5Año_Victoria\n",
    "\n",
    "# Sumamos los datos en la columna 'X.7'\n",
    "total <- sum(secundaria_departamentos_5Año_Victoria$X.7)\n",
    "# Imprimir la matricula total\n",
    "print(total)"
   ]
  },
  {
   "cell_type": "code",
   "execution_count": 79,
   "id": "ae21e15a-a331-49b3-a426-228ed9117681",
   "metadata": {},
   "outputs": [
    {
     "name": "stdout",
     "output_type": "stream",
     "text": [
      "[1] 381\n"
     ]
    }
   ],
   "source": [
    "#Filtramos notas de QUINTO\n",
    "Notas_Victoria_5toAño <- distinct(filter(Notas_Victoria_secundaria, Año_Curso == \"QUINTO\"))\n",
    "# Suma los datos en la columna 'asignatura'\n",
    "total <- sum(Notas_Victoria_5toAño$asignatura == 'MATEMATICA')\n",
    "# Imprime la matricula total en MATEMATICA\n",
    "print(total)"
   ]
  },
  {
   "cell_type": "markdown",
   "id": "e2d6c96b-8b0b-45e0-90c6-9126045b3c9a",
   "metadata": {},
   "source": [
    "##### SEXTO"
   ]
  },
  {
   "cell_type": "code",
   "execution_count": 80,
   "id": "664f5d01-94ee-4f2c-a351-7155807f1eef",
   "metadata": {},
   "outputs": [
    {
     "data": {
      "text/html": [
       "<table class=\"dataframe\">\n",
       "<caption>A data.frame: 6 × 2</caption>\n",
       "<thead>\n",
       "\t<tr><th scope=col>X.8</th><th scope=col>X</th></tr>\n",
       "\t<tr><th scope=col>&lt;int&gt;</th><th scope=col>&lt;chr&gt;</th></tr>\n",
       "</thead>\n",
       "<tbody>\n",
       "\t<tr><td>187</td><td>VICTORIA</td></tr>\n",
       "\t<tr><td> 40</td><td>VICTORIA</td></tr>\n",
       "\t<tr><td> 16</td><td>VICTORIA</td></tr>\n",
       "\t<tr><td> 10</td><td>VICTORIA</td></tr>\n",
       "\t<tr><td> 25</td><td>VICTORIA</td></tr>\n",
       "\t<tr><td>109</td><td>VICTORIA</td></tr>\n",
       "</tbody>\n",
       "</table>\n"
      ],
      "text/latex": [
       "A data.frame: 6 × 2\n",
       "\\begin{tabular}{ll}\n",
       " X.8 & X\\\\\n",
       " <int> & <chr>\\\\\n",
       "\\hline\n",
       "\t 187 & VICTORIA\\\\\n",
       "\t  40 & VICTORIA\\\\\n",
       "\t  16 & VICTORIA\\\\\n",
       "\t  10 & VICTORIA\\\\\n",
       "\t  25 & VICTORIA\\\\\n",
       "\t 109 & VICTORIA\\\\\n",
       "\\end{tabular}\n"
      ],
      "text/markdown": [
       "\n",
       "A data.frame: 6 × 2\n",
       "\n",
       "| X.8 &lt;int&gt; | X &lt;chr&gt; |\n",
       "|---|---|\n",
       "| 187 | VICTORIA |\n",
       "|  40 | VICTORIA |\n",
       "|  16 | VICTORIA |\n",
       "|  10 | VICTORIA |\n",
       "|  25 | VICTORIA |\n",
       "| 109 | VICTORIA |\n",
       "\n"
      ],
      "text/plain": [
       "  X.8 X       \n",
       "1 187 VICTORIA\n",
       "2  40 VICTORIA\n",
       "3  16 VICTORIA\n",
       "4  10 VICTORIA\n",
       "5  25 VICTORIA\n",
       "6 109 VICTORIA"
      ]
     },
     "metadata": {},
     "output_type": "display_data"
    },
    {
     "name": "stdout",
     "output_type": "stream",
     "text": [
      "[1] 387\n"
     ]
    }
   ],
   "source": [
    "secundaria_departamentos_6Año_Victoria <- secundaria_departamentos %>%\n",
    "  filter(X == 'VICTORIA') %>% #Filtramos los datos de dpto VICTORIA\n",
    "  select(X.8, X)  # Seleccionar las columnas que deseas ver\n",
    "\n",
    "# Convertimos la columna a tipo entero\n",
    "secundaria_departamentos_6Año_Victoria$X.8 <- as.integer(secundaria_departamentos_6Año_Victoria$X.8)\n",
    "# Vemos el resultado\n",
    "secundaria_departamentos_6Año_Victoria\n",
    "\n",
    "# Sumamos los datos en la columna 'X.8'\n",
    "total <- sum(secundaria_departamentos_6Año_Victoria$X.8)\n",
    "# Imprimir la matricula total\n",
    "print(total)"
   ]
  },
  {
   "cell_type": "code",
   "execution_count": 81,
   "id": "7942078a-31b3-43eb-8f21-5673164fdb8d",
   "metadata": {},
   "outputs": [
    {
     "name": "stdout",
     "output_type": "stream",
     "text": [
      "[1] 323\n"
     ]
    }
   ],
   "source": [
    "#Filtramos notas de SEXTO\n",
    "Notas_Victoria_1Año <- distinct(filter(Notas_Victoria_secundaria, Año_Curso == \"SEXTO\"))\n",
    "# Suma los datos en la columna 'asignatura'\n",
    "total <- sum(Notas_Victoria_1Año$asignatura == 'MATEMATICA')\n",
    "# Imprime la matricula total en MATEMATICA\n",
    "print(total)"
   ]
  },
  {
   "cell_type": "markdown",
   "id": "bc490bc6-cb8f-431e-8c7c-a58eb92c0184",
   "metadata": {},
   "source": [
    "##### SEPTIMO"
   ]
  },
  {
   "cell_type": "code",
   "execution_count": 82,
   "id": "0e8aaab5-3609-4f8e-9fea-3998b44626bd",
   "metadata": {},
   "outputs": [
    {
     "data": {
      "text/html": [
       "<table class=\"dataframe\">\n",
       "<caption>A data.frame: 6 × 2</caption>\n",
       "<thead>\n",
       "\t<tr><th scope=col>X.9</th><th scope=col>X</th></tr>\n",
       "\t<tr><th scope=col>&lt;int&gt;</th><th scope=col>&lt;chr&gt;</th></tr>\n",
       "</thead>\n",
       "<tbody>\n",
       "\t<tr><td>NA</td><td>VICTORIA</td></tr>\n",
       "\t<tr><td>36</td><td>VICTORIA</td></tr>\n",
       "\t<tr><td>NA</td><td>VICTORIA</td></tr>\n",
       "\t<tr><td>14</td><td>VICTORIA</td></tr>\n",
       "\t<tr><td>NA</td><td>VICTORIA</td></tr>\n",
       "\t<tr><td>NA</td><td>VICTORIA</td></tr>\n",
       "</tbody>\n",
       "</table>\n"
      ],
      "text/latex": [
       "A data.frame: 6 × 2\n",
       "\\begin{tabular}{ll}\n",
       " X.9 & X\\\\\n",
       " <int> & <chr>\\\\\n",
       "\\hline\n",
       "\t NA & VICTORIA\\\\\n",
       "\t 36 & VICTORIA\\\\\n",
       "\t NA & VICTORIA\\\\\n",
       "\t 14 & VICTORIA\\\\\n",
       "\t NA & VICTORIA\\\\\n",
       "\t NA & VICTORIA\\\\\n",
       "\\end{tabular}\n"
      ],
      "text/markdown": [
       "\n",
       "A data.frame: 6 × 2\n",
       "\n",
       "| X.9 &lt;int&gt; | X &lt;chr&gt; |\n",
       "|---|---|\n",
       "| NA | VICTORIA |\n",
       "| 36 | VICTORIA |\n",
       "| NA | VICTORIA |\n",
       "| 14 | VICTORIA |\n",
       "| NA | VICTORIA |\n",
       "| NA | VICTORIA |\n",
       "\n"
      ],
      "text/plain": [
       "  X.9 X       \n",
       "1 NA  VICTORIA\n",
       "2 36  VICTORIA\n",
       "3 NA  VICTORIA\n",
       "4 14  VICTORIA\n",
       "5 NA  VICTORIA\n",
       "6 NA  VICTORIA"
      ]
     },
     "metadata": {},
     "output_type": "display_data"
    },
    {
     "name": "stdout",
     "output_type": "stream",
     "text": [
      "[1] 50\n"
     ]
    }
   ],
   "source": [
    "secundaria_departamentos_7Año_Victoria <- secundaria_departamentos %>%\n",
    "  filter(X == 'VICTORIA') %>% #Filtramos los datos de dpto VICTORIA\n",
    "  select(X.9, X)  # Seleccionar las columnas que deseas ver\n",
    "\n",
    "# Convertimos la columna a tipo entero\n",
    "secundaria_departamentos_7Año_Victoria$X.9 <- as.integer(secundaria_departamentos_7Año_Victoria$X.9)\n",
    "# Vemos el resultado\n",
    "secundaria_departamentos_7Año_Victoria\n",
    "\n",
    "# Sumamos los datos en la columna 'X1er.Año.Grado'\n",
    "total <- sum(secundaria_departamentos_7Año_Victoria$X.9, na.rm = TRUE)\n",
    "# Imprimir la matricula total\n",
    "print(total)"
   ]
  },
  {
   "cell_type": "code",
   "execution_count": 83,
   "id": "3e8b31d7-3d24-445b-825a-b895872ce098",
   "metadata": {},
   "outputs": [
    {
     "name": "stdout",
     "output_type": "stream",
     "text": [
      "[1] 15\n"
     ]
    }
   ],
   "source": [
    "#Filtramos notas de SEPTIMO\n",
    "Notas_Victoria_7moAño <- distinct(filter(Notas_Victoria_secundaria, Año_Curso == \"SEPTIMO\"))\n",
    "# Suma los datos en la columna 'asignatura'\n",
    "total <- sum(Notas_Victoria_7moAño$asignatura == 'MATEMATICA')\n",
    "# Imprime la matricula total en MATEMATICA\n",
    "print(total)"
   ]
  },
  {
   "cell_type": "markdown",
   "id": "e912504b-aa5e-49f7-a64f-1b6f2cbe3eea",
   "metadata": {},
   "source": [
    "# Guia ejercicios 2"
   ]
  },
  {
   "cell_type": "code",
   "execution_count": null,
   "id": "4d6d7ac1-f764-4426-ae20-71df04c219e5",
   "metadata": {},
   "outputs": [],
   "source": []
  },
  {
   "cell_type": "code",
   "execution_count": null,
   "id": "d14d637a-4ab1-409d-bff5-c4a0825b73b5",
   "metadata": {},
   "outputs": [],
   "source": []
  },
  {
   "cell_type": "code",
   "execution_count": null,
   "id": "46a1c56b-2165-4e63-a101-60538a91f47e",
   "metadata": {},
   "outputs": [],
   "source": []
  }
 ],
 "metadata": {
  "kernelspec": {
   "display_name": "R",
   "language": "R",
   "name": "ir"
  },
  "language_info": {
   "codemirror_mode": "r",
   "file_extension": ".r",
   "mimetype": "text/x-r-source",
   "name": "R",
   "pygments_lexer": "r",
   "version": "4.3.1"
  }
 },
 "nbformat": 4,
 "nbformat_minor": 5
}
