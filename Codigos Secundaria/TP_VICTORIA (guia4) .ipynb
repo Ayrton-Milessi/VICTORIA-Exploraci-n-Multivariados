{
 "cells": [
  {
   "cell_type": "markdown",
   "id": "07066cb4-f8cf-4772-9190-26e31cd4d2c2",
   "metadata": {},
   "source": [
    "# Guía de Ejercicios N°4"
   ]
  },
  {
   "cell_type": "code",
   "execution_count": 1,
   "id": "7a15e310-6468-46d9-812f-d6a8a3d77066",
   "metadata": {},
   "outputs": [],
   "source": [
    "library(readxl) #cargamos libreria"
   ]
  },
  {
   "cell_type": "code",
   "execution_count": 2,
   "id": "0316b4f2-d737-4894-902a-2b60bce4371f",
   "metadata": {},
   "outputs": [],
   "source": [
    "# -*- coding: utf-8 -*-\n",
    "primaria_VICTORIA <- read_excel(\"/home/santiago/Documentos/TUPED/Exploracion_Datos_Multivariados/TP_VICTORIA/VICTORIA_BASE_PRIMARIA_LIMPIA.xlsx\")\n",
    "secundaria_VICTORIA <- read_excel(\"/home/santiago/Documentos/TUPED/Exploracion_Datos_Multivariados/TP_VICTORIA/VICTORIA_BASE_SECUNDARIA_LIMPIA.xlsx\")"
   ]
  },
  {
   "cell_type": "markdown",
   "id": "aa7ef352-eb39-44a7-820f-0c82d20dc5a5",
   "metadata": {},
   "source": [
    "------------------------"
   ]
  },
  {
   "cell_type": "markdown",
   "id": "ac02fa49-7085-4ba7-8fa9-2e5ed1fdeea1",
   "metadata": {},
   "source": [
    "1) Indique cuáles de las siguientes afirmaciones son verdaderas y cuáles no.\n",
    "\n",
    "a) En una prueba deportiva de velocidad se registra la distancia en metros recorrida por ciertos atletas en un minuto. En esta prueba Andrés obtuvo un puntaje Z = - 0,2. Posteriormente se exhibió la distancia recorrida por cada atleta en centímetros. Entonces, en esta escala, el puntaje Z de Andrés resultó ser - 20.\n",
    "\n",
    "- **FALSO**: El puntaje Z representa el número de desviaciones estándar por encima o por debajo de la media de una distribución. Si Andrés obtuvo un puntaje Z de -0.2 en una prueba donde la distancia se registró en metros, esto significa que su distancia recorrida está 0.2 desviaciones estándar por debajo de la media en términos de metros. Cuando la misma distancia se exhibe en centímetros, no se debe cambiar el valor del puntaje Z. El puntaje Z de Andrés seguirá siendo -0.2 independientemente de la unidad de medida utilizada. No se convierte directamente a -20 en la nueva escala.\n",
    "\n",
    "b) La valoración de las puntuaciones tipificadas, en principio, sólo es posible en términos relativos al grupo de referencia y no en términos absolutos.\n",
    "\n",
    "(Puntuacion Z = Puntuacion Tipificada)\n",
    "\n",
    "- **VERDADERO**: La interpretación de la puntuación Z se basa en su posición relativa dentro de una distribución en comparación con la media y la desviación estándar de esa distribución. \n",
    "  \n",
    "c) Los puntajes Z siempre se hallan comprendidos entre -1 y 1.\n",
    "\n",
    "- **FALSO**: Los puntajes Z no siempre se encuentran comprendidos entre -1 y 1. Los puntajes Z representan el número de desviaciones estándar que un valor particular está por encima o por debajo de la media en una distribución. Por lo tanto, pueden ser positivos o negativos y pueden tener cualquier valor en la escala numérica real, dependiendo de la distancia del valor con respecto a la media y de la variabilidad de los datos en la distribución.\n",
    "\n",
    "d) Al medir en segundos el tiempo de reacción a un estímulo, Catalina obtiene un puntaje Z = 0,5. Eso significa que tardó en reaccionar medio segundo más que la media del grupo normativo. \n",
    "\n",
    "- **FALSO**: Un puntaje Z de 0,5 significa que Catalina tardó medio desviación estándar más que la media del grupo normativo en reaccionar al estímulo. No necesariamente implica medio segundo más, ya que la unidad de medida depende de la escala en la que se mida el tiempo de reacción. Si la desviación estándar del grupo normativo es conocida, entonces se puede calcular la diferencia en segundos, pero no se puede asumir automáticamente que es medio segundo.\n",
    "\n",
    "e) Las puntuaciones tipificadas son adimensionales y por eso permanecen invariantes si se cambian las unidades de la escala.\n",
    "\n",
    "- **VERDADERO**: Los puntajes Z, son valores adimensionales que representan la posición de un dato en relación con la media y la desviación estándar de un conjunto de datos. Al ser adimensionales, no están afectadas por las unidades de medida utilizadas en la escala original, lo que significa que permanecen invariantes si se cambian las unidades de la escala de medida"
   ]
  },
  {
   "cell_type": "markdown",
   "id": "e275467b-b28a-4460-a792-98c94935bd50",
   "metadata": {},
   "source": [
    "-------------------------"
   ]
  },
  {
   "cell_type": "markdown",
   "id": "4fe261ef-bbc6-4f88-8a1e-1f98da91a25f",
   "metadata": {},
   "source": [
    "2. Si un estudiante de tercer año en una escuela de tu departamento tiene un promedio de 4 en Matemáticas, ¿cómo se compara su desempeño con los puntajes obtenidos en su curso si...\n",
    "   \n",
    "a) asiste a una escuela secundaria pública común?\n",
    "\n",
    "b) asiste a una escuela secundaria privada común?\n",
    "\n",
    "c) asiste a una escuela secundaria técnica?"
   ]
  },
  {
   "cell_type": "code",
   "execution_count": 5,
   "id": "0abf06d9-c4f9-4954-9dee-358e93fc6625",
   "metadata": {},
   "outputs": [],
   "source": [
    "library(dplyr) #Importamos la libreria dplyr"
   ]
  },
  {
   "cell_type": "code",
   "execution_count": 6,
   "id": "37c8897f-28fc-4b49-9908-1e06fbb12ee9",
   "metadata": {},
   "outputs": [
    {
     "data": {
      "text/html": [
       "<style>\n",
       ".list-inline {list-style: none; margin:0; padding: 0}\n",
       ".list-inline>li {display: inline-block}\n",
       ".list-inline>li:not(:last-child)::after {content: \"\\00b7\"; padding: 0 .5ex}\n",
       "</style>\n",
       "<ol class=list-inline><li>532</li><li>27</li></ol>\n"
      ],
      "text/latex": [
       "\\begin{enumerate*}\n",
       "\\item 532\n",
       "\\item 27\n",
       "\\end{enumerate*}\n"
      ],
      "text/markdown": [
       "1. 532\n",
       "2. 27\n",
       "\n",
       "\n"
      ],
      "text/plain": [
       "[1] 532  27"
      ]
     },
     "metadata": {},
     "output_type": "display_data"
    },
    {
     "data": {
      "text/html": [
       "<style>\n",
       ".list-inline {list-style: none; margin:0; padding: 0}\n",
       ".list-inline>li {display: inline-block}\n",
       ".list-inline>li:not(:last-child)::after {content: \"\\00b7\"; padding: 0 .5ex}\n",
       "</style>\n",
       "<ol class=list-inline><li>0</li><li>27</li></ol>\n"
      ],
      "text/latex": [
       "\\begin{enumerate*}\n",
       "\\item 0\n",
       "\\item 27\n",
       "\\end{enumerate*}\n"
      ],
      "text/markdown": [
       "1. 0\n",
       "2. 27\n",
       "\n",
       "\n"
      ],
      "text/plain": [
       "[1]  0 27"
      ]
     },
     "metadata": {},
     "output_type": "display_data"
    },
    {
     "data": {
      "text/html": [
       "<style>\n",
       ".list-inline {list-style: none; margin:0; padding: 0}\n",
       ".list-inline>li {display: inline-block}\n",
       ".list-inline>li:not(:last-child)::after {content: \"\\00b7\"; padding: 0 .5ex}\n",
       "</style>\n",
       "<ol class=list-inline><li>110</li><li>27</li></ol>\n"
      ],
      "text/latex": [
       "\\begin{enumerate*}\n",
       "\\item 110\n",
       "\\item 27\n",
       "\\end{enumerate*}\n"
      ],
      "text/markdown": [
       "1. 110\n",
       "2. 27\n",
       "\n",
       "\n"
      ],
      "text/plain": [
       "[1] 110  27"
      ]
     },
     "metadata": {},
     "output_type": "display_data"
    }
   ],
   "source": [
    "#Filtramos asignatura Matemáticas para TERCERO en escuela secundaria PUBLICA COMUN\n",
    "tercero_publica_comun <- filter(secundaria_VICTORIA, asignatura == \"MATEMATICA\" & Año_Curso == \"TERCERO\" & ModEnseñanza == \"Comun\" & EsPrivada == \"N\")\n",
    "dim(tercero_publica_comun) #Chequeamos\n",
    "\n",
    "#Filtramos asignatura Matemáticas para TERCERO en escuela secundaria PRIVADA COMUN\n",
    "tercero_privada_comun <- filter(secundaria_VICTORIA, asignatura == \"MATEMATICA\" & Año_Curso == \"TERCERO\" & ModEnseñanza == \"Comun\" & EsPrivada == \"S\")\n",
    "dim(tercero_privada_comun) #Chequeamos\n",
    "\n",
    "#Filtramos asignatura Matemáticas para TERCERO en escuela secundaria TECNICA\n",
    "tercero_tecnica <- filter(secundaria_VICTORIA, asignatura == \"MATEMATICA\" & Año_Curso == \"TERCERO\" & ModEnseñanza == \"T\\xe9cnica\")\n",
    "dim(tercero_tecnica) #Chequeamos"
   ]
  },
  {
   "cell_type": "code",
   "execution_count": 7,
   "id": "94c7a33b-0d36-4910-8f80-9187bc857601",
   "metadata": {},
   "outputs": [
    {
     "data": {
      "text/html": [
       "'MATEMATICA --&gt; TERCERO PUBLICA COMUN'"
      ],
      "text/latex": [
       "'MATEMATICA --> TERCERO PUBLICA COMUN'"
      ],
      "text/markdown": [
       "'MATEMATICA --&gt; TERCERO PUBLICA COMUN'"
      ],
      "text/plain": [
       "[1] \"MATEMATICA --> TERCERO PUBLICA COMUN\""
      ]
     },
     "metadata": {},
     "output_type": "display_data"
    },
    {
     "name": "stdout",
     "output_type": "stream",
     "text": [
      "[1] \"Promedio en Matemáticas: 6.15\"\n",
      "[1] \"Desviación estándar en Matemáticas: 1.75\"\n"
     ]
    },
    {
     "data": {
      "text/html": [
       "'MATEMATICA --&gt; TERCERO PRIVADA COMUN'"
      ],
      "text/latex": [
       "'MATEMATICA --> TERCERO PRIVADA COMUN'"
      ],
      "text/markdown": [
       "'MATEMATICA --&gt; TERCERO PRIVADA COMUN'"
      ],
      "text/plain": [
       "[1] \"MATEMATICA --> TERCERO PRIVADA COMUN\""
      ]
     },
     "metadata": {},
     "output_type": "display_data"
    },
    {
     "name": "stdout",
     "output_type": "stream",
     "text": [
      "[1] \"Promedio en Matemáticas: NaN\"\n",
      "[1] \"Desviación estándar en Matemáticas: NA\"\n"
     ]
    },
    {
     "data": {
      "text/html": [
       "'MATEMATICA --&gt; TERCERO TECNICA'"
      ],
      "text/latex": [
       "'MATEMATICA --> TERCERO TECNICA'"
      ],
      "text/markdown": [
       "'MATEMATICA --&gt; TERCERO TECNICA'"
      ],
      "text/plain": [
       "[1] \"MATEMATICA --> TERCERO TECNICA\""
      ]
     },
     "metadata": {},
     "output_type": "display_data"
    },
    {
     "name": "stdout",
     "output_type": "stream",
     "text": [
      "[1] \"Promedio en Matemáticas: 6.45\"\n",
      "[1] \"Desviación estándar en Matemáticas: 1.55\"\n"
     ]
    }
   ],
   "source": [
    "# Calcular el promedio y la desviación estándar de los puntajes en Matemáticas\n",
    "prom_tercero_publica_comun <- mean(tercero_publica_comun$Promedio, na.rm = TRUE)\n",
    "sd_tercero_publica_comun <- sd(tercero_publica_comun$Promedio, na.rm = TRUE)\n",
    "# Imprimir los resultados\n",
    "\"MATEMATICA --> TERCERO PUBLICA COMUN\"\n",
    "print(paste(\"Promedio en Matemáticas:\", round(prom_tercero_publica_comun, 2)))\n",
    "print(paste(\"Desviación estándar en Matemáticas:\", round(sd_tercero_publica_comun, 2)))\n",
    "\n",
    "\n",
    "# Calcular el promedio y la desviación estándar de los puntajes en Matemáticas\n",
    "prom_tercero_privada_comun <- mean(tercero_privada_comun$Promedio, na.rm = TRUE)\n",
    "sd_tercero_privada_comun <- sd(tercero_privada_comun$Promedio, na.rm = TRUE)\n",
    "# Imprimir los resultados\n",
    "\"MATEMATICA --> TERCERO PRIVADA COMUN\"\n",
    "print(paste(\"Promedio en Matemáticas:\", round(prom_tercero_privada_comun, 2)))\n",
    "print(paste(\"Desviación estándar en Matemáticas:\", round(sd_tercero_privada_comun, 2)))\n",
    "\n",
    "# Calcular el promedio y la desviación estándar de los puntajes en Matemáticas\n",
    "prom_tercero_tecnica <- mean(tercero_tecnica$Promedio, na.rm = TRUE)\n",
    "sd_tercero_tecnica <- sd(tercero_tecnica$Promedio, na.rm = TRUE)\n",
    "# Imprimir los resultados\n",
    "\"MATEMATICA --> TERCERO TECNICA\"\n",
    "print(paste(\"Promedio en Matemáticas:\", round(prom_tercero_tecnica, 2)))\n",
    "print(paste(\"Desviación estándar en Matemáticas:\", round(sd_tercero_tecnica, 2)))"
   ]
  },
  {
   "cell_type": "code",
   "execution_count": 8,
   "id": "591a9531-545e-4e57-9ffe-c820dc4f0a91",
   "metadata": {},
   "outputs": [
    {
     "name": "stdout",
     "output_type": "stream",
     "text": [
      "[1] -1.228476\n",
      "[1] NaN\n",
      "[1] -1.58583\n"
     ]
    }
   ],
   "source": [
    "#Si el alumno tiene promedio 4\n",
    "promedio_alumno = 4\n",
    "\n",
    "#Calcula el puntaje Z del estudiante en Matemáticas TERCERO PUBLICA COMUN\n",
    "Z_tercero_publica_comun <- (promedio_alumno-prom_tercero_publica_comun)/sd_tercero_publica_comun\n",
    "print(Z_tercero_publica_comun)\n",
    "\n",
    "#Calcula el puntaje Z del estudiante en Matemáticas TERCERO PRIVADA COMUN\n",
    "Z_tercero_privada_comun <- (promedio_alumno-prom_tercero_privada_comun)/sd_tercero_privada_comun\n",
    "print(Z_tercero_privada_comun)\n",
    "\n",
    "#Calcula el puntaje Z del estudiante en Matemáticas TERCERO TECNICA\n",
    "Z_tercero_tecnica <- (promedio_alumno-prom_tercero_tecnica)/sd_tercero_tecnica\n",
    "print(Z_tercero_tecnica)"
   ]
  },
  {
   "cell_type": "markdown",
   "id": "b486989d-a35a-44cc-bcd4-1f9070ed1e01",
   "metadata": {},
   "source": [
    "**TERCERO PUBLICA COMUN**\n",
    "Podemos afirmar que el alumno con promedio 4, tiene un puntaje Z de -1.228, es decir esta a -1.228 desvios estandar de la media. Su desempeño en Matemáticas es inferior al promedio del grupo en esa materia y en ese nivel educativo.\n",
    "\n",
    "**TERCERO PRIVADA COMUN**\n",
    "\n",
    "**TERCERO TECNICA**\n",
    "Podemos afirmar que el alumno con promedio 4, tiene un puntaje Z de -1.585, es decir esta a -1.585 desvios estandar de la media. Su desempeño en Matemáticas es inferior al promedio del grupo en esa materia y en ese nivel educativo."
   ]
  },
  {
   "cell_type": "markdown",
   "id": "cb453994-b051-4009-b5c2-72a3bc39d101",
   "metadata": {},
   "source": [
    "--------------------------"
   ]
  },
  {
   "cell_type": "markdown",
   "id": "0a775157-675e-4445-af56-d477343d2304",
   "metadata": {},
   "source": [
    "3. Seleccione las notas de Matemática de primer año de dos escuelas que difieran\n",
    "notoriamente en cantidad de estudiantes:\n",
    "\n",
    "a. Construya un histograma de frecuencias absolutas para cada grupo.\n",
    "\n",
    "b. Tipifique las notas de ambas escuelas.\n",
    "\n",
    "c. ¿Es lo mismo obtener calificación 4 en ambas escuelas?"
   ]
  },
  {
   "cell_type": "code",
   "execution_count": 9,
   "id": "00789f26-952e-4caf-9581-8dc46c3fa863",
   "metadata": {},
   "outputs": [
    {
     "data": {
      "text/html": [
       "<style>\n",
       ".list-inline {list-style: none; margin:0; padding: 0}\n",
       ".list-inline>li {display: inline-block}\n",
       ".list-inline>li:not(:last-child)::after {content: \"\\00b7\"; padding: 0 .5ex}\n",
       "</style>\n",
       "<ol class=list-inline><li>632</li><li>27</li></ol>\n"
      ],
      "text/latex": [
       "\\begin{enumerate*}\n",
       "\\item 632\n",
       "\\item 27\n",
       "\\end{enumerate*}\n"
      ],
      "text/markdown": [
       "1. 632\n",
       "2. 27\n",
       "\n",
       "\n"
      ],
      "text/plain": [
       "[1] 632  27"
      ]
     },
     "metadata": {},
     "output_type": "display_data"
    }
   ],
   "source": [
    "primer_año <- filter(secundaria_VICTORIA, asignatura == \"MATEMATICA\" & Año_Curso == \"PRIMERO\")\n",
    "dim(`primer_año`)"
   ]
  },
  {
   "cell_type": "code",
   "execution_count": 10,
   "id": "0621a830-f70a-4374-a00d-60653daf2e5a",
   "metadata": {},
   "outputs": [
    {
     "data": {
      "text/html": [
       "<style>\n",
       ".list-inline {list-style: none; margin:0; padding: 0}\n",
       ".list-inline>li {display: inline-block}\n",
       ".list-inline>li:not(:last-child)::after {content: \"\\00b7\"; padding: 0 .5ex}\n",
       "</style>\n",
       "<ol class=list-inline><li>9008373</li><li>9007902</li><li>9003552</li><li>9005244</li><li>9003561</li><li>9008043</li><li>9007815</li><li>9007944</li><li>9008049</li><li>9007677</li><li>9008046</li><li>9004029</li><li>9007722</li><li>9007776</li><li>9007674</li><li>9004026</li></ol>\n"
      ],
      "text/latex": [
       "\\begin{enumerate*}\n",
       "\\item 9008373\n",
       "\\item 9007902\n",
       "\\item 9003552\n",
       "\\item 9005244\n",
       "\\item 9003561\n",
       "\\item 9008043\n",
       "\\item 9007815\n",
       "\\item 9007944\n",
       "\\item 9008049\n",
       "\\item 9007677\n",
       "\\item 9008046\n",
       "\\item 9004029\n",
       "\\item 9007722\n",
       "\\item 9007776\n",
       "\\item 9007674\n",
       "\\item 9004026\n",
       "\\end{enumerate*}\n"
      ],
      "text/markdown": [
       "1. 9008373\n",
       "2. 9007902\n",
       "3. 9003552\n",
       "4. 9005244\n",
       "5. 9003561\n",
       "6. 9008043\n",
       "7. 9007815\n",
       "8. 9007944\n",
       "9. 9008049\n",
       "10. 9007677\n",
       "11. 9008046\n",
       "12. 9004029\n",
       "13. 9007722\n",
       "14. 9007776\n",
       "15. 9007674\n",
       "16. 9004026\n",
       "\n",
       "\n"
      ],
      "text/plain": [
       " [1] 9008373 9007902 9003552 9005244 9003561 9008043 9007815 9007944 9008049\n",
       "[10] 9007677 9008046 9004029 9007722 9007776 9007674 9004026"
      ]
     },
     "metadata": {},
     "output_type": "display_data"
    }
   ],
   "source": [
    "unique(primer_año$CodigoUnicoEscolar)"
   ]
  },
  {
   "cell_type": "code",
   "execution_count": 11,
   "id": "f4301c7b-51e2-42b1-aeed-882fb9e8ae3d",
   "metadata": {},
   "outputs": [
    {
     "name": "stdout",
     "output_type": "stream",
     "text": [
      "\n",
      "9003552 9003561 9004026 9004029 9005244 9007674 9007677 9007722 9007776 9007815 \n",
      "    105      88      24     154      17       7      20      15       7      19 \n",
      "9007902 9007944 9008043 9008046 9008049 9008373 \n",
      "      1      25      59      32      30      29 \n"
     ]
    }
   ],
   "source": [
    "# Contar la frecuencia de cada código único escolar\n",
    "frecuencia_colegios <- table(primer_año$CodigoUnicoEscolar)\n",
    "# Mostrar la frecuencia de cada colegio\n",
    "print(frecuencia_colegios)"
   ]
  },
  {
   "cell_type": "code",
   "execution_count": 12,
   "id": "a5c070e8-c1ad-488f-b44b-1be34f9a131b",
   "metadata": {},
   "outputs": [
    {
     "data": {
      "text/html": [
       "<style>\n",
       ".list-inline {list-style: none; margin:0; padding: 0}\n",
       ".list-inline>li {display: inline-block}\n",
       ".list-inline>li:not(:last-child)::after {content: \"\\00b7\"; padding: 0 .5ex}\n",
       "</style>\n",
       "<ol class=list-inline><li>105</li><li>27</li></ol>\n"
      ],
      "text/latex": [
       "\\begin{enumerate*}\n",
       "\\item 105\n",
       "\\item 27\n",
       "\\end{enumerate*}\n"
      ],
      "text/markdown": [
       "1. 105\n",
       "2. 27\n",
       "\n",
       "\n"
      ],
      "text/plain": [
       "[1] 105  27"
      ]
     },
     "metadata": {},
     "output_type": "display_data"
    },
    {
     "data": {
      "text/html": [
       "<style>\n",
       ".list-inline {list-style: none; margin:0; padding: 0}\n",
       ".list-inline>li {display: inline-block}\n",
       ".list-inline>li:not(:last-child)::after {content: \"\\00b7\"; padding: 0 .5ex}\n",
       "</style>\n",
       "<ol class=list-inline><li>19</li><li>27</li></ol>\n"
      ],
      "text/latex": [
       "\\begin{enumerate*}\n",
       "\\item 19\n",
       "\\item 27\n",
       "\\end{enumerate*}\n"
      ],
      "text/markdown": [
       "1. 19\n",
       "2. 27\n",
       "\n",
       "\n"
      ],
      "text/plain": [
       "[1] 19 27"
      ]
     },
     "metadata": {},
     "output_type": "display_data"
    }
   ],
   "source": [
    "#Se toman dos colegios que difieren notoriamente en cantidad de estudiantes\n",
    "colegio_A <- filter(primer_año, CodigoUnicoEscolar == \"9003552\")\n",
    "colegio_B <- filter(primer_año, CodigoUnicoEscolar == \"9007815\")\n",
    "\n",
    "dim(colegio_A)\n",
    "dim(colegio_B)"
   ]
  },
  {
   "cell_type": "code",
   "execution_count": 13,
   "id": "c62ed1f3-a648-4240-96ef-a9714e426dba",
   "metadata": {},
   "outputs": [
    {
     "data": {
      "image/png": "[encoded data removed]",
      "text/plain": [
       "Plot with title “Histograma de los Promedios Colegio A”"
      ]
     },
     "metadata": {
      "image/png": {
       "height": 420,
       "width": 420
      }
     },
     "output_type": "display_data"
    },
    {
     "data": {
      "image/png": "[encoded data removed]",
      "text/plain": [
       "Plot with title “Histograma de los Promedios Colegio B”"
      ]
     },
     "metadata": {
      "image/png": {
       "height": 420,
       "width": 420
      }
     },
     "output_type": "display_data"
    }
   ],
   "source": [
    "#Graficamos los histogramas\n",
    "hist(colegio_A$Promedio, main = \"Histograma de los Promedios Colegio A\", xlab = \"Promedios\", ylab = \"Frecuencia\")\n",
    "hist(colegio_B$Promedio, main = \"Histograma de los Promedios Colegio B\", xlab = \"Promedios\", ylab = \"Frecuencia\")"
   ]
  },
  {
   "cell_type": "code",
   "execution_count": 14,
   "id": "6b4b56d1-8929-4666-b634-44349da8a5b0",
   "metadata": {},
   "outputs": [
    {
     "name": "stdout",
     "output_type": "stream",
     "text": [
      "[1] \"Colegio_A: -1.83\"\n",
      "[1] \"Colegio_B: -1.43\"\n"
     ]
    }
   ],
   "source": [
    "#Tipificamos las notas de ambas escuelas (calculando la puntuacion Z)\n",
    "calificacion = 4\n",
    "#Calculamos puntuacion Z del colegio A\n",
    "prom_colegio_A <- mean(colegio_A$Promedio, na.rm = TRUE)\n",
    "sd_colegio_A <- sd(colegio_A$Promedio, na.rm = TRUE)\n",
    "Z_colegio_A <- (calificacion-prom_colegio_A)/sd_colegio_A\n",
    "\n",
    "#Calculamos puntuacion Z del colegio B\n",
    "prom_colegio_B <- mean(colegio_B$Promedio, na.rm = TRUE)\n",
    "sd_colegio_B <- sd(colegio_B$Promedio, na.rm = TRUE)\n",
    "Z_colegio_B <- (calificacion-prom_colegio_B)/sd_colegio_B\n",
    "\n",
    "print(paste(\"Colegio_A:\", round(Z_colegio_A, 2)))\n",
    "print(paste(\"Colegio_B:\", round(Z_colegio_B, 2)))"
   ]
  },
  {
   "cell_type": "markdown",
   "id": "b1a8e5e0-6572-4bde-b733-788f9681c45a",
   "metadata": {},
   "source": [
    "En este caso, en el \"Colegio A\", una calificacion de 4 está aproximadamente 1.83 desviaciones estándar por debajo de la media, mientras que en el \"Colegio B\" está aproximadamente 1.43 desviaciones estándar por debajo de la media. Aunque ambas puntuaciones Z indican que una calificacion de 4 está por debajo de la media, la magnitud de la desviación estándar en relación con la media es diferente en cada escuela."
   ]
  },
  {
   "cell_type": "markdown",
   "id": "d2cf1da1-1d3f-4803-8328-35d267e6fab5",
   "metadata": {},
   "source": [
    "-----------------------------------"
   ]
  },
  {
   "cell_type": "markdown",
   "id": "ef3db811-8888-43ff-a8b2-42d1a1fa5645",
   "metadata": {},
   "source": [
    "4. A partir de los datos obtenidos en la Guía 3, realice un contraste de normalidad para las variables cuantitativas de interés (por ejemplo, promedio de notas en Matemática y Lengua de primer año de secundaria común) utilizando un test correspondiente.\n",
    "\n",
    "a) Interprete los resultados obtenidos en el contraste de normalidad y agregue estos resultados para complementar el análisis realizado con las gráficas de QQ-plot.\n",
    "\n",
    "b) Estandarice las variables, ¿qué información adicional le proporciona la estandarización de estos valores?"
   ]
  },
  {
   "cell_type": "code",
   "execution_count": 21,
   "id": "5ce94a1c-2406-4c6c-a123-801db5fd5f57",
   "metadata": {},
   "outputs": [],
   "source": [
    "#install.packages(\"nortest\")\n",
    "library(nortest) #Importamos la libreria nortest"
   ]
  },
  {
   "cell_type": "code",
   "execution_count": 22,
   "id": "e9cae582-fe6d-47fb-ae49-e5b54fb46af7",
   "metadata": {},
   "outputs": [
    {
     "data": {
      "text/html": [
       "<style>\n",
       ".list-inline {list-style: none; margin:0; padding: 0}\n",
       ".list-inline>li {display: inline-block}\n",
       ".list-inline>li:not(:last-child)::after {content: \"\\00b7\"; padding: 0 .5ex}\n",
       "</style>\n",
       "<ol class=list-inline><li>465</li><li>27</li></ol>\n"
      ],
      "text/latex": [
       "\\begin{enumerate*}\n",
       "\\item 465\n",
       "\\item 27\n",
       "\\end{enumerate*}\n"
      ],
      "text/markdown": [
       "1. 465\n",
       "2. 27\n",
       "\n",
       "\n"
      ],
      "text/plain": [
       "[1] 465  27"
      ]
     },
     "metadata": {},
     "output_type": "display_data"
    },
    {
     "data": {
      "text/html": [
       "<style>\n",
       ".list-inline {list-style: none; margin:0; padding: 0}\n",
       ".list-inline>li {display: inline-block}\n",
       ".list-inline>li:not(:last-child)::after {content: \"\\00b7\"; padding: 0 .5ex}\n",
       "</style>\n",
       "<ol class=list-inline><li>433</li><li>27</li></ol>\n"
      ],
      "text/latex": [
       "\\begin{enumerate*}\n",
       "\\item 433\n",
       "\\item 27\n",
       "\\end{enumerate*}\n"
      ],
      "text/markdown": [
       "1. 433\n",
       "2. 27\n",
       "\n",
       "\n"
      ],
      "text/plain": [
       "[1] 433  27"
      ]
     },
     "metadata": {},
     "output_type": "display_data"
    }
   ],
   "source": [
    "#Filtramos para obtener Matematica de primer año de secundaria comun\n",
    "MATEMATICA <- filter(secundaria_VICTORIA, asignatura == \"MATEMATICA\" & Año_Curso == \"PRIMERO\" & ModEnseñanza == \"Comun\")\n",
    "dim(MATEMATICA)\n",
    "\n",
    "#Filtramos para obtener Lengua de primer año de secundaria comun\n",
    "LENGUA <- filter(secundaria_VICTORIA, asignatura == \"LENGUA Y LITERATURA\" & Año_Curso == \"PRIMERO\" & ModEnseñanza == \"Comun\")\n",
    "dim(LENGUA)"
   ]
  },
  {
   "cell_type": "code",
   "execution_count": 37,
   "id": "056079ec-36b2-4661-8ead-a13faeced44a",
   "metadata": {},
   "outputs": [],
   "source": [
    "# Hipótesis nula y alternativa\n",
    "hipotesis_nula <- \"Los datos siguen una distribucion normal\"\n",
    "hipotesis_alternativa <- \"Los datos no siguen una distribución normal\""
   ]
  },
  {
   "cell_type": "code",
   "execution_count": 29,
   "id": "4771f4e8-1b37-4286-8109-bb95cd8e6b49",
   "metadata": {},
   "outputs": [
    {
     "name": "stderr",
     "output_type": "stream",
     "text": [
      "Warning message in ks.test.default(MATEMATICA$Promedio, \"pnorm\"):\n",
      "“ties should not be present for the Kolmogorov-Smirnov test”\n"
     ]
    },
    {
     "data": {
      "text/plain": [
       "\n",
       "\tAsymptotic one-sample Kolmogorov-Smirnov test\n",
       "\n",
       "data:  MATEMATICA$Promedio\n",
       "D = 0.9965, p-value < 2.2e-16\n",
       "alternative hypothesis: two-sided\n"
      ]
     },
     "metadata": {},
     "output_type": "display_data"
    },
    {
     "name": "stderr",
     "output_type": "stream",
     "text": [
      "Warning message in ks.test.default(LENGUA$Promedio, \"pnorm\"):\n",
      "“ties should not be present for the Kolmogorov-Smirnov test”\n"
     ]
    },
    {
     "data": {
      "text/plain": [
       "\n",
       "\tAsymptotic one-sample Kolmogorov-Smirnov test\n",
       "\n",
       "data:  LENGUA$Promedio\n",
       "D = 0.99957, p-value < 2.2e-16\n",
       "alternative hypothesis: two-sided\n"
      ]
     },
     "metadata": {},
     "output_type": "display_data"
    }
   ],
   "source": [
    "#Hacemos el test Shapiro-Wilk o el test de Kolmogorov-Smirnov\n",
    "#Realizamos la prueba de Kolmogorov-Smirnov para la normalidad (al ser muestras grandes)\n",
    "ks.test(MATEMATICA$Promedio, \"pnorm\")\n",
    "ks.test(LENGUA$Promedio, \"pnorm\")"
   ]
  },
  {
   "cell_type": "markdown",
   "id": "a80be296-667f-4b70-9e96-fce39a6208b4",
   "metadata": {},
   "source": [
    "Dado que el p-value es extremadamente pequeño (p < 2.2e-16), hay una fuerte evidencia para rechazar la hipótesis nula de que los datos siguen una distribución normal. Por lo tanto, en base a este test, podríamos concluir que los datos en ambos test, no siguen una distribución normal."
   ]
  },
  {
   "cell_type": "code",
   "execution_count": 24,
   "id": "22179203-e868-4fa1-b32b-42227d72c537",
   "metadata": {},
   "outputs": [
    {
     "data": {
      "text/plain": [
       "\n",
       "\tAnderson-Darling normality test\n",
       "\n",
       "data:  MATEMATICA$Promedio\n",
       "A = 4.1892, p-value = 1.998e-10\n"
      ]
     },
     "metadata": {},
     "output_type": "display_data"
    },
    {
     "data": {
      "text/plain": [
       "\n",
       "\tAnderson-Darling normality test\n",
       "\n",
       "data:  LENGUA$Promedio\n",
       "A = 3.1297, p-value = 7.378e-08\n"
      ]
     },
     "metadata": {},
     "output_type": "display_data"
    }
   ],
   "source": [
    "# Realizamos la prueba de Anderson-Darling para la normalidad\n",
    "ad.test(MATEMATICA$Promedio)\n",
    "ad.test(LENGUA$Promedio)"
   ]
  },
  {
   "cell_type": "markdown",
   "id": "2f7fd7c3-e387-4534-97fb-883a1c234c83",
   "metadata": {},
   "source": [
    "El resultado del test de normalidad de Anderson-Darling muestra un p-value extremadamente pequeño (p = 1.998e-10), lo que indica que hay una fuerte evidencia para rechazar la hipótesis nula de que los datos siguen una distribución normal. Por lo tanto, según este test, los datos en ambos test no siguen una distribución normal."
   ]
  },
  {
   "cell_type": "code",
   "execution_count": 28,
   "id": "0be89cb6-33ed-47bf-802e-ccf5fdfeaebd",
   "metadata": {},
   "outputs": [
    {
     "data": {
      "text/plain": [
       "\n",
       "\tLilliefors (Kolmogorov-Smirnov) normality test\n",
       "\n",
       "data:  MATEMATICA$Promedio\n",
       "D = 0.097766, p-value = 1.753e-11\n"
      ]
     },
     "metadata": {},
     "output_type": "display_data"
    },
    {
     "data": {
      "text/plain": [
       "\n",
       "\tLilliefors (Kolmogorov-Smirnov) normality test\n",
       "\n",
       "data:  LENGUA$Promedio\n",
       "D = 0.098393, p-value = 8.23e-11\n"
      ]
     },
     "metadata": {},
     "output_type": "display_data"
    }
   ],
   "source": [
    "# Realizamos el test de Lilliefors para la normalidad\n",
    "lillie.test(MATEMATICA$Promedio)\n",
    "lillie.test(LENGUA$Promedio)"
   ]
  },
  {
   "cell_type": "markdown",
   "id": "0074def7-6af6-4118-92d2-6f24fa8784f0",
   "metadata": {},
   "source": [
    "Estos resultados muestran que tanto los datos de MATEMATICA como los datos de LENGUA no siguen una distribución normal. Los p-value son extremadamente pequeños, lo que indica una fuerte evidencia para rechazar la hipótesis nula de normalidad. Por lo tanto, según el test de Lilliefors (variante del test de Kolmogorov-Smirnov), ambos conjuntos de datos no se distribuyen normalmente."
   ]
  },
  {
   "cell_type": "code",
   "execution_count": 36,
   "id": "fad4dcd2-3fca-4a1a-a42f-e384e77c6806",
   "metadata": {},
   "outputs": [
    {
     "data": {
      "image/png": "[encoded data removed]",
      "text/plain": [
       "Plot with title “Normal Q-Q Plot”"
      ]
     },
     "metadata": {
      "image/png": {
       "height": 420,
       "width": 420
      }
     },
     "output_type": "display_data"
    },
    {
     "data": {
      "image/png": "[encoded data removed]",
      "text/plain": [
       "Plot with title “Normal Q-Q Plot”"
      ]
     },
     "metadata": {
      "image/png": {
       "height": 420,
       "width": 420
      }
     },
     "output_type": "display_data"
    }
   ],
   "source": [
    "qqnorm(as.numeric(MATEMATICA[!is.na(MATEMATICA$Promedio),]$Promedio))\n",
    "qqline(as.numeric(MATEMATICA[!is.na(MATEMATICA$Promedio),]$Promedio))\n",
    "\n",
    "qqnorm(as.numeric(LENGUA[!is.na(LENGUA$Promedio),]$Promedio))\n",
    "qqline(as.numeric(LENGUA[!is.na(LENGUA$Promedio),]$Promedio))\n"
   ]
  },
  {
   "cell_type": "markdown",
   "id": "8a907447-7543-4118-bbcd-927c8182ffe5",
   "metadata": {},
   "source": [
    "b)Ahora estandarizamos la variables de interés Promedio para Matemática y Lengua. La estandarización es un proceso en el que se transforman los datos para que tengan una media de cero y una desviación estándar de uno. Esto es útil para comparar variables que pueden tener diferentes escalas y unidades."
   ]
  },
  {
   "cell_type": "code",
   "execution_count": 40,
   "id": "6b65b559-eb8f-42ce-94c9-21d0a8e7dabc",
   "metadata": {},
   "outputs": [],
   "source": [
    "#Estandarizamos las variables\n",
    "estandar_mat <- scale(MATEMATICA$Promedio)\n",
    "estandar_len <- scale(LENGUA$Promedio)"
   ]
  },
  {
   "cell_type": "code",
   "execution_count": 46,
   "id": "eab678a2-e660-42c0-a6d8-e9ffd85b9d04",
   "metadata": {},
   "outputs": [
    {
     "name": "stderr",
     "output_type": "stream",
     "text": [
      "Warning message in ks.test.default(estandar_mat, \"pnorm\"):\n",
      "“ties should not be present for the Kolmogorov-Smirnov test”\n"
     ]
    },
    {
     "data": {
      "text/plain": [
       "\n",
       "\tAsymptotic one-sample Kolmogorov-Smirnov test\n",
       "\n",
       "data:  estandar_mat\n",
       "D = 0.097766, p-value = 0.0002757\n",
       "alternative hypothesis: two-sided\n"
      ]
     },
     "metadata": {},
     "output_type": "display_data"
    },
    {
     "name": "stderr",
     "output_type": "stream",
     "text": [
      "Warning message in ks.test.default(estandar_len, \"pnorm\"):\n",
      "“ties should not be present for the Kolmogorov-Smirnov test”\n"
     ]
    },
    {
     "data": {
      "text/plain": [
       "\n",
       "\tAsymptotic one-sample Kolmogorov-Smirnov test\n",
       "\n",
       "data:  estandar_len\n",
       "D = 0.098393, p-value = 0.000457\n",
       "alternative hypothesis: two-sided\n"
      ]
     },
     "metadata": {},
     "output_type": "display_data"
    }
   ],
   "source": [
    "#Realizamos la prueba de Kolmogorov-Smirnov para la normalidad (al ser muestras grandes)\n",
    "ks.test(estandar_mat, \"pnorm\")\n",
    "ks.test(estandar_len, \"pnorm\")"
   ]
  },
  {
   "cell_type": "code",
   "execution_count": 47,
   "id": "1180c777-6560-4655-b883-2dfd374464a7",
   "metadata": {},
   "outputs": [
    {
     "data": {
      "text/plain": [
       "\n",
       "\tAnderson-Darling normality test\n",
       "\n",
       "data:  estandar_mat\n",
       "A = 4.1892, p-value = 1.998e-10\n"
      ]
     },
     "metadata": {},
     "output_type": "display_data"
    },
    {
     "data": {
      "text/plain": [
       "\n",
       "\tAnderson-Darling normality test\n",
       "\n",
       "data:  estandar_len\n",
       "A = 3.1297, p-value = 7.378e-08\n"
      ]
     },
     "metadata": {},
     "output_type": "display_data"
    }
   ],
   "source": [
    "# Realizamos la prueba de Anderson-Darling para la normalidad\n",
    "ad.test(estandar_mat)\n",
    "ad.test(estandar_len)"
   ]
  },
  {
   "cell_type": "code",
   "execution_count": 48,
   "id": "b69db55b-446e-4c9b-a9e4-a47d28b9cc83",
   "metadata": {},
   "outputs": [
    {
     "data": {
      "text/plain": [
       "\n",
       "\tLilliefors (Kolmogorov-Smirnov) normality test\n",
       "\n",
       "data:  estandar_mat\n",
       "D = 0.097766, p-value = 1.753e-11\n"
      ]
     },
     "metadata": {},
     "output_type": "display_data"
    },
    {
     "data": {
      "text/plain": [
       "\n",
       "\tLilliefors (Kolmogorov-Smirnov) normality test\n",
       "\n",
       "data:  estandar_len\n",
       "D = 0.098393, p-value = 8.23e-11\n"
      ]
     },
     "metadata": {},
     "output_type": "display_data"
    }
   ],
   "source": [
    "# Realizamos el test de Lilliefors para la normalidad\n",
    "lillie.test(estandar_mat)\n",
    "lillie.test(estandar_len)"
   ]
  },
  {
   "cell_type": "markdown",
   "id": "0e91655b-f8e2-41a1-a231-fc90f51b0892",
   "metadata": {},
   "source": [
    "Volvemos a correr todos los test de normalidad, luego de estandarizar la variable y no cambia el resultado. Obtenemos todos p-value pequeños lo que nos lleva a rechazar la hipotesis nula de que estamos tratando con una distribucion normal."
   ]
  }
 ],
 "metadata": {
  "kernelspec": {
   "display_name": "R",
   "language": "R",
   "name": "ir"
  },
  "language_info": {
   "codemirror_mode": "r",
   "file_extension": ".r",
   "mimetype": "text/x-r-source",
   "name": "R",
   "pygments_lexer": "r",
   "version": "4.3.1"
  }
 },
 "nbformat": 4,
 "nbformat_minor": 5
}
