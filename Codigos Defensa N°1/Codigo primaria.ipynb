{
 "cells": [
  {
   "cell_type": "markdown",
   "id": "039d4c17-b401-4b74-84b5-d147fc28b154",
   "metadata": {},
   "source": [
    "### Código de Exploración de Datos Multivariados de los estudiantes Milessi Ayrton y Torres Santiago"
   ]
  },
  {
   "cell_type": "markdown",
   "id": "53ec300f-09cc-40fa-a37d-7ec746353e2a",
   "metadata": {},
   "source": [
    "### Cargamos las librerias a utilizar, la base de datos y funciones a utilizar"
   ]
  },
  {
   "cell_type": "code",
   "execution_count": null,
   "id": "fd138cfd-b831-4b87-9d54-5823047fefa8",
   "metadata": {},
   "outputs": [],
   "source": [
    "# -*- coding: utf-8 -*-"
   ]
  },
  {
   "cell_type": "code",
   "execution_count": null,
   "id": "d3fe85dd-1526-4e9f-9edf-5def69252cfe",
   "metadata": {},
   "outputs": [],
   "source": [
    "library(dplyr)\n",
    "library(readxl) \n",
    "library(stringr)\n",
    "library(writexl)\n",
    "library(ggplot2)"
   ]
  },
  {
   "cell_type": "code",
   "execution_count": null,
   "id": "381adbf9-f855-4c1d-b030-730f1b648b08",
   "metadata": {},
   "outputs": [],
   "source": [
    "# Función para sacar la moda\n",
    "Mode <- function(x) {\n",
    "  ux <- unique(x)\n",
    "  ux[which.max(tabulate(match(x, ux)))]\n",
    "}"
   ]
  },
  {
   "cell_type": "code",
   "execution_count": null,
   "id": "653df6c0-0dd1-474b-9955-98de437bb5dd",
   "metadata": {},
   "outputs": [],
   "source": [
    "# Función para evaluar correlación\n",
    "evaluar_correlacion <- function(spe) {\n",
    "  if (spe >= 0.8) {\n",
    "    return(\"Correlación muy alta\")\n",
    "  } else if (spe >= 0.6) {\n",
    "    return(\"Correlación alta\")\n",
    "  } else if (spe >= 0.4) {\n",
    "    return(\"Correlación moderada\")\n",
    "  } else if (spe >= 0.2) {\n",
    "    return(\"Correlación baja\")\n",
    "  } else {\n",
    "    return(\"No hay correlación\")\n",
    "  }\n",
    "}"
   ]
  },
  {
   "cell_type": "code",
   "execution_count": null,
   "id": "cb59a06c-4fad-4dac-bdee-0d3c7f08594f",
   "metadata": {
    "scrolled": true
   },
   "outputs": [],
   "source": [
    "Victoria <- read.csv(\"C:/Users/ayrto/OneDrive/Escritorio/Exploración de Datos Multivariados/1 - Trabajo Practico/VICTORIA.csv\") \n",
    "dim(Victoria) #Mostramos las dimensiones de la base de datos original"
   ]
  },
  {
   "cell_type": "markdown",
   "id": "ba03d562-2258-49ef-958a-d8b5f461b2b7",
   "metadata": {},
   "source": [
    "### Exploramos la base de datos"
   ]
  },
  {
   "cell_type": "code",
   "execution_count": null,
   "id": "d205a30e-6b8a-4cb6-a77f-14043f9e2db9",
   "metadata": {},
   "outputs": [],
   "source": [
    "names(Victoria)"
   ]
  },
  {
   "cell_type": "code",
   "execution_count": null,
   "id": "217462ce-7b28-43e3-a927-4bcd82787428",
   "metadata": {},
   "outputs": [],
   "source": [
    "# Cambiamos los nombres de las variables para un mejor entendimiento\n",
    "Victoria <- rename(Victoria, c(\"CodigoUnicoEscolar\" = \"CUE\", \"ModEnseñanza\" = \"ModEnsenaza\", \"año\" = \"anioLectivo\", \"esMultiaño\" =\"esMultianio\", \"IdModEnseñanza\" = \"IdModEnsenanza\",\"NivelEnseñanza\" = \"NivelEnsenanza\"))"
   ]
  },
  {
   "cell_type": "code",
   "execution_count": null,
   "id": "7e58630e-4053-45ab-9d5a-1fe03f326bbf",
   "metadata": {},
   "outputs": [],
   "source": [
    "# Descubrimos que al intentar modificar el nombre de una varible, esta se encuentra dos veces en el conjunto de datos\n",
    "Victoria$ddivision <- NULL #Entonces procedemos a eliminar una de las variables duplicada\n",
    "names(Victoria) #Verificamos si se elimino correctamente"
   ]
  },
  {
   "cell_type": "code",
   "execution_count": null,
   "id": "8d4b5080-b08d-479f-b302-8e1fa13d77f1",
   "metadata": {},
   "outputs": [],
   "source": [
    "# Mostramos las variables del dataset, nos ayuda a identificar el tipo de cada variable\n",
    "str(Victoria)"
   ]
  },
  {
   "cell_type": "code",
   "execution_count": null,
   "id": "fba60306-87fc-445a-b7e0-0dc8014b47ef",
   "metadata": {},
   "outputs": [],
   "source": [
    "# Reemplazamos las notas \"EPAC\", \"UP\" y \"PA\" \n",
    "Victoria$nota[Victoria$nota %in% c(\"EPAC\")] <- 5\n",
    "Victoria$nota[Victoria$nota %in% c(\"PA\")] <- 6\n",
    "Victoria$nota[Victoria$nota %in% c(\"UP\")] <- 7\n",
    "Victoria$nota <- suppressWarnings(as.numeric(Victoria$nota)) #Convertimos la variable nota a tipo numérico"
   ]
  },
  {
   "cell_type": "code",
   "execution_count": null,
   "id": "3694df3a-8edd-42ba-8afd-146f7b1d609a",
   "metadata": {},
   "outputs": [],
   "source": [
    "# Ahora dividiremos el dataset en dos: Primaria y Secundaria\n",
    "# Nueva base de datos para primaria\n",
    "Victoria_primaria <- filter(Victoria, NivelEnseñanza == \"PRIMARIO\" & ( ModEnseñanza == \"Comun\"| ModEnseñanza == \"Escuelas NINA\") & Modalidad == \"Primaria\" & esMultiaño == \"N\") #se guardan los alumnos que cursan la primaria\n",
    "Victoria_secundaria <- filter(Victoria, NivelEnseñanza == \"SECUNDARIO\" & (ModEnseñanza == \"Comun\" | ModEnseñanza == \"Técnica\" | ModEnseñanza ==\"Agrotécnica\") & esMultiaño == \"N\" & Modalidad == \"Secundaria\") #se guardan los alumnos que cursan la secundaria"
   ]
  },
  {
   "cell_type": "code",
   "execution_count": null,
   "id": "dac6fdfb-1e23-4a1c-aae5-1a674957d79f",
   "metadata": {},
   "outputs": [],
   "source": [
    "length(unique(Victoria_primaria$CodigoUnicoEscolar))   #cantidad de escuelas primarias en Victoria\n",
    "# Dimensiones de las nuevas bases de datos \n",
    "dim(Victoria_primaria)"
   ]
  },
  {
   "cell_type": "markdown",
   "id": "357023f3-8e5d-425b-8d22-76f3c5a6a0a7",
   "metadata": {},
   "source": [
    "### Ahora nos enfocaremos en la limpieza de la base de datos de primaria"
   ]
  },
  {
   "cell_type": "code",
   "execution_count": null,
   "id": "fdf65f09-60d2-40c0-ad16-4c65c84bc820",
   "metadata": {},
   "outputs": [],
   "source": [
    "# Creamos nuevos data frames para almacenar las notas de cada trimestre\n",
    "PrimerT_primaria <- filter(Victoria_primaria, periodoEvaluatorio == \"Primer Trimestre\")\n",
    "PrimerT_primaria <- rename(PrimerT_primaria,NotasPrimerT = nota)\n",
    "SegundoT_primaria <- filter(Victoria_primaria, periodoEvaluatorio == \"Segundo Trimestre\")\n",
    "SegundoT_primaria <- rename(SegundoT_primaria,NotasSegundoT = nota)\n",
    "TercerT_primaria <- filter(Victoria_primaria, periodoEvaluatorio == \"Tercer Trimestre\")\n",
    "TercerT_primaria <- rename(TercerT_primaria,NotasTercerT = nota)"
   ]
  },
  {
   "cell_type": "code",
   "execution_count": null,
   "id": "0c8ffca9-fcef-4110-bf1b-c66ce5ae7781",
   "metadata": {},
   "outputs": [],
   "source": [
    "# A traves del merge unimos las notas de cada trimestre segun el Documento de cada estudiante y la asignatura\n",
    "aux <- merge(x = PrimerT_primaria, y = SegundoT_primaria, by = c(\"Documento\", \"asignatura\"))\n",
    "auxiliar <- merge(x = aux, y = TercerT_primaria, by = c(\"Documento\", \"asignatura\"))"
   ]
  },
  {
   "cell_type": "code",
   "execution_count": null,
   "id": "0abb0736-14a8-453e-b3fa-9c93bb86a499",
   "metadata": {},
   "outputs": [],
   "source": [
    "Notas_Victoria_primaria <- select (auxiliar, 'CodigoUnicoEscolar', 'departamento', 'localidad', 'EsPrivada', 'turno' , 'curso' , 'periodoEvaluatorio' , 'Documento', 'asignatura','idalumno', 'observaciones', 'idSubOrganizacion', 'idDivision', 'NivelEnseñanza', 'orden','Nivel', 'esMultiaño', 'IdModEnseñanza', 'Modalidad', 'ModEnseñanza', 'año','NotasPrimerT','NotasSegundoT', 'NotasTercerT')"
   ]
  },
  {
   "cell_type": "code",
   "execution_count": null,
   "id": "afc1fd3f-1dee-44a1-a400-45a734eab7dd",
   "metadata": {},
   "outputs": [],
   "source": [
    "# Calculamos el promedio para cada estudiante en las asignaturas que cursa\n",
    "Notas_Victoria_primaria$Promedio <-round ((as.numeric(Notas_Victoria_primaria$NotasPrimerT)+as.numeric(Notas_Victoria_primaria$NotasSegundoT)+as.numeric(Notas_Victoria_primaria$NotasTercerT))/3,2)"
   ]
  },
  {
   "cell_type": "code",
   "execution_count": null,
   "id": "e61fccc1-5293-46ef-8a52-5000aba1df05",
   "metadata": {},
   "outputs": [],
   "source": [
    "# Según el promedio conseguido tendra aprobado el año lectivo o tendrá que rendir. \n",
    "# Los alumnos que tengas una nota menor a 6 en el tercer trimestre tendrán que rendir.\n",
    "# Los estudiantes que no tengan las 3 notas correspondientes a cada trimestre tendrán un registro incompleto\n",
    "Notas_Victoria_primaria <- Notas_Victoria_primaria %>% \n",
    "  mutate(Condición = case_when(\n",
    "    Promedio >= 6 & NotasTercerT >= 6 ~ \"Aprobado\", \n",
    "    Promedio < 6 | NotasTercerT < 6 ~ \"Rinde\",      \n",
    "    TRUE ~ \"sin registro completo\"                    \n",
    "  ))"
   ]
  },
  {
   "cell_type": "code",
   "execution_count": null,
   "id": "6ee40401-f79d-4152-92ab-54bbf87b7313",
   "metadata": {},
   "outputs": [],
   "source": [
    "# Pasamos todos los nombres de las asignaturas a mayusculas para una mayor facilidad a la hora de cambiarlos\n",
    "Notas_Victoria_primaria$asignatura <- toupper(Notas_Victoria_primaria$asignatura)"
   ]
  },
  {
   "cell_type": "code",
   "execution_count": null,
   "id": "0d3e7beb-1fd0-4769-a313-9d61a0037a99",
   "metadata": {},
   "outputs": [],
   "source": [
    "# Ponemos un nombre común a las asignaturas que dictan los mismos contenidos pero tienen un nombre diferente\n",
    "Notas_Victoria_primaria$asignatura <- gsub(\"MATEMÁTICA|ACOMPAÑAMIENTO AL ESTUDIO MATEMÁTICA\", \"MATEMATICA\", Notas_Victoria_primaria$asignatura)\n",
    "Notas_Victoria_primaria$asignatura <- gsub(\"LITERATURA|ACOMPAÑAMIENTO AL ESTUDIO LENGUA\", \"LENGUA\", Notas_Victoria_primaria$asignatura)\n",
    "Notas_Victoria_primaria$asignatura <- gsub(\"ACOMPAÑAMIENTO AL ESTUDIO SOCIALES\", \"CIENCIAS SOCIALES\", Notas_Victoria_primaria$asignatura)\n",
    "Notas_Victoria_primaria$asignatura <- gsub(\"ACOMPAÑAMIENTO AL ESTUDIO NATURALES|TALLER VIDA EN LA NATURALEZA\", \"CIENCIAS NATURALES\", Notas_Victoria_primaria$asignatura)\n",
    "Notas_Victoria_primaria$asignatura <- gsub(\"TALLER DE ARTES VISUALES|TALLER DE LENGUAJE DE LAS ARTES VISUALES\", \"ARTES VISUALES\", Notas_Victoria_primaria$asignatura)\n",
    "Notas_Victoria_primaria$asignatura <- gsub(\"TALLER DE DEPORTE|DEPORTE\", \"EDUCACION FISICA\", Notas_Victoria_primaria$asignatura)\n",
    "Notas_Victoria_primaria$asignatura <- gsub(\"E.D.I.\", \"EDI\", Notas_Victoria_primaria$asignatura)\n",
    "Notas_Victoria_primaria$asignatura <- gsub(\"TALLER DE MUSICA|TALLER DE FOLKLORE\", \"EDUCACION MUSICAL\", Notas_Victoria_primaria$asignatura)\n",
    "Notas_Victoria_primaria$asignatura <- gsub(\"TALLER DE TIC|TALLER DE TIC Y RECREACIÓN DE LA IMAGEN|TALLER TIC|TICS\", \"TIC\", Notas_Victoria_primaria$asignatura)\n",
    "Notas_Victoria_primaria$asignatura <- gsub(\"IDIOMA EXTRANJERO|INGLÉS|TALLER DE INGLES|TALLER DE INGLÉS|TALLER DE LENGUA EXTRANJERA|INGLEs|TALLER INGLES|TALLER LENGUA EXTRANJERA (INGLES)\", \"INGLES\", Notas_Victoria_primaria$asignatura)\n",
    "Notas_Victoria_primaria$asignatura <- gsub(\"TALLER DE TEATRO|TALLER TEATRO\", \"TALLER  DE TEATRO\", Notas_Victoria_primaria$asignatura)\n",
    "Notas_Victoria_primaria$asignatura <- gsub(\"INFORMÁTICA\", \"INFORMATICA\", Notas_Victoria_primaria$asignatura)\n",
    "Notas_Victoria_primaria$asignatura <- gsub(\"TALLER LABORATORIO\", \"TALLER DE LABORATORIO\", Notas_Victoria_primaria$asignatura)\n",
    "Notas_Victoria_primaria$asignatura <- gsub(\"AC.EN LENGUA Y CS. SOCIALES|T/A ESTUDIO (LENGUA-CS SOCIALES)|TALLER ACOMPAÑAMIENTO LENGUA Y CIENCIAS SOCIALES\", \"TALLER DE CS. SOCIALES Y LENGUA\", Notas_Victoria_primaria$asignatura)\n",
    "Notas_Victoria_primaria$asignatura <- gsub(\"AC.EN MATEMÁTICA Y CS. NATURALES|T/A ESTUDIO (MATEMATICA-CS NATURALES)|TALLER ACOMPAÑAMIENTO  MATEMÁTICA Y CS. NATURALES\", \"TALLER DE CS. NATURALES Y MATEMATICA\", Notas_Victoria_primaria$asignatura)"
   ]
  },
  {
   "cell_type": "code",
   "execution_count": null,
   "id": "91443f42-65eb-4454-a09d-63619f9a0c34",
   "metadata": {
    "scrolled": true
   },
   "outputs": [],
   "source": [
    "# Verificamos que no se hayan modificado bien los nombres de las asignaturas\n",
    "table(Notas_Victoria_primaria$asignatura)"
   ]
  },
  {
   "cell_type": "code",
   "execution_count": null,
   "id": "7acd0628-0494-444d-a263-c749ff31664c",
   "metadata": {
    "scrolled": true
   },
   "outputs": [],
   "source": [
    "# No todas las asignaturas fueron modificadas correctamente, se procede a realizar denuevo el procedimiento con aquellas que falta cambiar\n",
    "Notas_Victoria_primaria$asignatura <- str_replace_all(Notas_Victoria_primaria$asignatura, \".*INGLES*.\", \"INGLES\")\n",
    "Notas_Victoria_primaria$asignatura <- gsub(\"TALLER ACOMPAÑAMIENTO  MATEMATICA Y CS. NATURALES|T/A ESTUDIO (MATEMATICA-CS NATURALES)|AC.EN MATEMATICA Y CS. NATURALES\", \"TALLER DE MATEMATICA Y CS. NATURALES\", Notas_Victoria_primaria$asignatura)\n",
    "Notas_Victoria_primaria$asignatura <- str_replace_all(Notas_Victoria_primaria$asignatura, \"T/A ESTUDIO \\\\(LENGUA-CS SOCIALES\\\\)\", \"TALLER DE CS. SOCIALES Y LENGUA\")\n",
    "Notas_Victoria_primaria$asignatura <- str_replace_all(Notas_Victoria_primaria$asignatura, \"T/A ESTUDIO \\\\(MATEMATICA-CS NATURALES\\\\)\", \"TALLER DE MATEMATICA Y CS. NATURALES\")\n",
    "# Verificamos nuevamente. Ya tenemos todos los nombres de las materias correctamente\n",
    "table(Notas_Victoria_primaria$asignatura)"
   ]
  },
  {
   "cell_type": "code",
   "execution_count": null,
   "id": "f8e4f67a-f300-4379-a392-c775a3349071",
   "metadata": {},
   "outputs": [],
   "source": [
    "# Eliminamos un curso multiaño que supero el filtro implementado\n",
    "Notas_Victoria_primaria <- Notas_Victoria_primaria[Notas_Victoria_primaria$curso != \"1-6 - A Prim\", ]\n",
    "table(Notas_Victoria_primaria$curso)\n",
    "# Ya nos quedamos con los cursos que no son multiaños "
   ]
  },
  {
   "cell_type": "code",
   "execution_count": null,
   "id": "4782a765-c455-481c-bd87-b1e71b1997ed",
   "metadata": {},
   "outputs": [],
   "source": [
    "# Eliminamos aquellos estudiantes que no tienen el promedio completo\n",
    "Notas_Victoria_primaria <- Notas_Victoria_primaria[Notas_Victoria_primaria$Condición != \"sin registro completo\", ]"
   ]
  },
  {
   "cell_type": "code",
   "execution_count": null,
   "id": "72682462-9cbc-4df0-bf9c-f07d8f85f8c6",
   "metadata": {},
   "outputs": [],
   "source": [
    "# Cambiamos a tipo caracter los nombres de los cursos para luego quedarnos con el primer caracter que aparece\n",
    "# (en cada dato, el primer caracter es el numero del grado\n",
    "Notas_Victoria_primaria$curso <- as.character(Notas_Victoria_primaria$curso)\n",
    "Notas_Victoria_primaria$Año_curso <- str_sub(Notas_Victoria_primaria$curso,1, 1)\n",
    "# Mostramos la cantidad de alumnos en cada grado\n",
    "table(Notas_Victoria_primaria$Año_curso)"
   ]
  },
  {
   "cell_type": "code",
   "execution_count": null,
   "id": "e71efac6-f328-4ba5-8335-58f03b5448bb",
   "metadata": {},
   "outputs": [],
   "source": [
    "# Modificamos la variable 'Año_curso' del número al nombre del grado\n",
    "Notas_Victoria_primaria$Año_curso <- str_replace(Notas_Victoria_primaria$Año_curso, \"1\" , \"PRIMERO\")\n",
    "Notas_Victoria_primaria$Año_curso <- str_replace(Notas_Victoria_primaria$Año_curso, \"2\" , \"SEGUNDO\")\n",
    "Notas_Victoria_primaria$Año_curso <- str_replace(Notas_Victoria_primaria$Año_curso, \"3\" , \"TERCERO\")\n",
    "Notas_Victoria_primaria$Año_curso <- str_replace(Notas_Victoria_primaria$Año_curso, \"4\" , \"CUARTO\")\n",
    "Notas_Victoria_primaria$Año_curso <- str_replace(Notas_Victoria_primaria$Año_curso, \"5\" , \"QUINTO\")\n",
    "Notas_Victoria_primaria$Año_curso <- str_replace(Notas_Victoria_primaria$Año_curso, \"6\" , \"SEXTO\")"
   ]
  },
  {
   "cell_type": "code",
   "execution_count": null,
   "id": "d6edf04d-3d58-4e4f-92d6-ef93888874d2",
   "metadata": {},
   "outputs": [],
   "source": [
    "Notas_Victoria_primaria <- dplyr::select(Notas_Victoria_primaria,'CodigoUnicoEscolar','departamento','EsPrivada','turno','Año_curso','Documento','asignatura','idalumno','NivelEnseñanza','esMultiaño','Modalidad','ModEnseñanza','NotasPrimerT','NotasSegundoT','NotasTercerT','Promedio','Condición')"
   ]
  },
  {
   "cell_type": "markdown",
   "id": "891f4db1-413e-49e2-900d-65acb8240e38",
   "metadata": {},
   "source": [
    "### Segmentamos la base de datos primaria en seis nuevas bases de datos nuevas. Cada una le pertencerá a cada grado"
   ]
  },
  {
   "cell_type": "code",
   "execution_count": null,
   "id": "065cc9d6-df34-4230-8eb8-b280357a26e6",
   "metadata": {
    "scrolled": true
   },
   "outputs": [],
   "source": [
    "Notas_Victoria_1Grado <- distinct(filter(Notas_Victoria_primaria, Año_curso == \"PRIMERO\"))\n",
    "tabla1 <- Notas_Victoria_1Grado %>% group_by(asignatura) %>%  summarise(conteo=n())\n",
    "print(\"Alumnos por materia en 1er grado\")\n",
    "tabla1"
   ]
  },
  {
   "cell_type": "code",
   "execution_count": null,
   "id": "21d00eeb-abfd-4945-a676-c6155b9b6988",
   "metadata": {
    "scrolled": true
   },
   "outputs": [],
   "source": [
    "Notas_Victoria_2Grado <- distinct(filter(Notas_Victoria_primaria, Año_curso == \"SEGUNDO\"))\n",
    "tabla2 <- Notas_Victoria_2Grado %>% group_by(asignatura) %>%  summarise(conteo=n())\n",
    "print(\"Alumnos por materia en 2do grado\")\n",
    "tabla2"
   ]
  },
  {
   "cell_type": "code",
   "execution_count": null,
   "id": "c18cb40b-ecf3-49bf-9bac-56cb42fde634",
   "metadata": {
    "scrolled": true
   },
   "outputs": [],
   "source": [
    "Notas_Victoria_3Grado <- distinct(filter(Notas_Victoria_primaria, Año_curso == \"TERCERO\"))\n",
    "tabla3 <- Notas_Victoria_3Grado %>% group_by(asignatura) %>%  summarise(conteo=n())\n",
    "print(\"Alumnos por materia en 3er grado\")\n",
    "tabla3"
   ]
  },
  {
   "cell_type": "code",
   "execution_count": null,
   "id": "6bffef77-7cd1-4586-910d-cb34c2203e9e",
   "metadata": {
    "scrolled": true
   },
   "outputs": [],
   "source": [
    "Notas_Victoria_4Grado <- distinct(filter(Notas_Victoria_primaria, Año_curso == \"CUARTO\"))\n",
    "tabla4 <- Notas_Victoria_4Grado %>% group_by(asignatura) %>%  summarise(conteo=n())\n",
    "print(\"Alumnos por materia en 4to grado\")\n",
    "tabla4"
   ]
  },
  {
   "cell_type": "code",
   "execution_count": null,
   "id": "77917606-b6ed-420e-a679-a4ddc241c158",
   "metadata": {
    "scrolled": true
   },
   "outputs": [],
   "source": [
    "Notas_Victoria_5Grado <- distinct(filter(Notas_Victoria_primaria, Año_curso == \"QUINTO\"))\n",
    "tabla5 <- Notas_Victoria_5Grado %>% group_by(asignatura) %>%  summarise(conteo=n())\n",
    "print(\"Alumnos por materia en 5to grado\")\n",
    "tabla5"
   ]
  },
  {
   "cell_type": "code",
   "execution_count": null,
   "id": "5c697e22-1e5d-41c8-bbf8-5d4f9970f540",
   "metadata": {
    "scrolled": true
   },
   "outputs": [],
   "source": [
    "Notas_Victoria_6Grado <- distinct(filter(Notas_Victoria_primaria, Año_curso == \"SEXTO\"))\n",
    "tabla6 <- Notas_Victoria_6Grado %>% group_by(asignatura) %>%  summarise(conteo=n())\n",
    "print(\"Alumnos por materia en 6to grado\")\n",
    "tabla6"
   ]
  },
  {
   "cell_type": "markdown",
   "id": "ae84d52d-ded5-4d51-b869-5b21bda8a4be",
   "metadata": {
    "jp-MarkdownHeadingCollapsed": true
   },
   "source": [
    "## Empezaremos con el analisis de la bases de datos de los grados de primaria\n",
    "\n",
    "*Primero vamos a ir haciendo distintos analisis que describiran el estado de la base de datos en primaria*"
   ]
  },
  {
   "cell_type": "code",
   "execution_count": null,
   "id": "da59a2c4",
   "metadata": {},
   "outputs": [],
   "source": [
    "# Estas librerias se ejecuntan en esta parte porque corrompen el codigo\n",
    "library(ppcor)\n",
    "library(corrplot)\n",
    "library(tidyr)\n",
    "library(fdth)\n",
    "library(\"moments\")"
   ]
  },
  {
   "cell_type": "code",
   "execution_count": null,
   "id": "cbe8fdb5-483f-47f2-bdd6-db55d2e68c92",
   "metadata": {},
   "outputs": [],
   "source": [
    "print(\"Tabla de frecuencias de turnos en el nivel primario\")\n",
    "Fa <- table(Notas_Victoria_primaria$turno)\n",
    "Fr <- prop.table(Fa)\n",
    "fip <- prop.table(Fa)*100\n",
    "FA <- cumsum(Fa)\n",
    "FR <- cumsum(Fr)\n",
    "tabla_frecuencias_turno <- round(cbind(Fa, Fr, fip,FA, FR),2)\n",
    "tabla_frecuencias_turno\n",
    "\n",
    "# Gráfico de sectores de los turnos\n",
    "pie_commute <- round(100* table(Notas_Victoria_primaria$turno) / length(Notas_Victoria_primaria$turno))\n",
    "colors = c('#ffeb3b', '#ff6e40','#ed2f52')\n",
    "pie(pie_commute, labels = paste0(names(pie_commute),'\\n', pie_commute, ' %'),\n",
    "    col = colors,\n",
    "    radius = .90,\n",
    "    main = \"Distribucion Porcentual de la Matricula de 2023\n",
    "    en el departamento Victoria en cada \n",
    "    turno en el nivel primario\",\n",
    "    col.main = \"black\",\n",
    "    border = 'black')"
   ]
  },
  {
   "cell_type": "code",
   "execution_count": null,
   "id": "b3d721ac-f7a7-4edf-9718-a8a8d153e2e5",
   "metadata": {},
   "outputs": [],
   "source": [
    "print(\"Tabla de frecuencias de tipo de gestión en el nivel primario\")\n",
    "Fa <- table(Notas_Victoria_primaria$EsPrivada)\n",
    "Fr <- prop.table(Fa)\n",
    "fip <- prop.table(Fa)*100\n",
    "FA <- cumsum(Fa)\n",
    "FR <- cumsum(Fr)\n",
    "tabla_frecuencias_sector <- round(cbind(Fa, Fr, fip,FA, FR),2)\n",
    "tabla_frecuencias_sector\n",
    "\n",
    "# Gráfico de sectores de los tipos de gestion\n",
    "pie_commute <- round(100* table(Notas_Victoria_primaria$EsPrivada) / length(Notas_Victoria_primaria$EsPrivada))\n",
    "colors = c('#2196f3', '#8bc34a')\n",
    "etiquetas <- c(\"Estatal\", \"Privada\")\n",
    "pie(pie_commute, labels = paste0(etiquetas,'\\n', pie_commute, ' %'),\n",
    "    col = colors,\n",
    "    radius = .90,\n",
    "    main = \"Distribucion Porcentual de la Matricula de 2023\n",
    "    en el departamento Victoria por tipo \n",
    "    de gestión en el nivel primario\",\n",
    "    col.main = \"black\",\n",
    "    border = 'black')"
   ]
  },
  {
   "cell_type": "code",
   "execution_count": null,
   "id": "d493599d-74a4-429d-b525-4c3e078604da",
   "metadata": {},
   "outputs": [],
   "source": [
    "print(\"Tabla de frecuencias de la condición final en el nivel primario\")\n",
    "Fa <- table(Notas_Victoria_primaria$Condición)\n",
    "Fr <- prop.table(Fa)\n",
    "fip <- prop.table(Fa)*100\n",
    "FA <- cumsum(Fa)\n",
    "FR <- cumsum(Fr)\n",
    "tabla_frecuencias_condicion <- round(cbind(Fa, Fr, fip,FA, FR),2)\n",
    "tabla_frecuencias_condicion\n",
    "\n",
    "# Gráfico de sectores de las condiciones finales\n",
    "pie_commute <- round(100* table(Notas_Victoria_primaria$Condición) / length(Notas_Victoria_primaria$Condición))\n",
    "colors <- c('#3333FF', '#FF2B00')\n",
    "pie(pie_commute, labels = paste0(names(pie_commute),'\\n', pie_commute, ' %'),\n",
    "    col = colors,\n",
    "    radius = .90,\n",
    "    main = \"Distribucion Porcentual de la Matricula de 2023 en\n",
    "    el departamento Victoria segun la condición\n",
    "    final en el nivel primario\",\n",
    "    col.main = \"black\",\n",
    "    border = 'black')"
   ]
  },
  {
   "cell_type": "code",
   "execution_count": null,
   "id": "caf4a987-f0ea-4333-8f9c-e89f4f9e2e8c",
   "metadata": {},
   "outputs": [],
   "source": [
    "aux <- distinct(Notas_Victoria_primaria, idalumno, .keep_all = TRUE)\n",
    "print(\"Tabla de frecuencias de los matriculados por grado en el nivel primario\")\n",
    "Fa <- table(aux$Año_curso)\n",
    "Fr <- prop.table(Fa)\n",
    "fip <- prop.table(Fa)*100\n",
    "FA <- cumsum(Fa)\n",
    "FR <- cumsum(Fr)\n",
    "tabla_frecuencias_cursos <- round(cbind(Fa, Fr, fip,FA, FR),2)\n",
    "tabla_frecuencias_cursos\n",
    "\n",
    "# Gráfico de barras de las frecuencias absolutas por grado\n",
    "datos <- table(aux$Año_curso)\n",
    "tabla_años <- as.data.frame(datos)\n",
    "names(tabla_años) <- c(\"Año\", \"Freq\")\n",
    "\n",
    "tabla_años <- tabla_años %>%\n",
    "  arrange(factor(Año, levels = c('PRIMERO', 'SEGUNDO', 'TERCERO', 'CUARTO', 'QUINTO', 'SEXTO')))\n",
    "barplot(tabla_años$Freq, \n",
    "        names.arg = tabla_años$Año, \n",
    "        main = \"Frecuencias absolutas de estudiantes por grado en primaria\",\n",
    "        col = rainbow(6), \n",
    "        ylim = c(0, 600), \n",
    "        las = 1, \n",
    "        cex.names = 0.9)\n",
    "text(x = 1:length(tabla_años$Año), \n",
    "     y = tabla_años$Freq + 40,\n",
    "     labels = tabla_años$Freq, \n",
    "     pos = 1,\n",
    "     cex = 1,\n",
    "     col = \"black\")"
   ]
  },
  {
   "cell_type": "markdown",
   "id": "d7682f22-d263-4e1d-9f0f-9a114911f803",
   "metadata": {
    "jp-MarkdownHeadingCollapsed": true
   },
   "source": [
    "## Análisis de primer grado"
   ]
  },
  {
   "cell_type": "code",
   "execution_count": null,
   "id": "b40d0517-4ae2-4e13-9207-ba3c3fdb2f0c",
   "metadata": {},
   "outputs": [],
   "source": [
    "print(\"Medidas estadisticas descriptivas de primer grado\")\n",
    "Notas_Victoria_1Grado %>%\n",
    "  filter(asignatura == \"CIENCIAS NATURALES\" | asignatura == \"CIENCIAS SOCIALES\" | asignatura == \"MATEMATICA\" | asignatura == \"LENGUA\") %>% \n",
    "  group_by(asignatura) %>%\n",
    "  summarise(Conteo = n(),\n",
    "            Media = round(mean(Promedio, na.rm = TRUE), 2),\n",
    "            Mediana = round(median(Promedio, na.rm = TRUE), 2),\n",
    "            Moda = Mode(Promedio),            \n",
    "            Varianza = round(var(Promedio, na.rm = TRUE), 2),\n",
    "            Desvio = round(sd(Promedio, na.rm = TRUE), 2),\n",
    "            Minimo = round(min(Promedio, na.rm = TRUE), 2),\n",
    "            Maximo = round(max(Promedio, na.rm = TRUE), 2),\n",
    "            Rango = Maximo - Minimo,\n",
    "            IQR = round(IQR(Promedio, na.rm = TRUE), 2),\n",
    "            Q1 = round(quantile(Promedio, 0.25, na.rm = TRUE), 2),\n",
    "            Q3 = round(quantile(Promedio, 0.75, na.rm = TRUE), 2),\n",
    "            Sup. = round((Q3 + 1.5 * IQR), 2),\n",
    "            Inf. = round((Q1 - 1.5 * IQR), 2),\n",
    "            CoefVar = round(sd(Promedio, na.rm = TRUE) / mean(Promedio, na.rm = TRUE) * 100, 2))"
   ]
  },
  {
   "cell_type": "code",
   "execution_count": null,
   "id": "886c9787-b66b-415c-b69b-e3d1bb7bb034",
   "metadata": {},
   "outputs": [],
   "source": [
    "# Gráfico de boxplot comparativo\n",
    "datos_filtrados <- Notas_Victoria_1Grado %>%\n",
    "  filter(asignatura %in% c(\"CIENCIAS NATURALES\", \"CIENCIAS SOCIALES\", \"MATEMATICA\", \"LENGUA\"))\n",
    "\n",
    "p <- ggplot(datos_filtrados, aes(x = asignatura, y = Promedio, fill = asignatura)) +\n",
    "  geom_boxplot() +\n",
    "  ggtitle(\"                      Comparación de Promedios en materias de primer grado\") +  \n",
    "  labs(\n",
    "    x = \"Materias\",\n",
    "    y = \"Promedios\"\n",
    "  ) +\n",
    "  theme_minimal() +\n",
    "  theme(\n",
    "    axis.text.x = element_text(angle = 45, hjust = 1),\n",
    "    axis.text.y = element_text(color = \"black\"),\n",
    "    legend.position = \"none\"\n",
    "  )\n",
    "print(p)"
   ]
  },
  {
   "cell_type": "code",
   "execution_count": null,
   "id": "f8d301fa-889d-4e42-98b5-58f1b7d50f0b",
   "metadata": {},
   "outputs": [],
   "source": [
    "# Histograma de promedios en matemática\n",
    "notas_mat_primero <- filter(Notas_Victoria_1Grado,asignatura == \"MATEMATICA\")$Promedio\n",
    "histograma_mat <- fdt(notas_mat_primero, breaks= \"Sturges\", na.rm= TRUE)\n",
    "plot(histograma_mat,\n",
    "     type= \"fh\", \n",
    "     col= \"#FF9932\",\n",
    "     main= \"Histograma de los promedios de primer grado\n",
    "     en la materia Matemática\")\n",
    "\n",
    "# Medidas de distribución\n",
    "coef_sim = skewness(notas_mat_primero, na.rm=TRUE)\n",
    "kurtosis = kurtosis(notas_mat_primero, na.rm=TRUE)\n",
    "print(paste0(\"coeficiente de simetría: \", round(coef_sim, 2)))\n",
    "print(paste0(\"kurtosis: \", round(kurtosis, 2)))\n",
    "\n",
    "# Test de normalidad\n",
    "hipotesis_nula <- \"Se distribuyen de forma normal\"\n",
    "hipotesis_alternativa <- \"No se distribuyen de forma normal\"\n",
    "shapiro.test(notas_mat_primero)"
   ]
  },
  {
   "cell_type": "code",
   "execution_count": null,
   "id": "71778f0b-b9b4-4320-b550-e8c10001d3bb",
   "metadata": {},
   "outputs": [],
   "source": [
    "# Histograma de promedios en lengua\n",
    "notas_len_primero <- filter(Notas_Victoria_1Grado,asignatura == \"LENGUA\")$Promedio\n",
    "histograma_len <- fdt(notas_len_primero, breaks= \"Sturges\", na.rm= TRUE)\n",
    "plot(histograma_len,\n",
    "     type= \"fh\", \n",
    "     col= \"#FF86FF\",\n",
    "     main= \"Histograma de los promedios de primer grado\n",
    "     en la materia Lengua\")\n",
    "\n",
    "# Medidas de distribución\n",
    "coef_sim = skewness(notas_len_primero, na.rm=TRUE)\n",
    "kurtosis = kurtosis(notas_len_primero, na.rm=TRUE)\n",
    "print(paste0(\"coeficiente de simetría: \", round(coef_sim, 2)))\n",
    "print(paste0(\"kurtosis: \", round(kurtosis, 2)))\n",
    "\n",
    "# Test de normalidad\n",
    "hipotesis_nula <- \"Se distribuyen de forma normal\"\n",
    "hipotesis_alternativa <- \"No se distribuyen de forma normal\"\n",
    "shapiro.test(notas_len_primero)"
   ]
  },
  {
   "cell_type": "code",
   "execution_count": null,
   "id": "56e9d0e1-71c9-4571-97f8-75ecf8a3e012",
   "metadata": {},
   "outputs": [],
   "source": [
    "# Histograma de promedios en ciencias naturales\n",
    "notas_nat_primero <- filter(Notas_Victoria_1Grado,asignatura == \"CIENCIAS NATURALES\")$Promedio\n",
    "histograma_nat <- fdt(notas_nat_primero, breaks= \"Sturges\", na.rm= TRUE)\n",
    "plot(histograma_nat,\n",
    "     type= \"fh\", \n",
    "     col= \"#00BB00\",\n",
    "     main= \"Histograma de los promedios de primer grado\n",
    "     en la materia Ciencias Naturales\")\n",
    "\n",
    "# Medidas de distribución\n",
    "coef_sim = skewness(notas_nat_primero, na.rm=TRUE)\n",
    "kurtosis = kurtosis(notas_nat_primero, na.rm=TRUE)\n",
    "print(paste0(\"coeficiente de simetría: \", round(coef_sim, 2)))\n",
    "print(paste0(\"kurtosis: \", round(kurtosis, 2)))\n",
    "\n",
    "# Test de normalidad\n",
    "hipotesis_nula <- \"Se distribuyen de forma normal\"\n",
    "hipotesis_alternativa <- \"No se distribuyen de forma normal\"\n",
    "shapiro.test(notas_nat_primero)"
   ]
  },
  {
   "cell_type": "code",
   "execution_count": null,
   "id": "0e0afea3-4036-4333-82aa-5915ffc3c9e7",
   "metadata": {},
   "outputs": [],
   "source": [
    "# Histograma de promedios en ciencias sociales\n",
    "notas_soc_primero <- filter(Notas_Victoria_1Grado,asignatura == \"CIENCIAS SOCIALES\")$Promedio\n",
    "histograma_soc <- fdt(notas_soc_primero, breaks= \"Sturges\", na.rm= TRUE)\n",
    "plot(histograma_soc,\n",
    "     type= \"fh\", \n",
    "     col= \"#3D87FF\",\n",
    "     main= \"Histograma de los promedios de primer grado\n",
    "     en la materia Ciencia Sociales\")\n",
    "\n",
    "# Medidas de distribución\n",
    "coef_sim = skewness(notas_soc_primero, na.rm=TRUE)\n",
    "kurtosis = kurtosis(notas_soc_primero, na.rm=TRUE)\n",
    "print(paste0(\"coeficiente de simetría: \", round(coef_sim, 2)))\n",
    "print(paste0(\"kurtosis: \", round(kurtosis, 2)))\n",
    "\n",
    "# Tests de normalidad\n",
    "hipotesis_nula <- \"Se distribuyen de forma normal\"\n",
    "hipotesis_alternativa <- \"No se distribuyen de forma normal\"\n",
    "shapiro.test(notas_soc_primero)"
   ]
  },
  {
   "cell_type": "code",
   "execution_count": null,
   "id": "a556fa22-f6a3-416d-84e8-2f941114d0df",
   "metadata": {},
   "outputs": [],
   "source": [
    "# Unimos en un data frame las materias seleccionadas para calcular correlaciones\n",
    "df <- suppressWarnings(dplyr::select(filter(Notas_Victoria_1Grado,asignatura == \"CIENCIAS NATURALES\"),\"Documento\",\"Promedio\") %>% inner_join(dplyr::select(filter(Notas_Victoria_1Grado,asignatura == \"CIENCIAS SOCIALES\"),\"Documento\",\"Promedio\"),by=\"Documento\")%>% inner_join(dplyr::select(filter(Notas_Victoria_1Grado,asignatura == \"MATEMATICA\"),\"Documento\",\"Promedio\"),by=\"Documento\")%>% inner_join(dplyr::select(filter(Notas_Victoria_1Grado,asignatura == \"LENGUA\"),\"Documento\",\"Promedio\"),by=\"Documento\")%>% inner_join(dplyr::select(filter(Notas_Victoria_1Grado,asignatura == \"EDUCACION FISICA\"),\"Documento\",\"Promedio\"),by=\"Documento\")%>% inner_join(dplyr::select(filter(Notas_Victoria_1Grado,asignatura == \"EDUCACION MUSICAL\"),\"Documento\",\"Promedio\"),by=\"Documento\")%>% inner_join(dplyr::select(filter(Notas_Victoria_1Grado,asignatura == \"EDUCACION TECNOLOGICA\"),\"Documento\",\"Promedio\"),by=\"Documento\")%>% inner_join(dplyr::select(filter(Notas_Victoria_1Grado,asignatura == \"ARTES VISUALES\"),\"Documento\",\"Promedio\"),by=\"Documento\"))\n",
    "df <- rename(df,Prom_Nat=Promedio.x, Prom_Soc=Promedio.y, Prom_Mat=Promedio.x.x, Prom_Len=Promedio.y.y, Prom_EdFisica=Promedio.x.x.x, Prom_Mus=Promedio.y.y.y, Prom_Tecno=Promedio.x.x.x.x, Prom_Art=Promedio.y.y.y.y)"
   ]
  },
  {
   "cell_type": "code",
   "execution_count": null,
   "id": "8a70b147-3803-4e19-8110-0fcff1180a8d",
   "metadata": {},
   "outputs": [],
   "source": [
    "# Gráfico de la matriz de correlación\n",
    "matriz_correlacion <- cor(df[, -1], method=\"spearman\")\n",
    "corrplot(matriz_correlacion, method = \"color\", type = \"upper\", \n",
    "         addCoef.col = \"black\", tl.col = \"black\", tl.srt = 45)\n",
    "title(\"Matriz de correlación\", cex.main = 1.5)\n",
    "\n",
    "# Gráfico de correlación parcial\n",
    "variables <- c(\"Prom_Nat\", \"Prom_Soc\", \"Prom_Mat\", \"Prom_Len\")\n",
    "dataM <- df[, variables]\n",
    "correlacion_parcial <- pcor(dataM, method = \"pearson\")$estimate\n",
    "corrplot(correlacion_parcial, method = \"color\", type = \"upper\", \n",
    "         addCoef.col = \"black\", tl.col = \"black\", tl.srt = 45)\n",
    "title(\"Correlación parcial\", cex.main = 1.5)"
   ]
  },
  {
   "cell_type": "markdown",
   "id": "7c5918e5-5afe-4c26-a8fe-8c248ef124b3",
   "metadata": {
    "jp-MarkdownHeadingCollapsed": true
   },
   "source": [
    "## Análisis de Segundo grado"
   ]
  },
  {
   "cell_type": "code",
   "execution_count": null,
   "id": "b9ae575f-e450-4172-b11f-c07121ddb885",
   "metadata": {},
   "outputs": [],
   "source": [
    "print(\"Medidas estadisticas descriptivas de segundo grado\")\n",
    "Notas_Victoria_2Grado %>%\n",
    "  filter(asignatura == \"CIENCIAS NATURALES\" | asignatura == \"CIENCIAS SOCIALES\" | asignatura == \"MATEMATICA\" | asignatura == \"LENGUA\") %>% \n",
    "  group_by(asignatura) %>%\n",
    "  summarise(Conteo = n(),\n",
    "            Media = round(mean(Promedio, na.rm = TRUE), 2),\n",
    "            Mediana = round(median(Promedio, na.rm = TRUE), 2),\n",
    "            Moda = Mode(Promedio),            \n",
    "            Varianza = round(var(Promedio, na.rm = TRUE), 2),\n",
    "            Desvio = round(sd(Promedio, na.rm = TRUE), 2),\n",
    "            Minimo = round(min(Promedio, na.rm = TRUE), 2),\n",
    "            Maximo = round(max(Promedio, na.rm = TRUE), 2),\n",
    "            Rango = Maximo - Minimo,\n",
    "            IQR = round(IQR(Promedio, na.rm = TRUE), 2),\n",
    "            Q1 = round(quantile(Promedio, 0.25, na.rm = TRUE), 2),\n",
    "            Q3 = round(quantile(Promedio, 0.75, na.rm = TRUE), 2),\n",
    "            Sup. = round((Q3 + 1.5 * IQR), 2),\n",
    "            Inf. = round((Q1 - 1.5 * IQR), 2),\n",
    "            CoefVar = round(sd(Promedio, na.rm = TRUE) / mean(Promedio, na.rm = TRUE) * 100, 2))"
   ]
  },
  {
   "cell_type": "code",
   "execution_count": null,
   "id": "a027faf7-9289-4ed1-9084-e53ebbd918cb",
   "metadata": {},
   "outputs": [],
   "source": [
    "# Gráfico de boxplot comparativo\n",
    "datos_filtrados <- Notas_Victoria_2Grado %>%\n",
    "  filter(asignatura %in% c(\"CIENCIAS NATURALES\", \"CIENCIAS SOCIALES\", \"MATEMATICA\", \"LENGUA\"))\n",
    "\n",
    "p <- ggplot(datos_filtrados, aes(x = asignatura, y = Promedio, fill = asignatura)) +\n",
    "  geom_boxplot() +\n",
    "  ggtitle(\"                      Comparación de Promedios en materias de segundo grado\") +  \n",
    "  labs(\n",
    "    x = \"Materias\",\n",
    "    y = \"Promedios\"\n",
    "  ) +\n",
    "  theme_minimal() +\n",
    "  theme(\n",
    "    axis.text.x = element_text(angle = 45, hjust = 1),\n",
    "    axis.text.y = element_text(color = \"black\"),\n",
    "    legend.position = \"none\"\n",
    "  )\n",
    "print(p)"
   ]
  },
  {
   "cell_type": "code",
   "execution_count": null,
   "id": "73184275-b462-466b-9493-c86af447f9ba",
   "metadata": {},
   "outputs": [],
   "source": [
    "# Histograma de promedios en matemática\n",
    "notas_mat_segundo <- filter(Notas_Victoria_2Grado,asignatura == \"MATEMATICA\")$Promedio\n",
    "histograma_mat <- fdt(notas_mat_segundo, breaks= \"Sturges\", na.rm= TRUE)\n",
    "plot(histograma_mat,\n",
    "     type= \"fh\", \n",
    "     col= \"#FF9932\",\n",
    "     main= \"Histograma de los promedios de segundo grado\n",
    "     en la materia Matemática\")\n",
    "\n",
    "# Medidas de distribución\n",
    "coef_sim = skewness(notas_mat_segundo, na.rm=TRUE)\n",
    "kurtosis = kurtosis(notas_mat_segundo, na.rm=TRUE)\n",
    "print(paste0(\"coeficiente de simetría: \", round(coef_sim, 2)))\n",
    "print(paste0(\"kurtosis: \", round(kurtosis, 2)))\n",
    "\n",
    "# Test de normalidad\n",
    "hipotesis_nula <- \"Se distribuyen de forma normal\"\n",
    "hipotesis_alternativa <- \"No se distribuyen de forma normal\"\n",
    "shapiro.test(notas_mat_segundo)"
   ]
  },
  {
   "cell_type": "code",
   "execution_count": null,
   "id": "7b6df783-f55f-449d-831c-a9013f154a3a",
   "metadata": {},
   "outputs": [],
   "source": [
    "# Histograma de promedios en lengua\n",
    "notas_len_segundo <- filter(Notas_Victoria_2Grado,asignatura == \"LENGUA\")$Promedio\n",
    "histograma_len <- fdt(notas_len_segundo, breaks= \"Sturges\", na.rm= TRUE)\n",
    "plot(histograma_len,\n",
    "     type= \"fh\", \n",
    "     col= \"#FF86FF\",\n",
    "     main= \"Histograma de los promedios de segundo grado\n",
    "     en la materia Lengua\")\n",
    "\n",
    "# Medidas de distribución\n",
    "coef_sim = skewness(notas_len_segundo, na.rm=TRUE)\n",
    "kurtosis = kurtosis(notas_len_segundo, na.rm=TRUE)\n",
    "print(paste0(\"coeficiente de simetría: \", round(coef_sim, 2)))\n",
    "print(paste0(\"kurtosis: \", round(kurtosis, 2)))\n",
    "\n",
    "# Test de normalidad\n",
    "hipotesis_nula <- \"Se distribuyen de forma normal\"\n",
    "hipotesis_alternativa <- \"No se distribuyen de forma normal\"\n",
    "shapiro.test(notas_len_segundo)"
   ]
  },
  {
   "cell_type": "code",
   "execution_count": null,
   "id": "18a4ae66-4cd1-49b7-a008-bf14b23087ec",
   "metadata": {},
   "outputs": [],
   "source": [
    "# Histograma de promedios en ciencias naturales\n",
    "notas_nat_segundo <- filter(Notas_Victoria_2Grado,asignatura == \"CIENCIAS NATURALES\")$Promedio\n",
    "histograma_nat <- fdt(notas_nat_segundo, breaks= \"Sturges\", na.rm= TRUE)\n",
    "plot(histograma_nat,\n",
    "     type= \"fh\", \n",
    "     col= \"#00BB00\",\n",
    "     main= \"Histograma de los promedios de segundo grado\n",
    "     en la materia Ciencias Naturales\")\n",
    "\n",
    "# Medidas de distribución\n",
    "coef_sim = skewness(notas_nat_segundo, na.rm=TRUE)\n",
    "kurtosis = kurtosis(notas_nat_segundo, na.rm=TRUE)\n",
    "print(paste0(\"coeficiente de simetría: \", round(coef_sim, 2)))\n",
    "print(paste0(\"kurtosis: \", round(kurtosis, 2)))\n",
    "\n",
    "# Test de normalidad\n",
    "hipotesis_nula <- \"Se distribuyen de forma normal\"\n",
    "hipotesis_alternativa <- \"No se distribuyen de forma normal\"\n",
    "shapiro.test(notas_nat_segundo)"
   ]
  },
  {
   "cell_type": "code",
   "execution_count": null,
   "id": "ffaa77aa-7888-46e1-8f00-b7aa51dea8d9",
   "metadata": {},
   "outputs": [],
   "source": [
    "# Histograma de promedios en ciencias sociales\n",
    "notas_soc_segundo <- filter(Notas_Victoria_2Grado,asignatura == \"CIENCIAS SOCIALES\")$Promedio\n",
    "histograma_soc <- fdt(notas_soc_segundo, breaks= \"Sturges\", na.rm= TRUE)\n",
    "plot(histograma_soc,\n",
    "     type= \"fh\", \n",
    "     col= \"#3D87FF\",\n",
    "     main= \"Histograma de los promedios de segundo grado\n",
    "     en la materia Ciencias Sociales\")\n",
    "\n",
    "# Medidas de distribución\n",
    "coef_sim = skewness(notas_soc_segundo, na.rm=TRUE)\n",
    "kurtosis = kurtosis(notas_soc_segundo, na.rm=TRUE)\n",
    "print(paste0(\"coeficiente de simetría: \", round(coef_sim, 2)))\n",
    "print(paste0(\"kurtosis: \", round(kurtosis, 2)))\n",
    "\n",
    "# Test de normalidad\n",
    "hipotesis_nula <- \"Se distribuyen de forma normal\"\n",
    "hipotesis_alternativa <- \"No se distribuyen de forma normal\"\n",
    "shapiro.test(notas_soc_segundo)"
   ]
  },
  {
   "cell_type": "code",
   "execution_count": null,
   "id": "0dcd6d70-9dbe-41e3-8cd0-537752d09f34",
   "metadata": {},
   "outputs": [],
   "source": [
    "# Unimos en un data frame las materias seleccionadas para calcular correlaciones\n",
    "df <- suppressWarnings(dplyr::select(filter(Notas_Victoria_2Grado,asignatura == \"CIENCIAS NATURALES\"),\"Documento\",\"Promedio\") %>% inner_join(dplyr::select(filter(Notas_Victoria_2Grado,asignatura == \"CIENCIAS SOCIALES\"),\"Documento\",\"Promedio\"),by=\"Documento\")%>% inner_join(dplyr::select(filter(Notas_Victoria_2Grado,asignatura == \"MATEMATICA\"),\"Documento\",\"Promedio\"),by=\"Documento\")%>% inner_join(dplyr::select(filter(Notas_Victoria_2Grado,asignatura == \"LENGUA\"),\"Documento\",\"Promedio\"),by=\"Documento\")%>% inner_join(dplyr::select(filter(Notas_Victoria_2Grado,asignatura == \"EDUCACION FISICA\"),\"Documento\",\"Promedio\"),by=\"Documento\")%>% inner_join(dplyr::select(filter(Notas_Victoria_2Grado,asignatura == \"EDUCACION MUSICAL\"),\"Documento\",\"Promedio\"),by=\"Documento\")%>% inner_join(dplyr::select(filter(Notas_Victoria_2Grado,asignatura == \"EDUCACION TECNOLOGICA\"),\"Documento\",\"Promedio\"),by=\"Documento\")%>% inner_join(dplyr::select(filter(Notas_Victoria_2Grado,asignatura == \"ARTES VISUALES\"),\"Documento\",\"Promedio\"),by=\"Documento\"))\n",
    "df <- rename(df,Prom_Nat=Promedio.x, Prom_Soc=Promedio.y, Prom_Mat=Promedio.x.x, Prom_Len=Promedio.y.y, Prom_EdFisica=Promedio.x.x.x, Prom_Mus=Promedio.y.y.y, Prom_Tecno=Promedio.x.x.x.x, Prom_Art=Promedio.y.y.y.y)"
   ]
  },
  {
   "cell_type": "code",
   "execution_count": null,
   "id": "4f0b4a15-73c7-4477-9528-1c19dd40e7c9",
   "metadata": {},
   "outputs": [],
   "source": [
    "# Gráfico de la matriz de correlación\n",
    "matriz_correlacion <- cor(df[, -1], method=\"spearman\")\n",
    "corrplot(matriz_correlacion, method = \"color\", type = \"upper\", \n",
    "         addCoef.col = \"black\", tl.col = \"black\", tl.srt = 45)\n",
    "title(\"Matriz de correlación\", cex.main = 1.5)\n",
    "\n",
    "# Gráfico de correlación parcial\n",
    "variables <- c(\"Prom_Nat\", \"Prom_Soc\",\"Prom_Mat\", \"Prom_Len\", \"Prom_Mus\", \"Prom_Tecno\")\n",
    "dataM <- df[, variables]\n",
    "correlacion_parcial <- pcor(dataM, method = \"pearson\")$estimate\n",
    "corrplot(correlacion_parcial, method = \"color\", type = \"upper\", \n",
    "         addCoef.col = \"black\", tl.col = \"black\", tl.srt = 45)\n",
    "title(\"Correlación parcial\", cex.main = 1.5)"
   ]
  },
  {
   "cell_type": "markdown",
   "id": "07c1ad42-6f20-4037-a0f6-f5df24a41ff6",
   "metadata": {},
   "source": [
    "## Análisis de Tercer grado"
   ]
  },
  {
   "cell_type": "code",
   "execution_count": null,
   "id": "8fe65d03-781b-4ac9-86fb-f42c7c080c9c",
   "metadata": {},
   "outputs": [],
   "source": [
    "print(\"Medidas estadisticas descriptivas de tercer grado\")\n",
    "Notas_Victoria_3Grado %>%\n",
    "  filter(asignatura == \"CIENCIAS NATURALES\" | asignatura == \"CIENCIAS SOCIALES\" | asignatura == \"MATEMATICA\" | asignatura == \"LENGUA\") %>% \n",
    "  group_by(asignatura) %>%\n",
    "  summarise(Conteo = n(),\n",
    "            Media = round(mean(Promedio, na.rm = TRUE), 2),\n",
    "            Mediana = round(median(Promedio, na.rm = TRUE), 2),\n",
    "            Moda = Mode(Promedio),            \n",
    "            Varianza = round(var(Promedio, na.rm = TRUE), 2),\n",
    "            Desvio = round(sd(Promedio, na.rm = TRUE), 2),\n",
    "            Minimo = round(min(Promedio, na.rm = TRUE), 2),\n",
    "            Maximo = round(max(Promedio, na.rm = TRUE), 2),\n",
    "            Rango = Maximo - Minimo,\n",
    "            IQR = round(IQR(Promedio, na.rm = TRUE), 2),\n",
    "            Q1 = round(quantile(Promedio, 0.25, na.rm = TRUE), 2),\n",
    "            Q3 = round(quantile(Promedio, 0.75, na.rm = TRUE), 2),\n",
    "            Sup. = round((Q3 + 1.5 * IQR), 2),\n",
    "            Inf. = round((Q1 - 1.5 * IQR), 2),\n",
    "            CoefVar = round(sd(Promedio, na.rm = TRUE) / mean(Promedio, na.rm = TRUE) * 100, 2))"
   ]
  },
  {
   "cell_type": "code",
   "execution_count": null,
   "id": "8e5d0a1b-93f3-42ad-b649-6365fc85f5f9",
   "metadata": {},
   "outputs": [],
   "source": [
    "# Gráfico de boxplot comparativo\n",
    "datos_filtrados <- Notas_Victoria_3Grado %>%\n",
    "  filter(asignatura %in% c(\"CIENCIAS NATURALES\", \"CIENCIAS SOCIALES\", \"MATEMATICA\", \"LENGUA\"))\n",
    "\n",
    "p <- ggplot(datos_filtrados, aes(x = asignatura, y = Promedio, fill = asignatura)) +\n",
    "  geom_boxplot() +\n",
    "  ggtitle(\"                      Comparación de Promedios en materias de tercer grado\") +  \n",
    "  labs(\n",
    "    x = \"Materias\",\n",
    "    y = \"Promedios\"\n",
    "  ) +\n",
    "  theme_minimal() +\n",
    "  theme(\n",
    "    axis.text.x = element_text(angle = 45, hjust = 1),\n",
    "    axis.text.y = element_text(color = \"black\"),\n",
    "    legend.position = \"none\"\n",
    "  )\n",
    "print(p)"
   ]
  },
  {
   "cell_type": "code",
   "execution_count": null,
   "id": "07396461-0e99-46bd-813c-b3ced5f934ff",
   "metadata": {},
   "outputs": [],
   "source": [
    "# Histograma de promedios en matemática\n",
    "notas_mat_tercero <- filter(Notas_Victoria_3Grado,asignatura == \"MATEMATICA\")$Promedio\n",
    "histograma_mat <- fdt(notas_mat_tercero, breaks= \"Sturges\", na.rm= TRUE)\n",
    "plot(histograma_mat,\n",
    "     type= \"fh\", \n",
    "     col= \"#FF9932\",\n",
    "     main= \"Histograma de los promedios de tercer grado\n",
    "     en la materia Matemática\")\n",
    "\n",
    "# Medidas de distribución\n",
    "coef_sim = skewness(notas_mat_tercero, na.rm=TRUE)\n",
    "kurtosis = kurtosis(notas_mat_tercero, na.rm=TRUE)\n",
    "print(paste0(\"coeficiente de simetría: \", round(coef_sim, 2)))\n",
    "print(paste0(\"kurtosis: \", round(kurtosis, 2)))\n",
    "\n",
    "# Test de normalidad\n",
    "hipotesis_nula <- \"Se distribuyen de forma normal\"\n",
    "hipotesis_alternativa <- \"No se distribuyen de forma normal\"\n",
    "shapiro.test(notas_mat_tercero)"
   ]
  },
  {
   "cell_type": "code",
   "execution_count": null,
   "id": "125bac3a-04b7-4c93-adec-683295fdb57a",
   "metadata": {},
   "outputs": [],
   "source": [
    "# Histograma de promedios en lengua\n",
    "notas_len_tercero <- filter(Notas_Victoria_3Grado,asignatura == \"LENGUA\")$Promedio\n",
    "histograma_len <- fdt(notas_len_tercero, breaks= \"Sturges\", na.rm= TRUE)\n",
    "plot(histograma_len,\n",
    "     type= \"fh\", \n",
    "     col= \"#FF86FF\",\n",
    "     main= \"Histograma de los promedios de tercer grado\n",
    "     en la materia Lengua\")\n",
    "\n",
    "# Medidas de distribución\n",
    "coef_sim = skewness(notas_len_tercero, na.rm=TRUE)\n",
    "kurtosis = kurtosis(notas_len_tercero, na.rm=TRUE)\n",
    "print(paste0(\"coeficiente de simetría: \", round(coef_sim, 2)))\n",
    "print(paste0(\"kurtosis: \", round(kurtosis, 2)))\n",
    "\n",
    "# Test de normalidad\n",
    "hipotesis_nula <- \"Se distribuyen de forma normal\"\n",
    "hipotesis_alternativa <- \"No se distribuyen de forma normal\"\n",
    "shapiro.test(notas_len_tercero)"
   ]
  },
  {
   "cell_type": "code",
   "execution_count": null,
   "id": "70d8b2f8-724e-43ad-9e1f-6637924ea56d",
   "metadata": {},
   "outputs": [],
   "source": [
    "# Histograma de promedios en ciencias naturales\n",
    "notas_nat_tercero <- filter(Notas_Victoria_3Grado,asignatura == \"CIENCIAS NATURALES\")$Promedio\n",
    "histograma_nat <- fdt(notas_nat_tercero, breaks= \"Sturges\", na.rm= TRUE)\n",
    "plot(histograma_nat,\n",
    "     type= \"fh\", \n",
    "     col= \"#00BB00\",\n",
    "     main= \"Histograma de los promedios de tercer grado\n",
    "     en la materia Ciencias Naturales\")\n",
    "\n",
    "# Medidas de distribución\n",
    "coef_sim = skewness(notas_nat_tercero, na.rm=TRUE)\n",
    "kurtosis = kurtosis(notas_nat_tercero, na.rm=TRUE)\n",
    "print(paste0(\"coeficiente de simetría: \", round(coef_sim, 2)))\n",
    "print(paste0(\"kurtosis: \", round(kurtosis, 2)))\n",
    "\n",
    "# Test de normalidad\n",
    "hipotesis_nula <- \"Se distribuyen de forma normal\"\n",
    "hipotesis_alternativa <- \"No se distribuyen de forma normal\"\n",
    "shapiro.test(notas_nat_tercero)"
   ]
  },
  {
   "cell_type": "code",
   "execution_count": null,
   "id": "271b35e1-89c7-4cc6-9913-40b35d7247c0",
   "metadata": {},
   "outputs": [],
   "source": [
    "# Histograma de promedios en ciencias sociales\n",
    "notas_soc_tercero <- filter(Notas_Victoria_3Grado,asignatura == \"CIENCIAS SOCIALES\")$Promedio\n",
    "histograma_soc <- fdt(notas_soc_tercero, breaks= \"Sturges\", na.rm= TRUE)\n",
    "plot(histograma_soc,\n",
    "     type= \"fh\", \n",
    "     col= \"#3D87FF\",\n",
    "     main= \"Histograma de los promedios de tercer grado\n",
    "     en la materia Ciencias Sociales\")\n",
    "\n",
    "# Medidas de distribución\n",
    "coef_sim = skewness(notas_soc_tercero, na.rm=TRUE)\n",
    "kurtosis = kurtosis(notas_soc_tercero, na.rm=TRUE)\n",
    "print(paste0(\"coeficiente de simetría: \", round(coef_sim, 2)))\n",
    "print(paste0(\"kurtosis: \", round(kurtosis, 2)))\n",
    "\n",
    "# Test de normalidad\n",
    "hipotesis_nula <- \"Se distribuyen de forma normal\"\n",
    "hipotesis_alternativa <- \"No se distribuyen de forma normal\"\n",
    "shapiro.test(notas_soc_tercero)"
   ]
  },
  {
   "cell_type": "code",
   "execution_count": null,
   "id": "8f070984-fd26-499f-88ce-8c6c5ea70a94",
   "metadata": {},
   "outputs": [],
   "source": [
    "# Unimos en un data frame las materias seleccionadas para calcular correlaciones\n",
    "df <- suppressWarnings(dplyr::select(filter(Notas_Victoria_3Grado,asignatura == \"CIENCIAS NATURALES\"),\"Documento\",\"Promedio\") %>% inner_join(dplyr::select(filter(Notas_Victoria_3Grado,asignatura == \"CIENCIAS SOCIALES\"),\"Documento\",\"Promedio\"),by=\"Documento\")%>% inner_join(dplyr::select(filter(Notas_Victoria_3Grado,asignatura == \"MATEMATICA\"),\"Documento\",\"Promedio\"),by=\"Documento\")%>% inner_join(dplyr::select(filter(Notas_Victoria_3Grado,asignatura == \"LENGUA\"),\"Documento\",\"Promedio\"),by=\"Documento\")%>% inner_join(dplyr::select(filter(Notas_Victoria_3Grado,asignatura == \"EDUCACION FISICA\"),\"Documento\",\"Promedio\"),by=\"Documento\")%>% inner_join(dplyr::select(filter(Notas_Victoria_3Grado,asignatura == \"EDUCACION MUSICAL\"),\"Documento\",\"Promedio\"),by=\"Documento\")%>% inner_join(dplyr::select(filter(Notas_Victoria_3Grado,asignatura == \"EDUCACION TECNOLOGICA\"),\"Documento\",\"Promedio\"),by=\"Documento\")%>% inner_join(dplyr::select(filter(Notas_Victoria_3Grado,asignatura == \"ARTES VISUALES\"),\"Documento\",\"Promedio\"),by=\"Documento\"))\n",
    "df <- rename(df,Prom_Nat=Promedio.x, Prom_Soc=Promedio.y, Prom_Mat=Promedio.x.x, Prom_Len=Promedio.y.y, Prom_EdFisica=Promedio.x.x.x, Prom_Mus=Promedio.y.y.y, Prom_Tecno=Promedio.x.x.x.x, Prom_Art=Promedio.y.y.y.y)"
   ]
  },
  {
   "cell_type": "code",
   "execution_count": null,
   "id": "54c9f0ad-18fe-4927-a58e-2702e1e60ea3",
   "metadata": {},
   "outputs": [],
   "source": [
    "# Gráfico de la matriz de correlación\n",
    "matriz_correlacion <- cor(df[, -1], method=\"spearman\")\n",
    "corrplot(matriz_correlacion, method = \"color\", type = \"upper\", \n",
    "         addCoef.col = \"black\", tl.col = \"black\", tl.srt = 45)\n",
    "title(\"Matriz de correlación\", cex.main = 1.5)"
   ]
  },
  {
   "cell_type": "code",
   "execution_count": null,
   "id": "1538d2f6-a39c-4579-ac0a-d4879814eb12",
   "metadata": {},
   "outputs": [],
   "source": [
    "# Gráfico de correlación parcial\n",
    "variables <- c(\"Prom_Nat\", \"Prom_Soc\",\"Prom_Mat\", \"Prom_Len\", \"Prom_Mus\", \"Prom_Tecno\", \"Prom_Art\")\n",
    "dataM <- df[, variables]\n",
    "correlacion_parcial <- pcor(dataM, method = \"pearson\")$estimate\n",
    "corrplot(correlacion_parcial, method = \"color\", type = \"upper\", \n",
    "         addCoef.col = \"black\", tl.col = \"black\", tl.srt = 45)\n",
    "title(\"Correlación parcial\", cex.main = 1.5)"
   ]
  },
  {
   "cell_type": "markdown",
   "id": "5b7b6806-d59c-4794-820b-cef84e6601e9",
   "metadata": {
    "jp-MarkdownHeadingCollapsed": true
   },
   "source": [
    "## Análisis de Cuarto grado"
   ]
  },
  {
   "cell_type": "code",
   "execution_count": null,
   "id": "87fc0544-3a27-4cc4-ab00-81e9c7871acf",
   "metadata": {},
   "outputs": [],
   "source": [
    "print(\"Medidas estadisticas descriptivas de cuarto grado\")\n",
    "Notas_Victoria_4Grado %>%\n",
    "  filter(asignatura == \"CIENCIAS NATURALES\" | asignatura == \"CIENCIAS SOCIALES\" | asignatura == \"MATEMATICA\" | asignatura == \"LENGUA\") %>% \n",
    "  group_by(asignatura) %>%\n",
    "  summarise(Conteo = n(),\n",
    "            Media = round(mean(Promedio, na.rm = TRUE), 2),\n",
    "            Mediana = round(median(Promedio, na.rm = TRUE), 2),\n",
    "            Moda = Mode(Promedio),            \n",
    "            Varianza = round(var(Promedio, na.rm = TRUE), 2),\n",
    "            Desvio = round(sd(Promedio, na.rm = TRUE), 2),\n",
    "            Minimo = round(min(Promedio, na.rm = TRUE), 2),\n",
    "            Maximo = round(max(Promedio, na.rm = TRUE), 2),\n",
    "            Rango = Maximo - Minimo,\n",
    "            IQR = round(IQR(Promedio, na.rm = TRUE), 2),\n",
    "            Q1 = round(quantile(Promedio, 0.25, na.rm = TRUE), 2),\n",
    "            Q3 = round(quantile(Promedio, 0.75, na.rm = TRUE), 2),\n",
    "            Sup. = round((Q3 + 1.5 * IQR), 2),\n",
    "            Inf. = round((Q1 - 1.5 * IQR), 2),\n",
    "            CoefVar = round(sd(Promedio, na.rm = TRUE) / mean(Promedio, na.rm = TRUE) * 100, 2))"
   ]
  },
  {
   "cell_type": "code",
   "execution_count": null,
   "id": "78ae11fb-a4b8-4735-b699-4ac7f0d5292d",
   "metadata": {},
   "outputs": [],
   "source": [
    "# Gráfico de boxplot comparativo\n",
    "datos_filtrados <- Notas_Victoria_4Grado %>%\n",
    "  filter(asignatura %in% c(\"CIENCIAS NATURALES\", \"CIENCIAS SOCIALES\", \"MATEMATICA\", \"LENGUA\"))\n",
    "\n",
    "p <- ggplot(datos_filtrados, aes(x = asignatura, y = Promedio, fill = asignatura)) +\n",
    "  geom_boxplot() +\n",
    "  ggtitle(\"                      Comparación de Promedios en materias de cuarto grado\") +  \n",
    "  labs(\n",
    "    x = \"Materias\",\n",
    "    y = \"Promedios\"\n",
    "  ) +\n",
    "  theme_minimal() +\n",
    "  theme(\n",
    "    axis.text.x = element_text(angle = 45, hjust = 1),\n",
    "    axis.text.y = element_text(color = \"black\"),\n",
    "    legend.position = \"none\"\n",
    "  )\n",
    "print(p)"
   ]
  },
  {
   "cell_type": "code",
   "execution_count": null,
   "id": "ac3f45f1-d5d6-48d9-9fee-5330354c4359",
   "metadata": {},
   "outputs": [],
   "source": [
    "# Histograma de promedios en matemática\n",
    "notas_mat_cuarto <- filter(Notas_Victoria_4Grado,asignatura == \"MATEMATICA\")$Promedio\n",
    "histograma_mat <- fdt(notas_mat_cuarto, breaks= \"Sturges\", na.rm= TRUE)\n",
    "plot(histograma_mat,\n",
    "     type= \"fh\", \n",
    "     col= \"#FF9932\",\n",
    "     main= \"Histograma de los promedios de cuarto grado\n",
    "     en la materia Matemática\")\n",
    "\n",
    "# Medidas de distribución\n",
    "coef_sim = skewness(notas_mat_cuarto, na.rm=TRUE)\n",
    "kurtosis = kurtosis(notas_mat_cuarto, na.rm=TRUE)\n",
    "print(paste0(\"coeficiente de simetría: \", round(coef_sim, 2)))\n",
    "print(paste0(\"kurtosis: \", round(kurtosis, 2)))\n",
    "\n",
    "# Test de normalidad\n",
    "hipotesis_nula <- \"Se distribuyen de forma normal\"\n",
    "hipotesis_alternativa <- \"No se distribuyen de forma normal\"\n",
    "shapiro.test(notas_mat_cuarto)"
   ]
  },
  {
   "cell_type": "code",
   "execution_count": null,
   "id": "f38d6c5d-ff80-4a5c-96fd-19f07b382f7e",
   "metadata": {},
   "outputs": [],
   "source": [
    "# Histograma de promedios en lengua\n",
    "notas_len_cuarto <- filter(Notas_Victoria_4Grado,asignatura == \"LENGUA\")$Promedio\n",
    "histograma_len <- fdt(notas_len_cuarto, breaks= \"Sturges\", na.rm= TRUE)\n",
    "plot(histograma_len,\n",
    "     type= \"fh\", \n",
    "     col= \"#FF86FF\",\n",
    "     main= \"Histograma de los promedios de cuarto grado\n",
    "     en la materia Lengua\")\n",
    "\n",
    "# Medidas de distribución\n",
    "coef_sim = skewness(notas_len_cuarto, na.rm=TRUE)\n",
    "kurtosis = kurtosis(notas_len_cuarto, na.rm=TRUE)\n",
    "print(paste0(\"coeficiente de simetría: \", round(coef_sim, 2)))\n",
    "print(paste0(\"kurtosis: \", round(kurtosis, 2)))\n",
    "\n",
    "# Test de normalidad\n",
    "hipotesis_nula <- \"Se distribuyen de forma normal\"\n",
    "hipotesis_alternativa <- \"No se distribuyen de forma normal\"\n",
    "shapiro.test(notas_len_cuarto)"
   ]
  },
  {
   "cell_type": "code",
   "execution_count": null,
   "id": "0144870d-cc9d-43c6-87d9-ff2761db6c3e",
   "metadata": {},
   "outputs": [],
   "source": [
    "# Histograma de promedios en ciencias naturales\n",
    "notas_nat_cuarto <- filter(Notas_Victoria_4Grado,asignatura == \"CIENCIAS NATURALES\")$Promedio\n",
    "histograma_nat <- fdt(notas_nat_cuarto, breaks= \"Sturges\", na.rm= TRUE)\n",
    "plot(histograma_nat,\n",
    "     type= \"fh\", \n",
    "     col= \"#00BB00\",\n",
    "     main= \"Histograma de los promedios de cuarto grado\n",
    "     en la materia Ciencias Naturales\")\n",
    "\n",
    "# Medidas de distribución\n",
    "coef_sim = skewness(notas_nat_cuarto, na.rm=TRUE)\n",
    "kurtosis = kurtosis(notas_nat_cuarto, na.rm=TRUE)\n",
    "print(paste0(\"coeficiente de simetría: \", round(coef_sim, 2)))\n",
    "print(paste0(\"kurtosis: \", round(kurtosis, 2)))\n",
    "\n",
    "# Test de normalidad\n",
    "hipotesis_nula <- \"Se distribuyen de forma normal\"\n",
    "hipotesis_alternativa <- \"No se distribuyen de forma normal\"\n",
    "shapiro.test(notas_nat_cuarto)"
   ]
  },
  {
   "cell_type": "code",
   "execution_count": null,
   "id": "d29b868f-e774-40dd-a45e-31cb5195ecea",
   "metadata": {},
   "outputs": [],
   "source": [
    "# Histograma de promedios en ciencias sociales\n",
    "notas_soc_cuarto <- filter(Notas_Victoria_4Grado,asignatura == \"CIENCIAS SOCIALES\")$Promedio\n",
    "histograma_soc <- fdt(notas_soc_cuarto, breaks= \"Sturges\", na.rm= TRUE)\n",
    "plot(histograma_soc,\n",
    "     type= \"fh\", \n",
    "     col= \"#3D87FF\",\n",
    "     main= \"Histograma de los promedios de cuarto grado\n",
    "     en la materia Ciencias Sociales\")\n",
    "\n",
    "# Medidas de distribución\n",
    "coef_sim = skewness(notas_soc_cuarto, na.rm=TRUE)\n",
    "kurtosis = kurtosis(notas_soc_cuarto, na.rm=TRUE)\n",
    "print(paste0(\"coeficiente de simetría: \", round(coef_sim, 2)))\n",
    "print(paste0(\"kurtosis: \", round(kurtosis, 2)))\n",
    "\n",
    "# Test de normalidad\n",
    "hipotesis_nula <- \"Se distribuyen de forma normal\"\n",
    "hipotesis_alternativa <- \"No se distribuyen de forma normal\"\n",
    "shapiro.test(notas_soc_cuarto)"
   ]
  },
  {
   "cell_type": "code",
   "execution_count": null,
   "id": "9d80d923-a590-4b6f-b00c-05b7fb168801",
   "metadata": {},
   "outputs": [],
   "source": [
    "# Unimos en un data frame las materias seleccionadas para calcular correlaciones\n",
    "df <- suppressWarnings(dplyr::select(filter(Notas_Victoria_4Grado,asignatura == \"CIENCIAS NATURALES\"),\"Documento\",\"Promedio\") %>% inner_join(dplyr::select(filter(Notas_Victoria_4Grado,asignatura == \"CIENCIAS SOCIALES\"),\"Documento\",\"Promedio\"),by=\"Documento\")%>% inner_join(dplyr::select(filter(Notas_Victoria_4Grado,asignatura == \"MATEMATICA\"),\"Documento\",\"Promedio\"),by=\"Documento\")%>% inner_join(dplyr::select(filter(Notas_Victoria_4Grado,asignatura == \"LENGUA\"),\"Documento\",\"Promedio\"),by=\"Documento\")%>% inner_join(dplyr::select(filter(Notas_Victoria_4Grado,asignatura == \"EDUCACION FISICA\"),\"Documento\",\"Promedio\"),by=\"Documento\")%>% inner_join(dplyr::select(filter(Notas_Victoria_4Grado,asignatura == \"EDUCACION MUSICAL\"),\"Documento\",\"Promedio\"),by=\"Documento\")%>% inner_join(dplyr::select(filter(Notas_Victoria_4Grado,asignatura == \"EDUCACION TECNOLOGICA\"),\"Documento\",\"Promedio\"),by=\"Documento\")%>% inner_join(dplyr::select(filter(Notas_Victoria_4Grado,asignatura == \"ARTES VISUALES\"),\"Documento\",\"Promedio\"),by=\"Documento\"))\n",
    "df <- rename(df,Prom_Nat=Promedio.x, Prom_Soc=Promedio.y, Prom_Mat=Promedio.x.x, Prom_Len=Promedio.y.y, Prom_EdFisica=Promedio.x.x.x, Prom_Mus=Promedio.y.y.y, Prom_Tecno=Promedio.x.x.x.x, Prom_Art=Promedio.y.y.y.y)"
   ]
  },
  {
   "cell_type": "code",
   "execution_count": null,
   "id": "403e0448-0574-4727-a6fa-9a2c12f3926c",
   "metadata": {},
   "outputs": [],
   "source": [
    "# Gráfico de la matriz de correlación\n",
    "matriz_correlacion <- cor(df[, -1], method=\"spearman\")\n",
    "corrplot(matriz_correlacion, method = \"color\", type = \"upper\", \n",
    "         addCoef.col = \"black\", tl.col = \"black\", tl.srt = 45)\n",
    "title(\"Matriz de correlación\", cex.main = 1.5)\n",
    "\n",
    "# Gráfico de correlación parcial\n",
    "correlacion_parcial <- pcor(df[, -1], method = \"pearson\")$estimate\n",
    "corrplot(correlacion_parcial, method = \"color\", type = \"upper\", \n",
    "         addCoef.col = \"black\", tl.col = \"black\", tl.srt = 45)\n",
    "title(\"Correlación parcial\", cex.main = 1.5)"
   ]
  },
  {
   "cell_type": "markdown",
   "id": "4b817ace-c4c4-4be5-924f-14f7db40f455",
   "metadata": {
    "jp-MarkdownHeadingCollapsed": true
   },
   "source": [
    "## Análisis de Quinto grado"
   ]
  },
  {
   "cell_type": "code",
   "execution_count": null,
   "id": "0116d638-44bc-4c25-8c2d-2e8129b55751",
   "metadata": {},
   "outputs": [],
   "source": [
    "print(\"Medidas estadisticas descriptivas de quinto grado\")\n",
    "Notas_Victoria_5Grado %>%\n",
    "  filter(asignatura == \"CIENCIAS NATURALES\" | asignatura == \"CIENCIAS SOCIALES\" | asignatura == \"MATEMATICA\" | asignatura == \"LENGUA\") %>% \n",
    "  group_by(asignatura) %>%\n",
    "  summarise(Conteo = n(),\n",
    "            Media = round(mean(Promedio, na.rm = TRUE), 2),\n",
    "            Mediana = round(median(Promedio, na.rm = TRUE), 2),\n",
    "            Moda = Mode(Promedio),            \n",
    "            Varianza = round(var(Promedio, na.rm = TRUE), 2),\n",
    "            Desvio = round(sd(Promedio, na.rm = TRUE), 2),\n",
    "            Minimo = round(min(Promedio, na.rm = TRUE), 2),\n",
    "            Maximo = round(max(Promedio, na.rm = TRUE), 2),\n",
    "            Rango = Maximo - Minimo,\n",
    "            IQR = round(IQR(Promedio, na.rm = TRUE), 2),\n",
    "            Q1 = round(quantile(Promedio, 0.25, na.rm = TRUE), 2),\n",
    "            Q3 = round(quantile(Promedio, 0.75, na.rm = TRUE), 2),\n",
    "            Sup. = round((Q3 + 1.5 * IQR), 2),\n",
    "            Inf. = round((Q1 - 1.5 * IQR), 2),\n",
    "            CoefVar = round(sd(Promedio, na.rm = TRUE) / mean(Promedio, na.rm = TRUE) * 100, 2))"
   ]
  },
  {
   "cell_type": "code",
   "execution_count": null,
   "id": "354b4701-48b0-46ea-888f-7d095b5ad6cc",
   "metadata": {},
   "outputs": [],
   "source": [
    "# Gráfico de boxplot comparativo\n",
    "datos_filtrados <- Notas_Victoria_5Grado %>%\n",
    "  filter(asignatura %in% c(\"CIENCIAS NATURALES\", \"CIENCIAS SOCIALES\", \"MATEMATICA\", \"LENGUA\"))\n",
    "\n",
    "p <- ggplot(datos_filtrados, aes(x = asignatura, y = Promedio, fill = asignatura)) +\n",
    "  geom_boxplot() +\n",
    "  ggtitle(\"                      Comparación de Promedios en materias de quinto grado\") +  \n",
    "  labs(\n",
    "    x = \"Materias\",\n",
    "    y = \"Promedios\"\n",
    "  ) +\n",
    "  theme_minimal() +\n",
    "  theme(\n",
    "    axis.text.x = element_text(angle = 45, hjust = 1),\n",
    "    axis.text.y = element_text(color = \"black\"),\n",
    "    legend.position = \"none\"\n",
    "  )\n",
    "print(p)"
   ]
  },
  {
   "cell_type": "code",
   "execution_count": null,
   "id": "309a6278-da75-4fcb-9a64-3754ff058077",
   "metadata": {},
   "outputs": [],
   "source": [
    "# Histograma de promedios en matemática\n",
    "notas_mat_quinto <- filter(Notas_Victoria_5Grado,asignatura == \"MATEMATICA\")$Promedio\n",
    "histograma_mat <- fdt(notas_mat_quinto, breaks= \"Sturges\", na.rm= TRUE)\n",
    "plot(histograma_mat,\n",
    "     type= \"fh\", \n",
    "     col= \"#FF9932\",\n",
    "     main= \"Histograma de los promedios de quinto grado\n",
    "     en la materia Matemática\")\n",
    "\n",
    "# Medidas de distribución\n",
    "coef_sim = skewness(notas_mat_quinto, na.rm=TRUE)\n",
    "kurtosis = kurtosis(notas_mat_quinto, na.rm=TRUE)\n",
    "print(paste0(\"coeficiente de simetría: \", round(coef_sim, 2)))\n",
    "print(paste0(\"kurtosis: \", round(kurtosis, 2)))\n",
    "\n",
    "# Test de normalidad\n",
    "hipotesis_nula <- \"Se distribuyen de forma normal\"\n",
    "hipotesis_alternativa <- \"No se distribuyen de forma normal\"\n",
    "shapiro.test(notas_mat_quinto)"
   ]
  },
  {
   "cell_type": "code",
   "execution_count": null,
   "id": "e34982b4-49ef-4da8-8f4e-e13604b7aa0c",
   "metadata": {},
   "outputs": [],
   "source": [
    "# Histograma de promedios en lengua\n",
    "notas_len_quinto <- filter(Notas_Victoria_5Grado,asignatura == \"LENGUA\")$Promedio\n",
    "histograma_len <- fdt(notas_len_quinto, breaks= \"Sturges\", na.rm= TRUE)\n",
    "plot(histograma_len,\n",
    "     type= \"fh\", \n",
    "     col= \"#FF86FF\",\n",
    "     main= \"Histograma de los promedios de quinto grado\n",
    "     en la materia Lengua\")\n",
    "\n",
    "# Medidas de distribución\n",
    "coef_sim = skewness(notas_len_quinto, na.rm=TRUE)\n",
    "kurtosis = kurtosis(notas_len_quinto, na.rm=TRUE)\n",
    "print(paste0(\"coeficiente de simetría: \", round(coef_sim, 2)))\n",
    "print(paste0(\"kurtosis: \", round(kurtosis, 2)))\n",
    "\n",
    "# Test de normalidad\n",
    "hipotesis_nula <- \"Se distribuyen de forma normal\"\n",
    "hipotesis_alternativa <- \"No se distribuyen de forma normal\"\n",
    "shapiro.test(notas_len_quinto)"
   ]
  },
  {
   "cell_type": "code",
   "execution_count": null,
   "id": "ba48d646-5361-433c-b6e9-9ce0dd36dad0",
   "metadata": {},
   "outputs": [],
   "source": [
    "# Histograma de promedios en ciencias naturales\n",
    "notas_nat_quinto <- filter(Notas_Victoria_5Grado,asignatura == \"CIENCIAS NATURALES\")$Promedio\n",
    "histograma_nat <- fdt(notas_nat_quinto, breaks= \"Sturges\", na.rm= TRUE)\n",
    "plot(histograma_nat,\n",
    "     type= \"fh\", \n",
    "     col= \"#00BB00\",\n",
    "     main= \"Histograma de los promedios de quinto grado\n",
    "     en la materia Ciencias Naturales\")\n",
    "\n",
    "# Medidas de distribución\n",
    "coef_sim = skewness(notas_nat_quinto, na.rm=TRUE)\n",
    "kurtosis = kurtosis(notas_nat_quinto, na.rm=TRUE)\n",
    "print(paste0(\"coeficiente de simetría: \", round(coef_sim, 2)))\n",
    "print(paste0(\"kurtosis: \", round(kurtosis, 2)))\n",
    "\n",
    "# Test de normalidad\n",
    "hipotesis_nula <- \"Se distribuyen de forma normal\"\n",
    "hipotesis_alternativa <- \"No se distribuyen de forma normal\"\n",
    "shapiro.test(notas_nat_quinto)"
   ]
  },
  {
   "cell_type": "code",
   "execution_count": null,
   "id": "5056a629-5ae2-4474-8ddf-92495c04da10",
   "metadata": {},
   "outputs": [],
   "source": [
    "# Histograma de promedios en ciencias sociales\n",
    "notas_soc_quinto <- filter(Notas_Victoria_5Grado,asignatura == \"CIENCIAS SOCIALES\")$Promedio\n",
    "histograma_soc <- fdt(notas_soc_quinto, breaks= \"Sturges\", na.rm= TRUE)\n",
    "plot(histograma_soc,\n",
    "     type= \"fh\", \n",
    "     col= \"#3D87FF\",\n",
    "     main= \"Histograma de los promedios de quinto grado\n",
    "     en la materia Ciencias Sociales\")\n",
    "\n",
    "# Medidas de distribución\n",
    "coef_sim = skewness(notas_soc_quinto, na.rm=TRUE)\n",
    "kurtosis = kurtosis(notas_soc_quinto, na.rm=TRUE)\n",
    "print(paste0(\"coeficiente de simetría: \", round(coef_sim, 2)))\n",
    "print(paste0(\"kurtosis: \", round(kurtosis, 2)))\n",
    "\n",
    "# Test de normalidad\n",
    "hipotesis_nula <- \"Se distribuyen de forma normal\"\n",
    "hipotesis_alternativa <- \"No se distribuyen de forma normal\"\n",
    "shapiro.test(notas_soc_quinto)"
   ]
  },
  {
   "cell_type": "code",
   "execution_count": null,
   "id": "041d670f-1e48-4e18-b5a3-7650b8113534",
   "metadata": {},
   "outputs": [],
   "source": [
    "# Unimos en un data frame las materias seleccionadas para calcular correlaciones\n",
    "df <- suppressWarnings(dplyr::select(filter(Notas_Victoria_5Grado,asignatura == \"CIENCIAS NATURALES\"),\"Documento\",\"Promedio\") %>% inner_join(dplyr::select(filter(Notas_Victoria_5Grado,asignatura == \"CIENCIAS SOCIALES\"),\"Documento\",\"Promedio\"),by=\"Documento\")%>% inner_join(dplyr::select(filter(Notas_Victoria_5Grado,asignatura == \"MATEMATICA\"),\"Documento\",\"Promedio\"),by=\"Documento\")%>% inner_join(dplyr::select(filter(Notas_Victoria_5Grado,asignatura == \"LENGUA\"),\"Documento\",\"Promedio\"),by=\"Documento\")%>% inner_join(dplyr::select(filter(Notas_Victoria_5Grado,asignatura == \"EDUCACION FISICA\"),\"Documento\",\"Promedio\"),by=\"Documento\")%>% inner_join(dplyr::select(filter(Notas_Victoria_5Grado,asignatura == \"EDUCACION MUSICAL\"),\"Documento\",\"Promedio\"),by=\"Documento\")%>% inner_join(dplyr::select(filter(Notas_Victoria_5Grado,asignatura == \"EDUCACION TECNOLOGICA\"),\"Documento\",\"Promedio\"),by=\"Documento\")%>% inner_join(dplyr::select(filter(Notas_Victoria_5Grado,asignatura == \"ARTES VISUALES\"),\"Documento\",\"Promedio\"),by=\"Documento\"))\n",
    "df <- rename(df,Prom_Nat=Promedio.x, Prom_Soc=Promedio.y, Prom_Mat=Promedio.x.x, Prom_Len=Promedio.y.y, Prom_EdFisica=Promedio.x.x.x, Prom_Mus=Promedio.y.y.y, Prom_Tecno=Promedio.x.x.x.x, Prom_Art=Promedio.y.y.y.y)"
   ]
  },
  {
   "cell_type": "code",
   "execution_count": null,
   "id": "d225f522-3b16-4b8b-abc7-3c579480e25f",
   "metadata": {},
   "outputs": [],
   "source": [
    "# Gráfico de la matriz de correlación\n",
    "matriz_correlacion <- cor(df[, -1], method=\"spearman\")\n",
    "corrplot(matriz_correlacion, method = \"color\", type = \"upper\", \n",
    "         addCoef.col = \"black\", tl.col = \"black\", tl.srt = 45)\n",
    "title(\"Matriz de correlación\", cex.main = 1.5)\n",
    "\n",
    "# Gráfico de correlación parcial\n",
    "variables <- c(\"Prom_Nat\", \"Prom_Soc\", \"Prom_Mat\", \"Prom_Len\", \"Prom_Tecno\")\n",
    "dataM <- df[, variables]\n",
    "correlacion_parcial <- pcor(dataM, method = \"pearson\")$estimate\n",
    "corrplot(correlacion_parcial, method = \"color\", type = \"upper\", \n",
    "         addCoef.col = \"black\", tl.col = \"black\", tl.srt = 45)\n",
    "title(\"Correlación parcial\", cex.main = 1.5)"
   ]
  },
  {
   "cell_type": "markdown",
   "id": "3de86037-b264-45cf-9a34-61e50d765c56",
   "metadata": {
    "jp-MarkdownHeadingCollapsed": true
   },
   "source": [
    "## Análisis de Sexto grado"
   ]
  },
  {
   "cell_type": "code",
   "execution_count": null,
   "id": "09374a73-76e1-404d-87bd-25e0ba65c3e9",
   "metadata": {},
   "outputs": [],
   "source": [
    "print(\"Medidas estadisticas descriptivas de sexto grado\")\n",
    "Notas_Victoria_6Grado %>%\n",
    "  filter(asignatura == \"CIENCIAS NATURALES\" | asignatura == \"CIENCIAS SOCIALES\" | asignatura == \"MATEMATICA\" | asignatura == \"LENGUA\") %>% \n",
    "  group_by(asignatura) %>%\n",
    "  summarise(Conteo = n(),\n",
    "            Media = round(mean(Promedio, na.rm = TRUE), 2),\n",
    "            Mediana = round(median(Promedio, na.rm = TRUE), 2),\n",
    "            Moda = Mode(Promedio),            \n",
    "            Varianza = round(var(Promedio, na.rm = TRUE), 2),\n",
    "            Desvio = round(sd(Promedio, na.rm = TRUE), 2),\n",
    "            Minimo = round(min(Promedio, na.rm = TRUE), 2),\n",
    "            Maximo = round(max(Promedio, na.rm = TRUE), 2),\n",
    "            Rango = Maximo - Minimo,\n",
    "            IQR = round(IQR(Promedio, na.rm = TRUE), 2),\n",
    "            Q1 = round(quantile(Promedio, 0.25, na.rm = TRUE), 2),\n",
    "            Q3 = round(quantile(Promedio, 0.75, na.rm = TRUE), 2),\n",
    "            Sup. = round((Q3 + 1.5 * IQR), 2),\n",
    "            Inf. = round((Q1 - 1.5 * IQR), 2),\n",
    "            CoefVar = round(sd(Promedio, na.rm = TRUE) / mean(Promedio, na.rm = TRUE) * 100, 2))"
   ]
  },
  {
   "cell_type": "code",
   "execution_count": null,
   "id": "39871a57-2373-4866-9b20-e716fb0e0a26",
   "metadata": {},
   "outputs": [],
   "source": [
    "# Gráfico de boxplot comparativo\n",
    "datos_filtrados <- Notas_Victoria_6Grado %>%\n",
    "  filter(asignatura %in% c(\"CIENCIAS NATURALES\", \"CIENCIAS SOCIALES\", \"MATEMATICA\", \"LENGUA\"))\n",
    "\n",
    "p <- ggplot(datos_filtrados, aes(x = asignatura, y = Promedio, fill = asignatura)) +\n",
    "  geom_boxplot() +\n",
    "  ggtitle(\"                      Comparación de Promedios en materias de sexto grado\") +  \n",
    "  labs(\n",
    "    x = \"Materias\",\n",
    "    y = \"Promedios\"\n",
    "  ) +\n",
    "  theme_minimal() +\n",
    "  theme(\n",
    "    axis.text.x = element_text(angle = 45, hjust = 1),\n",
    "    axis.text.y = element_text(color = \"black\"),\n",
    "    legend.position = \"none\"\n",
    "  )\n",
    "print(p)"
   ]
  },
  {
   "cell_type": "code",
   "execution_count": null,
   "id": "d73f5e15-db3c-4525-b1f8-45fee86e1873",
   "metadata": {},
   "outputs": [],
   "source": [
    "# Histograma de promedios en matemática\n",
    "notas_mat_sexto <- filter(Notas_Victoria_6Grado,asignatura == \"MATEMATICA\")$Promedio\n",
    "histograma_mat <- fdt(notas_mat_sexto, breaks= \"Sturges\", na.rm= TRUE)\n",
    "plot(histograma_mat,\n",
    "     type= \"fh\", \n",
    "     col= \"#FF9932\",\n",
    "     main= \"Histograma de los promedios de sexto grado\n",
    "     en la materia Matemática\")\n",
    "\n",
    "# Medidas de distribución\n",
    "coef_sim = skewness(notas_mat_sexto, na.rm=TRUE)\n",
    "kurtosis = kurtosis(notas_mat_sexto, na.rm=TRUE)\n",
    "print(paste0(\"coeficiente de simetría: \", round(coef_sim, 2)))\n",
    "print(paste0(\"kurtosis: \", round(kurtosis, 2)))\n",
    "\n",
    "# Test de normalidad\n",
    "hipotesis_nula <- \"Se distribuyen de forma normal\"\n",
    "hipotesis_alternativa <- \"No se distribuyen de forma normal\"\n",
    "shapiro.test(notas_mat_sexto)"
   ]
  },
  {
   "cell_type": "code",
   "execution_count": null,
   "id": "57d169d8-7d9b-48c0-9d97-e2d5d85dabda",
   "metadata": {},
   "outputs": [],
   "source": [
    "# Histograma de promedios en lengua\n",
    "notas_len_sexto <- filter(Notas_Victoria_6Grado,asignatura == \"LENGUA\")$Promedio\n",
    "histograma_len <- fdt(notas_len_sexto, breaks= \"Sturges\", na.rm= TRUE)\n",
    "plot(histograma_len,\n",
    "     type= \"fh\", \n",
    "     col= \"#FF86FF\",\n",
    "     main= \"Histograma de los promedios de sexto grado\n",
    "     en la materia Lengua\")\n",
    "\n",
    "# Medidas de distribución\n",
    "coef_sim = skewness(notas_len_sexto, na.rm=TRUE)\n",
    "kurtosis = kurtosis(notas_len_sexto, na.rm=TRUE)\n",
    "print(paste0(\"coeficiente de simetría: \", round(coef_sim, 2)))\n",
    "print(paste0(\"kurtosis: \", round(kurtosis, 2)))\n",
    "\n",
    "# Test de normalidad\n",
    "hipotesis_nula <- \"Se distribuyen de forma normal\"\n",
    "hipotesis_alternativa <- \"No se distribuyen de forma normal\"\n",
    "shapiro.test(notas_len_sexto)"
   ]
  },
  {
   "cell_type": "code",
   "execution_count": null,
   "id": "6451cde1-60ac-444b-85ff-680decf4682e",
   "metadata": {},
   "outputs": [],
   "source": [
    "# Histograma de promedios en ciencias naturales\n",
    "notas_nat_sexto <- filter(Notas_Victoria_6Grado,asignatura == \"CIENCIAS NATURALES\")$Promedio\n",
    "histograma_nat <- fdt(notas_nat_sexto, breaks= \"Sturges\", na.rm= TRUE)\n",
    "plot(histograma_nat,\n",
    "     type= \"fh\", \n",
    "     col= \"#00BB00\",\n",
    "     main= \"Histograma de los promedios de sexto grado\n",
    "     en la materia Ciencias Naturales\")\n",
    "\n",
    "# Medidas de distribución\n",
    "coef_sim = skewness(notas_nat_sexto, na.rm=TRUE)\n",
    "kurtosis = kurtosis(notas_nat_sexto, na.rm=TRUE)\n",
    "print(paste0(\"coeficiente de simetría: \", round(coef_sim, 2)))\n",
    "print(paste0(\"kurtosis: \", round(kurtosis, 2)))\n",
    "\n",
    "# Test de normalidad\n",
    "hipotesis_nula <- \"Se distribuyen de forma normal\"\n",
    "hipotesis_alternativa <- \"No se distribuyen de forma normal\"\n",
    "shapiro.test(notas_nat_sexto)"
   ]
  },
  {
   "cell_type": "code",
   "execution_count": null,
   "id": "5e025b23-ed48-496b-85c3-663606bd28da",
   "metadata": {},
   "outputs": [],
   "source": [
    "# Histograma de promedios en ciencias sociales\n",
    "notas_soc_sexto <- filter(Notas_Victoria_6Grado,asignatura == \"CIENCIAS SOCIALES\")$Promedio\n",
    "histograma_soc <- fdt(notas_soc_sexto, breaks= \"Sturges\", na.rm= TRUE)\n",
    "plot(histograma_soc,\n",
    "     type= \"fh\", \n",
    "     col= \"#3D87FF\",\n",
    "     main= \"Histograma de los promedios de sexto grado\n",
    "     en la materia Ciencias Sociales\")\n",
    "\n",
    "# Medidas de distribución\n",
    "coef_sim = skewness(notas_soc_sexto, na.rm=TRUE)\n",
    "kurtosis = kurtosis(notas_soc_sexto, na.rm=TRUE)\n",
    "print(paste0(\"coeficiente de simetría: \", round(coef_sim, 2)))\n",
    "print(paste0(\"kurtosis: \", round(kurtosis, 2)))\n",
    "\n",
    "# Test de normalidad\n",
    "hipotesis_nula <- \"Se distribuyen de forma normal\"\n",
    "hipotesis_alternativa <- \"No se distribuyen de forma normal\"\n",
    "shapiro.test(notas_soc_sexto)"
   ]
  },
  {
   "cell_type": "code",
   "execution_count": null,
   "id": "7033cfcc-14c3-47ee-841f-5ed9a0b6f1c8",
   "metadata": {},
   "outputs": [],
   "source": [
    "# Unimos en un data frame las materias seleccionadas para calcular correlaciones\n",
    "df <- suppressWarnings(dplyr::select(filter(Notas_Victoria_6Grado,asignatura == \"CIENCIAS NATURALES\"),\"Documento\",\"Promedio\") %>% inner_join(dplyr::select(filter(Notas_Victoria_6Grado,asignatura == \"CIENCIAS SOCIALES\"),\"Documento\",\"Promedio\"),by=\"Documento\")%>% inner_join(dplyr::select(filter(Notas_Victoria_6Grado,asignatura == \"MATEMATICA\"),\"Documento\",\"Promedio\"),by=\"Documento\")%>% inner_join(dplyr::select(filter(Notas_Victoria_6Grado,asignatura == \"LENGUA\"),\"Documento\",\"Promedio\"),by=\"Documento\")%>% inner_join(dplyr::select(filter(Notas_Victoria_6Grado,asignatura == \"EDUCACION FISICA\"),\"Documento\",\"Promedio\"),by=\"Documento\")%>% inner_join(dplyr::select(filter(Notas_Victoria_6Grado,asignatura == \"EDUCACION MUSICAL\"),\"Documento\",\"Promedio\"),by=\"Documento\")%>% inner_join(dplyr::select(filter(Notas_Victoria_6Grado,asignatura == \"EDUCACION TECNOLOGICA\"),\"Documento\",\"Promedio\"),by=\"Documento\")%>% inner_join(dplyr::select(filter(Notas_Victoria_6Grado,asignatura == \"ARTES VISUALES\"),\"Documento\",\"Promedio\"),by=\"Documento\"))\n",
    "df <- rename(df,Prom_Nat=Promedio.x, Prom_Soc=Promedio.y, Prom_Mat=Promedio.x.x, Prom_Len=Promedio.y.y, Prom_EdFisica=Promedio.x.x.x, Prom_Mus=Promedio.y.y.y, Prom_Tecno=Promedio.x.x.x.x, Prom_Art=Promedio.y.y.y.y)"
   ]
  },
  {
   "cell_type": "code",
   "execution_count": null,
   "id": "b88f1f8f-88e8-44ae-8b80-1c2c2d52a48d",
   "metadata": {},
   "outputs": [],
   "source": [
    "# Gráfico de la matriz de correlación\n",
    "matriz_correlacion <- cor(df[, -1], method=\"spearman\")\n",
    "corrplot(matriz_correlacion, method = \"color\", type = \"upper\", \n",
    "         addCoef.col = \"black\", tl.col = \"black\", tl.srt = 45)\n",
    "title(\"Matriz de correlación\", cex.main = 1.5)\n",
    "\n",
    "# Gráfico de correlación parcial\n",
    "variables <- c(\"Prom_Nat\", \"Prom_Soc\", \"Prom_Mat\", \"Prom_Len\")\n",
    "dataM <- df[, variables]\n",
    "correlacion_parcial <- pcor(dataM, method = \"pearson\")$estimate\n",
    "corrplot(correlacion_parcial, method = \"color\", type = \"upper\", \n",
    "         addCoef.col = \"black\", tl.col = \"black\", tl.srt = 45)\n",
    "title(\"Correlación parcial\", cex.main = 1.5)"
   ]
  },
  {
   "cell_type": "markdown",
   "id": "fd7a707a-6800-4ddb-bc26-20463200edd7",
   "metadata": {
    "jp-MarkdownHeadingCollapsed": true
   },
   "source": [
    "## Anexo"
   ]
  },
  {
   "cell_type": "code",
   "execution_count": null,
   "id": "fb829fe0-50bb-488a-893d-83769bc77ef6",
   "metadata": {},
   "outputs": [],
   "source": [
    "# Si queremos correr esta celda, restaurar el kernel y no correr la segunda celda de librerias, corrompe los datos\n",
    "library(tidyr)\n",
    "datos_trimestres <- Notas_Victoria_1Grado %>%\n",
    "  filter(asignatura == \"CIENCIAS NATURALES\" | asignatura == \"CIENCIAS SOCIALES\" | asignatura == \"MATEMATICA\" | asignatura == \"LENGUA\") %>%\n",
    "  select(NotasPrimerT, NotasSegundoT, NotasTercerT)  # Selecciona las columnas de notas por trimestre\n",
    "\n",
    "# Convertir los datos en un formato largo (tidy)\n",
    "datos_trimestres_long <- pivot_longer(datos_trimestres, \n",
    "                                      cols = everything(), \n",
    "                                      names_to = \"Trimestre\", \n",
    "                                      values_to = \"Notas\")\n",
    "\n",
    "# Crear un boxplot comparativo por trimestre\n",
    "p <- ggplot(datos_trimestres_long, aes(x = Trimestre, y = Notas, fill = Trimestre)) +\n",
    "  geom_boxplot() +\n",
    "  labs(\n",
    "    title = \"Comparación de Notas por Trimestre\",\n",
    "    subtitle = \"Fuente de elaboración propia\",\n",
    "    x = \"Trimestre\",\n",
    "    y = \"Notas\"\n",
    "  ) +\n",
    "  theme_minimal() +\n",
    "  theme(\n",
    "    axis.text.x = element_text(angle = 0, hjust = 1),\n",
    "    axis.text.y = element_text(color = \"black\"),\n",
    "    legend.position = \"none\"\n",
    "  )\n",
    "\n",
    "# Mostrar el gráfico\n",
    "print(p)"
   ]
  },
  {
   "cell_type": "code",
   "execution_count": null,
   "id": "a6e52bcc",
   "metadata": {},
   "outputs": [],
   "source": []
  }
 ],
 "metadata": {
  "kernelspec": {
   "display_name": "R",
   "language": "R",
   "name": "ir"
  },
  "language_info": {
   "codemirror_mode": "r",
   "file_extension": ".r",
   "mimetype": "text/x-r-source",
   "name": "R",
   "pygments_lexer": "r",
   "version": "4.1.3"
  }
 },
 "nbformat": 4,
 "nbformat_minor": 5
}
