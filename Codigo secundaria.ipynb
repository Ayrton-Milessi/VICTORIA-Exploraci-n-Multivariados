{
 "cells": [
  {
   "cell_type": "markdown",
   "id": "7a4371e4-08e4-4d40-8f49-c20196a1e765",
   "metadata": {},
   "source": [
    "# Departamento VICTORIA - Secundaria"
   ]
  },
  {
   "cell_type": "markdown",
   "id": "c074ebfb-a26b-4631-af25-1f185ff7b612",
   "metadata": {},
   "source": [
    "En este documento tenenemos todo el codigo referido a la limpieza y análisis de los alumnos de colegios SECUNDARIOS del departamento Victoria."
   ]
  },
  {
   "cell_type": "code",
   "execution_count": null,
   "id": "e1f6712f-6e56-43e1-9889-0630a23ee9f5",
   "metadata": {},
   "outputs": [],
   "source": [
    "library(readxl) #cargamos librerias que vamos a utilizar\n",
    "library(dplyr)\n",
    "library(stringr)\n",
    "library(writexl)\n",
    "library(fdth) \n",
    "library(ggplot2)\n",
    "library(tidyr)\n",
    "library(pwr)\n",
    "library(reshape2)\n",
    "library(\"nortest\")\n",
    "library(DescTools)\n",
    "\n",
    "#Cuidado! no ejecutar multiples veces esta celda, conduce a errores del Kernel"
   ]
  },
  {
   "cell_type": "markdown",
   "id": "030d3b90-9cdd-4cf7-95cb-c165b4f2afa1",
   "metadata": {},
   "source": [
    "# Codigo del informe previo"
   ]
  },
  {
   "cell_type": "markdown",
   "id": "40ff5f51-9a27-42e5-b51f-f89d4f41a1fa",
   "metadata": {},
   "source": [
    "## Guia 1 - Limpieza y normalizacion del dataset"
   ]
  },
  {
   "cell_type": "code",
   "execution_count": null,
   "id": "0b58e480-c1c0-4bc1-850c-429b6512c395",
   "metadata": {},
   "outputs": [],
   "source": [
    "# -*- coding: utf-8 -*-\n",
    "#El archivo esta en \"ISO-8859-1\", pero lo leemos en \"UTF-8\"\n",
    "# Leemos el archivo CSV con read_csv()\n",
    "\n",
    "#Dataset departamento VICTORIA\n",
    "VICTORIA <- read.csv(\"VICTORIA.csv\")"
   ]
  },
  {
   "cell_type": "markdown",
   "id": "a6e5e17f-6cc3-4e3b-9432-b6da488e2ef9",
   "metadata": {},
   "source": [
    "### Trabajo primero sobre dataset VICTORIA "
   ]
  },
  {
   "cell_type": "markdown",
   "id": "4e39eab9-3679-48bb-86f1-3f7bac795539",
   "metadata": {},
   "source": [
    "***Hacemos una lectura del dataset***"
   ]
  },
  {
   "cell_type": "code",
   "execution_count": null,
   "id": "76ddb876-a394-4447-a700-d4a67569a1f7",
   "metadata": {},
   "outputs": [],
   "source": [
    "names(VICTORIA) #Vemos los nombres de todas las variables"
   ]
  },
  {
   "cell_type": "code",
   "execution_count": null,
   "id": "53bce2a8-a33b-498d-83ad-e399d9a2cdfd",
   "metadata": {},
   "outputs": [],
   "source": [
    "str(VICTORIA) #Vemos variables cuantitativas(int) y cualitativas(char)"
   ]
  },
  {
   "cell_type": "code",
   "execution_count": null,
   "id": "c7148a2c-b9a3-47b1-87de-160004a24296",
   "metadata": {},
   "outputs": [],
   "source": [
    "#cambiamos los nombres de las variables para un mejor entendimiento\n",
    "VICTORIA <- rename(VICTORIA, c(\"CodigoUnicoEscolar\" = \"CUE\", \"ModEnseñanza\" = \"ModEnsenaza\", \"año\" = \"anioLectivo\", \"esMultiaño\" =\"esMultianio\", \"IdModEnseñanza\" = \"IdModEnsenanza\",\"NivelEnseñanza\" = \"NivelEnsenanza\"))\n",
    "names(VICTORIA)"
   ]
  },
  {
   "cell_type": "code",
   "execution_count": null,
   "id": "26e9e289-e8bc-455f-9f28-340849ca72ad",
   "metadata": {},
   "outputs": [],
   "source": [
    "#Descubrimos una varible, que se encuentra dos veces en el conjunto de datos\n",
    "son_repetidas <- VICTORIA$idDivision == VICTORIA$ddivision #Chequeamos si esta repetida (ddivision = idDivision ????)\n",
    "print(son_repetidas[1])"
   ]
  },
  {
   "cell_type": "code",
   "execution_count": null,
   "id": "a6362a68-207c-4f87-9fce-d514be197dac",
   "metadata": {},
   "outputs": [],
   "source": [
    "VICTORIA$ddivision <- NULL #Eliminamos la variable ddivison\n",
    "dim(VICTORIA) #Vemos tamaño dataset --> se reduce a 25 variables\n",
    "names(VICTORIA)"
   ]
  },
  {
   "cell_type": "code",
   "execution_count": null,
   "id": "360b0e75-ab72-481a-9412-f4f3e10c0df5",
   "metadata": {},
   "outputs": [],
   "source": [
    "#Reemplazamos los datos de (Victoria$nota) no numericos EPAC/ PA / UP\n",
    "unique(VICTORIA$nota)"
   ]
  },
  {
   "cell_type": "code",
   "execution_count": null,
   "id": "6cc0c70d-fa0a-4136-91ee-15d908e63211",
   "metadata": {},
   "outputs": [],
   "source": [
    "#reemplazamos las notas \"EPAC\", \"UP\" y \"PA\" \n",
    "VICTORIA$nota[VICTORIA$nota %in% c(\"EPAC\")] <- 5\n",
    "VICTORIA$nota[VICTORIA$nota %in% c(\"PA\")] <- 6\n",
    "VICTORIA$nota[VICTORIA$nota %in% c(\"UP\")] <- 7\n",
    "VICTORIA$nota <- suppressWarnings(as.numeric(VICTORIA$nota)) #convertimos la variable nota a tipo numérico\n",
    "\n",
    "unique(VICTORIA$nota)"
   ]
  },
  {
   "cell_type": "markdown",
   "id": "bb60c6d3-c6a7-4cc2-bff9-b73c5f61f0f3",
   "metadata": {},
   "source": [
    "### Creamos la particion del dataset SECUNDARIA"
   ]
  },
  {
   "cell_type": "markdown",
   "id": "91434fa6-abd7-4b05-9948-adf63c02c5f3",
   "metadata": {},
   "source": [
    "Ahora tomamos del dataset VICTORIA todos los datos correspondientes a colegios Secundarios"
   ]
  },
  {
   "cell_type": "code",
   "execution_count": null,
   "id": "c162d677-5c1b-4373-9325-14f5a8fe3685",
   "metadata": {},
   "outputs": [],
   "source": [
    "#Analizamos las variables que tenemos disponibles\n",
    "cat(\"NivelEnsenaza: \",unique(VICTORIA$NivelEnseñanza),\"\\n\") #Datos que hay en variable \"NivelEnseñanza\"\n",
    "cat(\"ModEnsenanza: \", unique(VICTORIA$ModEnseñanza),\"\\n\") #Datos que hay en variable \"ModEnseñanza\"\n",
    "cat(\"Modalida: \", unique(VICTORIA$Modalidad)) #Datos que hay en variable \"Modalidad\""
   ]
  },
  {
   "cell_type": "code",
   "execution_count": null,
   "id": "2791b640-151e-443f-895c-3393b8d09452",
   "metadata": {},
   "outputs": [],
   "source": [
    "#Se guardan los alumnos que cursan en la Secundaria\n",
    "VICTORIA_Secundaria <- filter(VICTORIA, NivelEnseñanza == \"SECUNDARIO\" & (ModEnseñanza == \"Comun\" | ModEnseñanza == \"T\\xe9cnica\" | ModEnseñanza ==\"Agrot\\xe9cnica\") & esMultiaño == \"N\" & Modalidad == \"Secundaria\") "
   ]
  },
  {
   "cell_type": "code",
   "execution_count": null,
   "id": "85638e73-c07d-44e0-a790-e60a08332e81",
   "metadata": {},
   "outputs": [],
   "source": [
    "dim(VICTORIA_Secundaria) #Tamaño del dataset correspondiente a Secundarias"
   ]
  },
  {
   "cell_type": "markdown",
   "id": "e8243f72-ce63-4064-9c8a-53e8af1355ad",
   "metadata": {},
   "source": [
    "### Creamos nuevas variables que ayuden a resolver el análisis, como por ejemplo Notas Primer/Segundo/Tercer Trimestre, Promedio, Condición Final en la materia."
   ]
  },
  {
   "cell_type": "markdown",
   "id": "ca0ee38a-4f0a-4e46-b7d9-0d9712e0e15d",
   "metadata": {},
   "source": [
    "#### Solucionamos el tema de los caracteres MA\\xd1ANA --> MAÑANA"
   ]
  },
  {
   "cell_type": "markdown",
   "id": "84b54010-440e-45a0-84a5-30fb68d2f3f5",
   "metadata": {},
   "source": [
    "En ese caso me vi obligado a hacerlo manualmente por un error que no pude resolver de la codificacion UTF-8 del.csv"
   ]
  },
  {
   "cell_type": "code",
   "execution_count": null,
   "id": "f8fd890e-689b-4b63-9167-45b91d39d1af",
   "metadata": {},
   "outputs": [],
   "source": [
    "#Chequeamos que tenemos mal codificaco un caracter en MA\\xd1ANA\n",
    "unique(VICTORIA_Secundaria$turno)\n",
    "\n",
    "#Convertimos la columna 'turno' a codificacion UTF-8\n",
    "VICTORIA_Secundaria$turno <- iconv(VICTORIA_Secundaria$turno, to = \"UTF-8\", sub = \"byte\")\n",
    "\n",
    "#Reemplazamos todas las instancias del valor incorrecto 'MA<d1>ANA' con el valor correcto 'MAÑANA'\n",
    "VICTORIA_Secundaria$turno <- gsub(\"MA<d1>ANA\", \"MAÑANA\", VICTORIA_Secundaria$turno)\n",
    "\n",
    "#Chequeamos el resultado\n",
    "unique(VICTORIA_Secundaria$turno)"
   ]
  },
  {
   "cell_type": "code",
   "execution_count": null,
   "id": "febd28e1-5f54-4a76-b4fc-c353fdb0326c",
   "metadata": {},
   "outputs": [],
   "source": [
    "#Dividimos el dataset VICTORIA_Secundaria en 3 dataset (Primer Trimestres - Segundo Trimestre - Tercer Trimestre)\n",
    "PrimerT_secundaria <- filter(VICTORIA_Secundaria, periodoEvaluatorio == \"Primer Trimestre\")\n",
    "PrimerT_secundaria <- rename(PrimerT_secundaria,NotasPrimerT = nota)\n",
    "SegundoT_secundaria <- filter(VICTORIA_Secundaria, periodoEvaluatorio == \"Segundo Trimestre\")\n",
    "SegundoT_secundaria <- rename(SegundoT_secundaria,NotasSegundoT = nota)\n",
    "TercerT_secundaria <- filter(VICTORIA_Secundaria, periodoEvaluatorio == \"Tercer Trimestre\")\n",
    "TercerT_secundaria <- rename(TercerT_secundaria,NotasTercerT = nota)"
   ]
  },
  {
   "cell_type": "code",
   "execution_count": null,
   "id": "406306a9-c76e-42f0-9d18-ce11287a38b4",
   "metadata": {},
   "outputs": [],
   "source": [
    "#Fusionamos los 3 daset usando las columnas Documento (DNI) y Asignatura como claves para la fusion\n",
    "#\"Claves de fusion\" --> Columnas que deben coincidir en los conjuntos de datos que se están fusionando\n",
    "\n",
    "aux1 <- merge(x = PrimerT_secundaria, y = SegundoT_secundaria, by = c(\"Documento\", \"asignatura\"))\n",
    "auxiliar1 <- merge(x = aux1, y = TercerT_secundaria, by = c(\"Documento\", \"asignatura\"))"
   ]
  },
  {
   "cell_type": "code",
   "execution_count": null,
   "id": "135a2600-4709-4df3-828f-698e557b0bf1",
   "metadata": {},
   "outputs": [],
   "source": [
    "names(auxiliar1)"
   ]
  },
  {
   "cell_type": "code",
   "execution_count": null,
   "id": "8cb52c0e-3e7b-43ae-a5d4-25e9fca287a2",
   "metadata": {},
   "outputs": [],
   "source": [
    "#Nos quedamos con las columnas de nuestro interes\n",
    "Notas_Victoria_secundaria <- select(auxiliar1, 'CodigoUnicoEscolar', 'departamento', 'localidad', 'EsPrivada', 'turno' , 'curso' , 'periodoEvaluatorio' , 'Documento', 'asignatura','idalumno', 'observaciones', 'idSubOrganizacion', 'idDivision', 'NivelEnseñanza', 'orden','Nivel', 'esMultiaño', 'IdModEnseñanza', 'Modalidad', 'ModEnseñanza', 'año','NotasPrimerT','NotasSegundoT', 'NotasTercerT')"
   ]
  },
  {
   "cell_type": "code",
   "execution_count": null,
   "id": "0eed9936-3201-4213-988f-79f5f1e2bc0c",
   "metadata": {},
   "outputs": [],
   "source": [
    "#Agregamos nueva columna 'Promedio'.Esta nueva variable vendria a ser el promedio de los 3 trimestres\n",
    "Notas_Victoria_secundaria$Promedio <-round ((as.numeric(Notas_Victoria_secundaria$NotasPrimerT)+as.numeric(Notas_Victoria_secundaria$NotasSegundoT)+as.numeric(Notas_Victoria_secundaria$NotasTercerT))/3,2)\n",
    "\n",
    "#Agregamos nueva columna 'Condicion' \n",
    "# Según el promedio conseguido tendra aprobado el año lectivo o tendrá que rendir. \n",
    "# Los alumnos que tengas una nota menor a 6 en el tercer trimestre tendrán que rendir.\n",
    "# Los estudiantes que no tengan las 3 notas correspondientes a cada trimestre tendrán un registro incompleto\n",
    "Notas_Victoria_secundaria <- Notas_Victoria_secundaria %>% \n",
    "    mutate(Condición = case_when(\n",
    "      Promedio >= 6 & NotasTercerT >= 6 ~ \"Aprobado\", \n",
    "      Promedio <=6 | NotasTercerT < 6 ~ \"Rinde\",  \n",
    "      TRUE~ \"sin registro completo\")) "
   ]
  },
  {
   "cell_type": "code",
   "execution_count": null,
   "id": "bb94a907-71b0-47f9-9705-1bbcd6a21078",
   "metadata": {},
   "outputs": [],
   "source": [
    "head(Notas_Victoria_secundaria)"
   ]
  },
  {
   "cell_type": "markdown",
   "id": "419c86ad-04a9-440d-ab3f-5567f391be69",
   "metadata": {},
   "source": [
    "### Unificamos los nombres de las asignaturas (normalizacion)"
   ]
  },
  {
   "cell_type": "markdown",
   "id": "61aa4e6d-495f-44d6-aa51-5d48b51c69e2",
   "metadata": {},
   "source": [
    "Nuevamente me veo obligado a modificar manualmente la codificacion. En esta parte cobra una mayor importancia ya que vamos a normalizar los nombres de las asignaturas, no queremos que una misma asignatura sea referida con dos nombres distintos."
   ]
  },
  {
   "cell_type": "code",
   "execution_count": null,
   "id": "cd9753ac-8542-4c8b-8b1f-ae9ad751a88a",
   "metadata": {},
   "outputs": [],
   "source": [
    "#Para evitarnos errores con la codificacion UTF-8 a la hora de normalizar, convertimos todo a ASCII (evito problemas con las tildes)\n",
    "Notas_Victoria_secundaria$asignatura <- iconv(Notas_Victoria_secundaria$asignatura, from = \"UTF-8\", to = \"ASCII\", sub = \"\")"
   ]
  },
  {
   "cell_type": "code",
   "execution_count": null,
   "id": "38367814-d94e-4ca3-bc8b-b9bb6e6eac52",
   "metadata": {},
   "outputs": [],
   "source": [
    "#Convertimos todos los nombres a MAYUSCULA\n",
    "Notas_Victoria_secundaria$asignatura <- toupper(Notas_Victoria_secundaria$asignatura)\n",
    "#Chequeamos\n",
    "#unique(Notas_Victoria_secundaria$asignatura)"
   ]
  },
  {
   "cell_type": "code",
   "execution_count": null,
   "id": "157c440c-7bab-45cf-b0e0-aabc6cb6f387",
   "metadata": {},
   "outputs": [],
   "source": [
    "cat(\"Cantidad de nombres de asignaturas: \", length(unique(Notas_Victoria_secundaria$asignatura)), \"\\n\")"
   ]
  },
  {
   "cell_type": "code",
   "execution_count": null,
   "id": "05eb9b9d-248b-4c46-aedc-f81d7e965cc6",
   "metadata": {},
   "outputs": [],
   "source": [
    "#Normalizamos los nombres de las asignaturas en el conjunto de datos.\n",
    "#Nos aseguramos que las asignaturas que refieren a lo mismo sean llamadas de igual manera.\n",
    "\n",
    "Notas_Victoria_secundaria$asignatura <- str_replace_all(Notas_Victoria_secundaria$asignatura, \".*BIOLOGIA.*\", \"BIOLOGIA\")\n",
    "Notas_Victoria_secundaria$asignatura <- str_replace_all(Notas_Victoria_secundaria$asignatura, \".*MATEMATICA*\", \"MATEMATICA\")\n",
    "Notas_Victoria_secundaria$asignatura <- str_replace_all(Notas_Victoria_secundaria$asignatura, \".*LENGUA*\", \"LENGUA\")\n",
    "Notas_Victoria_secundaria$asignatura <- str_replace_all(Notas_Victoria_secundaria$asignatura, \".*EXTRANJERA*\", \"INGLES\")\n",
    "Notas_Victoria_secundaria$asignatura <- str_replace_all(Notas_Victoria_secundaria$asignatura, \".*GEOGRAFIA.*\", \"GEOGRAFIA\")\n",
    "Notas_Victoria_secundaria$asignatura <- str_replace_all(Notas_Victoria_secundaria$asignatura, \".*HISTORIA*\", \"HISTORIA\")\n",
    "Notas_Victoria_secundaria$asignatura <- str_replace_all(Notas_Victoria_secundaria$asignatura, \".*BIOLOGIA.*\", \"BIOLOGIA\")\n",
    "Notas_Victoria_secundaria$asignatura <- str_replace_all(Notas_Victoria_secundaria$asignatura, \".*ETICA*\", \"ETICA\")\n",
    "Notas_Victoria_secundaria$asignatura <- str_replace_all(Notas_Victoria_secundaria$asignatura, \".*MUSICA*\", \"MUSICA\")\n",
    "Notas_Victoria_secundaria$asignatura <- str_replace_all(Notas_Victoria_secundaria$asignatura, \".*ETICA*\", \"ETICA\")\n",
    "Notas_Victoria_secundaria$asignatura <- str_replace_all(Notas_Victoria_secundaria$asignatura, \".*FILOSOFIA*\", \"FILOSOFIA\")\n",
    "Notas_Victoria_secundaria$asignatura <- str_replace_all(Notas_Victoria_secundaria$asignatura, \".*ECONOMIA*\", \"ECONOMIA\")\n",
    "Notas_Victoria_secundaria$asignatura <- str_replace_all(Notas_Victoria_secundaria$asignatura, \".*FISICO QUIMICA*\", \"FISICA Y QUIMICA\")\n",
    "Notas_Victoria_secundaria$asignatura <- gsub(\"AUTO C.A.D\", \"C.A.D\", Notas_Victoria_secundaria$asignatura)\n",
    "Notas_Victoria_secundaria$asignatura <- gsub(\"DERECHO COMERCIAL\", \"DERECHO\", Notas_Victoria_secundaria$asignatura)\n",
    "Notas_Victoria_secundaria$asignatura <- gsub(\"CEREALES Y OLEAGINOSAS|MARCO JURIDICO DE LOS CIENCIAS AGROPECUARIAS |PRODUCCION HORTICOLA|PRODUCCION DE PLANTAS EN VIVERO |PRODUCCION DE FORRAJES|PRODUCCION DE CERDOS|PRODUCCION DE CAPRINOS|PRODUCCION BOVINO PARA CARNE|PROCESOS PRODUCTIVOS|INSTALACIONES AGROPECUARIAS|CIENCIAS NATURALES APLICADAS A PRO. AGROPECUARIOS|INDUSTRIA DE PROD. LACTEOS DE BOVINO O CAPRINO|INDUSTRIA CARNE PORCINA\", \"CIENCIAS AGROPECUARIAS\", Notas_Victoria_secundaria$asignatura)\n",
    "Notas_Victoria_secundaria$asignatura <- gsub(\"CIENCIAS NATURALES (FISICO QUIMICA)|FISICO Y QUIMICA)|CIENCIAS NATURALES FISICO-QUIMICA|FISICA Y QUIMICA|ESPACIO DE LA ORIENTACION EN CIENCIAS NATURALES (FISICO QUIMICA)\", \"FISICO Y QUIMICA\", Notas_Victoria_secundaria$asignatura)\n",
    "Notas_Victoria_secundaria$asignatura <- gsub(\"CIRCUITOS TURISTICOS I Y II|MARKETING TURISTICO|INTRODUCCION AL TURISMO|EMPRESAS TURISTICAS|INFRAESTRUCTURA TURISTICA Y TURISMO TERMAL II|INFRAESTRUCTURA TURISTICA Y TURISMO TERMAL I|INFRAESTRUCTURA TURISTICA Y TURISMO TERMAL|CIRCUITOS TURISTICOS II|DESARROLLO DE LOCALIDADES TURISTICAS\", \"TURISMO\", Notas_Victoria_secundaria$asignatura)\n",
    "Notas_Victoria_secundaria$asignatura <- gsub(\"ECONOMIA II\", \"ECONOMIA\", Notas_Victoria_secundaria$asignatura)\n",
    "Notas_Victoria_secundaria$asignatura <- gsub(\"ETICA Y CIUDADANA|ETICAS CONTEMPORANEAS I\", \"ETICA\", Notas_Victoria_secundaria$asignatura)\n",
    "Notas_Victoria_secundaria$asignatura <- gsub(\"FILOSOFIA II\", \"FILOSOFIA\", Notas_Victoria_secundaria$asignatura)\n",
    "Notas_Victoria_secundaria$asignatura <- gsub(\"FISICA APLICADA|TRABAJOS PRACTICOS DE FISICA APLICADA\", \"FISICA\", Notas_Victoria_secundaria$asignatura)\n",
    "Notas_Victoria_secundaria$asignatura <- gsub(\"FRANCÉS\", \"FRANCES\", Notas_Victoria_secundaria$asignatura)\n",
    "Notas_Victoria_secundaria$asignatura <- gsub(\"INGLES (INGLES)|INGLES (INGLES)|INGLESS\", \"INGLES\", Notas_Victoria_secundaria$asignatura)\n",
    "Notas_Victoria_secundaria$asignatura <- gsub(\"PORTUGUÉS\", \"PORTUGUES\", Notas_Victoria_secundaria$asignatura)\n",
    "Notas_Victoria_secundaria$asignatura <- gsub(\"QUIMICA ANALITICA CUALITATIVA|QUIMICA APLICADA|TRABAJOS PRACTICOS DE QUIMICA ORGANICA II|TRABAJOS PRACTICOS DE QUIMICA ORGANICA |TRABAJOS PRACTICOS DE QUIMICA INORGANICA |TRABAJOS PRACTICOS DE QUIMICA INDUSTRIAL APLICADA |TRABAJOS PRACTICOS DE QUIMICA INDUSTRIAL|TRABAJOS PRACTICOS DE QUIMICA GENERAL|TRABAJOS PRACTICOS DE QUIMICA ANALITICA CUANTIT.|TRABAJOS PRACTICOS DE PROC. Y OPERACIONES QUIMICAS|TRABAJOS PRACTICOS DE PROC. Y OPERACIONES QUIMICAS|QUIMICA ANALITICA CUANTITATIVA|QUIMICA GENERAL|QUIMICA INORGANICA|QUIMICA ORGANICA II|TALLER MODULAR QUIMICA\", \"QUIMICA\", Notas_Victoria_secundaria$asignatura)\n",
    "Notas_Victoria_secundaria$asignatura <- gsub(\"TECNOLOGIA I|TECNOLOGIA II|TECNOLOGIA III|EDUCACION TECNOLOGICA\", \"TECNOLOGIA\", Notas_Victoria_secundaria$asignatura)\n",
    "Notas_Victoria_secundaria$asignatura <- gsub(\"TUTORIAS DISCIPLINARES\", \"TUTORIAS\", Notas_Victoria_secundaria$asignatura)\n",
    "Notas_Victoria_secundaria$asignatura <- gsub(\"GESTION DE LA PRODUCCION ARTISTICA\", \"ARTES VISUALES\", Notas_Victoria_secundaria$asignatura)\n",
    "Notas_Victoria_secundaria$asignatura <- gsub(\"HISTORIA)\", \"HISTORIA\", Notas_Victoria_secundaria$asignatura)\n",
    "Notas_Victoria_secundaria$asignatura <- gsub(\"MATEMATICA|MATEMATICAO\", \"MATEMATICA\", Notas_Victoria_secundaria$asignatura)\n",
    "Notas_Victoria_secundaria$asignatura <- gsub(\"LENGUA Y LITERATURA|LITERATURA ARGENTINA|LITERATURA LATINOAMERICANA\", \"LENGUA Y LITERATURA\", Notas_Victoria_secundaria$asignatura)\n",
    "Notas_Victoria_secundaria$asignatura <- gsub(\"INGLES\\\\s*\\\\(INGLES\\\\)\", \"INGLES\", Notas_Victoria_secundaria$asignatura)"
   ]
  },
  {
   "cell_type": "code",
   "execution_count": null,
   "id": "b4c255cb-fd9c-4d9e-a9ab-1f0fbc427a07",
   "metadata": {},
   "outputs": [],
   "source": [
    "cat(\"Cantidad de nombres de asignaturas: \", length(unique(Notas_Victoria_secundaria$asignatura)), \"\\n\")"
   ]
  },
  {
   "cell_type": "code",
   "execution_count": null,
   "id": "8560309c-1450-4d62-bf57-a5139d36074d",
   "metadata": {},
   "outputs": [],
   "source": [
    "#Chequeamos\n",
    "#unique(Notas_Victoria_secundaria$asignatura)  #Comentado para reducir bloques innecesarios "
   ]
  },
  {
   "cell_type": "code",
   "execution_count": null,
   "id": "da069ba0-15a4-40f5-8cb9-1f59b371cf22",
   "metadata": {},
   "outputs": [],
   "source": [
    "#Filtramos lo cursos (CN - RURAL CNR), no nos sirven para el analisis\n",
    "#table(Notas_Victoria_secundaria$curso)\n",
    "Notas_Victoria_secundaria <- Notas_Victoria_secundaria[Notas_Victoria_secundaria$curso != \"CN - RURAL CNR\", ]\n",
    "#table(Notas_Victoria_secundaria$curso)"
   ]
  },
  {
   "cell_type": "code",
   "execution_count": null,
   "id": "d0f38dac-4742-4c79-b9da-ada1c71d8156",
   "metadata": {},
   "outputs": [],
   "source": [
    "#Recordamos la variable nueva creada anteriormente 'Condicion'\n",
    "unique(Notas_Victoria_secundaria$Condición)\n",
    "#No nos sirven los alumnos 'SIN REGISTRO COMPLETO' para el analisis\n",
    "Notas_Victoria_secundaria <- subset(Notas_Victoria_secundaria, Condición != \"sin registro completo\")\n",
    "unique(Notas_Victoria_secundaria$Condición)"
   ]
  },
  {
   "cell_type": "code",
   "execution_count": null,
   "id": "a95b80e8-4226-418f-af7d-d46208389ffa",
   "metadata": {},
   "outputs": [],
   "source": [
    "#Creamos nueva variable \"Año_Curso\"\n",
    "\n",
    "#Para ello convertimos todos los datos en 'Condición' en caracteres (strings)\n",
    "Notas_Victoria_secundaria$curso <- as.character(Notas_Victoria_secundaria$curso)\n",
    "#En la nueva variable 'Año_Curso\" guardo \n",
    "Notas_Victoria_secundaria$Año_Curso <- substr(Notas_Victoria_secundaria$curso, 1, 1)\n",
    "table(Notas_Victoria_secundaria$Año_Curso)\n",
    "#Ahora reemplazo el numero por su equivalente en palabras\n",
    "Notas_Victoria_secundaria$Año_Curso <- str_replace(Notas_Victoria_secundaria$Año_Curso, \"1\" , \"PRIMERO\")\n",
    "Notas_Victoria_secundaria$Año_Curso <- str_replace(Notas_Victoria_secundaria$Año_Curso, \"2\" , \"SEGUNDO\")\n",
    "Notas_Victoria_secundaria$Año_Curso <- str_replace(Notas_Victoria_secundaria$Año_Curso, \"3\" , \"TERCERO\")\n",
    "Notas_Victoria_secundaria$Año_Curso <- str_replace(Notas_Victoria_secundaria$Año_Curso, \"4\" , \"CUARTO\")\n",
    "Notas_Victoria_secundaria$Año_Curso <- str_replace(Notas_Victoria_secundaria$Año_Curso, \"5\" , \"QUINTO\")\n",
    "Notas_Victoria_secundaria$Año_Curso <- str_replace(Notas_Victoria_secundaria$Año_Curso, \"6\" , \"SEXTO\")\n",
    "Notas_Victoria_secundaria$Año_Curso <- str_replace(Notas_Victoria_secundaria$Año_Curso, \"7\" , \"SEPTIMO\")\n",
    "\n",
    "table(Notas_Victoria_secundaria$Año_Curso)"
   ]
  },
  {
   "cell_type": "code",
   "execution_count": null,
   "id": "ad027f11-377c-49a7-8ff9-cecc172f74b5",
   "metadata": {},
   "outputs": [],
   "source": [
    "dim(Notas_Victoria_secundaria)"
   ]
  },
  {
   "cell_type": "code",
   "execution_count": null,
   "id": "042f9241-1a9d-42f5-80a5-5a61c29de865",
   "metadata": {},
   "outputs": [],
   "source": [
    "#Guardamos el dataset Victoria_secundaria limpio como xlsx\n",
    "write_xlsx(Notas_Victoria_secundaria, \"VICTORIA_SECUNDARIA_LIMPIA.xlsx\")\n"
   ]
  },
  {
   "cell_type": "markdown",
   "id": "a9a76303-3e3c-4fde-82ce-92de5d973ff9",
   "metadata": {},
   "source": [
    "----------------"
   ]
  },
  {
   "cell_type": "markdown",
   "id": "c9f27e45-36fb-4f80-a12f-024006bfcdc0",
   "metadata": {},
   "source": [
    "## Guia ejercicios 2"
   ]
  },
  {
   "cell_type": "code",
   "execution_count": null,
   "id": "884acf85-6253-4554-b2cb-a16c51863fef",
   "metadata": {},
   "outputs": [],
   "source": [
    "#Aunque lo tenemos arriba, lo leemos nuevamente \n",
    "#Este es el dataset limpio con el que vamos a trabajar\n",
    "secundaria_VICTORIA <- read_excel(\"VICTORIA_SECUNDARIA_LIMPIA.xlsx\")\n",
    "#secundaria_VICTORIA <- read_excel(\"/home/santiago/Documentos/TUPED/Exploracion_Datos_Multivariados/TP_VICTORIA/VICTORIA_SECUNDARIA_LIMPIA.xlsx\")"
   ]
  },
  {
   "cell_type": "markdown",
   "id": "a9488eef-3d33-4290-bdaa-2463ad374f40",
   "metadata": {},
   "source": [
    "### 2.A ¿Quedan variables que deberían eliminarse? Si la respuesta es afirmativa indique el motivo."
   ]
  },
  {
   "cell_type": "code",
   "execution_count": null,
   "id": "de6d8f5f-addc-429c-b5a3-c1429285e259",
   "metadata": {},
   "outputs": [],
   "source": [
    "#Variables con las que contamos hasta ahora\n",
    "names(secundaria_VICTORIA)"
   ]
  },
  {
   "cell_type": "code",
   "execution_count": null,
   "id": "1ff47846-f7da-4d90-b094-b52f1be69eb2",
   "metadata": {},
   "outputs": [],
   "source": [
    "#Estas dos variables son redundantes, ya comprobamos que todos los datos pertenecen al departamento VICTORIA\n",
    "unique(secundaria_VICTORIA$localidad)\n",
    "unique(secundaria_VICTORIA$departamento)\n",
    "\n",
    "#Eliminamos la variable 'localidad' y 'departamento'  \n",
    "secundaria_VICTORIA <- subset(secundaria_VICTORIA, select = -c(localidad, departamento))"
   ]
  },
  {
   "cell_type": "code",
   "execution_count": null,
   "id": "c8e18a23-8174-488c-9f64-f5ed7de857d0",
   "metadata": {},
   "outputs": [],
   "source": [
    "#Esta variable no sirve, ya comprobamos que todos los datos pertenecen al año 2023\n",
    "unique(secundaria_VICTORIA$año)\n",
    "#Eliminamos la variable 'año'\n",
    "secundaria_VICTORIA <- subset(secundaria_VICTORIA, select = -c(año))"
   ]
  },
  {
   "cell_type": "code",
   "execution_count": null,
   "id": "c01747a0-5060-4a97-a890-ca9601c8c63b",
   "metadata": {},
   "outputs": [],
   "source": [
    "#Esta variable no sirve, ya tenemos la variable Año_Curso, es redundante\n",
    "unique(secundaria_VICTORIA$curso)\n",
    "#Eliminamos la variable 'curso'\n",
    "secundaria_VICTORIA <- subset(secundaria_VICTORIA, select = -c(curso))"
   ]
  },
  {
   "cell_type": "code",
   "execution_count": null,
   "id": "70695f6c-8de7-45a4-a256-c49f92f03fd8",
   "metadata": {},
   "outputs": [],
   "source": [
    "#Chequeamos que se hayan eliminado correctamente \n",
    "names(secundaria_VICTORIA)"
   ]
  },
  {
   "cell_type": "markdown",
   "id": "290d9c0a-2765-4a51-a52f-31ac7562330f",
   "metadata": {},
   "source": [
    "### 2.B De las asignaturas de interés en el estudio en las cuales se normalizaron los nombres, ¿quedan  todas bien cargadas?"
   ]
  },
  {
   "cell_type": "code",
   "execution_count": null,
   "id": "a8345bc2-c91e-41d9-b6d6-a4812e69db55",
   "metadata": {},
   "outputs": [],
   "source": [
    "#Notamos que se nos pasaron algunas asignaturas a normalizar \n",
    "#Lo modificamos antes de continuar\n",
    "secundaria_VICTORIA$asignatura <- str_replace_all(secundaria_VICTORIA$asignatura, \"FISICO Y QUIMICA\\\\)\", \"FISICO Y QUIMICA\")\n",
    "secundaria_VICTORIA$asignatura <- str_replace_all(secundaria_VICTORIA$asignatura, \"FRANCS\", \"FRANCES\")\n",
    "secundaria_VICTORIA$asignatura <- str_replace_all(secundaria_VICTORIA$asignatura, \"MATEMATICA APLICADA\", \"MATEMATICA\")\n",
    "\n",
    "#Chequeamos arreglo\n",
    "#table(secundaria_VICTORIA$asignatura)"
   ]
  },
  {
   "cell_type": "code",
   "execution_count": null,
   "id": "1d51dd27-8095-40fa-8a1d-66790c0474f2",
   "metadata": {},
   "outputs": [],
   "source": [
    "#Chequeamos nombres en ModEnseñanza\n",
    "unique(secundaria_VICTORIA$`ModEnseñanza`)\n",
    "\n",
    "# Cargar el paquete necesario\n",
    "#install.packages(\"stringi\")\n",
    "library(stringi)\n",
    "\n",
    "# Decodificar y limpiar los nombres de las categorías\n",
    "secundaria_VICTORIA$ModEnseñanza <- stri_replace_all_fixed(secundaria_VICTORIA$ModEnseñanza, \n",
    "                                                           c(\"T\\xe9cnica\", \"Agrot\\xe9cnica\"), \n",
    "                                                           c(\"Tecnica\", \"Agrotecnica\"), \n",
    "                                                           vectorize_all = FALSE)\n",
    "unique(secundaria_VICTORIA$`ModEnseñanza`)"
   ]
  },
  {
   "cell_type": "code",
   "execution_count": null,
   "id": "98ed1d85-2070-49f1-93be-91c75aeb03e9",
   "metadata": {},
   "outputs": [],
   "source": [
    "#Guardamos los cambios realizamos \n",
    "write_xlsx(secundaria_VICTORIA, \"VICTORIA_SECUNDARIA_LIMPIA.xlsx\")"
   ]
  },
  {
   "cell_type": "code",
   "execution_count": null,
   "id": "04955343-d13b-4e09-aa6f-469466b01fe1",
   "metadata": {},
   "outputs": [],
   "source": [
    "names(secundaria_VICTORIA)"
   ]
  },
  {
   "cell_type": "code",
   "execution_count": null,
   "id": "d8cfbc43-c812-4533-87a4-9bfe6a4aa648",
   "metadata": {},
   "outputs": [],
   "source": [
    "cat(\"Secundarias en dpto. Victoria: \", length(unique(secundaria_VICTORIA$CodigoUnicoEscolar)), \"\\n\")\n",
    "\n",
    "escuelas_publicas <- secundaria_VICTORIA %>%\n",
    "  filter(EsPrivada == \"N\")\n",
    "cat(\"Secundarias Publicas: \", length(unique(escuelas_publicas$CodigoUnicoEscolar)), \"\\n\")\n",
    "\n",
    "escuelas_privadas <- secundaria_VICTORIA %>%\n",
    "  filter(EsPrivada == \"S\")\n",
    "cat(\"Secundarias Privadas: \", length(unique(escuelas_privadas$CodigoUnicoEscolar)), \"\\n\")\n",
    "\n",
    "escuelas_TM <- secundaria_VICTORIA %>%\n",
    "  filter(turno == \"MAÑANA\")\n",
    "cat(\"Secundarias Turno Mañana: \", length(unique(escuelas_TM$CodigoUnicoEscolar)), \"\\n\")\n",
    "\n",
    "escuelas_TT <- secundaria_VICTORIA %>%\n",
    "  filter(turno == \"TARDE\")\n",
    "cat(\"Secundarias Turno Tarde: \", length(unique(escuelas_TT$CodigoUnicoEscolar)), \"\\n\")\n",
    "\n",
    "escuelas_noche <- secundaria_VICTORIA %>%\n",
    "  filter(turno == \"NOCHE\")\n",
    "cat(\"Secundarias Turno Noche: \", length(unique(escuelas_noche$CodigoUnicoEscolar)), \"\\n\")\n",
    "\n",
    "escuelas_rot <- secundaria_VICTORIA %>%\n",
    "  filter(turno == \"ROTATIVO\")\n",
    "cat(\"Secundarias Turno Rotativo: \", length(unique(escuelas_rot$CodigoUnicoEscolar)), \"\\n\")\n",
    "\n",
    "escuelas_comunes <- secundaria_VICTORIA %>%\n",
    "  filter(ModEnseñanza == \"Comun\")\n",
    "cat(\"Secundarias Comunes: \", length(unique(escuelas_comunes$CodigoUnicoEscolar)), \"\\n\")\n",
    "\n",
    "escuelas_tec <- secundaria_VICTORIA %>%\n",
    "  filter(ModEnseñanza == \"Tecnica\")\n",
    "cat(\"Secundarias Tecnicas: \", length(unique(escuelas_tec$CodigoUnicoEscolar)), \"\\n\")\n",
    "\n",
    "escuelas_agrotec <- secundaria_VICTORIA %>%\n",
    "  filter(ModEnseñanza == \"Agrotecnica\")\n",
    "cat(\"Secundarias Agrotecnicas: \", length(unique(escuelas_agrotec$CodigoUnicoEscolar)), \"\\n\")"
   ]
  },
  {
   "cell_type": "markdown",
   "id": "125ab6dc-d23c-40c4-822c-ad4bf169d6fd",
   "metadata": {},
   "source": [
    "## Guia ejercicios 3 - Graficas generales"
   ]
  },
  {
   "cell_type": "code",
   "execution_count": null,
   "id": "d029c1fd-05b4-49d9-b3b8-662f87f97344",
   "metadata": {},
   "outputs": [],
   "source": [
    "#Aunque lo tenemos arriba, lo leemos nuevamente \n",
    "secundaria_VICTORIA <- read_excel(\"VICTORIA_SECUNDARIA_LIMPIA.xlsx\")"
   ]
  },
  {
   "cell_type": "markdown",
   "id": "ecb546b1-b516-449e-961e-7b79acd44f68",
   "metadata": {},
   "source": [
    "### En esta seccion se encuentran los graficos utilizados para la elaboracion del informe"
   ]
  },
  {
   "cell_type": "code",
   "execution_count": null,
   "id": "7461bf28-c5bd-4d8c-a98b-54684dba4bb4",
   "metadata": {},
   "outputs": [],
   "source": [
    "#Códigos hexadecimales que representan diferentes colores que vamos a usar para personalizar los gráficos\n",
    "celeste <- '#2196f3'\n",
    "amarillo <- '#ffeb3b'\n",
    "rojo <- '#FF0000'\n",
    "rojo_naranja <- '#f44336'\n",
    "rojo_pastel <- '#C23B22'\n",
    "rosa_fuerte <- '#e91e63'\n",
    "azul <- '#2962ff'\n",
    "verde <- '#4caf50'\n",
    "violeta <- '#bb3af2'\n",
    "naranja <- '#ea7441'\n",
    "verde_claro <- '#8bc34a'\n",
    "verde_celeste <- '#009688'\n",
    "rosa_fuerte <- '#ff4081'\n",
    "rojo_fuerte <- '#ff5252'\n",
    "naranja_oscuro <- '#ff6e40'\n",
    "amarillo_fuerte <- '#ffc107'\n",
    "amarillo_verde <- '#aeea00'\n",
    "azul_verde <- '#00bfa5'\n",
    "verde_agua <- '#1de9b6'\n",
    "celeste <- '#00b0ff'\n",
    "violeta_oscuro <- '#8e24aa'\n",
    "violeta_rosado <- '#d500f9'\n",
    "fucsia <- '#f50057'\n",
    "azul_violeta <- '#311b92'\n",
    "violeta_fuerte <- '#6200ea'\n",
    "celeste_agua <- '#64ffda'\n",
    "naranja_fuerte4 <- '#ff5722'"
   ]
  },
  {
   "cell_type": "code",
   "execution_count": null,
   "id": "a7671230-5c0e-43ae-bced-ae8c796982e4",
   "metadata": {},
   "outputs": [],
   "source": [
    "#Distribucion de alumnos por niveles\n",
    "tabla <- table(secundaria_VICTORIA$turno)\n",
    "barplot(tabla, main = \"Cantidad de alumnos del nivel secundario en cada turno\",\n",
    "        sub = \"(Gráfico N°4)\",\n",
    "        col.sub = \"black\",\n",
    "        col = c(rojo_pastel,azul,verde,amarillo), ylim = c(0, 35000), las = 1)"
   ]
  },
  {
   "cell_type": "code",
   "execution_count": null,
   "id": "bec220ba-1722-43ed-a2bc-38b926754182",
   "metadata": {},
   "outputs": [],
   "source": [
    "# Filtrar los datos para incluir solo los turnos de mañana y tarde\n",
    "turnos_seleccionados <- subset(secundaria_VICTORIA, turno %in% c(\"MAÑANA\", \"TARDE\"))\n",
    "# Calcular la distribución porcentual de los turnos seleccionados\n",
    "pie_commute <- round(100 * table(turnos_seleccionados$turno) / length(turnos_seleccionados$turno))\n",
    "# Títulos para los turnos seleccionados\n",
    "titulos <- c(\"MAÑANA\", \"TARDE\")\n",
    "colors = c(amarillo,verde)\n",
    "\n",
    "pie(pie_commute, labels = \"\",\n",
    "    col = colors,\n",
    "    radius = .75,\n",
    "    main = \"Distribucion Porcentual de la Matricula de 2023\n",
    "    en el departamento Victoria en cada\n",
    "    turno en el nivel Secundario\",\n",
    "    col.main = \"black\",\n",
    "    sub = \"Fuente de elaboración propia\n",
    "    (Gráfico N°6)\",\n",
    "    col.sub = \"black\",\n",
    "    density = 500, angle = seq(0,190,35),\n",
    "    border = 'black',\n",
    "    cex = 1,\n",
    "    init.angle = 170)\n",
    "\n",
    "# Agregar la leyenda\n",
    "legend(x = 0.56, y = 1, c(0,0.1),\n",
    "       legend = paste(titulos, \" \", pie_commute, \"%\"),\n",
    "       fill = colors,\n",
    "       title = \"Turno\",\n",
    "       cex = 0.8)  # Ajustar el tamaño del texto de la leyenda"
   ]
  },
  {
   "cell_type": "code",
   "execution_count": null,
   "id": "ebcda3fe-a655-4054-8a8e-0e3a84a56045",
   "metadata": {},
   "outputs": [],
   "source": [
    "# Contar la cantidad de colegios públicos y privados\n",
    "cantidad_publicas <- length(unique(secundaria_VICTORIA$CodigoUnicoEscolar[secundaria_VICTORIA$EsPrivada == \"N\"]))\n",
    "cantidad_privadas <- length(unique(secundaria_VICTORIA$CodigoUnicoEscolar[secundaria_VICTORIA$EsPrivada == \"S\"]))\n",
    "total <- cantidad_publicas + cantidad_privadas\n",
    "# Calcular el porcentaje de colegios públicos y privados\n",
    "porcentaje_publicas <- round(100 * cantidad_publicas / total)\n",
    "porcentaje_privadas <- round(100 * cantidad_privadas / total)\n",
    "\n",
    "# Crear el gráfico de torta con etiquetas de porcentaje\n",
    "pie(c(cantidad_publicas, cantidad_privadas),\n",
    "    labels = c(paste(\"Públicas\\n\", porcentaje_publicas, \"%\"),\n",
    "               paste(\"Privadas\\n\", porcentaje_privadas, \"%\")),\n",
    "    col = c(\"#ff6e40\", \"#bb3af2\"),\n",
    "    radius = .75,\n",
    "    main = \"Distribución de Colegios Secundarios Públicos y Privados\",\n",
    "    col.main = \"black\",\n",
    "    sub = \"Fuente de elaboración propia (Gráfico N°6)\",\n",
    "    col.sub = \"black\",\n",
    "    density = 500,\n",
    "    angle = seq(0, 180, 35),\n",
    "    border = 'blue')\n"
   ]
  },
  {
   "cell_type": "code",
   "execution_count": null,
   "id": "bfc23739-648c-4691-b734-f91028590885",
   "metadata": {},
   "outputs": [],
   "source": [
    "#Distribucion de alumnos por turno\n",
    "pie_commute <- round(100 * table(secundaria_VICTORIA$EsPrivada) / length(secundaria_VICTORIA$EsPrivada))\n",
    "titulos <- c(\"Publica\", \"Privada\")\n",
    "\n",
    "colors = c(naranja_fuerte4,'#bb3af2')\n",
    "\n",
    "pie(pie_commute, labels = paste(titulos,'\\n', pie_commute, ' %'),\n",
    "    col = colors,\n",
    "    radius = .75,\n",
    "    main = \"Distribucion Porcentual de la Matricula de 2023 en\n",
    "            Entre Ríos por gestión en nivel secundario\",\n",
    "    col.main = \"black\",\n",
    "    sub = \"Fuente de elaboración propia\n",
    "    (Gráfico N°6)\",\n",
    "    col.sub = \"black\",\n",
    "    density = 500, angle = seq(0,180,35),\n",
    "    border = 'blue')"
   ]
  },
  {
   "cell_type": "code",
   "execution_count": null,
   "id": "327c5302-bfa7-42b1-8274-5310b8b32ac9",
   "metadata": {},
   "outputs": [],
   "source": [
    "Victoria_secundaria <- filter(secundaria_VICTORIA, Año_Curso== \"PRIMERO\" |  Año_Curso== \"SEGUNDO\" |  Año_Curso== \"TERCERO\" |\n",
    "                     Año_Curso== \"CUARTO\" |  Año_Curso== \"QUINTO\" |  Año_Curso== \"SEXTO\" |  Año_Curso== \"SEPTIMO\")"
   ]
  },
  {
   "cell_type": "code",
   "execution_count": null,
   "id": "8e73a0f1-27c8-47e5-8974-b1b044e3d6de",
   "metadata": {},
   "outputs": [],
   "source": [
    "# Filtrar los datos y mantener solo una entrada por documento por año\n",
    "Victoria_secundaria_unico <- secundaria_VICTORIA %>%\n",
    "  filter(Año_Curso %in% c(\"PRIMERO\", \"SEGUNDO\", \"TERCERO\", \"CUARTO\", \"QUINTO\", \"SEXTO\", \"SEPTIMO\")) %>%\n",
    "  distinct(Documento, Año_Curso, EsPrivada)\n",
    "\n",
    "# Contar la cantidad de inscritos por año\n",
    "inscritos_por_año <- Victoria_secundaria_unico %>%\n",
    "  count(Año_Curso)\n",
    "\n",
    "`inscritos_por_año`"
   ]
  },
  {
   "cell_type": "code",
   "execution_count": null,
   "id": "fa630d79-3313-45dc-a16a-3143c28ec8cc",
   "metadata": {},
   "outputs": [],
   "source": [
    "# Distribucion de alumnos por años\n",
    "colors <- c(rojo_pastel, azul, verde, amarillo, naranja, violeta, azul_violeta) \n",
    "datos2 <- table(Victoria_secundaria_unico$Año_Curso)\n",
    "tabla_años2 <- as.data.frame(datos2)\n",
    "names(tabla_años2) <- c(\"Año\", \"Freq\")\n",
    "tabla_años2 <- tabla_años2 %>% arrange(factor(Año, levels = c('PRIMERO', 'SEGUNDO', 'TERCERO', 'CUARTO', 'QUINTO', 'SEXTO','SEPTIMO')))\n",
    "# Grafico de barras de frecuencia absoluta ordenado por año\n",
    "bp <- barplot(tabla_años2$Freq, \n",
    "        names = tabla_años2$Año, \n",
    "        main = \"Frecuencia absoluta de estudiantes por año en secundaria\",\n",
    "        sub = \"(Gráfico N°8)\",\n",
    "        col.sub = \"black\",\n",
    "        col = colors,  # Utilizar colores personalizados\n",
    "        ylim = c(0, 800), \n",
    "        las = 1, \n",
    "        cex.names = 0.79)\n",
    "\n",
    "# Agregar la cantidad de estudiantes sobre cada barra\n",
    "text(x = bp, \n",
    "     y = tabla_años2$Freq, \n",
    "     labels = tabla_años2$Freq, \n",
    "     pos = 3,  # Posición para ubicar el texto (encima de la barra)\n",
    "     cex = 1.2,  # Tamaño del texto\n",
    "     col = \"black\")  # Color del texto"
   ]
  },
  {
   "cell_type": "code",
   "execution_count": null,
   "id": "0cdfb8ea-ea81-44f3-af6a-eb53e755d452",
   "metadata": {},
   "outputs": [],
   "source": [
    "unique(Victoria_secundaria$`ModEnseñanza`)"
   ]
  },
  {
   "cell_type": "code",
   "execution_count": null,
   "id": "9b112327-da95-489f-b902-091eafd03d7d",
   "metadata": {},
   "outputs": [],
   "source": [
    "#Distribucion de modalidad de eseñanza\n",
    "# Calcular los porcentajes\n",
    "pie_commute <- round(100 * table(Victoria_secundaria$ModEnseñanza) / length(Victoria_secundaria$ModEnseñanza))\n",
    "\n",
    "# Verificar y limpiar los nombres de las categorías\n",
    "names(pie_commute) <- make.names(names(pie_commute))\n",
    "\n",
    "# Definir colores\n",
    "colors <- c('#ff5722', '#2196f3', '#9c27b0')\n",
    "\n",
    "# Crear el gráfico de torta\n",
    "pie(pie_commute, \n",
    "    labels = paste0(names(pie_commute), ' ', pie_commute, '%'),\n",
    "    col = colors,\n",
    "    radius = 0.75,\n",
    "    main = \"Distribucion Porcentual de la Matricula de 2023 \\n    en Entre Ríos por modo de enseñanza en nivel secundario\",\n",
    "    col.main = \"black\",\n",
    "    sub = \"Fuente de elaboración propia (Gráfico N°10)\",\n",
    "    col.sub = \"black\",\n",
    "    density = 500, angle = seq(0, 180, 35),\n",
    "    border = 'black')\n"
   ]
  },
  {
   "cell_type": "code",
   "execution_count": null,
   "id": "5543d61e-874d-4b8d-a2d7-6a6350b09a74",
   "metadata": {},
   "outputs": [],
   "source": [
    "#Distribucion de la matricula por nivel de enseñanza\n",
    "\n",
    "# Calcular los porcentajes\n",
    "pie_commute <- round(100 * table(Victoria_secundaria$ModEnseñanza) / length(Victoria_secundaria$ModEnseñanza))\n"
   ]
  },
  {
   "cell_type": "code",
   "execution_count": null,
   "id": "a69442ea-f8b6-49b8-8926-343bc4e3f1dd",
   "metadata": {},
   "outputs": [],
   "source": [
    "#Distribucion de alumnos segun condicion final\n",
    "pie_commute <- round(100 * table(Victoria_secundaria$Condición) / length(Victoria_secundaria$Condición))\n",
    "\n",
    "colors = c(celeste,verde_claro)\n",
    "pie(pie_commute, labels = paste0(names(pie_commute),'\\n', pie_commute, ' %'),\n",
    "    col = colors,\n",
    "    radius = .75,\n",
    "    main = \"Distribucion Porcentual de la Matricula de 2023 en\n",
    "    Entre Ríos por condición final en nivel secundario\",\n",
    "    col.main = \"black\",\n",
    "    sub = \"Fuente de elaboración propia\n",
    "    (Gráfico n°12)\",\n",
    "    col.sub = \"black\",\n",
    "    density = 500, angle = seq(0,180,35),\n",
    "    border = 'black')"
   ]
  },
  {
   "cell_type": "code",
   "execution_count": null,
   "id": "f6ac9a8b-4adf-4d39-8099-daa37740d4dd",
   "metadata": {},
   "outputs": [],
   "source": [
    "matriculas_primaria <- 3182 #Cantidad de alumnos tomadas del dataset primaria\n",
    "matriculas_secundaria <- length(unique(secundaria_VICTORIA$Documento))\n",
    "total_matriculas <- matriculas_primaria + matriculas_secundaria\n",
    "\n",
    "# Calcular los porcentajes\n",
    "porcentaje_primaria <- round(100 * matriculas_primaria / total_matriculas, 1)\n",
    "porcentaje_secundaria <- round(100 * matriculas_secundaria / total_matriculas, 1)\n",
    "\n",
    "# Títulos para las etiquetas\n",
    "titulos <- c(paste(\"Primaria\\n\", porcentaje_primaria, \"%\"), \n",
    "             paste(\"Secundaria\\n\", porcentaje_secundaria, \"%\"))\n",
    "\n",
    "#Colores para el grafico\n",
    "colors = c(azul,violeta_rosado)\n",
    "\n",
    "# Crear el gráfico de torta\n",
    "pie(c(matriculas_primaria, matriculas_secundaria),\n",
    "    labels = titulos,\n",
    "    col = colors,\n",
    "    radius = .75,\n",
    "    main = \"Distribución Porcentual de Alumnos Totales en 2023\\nen el Departamento Victoria\",\n",
    "    col.main = \"black\",\n",
    "    sub = \"Fuente de elaboración propia (Gráfico N°27)\",\n",
    "    col.sub = \"black\",\n",
    "    density = 500,\n",
    "    angle = seq(0, 180, 35),\n",
    "    border = 'black')"
   ]
  },
  {
   "cell_type": "code",
   "execution_count": null,
   "id": "197ddcee-9ea4-40ba-84f1-cc5818b0cc76",
   "metadata": {},
   "outputs": [],
   "source": [
    "secundarias_privadas <- filter(Victoria_secundaria_unico, EsPrivada == \"S\")"
   ]
  },
  {
   "cell_type": "code",
   "execution_count": null,
   "id": "8d8e2307-68d7-4369-b85e-abb91c93d73b",
   "metadata": {},
   "outputs": [],
   "source": [
    "dim(secundarias_privadas)"
   ]
  },
  {
   "cell_type": "code",
   "execution_count": null,
   "id": "5e0118c3-2f2b-494f-bed2-9454954d8928",
   "metadata": {},
   "outputs": [],
   "source": [
    "#Distribucion de alumnos por año en colegios secundarios PRIVADOS\n",
    "#Define todas las categorías (años)\n",
    "categorias <- c('PRIMERO', 'SEGUNDO', 'TERCERO', 'CUARTO', 'QUINTO', 'SEXTO', 'SEPTIMO')\n",
    "\n",
    "# Calcula la tabla de frecuencias\n",
    "tabla <- table(secundarias_privadas$Año_Curso)\n",
    "\n",
    "# Completa la tabla con todas las categorías\n",
    "tabla_completa <- table(factor(secundarias_privadas$Año_Curso, levels = categorias))\n",
    "\n",
    "# Graficamos\n",
    "bp <- barplot(tabla_completa, \n",
    "               main = \"Frecuencia absoluta de estudiantes por año en secundarias privadas\",\n",
    "               sub = \"(Gráfico N°4)\",\n",
    "               col.sub = \"black\",\n",
    "               col = c(rojo_pastel, azul, verde, amarillo, naranja, violeta, azul_violeta), \n",
    "               ylim = c(0, 200), \n",
    "               las = 1,\n",
    "               cex.names = 0.79)\n",
    "\n",
    "# Agrega etiquetas con los porcentajes\n",
    "text(x = bp, \n",
    "     y = tabla_completa, \n",
    "     labels = paste(tabla_completa), \n",
    "     pos = 3,  # Posición para ubicar el texto (encima de la barra)\n",
    "     cex = 1.2,  # Tamaño del texto\n",
    "     col = \"black\")  # Color del texto"
   ]
  },
  {
   "cell_type": "markdown",
   "id": "6e6fb770-a757-4dfc-a4bc-989a8ef75f80",
   "metadata": {},
   "source": [
    "-----------------"
   ]
  },
  {
   "cell_type": "markdown",
   "id": "54f88106-33cd-4ba6-8153-4dbf832dc57f",
   "metadata": {},
   "source": [
    "## Guia ejercicios 4-5"
   ]
  },
  {
   "cell_type": "code",
   "execution_count": null,
   "id": "86a118d1-6b57-4171-b521-6bd396e2b134",
   "metadata": {},
   "outputs": [],
   "source": [
    "#Aunque lo tenemos arriba, lo leemos nuevamente \n",
    "secundaria_VICTORIA <- read_excel(\"VICTORIA_SECUNDARIA_LIMPIA.xlsx\")"
   ]
  },
  {
   "cell_type": "code",
   "execution_count": null,
   "id": "3a566a18-0ce3-4dd5-b103-72d5f3632fd6",
   "metadata": {},
   "outputs": [],
   "source": [
    "#CHEQUEAMOS FALTA DE DATOS EN PRIMERO SEGUNDO TERCERO Y SEPTIMO COLEGIOS PRIVADOS SECUNDARIOS"
   ]
  },
  {
   "cell_type": "code",
   "execution_count": null,
   "id": "72127bb8-974f-4701-8702-cf3d9cd2cd24",
   "metadata": {},
   "outputs": [],
   "source": [
    "aux <- filter(secundaria_VICTORIA,EsPrivada == \"S\")"
   ]
  },
  {
   "cell_type": "code",
   "execution_count": null,
   "id": "373b7350-035e-479f-bd05-5136587e998c",
   "metadata": {},
   "outputs": [],
   "source": [
    "names(aux)\n",
    "unique(aux$`NivelEnseñanza`)\n",
    "dim(aux)"
   ]
  },
  {
   "cell_type": "code",
   "execution_count": null,
   "id": "833b1007-190d-4773-8fcb-65c09af328b7",
   "metadata": {},
   "outputs": [],
   "source": [
    "unique(aux$Año_Curso)\n",
    "#No hay colegios privados de primer,segundo y tercer año"
   ]
  },
  {
   "cell_type": "code",
   "execution_count": null,
   "id": "e1cdee7c-998b-4f18-aaa0-6ccf139c8fc7",
   "metadata": {},
   "outputs": [],
   "source": [
    "unique(secundaria_VICTORIA$ModEnseñanza)"
   ]
  },
  {
   "cell_type": "markdown",
   "id": "9f7716e7-3a90-4210-b372-cf0266c646e8",
   "metadata": {},
   "source": [
    "------------------"
   ]
  },
  {
   "cell_type": "markdown",
   "id": "f6e1f48e-11fc-4643-9094-9db95e80f7f2",
   "metadata": {},
   "source": [
    "### ANALISIS SECUNDARIA POR AÑOS (PRIMERO - SEGUNDO - TERCERO - CUARTO - QUINTO - SEXTO - SEPTIMO)"
   ]
  },
  {
   "cell_type": "code",
   "execution_count": null,
   "id": "48abf590-1ff0-4ba1-8e45-34765e77bf13",
   "metadata": {},
   "outputs": [],
   "source": [
    "#Separamos el dataset por año de cursado\n",
    "PRIMERO_Victoria_secundaria <- filter(secundaria_VICTORIA,Año_Curso == \"PRIMERO\")\n",
    "SEGUNDO_Victoria_secundaria <- filter(secundaria_VICTORIA,Año_Curso == \"SEGUNDO\")\n",
    "TERCERO_Victoria_secundaria <- filter(secundaria_VICTORIA,Año_Curso == \"TERCERO\")\n",
    "CUARTO_Victoria_secundaria <- filter(secundaria_VICTORIA,Año_Curso == \"CUARTO\")\n",
    "QUINTO_Victoria_secundaria <- filter(secundaria_VICTORIA,Año_Curso == \"QUINTO\")\n",
    "SEXTO_Victoria_secundaria <- filter(secundaria_VICTORIA,Año_Curso == \"SEXTO\")\n",
    "SEPTIMO_Victoria_secundaria <- filter(secundaria_VICTORIA,Año_Curso == \"SEPTIMO\")"
   ]
  },
  {
   "cell_type": "code",
   "execution_count": null,
   "id": "eef3365f-70e2-477c-abf0-d2af0c2d1685",
   "metadata": {},
   "outputs": [],
   "source": [
    "#A modo de verificacion contamos la cantidad de alumnos en cada año\n",
    "alumnos_PRIMERO <- PRIMERO_Victoria_secundaria %>%\n",
    "  distinct(Documento)\n",
    "cat(\"N° alumnos PRIMERO: \",dim(alumnos_PRIMERO)[1], \"\\n\")\n",
    "\n",
    "alumnos_SEGUNDO <- SEGUNDO_Victoria_secundaria %>%\n",
    "  distinct(Documento)\n",
    "cat(\"N° alumnos SEGUNDO: \",dim(alumnos_SEGUNDO)[1], \"\\n\")\n",
    "\n",
    "alumnos_TERCERO <- TERCERO_Victoria_secundaria %>%\n",
    "  distinct(Documento)\n",
    "cat(\"N° alumnos TERCERO: \",dim(alumnos_TERCERO)[1], \"\\n\")\n",
    "\n",
    "alumnos_CUARTO <- CUARTO_Victoria_secundaria %>%\n",
    "  distinct(Documento)\n",
    "cat(\"N° alumnos CUARTO: \",dim(alumnos_CUARTO)[1], \"\\n\")\n",
    "\n",
    "alumnos_QUINTO <- QUINTO_Victoria_secundaria %>%\n",
    "  distinct(Documento)\n",
    "cat(\"N° alumnos QUINTO: \",dim(alumnos_QUINTO)[1], \"\\n\")\n",
    "\n",
    "alumnos_SEXTO <- SEXTO_Victoria_secundaria %>%\n",
    "  distinct(Documento)\n",
    "cat(\"N° alumnos SEXTO: \",dim(alumnos_SEXTO)[1], \"\\n\")\n",
    "\n",
    "alumnos_SEPTIMO <- SEPTIMO_Victoria_secundaria %>%\n",
    "  distinct(Documento)\n",
    "cat(\"N° alumnos SEPTIMO: \",dim(alumnos_SEPTIMO)[1], \"\\n\")"
   ]
  },
  {
   "cell_type": "markdown",
   "id": "693384f3-90f6-4fce-98f9-bfe95ee12462",
   "metadata": {},
   "source": [
    "### PRIMERO"
   ]
  },
  {
   "cell_type": "code",
   "execution_count": null,
   "id": "482ee3a8-9efc-4f14-b5fb-67c86f4f45cd",
   "metadata": {},
   "outputs": [],
   "source": [
    "#Boxplots comparativos asignaturas PRIMER AÑO\n",
    "\n",
    "# Filtrar los datos para las cuatro asignaturas\n",
    "datos_boxplot <- PRIMERO_Victoria_secundaria %>%\n",
    "  filter(asignatura %in% c(\"MATEMATICA\", \"LENGUA Y LITERATURA\", \"EDUCACION FISICA\", \"INGLES\"))\n",
    "\n",
    "# Crear un vector de colores para cada boxplot\n",
    "colores <- c(rojo_pastel,azul_verde,amarillo_verde,naranja)\n",
    "\n",
    "# Crear el boxplot\n",
    "boxplot(Promedio ~ asignatura, data = datos_boxplot, \n",
    "        main = \"Comparación de Promedios en asignaturas de primer año\",\n",
    "        xlab = \"Asignatura\",\n",
    "        ylab = \"Promedio\",\n",
    "        col = colores,\n",
    "        border = \"black\",\n",
    "        cex.axis = 0.8\n",
    "       )\n",
    "\n",
    "# Calcular el promedio de las asignaturas a modo de chequeo del grafico\n",
    "cat(\"Mediana MATEMATICA\",median(datos_boxplot$Promedio[datos_boxplot$asignatura == \"MATEMATICA\"], na.rm = TRUE), \"\\n\")\n",
    "cat(\"Mediana LENGUA Y LITERATURA\",median(datos_boxplot$Promedio[datos_boxplot$asignatura == \"LENGUA Y LITERATURA\"], na.rm = TRUE), \"\\n\")\n",
    "cat(\"Mediana EDUCACION FISICA\",median(datos_boxplot$Promedio[datos_boxplot$asignatura == \"EDUCACION FISICA\"], na.rm = TRUE), \"\\n\")\n",
    "cat(\"Mediana INGLES\",median(datos_boxplot$Promedio[datos_boxplot$asignatura == \"INGLES\"], na.rm = TRUE))"
   ]
  },
  {
   "cell_type": "code",
   "execution_count": null,
   "id": "0f471e6b-04f8-4ac0-9f1d-bca7fbd61af0",
   "metadata": {},
   "outputs": [],
   "source": [
    "#Graficamos HISTOGRAMAS de los promedios de las materias de primer año\n",
    "\n",
    "#MATEMATICA\n",
    "Notas_matematica <- PRIMERO_Victoria_secundaria %>%\n",
    "  filter(asignatura == \"MATEMATICA\") \n",
    "Grafico <- fdt(Notas_matematica$Promedio, breaks= \"Sturges\", na.rm= TRUE)\n",
    "plot(Grafico,\n",
    "     type= \"fh\",\n",
    "     col= naranja,\n",
    "     main= \"Histograma de los promedios de primer año\n",
    "     en la asignatura Matemática\",\n",
    "     col.sub= \"black\",)\n",
    "\n",
    "#LENGUA Y LITERATURA \n",
    "Notas_lengua <- PRIMERO_Victoria_secundaria %>%\n",
    "  filter(asignatura == \"LENGUA Y LITERATURA\") \n",
    "Grafico <- fdt(Notas_lengua$Promedio, breaks= \"Sturges\", na.rm= TRUE)\n",
    "plot(Grafico,\n",
    "     type= \"fh\",\n",
    "     col= amarillo_verde,\n",
    "     main= \"Histograma de los promedios de primer año\n",
    "     en la asignatura Lengua y Literatura\",\n",
    "     col.sub= \"black\",)\n",
    "\n",
    "#INGLES\n",
    "Notas_ingles <- PRIMERO_Victoria_secundaria %>%\n",
    "  filter(asignatura == \"INGLES\") \n",
    "Grafico <- fdt(Notas_ingles$Promedio, breaks= \"Sturges\", na.rm= TRUE)\n",
    "plot(Grafico,\n",
    "     type= \"fh\",\n",
    "     col= azul_verde,\n",
    "     main= \"Histograma de los promedios de primer año\n",
    "     en la asignatura Ingles\",\n",
    "     col.sub= \"black\",)\n",
    "\n",
    "#EDUCACION FISICA\n",
    "Notas_ef <- PRIMERO_Victoria_secundaria %>%\n",
    "  filter(asignatura == \"EDUCACION FISICA\") \n",
    "Grafico <- fdt(Notas_ef$Promedio, breaks= \"Sturges\", na.rm= TRUE)\n",
    "plot(Grafico,\n",
    "     type= \"fh\",\n",
    "     col= rojo_pastel,\n",
    "     main= \"Histograma de los promedios de primer año\n",
    "     en la asignatura Educacion Fisica\",\n",
    "     col.sub= \"black\",)"
   ]
  },
  {
   "cell_type": "markdown",
   "id": "60cefcbd-b69b-461e-90ca-f5659f440f37",
   "metadata": {},
   "source": [
    "### SEGUNDO"
   ]
  },
  {
   "cell_type": "code",
   "execution_count": null,
   "id": "082a4768-7bf0-474a-a1c4-085fa4bd1ae2",
   "metadata": {},
   "outputs": [],
   "source": [
    "#Boxplots comparativos asignaturas SEGUNDO AÑO\n",
    "\n",
    "# Filtrar los datos para las cuatro asignaturas\n",
    "datos_boxplot <- SEGUNDO_Victoria_secundaria %>%\n",
    "  filter(asignatura %in% c(\"MATEMATICA\", \"LENGUA Y LITERATURA\", \"EDUCACION FISICA\", \"INGLES\"))\n",
    "\n",
    "# Crear un vector de colores para cada boxplot\n",
    "colores <- c(rojo_pastel,azul_verde,amarillo_verde,naranja)\n",
    "\n",
    "# Crear el boxplot\n",
    "boxplot(Promedio ~ asignatura, data = datos_boxplot, \n",
    "        main = \"Comparación de Promedios en asignaturas de segundo año\",\n",
    "        xlab = \"Asignatura\",\n",
    "        ylab = \"Promedio\",\n",
    "        col = colores,\n",
    "        border = \"black\",\n",
    "        cex.axis = 0.8\n",
    "       )\n",
    "\n",
    "# Calcular el promedio de las asignaturas a modo de chequeo del grafico\n",
    "cat(\"Mediana MATEMATICA\",median(datos_boxplot$Promedio[datos_boxplot$asignatura == \"MATEMATICA\"], na.rm = TRUE), \"\\n\")\n",
    "cat(\"Mediana LENGUA Y LITERATURA\",median(datos_boxplot$Promedio[datos_boxplot$asignatura == \"LENGUA Y LITERATURA\"], na.rm = TRUE), \"\\n\")\n",
    "cat(\"Mediana EDUCACION FISICA\",median(datos_boxplot$Promedio[datos_boxplot$asignatura == \"EDUCACION FISICA\"], na.rm = TRUE), \"\\n\")\n",
    "cat(\"Mediana INGLES\",median(datos_boxplot$Promedio[datos_boxplot$asignatura == \"INGLES\"],na.rm = TRUE))"
   ]
  },
  {
   "cell_type": "code",
   "execution_count": null,
   "id": "192319ed-aefe-4386-ba80-1f2a36e63b41",
   "metadata": {},
   "outputs": [],
   "source": [
    "#Graficamos HISTOGRAMAS de los promedios de las materias de segundo año\n",
    "\n",
    "#MATEMATICA\n",
    "Notas_matematica <- SEGUNDO_Victoria_secundaria %>%\n",
    "  filter(asignatura == \"MATEMATICA\") \n",
    "Grafico <- fdt(Notas_matematica$Promedio, breaks= \"Sturges\", na.rm= TRUE)\n",
    "plot(Grafico,\n",
    "     type= \"fh\",\n",
    "     col= naranja,\n",
    "     main= \"Histograma de los promedios de segundo año\n",
    "     en la asignatura Matemática\",\n",
    "     col.sub= \"black\",)\n",
    "\n",
    "#LENGUA Y LITERATURA \n",
    "Notas_lengua <- SEGUNDO_Victoria_secundaria %>%\n",
    "  filter(asignatura == \"LENGUA Y LITERATURA\") \n",
    "Grafico <- fdt(Notas_lengua$Promedio, breaks= \"Sturges\", na.rm= TRUE)\n",
    "plot(Grafico,\n",
    "     type= \"fh\",\n",
    "     col= amarillo_verde,\n",
    "     main= \"Histograma de los promedios de segundo año\n",
    "     en la asignatura Lengua y Literatura\",\n",
    "     col.sub= \"black\",)\n",
    "\n",
    "#INGLES\n",
    "Notas_ingles <- SEGUNDO_Victoria_secundaria %>%\n",
    "  filter(asignatura == \"INGLES\") \n",
    "Grafico <- fdt(Notas_ingles$Promedio, breaks= \"Sturges\", na.rm= TRUE)\n",
    "plot(Grafico,\n",
    "     type= \"fh\",\n",
    "     col= azul_verde,\n",
    "     main= \"Histograma de los promedios de segundo año\n",
    "     en la asignatura Ingles\",\n",
    "     col.sub= \"black\",)\n",
    "\n",
    "#EDUCACION FISICA\n",
    "Notas_ef <- SEGUNDO_Victoria_secundaria %>%\n",
    "  filter(asignatura == \"EDUCACION FISICA\") \n",
    "Grafico <- fdt(Notas_ef$Promedio, breaks= \"Sturges\", na.rm= TRUE)\n",
    "plot(Grafico,\n",
    "     type= \"fh\",\n",
    "     col= rojo_pastel,\n",
    "     main= \"Histograma de los promedios de segundo año\n",
    "     en la asignatura Educacion Fisica\",\n",
    "     col.sub= \"black\",)"
   ]
  },
  {
   "cell_type": "markdown",
   "id": "cb7297e2-53c3-48f4-8695-70b09efc82d1",
   "metadata": {},
   "source": [
    "### TERCERO"
   ]
  },
  {
   "cell_type": "code",
   "execution_count": null,
   "id": "e6e61f33-4bb7-4aeb-9180-a9eb6384f680",
   "metadata": {},
   "outputs": [],
   "source": [
    "#Boxplots comparativos asignaturas TERCER AÑO\n",
    "\n",
    "# Filtrar los datos para las cuatro asignaturas\n",
    "datos_boxplot <- TERCERO_Victoria_secundaria %>%\n",
    "  filter(asignatura %in% c(\"MATEMATICA\", \"LENGUA Y LITERATURA\", \"EDUCACION FISICA\", \"INGLES\"))\n",
    "\n",
    "# Crear un vector de colores para cada boxplot\n",
    "colores <- c(rojo_pastel,azul_verde,amarillo_verde,naranja)\n",
    "\n",
    "# Crear el boxplot\n",
    "boxplot(Promedio ~ asignatura, data = datos_boxplot, \n",
    "        main = \"Comparación de Promedios en asignaturas de tercer año\",\n",
    "        xlab = \"Asignatura\",\n",
    "        ylab = \"Promedio\",\n",
    "        col = colores,\n",
    "        border = \"black\",\n",
    "        cex.axis = 0.8\n",
    "       )\n",
    "\n",
    "# Calcular el promedio de las asignaturas a modo de chequeo del grafico\n",
    "cat(\"Mediana MATEMATICA\",median(datos_boxplot$Promedio[datos_boxplot$asignatura == \"MATEMATICA\"], na.rm = TRUE), \"\\n\")\n",
    "cat(\"Mediana LENGUA Y LITERATURA\",median(datos_boxplot$Promedio[datos_boxplot$asignatura == \"LENGUA Y LITERATURA\"], na.rm = TRUE), \"\\n\")\n",
    "cat(\"Mediana EDUCACION FISICA\",median(datos_boxplot$Promedio[datos_boxplot$asignatura == \"EDUCACION FISICA\"], na.rm = TRUE), \"\\n\")\n",
    "cat(\"Mediana INGLES\",median(datos_boxplot$Promedio[datos_boxplot$asignatura == \"INGLES\"],na.rm = TRUE))"
   ]
  },
  {
   "cell_type": "code",
   "execution_count": null,
   "id": "bbf8d0c8-6bed-420e-9c25-e544abcb72b5",
   "metadata": {},
   "outputs": [],
   "source": [
    "#Graficamos HISTOGRAMAS de los promedios de las materias de tercer año\n",
    "\n",
    "#MATEMATICA\n",
    "Notas_matematica <- TERCERO_Victoria_secundaria %>%\n",
    "  filter(asignatura == \"MATEMATICA\") \n",
    "Grafico <- fdt(Notas_matematica$Promedio, breaks= \"Sturges\", na.rm= TRUE)\n",
    "plot(Grafico,\n",
    "     type= \"fh\",\n",
    "     col= naranja,\n",
    "     main= \"Histograma de los promedios de tercer año\n",
    "     en la asignatura Matemática\",\n",
    "     col.sub= \"black\",)\n",
    "\n",
    "#LENGUA Y LITERATURA \n",
    "Notas_lengua <- TERCERO_Victoria_secundaria %>%\n",
    "  filter(asignatura == \"LENGUA Y LITERATURA\") \n",
    "Grafico <- fdt(Notas_lengua$Promedio, breaks= \"Sturges\", na.rm= TRUE)\n",
    "plot(Grafico,\n",
    "     type= \"fh\",\n",
    "     col= amarillo_verde,\n",
    "     main= \"Histograma de los promedios de tercer año\n",
    "     en la asignatura Lengua y Literatura\",\n",
    "     col.sub= \"black\",)\n",
    "\n",
    "#INGLES\n",
    "Notas_ingles <- TERCERO_Victoria_secundaria %>%\n",
    "  filter(asignatura == \"INGLES\") \n",
    "Grafico <- fdt(Notas_ingles$Promedio, breaks= \"Sturges\", na.rm= TRUE)\n",
    "plot(Grafico,\n",
    "     type= \"fh\",\n",
    "     col= azul_verde,\n",
    "     main= \"Histograma de los promedios de tercer año\n",
    "     en la asignatura Ingles\",\n",
    "     col.sub= \"black\",)\n",
    "\n",
    "#EDUCACION FISICA\n",
    "Notas_ef <- TERCERO_Victoria_secundaria %>%\n",
    "  filter(asignatura == \"EDUCACION FISICA\") \n",
    "Grafico <- fdt(Notas_ef$Promedio, breaks= \"Sturges\", na.rm= TRUE)\n",
    "plot(Grafico,\n",
    "     type= \"fh\",\n",
    "     col= rojo_pastel,\n",
    "     main= \"Histograma de los promedios de tercer año\n",
    "     en la asignatura Educacion Fisica\",\n",
    "     col.sub= \"black\",)"
   ]
  },
  {
   "cell_type": "markdown",
   "id": "2761cea2-17e1-49ca-b5fc-d21ca3f569a4",
   "metadata": {},
   "source": [
    "### CUARTO"
   ]
  },
  {
   "cell_type": "code",
   "execution_count": null,
   "id": "def472a1-8cf6-4053-868b-9b4c2bb6f2b0",
   "metadata": {},
   "outputs": [],
   "source": [
    "#Boxplots comparativos asignaturas CUARTO AÑO\n",
    "\n",
    "# Filtrar los datos para las cuatro asignaturas\n",
    "datos_boxplot <- CUARTO_Victoria_secundaria %>%\n",
    "  filter(asignatura %in% c(\"MATEMATICA\", \"LENGUA Y LITERATURA\", \"EDUCACION FISICA\", \"INGLES\"))\n",
    "\n",
    "# Crear un vector de colores para cada boxplot\n",
    "colores <- c(rojo_pastel,azul_verde,amarillo_verde,naranja)\n",
    "\n",
    "# Crear el boxplot\n",
    "boxplot(Promedio ~ asignatura, data = datos_boxplot, \n",
    "        main = \"Comparación de Promedios en asignaturas de cuarto año\",\n",
    "        xlab = \"Asignatura\",\n",
    "        ylab = \"Promedio\",\n",
    "        col = colores,\n",
    "        border = \"black\",\n",
    "        cex.axis = 0.8\n",
    "       )\n",
    "\n",
    "# Calcular el promedio de las asignaturas a modo de chequeo del grafico\n",
    "cat(\"Mediana MATEMATICA\",median(datos_boxplot$Promedio[datos_boxplot$asignatura == \"MATEMATICA\"], na.rm = TRUE), \"\\n\")\n",
    "cat(\"Mediana LENGUA Y LITERATURA\",median(datos_boxplot$Promedio[datos_boxplot$asignatura == \"LENGUA Y LITERATURA\"], na.rm = TRUE), \"\\n\")\n",
    "cat(\"Mediana EDUCACION FISICA\",median(datos_boxplot$Promedio[datos_boxplot$asignatura == \"EDUCACION FISICA\"], na.rm = TRUE), \"\\n\")\n",
    "cat(\"Mediana INGLES\",median(datos_boxplot$Promedio[datos_boxplot$asignatura == \"INGLES\"],na.rm = TRUE))"
   ]
  },
  {
   "cell_type": "code",
   "execution_count": null,
   "id": "112dfa67-6f77-482f-85f3-88cc846e00f6",
   "metadata": {},
   "outputs": [],
   "source": [
    "#Graficamos HISTOGRAMAS de los promedios de las materias de cuarto año\n",
    "\n",
    "#MATEMATICA\n",
    "Notas_matematica <- CUARTO_Victoria_secundaria %>%\n",
    "  filter(asignatura == \"MATEMATICA\") \n",
    "Grafico <- fdt(Notas_matematica$Promedio, breaks= \"Sturges\", na.rm= TRUE)\n",
    "plot(Grafico,\n",
    "     type= \"fh\",\n",
    "     col= naranja,\n",
    "     main= \"Histograma de los promedios de cuarto año\n",
    "     en la asignatura Matemática\",\n",
    "     col.sub= \"black\",)\n",
    "\n",
    "#LENGUA Y LITERATURA \n",
    "Notas_lengua <- CUARTO_Victoria_secundaria %>%\n",
    "  filter(asignatura == \"LENGUA Y LITERATURA\") \n",
    "Grafico <- fdt(Notas_lengua$Promedio, breaks= \"Sturges\", na.rm= TRUE)\n",
    "plot(Grafico,\n",
    "     type= \"fh\",\n",
    "     col= amarillo_verde,\n",
    "     main= \"Histograma de los promedios de cuarto año\n",
    "     en la asignatura Lengua y Literatura\",\n",
    "     col.sub= \"black\",)\n",
    "\n",
    "#INGLES\n",
    "Notas_ingles <- CUARTO_Victoria_secundaria %>%\n",
    "  filter(asignatura == \"INGLES\") \n",
    "Grafico <- fdt(Notas_ingles$Promedio, breaks= \"Sturges\", na.rm= TRUE)\n",
    "plot(Grafico,\n",
    "     type= \"fh\",\n",
    "     col= azul_verde,\n",
    "     main= \"Histograma de los promedios de cuarto año\n",
    "     en la asignatura Ingles\",\n",
    "     col.sub= \"black\",)\n",
    "\n",
    "#EDUCACION FISICA\n",
    "Notas_ef <- CUARTO_Victoria_secundaria %>%\n",
    "  filter(asignatura == \"EDUCACION FISICA\") \n",
    "Grafico <- fdt(Notas_ef$Promedio, breaks= \"Sturges\", na.rm= TRUE)\n",
    "plot(Grafico,\n",
    "     type= \"fh\",\n",
    "     col= rojo_pastel,\n",
    "     main= \"Histograma de los promedios de cuarto año\n",
    "     en la asignatura Educacion Fisica\",\n",
    "     col.sub= \"black\",)"
   ]
  },
  {
   "cell_type": "markdown",
   "id": "3005dc8e-ac9b-47e8-90b3-6e95888588ed",
   "metadata": {},
   "source": [
    "### QUINTO"
   ]
  },
  {
   "cell_type": "code",
   "execution_count": null,
   "id": "881ae2e4-f396-4c64-bea4-51e7f0e12549",
   "metadata": {},
   "outputs": [],
   "source": [
    "#Boxplots comparativos asignaturas QUINTO AÑO\n",
    "\n",
    "# Filtrar los datos para las cuatro asignaturas\n",
    "datos_boxplot <- QUINTO_Victoria_secundaria %>%\n",
    "  filter(asignatura %in% c(\"MATEMATICA\", \"LENGUA Y LITERATURA\", \"EDUCACION FISICA\", \"INGLES\"))\n",
    "\n",
    "# Crear un vector de colores para cada boxplot\n",
    "colores <- c(rojo_pastel,azul_verde,amarillo_verde,naranja)\n",
    "\n",
    "# Crear el boxplot\n",
    "boxplot(Promedio ~ asignatura, data = datos_boxplot, \n",
    "        main = \"Comparación de Promedios en asignaturas de quinto año\",\n",
    "        xlab = \"Asignatura\",\n",
    "        ylab = \"Promedio\",\n",
    "        col = colores,\n",
    "        border = \"black\",\n",
    "        cex.axis = 0.8\n",
    "       )\n",
    "\n",
    "# Calcular el promedio de las asignaturas a modo de chequeo del grafico\n",
    "cat(\"Mediana MATEMATICA\",median(datos_boxplot$Promedio[datos_boxplot$asignatura == \"MATEMATICA\"], na.rm = TRUE), \"\\n\")\n",
    "cat(\"Mediana LENGUA Y LITERATURA\",median(datos_boxplot$Promedio[datos_boxplot$asignatura == \"LENGUA Y LITERATURA\"], na.rm = TRUE), \"\\n\")\n",
    "cat(\"Mediana EDUCACION FISICA\",median(datos_boxplot$Promedio[datos_boxplot$asignatura == \"EDUCACION FISICA\"], na.rm = TRUE), \"\\n\")\n",
    "cat(\"Mediana INGLES\",median(datos_boxplot$Promedio[datos_boxplot$asignatura == \"INGLES\"],na.rm = TRUE))"
   ]
  },
  {
   "cell_type": "code",
   "execution_count": null,
   "id": "3c2e1c20-5998-4777-a17a-b0742a43bd47",
   "metadata": {},
   "outputs": [],
   "source": [
    "#Graficamos HISTOGRAMAS de los promedios de las materias de quinto año\n",
    "\n",
    "#MATEMATICA\n",
    "Notas_matematica <- QUINTO_Victoria_secundaria %>%\n",
    "  filter(asignatura == \"MATEMATICA\") \n",
    "Grafico <- fdt(Notas_matematica$Promedio, breaks= \"Sturges\", na.rm= TRUE)\n",
    "plot(Grafico,\n",
    "     type= \"fh\",\n",
    "     col= naranja,\n",
    "     main= \"Histograma de los promedios de quinto año\n",
    "     en la asignatura Matemática\",\n",
    "     col.sub= \"black\",)\n",
    "\n",
    "#LENGUA Y LITERATURA \n",
    "Notas_lengua <- QUINTO_Victoria_secundaria %>%\n",
    "  filter(asignatura == \"LENGUA Y LITERATURA\") \n",
    "Grafico <- fdt(Notas_lengua$Promedio, breaks= \"Sturges\", na.rm= TRUE)\n",
    "plot(Grafico,\n",
    "     type= \"fh\",\n",
    "     col= amarillo_verde,\n",
    "     main= \"Histograma de los promedios de quinto año\n",
    "     en la asignatura Lengua y Literatura\",\n",
    "     col.sub= \"black\",)\n",
    "\n",
    "#INGLES\n",
    "Notas_ingles <- QUINTO_Victoria_secundaria %>%\n",
    "  filter(asignatura == \"INGLES\") \n",
    "Grafico <- fdt(Notas_ingles$Promedio, breaks= \"Sturges\", na.rm= TRUE)\n",
    "plot(Grafico,\n",
    "     type= \"fh\",\n",
    "     col= azul_verde,\n",
    "     main= \"Histograma de los promedios de quinto año\n",
    "     en la asignatura Ingles\",\n",
    "     col.sub= \"black\",)\n",
    "\n",
    "#EDUCACION FISICA\n",
    "Notas_ef <- QUINTO_Victoria_secundaria %>%\n",
    "  filter(asignatura == \"EDUCACION FISICA\") \n",
    "Grafico <- fdt(Notas_ef$Promedio, breaks= \"Sturges\", na.rm= TRUE)\n",
    "plot(Grafico,\n",
    "     type= \"fh\",\n",
    "     col= rojo_pastel,\n",
    "     main= \"Histograma de los promedios de quinto año\n",
    "     en la asignatura Educacion Fisica\",\n",
    "     col.sub= \"black\",)"
   ]
  },
  {
   "cell_type": "markdown",
   "id": "61cbf1bc-dc1b-4fda-a1dd-394062fb7e38",
   "metadata": {},
   "source": [
    "### SEXTO"
   ]
  },
  {
   "cell_type": "code",
   "execution_count": null,
   "id": "7454b394-b40d-40a1-bfee-f8b9c5b39a82",
   "metadata": {},
   "outputs": [],
   "source": [
    "#Boxplots comparativos asignaturas SEXTO AÑO\n",
    "\n",
    "# Filtrar los datos para las cuatro asignaturas\n",
    "datos_boxplot <- SEXTO_Victoria_secundaria %>%\n",
    "  filter(asignatura %in% c(\"MATEMATICA\", \"LENGUA Y LITERATURA\", \"EDUCACION FISICA\", \"INGLES\"))\n",
    "\n",
    "# Crear un vector de colores para cada boxplot\n",
    "colores <- c(rojo_pastel,azul_verde,amarillo_verde,naranja)\n",
    "\n",
    "# Crear el boxplot\n",
    "boxplot(Promedio ~ asignatura, data = datos_boxplot, \n",
    "        main = \"Comparación de Promedios en asignaturas de sexto año\",\n",
    "        xlab = \"Asignatura\",\n",
    "        ylab = \"Promedio\",\n",
    "        col = colores,\n",
    "        border = \"black\",\n",
    "        cex.axis = 0.8\n",
    "       )\n",
    "\n",
    "# Calcular el promedio de las asignaturas a modo de chequeo del grafico\n",
    "cat(\"Mediana MATEMATICA\",median(datos_boxplot$Promedio[datos_boxplot$asignatura == \"MATEMATICA\"], na.rm = TRUE), \"\\n\")\n",
    "cat(\"Mediana LENGUA Y LITERATURA\",median(datos_boxplot$Promedio[datos_boxplot$asignatura == \"LENGUA Y LITERATURA\"], na.rm = TRUE), \"\\n\")\n",
    "cat(\"Mediana EDUCACION FISICA\",median(datos_boxplot$Promedio[datos_boxplot$asignatura == \"EDUCACION FISICA\"], na.rm = TRUE), \"\\n\")\n",
    "cat(\"Mediana INGLES\",median(datos_boxplot$Promedio[datos_boxplot$asignatura == \"INGLES\"],na.rm = TRUE))"
   ]
  },
  {
   "cell_type": "code",
   "execution_count": null,
   "id": "7c1e028d-85da-4d37-9f23-79f6466659a9",
   "metadata": {},
   "outputs": [],
   "source": [
    "#Graficamos HISTOGRAMAS de los promedios de las materias de sexto año\n",
    "\n",
    "#MATEMATICA\n",
    "Notas_matematica <- SEXTO_Victoria_secundaria %>%\n",
    "  filter(asignatura == \"MATEMATICA\") \n",
    "Grafico <- fdt(Notas_matematica$Promedio, breaks= \"Sturges\", na.rm= TRUE)\n",
    "plot(Grafico,\n",
    "     type= \"fh\",\n",
    "     col= naranja,\n",
    "     main= \"Histograma de los promedios de sexto año\n",
    "     en la asignatura Matemática\",\n",
    "     col.sub= \"black\",)\n",
    "\n",
    "#LENGUA Y LITERATURA \n",
    "Notas_lengua <- SEXTO_Victoria_secundaria %>%\n",
    "  filter(asignatura == \"LENGUA Y LITERATURA\") \n",
    "Grafico <- fdt(Notas_lengua$Promedio, breaks= \"Sturges\", na.rm= TRUE)\n",
    "plot(Grafico,\n",
    "     type= \"fh\",\n",
    "     col= amarillo_verde,\n",
    "     main= \"Histograma de los promedios de sexto año\n",
    "     en la asignatura Lengua y Literatura\",\n",
    "     col.sub= \"black\",)\n",
    "\n",
    "#INGLES\n",
    "Notas_ingles <- SEXTO_Victoria_secundaria %>%\n",
    "  filter(asignatura == \"INGLES\") \n",
    "Grafico <- fdt(Notas_ingles$Promedio, breaks= \"Sturges\", na.rm= TRUE)\n",
    "plot(Grafico,\n",
    "     type= \"fh\",\n",
    "     col= azul_verde,\n",
    "     main= \"Histograma de los promedios de sexto año\n",
    "     en la asignatura Ingles\",\n",
    "     col.sub= \"black\",)\n",
    "\n",
    "#EDUCACION FISICA\n",
    "Notas_ef <- SEXTO_Victoria_secundaria %>%\n",
    "  filter(asignatura == \"EDUCACION FISICA\") \n",
    "Grafico <- fdt(Notas_ef$Promedio, breaks= \"Sturges\", na.rm= TRUE)\n",
    "plot(Grafico,\n",
    "     type= \"fh\",\n",
    "     col= rojo_pastel,\n",
    "     main= \"Histograma de los promedios de sexto año\n",
    "     en la asignatura Educacion Fisica\",\n",
    "     col.sub= \"black\",)"
   ]
  },
  {
   "cell_type": "markdown",
   "id": "40e3bafe-da77-4027-81bf-cd4fc9325164",
   "metadata": {},
   "source": [
    "### SEPTIMO"
   ]
  },
  {
   "cell_type": "code",
   "execution_count": null,
   "id": "4d0417d4-50ec-491b-aa80-6ad55b741ab5",
   "metadata": {},
   "outputs": [],
   "source": [
    "#Boxplots comparativos asignaturas SEPTIMO AÑO\n",
    "\n",
    "# Filtrar los datos para las cuatro asignaturas\n",
    "datos_boxplot <- SEPTIMO_Victoria_secundaria %>%\n",
    "  filter(asignatura %in% c(\"MATEMATICA\", \"EDUCACION FISICA\"))\n",
    "\n",
    "# Crear un vector de colores para cada boxplot\n",
    "colores <- c(rojo_pastel,naranja)\n",
    "\n",
    "# Crear el boxplot\n",
    "boxplot(Promedio ~ asignatura, data = datos_boxplot, \n",
    "        main = \"Comparación de Promedios en asignaturas de septimo año\",\n",
    "        xlab = \"Asignatura\",\n",
    "        ylab = \"Promedio\",\n",
    "        col = colores,\n",
    "        border = \"black\",\n",
    "        cex.axis = 0.8\n",
    "       )\n",
    "\n",
    "# Calcular el promedio de las asignaturas a modo de chequeo del grafico\n",
    "cat(\"Mediana MATEMATICA\",median(datos_boxplot$Promedio[datos_boxplot$asignatura == \"MATEMATICA\"], na.rm = TRUE), \"\\n\")\n",
    "cat(\"Mediana EDUCACION FISICA\",median(datos_boxplot$Promedio[datos_boxplot$asignatura == \"EDUCACION FISICA\"], na.rm = TRUE), \"\\n\")"
   ]
  },
  {
   "cell_type": "code",
   "execution_count": null,
   "id": "6a2cdc42-0403-4e38-a20b-436cc6b6480e",
   "metadata": {},
   "outputs": [],
   "source": [
    "#Graficamos HISTOGRAMAS de los promedios de las materias de septimo año\n",
    "\n",
    "#MATEMATICA\n",
    "Notas_matematica <- SEPTIMO_Victoria_secundaria %>%\n",
    "  filter(asignatura == \"MATEMATICA\") \n",
    "Grafico <- fdt(Notas_matematica$Promedio, breaks= \"Sturges\", na.rm= TRUE)\n",
    "plot(Grafico,\n",
    "     type= \"fh\",\n",
    "     col= naranja,\n",
    "     main= \"Histograma de los promedios de septimo año\n",
    "     en la asignatura Matemática\",\n",
    "     col.sub= \"black\",)\n",
    "\n",
    "#EDUCACION FISICA\n",
    "Notas_ef <- SEPTIMO_Victoria_secundaria %>%\n",
    "  filter(asignatura == \"EDUCACION FISICA\") \n",
    "Grafico <- fdt(Notas_ef$Promedio, breaks= \"Sturges\", na.rm= TRUE)\n",
    "plot(Grafico,\n",
    "     type= \"fh\",\n",
    "     col= rojo_pastel,\n",
    "     main= \"Histograma de los promedios de septimo año\n",
    "     en la asignatura Educacion Fisica\",\n",
    "     col.sub= \"black\",)"
   ]
  },
  {
   "cell_type": "markdown",
   "id": "4d7ef4e0-eed3-48e0-893d-d60d8159c28e",
   "metadata": {},
   "source": [
    "### Calculo matriz de correlacion y correlacion parcial"
   ]
  },
  {
   "cell_type": "code",
   "execution_count": null,
   "id": "7f15d06b-b213-44e9-8ca4-0c917fb6da93",
   "metadata": {},
   "outputs": [],
   "source": [
    "#install.packages(\"corrplot\")  # Instalar el paquete corrplot si no está instalado\n",
    "library(corrplot)  # Cargar el paquete corrplot"
   ]
  },
  {
   "cell_type": "code",
   "execution_count": null,
   "id": "a2815d40-9776-4d84-a8da-f6936fb4a3ad",
   "metadata": {},
   "outputs": [],
   "source": [
    "#install.packages(\"ppcor\")  # Instalar el paquete ppcor si no está instalado\n",
    "library(ppcor)  # Cargar el paquete ppcor"
   ]
  },
  {
   "cell_type": "markdown",
   "id": "5d0fed2f-84eb-4a6a-bb21-87b632070e26",
   "metadata": {},
   "source": [
    "#### Primero"
   ]
  },
  {
   "cell_type": "code",
   "execution_count": null,
   "id": "d1e3f044-0d18-4729-b076-2d051875bb3f",
   "metadata": {},
   "outputs": [],
   "source": [
    "# Unimos en un data frame las materias seleccionadas para calcular correlaciones\n",
    "df <- suppressWarnings(dplyr::select(filter(PRIMERO_Victoria_secundaria,asignatura == \"MATEMATICA\"),\"Documento\",\"Promedio\") %>%\n",
    "    \tinner_join(dplyr::select(filter(PRIMERO_Victoria_secundaria,asignatura == \"LENGUA Y LITERATURA\"),\"Documento\",\"Promedio\"),by=\"Documento\")%>%\n",
    "    \tinner_join(dplyr::select(filter(PRIMERO_Victoria_secundaria,asignatura == \"INGLES\"),\"Documento\",\"Promedio\"),by=\"Documento\")%>%\n",
    "    \tinner_join(dplyr::select(filter(PRIMERO_Victoria_secundaria,asignatura == \"EDUCACION FISICA\"),\"Documento\",\"Promedio\"),by=\"Documento\")%>%\n",
    "    \tinner_join(dplyr::select(filter(PRIMERO_Victoria_secundaria,asignatura == \"HISTORIA\"),\"Documento\",\"Promedio\"),by=\"Documento\")%>%\n",
    "    \tinner_join(dplyr::select(filter(PRIMERO_Victoria_secundaria,asignatura == \"GEOGRAFIA\"),\"Documento\",\"Promedio\"),by=\"Documento\"))"
   ]
  },
  {
   "cell_type": "code",
   "execution_count": null,
   "id": "9643710b-f448-473d-8481-ca19ffcab6b3",
   "metadata": {},
   "outputs": [],
   "source": [
    "#Renombramos las columnas\n",
    "df <- rename(df,Prom_Mat=Promedio.x, Prom_Leng=Promedio.y, Prom_Ing=Promedio.x.x,\n",
    "         \tProm_ef=Promedio.y.y,Prom_Hist=Promedio.x.x.x, Prom_Geo=Promedio.y.y.y)"
   ]
  },
  {
   "cell_type": "code",
   "execution_count": null,
   "id": "07da8537-a83e-4bf5-a893-a29a6c3ad034",
   "metadata": {},
   "outputs": [],
   "source": [
    "# Gráfico de la matriz de correlación\n",
    "matriz_correlacion <- cor(df[, -1], method=\"spearman\")\n",
    "corrplot(matriz_correlacion, method = \"color\", type = \"upper\", \n",
    "         addCoef.col = \"black\", tl.col = \"black\", tl.srt = 45)\n",
    "title(\"Matriz de correlación - Primer año\", cex.main = 1.5)"
   ]
  },
  {
   "cell_type": "code",
   "execution_count": null,
   "id": "395ff495-85b5-4a5f-9344-bd206563d1d0",
   "metadata": {},
   "outputs": [],
   "source": [
    "# Gráfico de correlación parcial\n",
    "correlacion_parcial <- pcor(df[, -1], method = \"pearson\")$estimate\n",
    "corrplot(correlacion_parcial, method = \"color\", type = \"upper\", \n",
    "         addCoef.col = \"black\", tl.col = \"black\", tl.srt = 45)\n",
    "title(\"Correlación parcial - Primer año\", cex.main = 1.5)"
   ]
  },
  {
   "cell_type": "markdown",
   "id": "4fc5caa0-af71-4521-8126-881e77262471",
   "metadata": {},
   "source": [
    "-----------------------"
   ]
  },
  {
   "cell_type": "markdown",
   "id": "5bbdb517-3979-47b6-962d-c5d36d52e6cc",
   "metadata": {},
   "source": [
    "# Guia 6 - Comparacion de medias (1)"
   ]
  },
  {
   "cell_type": "code",
   "execution_count": null,
   "id": "1878b3ff-6d4b-4973-a751-def1441863f6",
   "metadata": {},
   "outputs": [],
   "source": [
    "#Aunque lo tenemos arriba, lo leemos nuevamente \n",
    "secundaria_VICTORIA <- read_excel(\"VICTORIA_SECUNDARIA_LIMPIA.xlsx\")"
   ]
  },
  {
   "cell_type": "markdown",
   "id": "604eada3-3194-459e-bd02-bcb4d4c64534",
   "metadata": {},
   "source": [
    "Actividad 1.1\n",
    "\n",
    "¿Podría afirmar que la media de su departamento en las notas Matemática de primer año estuvo por encima de 7?"
   ]
  },
  {
   "cell_type": "code",
   "execution_count": null,
   "id": "1494383f-534c-4e9e-bcaa-725485bf934c",
   "metadata": {},
   "outputs": [],
   "source": [
    "datos_mat <- filter(secundaria_VICTORIA, Año_Curso== \"PRIMERO\" & asignatura == \"MATEMATICA\")$Promedio\n",
    "\n",
    "# Chequeamos supuesto de normalidad, antes de realizar pruebas PARAMETRICAS\n",
    "shapiro.test(datos_mat) #p-value = 2.666e-07 --> Rechazo H0 --> Hay evidencia muestral suficiente p/concluir que los datos no siguen una distribución normal. \n",
    "ks.test(datos_mat, \"pnorm\") #Kolmogorov-Smirnov test seria lo ideal por el tamaño, pero no maneja bien valores repetidos (igualmente obtenemos mismo resultado)\n",
    "\n",
    "#No podemos usar un test parametrico (ya que no cumple supuesto de normalidad) para comparar las medias del promedio conseguido por los \n",
    "#alumnos de primer año en la asignatura de MATEMATICA. En su lugar, utilizaremos un test no parametrico como lo es el test de Wilcox pero \n",
    "#en vez de comparar las medias, compararemos las MEDIANAS.\n",
    "\n",
    "#Compara la mediana de la variable Promedio del dataset datos_mat con un valor constante, que en este caso es 7.\n",
    "wilcox.test(datos_mat, mu=7, alternative = \"greater\", conf.level = 0.95)\n",
    "# H0 -> la mediana de los alumnos de primer grado en matematica es 7\n",
    "# H1 -> la mediana de los alumnos de primer grado en matematica es mayor a 7\n",
    "# P-value = 1 --> No rechazo H0 -->No hay evidencia muestral suficiente p/concluir que la mediana de los estudiantes es mayor a 7\n",
    "\n",
    "#Puedo volver a ejecutar, pero esta vez viendo si es menor a 7\n",
    "wilcox.test(datos_mat, mu=7, alternative = \"less\", conf.level = 0.95)\n",
    "# H0 -> la mediana de los alumnos de primer grado en matematica es 7\n",
    "# H1 -> la mediana de los alumnos de primer grado en matematica es menor a 7\n",
    "# p-value < 2.2e-16 < (0.05) --> Rechazo H0 --> Hay evidencia muestral suf. p/afirmar que la mediana es menor a 7\n",
    "\n",
    "#Vemos efectivamente el valor de la mediana en el boxplot\n",
    "boxplot(datos_mat,\n",
    "        main = \"Boxplot - Promedios Matemática\",\n",
    "        xlab = \"Matematica\",\n",
    "        ylab = \"Promedio\",\n",
    "        col = c(\"#C23B22\"),\n",
    "        border = \"black\",\n",
    "        cex.axis = 0.8\n",
    ")\n",
    "#Vemos un resumen estadistico\n",
    "summary(datos_mat)"
   ]
  },
  {
   "cell_type": "markdown",
   "id": "982318a7-7c5a-4f67-98bb-b0a0f28c0f99",
   "metadata": {},
   "source": [
    "## Comparamos promedios de asignatura matemática en colegios privados y públicos."
   ]
  },
  {
   "cell_type": "code",
   "execution_count": null,
   "id": "e15d5a39-8ba9-488f-8fa2-e19ede768197",
   "metadata": {},
   "outputs": [],
   "source": [
    "#¿Hay diferencias significativas entre el rendimiento en matematica de colegios PRIVADOS y colegios PÚBLICOS?\n",
    "datos_mat_privado <- filter(secundaria_VICTORIA, EsPrivada == \"S\" & asignatura == \"MATEMATICA\")$Promedio\n",
    "datos_mat_publico <- filter(secundaria_VICTORIA, EsPrivada == \"N\" & asignatura == \"MATEMATICA\")$Promedio\n",
    "\n",
    "# Vemos sus normalidades\n",
    "shapiro.test(datos_mat_privado) #p-value = 9.983e-05 < α --> Rechazo H0 --> Hay evidencia muestral suficiente p/concluir que los datos no siguen una distribución normal. \n",
    "shapiro.test(datos_mat_publico) #p-value < 2.2e-16  < α --> Rechazo H0 --> Hay evidencia muestral suficiente p/concluir que los datos no siguen una distribución normal. \n",
    "\n",
    "#Como no cumple supuesto de normalidad, usamos test no parametrico\n",
    "\n",
    "# H0 -> No hay diferencia significativa en el rendimiento en matemáticas entre colegios privados y públicos\n",
    "# H1 -> El rendimiento de los alumnos en matematica es mejor en colegios privados que en colegios publicos\n",
    "wilcox.test(datos_mat_privado,datos_mat_publico, alternative = \"greater\", conf.level = 0.95)\n",
    "\n",
    "#p-value = 6.096e-09 < α --> Rechazo H0 --> \n",
    "#Hay evidencia muestral suficiente para sugerir que el rendimiento en matemáticas es realmente mejor en los colegios privados que en los públicos\n"
   ]
  },
  {
   "cell_type": "code",
   "execution_count": null,
   "id": "f13d69a4-1870-4fca-92a2-a92c1935e51f",
   "metadata": {},
   "outputs": [],
   "source": [
    "# Creamos el boxplot comparativo\n",
    "boxplot(datos_mat_privado, datos_mat_publico,\n",
    "        names = c(\"Privado\", \"Público\"),\n",
    "        main = \"Comparación de Promedios en Matemáticas por Tipo de Colegio\",\n",
    "        xlab = \"Tipo de Colegio\",\n",
    "        ylab = \"Promedio en Matemáticas\",\n",
    "        col = c(\"#C23B22\", \"#4caf50\"),\n",
    "        border = \"black\",\n",
    "        cex.axis = 0.8\n",
    ")\n",
    "\n",
    "#Vemos un resumen estadístico\n",
    "summary(datos_mat_privado)\n",
    "summary(datos_mat_publico)"
   ]
  },
  {
   "cell_type": "markdown",
   "id": "65e7b426-91ce-4879-a1f9-90557fbab9d4",
   "metadata": {},
   "source": [
    "## Comparamos promedios de asignatura matemática en colegios comunes y técnicos"
   ]
  },
  {
   "cell_type": "code",
   "execution_count": null,
   "id": "205a44db-2d3c-48c6-b271-9c8dd942f3ab",
   "metadata": {},
   "outputs": [],
   "source": [
    "#¿Hay diferencias significativas entre el rendimiento en matematica de colegios COMUNES y colegios TÉCNICOS?\n",
    "datos_mat_comun <- filter(secundaria_VICTORIA, ModEnseñanza == \"Comun\" & asignatura == \"MATEMATICA\")$Promedio\n",
    "datos_mat_tecnico <- filter(secundaria_VICTORIA, ModEnseñanza == \"Tecnica\" & asignatura == \"MATEMATICA\")$Promedio\n",
    "length(datos_mat_tecnico)\n",
    "# Vemos sus normalidades\n",
    "shapiro.test(datos_mat_comun) #p-value < 2.2e-16 < α(0.05) --> Rechazo H0 --> Hay evidencia muestral suficiente p/concluir que los datos no siguen una distribución normal. \n",
    "shapiro.test(datos_mat_tecnico) #p-value = 7.356e-05 < α(0.05) --> Rechazo H0 --> Hay evidencia muestral suficiente p/concluir que los datos no siguen una distribución normal. \n",
    "\n",
    "#Como no cumple supuesto de normalidad, usamos test no parametrico\n",
    "wilcox.test(datos_mat_tecnico, datos_mat_comun,alternative = \"two.sided\", conf.level = 0.95)\n",
    "# H0 -> La mediana de la distribución de los valores en el primer grupo es igual a la mediana de la distribución en el segundo grupo.\n",
    "# H1 -> La mediana de la distribución de los valores en uno de los grupos es diferente de la mediana de la distribución en el otro grupo.\n",
    "\n",
    "#p-value = 0.3615 > (0.05) --> No rechazo H0 --> No hay evidencia muestral suf. p/rechazar la hipotesis nula --> NO SE ENCONTRO DIFERENCIA EN LOS RENDIMIENTOS"
   ]
  },
  {
   "cell_type": "code",
   "execution_count": null,
   "id": "8ac1ede9-ef23-45c7-9c15-008036461459",
   "metadata": {},
   "outputs": [],
   "source": [
    "# Creamos el boxplot comparativo\n",
    "boxplot(datos_mat_comun, datos_mat_tecnico,\n",
    "        names = c(\"Comun\", \"Técnico\"),\n",
    "        main = \"Comparación de Promedios en Matemáticas por Modalidad de Enseñanza\",\n",
    "        xlab = \"Modalidad\",\n",
    "        ylab = \"Promedio en Matemáticas\",\n",
    "        col = c(\"#C23B22\", \"#4caf50\"),\n",
    "        border = \"black\",\n",
    "        cex.axis = 0.8\n",
    ")\n",
    "#Vemos un resumen estadístico\n",
    "summary(datos_mat_comun)\n",
    "summary(datos_mat_tecnico)"
   ]
  },
  {
   "cell_type": "markdown",
   "id": "7ee46406-662b-4681-9c72-764ed0475709",
   "metadata": {},
   "source": [
    "## Comparamos rendimiento matemática contra Eduacion Fisica"
   ]
  },
  {
   "cell_type": "code",
   "execution_count": null,
   "id": "42a107c3-8888-49ae-8e5b-14085f3b4b49",
   "metadata": {},
   "outputs": [],
   "source": [
    "#¿Hay diferencias significativas entre el rendimiento en matematica y el rendimiento en Educación Física?\n",
    "datos_matematica <- filter(secundaria_VICTORIA, asignatura == \"MATEMATICA\")$Promedio\n",
    "datos_ed_fisica <- filter(secundaria_VICTORIA, asignatura == \"EDUCACION FISICA\")$Promedio\n",
    "\n",
    "# Vemos sus normalidades\n",
    "#shapiro.test(datos_matematica) #p-value < 2.2e-16 < α(0.05) --> Rechazo H0 --> Hay evidencia muestral suficiente p/concluir que los datos no siguen una distribución normal. \n",
    "#shapiro.test(datos_ed_fisica) #p-value = 2.2e-16 < α(0.05) --> Rechazo H0 --> Hay evidencia muestral suficiente p/concluir que los datos no siguen una distribución normal. \n",
    "\n",
    "ks.test(datos_matematica, \"pnorm\") \n",
    "ks.test(datos_ed_fisica, \"pnorm\") \n",
    "\n",
    "#Comparamos con un test no parametrico (Primero vemos si datos_matematica < datos_ed_fisica)\n",
    "wilcox.test(datos_matematica, datos_ed_fisica,alternative = \"less\", conf.level = 0.95)\n",
    "# H0 -> la mediana de las notas en matematica es mayor que la mediana de las notas en educacion fisica\n",
    "# H1 -> la mediana de las notas en matematica es menor que la mediana de las notas en educacion fisica\n",
    "#p-value < 2.2e-16 < (0.05) --> Rechazo H0 --> Hay evidencia muestras suf. p/concluir que el rendimiento en matematica es menor que el rendimiento en educacion fisica"
   ]
  },
  {
   "cell_type": "code",
   "execution_count": null,
   "id": "500de33d-0dd5-4d4b-910f-956fa5ee835d",
   "metadata": {},
   "outputs": [],
   "source": [
    "# Creamos el boxplot comparativo\n",
    "boxplot(datos_matematica, datos_ed_fisica,\n",
    "        names = c(\"Matemática\", \"Educación Fisica\"),\n",
    "        main = \"Comparación de Promedios en Matemáticas y Educacion Física \\n del nivel Secundario\",\n",
    "        xlab = \"Asignatura\",\n",
    "        ylab = \"Promedio en la asignatura\",\n",
    "        col = c(\"#C23B22\", \"#4caf50\"),\n",
    "        border = \"black\",\n",
    "        cex.axis = 0.8\n",
    ")\n",
    "#Vemos un resumen estadístico\n",
    "summary(datos_matematica)\n",
    "summary(datos_ed_fisica)"
   ]
  },
  {
   "cell_type": "markdown",
   "id": "062679c4-aabc-4f89-847f-398c0f38b04c",
   "metadata": {},
   "source": [
    "## Comparamos si la matricula del ciclo básico difiere significativamente del ciclo orientado"
   ]
  },
  {
   "cell_type": "code",
   "execution_count": null,
   "id": "a8da2164-8e1d-49da-8fe9-0582dfa658c3",
   "metadata": {},
   "outputs": [],
   "source": [
    "# Filtrar datos para ciclo básico y ciclo orientado\n",
    "datos_ciclo_basico <- filter(secundaria_VICTORIA, Año_Curso %in% c(\"PRIMERO\", \"SEGUNDO\", \"TERCERO\"))\n",
    "datos_ciclo_orientado <- filter(secundaria_VICTORIA, Año_Curso %in% c(\"CUARTO\", \"QUINTO\", \"SEXTO\"))\n",
    "\n",
    "# Contar la cantidad de matriculados únicos por ciclo\n",
    "matriculados_basico <- n_distinct(datos_ciclo_basico$Documento)\n",
    "matriculados_orientado <- n_distinct(datos_ciclo_orientado$Documento)\n",
    "\n",
    "# Crear una tabla de contingencia\n",
    "matricula_tabla <- matrix(c(matriculados_basico, matriculados_orientado), nrow = 2, byrow = TRUE)\n",
    "rownames(matricula_tabla) <- c(\"Ciclo Básico\", \"Ciclo Orientado\")\n",
    "colnames(matricula_tabla) <- c(\"Matriculados\")\n",
    "\n",
    "print(matricula_tabla)"
   ]
  },
  {
   "cell_type": "code",
   "execution_count": null,
   "id": "6888e6ff-bbcb-4c7f-b67e-ae902106d27d",
   "metadata": {},
   "outputs": [],
   "source": [
    "# Realizar la prueba de chi-cuadrado\n",
    "chisq_test <- chisq.test(matricula_tabla)\n",
    "print(chisq_test)\n",
    "#p-value < 2.2e-16 < (0.05) --> Rechazo Ho --> Hay dif significativa en la matrícula entre el ciclo básico y el ciclo orientado "
   ]
  },
  {
   "cell_type": "code",
   "execution_count": null,
   "id": "c3fdfdb1-9a81-4829-b84d-7d996eddc166",
   "metadata": {},
   "outputs": [],
   "source": [
    "# Contar la cantidad de matriculados únicos por año en cada ciclo\n",
    "matriculados_basico <- datos_ciclo_basico %>%\n",
    "  group_by(Año_Curso) %>%\n",
    "  summarise(Count = n_distinct(Documento))\n",
    "matriculados_orientado <- datos_ciclo_orientado %>%\n",
    "  group_by(Año_Curso) %>%\n",
    "  summarise(Count = n_distinct(Documento))\n",
    "\n",
    "# Añadir una columna para identificar el ciclo\n",
    "matriculados_basico <- matriculados_basico %>%\n",
    "  mutate(Ciclo = \"Ciclo Básico\")\n",
    "matriculados_orientado <- matriculados_orientado %>%\n",
    "  mutate(Ciclo = \"Ciclo Orientado\")\n",
    "\n",
    "# Unir los datos\n",
    "matriculados <- bind_rows(matriculados_basico, matriculados_orientado)\n",
    "head(matriculados)\n",
    "\n",
    "# Ordenar los niveles del factor Año_Curso\n",
    "matriculados$Año_Curso <- factor(matriculados$Año_Curso, levels = c(\"PRIMERO\", \"SEGUNDO\", \"TERCERO\", \"CUARTO\", \"QUINTO\", \"SEXTO\"))\n",
    "\n",
    "# Graficar los datos en un gráfico de barras apiladas\n",
    "ggplot(matriculados, aes(x = Ciclo, y = Count, fill = Año_Curso)) +\n",
    "  geom_bar(stat = \"identity\") +\n",
    "  labs(title = \"Número de Matriculados por Ciclo y Año del nivel Secundario\",\n",
    "       x = \"Ciclo\",\n",
    "       y = \"Número de Matriculados\",\n",
    "       fill = \"Año del Curso\") +\n",
    "  theme_minimal()"
   ]
  },
  {
   "cell_type": "markdown",
   "id": "71237c0d-67a2-40b8-8972-e2bb239b0add",
   "metadata": {},
   "source": [
    "-----------------------------"
   ]
  },
  {
   "cell_type": "markdown",
   "id": "d63c45d5-e189-4fd4-9be0-2c9843350e28",
   "metadata": {},
   "source": [
    "# Guia 7 - Comparacion de medias (2)"
   ]
  },
  {
   "cell_type": "markdown",
   "id": "0837b36f-4268-49f2-9bf5-86b15b1d026c",
   "metadata": {},
   "source": [
    "## ¿Existen diferencia significativa en los promedios de los distintos ciclos (en matematica)?"
   ]
  },
  {
   "cell_type": "markdown",
   "id": "c7fb5b61-3a33-4460-969f-528b73a09d6e",
   "metadata": {},
   "source": [
    "***Analisis Exploratorio***"
   ]
  },
  {
   "cell_type": "code",
   "execution_count": null,
   "id": "a8f2c037-6588-4367-96ae-cae0c15deb5e",
   "metadata": {},
   "outputs": [],
   "source": [
    "#Primero hacemos un analisis exploratorio de los datos\n",
    "\n",
    "#Tomamos las notas correspondientes a la asignatura MATEMATICA\n",
    "datos_CB_mat <- filter(datos_ciclo_basico, asignatura == \"MATEMATICA\")\n",
    "datos_CO_mat <- filter(datos_ciclo_orientado, asignatura == \"MATEMATICA\")\n",
    "\n",
    "# Creamos los boxplots\n",
    "ggplot(datos_CB_mat, aes(x = Año_Curso, y = Promedio, fill = Año_Curso)) +\n",
    "  geom_boxplot() +\n",
    "  labs(title = \"Distribución de Promedios en Matemáticas por Año del Ciclo Básico\",\n",
    "       x = \"Año del Curso\",\n",
    "       y = \"Promedio\") +\n",
    "  theme_minimal() +\n",
    "  scale_fill_brewer(palette = \"Set2\")\n",
    "\n",
    "ggplot(datos_CO_mat, aes(x = Año_Curso, y = Promedio, fill = Año_Curso)) +\n",
    "  geom_boxplot() +\n",
    "  labs(title = \"Distribución de Promedios en Matemáticas por Año del Ciclo Orientado\",\n",
    "       x = \"Año del Curso\",\n",
    "       y = \"Promedio\") +\n",
    "  theme_minimal() +\n",
    "  scale_fill_brewer(palette = \"Set1\")"
   ]
  },
  {
   "cell_type": "code",
   "execution_count": null,
   "id": "b9df5aae-64b9-4a49-bc47-9d3e3ba1bb56",
   "metadata": {
    "scrolled": true
   },
   "outputs": [],
   "source": [
    "#Preparamos los datos para su posteriro analisis\n",
    "# Segmentamos los datos de los grados del Ciclo Basico \n",
    "primero <- na.omit(filter(datos_CB_mat, Año_Curso == \"PRIMERO\")$Promedio)\n",
    "segundo <- na.omit(filter(datos_CB_mat, Año_Curso == \"SEGUNDO\")$Promedio)\n",
    "tercero <- na.omit(filter(datos_CB_mat, Año_Curso == \"TERCERO\")$Promedio)\n",
    "# Mostrar los tamaños de las muestras\n",
    "cat(\"Tamaño de las muestras:\", \"\\n\",\n",
    "    \"PRIMERO:\", length(primero), \"\\n\",\n",
    "    \"SEGUNDO:\", length(segundo), \"\\n\",\n",
    "    \"TERCERO:\", length(tercero), \"\\n\")\n",
    "\n",
    "# Segmentamos los datos de los grados del Ciclo Orientado\n",
    "cuarto <- na.omit(filter(datos_CO_mat, Año_Curso == \"CUARTO\")$Promedio)\n",
    "quinto <- na.omit(filter(datos_CO_mat, Año_Curso == \"QUINTO\")$Promedio)\n",
    "sexto <- na.omit(filter(datos_CO_mat, Año_Curso == \"SEXTO\")$Promedio)\n",
    "septimo <- na.omit(filter(datos_CO_mat, Año_Curso == 'SEPTIMO')$Promedio)\n",
    "# Mostrar los tamaños de las muestras\n",
    "cat(\"Tamaño de las muestras:\", \"\\n\",\n",
    "    \"CUARTO:\", length(cuarto), \"\\n\",\n",
    "    \"QUINTO:\", length(quinto), \"\\n\",\n",
    "    \"SEXTO:\", length(sexto), \"\\n\",\n",
    "    \"SEPTIMO:\", length(septimo))"
   ]
  },
  {
   "cell_type": "code",
   "execution_count": null,
   "id": "00a76359-f8cb-445b-866c-06bc658d8280",
   "metadata": {},
   "outputs": [],
   "source": [
    "length(primero)"
   ]
  },
  {
   "cell_type": "markdown",
   "id": "d408af1f-7de1-4c02-876f-a38f52bbb8c5",
   "metadata": {},
   "source": [
    "***Chequeamos normalidad***"
   ]
  },
  {
   "cell_type": "code",
   "execution_count": null,
   "id": "f6171a19-694c-48bd-ac30-870355907bdd",
   "metadata": {},
   "outputs": [],
   "source": [
    "#Salvando SEPTIMO, en el resto de las muestras debemos chequear normalidad con Kolmogorov-Smirnov ya que superamos los 5000 datos\n",
    "#Realizar la prueba de Kolmogorov-Smirnov\n",
    "#Ciclo Basico\n",
    "ks.test(primero, \"pnorm\", mean = mean(primero), sd = sd(primero))\n",
    "ks.test(segundo, \"pnorm\", mean = mean(segundo), sd = sd(segundo))\n",
    "ks.test(tercero, \"pnorm\", mean = mean(tercero), sd = sd(tercero))\n",
    "\n",
    "#Ciclo Especializado\n",
    "ks.test(cuarto, \"pnorm\", mean = mean(cuarto), sd = sd(cuarto))\n",
    "ks.test(quinto, \"pnorm\", mean = mean(quinto), sd = sd(quinto))\n",
    "ks.test(sexto, \"pnorm\", mean = mean(sexto), sd = sd(sexto))\n",
    "#Hipotesis del Test Kolmogorov-Smirnov\n",
    "# H0 -> La distribucion de los datos  es normal.\n",
    "# H1 -> La distribucion de los daots no es normal.\n",
    "#p-value < 2.2e-16 < (0.05) --> Rechazo H0 --> Hay evidencia muestras suf. p/concluir que los datos no siguen una dist. normal"
   ]
  },
  {
   "cell_type": "code",
   "execution_count": null,
   "id": "6a964f82-a90e-42d5-a466-bf78616f32ae",
   "metadata": {},
   "outputs": [],
   "source": [
    "#Comparamos los datos del ciclo basico\n",
    "# Crear un data frame con todos los datos\n",
    "notas <- c(primero, segundo, tercero)\n",
    "curso <- factor(c(rep(\"PRIMERO\", length(primero)), \n",
    "                  rep(\"SEGUNDO\", length(segundo)), \n",
    "                  rep(\"TERCERO\", length(tercero))))\n",
    "\n",
    "notas_CB <- data.frame(curso, notas)\n",
    "\n",
    "# El test de ANOVA no se puede aplicar ya que los datos no siguen una distribución normal. Usamos otro test no parametrico\n",
    "# Realizar la prueba de Kruskal-Wallis (Los 3 grupos son independientes)\n",
    "kruskal_test <- kruskal.test(notas ~ curso, data = notas_CB)\n",
    "#H0) ---> Las distribuciones de las notas de los cursos \"PRIMERO\", \"SEGUNDO\" y \"TERCERO\" son iguales.\n",
    "#H1) ---> Al menos una de las distribuciones de las notas es diferente.\n",
    "kruskal_test #p-value < 2.2e-16 <(0.05) y estadístico de prueba es mucho mayor que el valor crítico --> Rechazo H0 --> Al menos una de las dist de las notas es diferente\n",
    "# Valor critico\n",
    "qchisq(0.05, 3-1, lower.tail = F)\n",
    "\n",
    "#Comparaciones POST-HOC\n",
    "#Pairse wilcox\n",
    "pairwise.wilcox.test(notas_CB$notas, notas_CB$curso,p.adjust.method = \"bonferroni\")"
   ]
  },
  {
   "cell_type": "code",
   "execution_count": null,
   "id": "b06c5efa-7b0a-4e03-8df8-134501c100e3",
   "metadata": {},
   "outputs": [],
   "source": [
    "#Comparamos los datos del ciclo especializado\n",
    "# Crear un data frame con todos los datos\n",
    "notas <- c(cuarto, quinto, sexto)#, septimo)\n",
    "curso <- factor(c(rep(\"CUARTO\", length(cuarto)), \n",
    "                  rep(\"QUINTO\", length(quinto)), \n",
    "                  rep(\"SEXTO\", length(sexto))))\n",
    "                  #rep(\"SEPTIMO\", length(septimo))))\n",
    "\n",
    "notas_CE <- data.frame(curso, notas)\n",
    "\n",
    "# El test de ANOVA no se puede aplicar ya que los datos no siguen una distribución normal. Usamos otro test no parametrico\n",
    "# Realizar la prueba de Kruskal-Wallis (Los 4 grupos son independientes)\n",
    "kruskal_test <- kruskal.test(notas ~ curso, data = notas_CE)\n",
    "#H0) ---> Las distribuciones de las notas de los cursos \"CUARTO\", \"QUINTO\", \"SEXTO\" y \"SEPTIMO\" son iguales.\n",
    "#H1) ---> Al menos una de las distribuciones de las notas es diferente.\n",
    "kruskal_test #p-value < 2.2e-16 <(0.05) y estadístico de prueba es mucho mayor que el valor crítico --> Rechazo H0 --> Al menos una de las dist de las notas es diferente\n",
    "# Valor critico\n",
    "qchisq(0.05, 3-1, lower.tail = F)\n",
    "\n",
    "#Comparaciones POST-HOC\n",
    "#Pairse wilcox\n",
    "pairwise.wilcox.test(notas_CE$notas, notas_CE$curso,p.adjust.method = \"bonferroni\")"
   ]
  },
  {
   "cell_type": "markdown",
   "id": "075bd892-f330-421a-9c91-1f0822698d51",
   "metadata": {},
   "source": [
    "Como SEPTIMO es un año en particular, que registra una baja en los matriculados, teniendo solamente 50 alumnos, no lo tomamos para la comparacion. Esto puede deberse a que solamente los colegios técnicos y agrotécnicos tienen siete años. Además el 83% son colegios comunes y solamente el 17% se corresponde a colegios técnicos/agrotécnicos. "
   ]
  },
  {
   "cell_type": "markdown",
   "id": "d1ad666d-99be-4f5d-8d0c-de62bd11b1eb",
   "metadata": {},
   "source": [
    "## ¿Impacta el turno (MAÑANA, TARDE) en el rendimiento academico?"
   ]
  },
  {
   "cell_type": "markdown",
   "id": "006d11f1-8d68-4d9b-95dc-9bd7bed79c47",
   "metadata": {},
   "source": [
    "***Para responder a esta pregunta, comparamos el desempeño en matematica y lengua(unas de las asignaturas mas importantes) en cada uno de los turno, año por año***\n",
    "\n",
    "***No tomamos en cuenta turno NOCHE ni ROTATIVO ya que no esta en nuestros planes estudiar los colegios de adultos***\n",
    "\n",
    "Usamos un test para dos medias independientes:\n",
    "- ANOVA en caso de tener datos normales.\n",
    "- Si no cumple supuesto de normalidad --> Wilcoxon test"
   ]
  },
  {
   "cell_type": "code",
   "execution_count": null,
   "id": "0fdaef80-4128-410c-b949-4e7a4052e63a",
   "metadata": {},
   "outputs": [],
   "source": [
    "turno_mañana <- filter(secundaria_VICTORIA, turno == \"MAÑANA\")\n",
    "turno_tarde <- filter(secundaria_VICTORIA, turno == \"TARDE\")\n",
    "turno_noche <- filter(secundaria_VICTORIA, turno == \"NOCHE\")\n",
    "turno_rotativo <- filter(secundaria_VICTORIA, turno == \"ROTATIVO\")\n",
    "\n",
    "dim(turno_mañana)\n",
    "dim(turno_tarde)\n",
    "dim(turno_noche) #Escuela de adultos\n",
    "dim(turno_rotativo) #Escuela de adultos"
   ]
  },
  {
   "cell_type": "markdown",
   "id": "c1c1f6e5-0a84-454b-aafe-aeec11bc3161",
   "metadata": {},
   "source": [
    "### MATEMÁTICA"
   ]
  },
  {
   "cell_type": "markdown",
   "id": "c3f5155a-b021-4905-a183-9be428d3a07c",
   "metadata": {},
   "source": [
    "#### PRIMERO"
   ]
  },
  {
   "cell_type": "markdown",
   "id": "5d3db77e-7dd7-40ae-8fc1-1d31e173f82f",
   "metadata": {},
   "source": [
    "***Análisis Exploratorio***"
   ]
  },
  {
   "cell_type": "code",
   "execution_count": null,
   "id": "3075412a-5d98-4509-8f8b-014727bfe53e",
   "metadata": {},
   "outputs": [],
   "source": [
    "#Filtramos los datos que necesitamos \n",
    "datos_mañana <- filter(secundaria_VICTORIA, turno == \"MAÑANA\" & asignatura == \"MATEMATICA\" & Año_Curso == \"PRIMERO\")\n",
    "datos_tarde <- filter(secundaria_VICTORIA, turno == \"TARDE\" & asignatura == \"MATEMATICA\" & Año_Curso == \"PRIMERO\")\n",
    "\n",
    "#Vemos un resumen de los estadistios\n",
    "summary(datos_mañana$Promedio)\n",
    "summary(datos_tarde$Promedio)\n",
    "# Tamaños de muestra\n",
    "cat(\"Tamaño de muestra - Mañana:\", nrow(datos_mañana), \"\\n\")\n",
    "cat(\"Tamaño de muestra - Tarde:\", nrow(datos_tarde), \"\\n\")\n",
    "\n",
    "# Combinamos los datos para graficarlos\n",
    "datos_comb <- bind_rows(\n",
    "  datos_mañana %>% mutate(turno = \"MAÑANA\"),\n",
    "  datos_tarde %>% mutate(turno = \"TARDE\"))\n",
    "\n",
    "# Convertir la columna 'turno' a factor con niveles específicos\n",
    "datos_comb$turno <- factor(datos_comb$turno, levels = c(\"MAÑANA\", \"TARDE\"))\n",
    "\n",
    "# Crear el boxplot comparativo con ggplot2\n",
    "ggplot(datos_comb, aes(x = turno, y = Promedio, fill = turno)) +\n",
    "  geom_boxplot() +\n",
    "  labs(title = \"Comparación de Promedios de Matemáticas en Primero por Turno\",\n",
    "       x = \"Turno\",\n",
    "       y = \"Promedio\") +\n",
    "  theme_minimal() +\n",
    "  scale_fill_manual(values = c(\"#2196f3\", \"#ea7441\", \"#ff4081\"))"
   ]
  },
  {
   "cell_type": "markdown",
   "id": "18c04ede-352b-4d81-bc79-52dd8efd77b2",
   "metadata": {},
   "source": [
    "***Test para comparar dos medias independientes***"
   ]
  },
  {
   "cell_type": "code",
   "execution_count": null,
   "id": "c34368a2-6a08-4b3e-ad53-128ab4d4adfb",
   "metadata": {},
   "outputs": [],
   "source": [
    "# Pasamos los datos a tipo numerico\n",
    "promedio = as.numeric(c(datos_mañana$Promedio, datos_tarde$Promedio))\n",
    "\n",
    "# Para que se repita la cantidad de alumno en cada turno su nombre\n",
    "turno <- as.factor(c(rep(\"MAÑANA\", length(datos_mañana$Promedio)), rep(\"TARDE\",length(datos_tarde$Promedio))))    \n",
    "\n",
    "# Armamos el dataframe\n",
    "datos_turnos <- data.frame(turno, promedio)\n",
    "\n",
    "# Agrupamos los datos según el turno, calculamos la media de los promedios y contabilizamos las frecuencias\n",
    "datos_turnos %>% group_by(turno) %>%\n",
    "    summarise(Media = round(mean(promedio),1), datos = n())\n",
    "print(\"Prueba NORMALIDAD -----------------------------------\")\n",
    "# Para usar un test parametrico, la distribución de los datos tiene que ser\n",
    "#normal, por eso se calcularan los test de shapiro\n",
    "#Como tenemos menos de 5000 observaciones en cada uno, optamos por shapiro:\n",
    "shapiro.test(datos_turnos$promedio[datos_turnos$turno == \"MAÑANA\"])\n",
    "shapiro.test(datos_turnos$promedio[datos_turnos$turno == \"TARDE\"])\n",
    "#p-value < α --> Rechazo H0 --> Hay evidencia muestral suficiente p/concluir que los datos no siguen una distribución normal. \n",
    "\n",
    "print(\"Prueba comparacion de medias -------------------------\")\n",
    "#Como no cumple supuesto de normalidad, usamos test no parametrico:\n",
    "# H0 -> No hay diferencia significativa en el rendimiento en matemáticas entre colegios privados y públicos\n",
    "# H1 -> El rendimiento de los alumnos en matematica es mejor en colegios privados que en colegios publicos\n",
    "wilcox.test(promedio ~ turno, data = datos_turnos, conf.level = 0.95)\n",
    "#En base al p-value --> CONCLUYO"
   ]
  },
  {
   "cell_type": "markdown",
   "id": "8edf53bd-9437-4c19-8be3-13d06977212f",
   "metadata": {},
   "source": [
    "#### SEGUNDO"
   ]
  },
  {
   "cell_type": "markdown",
   "id": "b7144ab1-de6a-4447-a7ee-0deffef6e957",
   "metadata": {},
   "source": [
    "***Análisis Exploratorio***"
   ]
  },
  {
   "cell_type": "code",
   "execution_count": null,
   "id": "607dc0db-6513-4898-baed-0e218cd75f2a",
   "metadata": {},
   "outputs": [],
   "source": [
    "#Filtramos los datos que necesitamos \n",
    "datos_mañana <- filter(secundaria_VICTORIA, turno == \"MAÑANA\" & asignatura == \"MATEMATICA\" & Año_Curso == \"SEGUNDO\")\n",
    "datos_tarde <- filter(secundaria_VICTORIA, turno == \"TARDE\" & asignatura == \"MATEMATICA\" & Año_Curso == \"SEGUNDO\")\n",
    "\n",
    "#Vemos un resumen de los estadistios\n",
    "summary(datos_mañana$Promedio)\n",
    "summary(datos_tarde$Promedio)\n",
    "# Tamaños de muestra\n",
    "cat(\"Tamaño de muestra - Mañana:\", nrow(datos_mañana), \"\\n\")\n",
    "cat(\"Tamaño de muestra - Tarde:\", nrow(datos_tarde), \"\\n\")\n",
    "\n",
    "# Combinamos los datos para graficarlos\n",
    "datos_comb <- bind_rows(\n",
    "  datos_mañana %>% mutate(turno = \"MAÑANA\"),\n",
    "  datos_tarde %>% mutate(turno = \"TARDE\"))\n",
    "\n",
    "# Convertir la columna 'turno' a factor con niveles específicos\n",
    "datos_comb$turno <- factor(datos_comb$turno, levels = c(\"MAÑANA\", \"TARDE\"))\n",
    "\n",
    "# Crear el boxplot comparativo con ggplot2\n",
    "ggplot(datos_comb, aes(x = turno, y = Promedio, fill = turno)) +\n",
    "  geom_boxplot() +\n",
    "  labs(title = \"Comparación de Promedios de Matemáticas en Segundo por Turno\",\n",
    "       x = \"Turno\",\n",
    "       y = \"Promedio\") +\n",
    "  theme_minimal() +\n",
    "  scale_fill_manual(values = c(\"#2196f3\", \"#ea7441\", \"#ff4081\"))"
   ]
  },
  {
   "cell_type": "markdown",
   "id": "77266fc1-359d-461c-8fce-5c97dd1cef24",
   "metadata": {},
   "source": [
    "***Test para comparar dos medias independientes***"
   ]
  },
  {
   "cell_type": "code",
   "execution_count": null,
   "id": "e4c7098b-f448-43a4-a711-2f9fbaceb373",
   "metadata": {},
   "outputs": [],
   "source": [
    "# Pasamos los datos a tipo numerico\n",
    "promedio = as.numeric(c(datos_mañana$Promedio, datos_tarde$Promedio))\n",
    "\n",
    "# Para que se repita la cantidad de alumno en cada turno su nombre\n",
    "turno <- as.factor(c(rep(\"MAÑANA\", length(datos_mañana$Promedio)), rep(\"TARDE\",length(datos_tarde$Promedio))))    \n",
    "\n",
    "# Armamos el dataframe\n",
    "datos_turnos <- data.frame(turno, promedio)\n",
    "\n",
    "# Agrupamos los datos según el turno, calculamos la media de los promedios y contabilizamos las frecuencias\n",
    "datos_turnos %>% group_by(turno) %>%\n",
    "    summarise(Media = round(mean(promedio),1), datos = n())\n",
    "print(\"Prueba NORMALIDAD -----------------------------------\")\n",
    "# Para usar un test parametrico, la distribución de los datos tiene que ser\n",
    "#normal, por eso se calcularan los test de shapiro\n",
    "#Como tenemos menos de 5000 observaciones en cada uno, optamos por shapiro:\n",
    "shapiro.test(datos_turnos$promedio[datos_turnos$turno == \"MAÑANA\"])\n",
    "shapiro.test(datos_turnos$promedio[datos_turnos$turno == \"TARDE\"])\n",
    "#p-value < α --> Rechazo H0 --> Hay evidencia muestral suficiente p/concluir que los datos no siguen una distribución normal. \n",
    "\n",
    "print(\"Prueba comparacion de medias -------------------------\")\n",
    "#Como no cumple supuesto de normalidad, usamos test no parametrico:\n",
    "# H0 -> No hay diferencia significativa en el rendimiento en matemáticas entre colegios privados y públicos\n",
    "# H1 -> El rendimiento de los alumnos en matematica es mejor en colegios privados que en colegios publicos\n",
    "wilcox.test(promedio ~ turno, data = datos_turnos, conf.level = 0.95)\n",
    "#En base al p-value --> CONCLUYO"
   ]
  },
  {
   "cell_type": "markdown",
   "id": "aa2d3342-1747-458e-b3fb-00833c047166",
   "metadata": {},
   "source": [
    "#### TERCERO"
   ]
  },
  {
   "cell_type": "markdown",
   "id": "dacd3214-2fee-4abf-9024-4c356f1b9be7",
   "metadata": {},
   "source": [
    "***Análisis Exploratorio***"
   ]
  },
  {
   "cell_type": "code",
   "execution_count": null,
   "id": "23b25235-fbc9-49fe-8d30-60662f1ef2df",
   "metadata": {},
   "outputs": [],
   "source": [
    "#Filtramos los datos que necesitamos \n",
    "datos_mañana <- filter(secundaria_VICTORIA, turno == \"MAÑANA\" & asignatura == \"MATEMATICA\" & Año_Curso == \"TERCERO\")\n",
    "datos_tarde <- filter(secundaria_VICTORIA, turno == \"TARDE\" & asignatura == \"MATEMATICA\" & Año_Curso == \"TERCERO\")\n",
    "\n",
    "#Vemos un resumen de los estadistios\n",
    "summary(datos_mañana$Promedio)\n",
    "summary(datos_tarde$Promedio)\n",
    "# Tamaños de muestra\n",
    "cat(\"Tamaño de muestra - Mañana:\", nrow(datos_mañana), \"\\n\")\n",
    "cat(\"Tamaño de muestra - Tarde:\", nrow(datos_tarde), \"\\n\")\n",
    "\n",
    "# Combinamos los datos para graficarlos\n",
    "datos_comb <- bind_rows(\n",
    "  datos_mañana %>% mutate(turno = \"MAÑANA\"),\n",
    "  datos_tarde %>% mutate(turno = \"TARDE\"))\n",
    "\n",
    "# Convertir la columna 'turno' a factor con niveles específicos\n",
    "datos_comb$turno <- factor(datos_comb$turno, levels = c(\"MAÑANA\", \"TARDE\"))\n",
    "\n",
    "# Crear el boxplot comparativo con ggplot2\n",
    "ggplot(datos_comb, aes(x = turno, y = Promedio, fill = turno)) +\n",
    "  geom_boxplot() +\n",
    "  labs(title = \"Comparación de Promedios de Matemáticas en Tercero por Turno\",\n",
    "       x = \"Turno\",\n",
    "       y = \"Promedio\") +\n",
    "  theme_minimal() +\n",
    "  scale_fill_manual(values = c(\"#2196f3\", \"#ea7441\", \"#ff4081\"))"
   ]
  },
  {
   "cell_type": "markdown",
   "id": "0c443b7a-2533-4a87-a778-cdb09b16f906",
   "metadata": {},
   "source": [
    "***Test para comparar dos medias independientes***"
   ]
  },
  {
   "cell_type": "code",
   "execution_count": null,
   "id": "bf4a5359-0ef3-4136-bc1e-b4ac94421553",
   "metadata": {},
   "outputs": [],
   "source": [
    "# Pasamos los datos a tipo numerico\n",
    "promedio = as.numeric(c(datos_mañana$Promedio, datos_tarde$Promedio))\n",
    "\n",
    "# Para que se repita la cantidad de alumno en cada turno su nombre\n",
    "turno <- as.factor(c(rep(\"MAÑANA\", length(datos_mañana$Promedio)), rep(\"TARDE\",length(datos_tarde$Promedio))))    \n",
    "\n",
    "# Armamos el dataframe\n",
    "datos_turnos <- data.frame(turno, promedio)\n",
    "\n",
    "# Agrupamos los datos según el turno, calculamos la media de los promedios y contabilizamos las frecuencias\n",
    "datos_turnos %>% group_by(turno) %>%\n",
    "    summarise(Media = round(mean(promedio),1), datos = n())\n",
    "print(\"Prueba NORMALIDAD -----------------------------------\")\n",
    "# Para usar un test parametrico, la distribución de los datos tiene que ser\n",
    "#normal, por eso se calcularan los test de shapiro\n",
    "#Como tenemos menos de 5000 observaciones en cada uno, optamos por shapiro:\n",
    "shapiro.test(datos_turnos$promedio[datos_turnos$turno == \"MAÑANA\"])\n",
    "shapiro.test(datos_turnos$promedio[datos_turnos$turno == \"TARDE\"])\n",
    "#p-value < α --> Rechazo H0 --> Hay evidencia muestral suficiente p/concluir que los datos no siguen una distribución normal. \n",
    "\n",
    "print(\"Prueba comparacion de medias -------------------------\")\n",
    "#Como no cumple supuesto de normalidad, usamos test no parametrico:\n",
    "# H0 -> No hay diferencia significativa en el rendimiento en matemáticas entre colegios privados y públicos\n",
    "# H1 -> El rendimiento de los alumnos en matematica es mejor en colegios privados que en colegios publicos\n",
    "wilcox.test(promedio ~ turno, data = datos_turnos, conf.level = 0.95)\n",
    "#En base al p-value --> CONCLUYO"
   ]
  },
  {
   "cell_type": "markdown",
   "id": "f3023a41-6722-41c8-88e4-af113686dd88",
   "metadata": {},
   "source": [
    "#### CUARTO"
   ]
  },
  {
   "cell_type": "markdown",
   "id": "7f1ea4f3-b30b-411f-b82b-a3a10205601a",
   "metadata": {},
   "source": [
    "***Análisis Exploratorio***"
   ]
  },
  {
   "cell_type": "code",
   "execution_count": null,
   "id": "fdf3c17c-62c0-46c9-9a6b-4ebf81f7a560",
   "metadata": {},
   "outputs": [],
   "source": [
    "#Filtramos los datos que necesitamos \n",
    "datos_mañana <- filter(secundaria_VICTORIA, turno == \"MAÑANA\" & asignatura == \"MATEMATICA\" & Año_Curso == \"CUARTO\")\n",
    "datos_tarde <- filter(secundaria_VICTORIA, turno == \"TARDE\" & asignatura == \"MATEMATICA\" & Año_Curso == \"CUARTO\")\n",
    "\n",
    "#Vemos un resumen de los estadistios\n",
    "summary(datos_mañana$Promedio)\n",
    "summary(datos_tarde$Promedio)\n",
    "# Tamaños de muestra\n",
    "cat(\"Tamaño de muestra - Mañana:\", nrow(datos_mañana), \"\\n\")\n",
    "cat(\"Tamaño de muestra - Tarde:\", nrow(datos_tarde), \"\\n\")\n",
    "\n",
    "# Combinamos los datos para graficarlos\n",
    "datos_comb <- bind_rows(\n",
    "  datos_mañana %>% mutate(turno = \"MAÑANA\"),\n",
    "  datos_tarde %>% mutate(turno = \"TARDE\"))\n",
    "\n",
    "# Convertir la columna 'turno' a factor con niveles específicos\n",
    "datos_comb$turno <- factor(datos_comb$turno, levels = c(\"MAÑANA\", \"TARDE\"))\n",
    "\n",
    "# Crear el boxplot comparativo con ggplot2\n",
    "ggplot(datos_comb, aes(x = turno, y = Promedio, fill = turno)) +\n",
    "  geom_boxplot() +\n",
    "  labs(title = \"Comparación de Promedios de Matemáticas en Cuarto por Turno\",\n",
    "       x = \"Turno\",\n",
    "       y = \"Promedio\") +\n",
    "  theme_minimal() +\n",
    "  scale_fill_manual(values = c(\"#2196f3\", \"#ea7441\", \"#ff4081\"))"
   ]
  },
  {
   "cell_type": "markdown",
   "id": "89eb186c-2aa6-423b-9447-d97f208cd348",
   "metadata": {},
   "source": [
    "***Test para comparar dos medias independientes***"
   ]
  },
  {
   "cell_type": "code",
   "execution_count": null,
   "id": "2699b8d1-9958-444b-ac2b-42f1f18f6804",
   "metadata": {},
   "outputs": [],
   "source": [
    "# Pasamos los datos a tipo numerico\n",
    "promedio = as.numeric(c(datos_mañana$Promedio, datos_tarde$Promedio))\n",
    "\n",
    "# Para que se repita la cantidad de alumno en cada turno su nombre\n",
    "turno <- as.factor(c(rep(\"MAÑANA\", length(datos_mañana$Promedio)), rep(\"TARDE\",length(datos_tarde$Promedio))))    \n",
    "\n",
    "# Armamos el dataframe\n",
    "datos_turnos <- data.frame(turno, promedio)\n",
    "\n",
    "# Agrupamos los datos según el turno, calculamos la media de los promedios y contabilizamos las frecuencias\n",
    "datos_turnos %>% group_by(turno) %>%\n",
    "    summarise(Media = round(mean(promedio),1), datos = n())\n",
    "print(\"Prueba NORMALIDAD -----------------------------------\")\n",
    "# Para usar un test parametrico, la distribución de los datos tiene que ser\n",
    "#normal, por eso se calcularan los test de shapiro\n",
    "#Como tenemos menos de 5000 observaciones en cada uno, optamos por shapiro:\n",
    "shapiro.test(datos_turnos$promedio[datos_turnos$turno == \"MAÑANA\"])\n",
    "shapiro.test(datos_turnos$promedio[datos_turnos$turno == \"TARDE\"])\n",
    "#p-value < α --> Rechazo H0 --> Hay evidencia muestral suficiente p/concluir que los datos no siguen una distribución normal. \n",
    "\n",
    "print(\"Prueba comparacion de medias -------------------------\")\n",
    "#Como no cumple supuesto de normalidad, usamos test no parametrico:\n",
    "# H0 -> No hay diferencia significativa en el rendimiento en matemáticas entre colegios privados y públicos\n",
    "# H1 -> El rendimiento de los alumnos en matematica es mejor en colegios privados que en colegios publicos\n",
    "wilcox.test(promedio ~ turno, data = datos_turnos, conf.level = 0.95)\n",
    "#En base al p-value --> CONCLUYO"
   ]
  },
  {
   "cell_type": "markdown",
   "id": "ebc33208-fbb7-4214-9e15-54a226f0dc93",
   "metadata": {},
   "source": [
    "#### QUINTO"
   ]
  },
  {
   "cell_type": "markdown",
   "id": "e25d6448-7d2c-4687-987e-f51e8dbcb9fa",
   "metadata": {},
   "source": [
    "***Análisis Exploratorio***"
   ]
  },
  {
   "cell_type": "code",
   "execution_count": null,
   "id": "6527f72c-e4d6-4f0e-87c5-8616665b38e0",
   "metadata": {},
   "outputs": [],
   "source": [
    "#Filtramos los datos que necesitamos \n",
    "datos_mañana <- filter(secundaria_VICTORIA, turno == \"MAÑANA\" & asignatura == \"MATEMATICA\" & Año_Curso == \"QUINTO\")\n",
    "datos_tarde <- filter(secundaria_VICTORIA, turno == \"TARDE\" & asignatura == \"MATEMATICA\" & Año_Curso == \"QUINTO\")\n",
    "\n",
    "#Vemos un resumen de los estadistios\n",
    "summary(datos_mañana$Promedio)\n",
    "summary(datos_tarde$Promedio)\n",
    "# Tamaños de muestra\n",
    "cat(\"Tamaño de muestra - Mañana:\", nrow(datos_mañana), \"\\n\")\n",
    "cat(\"Tamaño de muestra - Tarde:\", nrow(datos_tarde), \"\\n\")\n",
    "\n",
    "# Combinamos los datos para graficarlos\n",
    "datos_comb <- bind_rows(\n",
    "  datos_mañana %>% mutate(turno = \"MAÑANA\"),\n",
    "  datos_tarde %>% mutate(turno = \"TARDE\"))\n",
    "\n",
    "# Convertir la columna 'turno' a factor con niveles específicos\n",
    "datos_comb$turno <- factor(datos_comb$turno, levels = c(\"MAÑANA\", \"TARDE\"))\n",
    "\n",
    "# Crear el boxplot comparativo con ggplot2\n",
    "ggplot(datos_comb, aes(x = turno, y = Promedio, fill = turno)) +\n",
    "  geom_boxplot() +\n",
    "  labs(title = \"Comparación de Promedios de Matemáticas en Quinto por Turno\",\n",
    "       x = \"Turno\",\n",
    "       y = \"Promedio\") +\n",
    "  theme_minimal() +\n",
    "  scale_fill_manual(values = c(\"#2196f3\", \"#ea7441\", \"#ff4081\"))"
   ]
  },
  {
   "cell_type": "markdown",
   "id": "e574763c-744f-412d-9edd-e7f6eaf8def6",
   "metadata": {},
   "source": [
    "***Test para comparar dos medias independientes***"
   ]
  },
  {
   "cell_type": "code",
   "execution_count": null,
   "id": "f7efd1ab-cf21-49b9-99ab-d0b990694aec",
   "metadata": {},
   "outputs": [],
   "source": [
    "# Pasamos los datos a tipo numerico\n",
    "promedio = as.numeric(c(datos_mañana$Promedio, datos_tarde$Promedio))\n",
    "\n",
    "# Para que se repita la cantidad de alumno en cada turno su nombre\n",
    "turno <- as.factor(c(rep(\"MAÑANA\", length(datos_mañana$Promedio)), rep(\"TARDE\",length(datos_tarde$Promedio))))    \n",
    "\n",
    "# Armamos el dataframe\n",
    "datos_turnos <- data.frame(turno, promedio)\n",
    "\n",
    "# Agrupamos los datos según el turno, calculamos la media de los promedios y contabilizamos las frecuencias\n",
    "datos_turnos %>% group_by(turno) %>%\n",
    "    summarise(Media = round(mean(promedio),1), datos = n())\n",
    "print(\"Prueba NORMALIDAD -----------------------------------\")\n",
    "# Para usar un test parametrico, la distribución de los datos tiene que ser\n",
    "#normal, por eso se calcularan los test de shapiro\n",
    "#Como tenemos menos de 5000 observaciones en cada uno, optamos por shapiro:\n",
    "shapiro.test(datos_turnos$promedio[datos_turnos$turno == \"MAÑANA\"])\n",
    "shapiro.test(datos_turnos$promedio[datos_turnos$turno == \"TARDE\"])\n",
    "#p-value < α --> Rechazo H0 --> Hay evidencia muestral suficiente p/concluir que los datos no siguen una distribución normal. \n",
    "\n",
    "print(\"Prueba comparacion de medias -------------------------\")\n",
    "#Como no cumple supuesto de normalidad, usamos test no parametrico:\n",
    "# H0 -> No hay diferencia significativa en el rendimiento en matemáticas entre colegios privados y públicos\n",
    "# H1 -> El rendimiento de los alumnos en matematica es mejor en colegios privados que en colegios publicos\n",
    "wilcox.test(promedio ~ turno, data = datos_turnos, conf.level = 0.95)\n",
    "#En base al p-value --> CONCLUYO"
   ]
  },
  {
   "cell_type": "markdown",
   "id": "e964e9e7-f487-49d7-be46-a51857203e19",
   "metadata": {},
   "source": [
    "#### SEXTO"
   ]
  },
  {
   "cell_type": "markdown",
   "id": "ad887548-bef5-4f75-9176-053b719f51d6",
   "metadata": {},
   "source": [
    "***Análisis Exploratorio***"
   ]
  },
  {
   "cell_type": "code",
   "execution_count": null,
   "id": "af952032-479e-40c9-baad-41937f79809b",
   "metadata": {},
   "outputs": [],
   "source": [
    "#Filtramos los datos que necesitamos \n",
    "datos_mañana <- filter(secundaria_VICTORIA, turno == \"MAÑANA\" & asignatura == \"MATEMATICA\" & Año_Curso == \"SEXTO\")\n",
    "datos_tarde <- filter(secundaria_VICTORIA, turno == \"TARDE\" & asignatura == \"MATEMATICA\" & Año_Curso == \"SEXTO\")\n",
    "\n",
    "#Vemos un resumen de los estadistios\n",
    "summary(datos_mañana$Promedio)\n",
    "summary(datos_tarde$Promedio)\n",
    "# Tamaños de muestra\n",
    "cat(\"Tamaño de muestra - Mañana:\", nrow(datos_mañana), \"\\n\")\n",
    "cat(\"Tamaño de muestra - Tarde:\", nrow(datos_tarde), \"\\n\")\n",
    "\n",
    "# Combinamos los datos para graficarlos\n",
    "datos_comb <- bind_rows(\n",
    "  datos_mañana %>% mutate(turno = \"MAÑANA\"),\n",
    "  datos_tarde %>% mutate(turno = \"TARDE\"))\n",
    "\n",
    "# Convertir la columna 'turno' a factor con niveles específicos\n",
    "datos_comb$turno <- factor(datos_comb$turno, levels = c(\"MAÑANA\", \"TARDE\"))\n",
    "\n",
    "# Crear el boxplot comparativo con ggplot2\n",
    "ggplot(datos_comb, aes(x = turno, y = Promedio, fill = turno)) +\n",
    "  geom_boxplot() +\n",
    "  labs(title = \"Comparación de Promedios de Matemáticas en Sexto por Turno\",\n",
    "       x = \"Turno\",\n",
    "       y = \"Promedio\") +\n",
    "  theme_minimal() +\n",
    "  scale_fill_manual(values = c(\"#2196f3\", \"#ea7441\", \"#ff4081\"))"
   ]
  },
  {
   "cell_type": "markdown",
   "id": "9d427fdf-7aff-4816-a307-a7b0eb12d22f",
   "metadata": {},
   "source": [
    "***Test para comparar dos medias independientes***"
   ]
  },
  {
   "cell_type": "code",
   "execution_count": null,
   "id": "d21dbebe-2a2b-44dd-9e6c-e4e34cf396c8",
   "metadata": {
    "scrolled": true
   },
   "outputs": [],
   "source": [
    "# Pasamos los datos a tipo numerico\n",
    "promedio = as.numeric(c(datos_mañana$Promedio, datos_tarde$Promedio))\n",
    "\n",
    "# Para que se repita la cantidad de alumno en cada turno su nombre\n",
    "turno <- as.factor(c(rep(\"MAÑANA\", length(datos_mañana$Promedio)), rep(\"TARDE\",length(datos_tarde$Promedio))))    \n",
    "\n",
    "# Armamos el dataframe\n",
    "datos_turnos <- data.frame(turno, promedio)\n",
    "\n",
    "# Agrupamos los datos según el turno, calculamos la media de los promedios y contabilizamos las frecuencias\n",
    "datos_turnos %>% group_by(turno) %>%\n",
    "    summarise(Media = round(mean(promedio),1), datos = n())\n",
    "print(\"Prueba NORMALIDAD -----------------------------------\")\n",
    "# Para usar un test parametrico, la distribución de los datos tiene que ser\n",
    "#normal, por eso se calcularan los test de shapiro\n",
    "#Como tenemos menos de 5000 observaciones en cada uno, optamos por shapiro:\n",
    "shapiro.test(datos_turnos$promedio[datos_turnos$turno == \"MAÑANA\"])\n",
    "shapiro.test(datos_turnos$promedio[datos_turnos$turno == \"TARDE\"])\n",
    "#p-value < α --> Rechazo H0 --> Hay evidencia muestral suficiente p/concluir que los datos no siguen una distribución normal. \n",
    "\n",
    "print(\"Prueba comparacion de medias -------------------------\")\n",
    "#Como no cumple supuesto de normalidad, usamos test no parametrico:\n",
    "# H0 -> No hay diferencia significativa en el rendimiento en matemáticas entre colegios privados y públicos\n",
    "# H1 -> El rendimiento de los alumnos en matematica es mejor en colegios privados que en colegios publicos\n",
    "wilcox.test(promedio ~ turno, data = datos_turnos, conf.level = 0.95)\n",
    "#En base al p-value --> CONCLUYO"
   ]
  },
  {
   "cell_type": "markdown",
   "id": "6ef60222-5670-4d42-bf36-e9dc68d398c6",
   "metadata": {},
   "source": [
    "#### SEPTIMO"
   ]
  },
  {
   "cell_type": "markdown",
   "id": "48c268c1-c678-4bba-9ad6-f5f27e922098",
   "metadata": {},
   "source": [
    "***No se analizo porque solamente 1 colegio tiene matematica en turno mañana***"
   ]
  },
  {
   "cell_type": "markdown",
   "id": "75f81339-9085-4d61-a56b-816b297c6e60",
   "metadata": {},
   "source": [
    "## LENGUA"
   ]
  },
  {
   "cell_type": "markdown",
   "id": "25b34eeb-0b14-47b8-ad40-1cae25395d8a",
   "metadata": {},
   "source": [
    "#### PRIMERO"
   ]
  },
  {
   "cell_type": "markdown",
   "id": "fef6cc77-5ad4-4988-bda3-f69fd536c46f",
   "metadata": {},
   "source": [
    "***Análisis Exploratorio***"
   ]
  },
  {
   "cell_type": "code",
   "execution_count": null,
   "id": "3b748b31-e389-4828-9b9d-914e77551679",
   "metadata": {},
   "outputs": [],
   "source": [
    "#Filtramos los datos que necesitamos \n",
    "datos_mañana <- filter(secundaria_VICTORIA, turno == \"MAÑANA\" & asignatura == \"LENGUA Y LITERATURA\" & Año_Curso == \"PRIMERO\")\n",
    "datos_tarde <- filter(secundaria_VICTORIA, turno == \"TARDE\" & asignatura == \"LENGUA Y LITERATURA\" & Año_Curso == \"PRIMERO\")\n",
    "\n",
    "#Vemos un resumen de los estadistios\n",
    "summary(datos_mañana$Promedio)\n",
    "summary(datos_tarde$Promedio)\n",
    "# Tamaños de muestra\n",
    "cat(\"Tamaño de muestra - Mañana:\", nrow(datos_mañana), \"\\n\")\n",
    "cat(\"Tamaño de muestra - Tarde:\", nrow(datos_tarde), \"\\n\")\n",
    "\n",
    "# Combinamos los datos para graficarlos\n",
    "datos_comb <- bind_rows(\n",
    "  datos_mañana %>% mutate(turno = \"MAÑANA\"),\n",
    "  datos_tarde %>% mutate(turno = \"TARDE\"))\n",
    "\n",
    "# Convertir la columna 'turno' a factor con niveles específicos\n",
    "datos_comb$turno <- factor(datos_comb$turno, levels = c(\"MAÑANA\", \"TARDE\"))\n",
    "\n",
    "# Crear el boxplot comparativo con ggplot2\n",
    "ggplot(datos_comb, aes(x = turno, y = Promedio, fill = turno)) +\n",
    "  geom_boxplot() +\n",
    "  labs(title = \"Comparación de Promedios de LENGUA Y LITERATURA en Primero por Turno\",\n",
    "       x = \"Turno\",\n",
    "       y = \"Promedio\") +\n",
    "  theme_minimal() +\n",
    "  scale_fill_manual(values = c(\"#2196f3\", \"#ea7441\", \"#ff4081\"))"
   ]
  },
  {
   "cell_type": "markdown",
   "id": "ff97183a-9a58-40be-960a-62db0fc1a9cf",
   "metadata": {},
   "source": [
    "***Test para comparar dos medias independientes***"
   ]
  },
  {
   "cell_type": "code",
   "execution_count": null,
   "id": "d368bce9-c72f-484c-8365-3b459617ba25",
   "metadata": {},
   "outputs": [],
   "source": [
    "# Pasamos los datos a tipo numerico\n",
    "promedio = as.numeric(c(datos_mañana$Promedio, datos_tarde$Promedio))\n",
    "\n",
    "# Para que se repita la cantidad de alumno en cada turno su nombre\n",
    "turno <- as.factor(c(rep(\"MAÑANA\", length(datos_mañana$Promedio)), rep(\"TARDE\",length(datos_tarde$Promedio))))    \n",
    "\n",
    "# Armamos el dataframe\n",
    "datos_turnos <- data.frame(turno, promedio)\n",
    "\n",
    "# Agrupamos los datos según el turno, calculamos la media de los promedios y contabilizamos las frecuencias\n",
    "datos_turnos %>% group_by(turno) %>%\n",
    "    summarise(Media = round(mean(promedio),1), datos = n())\n",
    "print(\"Prueba NORMALIDAD -----------------------------------\")\n",
    "# Para usar un test parametrico, la distribución de los datos tiene que ser\n",
    "#normal, por eso se calcularan los test de shapiro\n",
    "#Como tenemos menos de 5000 observaciones en cada uno, optamos por shapiro:\n",
    "shapiro.test(datos_turnos$promedio[datos_turnos$turno == \"MAÑANA\"])\n",
    "shapiro.test(datos_turnos$promedio[datos_turnos$turno == \"TARDE\"])\n",
    "#p-value < α --> Rechazo H0 --> Hay evidencia muestral suficiente p/concluir que los datos no siguen una distribución normal. \n",
    "\n",
    "print(\"Prueba comparacion de medias -------------------------\")\n",
    "#Como no cumple supuesto de normalidad, usamos test no parametrico:\n",
    "# H0 -> No hay diferencia significativa en el rendimiento en matemáticas entre colegios privados y públicos\n",
    "# H1 -> El rendimiento de los alumnos en matematica es mejor en colegios privados que en colegios publicos\n",
    "wilcox.test(promedio ~ turno, data = datos_turnos, conf.level = 0.95)\n",
    "#En base al p-value --> CONCLUYO"
   ]
  },
  {
   "cell_type": "markdown",
   "id": "330094f1-e714-48cf-bc50-8ffcdeb89ff8",
   "metadata": {},
   "source": [
    "#### SEGUNDO"
   ]
  },
  {
   "cell_type": "markdown",
   "id": "c611bb9a-5c1a-4c01-bab7-e306c5c629b3",
   "metadata": {},
   "source": [
    "***Análisis Exploratorio***"
   ]
  },
  {
   "cell_type": "code",
   "execution_count": null,
   "id": "863c9075-74bf-431f-b139-b6d4f67ea0ab",
   "metadata": {},
   "outputs": [],
   "source": [
    "#Filtramos los datos que necesitamos \n",
    "datos_mañana <- filter(secundaria_VICTORIA, turno == \"MAÑANA\" & asignatura == \"LENGUA Y LITERATURA\" & Año_Curso == \"SEGUNDO\")\n",
    "datos_tarde <- filter(secundaria_VICTORIA, turno == \"TARDE\" & asignatura == \"LENGUA Y LITERATURA\" & Año_Curso == \"SEGUNDO\")\n",
    "\n",
    "#Vemos un resumen de los estadistios\n",
    "summary(datos_mañana$Promedio)\n",
    "summary(datos_tarde$Promedio)\n",
    "# Tamaños de muestra\n",
    "cat(\"Tamaño de muestra - Mañana:\", nrow(datos_mañana), \"\\n\")\n",
    "cat(\"Tamaño de muestra - Tarde:\", nrow(datos_tarde), \"\\n\")\n",
    "\n",
    "# Combinamos los datos para graficarlos\n",
    "datos_comb <- bind_rows(\n",
    "  datos_mañana %>% mutate(turno = \"MAÑANA\"),\n",
    "  datos_tarde %>% mutate(turno = \"TARDE\"))\n",
    "\n",
    "# Convertir la columna 'turno' a factor con niveles específicos\n",
    "datos_comb$turno <- factor(datos_comb$turno, levels = c(\"MAÑANA\", \"TARDE\"))\n",
    "\n",
    "# Crear el boxplot comparativo con ggplot2\n",
    "ggplot(datos_comb, aes(x = turno, y = Promedio, fill = turno)) +\n",
    "  geom_boxplot() +\n",
    "  labs(title = \"Comparación de Promedios de LENGUA Y LITERATURA en Segundo por Turno\",\n",
    "       x = \"Turno\",\n",
    "       y = \"Promedio\") +\n",
    "  theme_minimal() +\n",
    "  scale_fill_manual(values = c(\"#2196f3\", \"#ea7441\", \"#ff4081\"))"
   ]
  },
  {
   "cell_type": "markdown",
   "id": "b9498aee-7484-4e1c-b6ad-fdf455b877d9",
   "metadata": {},
   "source": [
    "***Test para comparar dos medias independientes***"
   ]
  },
  {
   "cell_type": "code",
   "execution_count": null,
   "id": "30da0f93-27c8-49dc-a3f0-5b894aa21325",
   "metadata": {},
   "outputs": [],
   "source": [
    "# Pasamos los datos a tipo numerico\n",
    "promedio = as.numeric(c(datos_mañana$Promedio, datos_tarde$Promedio))\n",
    "\n",
    "# Para que se repita la cantidad de alumno en cada turno su nombre\n",
    "turno <- as.factor(c(rep(\"MAÑANA\", length(datos_mañana$Promedio)), rep(\"TARDE\",length(datos_tarde$Promedio))))    \n",
    "\n",
    "# Armamos el dataframe\n",
    "datos_turnos <- data.frame(turno, promedio)\n",
    "\n",
    "# Agrupamos los datos según el turno, calculamos la media de los promedios y contabilizamos las frecuencias\n",
    "datos_turnos %>% group_by(turno) %>%\n",
    "    summarise(Media = round(mean(promedio),1), datos = n())\n",
    "print(\"Prueba NORMALIDAD -----------------------------------\")\n",
    "# Para usar un test parametrico, la distribución de los datos tiene que ser\n",
    "#normal, por eso se calcularan los test de shapiro\n",
    "#Como tenemos menos de 5000 observaciones en cada uno, optamos por shapiro:\n",
    "shapiro.test(datos_turnos$promedio[datos_turnos$turno == \"MAÑANA\"])\n",
    "shapiro.test(datos_turnos$promedio[datos_turnos$turno == \"TARDE\"])\n",
    "#p-value < α --> Rechazo H0 --> Hay evidencia muestral suficiente p/concluir que los datos no siguen una distribución normal. \n",
    "\n",
    "print(\"Prueba comparacion de medias -------------------------\")\n",
    "#Como no cumple supuesto de normalidad, usamos test no parametrico:\n",
    "# H0 -> No hay diferencia significativa en el rendimiento en matemáticas entre colegios privados y públicos\n",
    "# H1 -> El rendimiento de los alumnos en matematica es mejor en colegios privados que en colegios publicos\n",
    "wilcox.test(promedio ~ turno, data = datos_turnos, conf.level = 0.95)\n",
    "#En base al p-value --> CONCLUYO"
   ]
  },
  {
   "cell_type": "markdown",
   "id": "9e915877-672b-43ea-b446-6a591b5f70ca",
   "metadata": {},
   "source": [
    "#### TERCERO"
   ]
  },
  {
   "cell_type": "markdown",
   "id": "c96bfce7-4f2b-439c-9e5b-dc254d2ef074",
   "metadata": {},
   "source": [
    "***Análisis Exploratorio***"
   ]
  },
  {
   "cell_type": "code",
   "execution_count": null,
   "id": "da64dd17-f0bf-43d8-a9fe-3b35d301f6bd",
   "metadata": {},
   "outputs": [],
   "source": [
    "#Filtramos los datos que necesitamos \n",
    "datos_mañana <- filter(secundaria_VICTORIA, turno == \"MAÑANA\" & asignatura == \"LENGUA Y LITERATURA\" & Año_Curso == \"TERCERO\")\n",
    "datos_tarde <- filter(secundaria_VICTORIA, turno == \"TARDE\" & asignatura == \"LENGUA Y LITERATURA\" & Año_Curso == \"TERCERO\")\n",
    "\n",
    "#Vemos un resumen de los estadistios\n",
    "summary(datos_mañana$Promedio)\n",
    "summary(datos_tarde$Promedio)\n",
    "# Tamaños de muestra\n",
    "cat(\"Tamaño de muestra - Mañana:\", nrow(datos_mañana), \"\\n\")\n",
    "cat(\"Tamaño de muestra - Tarde:\", nrow(datos_tarde), \"\\n\")\n",
    "\n",
    "# Combinamos los datos para graficarlos\n",
    "datos_comb <- bind_rows(\n",
    "  datos_mañana %>% mutate(turno = \"MAÑANA\"),\n",
    "  datos_tarde %>% mutate(turno = \"TARDE\"))\n",
    "\n",
    "# Convertir la columna 'turno' a factor con niveles específicos\n",
    "datos_comb$turno <- factor(datos_comb$turno, levels = c(\"MAÑANA\", \"TARDE\"))\n",
    "\n",
    "# Crear el boxplot comparativo con ggplot2\n",
    "ggplot(datos_comb, aes(x = turno, y = Promedio, fill = turno)) +\n",
    "  geom_boxplot() +\n",
    "  labs(title = \"Comparación de Promedios de LENGUA Y LITERATURA en Tercero por Turno\",\n",
    "       x = \"Turno\",\n",
    "       y = \"Promedio\") +\n",
    "  theme_minimal() +\n",
    "  scale_fill_manual(values = c(\"#2196f3\", \"#ea7441\", \"#ff4081\"))"
   ]
  },
  {
   "cell_type": "markdown",
   "id": "805d88e2-7be7-4872-8a3e-64b4d566de26",
   "metadata": {},
   "source": [
    "***Test para comparar dos medias independientes***"
   ]
  },
  {
   "cell_type": "code",
   "execution_count": null,
   "id": "20516eed-fffb-451b-bb79-c39f2a506eff",
   "metadata": {},
   "outputs": [],
   "source": [
    "# Pasamos los datos a tipo numerico\n",
    "promedio = as.numeric(c(datos_mañana$Promedio, datos_tarde$Promedio))\n",
    "\n",
    "# Para que se repita la cantidad de alumno en cada turno su nombre\n",
    "turno <- as.factor(c(rep(\"MAÑANA\", length(datos_mañana$Promedio)), rep(\"TARDE\",length(datos_tarde$Promedio))))    \n",
    "\n",
    "# Armamos el dataframe\n",
    "datos_turnos <- data.frame(turno, promedio)\n",
    "\n",
    "# Agrupamos los datos según el turno, calculamos la media de los promedios y contabilizamos las frecuencias\n",
    "datos_turnos %>% group_by(turno) %>%\n",
    "    summarise(Media = round(mean(promedio),1), datos = n())\n",
    "print(\"Prueba NORMALIDAD -----------------------------------\")\n",
    "# Para usar un test parametrico, la distribución de los datos tiene que ser\n",
    "#normal, por eso se calcularan los test de shapiro\n",
    "#Como tenemos menos de 5000 observaciones en cada uno, optamos por shapiro:\n",
    "shapiro.test(datos_turnos$promedio[datos_turnos$turno == \"MAÑANA\"])\n",
    "shapiro.test(datos_turnos$promedio[datos_turnos$turno == \"TARDE\"])\n",
    "#p-value < α --> Rechazo H0 --> Hay evidencia muestral suficiente p/concluir que los datos no siguen una distribución normal. \n",
    "\n",
    "print(\"Prueba comparacion de medias -------------------------\")\n",
    "#Como no cumple supuesto de normalidad, usamos test no parametrico:\n",
    "# H0 -> No hay diferencia significativa en el rendimiento en matemáticas entre colegios privados y públicos\n",
    "# H1 -> El rendimiento de los alumnos en matematica es mejor en colegios privados que en colegios publicos\n",
    "wilcox.test(promedio ~ turno, data = datos_turnos, conf.level = 0.95)\n",
    "#En base al p-value --> CONCLUYO"
   ]
  },
  {
   "cell_type": "markdown",
   "id": "762f3124-1290-47d0-b0c6-42ef9e5da0c4",
   "metadata": {},
   "source": [
    "#### CUARTO"
   ]
  },
  {
   "cell_type": "markdown",
   "id": "ef5507a4-ee06-4daf-b9cd-6f0e5938d657",
   "metadata": {},
   "source": [
    "***Análisis Exploratorio***"
   ]
  },
  {
   "cell_type": "code",
   "execution_count": null,
   "id": "9ae1def5-88dd-4768-bbf2-6a26a40538d8",
   "metadata": {},
   "outputs": [],
   "source": [
    "#Filtramos los datos que necesitamos \n",
    "datos_mañana <- filter(secundaria_VICTORIA, turno == \"MAÑANA\" & asignatura == \"LENGUA Y LITERATURA\" & Año_Curso == \"CUARTO\")\n",
    "datos_tarde <- filter(secundaria_VICTORIA, turno == \"TARDE\" & asignatura == \"LENGUA Y LITERATURA\" & Año_Curso == \"CUARTO\")\n",
    "\n",
    "#Vemos un resumen de los estadistios\n",
    "summary(datos_mañana$Promedio)\n",
    "summary(datos_tarde$Promedio)\n",
    "# Tamaños de muestra\n",
    "cat(\"Tamaño de muestra - Mañana:\", nrow(datos_mañana), \"\\n\")\n",
    "cat(\"Tamaño de muestra - Tarde:\", nrow(datos_tarde), \"\\n\")\n",
    "\n",
    "# Combinamos los datos para graficarlos\n",
    "datos_comb <- bind_rows(\n",
    "  datos_mañana %>% mutate(turno = \"MAÑANA\"),\n",
    "  datos_tarde %>% mutate(turno = \"TARDE\"))\n",
    "\n",
    "# Convertir la columna 'turno' a factor con niveles específicos\n",
    "datos_comb$turno <- factor(datos_comb$turno, levels = c(\"MAÑANA\", \"TARDE\"))\n",
    "\n",
    "# Crear el boxplot comparativo con ggplot2\n",
    "ggplot(datos_comb, aes(x = turno, y = Promedio, fill = turno)) +\n",
    "  geom_boxplot() +\n",
    "  labs(title = \"Comparación de Promedios de LENGUA Y LITERATURA en Cuarto por Turno\",\n",
    "       x = \"Turno\",\n",
    "       y = \"Promedio\") +\n",
    "  theme_minimal() +\n",
    "  scale_fill_manual(values = c(\"#2196f3\", \"#ea7441\", \"#ff4081\"))"
   ]
  },
  {
   "cell_type": "markdown",
   "id": "2d0cc34b-a4c8-4b34-96a4-229e95cb76f7",
   "metadata": {},
   "source": [
    "***Test para comparar dos medias independientes***"
   ]
  },
  {
   "cell_type": "code",
   "execution_count": null,
   "id": "b4e2279b-1a42-4af1-85e0-2f9c3698a6ab",
   "metadata": {},
   "outputs": [],
   "source": [
    "# Pasamos los datos a tipo numerico\n",
    "promedio = as.numeric(c(datos_mañana$Promedio, datos_tarde$Promedio))\n",
    "\n",
    "# Para que se repita la cantidad de alumno en cada turno su nombre\n",
    "turno <- as.factor(c(rep(\"MAÑANA\", length(datos_mañana$Promedio)), rep(\"TARDE\",length(datos_tarde$Promedio))))    \n",
    "\n",
    "# Armamos el dataframe\n",
    "datos_turnos <- data.frame(turno, promedio)\n",
    "\n",
    "# Agrupamos los datos según el turno, calculamos la media de los promedios y contabilizamos las frecuencias\n",
    "datos_turnos %>% group_by(turno) %>%\n",
    "    summarise(Media = round(mean(promedio),1), datos = n())\n",
    "print(\"Prueba NORMALIDAD -----------------------------------\")\n",
    "# Para usar un test parametrico, la distribución de los datos tiene que ser\n",
    "#normal, por eso se calcularan los test de shapiro\n",
    "#Como tenemos menos de 5000 observaciones en cada uno, optamos por shapiro:\n",
    "shapiro.test(datos_turnos$promedio[datos_turnos$turno == \"MAÑANA\"])\n",
    "shapiro.test(datos_turnos$promedio[datos_turnos$turno == \"TARDE\"])\n",
    "#p-value < α --> Rechazo H0 --> Hay evidencia muestral suficiente p/concluir que los datos no siguen una distribución normal. \n",
    "\n",
    "print(\"Prueba comparacion de medias -------------------------\")\n",
    "#Como no cumple supuesto de normalidad, usamos test no parametrico:\n",
    "# H0 -> No hay diferencia significativa en el rendimiento en matemáticas entre colegios privados y públicos\n",
    "# H1 -> El rendimiento de los alumnos en matematica es mejor en colegios privados que en colegios publicos\n",
    "wilcox.test(promedio ~ turno, data = datos_turnos, conf.level = 0.95)\n",
    "#En base al p-value --> CONCLUYO"
   ]
  },
  {
   "cell_type": "markdown",
   "id": "b5995161-a56d-45a7-8d25-3127608b8191",
   "metadata": {},
   "source": [
    "#### QUINTO"
   ]
  },
  {
   "cell_type": "markdown",
   "id": "9bd7aab5-95c1-466d-9d3e-d6284c89959d",
   "metadata": {},
   "source": [
    "***Análisis Exploratorio***"
   ]
  },
  {
   "cell_type": "code",
   "execution_count": null,
   "id": "94d11633-d9cc-4332-90fe-68da8eb38e07",
   "metadata": {},
   "outputs": [],
   "source": [
    "#Filtramos los datos que necesitamos \n",
    "datos_mañana <- filter(secundaria_VICTORIA, turno == \"MAÑANA\" & asignatura == \"LENGUA Y LITERATURA\" & Año_Curso == \"QUINTO\")\n",
    "datos_tarde <- filter(secundaria_VICTORIA, turno == \"TARDE\" & asignatura == \"LENGUA Y LITERATURA\" & Año_Curso == \"QUINTO\")\n",
    "\n",
    "#Vemos un resumen de los estadistios\n",
    "summary(datos_mañana$Promedio)\n",
    "summary(datos_tarde$Promedio)\n",
    "# Tamaños de muestra\n",
    "cat(\"Tamaño de muestra - Mañana:\", nrow(datos_mañana), \"\\n\")\n",
    "cat(\"Tamaño de muestra - Tarde:\", nrow(datos_tarde), \"\\n\")\n",
    "\n",
    "# Combinamos los datos para graficarlos\n",
    "datos_comb <- bind_rows(\n",
    "  datos_mañana %>% mutate(turno = \"MAÑANA\"),\n",
    "  datos_tarde %>% mutate(turno = \"TARDE\"))\n",
    "\n",
    "# Convertir la columna 'turno' a factor con niveles específicos\n",
    "datos_comb$turno <- factor(datos_comb$turno, levels = c(\"MAÑANA\", \"TARDE\"))\n",
    "\n",
    "# Crear el boxplot comparativo con ggplot2\n",
    "ggplot(datos_comb, aes(x = turno, y = Promedio, fill = turno)) +\n",
    "  geom_boxplot() +\n",
    "  labs(title = \"Comparación de Promedios de LENGUA Y LITERATURA en Quinto por Turno\",\n",
    "       x = \"Turno\",\n",
    "       y = \"Promedio\") +\n",
    "  theme_minimal() +\n",
    "  scale_fill_manual(values = c(\"#2196f3\", \"#ea7441\", \"#ff4081\"))"
   ]
  },
  {
   "cell_type": "markdown",
   "id": "3fcdd9d1-f307-431b-8fc1-3655f8897794",
   "metadata": {},
   "source": [
    "***Test para comparar dos medias independientes***"
   ]
  },
  {
   "cell_type": "code",
   "execution_count": null,
   "id": "1bbd42ba-6687-47fe-8a9b-64c7d9443e19",
   "metadata": {},
   "outputs": [],
   "source": [
    "# Pasamos los datos a tipo numerico\n",
    "promedio = as.numeric(c(datos_mañana$Promedio, datos_tarde$Promedio))\n",
    "\n",
    "# Para que se repita la cantidad de alumno en cada turno su nombre\n",
    "turno <- as.factor(c(rep(\"MAÑANA\", length(datos_mañana$Promedio)), rep(\"TARDE\",length(datos_tarde$Promedio))))    \n",
    "\n",
    "# Armamos el dataframe\n",
    "datos_turnos <- data.frame(turno, promedio)\n",
    "\n",
    "# Agrupamos los datos según el turno, calculamos la media de los promedios y contabilizamos las frecuencias\n",
    "datos_turnos %>% group_by(turno) %>%\n",
    "    summarise(Media = round(mean(promedio),1), datos = n())\n",
    "print(\"Prueba NORMALIDAD -----------------------------------\")\n",
    "# Para usar un test parametrico, la distribución de los datos tiene que ser\n",
    "#normal, por eso se calcularan los test de shapiro\n",
    "#Como tenemos menos de 5000 observaciones en cada uno, optamos por shapiro:\n",
    "shapiro.test(datos_turnos$promedio[datos_turnos$turno == \"MAÑANA\"])\n",
    "shapiro.test(datos_turnos$promedio[datos_turnos$turno == \"TARDE\"])\n",
    "#p-value < α --> Rechazo H0 --> Hay evidencia muestral suficiente p/concluir que los datos no siguen una distribución normal. \n",
    "\n",
    "print(\"Prueba comparacion de medias -------------------------\")\n",
    "#Como no cumple supuesto de normalidad, usamos test no parametrico:\n",
    "# H0 -> No hay diferencia significativa en el rendimiento en matemáticas entre colegios privados y públicos\n",
    "# H1 -> El rendimiento de los alumnos en matematica es mejor en colegios privados que en colegios publicos\n",
    "wilcox.test(promedio ~ turno, data = datos_turnos, conf.level = 0.95)\n",
    "#En base al p-value --> CONCLUYO"
   ]
  },
  {
   "cell_type": "markdown",
   "id": "748a7df4-666d-40d8-85a9-1c485a796a82",
   "metadata": {},
   "source": [
    "#### SEXTO"
   ]
  },
  {
   "cell_type": "markdown",
   "id": "c5ef23ce-ccac-4e7a-b382-a34054bdd48b",
   "metadata": {},
   "source": [
    "***Análisis Exploratorio***"
   ]
  },
  {
   "cell_type": "code",
   "execution_count": null,
   "id": "9bf027ad-e216-438d-8183-cf96624edfa6",
   "metadata": {},
   "outputs": [],
   "source": [
    "#Filtramos los datos que necesitamos \n",
    "datos_mañana <- filter(secundaria_VICTORIA, turno == \"MAÑANA\" & asignatura == \"LENGUA Y LITERATURA\" & Año_Curso == \"SEXTO\")\n",
    "datos_tarde <- filter(secundaria_VICTORIA, turno == \"TARDE\" & asignatura == \"LENGUA Y LITERATURA\" & Año_Curso == \"SEXTO\")\n",
    "\n",
    "#Vemos un resumen de los estadistios\n",
    "summary(datos_mañana$Promedio)\n",
    "summary(datos_tarde$Promedio)\n",
    "# Tamaños de muestra\n",
    "cat(\"Tamaño de muestra - Mañana:\", nrow(datos_mañana), \"\\n\")\n",
    "cat(\"Tamaño de muestra - Tarde:\", nrow(datos_tarde), \"\\n\")\n",
    "\n",
    "# Combinamos los datos para graficarlos\n",
    "datos_comb <- bind_rows(\n",
    "  datos_mañana %>% mutate(turno = \"MAÑANA\"),\n",
    "  datos_tarde %>% mutate(turno = \"TARDE\"))\n",
    "\n",
    "# Convertir la columna 'turno' a factor con niveles específicos\n",
    "datos_comb$turno <- factor(datos_comb$turno, levels = c(\"MAÑANA\", \"TARDE\"))\n",
    "\n",
    "# Crear el boxplot comparativo con ggplot2\n",
    "ggplot(datos_comb, aes(x = turno, y = Promedio, fill = turno)) +\n",
    "  geom_boxplot() +\n",
    "  labs(title = \"Comparación de Promedios de LENGUA Y LITERATURA en Sexto por Turno\",\n",
    "       x = \"Turno\",\n",
    "       y = \"Promedio\") +\n",
    "  theme_minimal() +\n",
    "  scale_fill_manual(values = c(\"#2196f3\", \"#ea7441\", \"#ff4081\"))"
   ]
  },
  {
   "cell_type": "markdown",
   "id": "5d6918d7-099f-486d-8bc0-0283cb418993",
   "metadata": {},
   "source": [
    "***Test para comparar dos medias independientes***"
   ]
  },
  {
   "cell_type": "code",
   "execution_count": null,
   "id": "a42b8ac8-2af8-4bc9-9557-c65ce16022d0",
   "metadata": {
    "scrolled": true
   },
   "outputs": [],
   "source": [
    "# Pasamos los datos a tipo numerico\n",
    "promedio = as.numeric(c(datos_mañana$Promedio, datos_tarde$Promedio))\n",
    "\n",
    "# Para que se repita la cantidad de alumno en cada turno su nombre\n",
    "turno <- as.factor(c(rep(\"MAÑANA\", length(datos_mañana$Promedio)), rep(\"TARDE\",length(datos_tarde$Promedio))))    \n",
    "\n",
    "# Armamos el dataframe\n",
    "datos_turnos <- data.frame(turno, promedio)\n",
    "\n",
    "# Agrupamos los datos según el turno, calculamos la media de los promedios y contabilizamos las frecuencias\n",
    "datos_turnos %>% group_by(turno) %>%\n",
    "    summarise(Media = round(mean(promedio),1), datos = n())\n",
    "print(\"Prueba NORMALIDAD -----------------------------------\")\n",
    "# Para usar un test parametrico, la distribución de los datos tiene que ser\n",
    "#normal, por eso se calcularan los test de shapiro\n",
    "#Como tenemos menos de 5000 observaciones en cada uno, optamos por shapiro:\n",
    "shapiro.test(datos_turnos$promedio[datos_turnos$turno == \"MAÑANA\"])\n",
    "shapiro.test(datos_turnos$promedio[datos_turnos$turno == \"TARDE\"])\n",
    "#p-value < α --> Rechazo H0 --> Hay evidencia muestral suficiente p/concluir que los datos no siguen una distribución normal. \n",
    "\n",
    "print(\"Prueba comparacion de medias -------------------------\")\n",
    "#Como no cumple supuesto de normalidad, usamos test no parametrico:\n",
    "# H0 -> No hay diferencia significativa en el rendimiento en matemáticas entre colegios privados y públicos\n",
    "# H1 -> El rendimiento de los alumnos en matematica es mejor en colegios privados que en colegios publicos\n",
    "wilcox.test(promedio ~ turno, data = datos_turnos, conf.level = 0.95)\n",
    "#En base al p-value --> CONCLUYO"
   ]
  },
  {
   "cell_type": "markdown",
   "id": "9c0a1034-2954-4058-879b-52e1a7078cab",
   "metadata": {},
   "source": [
    "#### SEPTIMO"
   ]
  },
  {
   "cell_type": "markdown",
   "id": "97eb8912-d548-4305-a360-7591b8cc4e28",
   "metadata": {},
   "source": [
    "***No se analizo porque solamente 1 colegio tiene lengua en turno mañana***"
   ]
  },
  {
   "cell_type": "markdown",
   "id": "03c95bbd-703c-4830-a661-25aa13011963",
   "metadata": {},
   "source": [
    "--------------------"
   ]
  },
  {
   "cell_type": "markdown",
   "id": "66582c76-d2b7-46e6-870e-5c75e8295737",
   "metadata": {},
   "source": [
    "## Comparacion del rendimiento en los 3 trimestres (año por año)"
   ]
  },
  {
   "cell_type": "markdown",
   "id": "28ff9364-cd7a-42ee-b225-83a277e9f9aa",
   "metadata": {},
   "source": [
    "***Usamos el test de friedman (diferencia de 3 o mas medias), ya que estamos trabajando con muestras pareadas (estariamos comparando la misma muestra -promedio alumno- en distintos momentos)\n",
    "En este caso, los tres trimestres del año académico se considerarían como grupos diferentes de mediciones repetidas en el mismo conjunto de alumnos.***\n",
    "***Para medir el rendimiento, tomamos como referencia las notas obtenidas en la asignatura MATEMATICA, ya que es una asignatura muy importante***"
   ]
  },
  {
   "cell_type": "markdown",
   "id": "0d9affed-b6e2-4da4-a162-80a43c53d37b",
   "metadata": {},
   "source": [
    "### PRIMERO"
   ]
  },
  {
   "cell_type": "markdown",
   "id": "6c1bc53a-b13d-44fd-8767-7de6d3146dd6",
   "metadata": {},
   "source": [
    "***Análisis Exploratorio***"
   ]
  },
  {
   "cell_type": "code",
   "execution_count": null,
   "id": "06f9afde-daca-4a46-8b4c-180a3cac66e3",
   "metadata": {},
   "outputs": [],
   "source": [
    "# Filtramos los datos \n",
    "datos_primer_tri <- filter(secundaria_VICTORIA, asignatura == \"MATEMATICA\",Año_Curso == \"PRIMERO\")$NotasPrimerT\n",
    "datos_segundo_tri <- filter(secundaria_VICTORIA, asignatura == \"MATEMATICA\",Año_Curso == \"PRIMERO\")$NotasSegundoT\n",
    "datos_tercer_tri <- filter(secundaria_VICTORIA, asignatura == \"MATEMATICA\",Año_Curso == \"PRIMERO\")$NotasTercerT\n",
    "\n",
    "# Unimos los datos filtrados a un data frame\n",
    "datos_completos <- data.frame(\n",
    "  Trimestre = rep(c(\"Primer Trimestre\", \"Segundo Trimestre\", \"Tercer Trimestre\"), each = length(datos_primer_tri)),\n",
    "  Notas = c(datos_primer_tri, datos_segundo_tri, datos_tercer_tri))\n",
    "\n",
    "# Convertimos la variable Trimestre a factor\n",
    "datos_completos$Trimestre <- factor(datos_completos$Trimestre, levels = c(\"Primer Trimestre\", \"Segundo Trimestre\", \"Tercer Trimestre\"))\n",
    "\n",
    "# Gráfico de caja y bigotes con ggplot2\n",
    "ggplot(datos_completos, aes(x = Trimestre, y = Notas, fill = Trimestre)) +\n",
    "  geom_boxplot() +\n",
    "  labs(title = \"Comparación de notas por trimestre de Matemáticas en Primero\",\n",
    "       x = \"Trimestre\",\n",
    "       y = \"Notas\") +\n",
    "  scale_fill_manual(values = c(\"#2196f3\", \"#C23B22\", \"#8bc34a\")) +\n",
    "  theme_minimal()"
   ]
  },
  {
   "cell_type": "markdown",
   "id": "0742c90d-3905-48b1-9bc5-9f5fc3a5734e",
   "metadata": {},
   "source": [
    "***Test de Friedman***"
   ]
  },
  {
   "cell_type": "code",
   "execution_count": null,
   "id": "ed8c9b36-5d8c-401e-a9e8-66235eb6d0ec",
   "metadata": {},
   "outputs": [],
   "source": [
    "# Calculamos el tamaño de los alumnos de primer grado en Matemática para utilizar posteriormente\n",
    "tamanio = length(datos_primer_tri)\n",
    "print(tamanio)\n",
    "\n",
    "# Armamos el data frame con lo datos\n",
    "notas= as.numeric(c(datos_primer_tri,datos_segundo_tri,datos_tercer_tri))\n",
    "trimestres <- as.factor(c(rep(\"Primer Trimestre\",length(datos_primer_tri)), rep(\"Segundo Trimestre\",length(datos_segundo_tri)),rep(\"Tercer Trimestre\",length(datos_tercer_tri))))\n",
    "datos <- data.frame(Alumnos=rep(1:tamanio,3), notas, trimestres)\n",
    "head(datos)\n",
    "\n",
    "#SUPUESTOS\n",
    "#Chequeamos normalidad de los residuos con shapiro (cantidad de datos < 5000)\n",
    "# Ajustar el modelo lineal\n",
    "modelo_lm <- lm(notas ~ trimestres, data = datos)\n",
    "# Obtener los residuos del modelo\n",
    "datos$residuals <- resid(modelo_lm)\n",
    "print(\"Test de Normalidad:\")\n",
    "shapiro.test(datos$residuals) #Rechazo H0 --> No los residuos no se distribuyen Normalmente\n",
    "\n",
    "#Como los residuos no se distribuyen normalmente --> TEST DE FRIEDMAN\n",
    "# Test para encontrar diferencias significativas entre los grupos\n",
    "friedman.test(notas ~ trimestres | Alumnos, data=datos)\n",
    "\n",
    "# Potencia del test\n",
    "friedman_anova <- pwr.anova.test(k = 3, n = tamanio, f = 0.25, sig.level = 0.05)$power\n",
    "print(\"Potencia del test:\")\n",
    "friedman_anova\n",
    "\n",
    "# Calculamos medias de cada grupo p/chequear\n",
    "by(data = datos$notas, INDICES = datos$trimestres, FUN = median)\n",
    "\n",
    "# Para saber entre que conjuntos de datos estan las diferencias\n",
    "pairwise.wilcox.test(datos$notas, datos$trimestres, paired = TRUE)"
   ]
  },
  {
   "cell_type": "markdown",
   "id": "c6badd98-93be-459c-aba6-16fe72712e95",
   "metadata": {},
   "source": [
    "***Grafico de coordenadas paralelas***"
   ]
  },
  {
   "cell_type": "code",
   "execution_count": null,
   "id": "dbe61366-2681-4b3e-b338-2e9e4049cc84",
   "metadata": {},
   "outputs": [],
   "source": [
    "# Armamos el data frame con lo datos\n",
    "notas_primero <- data.frame(\n",
    " sujeto = 1:tamanio,\n",
    " datos_primer_tri <- filter(secundaria_VICTORIA, asignatura == \"MATEMATICA\",Año_Curso == \"PRIMERO\")$NotasPrimerT,\n",
    " datos_segundo_tri <- filter(secundaria_VICTORIA, asignatura == \"MATEMATICA\",Año_Curso == \"PRIMERO\")$NotasSegundoT,\n",
    " datos_tercer_tri <- filter(secundaria_VICTORIA, asignatura == \"MATEMATICA\",Año_Curso == \"PRIMERO\")$NotasTercerT)\n",
    "\n",
    "# Esto sirve para armar los datos de manera larga\n",
    "datos_largo <- melt(notas_primero, id.vars= \"sujeto\", variable.name= \"Notas\", value.name= \"Puntuacion\")\n",
    "\n",
    "\n",
    "\n",
    "# Armamos el data frame con lo datos\n",
    "notas= as.numeric(c(datos_primer_tri,datos_segundo_tri,datos_tercer_tri))\n",
    "trimestres <- as.factor(c(rep(\"Primer Trimestre\",length(datos_primer_tri)), rep(\"Segundo Trimestre\",length(datos_segundo_tri)),rep(\"Tercer Trimestre\",length(datos_tercer_tri))))\n",
    "datos <- data.frame(Alumnos=rep(1:tamanio,3), notas, trimestres)\n",
    "head(datos)\n",
    "\n",
    "# Grafico de coordenadas paralelas de los primeros 10 estudiantes (no se hacen todos porque no se entenderia el grafico con tantas lineas)\n",
    "# Primero modificamos el nombre de los datos para que a la hora de ponerlos en el grafico, se vea mas conciso cada clase\n",
    "datos_largo$Notas <- gsub(\"datos_primer_tri.*\", \"Primer Trimestre\", datos_largo$Notas)\n",
    "datos_largo$Notas <- gsub(\"datos_segundo_tri.*\", \"Segundo Trimestre\", datos_largo$Notas)\n",
    "datos_largo$Notas <- gsub(\"datos_tercer_tri.*\", \"Tercer Trimestre\", datos_largo$Notas)\n",
    "\n",
    "# Seleccionar 10 alumnos aleatorios\n",
    "set.seed(123) # Fijar una semilla para reproducibilidad\n",
    "alumnos_aleatorios <- sample(unique(datos_largo$sujeto), 10)\n",
    "# Filtrar los datos para los alumnos seleccionados aleatoriamente\n",
    "datos_grafica <- datos_largo %>%\n",
    "  filter(sujeto %in% alumnos_aleatorios)\n",
    "\n",
    "# Grafico de coordenadas paralelas de los primeros 10 alumnos con sus notas en cada trimestre\n",
    "ggplot(datos_grafica, aes(x = Notas, y = Puntuacion, group = sujeto, color = factor(sujeto))) +\n",
    "  geom_line() +\n",
    "  geom_point() +\n",
    "  labs(title = \"Evolución de algunas de las notas trimestrales a lo largo del año 2023\n",
    "    de los alumnos de Primer Grado en Matemática\",\n",
    "       x = \"Trimestre\",\n",
    "       y = \"Nota\") +\n",
    "  theme_minimal()"
   ]
  },
  {
   "cell_type": "markdown",
   "id": "c5150a55-b701-4551-a3f1-15b45cf66556",
   "metadata": {},
   "source": [
    "### SEGUNDO"
   ]
  },
  {
   "cell_type": "markdown",
   "id": "4458bf23-09d8-48dc-b0a9-40b89143209c",
   "metadata": {},
   "source": [
    "***Análisis Exploratorio***"
   ]
  },
  {
   "cell_type": "code",
   "execution_count": null,
   "id": "0c5aa0a8-d9d0-4b54-8f22-098af01eaa72",
   "metadata": {},
   "outputs": [],
   "source": [
    "# Filtramos los datos \n",
    "datos_primer_tri <- filter(secundaria_VICTORIA, asignatura == \"MATEMATICA\",Año_Curso == \"SEGUNDO\")$NotasPrimerT\n",
    "datos_segundo_tri <- filter(secundaria_VICTORIA, asignatura == \"MATEMATICA\",Año_Curso == \"SEGUNDO\")$NotasSegundoT\n",
    "datos_tercer_tri <- filter(secundaria_VICTORIA, asignatura == \"MATEMATICA\",Año_Curso == \"SEGUNDO\")$NotasTercerT\n",
    "\n",
    "# Unimos los datos filtrados a un data frame\n",
    "datos_completos <- data.frame(\n",
    "  Trimestre = rep(c(\"Primer Trimestre\", \"Segundo Trimestre\", \"Tercer Trimestre\"), each = length(datos_primer_tri)),\n",
    "  Notas = c(datos_primer_tri, datos_segundo_tri, datos_tercer_tri))\n",
    "\n",
    "# Convertimos la variable Trimestre a factor\n",
    "datos_completos$Trimestre <- factor(datos_completos$Trimestre, levels = c(\"Primer Trimestre\", \"Segundo Trimestre\", \"Tercer Trimestre\"))\n",
    "\n",
    "# Gráfico de caja y bigotes con ggplot2\n",
    "ggplot(datos_completos, aes(x = Trimestre, y = Notas, fill = Trimestre)) +\n",
    "  geom_boxplot() +\n",
    "  labs(title = \"Comparación de notas por trimestre de Matemáticas en SEGUNDO\",\n",
    "       x = \"Trimestre\",\n",
    "       y = \"Notas\") +\n",
    "  scale_fill_manual(values = c(\"#2196f3\", \"#C23B22\", \"#8bc34a\")) +\n",
    "  theme_minimal()"
   ]
  },
  {
   "cell_type": "markdown",
   "id": "1cf7a7ea-6796-4394-b980-354b449e3e5e",
   "metadata": {},
   "source": [
    "***Test de Friedman***"
   ]
  },
  {
   "cell_type": "code",
   "execution_count": null,
   "id": "0a3b6698-694e-43f2-93a7-2370b326401a",
   "metadata": {},
   "outputs": [],
   "source": [
    "# Calculamos el tamaño de los alumnos de primer grado en Matemática para utilizar posteriormente\n",
    "tamanio = length(datos_primer_tri)\n",
    "print(tamanio)\n",
    "\n",
    "# Armamos el data frame con lo datos\n",
    "notas= as.numeric(c(datos_primer_tri,datos_segundo_tri,datos_tercer_tri))\n",
    "trimestres <- as.factor(c(rep(\"Primer Trimestre\",length(datos_primer_tri)), rep(\"Segundo Trimestre\",length(datos_segundo_tri)),rep(\"Tercer Trimestre\",length(datos_tercer_tri))))\n",
    "datos <- data.frame(Alumnos=rep(1:tamanio,3), notas, trimestres)\n",
    "head(datos)\n",
    "\n",
    "#SUPUESTOS\n",
    "#Chequeamos normalidad de los residuos con shapiro (cantidad de datos < 5000)\n",
    "# Ajustar el modelo lineal\n",
    "modelo_lm <- lm(notas ~ trimestres, data = datos)\n",
    "# Obtener los residuos del modelo\n",
    "datos$residuals <- resid(modelo_lm)\n",
    "print(\"Test de Normalidad:\")\n",
    "shapiro.test(datos$residuals) #Rechazo H0 --> No los residuos no se distribuyen Normalmente\n",
    "\n",
    "#Como los residuos no se distribuyen normalmente --> TEST DE FRIEDMAN\n",
    "# Test para encontrar diferencias significativas entre los grupos\n",
    "friedman.test(notas ~ trimestres | Alumnos, data=datos)\n",
    "\n",
    "# Potencia del test\n",
    "friedman_anova <- pwr.anova.test(k = 3, n = tamanio, f = 0.25, sig.level = 0.05)$power\n",
    "print(\"Potencia del test:\")\n",
    "friedman_anova\n",
    "\n",
    "# Calculamos medias de cada grupo p/chequear\n",
    "by(data = datos$notas, INDICES = datos$trimestres, FUN = median)\n",
    "\n",
    "# Para saber entre que conjuntos de datos estan las diferencias\n",
    "pairwise.wilcox.test(datos$notas, datos$trimestres, paired = TRUE)"
   ]
  },
  {
   "cell_type": "markdown",
   "id": "569bfbba-3d72-41a8-b021-e1bd7e19d025",
   "metadata": {},
   "source": [
    "***Grafico de coordenadas paralelas***"
   ]
  },
  {
   "cell_type": "code",
   "execution_count": null,
   "id": "cc4d283c-322d-489a-9dcb-748a45a1c99a",
   "metadata": {},
   "outputs": [],
   "source": [
    "# Armamos el data frame con lo datos\n",
    "notas_segundo <- data.frame(\n",
    " sujeto = 1:tamanio,\n",
    " datos_primer_tri <- filter(secundaria_VICTORIA, asignatura == \"MATEMATICA\",Año_Curso == \"SEGUNDO\")$NotasPrimerT,\n",
    " datos_segundo_tri <- filter(secundaria_VICTORIA, asignatura == \"MATEMATICA\",Año_Curso == \"SEGUNDO\")$NotasSegundoT,\n",
    " datos_tercer_tri <- filter(secundaria_VICTORIA, asignatura == \"MATEMATICA\",Año_Curso == \"SEGUNDO\")$NotasTercerT)\n",
    "\n",
    "# Esto sirve para armar los datos de manera larga\n",
    "datos_largo <- melt(notas_segundo, id.vars= \"sujeto\", variable.name= \"Notas\", value.name= \"Puntuacion\")\n",
    "\n",
    "# Armamos el data frame con lo datos\n",
    "notas= as.numeric(c(datos_primer_tri,datos_segundo_tri,datos_tercer_tri))\n",
    "trimestres <- as.factor(c(rep(\"Primer Trimestre\",length(datos_primer_tri)), rep(\"Segundo Trimestre\",length(datos_segundo_tri)),rep(\"Tercer Trimestre\",length(datos_tercer_tri))))\n",
    "datos <- data.frame(Alumnos=rep(1:tamanio,3), notas, trimestres)\n",
    "head(datos)\n",
    "\n",
    "# Grafico de coordenadas paralelas de los primeros 10 estudiantes (no se hacen todos porque no se entenderia el grafico con tantas lineas)\n",
    "# Primero modificamos el nombre de los datos para que a la hora de ponerlos en el grafico, se vea mas conciso cada clase\n",
    "datos_largo$Notas <- gsub(\"datos_primer_tri.*\", \"Primer Trimestre\", datos_largo$Notas)\n",
    "datos_largo$Notas <- gsub(\"datos_segundo_tri.*\", \"Segundo Trimestre\", datos_largo$Notas)\n",
    "datos_largo$Notas <- gsub(\"datos_tercer_tri.*\", \"Tercer Trimestre\", datos_largo$Notas)\n",
    "\n",
    "# Seleccionar 10 alumnos aleatorios\n",
    "set.seed(123) # Fijar una semilla para reproducibilidad\n",
    "alumnos_aleatorios <- sample(unique(datos_largo$sujeto), 10)\n",
    "# Filtrar los datos para los alumnos seleccionados aleatoriamente\n",
    "datos_grafica <- datos_largo %>%\n",
    "  filter(sujeto %in% alumnos_aleatorios)\n",
    "\n",
    "# Grafico de coordenadas paralelas de los primeros 10 alumnos con sus notas en cada trimestre\n",
    "ggplot(datos_grafica, aes(x = Notas, y = Puntuacion, group = sujeto, color = factor(sujeto))) +\n",
    "  geom_line() +\n",
    "  geom_point() +\n",
    "  labs(title = \"Evolución de algunas de las notas trimestrales a lo largo del año 2023\n",
    "    de los alumnos de Primer Grado en Matemática\",\n",
    "       x = \"Trimestre\",\n",
    "       y = \"Nota\") +\n",
    "  theme_minimal()"
   ]
  },
  {
   "cell_type": "markdown",
   "id": "ebab189d-2964-44f5-81d7-9b68e29ac7db",
   "metadata": {},
   "source": [
    "### TERCERO"
   ]
  },
  {
   "cell_type": "markdown",
   "id": "64580769-fdef-43ab-8af3-f78238fa3fc6",
   "metadata": {},
   "source": [
    "***Análisis Exploratorio***"
   ]
  },
  {
   "cell_type": "code",
   "execution_count": null,
   "id": "4caaa33a-7993-459b-9586-9254536217e4",
   "metadata": {},
   "outputs": [],
   "source": [
    "# Filtramos los datos \n",
    "datos_primer_tri <- filter(secundaria_VICTORIA, asignatura == \"MATEMATICA\",Año_Curso == \"TERCERO\")$NotasPrimerT\n",
    "datos_segundo_tri <- filter(secundaria_VICTORIA, asignatura == \"MATEMATICA\",Año_Curso == \"TERCERO\")$NotasSegundoT\n",
    "datos_tercer_tri <- filter(secundaria_VICTORIA, asignatura == \"MATEMATICA\",Año_Curso == \"TERCERO\")$NotasTercerT\n",
    "\n",
    "# Unimos los datos filtrados a un data frame\n",
    "datos_completos <- data.frame(\n",
    "  Trimestre = rep(c(\"Primer Trimestre\", \"Segundo Trimestre\", \"Tercer Trimestre\"), each = length(datos_primer_tri)),\n",
    "  Notas = c(datos_primer_tri, datos_segundo_tri, datos_tercer_tri))\n",
    "\n",
    "# Convertimos la variable Trimestre a factor\n",
    "datos_completos$Trimestre <- factor(datos_completos$Trimestre, levels = c(\"Primer Trimestre\", \"Segundo Trimestre\", \"Tercer Trimestre\"))\n",
    "\n",
    "# Gráfico de caja y bigotes con ggplot2\n",
    "ggplot(datos_completos, aes(x = Trimestre, y = Notas, fill = Trimestre)) +\n",
    "  geom_boxplot() +\n",
    "  labs(title = \"Comparación de notas por trimestre de Matemáticas en TERCERO\",\n",
    "       x = \"Trimestre\",\n",
    "       y = \"Notas\") +\n",
    "  scale_fill_manual(values = c(\"#2196f3\", \"#C23B22\", \"#8bc34a\")) +\n",
    "  theme_minimal()"
   ]
  },
  {
   "cell_type": "markdown",
   "id": "825c6db5-ed57-45cc-b273-466b834beb16",
   "metadata": {},
   "source": [
    "***Test de Friedman***"
   ]
  },
  {
   "cell_type": "code",
   "execution_count": null,
   "id": "cb31302b-206a-44ac-bac9-5605ad6d02c1",
   "metadata": {},
   "outputs": [],
   "source": [
    "# Calculamos el tamaño de los alumnos de primer grado en Matemática para utilizar posteriormente\n",
    "tamanio = length(datos_primer_tri)\n",
    "print(tamanio)\n",
    "\n",
    "# Armamos el data frame con lo datos\n",
    "notas= as.numeric(c(datos_primer_tri,datos_segundo_tri,datos_tercer_tri))\n",
    "trimestres <- as.factor(c(rep(\"Primer Trimestre\",length(datos_primer_tri)), rep(\"Segundo Trimestre\",length(datos_segundo_tri)),rep(\"Tercer Trimestre\",length(datos_tercer_tri))))\n",
    "datos <- data.frame(Alumnos=rep(1:tamanio,3), notas, trimestres)\n",
    "head(datos)\n",
    "\n",
    "#SUPUESTOS\n",
    "#Chequeamos normalidad de los residuos con shapiro (cantidad de datos < 5000)\n",
    "# Ajustar el modelo lineal\n",
    "modelo_lm <- lm(notas ~ trimestres, data = datos)\n",
    "# Obtener los residuos del modelo\n",
    "datos$residuals <- resid(modelo_lm)\n",
    "print(\"Test de Normalidad:\")\n",
    "shapiro.test(datos$residuals) #Rechazo H0 --> No los residuos no se distribuyen Normalmente\n",
    "\n",
    "#Como los residuos no se distribuyen normalmente --> TEST DE FRIEDMAN\n",
    "# Test para encontrar diferencias significativas entre los grupos\n",
    "friedman.test(notas ~ trimestres | Alumnos, data=datos)\n",
    "\n",
    "# Potencia del test\n",
    "friedman_anova <- pwr.anova.test(k = 3, n = tamanio, f = 0.25, sig.level = 0.05)$power\n",
    "print(\"Potencia del test:\")\n",
    "friedman_anova\n",
    "\n",
    "# Calculamos medias de cada grupo p/chequear\n",
    "by(data = datos$notas, INDICES = datos$trimestres, FUN = median)\n",
    "\n",
    "# Para saber entre que conjuntos de datos estan las diferencias\n",
    "pairwise.wilcox.test(datos$notas, datos$trimestres, paired = TRUE)"
   ]
  },
  {
   "cell_type": "markdown",
   "id": "55f0da9c-6b73-4aae-a960-cc131f1a94c8",
   "metadata": {},
   "source": [
    "***Grafico de coordenadas paralelas***"
   ]
  },
  {
   "cell_type": "code",
   "execution_count": null,
   "id": "762657be-6269-4b8e-ab00-8701a55fcb23",
   "metadata": {},
   "outputs": [],
   "source": [
    "# Armamos el data frame con lo datos\n",
    "notas_tercero <- data.frame(\n",
    " sujeto = 1:tamanio,\n",
    " datos_primer_tri <- filter(secundaria_VICTORIA, asignatura == \"MATEMATICA\",Año_Curso == \"TERCERO\")$NotasPrimerT,\n",
    " datos_segundo_tri <- filter(secundaria_VICTORIA, asignatura == \"MATEMATICA\",Año_Curso == \"TERCERO\")$NotasSegundoT,\n",
    " datos_tercer_tri <- filter(secundaria_VICTORIA, asignatura == \"MATEMATICA\",Año_Curso == \"TERCERO\")$NotasTercerT)\n",
    "\n",
    "# Esto sirve para armar los datos de manera larga\n",
    "datos_largo <- melt(notas_tercero, id.vars= \"sujeto\", variable.name= \"Notas\", value.name= \"Puntuacion\")\n",
    "\n",
    "# Armamos el data frame con lo datos\n",
    "notas= as.numeric(c(datos_primer_tri,datos_segundo_tri,datos_tercer_tri))\n",
    "trimestres <- as.factor(c(rep(\"Primer Trimestre\",length(datos_primer_tri)), rep(\"Segundo Trimestre\",length(datos_segundo_tri)),rep(\"Tercer Trimestre\",length(datos_tercer_tri))))\n",
    "datos <- data.frame(Alumnos=rep(1:tamanio,3), notas, trimestres)\n",
    "head(datos)\n",
    "\n",
    "# Grafico de coordenadas paralelas de los primeros 10 estudiantes (no se hacen todos porque no se entenderia el grafico con tantas lineas)\n",
    "# Primero modificamos el nombre de los datos para que a la hora de ponerlos en el grafico, se vea mas conciso cada clase\n",
    "datos_largo$Notas <- gsub(\"datos_primer_tri.*\", \"Primer Trimestre\", datos_largo$Notas)\n",
    "datos_largo$Notas <- gsub(\"datos_segundo_tri.*\", \"Segundo Trimestre\", datos_largo$Notas)\n",
    "datos_largo$Notas <- gsub(\"datos_tercer_tri.*\", \"Tercer Trimestre\", datos_largo$Notas)\n",
    "\n",
    "# Seleccionar 10 alumnos aleatorios\n",
    "set.seed(123) # Fijar una semilla para reproducibilidad\n",
    "alumnos_aleatorios <- sample(unique(datos_largo$sujeto), 10)\n",
    "# Filtrar los datos para los alumnos seleccionados aleatoriamente\n",
    "datos_grafica <- datos_largo %>%\n",
    "  filter(sujeto %in% alumnos_aleatorios)\n",
    "\n",
    "# Grafico de coordenadas paralelas de los primeros 10 alumnos con sus notas en cada trimestre\n",
    "ggplot(datos_grafica, aes(x = Notas, y = Puntuacion, group = sujeto, color = factor(sujeto))) +\n",
    "  geom_line() +\n",
    "  geom_point() +\n",
    "  labs(title = \"Evolución de algunas de las notas trimestrales a lo largo del año 2023\n",
    "    de los alumnos de Tercer Grado en Matemática\",\n",
    "       x = \"Trimestre\",\n",
    "       y = \"Nota\") +\n",
    "  theme_minimal()"
   ]
  },
  {
   "cell_type": "markdown",
   "id": "cbad142c-898a-41f7-a50c-80094aa865c2",
   "metadata": {},
   "source": [
    "### CUARTO"
   ]
  },
  {
   "cell_type": "markdown",
   "id": "82656a82-4bdd-4365-b115-bd5293c87471",
   "metadata": {},
   "source": [
    "***Análisis Exploratorio***"
   ]
  },
  {
   "cell_type": "code",
   "execution_count": null,
   "id": "6ce1f33c-15f8-4ac7-9eee-1607d3d244cc",
   "metadata": {},
   "outputs": [],
   "source": [
    "# Filtramos los datos \n",
    "datos_primer_tri <- filter(secundaria_VICTORIA, asignatura == \"MATEMATICA\",Año_Curso == \"CUARTO\")$NotasPrimerT\n",
    "datos_segundo_tri <- filter(secundaria_VICTORIA, asignatura == \"MATEMATICA\",Año_Curso == \"CUARTO\")$NotasSegundoT\n",
    "datos_tercer_tri <- filter(secundaria_VICTORIA, asignatura == \"MATEMATICA\",Año_Curso == \"CUARTO\")$NotasTercerT\n",
    "\n",
    "# Unimos los datos filtrados a un data frame\n",
    "datos_completos <- data.frame(\n",
    "  Trimestre = rep(c(\"Primer Trimestre\", \"Segundo Trimestre\", \"Tercer Trimestre\"), each = length(datos_primer_tri)),\n",
    "  Notas = c(datos_primer_tri, datos_segundo_tri, datos_tercer_tri))\n",
    "\n",
    "# Convertimos la variable Trimestre a factor\n",
    "datos_completos$Trimestre <- factor(datos_completos$Trimestre, levels = c(\"Primer Trimestre\", \"Segundo Trimestre\", \"Tercer Trimestre\"))\n",
    "\n",
    "# Gráfico de caja y bigotes con ggplot2\n",
    "ggplot(datos_completos, aes(x = Trimestre, y = Notas, fill = Trimestre)) +\n",
    "  geom_boxplot() +\n",
    "  labs(title = \"Comparación de notas por trimestre de Matemáticas en CUARTO\",\n",
    "       x = \"Trimestre\",\n",
    "       y = \"Notas\") +\n",
    "  scale_fill_manual(values = c(\"#2196f3\", \"#C23B22\", \"#8bc34a\")) +\n",
    "  theme_minimal()"
   ]
  },
  {
   "cell_type": "markdown",
   "id": "b4212132-9255-44ec-93e5-a1e4638fe368",
   "metadata": {},
   "source": [
    "***Test de Friedman***"
   ]
  },
  {
   "cell_type": "code",
   "execution_count": null,
   "id": "13113a3c-e00d-42c1-a8f0-207cda29f207",
   "metadata": {},
   "outputs": [],
   "source": [
    "# Calculamos el tamaño de los alumnos de primer grado en Matemática para utilizar posteriormente\n",
    "tamanio = length(datos_primer_tri)\n",
    "print(tamanio)\n",
    "\n",
    "# Armamos el data frame con lo datos\n",
    "notas= as.numeric(c(datos_primer_tri,datos_segundo_tri,datos_tercer_tri))\n",
    "trimestres <- as.factor(c(rep(\"Primer Trimestre\",length(datos_primer_tri)), rep(\"Segundo Trimestre\",length(datos_segundo_tri)),rep(\"Tercer Trimestre\",length(datos_tercer_tri))))\n",
    "datos <- data.frame(Alumnos=rep(1:tamanio,3), notas, trimestres)\n",
    "head(datos)\n",
    "\n",
    "#SUPUESTOS\n",
    "#Chequeamos normalidad de los residuos con shapiro (cantidad de datos < 5000)\n",
    "# Ajustar el modelo lineal\n",
    "modelo_lm <- lm(notas ~ trimestres, data = datos)\n",
    "# Obtener los residuos del modelo\n",
    "datos$residuals <- resid(modelo_lm)\n",
    "print(\"Test de Normalidad:\")\n",
    "shapiro.test(datos$residuals) #Rechazo H0 --> No los residuos no se distribuyen Normalmente\n",
    "\n",
    "#Como los residuos no se distribuyen normalmente --> TEST DE FRIEDMAN\n",
    "# Test para encontrar diferencias significativas entre los grupos\n",
    "friedman.test(notas ~ trimestres | Alumnos, data=datos)\n",
    "\n",
    "# Potencia del test\n",
    "friedman_anova <- pwr.anova.test(k = 3, n = tamanio, f = 0.25, sig.level = 0.05)$power\n",
    "print(\"Potencia del test:\")\n",
    "friedman_anova\n",
    "\n",
    "# Calculamos medias de cada grupo p/chequear\n",
    "by(data = datos$notas, INDICES = datos$trimestres, FUN = median)\n",
    "\n",
    "# Para saber entre que conjuntos de datos estan las diferencias\n",
    "pairwise.wilcox.test(datos$notas, datos$trimestres, paired = TRUE)"
   ]
  },
  {
   "cell_type": "markdown",
   "id": "a36cc236-acf6-4a13-a41a-d3a7dbe086f3",
   "metadata": {},
   "source": [
    "***Grafico de coordenadas paralelas***"
   ]
  },
  {
   "cell_type": "code",
   "execution_count": null,
   "id": "2ad8b7e5-83ff-4e27-9ca8-c19241370160",
   "metadata": {},
   "outputs": [],
   "source": [
    "# Armamos el data frame con lo datos\n",
    "notas_cuarto <- data.frame(\n",
    " sujeto = 1:tamanio,\n",
    " datos_primer_tri <- filter(secundaria_VICTORIA, asignatura == \"MATEMATICA\",Año_Curso == \"CUARTO\")$NotasPrimerT,\n",
    " datos_segundo_tri <- filter(secundaria_VICTORIA, asignatura == \"MATEMATICA\",Año_Curso == \"CUARTO\")$NotasSegundoT,\n",
    " datos_tercer_tri <- filter(secundaria_VICTORIA, asignatura == \"MATEMATICA\",Año_Curso == \"CUARTO\")$NotasTercerT)\n",
    "\n",
    "# Esto sirve para armar los datos de manera larga\n",
    "datos_largo <- melt(notas_cuarto, id.vars= \"sujeto\", variable.name= \"Notas\", value.name= \"Puntuacion\")\n",
    "\n",
    "\n",
    "\n",
    "# Armamos el data frame con lo datos\n",
    "notas= as.numeric(c(datos_primer_tri,datos_segundo_tri,datos_tercer_tri))\n",
    "trimestres <- as.factor(c(rep(\"Primer Trimestre\",length(datos_primer_tri)), rep(\"Segundo Trimestre\",length(datos_segundo_tri)),rep(\"Tercer Trimestre\",length(datos_tercer_tri))))\n",
    "datos <- data.frame(Alumnos=rep(1:tamanio,3), notas, trimestres)\n",
    "head(datos)\n",
    "\n",
    "# Grafico de coordenadas paralelas de los primeros 10 estudiantes (no se hacen todos porque no se entenderia el grafico con tantas lineas)\n",
    "# Primero modificamos el nombre de los datos para que a la hora de ponerlos en el grafico, se vea mas conciso cada clase\n",
    "datos_largo$Notas <- gsub(\"datos_primer_tri.*\", \"Primer Trimestre\", datos_largo$Notas)\n",
    "datos_largo$Notas <- gsub(\"datos_segundo_tri.*\", \"Segundo Trimestre\", datos_largo$Notas)\n",
    "datos_largo$Notas <- gsub(\"datos_tercer_tri.*\", \"Tercer Trimestre\", datos_largo$Notas)\n",
    "\n",
    "# Seleccionar 10 alumnos aleatorios\n",
    "set.seed(123) # Fijar una semilla para reproducibilidad\n",
    "alumnos_aleatorios <- sample(unique(datos_largo$sujeto), 10)\n",
    "# Filtrar los datos para los alumnos seleccionados aleatoriamente\n",
    "datos_grafica <- datos_largo %>%\n",
    "  filter(sujeto %in% alumnos_aleatorios)\n",
    "\n",
    "# Grafico de coordenadas paralelas de los primeros 10 alumnos con sus notas en cada trimestre\n",
    "ggplot(datos_grafica, aes(x = Notas, y = Puntuacion, group = sujeto, color = factor(sujeto))) +\n",
    "  geom_line() +\n",
    "  geom_point() +\n",
    "  labs(title = \"Evolución de algunas de las notas trimestrales a lo largo del año 2023\n",
    "    de los alumnos de Primer cuarto en Matemática\",\n",
    "       x = \"Trimestre\",\n",
    "       y = \"Nota\") +\n",
    "  theme_minimal()"
   ]
  },
  {
   "cell_type": "markdown",
   "id": "5da90f10-09e8-403a-afce-16f78569ebed",
   "metadata": {},
   "source": [
    "### QUINTO"
   ]
  },
  {
   "cell_type": "markdown",
   "id": "4110fa0b-3c7a-4687-9dd4-0be4c29ffcc7",
   "metadata": {},
   "source": [
    "***Análisis Exploratorio***"
   ]
  },
  {
   "cell_type": "code",
   "execution_count": null,
   "id": "c57cf961-1ace-4f61-98be-976ee3a7a371",
   "metadata": {},
   "outputs": [],
   "source": [
    "# Filtramos los datos \n",
    "datos_primer_tri <- filter(secundaria_VICTORIA, asignatura == \"MATEMATICA\",Año_Curso == \"QUINTO\")$NotasPrimerT\n",
    "datos_segundo_tri <- filter(secundaria_VICTORIA, asignatura == \"MATEMATICA\",Año_Curso == \"QUINTO\")$NotasSegundoT\n",
    "datos_tercer_tri <- filter(secundaria_VICTORIA, asignatura == \"MATEMATICA\",Año_Curso == \"QUINTO\")$NotasTercerT\n",
    "\n",
    "# Unimos los datos filtrados a un data frame\n",
    "datos_completos <- data.frame(\n",
    "  Trimestre = rep(c(\"Primer Trimestre\", \"Segundo Trimestre\", \"Tercer Trimestre\"), each = length(datos_primer_tri)),\n",
    "  Notas = c(datos_primer_tri, datos_segundo_tri, datos_tercer_tri))\n",
    "\n",
    "# Convertimos la variable Trimestre a factor\n",
    "datos_completos$Trimestre <- factor(datos_completos$Trimestre, levels = c(\"Primer Trimestre\", \"Segundo Trimestre\", \"Tercer Trimestre\"))\n",
    "\n",
    "# Gráfico de caja y bigotes con ggplot2\n",
    "ggplot(datos_completos, aes(x = Trimestre, y = Notas, fill = Trimestre)) +\n",
    "  geom_boxplot() +\n",
    "  labs(title = \"Comparación de notas por trimestre de Matemáticas en QUINTO\",\n",
    "       x = \"Trimestre\",\n",
    "       y = \"Notas\") +\n",
    "  scale_fill_manual(values = c(\"#2196f3\", \"#C23B22\", \"#8bc34a\")) +\n",
    "  theme_minimal()"
   ]
  },
  {
   "cell_type": "markdown",
   "id": "c10da546-dc07-4d7b-a230-61dd945abe0a",
   "metadata": {},
   "source": [
    "***Test de Friedman***"
   ]
  },
  {
   "cell_type": "code",
   "execution_count": null,
   "id": "61db8ece-7cb5-4c5a-ba0c-53680cc7c6b3",
   "metadata": {},
   "outputs": [],
   "source": [
    "# Calculamos el tamaño de los alumnos de primer grado en Matemática para utilizar posteriormente\n",
    "tamanio = length(datos_primer_tri)\n",
    "print(tamanio)\n",
    "\n",
    "# Armamos el data frame con lo datos\n",
    "notas= as.numeric(c(datos_primer_tri,datos_segundo_tri,datos_tercer_tri))\n",
    "trimestres <- as.factor(c(rep(\"Primer Trimestre\",length(datos_primer_tri)), rep(\"Segundo Trimestre\",length(datos_segundo_tri)),rep(\"Tercer Trimestre\",length(datos_tercer_tri))))\n",
    "datos <- data.frame(Alumnos=rep(1:tamanio,3), notas, trimestres)\n",
    "head(datos)\n",
    "\n",
    "#SUPUESTOS\n",
    "#Chequeamos normalidad de los residuos con shapiro (cantidad de datos < 5000)\n",
    "# Ajustar el modelo lineal\n",
    "modelo_lm <- lm(notas ~ trimestres, data = datos)\n",
    "# Obtener los residuos del modelo\n",
    "datos$residuals <- resid(modelo_lm)\n",
    "print(\"Test de Normalidad:\")\n",
    "shapiro.test(datos$residuals) #Rechazo H0 --> No los residuos no se distribuyen Normalmente\n",
    "\n",
    "#Como los residuos no se distribuyen normalmente --> TEST DE FRIEDMAN\n",
    "# Test para encontrar diferencias significativas entre los grupos\n",
    "friedman.test(notas ~ trimestres | Alumnos, data=datos)\n",
    "\n",
    "# Potencia del test\n",
    "friedman_anova <- pwr.anova.test(k = 3, n = tamanio, f = 0.25, sig.level = 0.05)$power\n",
    "print(\"Potencia del test:\")\n",
    "friedman_anova\n",
    "\n",
    "# Calculamos medias de cada grupo p/chequear\n",
    "by(data = datos$notas, INDICES = datos$trimestres, FUN = median)\n",
    "\n",
    "# Para saber entre que conjuntos de datos estan las diferencias\n",
    "pairwise.wilcox.test(datos$notas, datos$trimestres, paired = TRUE)"
   ]
  },
  {
   "cell_type": "markdown",
   "id": "a5e1ac64-69d6-4b8c-8359-c4e9a0ef0731",
   "metadata": {},
   "source": [
    "***Grafico de coordenadas paralelas***"
   ]
  },
  {
   "cell_type": "code",
   "execution_count": null,
   "id": "48957a9a-5b9b-4608-8579-6db6f2f035b9",
   "metadata": {},
   "outputs": [],
   "source": [
    "# Armamos el data frame con lo datos\n",
    "notas_quinto <- data.frame(\n",
    " sujeto = 1:tamanio,\n",
    " datos_primer_tri <- filter(secundaria_VICTORIA, asignatura == \"MATEMATICA\",Año_Curso == \"QUINTO\")$NotasPrimerT,\n",
    " datos_segundo_tri <- filter(secundaria_VICTORIA, asignatura == \"MATEMATICA\",Año_Curso == \"QUINTO\")$NotasSegundoT,\n",
    " datos_tercer_tri <- filter(secundaria_VICTORIA, asignatura == \"MATEMATICA\",Año_Curso == \"QUINTO\")$NotasTercerT)\n",
    "\n",
    "# Esto sirve para armar los datos de manera larga\n",
    "datos_largo <- melt(notas_quinto, id.vars= \"sujeto\", variable.name= \"Notas\", value.name= \"Puntuacion\")\n",
    "\n",
    "# Armamos el data frame con lo datos\n",
    "notas= as.numeric(c(datos_primer_tri,datos_segundo_tri,datos_tercer_tri))\n",
    "trimestres <- as.factor(c(rep(\"Primer Trimestre\",length(datos_primer_tri)), rep(\"Segundo Trimestre\",length(datos_segundo_tri)),rep(\"Tercer Trimestre\",length(datos_tercer_tri))))\n",
    "datos <- data.frame(Alumnos=rep(1:tamanio,3), notas, trimestres)\n",
    "head(datos)\n",
    "\n",
    "# Grafico de coordenadas paralelas de los primeros 10 estudiantes (no se hacen todos porque no se entenderia el grafico con tantas lineas)\n",
    "# Primero modificamos el nombre de los datos para que a la hora de ponerlos en el grafico, se vea mas conciso cada clase\n",
    "datos_largo$Notas <- gsub(\"datos_primer_tri.*\", \"Primer Trimestre\", datos_largo$Notas)\n",
    "datos_largo$Notas <- gsub(\"datos_segundo_tri.*\", \"Segundo Trimestre\", datos_largo$Notas)\n",
    "datos_largo$Notas <- gsub(\"datos_tercer_tri.*\", \"Tercer Trimestre\", datos_largo$Notas)\n",
    "\n",
    "# Seleccionar 10 alumnos aleatorios\n",
    "set.seed(123) # Fijar una semilla para reproducibilidad\n",
    "alumnos_aleatorios <- sample(unique(datos_largo$sujeto), 10)\n",
    "# Filtrar los datos para los alumnos seleccionados aleatoriamente\n",
    "datos_grafica <- datos_largo %>%\n",
    "  filter(sujeto %in% alumnos_aleatorios)\n",
    "\n",
    "# Grafico de coordenadas paralelas de los primeros 10 alumnos con sus notas en cada trimestre\n",
    "ggplot(datos_grafica, aes(x = Notas, y = Puntuacion, group = sujeto, color = factor(sujeto))) +\n",
    "  geom_line() +\n",
    "  geom_point() +\n",
    "  labs(title = \"Evolución de algunas de las notas trimestrales a lo largo del año 2023\n",
    "    de los alumnos de quinto Grado en Matemática\",\n",
    "       x = \"Trimestre\",\n",
    "       y = \"Nota\") +\n",
    "  theme_minimal()"
   ]
  },
  {
   "cell_type": "markdown",
   "id": "95f0686f-0874-4fad-82ed-722be64a9380",
   "metadata": {},
   "source": [
    "### SEXTO"
   ]
  },
  {
   "cell_type": "markdown",
   "id": "31717815-fd51-4362-a46d-e0ed95a17d1e",
   "metadata": {},
   "source": [
    "***Análisis Exploratorio***"
   ]
  },
  {
   "cell_type": "code",
   "execution_count": null,
   "id": "a92656bf-b614-450d-a4c1-5b41d24351b4",
   "metadata": {},
   "outputs": [],
   "source": [
    "# Filtramos los datos \n",
    "datos_primer_tri <- filter(secundaria_VICTORIA, asignatura == \"MATEMATICA\",Año_Curso == \"SEXTO\")$NotasPrimerT\n",
    "datos_segundo_tri <- filter(secundaria_VICTORIA, asignatura == \"MATEMATICA\",Año_Curso == \"SEXTO\")$NotasSegundoT\n",
    "datos_tercer_tri <- filter(secundaria_VICTORIA, asignatura == \"MATEMATICA\",Año_Curso == \"SEXTO\")$NotasTercerT\n",
    "\n",
    "# Unimos los datos filtrados a un data frame\n",
    "datos_completos <- data.frame(\n",
    "  Trimestre = rep(c(\"Primer Trimestre\", \"Segundo Trimestre\", \"Tercer Trimestre\"), each = length(datos_primer_tri)),\n",
    "  Notas = c(datos_primer_tri, datos_segundo_tri, datos_tercer_tri))\n",
    "\n",
    "# Convertimos la variable Trimestre a factor\n",
    "datos_completos$Trimestre <- factor(datos_completos$Trimestre, levels = c(\"Primer Trimestre\", \"Segundo Trimestre\", \"Tercer Trimestre\"))\n",
    "\n",
    "# Gráfico de caja y bigotes con ggplot2\n",
    "ggplot(datos_completos, aes(x = Trimestre, y = Notas, fill = Trimestre)) +\n",
    "  geom_boxplot() +\n",
    "  labs(title = \"Comparación de notas por trimestre de Matemáticas en SEXTO\",\n",
    "       x = \"Trimestre\",\n",
    "       y = \"Notas\") +\n",
    "  scale_fill_manual(values = c(\"#2196f3\", \"#C23B22\", \"#8bc34a\")) +\n",
    "  theme_minimal()"
   ]
  },
  {
   "cell_type": "markdown",
   "id": "58427971-73ab-4812-a686-580bb09c1b81",
   "metadata": {},
   "source": [
    "***Test de Friedman***"
   ]
  },
  {
   "cell_type": "code",
   "execution_count": null,
   "id": "5957916a-0932-4a19-980a-e45d53b6b6ab",
   "metadata": {
    "scrolled": true
   },
   "outputs": [],
   "source": [
    "# Calculamos el tamaño de los alumnos de primer grado en Matemática para utilizar posteriormente\n",
    "tamanio = length(datos_primer_tri)\n",
    "print(tamanio)\n",
    "\n",
    "# Armamos el data frame con lo datos\n",
    "notas= as.numeric(c(datos_primer_tri,datos_segundo_tri,datos_tercer_tri))\n",
    "trimestres <- as.factor(c(rep(\"Primer Trimestre\",length(datos_primer_tri)), rep(\"Segundo Trimestre\",length(datos_segundo_tri)),rep(\"Tercer Trimestre\",length(datos_tercer_tri))))\n",
    "datos <- data.frame(Alumnos=rep(1:tamanio,3), notas, trimestres)\n",
    "head(datos)\n",
    "\n",
    "#SUPUESTOS\n",
    "#Chequeamos normalidad de los residuos con shapiro (cantidad de datos < 5000)\n",
    "# Ajustar el modelo lineal\n",
    "modelo_lm <- lm(notas ~ trimestres, data = datos)\n",
    "# Obtener los residuos del modelo\n",
    "datos$residuals <- resid(modelo_lm)\n",
    "print(\"Test de Normalidad:\")\n",
    "shapiro.test(datos$residuals) #Rechazo H0 --> No los residuos no se distribuyen Normalmente\n",
    "\n",
    "#Como los residuos no se distribuyen normalmente --> TEST DE FRIEDMAN\n",
    "# Test para encontrar diferencias significativas entre los grupos\n",
    "friedman.test(notas ~ trimestres | Alumnos, data=datos)\n",
    "\n",
    "# Potencia del test\n",
    "friedman_anova <- pwr.anova.test(k = 3, n = tamanio, f = 0.25, sig.level = 0.05)$power\n",
    "print(\"Potencia del test:\")\n",
    "friedman_anova\n",
    "\n",
    "# Calculamos medias de cada grupo p/chequear\n",
    "by(data = datos$notas, INDICES = datos$trimestres, FUN = median)\n",
    "\n",
    "# Para saber entre que conjuntos de datos estan las diferencias\n",
    "pairwise.wilcox.test(datos$notas, datos$trimestres, paired = TRUE)"
   ]
  },
  {
   "cell_type": "markdown",
   "id": "8853392a-e69e-4dbc-b6d3-2f44cac6464f",
   "metadata": {},
   "source": [
    "***Grafico de coordenadas paralelas***"
   ]
  },
  {
   "cell_type": "code",
   "execution_count": null,
   "id": "4c84a571-04c7-4a64-ac37-eff4bc2ac711",
   "metadata": {},
   "outputs": [],
   "source": [
    "# Armamos el data frame con lo datos\n",
    "notas_sexto <- data.frame(\n",
    " sujeto = 1:tamanio,\n",
    " datos_primer_tri <- filter(secundaria_VICTORIA, asignatura == \"MATEMATICA\",Año_Curso == \"SEXTO\")$NotasPrimerT,\n",
    " datos_segundo_tri <- filter(secundaria_VICTORIA, asignatura == \"MATEMATICA\",Año_Curso == \"SEXTO\")$NotasSegundoT,\n",
    " datos_tercer_tri <- filter(secundaria_VICTORIA, asignatura == \"MATEMATICA\",Año_Curso == \"SEXTO\")$NotasTercerT)\n",
    "\n",
    "# Esto sirve para armar los datos de manera larga\n",
    "datos_largo <- melt(notas_sexto, id.vars= \"sujeto\", variable.name= \"Notas\", value.name= \"Puntuacion\")\n",
    "\n",
    "# Armamos el data frame con lo datos\n",
    "notas= as.numeric(c(datos_primer_tri,datos_segundo_tri,datos_tercer_tri))\n",
    "trimestres <- as.factor(c(rep(\"Primer Trimestre\",length(datos_primer_tri)), rep(\"Segundo Trimestre\",length(datos_segundo_tri)),rep(\"Tercer Trimestre\",length(datos_tercer_tri))))\n",
    "datos <- data.frame(Alumnos=rep(1:tamanio,3), notas, trimestres)\n",
    "head(datos)\n",
    "\n",
    "# Grafico de coordenadas paralelas de los primeros 10 estudiantes (no se hacen todos porque no se entenderia el grafico con tantas lineas)\n",
    "# Primero modificamos el nombre de los datos para que a la hora de ponerlos en el grafico, se vea mas conciso cada clase\n",
    "datos_largo$Notas <- gsub(\"datos_primer_tri.*\", \"Primer Trimestre\", datos_largo$Notas)\n",
    "datos_largo$Notas <- gsub(\"datos_segundo_tri.*\", \"Segundo Trimestre\", datos_largo$Notas)\n",
    "datos_largo$Notas <- gsub(\"datos_tercer_tri.*\", \"Tercer Trimestre\", datos_largo$Notas)\n",
    "\n",
    "# Seleccionar 10 alumnos aleatorios\n",
    "set.seed(123) # Fijar una semilla para reproducibilidad\n",
    "alumnos_aleatorios <- sample(unique(datos_largo$sujeto), 10)\n",
    "# Filtrar los datos para los alumnos seleccionados aleatoriamente\n",
    "datos_grafica <- datos_largo %>%\n",
    "  filter(sujeto %in% alumnos_aleatorios)\n",
    "\n",
    "# Grafico de coordenadas paralelas de los primeros 10 alumnos con sus notas en cada trimestre\n",
    "ggplot(datos_grafica, aes(x = Notas, y = Puntuacion, group = sujeto, color = factor(sujeto))) +\n",
    "  geom_line() +\n",
    "  geom_point() +\n",
    "  labs(title = \"Evolución de algunas de las notas trimestrales a lo largo del año 2023\n",
    "    de los alumnos de sexto Grado en Matemática\",\n",
    "       x = \"Trimestre\",\n",
    "       y = \"Nota\") +\n",
    "  theme_minimal()"
   ]
  },
  {
   "cell_type": "markdown",
   "id": "c0176887-e1f9-4474-952b-b8be4e192cdb",
   "metadata": {},
   "source": [
    "--------------------------"
   ]
  },
  {
   "cell_type": "markdown",
   "id": "58ee4fd3-3624-4f45-84c0-51200e1e42b4",
   "metadata": {},
   "source": [
    "# Guia 8 - Análisis Bivariado Cualitativo"
   ]
  },
  {
   "cell_type": "markdown",
   "id": "1b190d4f-f951-4f34-9b07-c41d87401c0f",
   "metadata": {},
   "source": [
    "## Verificamos si el tipo de gestion(publico/privado) influye en la condicion del alumno (aprobado/rinde)"
   ]
  },
  {
   "cell_type": "markdown",
   "id": "de0cd4be-7ac6-4418-985b-b4bc5604a4f8",
   "metadata": {},
   "source": [
    "***El analisis lo hacemos a nivel general, no hurgamos año por año***"
   ]
  },
  {
   "cell_type": "code",
   "execution_count": null,
   "id": "62e39734-7ad0-4256-bc6b-8653b1f46e6e",
   "metadata": {},
   "outputs": [],
   "source": [
    "#Para simplificar modificamos la variable 'EsPrivada' por 'Gestion' que contiene el tipo de gestion \n",
    "secundaria_VICTORIA <- rename(secundaria_VICTORIA, c(\n",
    "                               \"Gestión\"= \"EsPrivada\"))\n",
    "\n",
    "secundaria_VICTORIA <- secundaria_VICTORIA %>%\n",
    "    mutate(Gestión = case_when(\n",
    "    Gestión == \"N\" ~ \"Pública\",\n",
    "    Gestión == \"S\" ~ \"Privada\"\n",
    "))\n",
    "#Guardamos los cambios realizamos \n",
    "write_xlsx(secundaria_VICTORIA, \"VICTORIA_SECUNDARIA_LIMPIA.xlsx\")"
   ]
  },
  {
   "cell_type": "code",
   "execution_count": null,
   "id": "6b498157-5951-4f91-ab5c-d4ebb4ff6c5c",
   "metadata": {},
   "outputs": [],
   "source": [
    "names(secundaria_VICTORIA)\n",
    "unique(secundaria_VICTORIA$Gestión)\n",
    "unique(secundaria_VICTORIA$Condición)"
   ]
  },
  {
   "cell_type": "code",
   "execution_count": null,
   "id": "4e6677fd-0b5d-47ea-af29-356824c8411e",
   "metadata": {},
   "outputs": [],
   "source": [
    "colnames(secundaria_VICTORIA)"
   ]
  },
  {
   "cell_type": "code",
   "execution_count": null,
   "id": "6fcf7cf5",
   "metadata": {},
   "outputs": [],
   "source": [
    "# Armamos una tabla con los tipos de gestiones de las escuelas y la condicion final \n",
    "#logrados por los estudiantes en las materias\n",
    "\n",
    "condicion_gestion <- secundaria_VICTORIA %>%\n",
    "    dplyr::select(Gestión, Condición) %>%\n",
    "    table()\n",
    "\n",
    "print(condicion_gestion)\n",
    "\n",
    "# Reordenamos la tabla\n",
    "condicion_gestion1 <- rbind(condicion_gestion[2,], condicion_gestion[1,])\n",
    "condicion_gestion1 <- cbind(condicion_gestion1[,1], condicion_gestion1[,2])\n",
    "colnames(condicion_gestion1) <- c(\"Aprobado\", \"Rinde\")\n",
    "rownames(condicion_gestion1) <- c(\"Pública\", \"Privada\")\n",
    "\n",
    "print(\"Tabla con marginales fila y columna\")\n",
    "condicion_gestion2 <- cbind(condicion_gestion1, \"Total\"= margin.table(condicion_gestion1,1))\n",
    "condicion_gestion2 <- rbind(condicion_gestion2, \"Total\"=margin.table(condicion_gestion2,2))\n",
    "condicion_gestion2\n",
    "\n",
    "print(\"Tabla contingencia ~ Porcentaje Total\")\n",
    "tabla_cont_total <- prop.table(condicion_gestion1)*100\n",
    "tabla_cont_total <- cbind(tabla_cont_total, \"Total\"=margin.table(tabla_cont_total,1))\n",
    "tabla_cont_total <- rbind(tabla_cont_total, \"Total\"=margin.table(tabla_cont_total,2))\n",
    "round(tabla_cont_total,1)\n",
    "\n",
    "print(\"Tabla contingencia ~ Porcentaje Fila\")\n",
    "tabla_cont_filas <- prop.table(rbind(condicion_gestion1, \"Total\"=margin.table(condicion_gestion1, 2)),1)*100\n",
    "tabla_cont_filas <- cbind(tabla_cont_filas, \"Total\"=margin.table(tabla_cont_filas,1))\n",
    "round(tabla_cont_filas,1)\n",
    "\n",
    "print(\"Tabla contingencia ~ Porcentaje Columna\")\n",
    "tabla_cont_col <- prop.table(cbind(condicion_gestion1, \"Total\"=margin.table(condicion_gestion1, 1)),2)*100\n",
    "tabla_cont_col <- rbind(tabla_cont_col, \"Total\"=margin.table(tabla_cont_col,2))\n",
    "round(tabla_cont_col,1)"
   ]
  },
  {
   "cell_type": "code",
   "execution_count": null,
   "id": "ab5ff282",
   "metadata": {},
   "outputs": [],
   "source": [
    "# Organizamos los datos para hacer un grafico de barras adosadas\n",
    "tabla_variable_fila <- round(prop.table(table(secundaria_VICTORIA$Gestión, secundaria_VICTORIA$Condición), 1)*100,1)\n",
    "tabla_variable_fila <- t(tabla_variable_fila)\n",
    "grafico <- barplot(tabla_variable_fila,\n",
    "                  main= \" Grafico de Contigencia por fila\",\n",
    "                  beside= TRUE,\n",
    "                  space= c(0.1, 2.5),\n",
    "                  ylim= c(0, 100),\n",
    "                  cex.axis= 1.2,\n",
    "                  cex.names= 1.2,\n",
    "                  cex.main= 1.5,\n",
    "                  col= c(\"green\", \"red\"),\n",
    "                  xlab = \"Gestión\",\n",
    "                  cex.lab = 1.5,\n",
    "                  ylab= \"Porcentaje\",\n",
    "                  col.lab= \"black\")\n",
    "\n",
    "legend(x = 4.5, y = 100, rownames(tabla_variable_fila),\n",
    "       title = \"Condición\",\n",
    "       title.adj = 0.5,     \n",
    "       title.col = \"black\",      \n",
    "       lty = c(1),\n",
    "       col= c(\"green\", \"red\"),\n",
    "       lwd = 2,\n",
    "       cex = 1.2) "
   ]
  },
  {
   "cell_type": "code",
   "execution_count": null,
   "id": "99a9207e",
   "metadata": {},
   "outputs": [],
   "source": [
    "# Al parecer según el tipo de gestión de la escuela \"causa\" la cantidad de materias que los estudiantes\n",
    "#aprueban o les quedan pendientes\n",
    "# Para saber si realmente existe una relación entre las variables aplicaremos el test de chi cuadrado\n",
    "# H0 ---> No hay relación entre las variables\n",
    "# H1 ---> Si hay relación entre las variables\n",
    "chi <-chisq.test(secundaria_VICTORIA$Gestión, secundaria_VICTORIA$Condición)\n",
    "chi\n",
    "# Vemos la fuerza de asociación\n",
    "CramerV(secundaria_VICTORIA$Gestión, secundaria_VICTORIA$Condición)\n",
    "#Obtengo --> 0.120606012963042"
   ]
  },
  {
   "cell_type": "code",
   "execution_count": null,
   "id": "486034fd",
   "metadata": {},
   "outputs": [],
   "source": [
    "# Frecuencias observadas\n",
    "chi$observed\n",
    "\n",
    "# Frecuencias esperadas si las variables fueran independientes\n",
    "round(chi$expected,0)\n",
    "\n",
    "# Residuos estandarizados\n",
    "round(chi$residuals,1)\n",
    "\n",
    "# Residuos ajustados\n",
    "round(chi$stdres,1)"
   ]
  },
  {
   "cell_type": "markdown",
   "id": "c828da84-d31b-4ab2-9c56-f4111467dd2c",
   "metadata": {},
   "source": [
    "## Comparacion del desempeño final en asignaturas troncales"
   ]
  },
  {
   "cell_type": "code",
   "execution_count": null,
   "id": "1d68590a-dfe9-43a2-9ab7-c9046a586aea",
   "metadata": {},
   "outputs": [],
   "source": [
    "# Creamos la variable desempeño segun el promedio conseguido\n",
    "secundaria_VICTORIA <- secundaria_VICTORIA %>%\n",
    "    mutate(Desempeño = case_when(\n",
    "    Promedio < 4 ~ \"Insuficiente\",\n",
    "    Promedio >= 4 & Promedio < 6 ~ \"Regular\",\n",
    "    Promedio >= 6 & Promedio < 7 ~ \"Aprobado\",\n",
    "    Promedio >= 7 & Promedio < 8 ~ \"Bueno\",\n",
    "    Promedio >= 8 & Promedio < 9 ~ \"MuyBueno\",\n",
    "    Promedio >= 9 & Promedio <= 10 ~ \"Distinguido\"))\n",
    "\n",
    "#Guardamos los cambios realizamos \n",
    "write_xlsx(secundaria_VICTORIA, \"VICTORIA_SECUNDARIA_LIMPIA.xlsx\")"
   ]
  },
  {
   "cell_type": "code",
   "execution_count": null,
   "id": "8086fde2-3040-4f62-8309-ab86f897db1e",
   "metadata": {},
   "outputs": [],
   "source": [
    "#Aprovechamos para agregar un nuevo grafico de torta para representar estos datos:\n",
    "# Calcular las frecuencias de cada categoría de desempeño\n",
    "desempeno_frecuencias <- table(secundaria_VICTORIA$`Desempeño`)\n",
    "\n",
    "# Calcular los porcentajes de cada categoría\n",
    "desempeno_porcentajes <- round(100 * desempeno_frecuencias / sum(desempeno_frecuencias), 1)\n",
    "\n",
    "# Crear etiquetas para el gráfico de torta\n",
    "titulos <- paste(names(desempeno_porcentajes), '\\n', desempeno_porcentajes, '%')\n",
    "\n",
    "# Definir colores para cada categoría\n",
    "colors <- c(\"#ffeb3b\",\"#ff6e40\",\"#4caf50\",\"#009688\",\"#bb3af2\",\"#C23B22\")\n",
    "\n",
    "# Crear el gráfico de torta\n",
    "pie(desempeno_frecuencias, labels = titulos,\n",
    "    col = colors,\n",
    "    radius = .75,\n",
    "    main = \"Distribución Porcentual del Desempeño logrado por Estudiantes\\n secundarios en el departameto Victoria, Entre Rios.\",\n",
    "    col.main = \"black\",\n",
    "    sub = \"Fuente de elaboración propia (Gráfico N°6)\",\n",
    "    col.sub = \"black\",\n",
    "    density = 500, angle = seq(0, 180, 30),\n",
    "    border = 'black')"
   ]
  },
  {
   "cell_type": "code",
   "execution_count": null,
   "id": "f4096ba6-d958-4c97-86bd-eedc089b56ef",
   "metadata": {},
   "outputs": [],
   "source": [
    "names(secundaria_VICTORIA)"
   ]
  },
  {
   "cell_type": "code",
   "execution_count": null,
   "id": "d3bdb009-0b0c-4522-89fd-5acdaaabc195",
   "metadata": {},
   "outputs": [],
   "source": [
    "table(secundaria_VICTORIA$`Desempeño`,useNA = \"always\")\n",
    "#Eliminamos los 95 datos NA\n",
    "secundaria_VICTORIA <- secundaria_VICTORIA[complete.cases(secundaria_VICTORIA$Desempeño), ]"
   ]
  },
  {
   "cell_type": "code",
   "execution_count": null,
   "id": "c9057807-3b08-401d-996e-1bd862329aa3",
   "metadata": {},
   "outputs": [],
   "source": [
    "#Encontramos las fa de las asignaturas\n",
    "frecuencias_absolutas <- table(secundaria_VICTORIA$asignatura)\n",
    "# Ordenar la tabla de frecuencias en orden descendente\n",
    "frecuencias_ordenadas <- sort(frecuencias_absolutas, decreasing = TRUE)\n",
    "# Mostrar las primeras categorías con mayor frecuencia\n",
    "print(frecuencias_ordenadas[1:8]) \n",
    "#Tomamos esas asignaturas como \"TRONCALES\""
   ]
  },
  {
   "cell_type": "markdown",
   "id": "e3ce11ca-3946-46c3-b957-6c8a5d1ff476",
   "metadata": {},
   "source": [
    "### PRIMERO"
   ]
  },
  {
   "cell_type": "code",
   "execution_count": null,
   "id": "df7b8fdb",
   "metadata": {
    "scrolled": true
   },
   "outputs": [],
   "source": [
    "# Armamos una tabla con las materias troncales y el desempeño logrado por los estudiantes\n",
    "aux <- filter(secundaria_VICTORIA, (Año_Curso == \"PRIMERO\" & (asignatura == \"MATEMATICA\" | asignatura == \"ETICA\" |asignatura == \"LENGUA Y LITERATURA\" |asignatura == \"GEOGRAFIA\" |asignatura == \"EDUCACION FISICA\" |asignatura == \"HISTORIA\" |asignatura == \"INGLES\" |asignatura == \"BIOLOGIA\" )))\n",
    "materias_desempeño <- aux %>%\n",
    "    dplyr::select('asignatura', 'Desempeño') %>%\n",
    "    table()\n",
    "\n",
    "# Reordenamos la tabla\n",
    "materias_desempeño1 <- cbind(materias_desempeño[,5], materias_desempeño[,1], materias_desempeño[,2], materias_desempeño[,4], materias_desempeño[,3])\n",
    "colnames(materias_desempeño1) <- c(\"Regular\", \"Aprobado\", \"Bueno\",\"MuyBueno\",\"Distinguido\")\n",
    "rownames(materias_desempeño1) <- c(\"MATEMATICA\", \"ETICA\", \"LENGUA Y LITERATURA\",\"GEOGRAFIA\", \"EDUCACION FISICA\", \"HISTORIA\", \"INGLES\", \"BIOLOGIA\")\n",
    "materias_desempeño1\n",
    "\n",
    "print(\"Tabla con marginales fila y columna\")\n",
    "materias_desempeño2 <- cbind(materias_desempeño1, \"Total\"= margin.table(materias_desempeño1,1))\n",
    "materias_desempeño2 <- rbind(materias_desempeño2, \"Total\"=margin.table(materias_desempeño2,2))\n",
    "materias_desempeño2\n",
    "\n",
    "print(\"Tabla contingencia ~ Porcentaje Total\")\n",
    "tabla_cont_total <- prop.table(materias_desempeño1)*100\n",
    "tabla_cont_total <- cbind(tabla_cont_total, \"Total\"=margin.table(tabla_cont_total,1))\n",
    "tabla_cont_total <- rbind(tabla_cont_total, \"Total\"=margin.table(tabla_cont_total,2))\n",
    "round(tabla_cont_total,1)\n",
    "\n",
    "print(\"Tabla contingencia ~ Porcentaje Fila\")\n",
    "tabla_cont_filas <- prop.table(rbind(materias_desempeño1, \"Total\"=margin.table(materias_desempeño1, 2)),1)*100\n",
    "tabla_cont_filas <- cbind(tabla_cont_filas, \"Total\"=margin.table(tabla_cont_filas,1))\n",
    "round(tabla_cont_filas,1)\n",
    "\n",
    "print(\"Tabla contingencia ~ Porcentaje Columna\")\n",
    "tabla_cont_col <- prop.table(cbind(materias_desempeño1, \"Total\"=margin.table(materias_desempeño1, 1)),2)*100\n",
    "tabla_cont_col <- rbind(tabla_cont_col, \"Total\"=margin.table(tabla_cont_col,2))\n",
    "round(tabla_cont_col,1)\n"
   ]
  },
  {
   "cell_type": "code",
   "execution_count": null,
   "id": "f23c58a6",
   "metadata": {},
   "outputs": [],
   "source": [
    "# Organizamos los datos para hacer un grafico de barras adosadas\n",
    "tabla_variable_fila <- round(prop.table(table(aux$asignatura, aux$Desempeño), 1)*100,1)\n",
    "tabla_variable_fila <- t(tabla_variable_fila)\n",
    "unique(aux$`Desempeño`)\n",
    "\n",
    "# Define el orden deseado de las categorías de desempeño\n",
    "orden_categorias <- c('Insuficiente', 'Regular', 'Aprobado', 'Bueno', 'MuyBueno', 'Distinguido')\n",
    "\n",
    "# Convierte la columna \"Desempeño\" a un factor con el orden deseado\n",
    "aux$Desempeño <- factor(aux$Desempeño, levels = orden_categorias)\n",
    "\n",
    "# Organizamos los datos para hacer un grafico de barras apiladas\n",
    "tabla_variable_col <- round(prop.table(table(aux$asignatura, aux$Desempeño), 2) * 100, 1)\n",
    "grafico <- barplot(tabla_variable_col,\n",
    "                   main = \"Gráfico de Contingencia por columna - Primer Año\",\n",
    "                   beside = FALSE,\n",
    "                   space = rep(0.7, ncol(tabla_variable_col)),\n",
    "                   ylim = c(0, 110),\n",
    "                   cex.axis = 1.2, \n",
    "                   cex.names = 1, \n",
    "                   cex.main = 1.1, \n",
    "                   col = c(\"#8bc34a\", \"#804000\", \"#BDFCC9\", \"#ff7514\", \"#7668af\", \"cyan\", \"#aeea00\", \"#C23B22\"),\n",
    "                   xlab = \"Desempeños\",\n",
    "                   cex.lab = 1.1,\n",
    "                   ylab = \"Porcentaje\",\n",
    "                   col.lab = \"black\")\n",
    "\n",
    "# Primera línea de la leyenda\n",
    "legend(x = 0, y = 115, rownames(tabla_variable_col)[1:4],\n",
    "       cex = 0.6, fill = c(\"#8bc34a\", \"#804000\", \"#BDFCC9\", \"#ff7514\"),\n",
    "       xpd = TRUE, horiz = TRUE, bty = \"y\")\n",
    "\n",
    "# Segunda línea de la leyenda\n",
    "legend(x = 0, y = 110, rownames(tabla_variable_col)[5:8],\n",
    "       cex = 0.6, fill = c(\"#7668af\", \"cyan\", \"#aeea00\", \"#C23B22\"),\n",
    "       xpd = TRUE, horiz = TRUE, bty = \"y\")#Códigos hexadecimales que representan diferentes colores que vamos a usar para personalizar los gráficos"
   ]
  },
  {
   "cell_type": "code",
   "execution_count": null,
   "id": "c61964de",
   "metadata": {},
   "outputs": [],
   "source": [
    "# Como muestran los graficos y las tablas, segun el tipo de materia \"causa\" el desempeño final\n",
    "#de cada alumno\n",
    "# Para saber si realmente existe una relación entre las variables aplicaremos el test de chi cuadrado\n",
    "# H0 ---> No hay relación entre las variables\n",
    "# H1 ---> Si hay relación entre las variables\n",
    "chi <-chisq.test(aux$asignatura, aux$Desempeño)\n",
    "chi\n",
    "\n",
    "# Vemos la fuerza de asociación\n",
    "CramerV(aux$asignatura, aux$Desempeño)"
   ]
  },
  {
   "cell_type": "code",
   "execution_count": null,
   "id": "7c770548",
   "metadata": {},
   "outputs": [],
   "source": [
    "# Frecuencias observadas\n",
    "chi$observed\n",
    "\n",
    "# Frecuencias esperadas si las variables fueran independientes\n",
    "round(chi$expected,0)\n",
    "\n",
    "# Residuos estandarizados\n",
    "round(chi$residuals,1)\n",
    "\n",
    "# Residuos ajustados\n",
    "round(chi$stdres,1)"
   ]
  },
  {
   "cell_type": "markdown",
   "id": "5a1e19d6-5a11-4221-a67f-7c41cdecf70d",
   "metadata": {},
   "source": [
    "### SEGUNDO"
   ]
  },
  {
   "cell_type": "code",
   "execution_count": null,
   "id": "7b295bbd-4269-4e62-b6cb-f75156807bac",
   "metadata": {
    "scrolled": true
   },
   "outputs": [],
   "source": [
    "# Armamos una tabla con las materias troncales y el desempeño logrado por los estudiantes\n",
    "aux <- filter(secundaria_VICTORIA, (Año_Curso == \"SEGUNDO\" & (asignatura == \"MATEMATICA\" | asignatura == \"ETICA\" |asignatura == \"LENGUA Y LITERATURA\" |asignatura == \"GEOGRAFIA\" |asignatura == \"EDUCACION FISICA\" |asignatura == \"HISTORIA\" |asignatura == \"INGLES\" |asignatura == \"BIOLOGIA\" )))\n",
    "materias_desempeño <- aux %>%\n",
    "    dplyr::select('asignatura', 'Desempeño') %>%\n",
    "    table()\n",
    "\n",
    "# Reordenamos la tabla\n",
    "materias_desempeño1 <- cbind(materias_desempeño[,5], materias_desempeño[,1], materias_desempeño[,2], materias_desempeño[,4], materias_desempeño[,3])\n",
    "colnames(materias_desempeño1) <- c(\"Regular\", \"Aprobado\", \"Bueno\",\"MuyBueno\",\"Distinguido\")\n",
    "rownames(materias_desempeño1) <- c(\"MATEMATICA\", \"ETICA\", \"LENGUA Y LITERATURA\",\"GEOGRAFIA\", \"EDUCACION FISICA\", \"HISTORIA\", \"INGLES\", \"BIOLOGIA\")\n",
    "materias_desempeño1\n",
    "\n",
    "print(\"Tabla con marginales fila y columna\")\n",
    "materias_desempeño2 <- cbind(materias_desempeño1, \"Total\"= margin.table(materias_desempeño1,1))\n",
    "materias_desempeño2 <- rbind(materias_desempeño2, \"Total\"=margin.table(materias_desempeño2,2))\n",
    "materias_desempeño2\n",
    "\n",
    "print(\"Tabla contingencia ~ Porcentaje Total\")\n",
    "tabla_cont_total <- prop.table(materias_desempeño1)*100\n",
    "tabla_cont_total <- cbind(tabla_cont_total, \"Total\"=margin.table(tabla_cont_total,1))\n",
    "tabla_cont_total <- rbind(tabla_cont_total, \"Total\"=margin.table(tabla_cont_total,2))\n",
    "round(tabla_cont_total,1)\n",
    "\n",
    "print(\"Tabla contingencia ~ Porcentaje Fila\")\n",
    "tabla_cont_filas <- prop.table(rbind(materias_desempeño1, \"Total\"=margin.table(materias_desempeño1, 2)),1)*100\n",
    "tabla_cont_filas <- cbind(tabla_cont_filas, \"Total\"=margin.table(tabla_cont_filas,1))\n",
    "round(tabla_cont_filas,1)\n",
    "\n",
    "print(\"Tabla contingencia ~ Porcentaje Columna\")\n",
    "tabla_cont_col <- prop.table(cbind(materias_desempeño1, \"Total\"=margin.table(materias_desempeño1, 1)),2)*100\n",
    "tabla_cont_col <- rbind(tabla_cont_col, \"Total\"=margin.table(tabla_cont_col,2))\n",
    "round(tabla_cont_col,1)\n"
   ]
  },
  {
   "cell_type": "code",
   "execution_count": null,
   "id": "343dd490-4d13-473a-9aa4-9c9137955cc5",
   "metadata": {},
   "outputs": [],
   "source": [
    "# Organizamos los datos para hacer un grafico de barras adosadas\n",
    "tabla_variable_fila <- round(prop.table(table(aux$asignatura, aux$Desempeño), 1)*100,1)\n",
    "tabla_variable_fila <- t(tabla_variable_fila)\n",
    "unique(aux$`Desempeño`)\n",
    "\n",
    "# Define el orden deseado de las categorías de desempeño\n",
    "orden_categorias <- c('Insuficiente', 'Regular', 'Aprobado', 'Bueno', 'MuyBueno', 'Distinguido')\n",
    "\n",
    "# Convierte la columna \"Desempeño\" a un factor con el orden deseado\n",
    "aux$Desempeño <- factor(aux$Desempeño, levels = orden_categorias)\n",
    "\n",
    "# Organizamos los datos para hacer un grafico de barras apiladas\n",
    "tabla_variable_col <- round(prop.table(table(aux$asignatura, aux$Desempeño), 2) * 100, 1)\n",
    "grafico <- barplot(tabla_variable_col,\n",
    "                   main = \"Gráfico de Contingencia por columna - Segundo Año\",\n",
    "                   beside = FALSE,\n",
    "                   space = rep(0.7, ncol(tabla_variable_col)),\n",
    "                   ylim = c(0, 110),\n",
    "                   cex.axis = 1.2, \n",
    "                   cex.names = 1, \n",
    "                   cex.main = 1.1, \n",
    "                   col = c(\"#8bc34a\", \"#804000\", \"#BDFCC9\", \"#ff7514\", \"#7668af\", \"cyan\", \"#aeea00\", \"#C23B22\"),\n",
    "                   xlab = \"Desempeños\",\n",
    "                   cex.lab = 1.1,\n",
    "                   ylab = \"Porcentaje\",\n",
    "                   col.lab = \"black\")\n",
    "\n",
    "# Primera línea de la leyenda\n",
    "legend(x = 0, y = 115, rownames(tabla_variable_col)[1:4],\n",
    "       cex = 0.6, fill = c(\"#8bc34a\", \"#804000\", \"#BDFCC9\", \"#ff7514\"),\n",
    "       xpd = TRUE, horiz = TRUE, bty = \"y\")\n",
    "\n",
    "# Segunda línea de la leyenda\n",
    "legend(x = 0, y = 110, rownames(tabla_variable_col)[5:8],\n",
    "       cex = 0.6, fill = c(\"#7668af\", \"cyan\", \"#aeea00\", \"#C23B22\"),\n",
    "       xpd = TRUE, horiz = TRUE, bty = \"y\")#Códigos hexadecimales que representan diferentes colores que vamos a usar para personalizar los gráficos"
   ]
  },
  {
   "cell_type": "code",
   "execution_count": null,
   "id": "75514478-2b9e-4270-8223-f8bf355f2f53",
   "metadata": {},
   "outputs": [],
   "source": [
    "# Como muestran los graficos y las tablas, segun el tipo de materia \"causa\" el desempeño final\n",
    "#de cada alumno\n",
    "# Para saber si realmente existe una relación entre las variables aplicaremos el test de chi cuadrado\n",
    "# H0 ---> No hay relación entre las variables\n",
    "# H1 ---> Si hay relación entre las variables\n",
    "chi <-chisq.test(aux$asignatura, aux$Desempeño)\n",
    "chi\n",
    "\n",
    "# Vemos la fuerza de asociación\n",
    "CramerV(aux$asignatura, aux$Desempeño)"
   ]
  },
  {
   "cell_type": "code",
   "execution_count": null,
   "id": "c7c0c4ef-1359-4f73-8151-933728d59b43",
   "metadata": {},
   "outputs": [],
   "source": [
    "# Frecuencias observadas\n",
    "chi$observed\n",
    "\n",
    "# Frecuencias esperadas si las variables fueran independientes\n",
    "round(chi$expected,0)\n",
    "\n",
    "# Residuos estandarizados\n",
    "round(chi$residuals,1)\n",
    "\n",
    "# Residuos ajustados\n",
    "round(chi$stdres,1)"
   ]
  },
  {
   "cell_type": "markdown",
   "id": "46169a47-4e68-4bc6-a5c1-b69325a25fce",
   "metadata": {},
   "source": [
    "### TERCERO"
   ]
  },
  {
   "cell_type": "code",
   "execution_count": null,
   "id": "9957553c-ae35-4497-8826-3939a2caa8de",
   "metadata": {
    "scrolled": true
   },
   "outputs": [],
   "source": [
    "# Armamos una tabla con las materias troncales y el desempeño logrado por los estudiantes\n",
    "aux <- filter(secundaria_VICTORIA, (Año_Curso == \"TERCERO\" & (asignatura == \"MATEMATICA\" | asignatura == \"ETICA\" |asignatura == \"LENGUA Y LITERATURA\" |asignatura == \"GEOGRAFIA\" |asignatura == \"EDUCACION FISICA\" |asignatura == \"HISTORIA\" |asignatura == \"INGLES\" |asignatura == \"BIOLOGIA\" )))\n",
    "materias_desempeño <- aux %>%\n",
    "    dplyr::select('asignatura', 'Desempeño') %>%\n",
    "    table()\n",
    "\n",
    "# Reordenamos la tabla\n",
    "materias_desempeño1 <- cbind(materias_desempeño[,5], materias_desempeño[,1], materias_desempeño[,2], materias_desempeño[,4], materias_desempeño[,3])\n",
    "colnames(materias_desempeño1) <- c(\"Regular\", \"Aprobado\", \"Bueno\",\"MuyBueno\",\"Distinguido\")\n",
    "rownames(materias_desempeño1) <- c(\"MATEMATICA\", \"ETICA\", \"LENGUA Y LITERATURA\",\"GEOGRAFIA\", \"EDUCACION FISICA\", \"HISTORIA\", \"INGLES\", \"BIOLOGIA\")\n",
    "materias_desempeño1\n",
    "\n",
    "print(\"Tabla con marginales fila y columna\")\n",
    "materias_desempeño2 <- cbind(materias_desempeño1, \"Total\"= margin.table(materias_desempeño1,1))\n",
    "materias_desempeño2 <- rbind(materias_desempeño2, \"Total\"=margin.table(materias_desempeño2,2))\n",
    "materias_desempeño2\n",
    "\n",
    "print(\"Tabla contingencia ~ Porcentaje Total\")\n",
    "tabla_cont_total <- prop.table(materias_desempeño1)*100\n",
    "tabla_cont_total <- cbind(tabla_cont_total, \"Total\"=margin.table(tabla_cont_total,1))\n",
    "tabla_cont_total <- rbind(tabla_cont_total, \"Total\"=margin.table(tabla_cont_total,2))\n",
    "round(tabla_cont_total,1)\n",
    "\n",
    "print(\"Tabla contingencia ~ Porcentaje Fila\")\n",
    "tabla_cont_filas <- prop.table(rbind(materias_desempeño1, \"Total\"=margin.table(materias_desempeño1, 2)),1)*100\n",
    "tabla_cont_filas <- cbind(tabla_cont_filas, \"Total\"=margin.table(tabla_cont_filas,1))\n",
    "round(tabla_cont_filas,1)\n",
    "\n",
    "print(\"Tabla contingencia ~ Porcentaje Columna\")\n",
    "tabla_cont_col <- prop.table(cbind(materias_desempeño1, \"Total\"=margin.table(materias_desempeño1, 1)),2)*100\n",
    "tabla_cont_col <- rbind(tabla_cont_col, \"Total\"=margin.table(tabla_cont_col,2))\n",
    "round(tabla_cont_col,1)\n"
   ]
  },
  {
   "cell_type": "code",
   "execution_count": null,
   "id": "ba8428f9-1b3a-4183-be22-295048ff4022",
   "metadata": {},
   "outputs": [],
   "source": [
    "# Organizamos los datos para hacer un grafico de barras adosadas\n",
    "tabla_variable_fila <- round(prop.table(table(aux$asignatura, aux$Desempeño), 1)*100,1)\n",
    "tabla_variable_fila <- t(tabla_variable_fila)\n",
    "unique(aux$`Desempeño`)\n",
    "\n",
    "# Define el orden deseado de las categorías de desempeño\n",
    "orden_categorias <- c('Insuficiente', 'Regular', 'Aprobado', 'Bueno', 'MuyBueno', 'Distinguido')\n",
    "\n",
    "# Convierte la columna \"Desempeño\" a un factor con el orden deseado\n",
    "aux$Desempeño <- factor(aux$Desempeño, levels = orden_categorias)\n",
    "\n",
    "# Organizamos los datos para hacer un grafico de barras apiladas\n",
    "tabla_variable_col <- round(prop.table(table(aux$asignatura, aux$Desempeño), 2) * 100, 1)\n",
    "grafico <- barplot(tabla_variable_col,\n",
    "                   main = \"Gráfico de Contingencia por columna - Tercer Año\",\n",
    "                   beside = FALSE,\n",
    "                   space = rep(0.7, ncol(tabla_variable_col)),\n",
    "                   ylim = c(0, 110),\n",
    "                   cex.axis = 1.2, \n",
    "                   cex.names = 1, \n",
    "                   cex.main = 1.1, \n",
    "                   col = c(\"#8bc34a\", \"#804000\", \"#BDFCC9\", \"#ff7514\", \"#7668af\", \"cyan\", \"#aeea00\", \"#C23B22\"),\n",
    "                   xlab = \"Desempeños\",\n",
    "                   cex.lab = 1.1,\n",
    "                   ylab = \"Porcentaje\",\n",
    "                   col.lab = \"black\")\n",
    "\n",
    "# Primera línea de la leyenda\n",
    "legend(x = 0, y = 115, rownames(tabla_variable_col)[1:4],\n",
    "       cex = 0.6, fill = c(\"#8bc34a\", \"#804000\", \"#BDFCC9\", \"#ff7514\"),\n",
    "       xpd = TRUE, horiz = TRUE, bty = \"y\")\n",
    "\n",
    "# Segunda línea de la leyenda\n",
    "legend(x = 0, y = 110, rownames(tabla_variable_col)[5:8],\n",
    "       cex = 0.6, fill = c(\"#7668af\", \"cyan\", \"#aeea00\", \"#C23B22\"),\n",
    "       xpd = TRUE, horiz = TRUE, bty = \"y\")#Códigos hexadecimales que representan diferentes colores que vamos a usar para personalizar los gráficos"
   ]
  },
  {
   "cell_type": "code",
   "execution_count": null,
   "id": "e98866c7-9b48-4159-8ff6-95bd6850383a",
   "metadata": {},
   "outputs": [],
   "source": [
    "# Como muestran los graficos y las tablas, segun el tipo de materia \"causa\" el desempeño final\n",
    "#de cada alumno\n",
    "# Para saber si realmente existe una relación entre las variables aplicaremos el test de chi cuadrado\n",
    "# H0 ---> No hay relación entre las variables\n",
    "# H1 ---> Si hay relación entre las variables\n",
    "chi <-chisq.test(aux$asignatura, aux$Desempeño)\n",
    "chi\n",
    "\n",
    "# Vemos la fuerza de asociación\n",
    "CramerV(aux$asignatura, aux$Desempeño)"
   ]
  },
  {
   "cell_type": "code",
   "execution_count": null,
   "id": "f3327069-5005-49af-bfb6-a966ab8d5e05",
   "metadata": {},
   "outputs": [],
   "source": [
    "# Frecuencias observadas\n",
    "chi$observed\n",
    "\n",
    "# Frecuencias esperadas si las variables fueran independientes\n",
    "round(chi$expected,0)\n",
    "\n",
    "# Residuos estandarizados\n",
    "round(chi$residuals,1)\n",
    "\n",
    "# Residuos ajustados\n",
    "round(chi$stdres,1)"
   ]
  },
  {
   "cell_type": "markdown",
   "id": "490cfc2f-0faf-4dd9-9a17-121aca9bca79",
   "metadata": {},
   "source": [
    "### CUARTO"
   ]
  },
  {
   "cell_type": "code",
   "execution_count": null,
   "id": "19aecbe6-fc00-4e6e-b8f9-996fe8dfb841",
   "metadata": {
    "scrolled": true
   },
   "outputs": [],
   "source": [
    "# Armamos una tabla con las materias troncales y el desempeño logrado por los estudiantes\n",
    "aux <- filter(secundaria_VICTORIA, (Año_Curso == \"CUARTO\" & (asignatura == \"MATEMATICA\" | asignatura == \"ETICA\" |asignatura == \"LENGUA Y LITERATURA\" |asignatura == \"GEOGRAFIA\" |asignatura == \"EDUCACION FISICA\" |asignatura == \"HISTORIA\" |asignatura == \"INGLES\" |asignatura == \"BIOLOGIA\" )))\n",
    "materias_desempeño <- aux %>%\n",
    "    dplyr::select('asignatura', 'Desempeño') %>%\n",
    "    table()\n",
    "\n",
    "# Reordenamos la tabla\n",
    "materias_desempeño1 <- cbind(materias_desempeño[,5], materias_desempeño[,1], materias_desempeño[,2], materias_desempeño[,4], materias_desempeño[,3])\n",
    "colnames(materias_desempeño1) <- c(\"Regular\", \"Aprobado\", \"Bueno\",\"MuyBueno\",\"Distinguido\")\n",
    "rownames(materias_desempeño1) <- c(\"MATEMATICA\", \"ETICA\", \"LENGUA Y LITERATURA\",\"GEOGRAFIA\", \"EDUCACION FISICA\", \"HISTORIA\", \"INGLES\", \"BIOLOGIA\")\n",
    "materias_desempeño1\n",
    "\n",
    "print(\"Tabla con marginales fila y columna\")\n",
    "materias_desempeño2 <- cbind(materias_desempeño1, \"Total\"= margin.table(materias_desempeño1,1))\n",
    "materias_desempeño2 <- rbind(materias_desempeño2, \"Total\"=margin.table(materias_desempeño2,2))\n",
    "materias_desempeño2\n",
    "\n",
    "print(\"Tabla contingencia ~ Porcentaje Total\")\n",
    "tabla_cont_total <- prop.table(materias_desempeño1)*100\n",
    "tabla_cont_total <- cbind(tabla_cont_total, \"Total\"=margin.table(tabla_cont_total,1))\n",
    "tabla_cont_total <- rbind(tabla_cont_total, \"Total\"=margin.table(tabla_cont_total,2))\n",
    "round(tabla_cont_total,1)\n",
    "\n",
    "print(\"Tabla contingencia ~ Porcentaje Fila\")\n",
    "tabla_cont_filas <- prop.table(rbind(materias_desempeño1, \"Total\"=margin.table(materias_desempeño1, 2)),1)*100\n",
    "tabla_cont_filas <- cbind(tabla_cont_filas, \"Total\"=margin.table(tabla_cont_filas,1))\n",
    "round(tabla_cont_filas,1)\n",
    "\n",
    "print(\"Tabla contingencia ~ Porcentaje Columna\")\n",
    "tabla_cont_col <- prop.table(cbind(materias_desempeño1, \"Total\"=margin.table(materias_desempeño1, 1)),2)*100\n",
    "tabla_cont_col <- rbind(tabla_cont_col, \"Total\"=margin.table(tabla_cont_col,2))\n",
    "round(tabla_cont_col,1)\n"
   ]
  },
  {
   "cell_type": "code",
   "execution_count": null,
   "id": "7b93eaec-1a79-4f9e-9fbd-4278a5ee2990",
   "metadata": {},
   "outputs": [],
   "source": [
    "# Organizamos los datos para hacer un grafico de barras adosadas\n",
    "tabla_variable_fila <- round(prop.table(table(aux$asignatura, aux$Desempeño), 1)*100,1)\n",
    "tabla_variable_fila <- t(tabla_variable_fila)\n",
    "unique(aux$`Desempeño`)\n",
    "\n",
    "# Define el orden deseado de las categorías de desempeño\n",
    "orden_categorias <- c('Insuficiente', 'Regular', 'Aprobado', 'Bueno', 'MuyBueno', 'Distinguido')\n",
    "\n",
    "# Convierte la columna \"Desempeño\" a un factor con el orden deseado\n",
    "aux$Desempeño <- factor(aux$Desempeño, levels = orden_categorias)\n",
    "\n",
    "# Organizamos los datos para hacer un grafico de barras apiladas\n",
    "tabla_variable_col <- round(prop.table(table(aux$asignatura, aux$Desempeño), 2) * 100, 1)\n",
    "grafico <- barplot(tabla_variable_col,\n",
    "                   main = \"Gráfico de Contingencia por columna - Cuarto Año\",\n",
    "                   beside = FALSE,\n",
    "                   space = rep(0.7, ncol(tabla_variable_col)),\n",
    "                   ylim = c(0, 110),\n",
    "                   cex.axis = 1.2, \n",
    "                   cex.names = 1, \n",
    "                   cex.main = 1.1, \n",
    "                   col = c(\"#8bc34a\", \"#804000\", \"#BDFCC9\", \"#ff7514\", \"#7668af\", \"cyan\", \"#aeea00\", \"#C23B22\"),\n",
    "                   xlab = \"Desempeños\",\n",
    "                   cex.lab = 1.1,\n",
    "                   ylab = \"Porcentaje\",\n",
    "                   col.lab = \"black\")\n",
    "\n",
    "# Primera línea de la leyenda\n",
    "legend(x = 0, y = 115, rownames(tabla_variable_col)[1:4],\n",
    "       cex = 0.6, fill = c(\"#8bc34a\", \"#804000\", \"#BDFCC9\", \"#ff7514\"),\n",
    "       xpd = TRUE, horiz = TRUE, bty = \"y\")\n",
    "\n",
    "# Segunda línea de la leyenda\n",
    "legend(x = 0, y = 110, rownames(tabla_variable_col)[5:8],\n",
    "       cex = 0.6, fill = c(\"#7668af\", \"cyan\", \"#aeea00\", \"#C23B22\"),\n",
    "       xpd = TRUE, horiz = TRUE, bty = \"y\")#Códigos hexadecimales que representan diferentes colores que vamos a usar para personalizar los gráficos"
   ]
  },
  {
   "cell_type": "code",
   "execution_count": null,
   "id": "98e8198d-16ce-48d6-9c09-05967928c199",
   "metadata": {},
   "outputs": [],
   "source": [
    "# Como muestran los graficos y las tablas, segun el tipo de materia \"causa\" el desempeño final\n",
    "#de cada alumno\n",
    "# Para saber si realmente existe una relación entre las variables aplicaremos el test de chi cuadrado\n",
    "# H0 ---> No hay relación entre las variables\n",
    "# H1 ---> Si hay relación entre las variables\n",
    "chi <-chisq.test(aux$asignatura, aux$Desempeño)\n",
    "chi\n",
    "\n",
    "# Vemos la fuerza de asociación\n",
    "CramerV(aux$asignatura, aux$Desempeño)"
   ]
  },
  {
   "cell_type": "code",
   "execution_count": null,
   "id": "9510de9e-67eb-4933-ade3-e65822730e54",
   "metadata": {},
   "outputs": [],
   "source": [
    "# Frecuencias observadas\n",
    "chi$observed\n",
    "\n",
    "# Frecuencias esperadas si las variables fueran independientes\n",
    "round(chi$expected,0)\n",
    "\n",
    "# Residuos estandarizados\n",
    "round(chi$residuals,1)\n",
    "\n",
    "# Residuos ajustados\n",
    "round(chi$stdres,1)"
   ]
  },
  {
   "cell_type": "markdown",
   "id": "e7f7aa7c-feb9-424b-80db-f2f839493d4c",
   "metadata": {},
   "source": [
    "### QUINTO"
   ]
  },
  {
   "cell_type": "code",
   "execution_count": null,
   "id": "ad381370-4400-4949-a925-6fcb0638f289",
   "metadata": {
    "scrolled": true
   },
   "outputs": [],
   "source": [
    "# Armamos una tabla con las materias troncales y el desempeño logrado por los estudiantes\n",
    "aux <- filter(secundaria_VICTORIA, (Año_Curso == \"QUINTO\" & (asignatura == \"MATEMATICA\" | asignatura == \"ETICA\" |asignatura == \"LENGUA Y LITERATURA\" |asignatura == \"GEOGRAFIA\" |asignatura == \"EDUCACION FISICA\" |asignatura == \"HISTORIA\" |asignatura == \"INGLES\" |asignatura == \"BIOLOGIA\" )))\n",
    "materias_desempeño <- aux %>%\n",
    "    dplyr::select('asignatura', 'Desempeño') %>%\n",
    "    table()\n",
    "\n",
    "# Reordenamos la tabla\n",
    "materias_desempeño1 <- cbind(materias_desempeño[,5], materias_desempeño[,1], materias_desempeño[,2], materias_desempeño[,4], materias_desempeño[,3])\n",
    "colnames(materias_desempeño1) <- c(\"Regular\", \"Aprobado\", \"Bueno\",\"MuyBueno\",\"Distinguido\")\n",
    "rownames(materias_desempeño1) <- c(\"MATEMATICA\", \"ETICA\", \"LENGUA Y LITERATURA\",\"GEOGRAFIA\", \"EDUCACION FISICA\", \"HISTORIA\", \"INGLES\", \"BIOLOGIA\")\n",
    "materias_desempeño1\n",
    "\n",
    "print(\"Tabla con marginales fila y columna\")\n",
    "materias_desempeño2 <- cbind(materias_desempeño1, \"Total\"= margin.table(materias_desempeño1,1))\n",
    "materias_desempeño2 <- rbind(materias_desempeño2, \"Total\"=margin.table(materias_desempeño2,2))\n",
    "materias_desempeño2\n",
    "\n",
    "print(\"Tabla contingencia ~ Porcentaje Total\")\n",
    "tabla_cont_total <- prop.table(materias_desempeño1)*100\n",
    "tabla_cont_total <- cbind(tabla_cont_total, \"Total\"=margin.table(tabla_cont_total,1))\n",
    "tabla_cont_total <- rbind(tabla_cont_total, \"Total\"=margin.table(tabla_cont_total,2))\n",
    "round(tabla_cont_total,1)\n",
    "\n",
    "print(\"Tabla contingencia ~ Porcentaje Fila\")\n",
    "tabla_cont_filas <- prop.table(rbind(materias_desempeño1, \"Total\"=margin.table(materias_desempeño1, 2)),1)*100\n",
    "tabla_cont_filas <- cbind(tabla_cont_filas, \"Total\"=margin.table(tabla_cont_filas,1))\n",
    "round(tabla_cont_filas,1)\n",
    "\n",
    "print(\"Tabla contingencia ~ Porcentaje Columna\")\n",
    "tabla_cont_col <- prop.table(cbind(materias_desempeño1, \"Total\"=margin.table(materias_desempeño1, 1)),2)*100\n",
    "tabla_cont_col <- rbind(tabla_cont_col, \"Total\"=margin.table(tabla_cont_col,2))\n",
    "round(tabla_cont_col,1)\n"
   ]
  },
  {
   "cell_type": "code",
   "execution_count": null,
   "id": "5d56bb84-9279-4463-bb26-c0bd918c6b0d",
   "metadata": {},
   "outputs": [],
   "source": [
    "# Organizamos los datos para hacer un grafico de barras adosadas\n",
    "tabla_variable_fila <- round(prop.table(table(aux$asignatura, aux$Desempeño), 1)*100,1)\n",
    "tabla_variable_fila <- t(tabla_variable_fila)\n",
    "unique(aux$`Desempeño`)\n",
    "\n",
    "# Define el orden deseado de las categorías de desempeño\n",
    "orden_categorias <- c('Insuficiente', 'Regular', 'Aprobado', 'Bueno', 'MuyBueno', 'Distinguido')\n",
    "\n",
    "# Convierte la columna \"Desempeño\" a un factor con el orden deseado\n",
    "aux$Desempeño <- factor(aux$Desempeño, levels = orden_categorias)\n",
    "\n",
    "# Organizamos los datos para hacer un grafico de barras apiladas\n",
    "tabla_variable_col <- round(prop.table(table(aux$asignatura, aux$Desempeño), 2) * 100, 1)\n",
    "grafico <- barplot(tabla_variable_col,\n",
    "                   main = \"Gráfico de Contingencia por columna - Quinto Año\",\n",
    "                   beside = FALSE,\n",
    "                   space = rep(0.7, ncol(tabla_variable_col)),\n",
    "                   ylim = c(0, 110),\n",
    "                   cex.axis = 1.2, \n",
    "                   cex.names = 1, \n",
    "                   cex.main = 1.1, \n",
    "                   col = c(\"#8bc34a\", \"#804000\", \"#BDFCC9\", \"#ff7514\", \"#7668af\", \"cyan\", \"#aeea00\", \"#C23B22\"),\n",
    "                   xlab = \"Desempeños\",\n",
    "                   cex.lab = 1.1,\n",
    "                   ylab = \"Porcentaje\",\n",
    "                   col.lab = \"black\")\n",
    "\n",
    "# Primera línea de la leyenda\n",
    "legend(x = 0, y = 115, rownames(tabla_variable_col)[1:4],\n",
    "       cex = 0.6, fill = c(\"#8bc34a\", \"#804000\", \"#BDFCC9\", \"#ff7514\"),\n",
    "       xpd = TRUE, horiz = TRUE, bty = \"y\")\n",
    "\n",
    "# Segunda línea de la leyenda\n",
    "legend(x = 0, y = 110, rownames(tabla_variable_col)[5:8],\n",
    "       cex = 0.6, fill = c(\"#7668af\", \"cyan\", \"#aeea00\", \"#C23B22\"),\n",
    "       xpd = TRUE, horiz = TRUE, bty = \"y\")#Códigos hexadecimales que representan diferentes colores que vamos a usar para personalizar los gráficos"
   ]
  },
  {
   "cell_type": "code",
   "execution_count": null,
   "id": "269c5db9-869a-41a8-94a4-8bddf51a6240",
   "metadata": {},
   "outputs": [],
   "source": [
    "# Como muestran los graficos y las tablas, segun el tipo de materia \"causa\" el desempeño final\n",
    "#de cada alumno\n",
    "# Para saber si realmente existe una relación entre las variables aplicaremos el test de chi cuadrado\n",
    "# H0 ---> No hay relación entre las variables\n",
    "# H1 ---> Si hay relación entre las variables\n",
    "chi <-chisq.test(aux$asignatura, aux$Desempeño)\n",
    "chi\n",
    "\n",
    "# Vemos la fuerza de asociación\n",
    "CramerV(aux$asignatura, aux$Desempeño)"
   ]
  },
  {
   "cell_type": "code",
   "execution_count": null,
   "id": "07ea4768-390d-487e-a367-59ad16254939",
   "metadata": {},
   "outputs": [],
   "source": [
    "# Frecuencias observadas\n",
    "chi$observed\n",
    "\n",
    "# Frecuencias esperadas si las variables fueran independientes\n",
    "round(chi$expected,0)\n",
    "\n",
    "# Residuos estandarizados\n",
    "round(chi$residuals,1)\n",
    "\n",
    "# Residuos ajustados\n",
    "round(chi$stdres,1)"
   ]
  },
  {
   "cell_type": "markdown",
   "id": "5a74b36e-1cad-49e3-86ee-01de4c252455",
   "metadata": {},
   "source": [
    "### SEXTO"
   ]
  },
  {
   "cell_type": "code",
   "execution_count": null,
   "id": "2de31565-d941-4049-af2b-98c6e1067199",
   "metadata": {
    "scrolled": true
   },
   "outputs": [],
   "source": [
    "# Armamos una tabla con las materias troncales y el desempeño logrado por los estudiantes\n",
    "aux <- filter(secundaria_VICTORIA, (Año_Curso == \"SEXTO\" & (asignatura == \"MATEMATICA\" | asignatura == \"ETICA\" |asignatura == \"LENGUA Y LITERATURA\" |asignatura == \"GEOGRAFIA\" |asignatura == \"EDUCACION FISICA\" |asignatura == \"HISTORIA\" |asignatura == \"INGLES\" |asignatura == \"BIOLOGIA\" )))\n",
    "materias_desempeño <- aux %>%\n",
    "    dplyr::select('asignatura', 'Desempeño') %>%\n",
    "    table()\n",
    "\n",
    "# Reordenamos la tabla\n",
    "materias_desempeño1 <- cbind(materias_desempeño[,5], materias_desempeño[,1], materias_desempeño[,2], materias_desempeño[,4], materias_desempeño[,3])\n",
    "colnames(materias_desempeño1) <- c(\"Regular\", \"Aprobado\", \"Bueno\",\"MuyBueno\",\"Distinguido\")\n",
    "rownames(materias_desempeño1) <- c(\"MATEMATICA\", \"ETICA\", \"LENGUA Y LITERATURA\",\"GEOGRAFIA\", \"EDUCACION FISICA\", \"HISTORIA\", \"INGLES\", \"BIOLOGIA\")\n",
    "materias_desempeño1\n",
    "\n",
    "print(\"Tabla con marginales fila y columna\")\n",
    "materias_desempeño2 <- cbind(materias_desempeño1, \"Total\"= margin.table(materias_desempeño1,1))\n",
    "materias_desempeño2 <- rbind(materias_desempeño2, \"Total\"=margin.table(materias_desempeño2,2))\n",
    "materias_desempeño2\n",
    "\n",
    "print(\"Tabla contingencia ~ Porcentaje Total\")\n",
    "tabla_cont_total <- prop.table(materias_desempeño1)*100\n",
    "tabla_cont_total <- cbind(tabla_cont_total, \"Total\"=margin.table(tabla_cont_total,1))\n",
    "tabla_cont_total <- rbind(tabla_cont_total, \"Total\"=margin.table(tabla_cont_total,2))\n",
    "round(tabla_cont_total,1)\n",
    "\n",
    "print(\"Tabla contingencia ~ Porcentaje Fila\")\n",
    "tabla_cont_filas <- prop.table(rbind(materias_desempeño1, \"Total\"=margin.table(materias_desempeño1, 2)),1)*100\n",
    "tabla_cont_filas <- cbind(tabla_cont_filas, \"Total\"=margin.table(tabla_cont_filas,1))\n",
    "round(tabla_cont_filas,1)\n",
    "\n",
    "print(\"Tabla contingencia ~ Porcentaje Columna\")\n",
    "tabla_cont_col <- prop.table(cbind(materias_desempeño1, \"Total\"=margin.table(materias_desempeño1, 1)),2)*100\n",
    "tabla_cont_col <- rbind(tabla_cont_col, \"Total\"=margin.table(tabla_cont_col,2))\n",
    "round(tabla_cont_col,1)\n"
   ]
  },
  {
   "cell_type": "code",
   "execution_count": null,
   "id": "5e7c56eb-477e-4cb1-8976-cf2c952f9b81",
   "metadata": {},
   "outputs": [],
   "source": [
    "# Organizamos los datos para hacer un grafico de barras adosadas\n",
    "tabla_variable_fila <- round(prop.table(table(aux$asignatura, aux$Desempeño), 1)*100,1)\n",
    "tabla_variable_fila <- t(tabla_variable_fila)\n",
    "unique(aux$`Desempeño`)\n",
    "\n",
    "# Define el orden deseado de las categorías de desempeño\n",
    "orden_categorias <- c('Insuficiente', 'Regular', 'Aprobado', 'Bueno', 'MuyBueno', 'Distinguido')\n",
    "\n",
    "# Convierte la columna \"Desempeño\" a un factor con el orden deseado\n",
    "aux$Desempeño <- factor(aux$Desempeño, levels = orden_categorias)\n",
    "\n",
    "# Organizamos los datos para hacer un grafico de barras apiladas\n",
    "tabla_variable_col <- round(prop.table(table(aux$asignatura, aux$Desempeño), 2) * 100, 1)\n",
    "grafico <- barplot(tabla_variable_col,\n",
    "                   main = \"Gráfico de Contingencia por columna - Sexto Año\",\n",
    "                   beside = FALSE,\n",
    "                   space = rep(0.7, ncol(tabla_variable_col)),\n",
    "                   ylim = c(0, 110),\n",
    "                   cex.axis = 1.2, \n",
    "                   cex.names = 1, \n",
    "                   cex.main = 1.1, \n",
    "                   col = c(\"#8bc34a\", \"#804000\", \"#BDFCC9\", \"#ff7514\", \"#7668af\", \"cyan\", \"#aeea00\", \"#C23B22\"),\n",
    "                   xlab = \"Desempeños\",\n",
    "                   cex.lab = 1.1,\n",
    "                   ylab = \"Porcentaje\",\n",
    "                   col.lab = \"black\")\n",
    "\n",
    "# Primera línea de la leyenda\n",
    "legend(x = 0, y = 115, rownames(tabla_variable_col)[1:4],\n",
    "       cex = 0.6, fill = c(\"#8bc34a\", \"#804000\", \"#BDFCC9\", \"#ff7514\"),\n",
    "       xpd = TRUE, horiz = TRUE, bty = \"y\")\n",
    "\n",
    "# Segunda línea de la leyenda\n",
    "legend(x = 0, y = 110, rownames(tabla_variable_col)[5:8],\n",
    "       cex = 0.6, fill = c(\"#7668af\", \"cyan\", \"#aeea00\", \"#C23B22\"),\n",
    "       xpd = TRUE, horiz = TRUE, bty = \"y\")#Códigos hexadecimales que representan diferentes colores que vamos a usar para personalizar los gráficos"
   ]
  },
  {
   "cell_type": "code",
   "execution_count": null,
   "id": "503e9348-a46c-4b49-86ba-9207b2a0e3cb",
   "metadata": {},
   "outputs": [],
   "source": [
    "# Como muestran los graficos y las tablas, segun el tipo de materia \"causa\" el desempeño final\n",
    "#de cada alumno\n",
    "# Para saber si realmente existe una relación entre las variables aplicaremos el test de chi cuadrado\n",
    "# H0 ---> No hay relación entre las variables\n",
    "# H1 ---> Si hay relación entre las variables\n",
    "chi <-chisq.test(aux$asignatura, aux$Desempeño)\n",
    "chi\n",
    "\n",
    "# Vemos la fuerza de asociación\n",
    "CramerV(aux$asignatura, aux$Desempeño)"
   ]
  },
  {
   "cell_type": "code",
   "execution_count": null,
   "id": "899e1e79-8ebe-4ae8-b0a0-e485a7d0703a",
   "metadata": {},
   "outputs": [],
   "source": [
    "# Frecuencias observadas\n",
    "chi$observed\n",
    "\n",
    "# Frecuencias esperadas si las variables fueran independientes\n",
    "round(chi$expected,0)\n",
    "\n",
    "# Residuos estandarizados\n",
    "round(chi$residuals,1)\n",
    "\n",
    "# Residuos ajustados\n",
    "round(chi$stdres,1)"
   ]
  },
  {
   "cell_type": "markdown",
   "id": "83fa6f96-aea4-43bf-b284-fd3715508698",
   "metadata": {},
   "source": [
    "### SEPTIMO"
   ]
  },
  {
   "cell_type": "code",
   "execution_count": null,
   "id": "da1f4753-d0e9-409f-86f3-768f8d8c684e",
   "metadata": {},
   "outputs": [],
   "source": [
    "#No se cursan las mismas asignaturas en el ultimo año del secundario tecnico\n",
    "aaux <- filter(secundaria_VICTORIA, (Año_Curso == \"SEPTIMO\"))\n",
    "#Encontramos las fa de las asignaturas\n",
    "frecuencias_absolutas <- table(aaux$asignatura)\n",
    "# Ordenar la tabla de frecuencias en orden descendente\n",
    "frecuencias_ordenadas <- sort(frecuencias_absolutas, decreasing = TRUE)\n",
    "# Mostrar las primeras categorías con mayor frecuencia\n",
    "print(frecuencias_ordenadas[1:8]) \n",
    "#Tomamos esas asignaturas como \"TRONCALES\""
   ]
  },
  {
   "cell_type": "code",
   "execution_count": null,
   "id": "27191fd7-57cb-4879-a88b-73aa352b7616",
   "metadata": {
    "scrolled": true
   },
   "outputs": [],
   "source": [
    "# Armamos una tabla con las materias troncales y el desempeño logrado por los estudiantes\n",
    "aux <- filter(secundaria_VICTORIA, (Año_Curso == \"SEPTIMO\" & (asignatura == \"QUIMICA\" | asignatura == \"CIENCIAS AGROPECUARIAS\" |asignatura == \"EDUCACION FISICA\" |asignatura == \"PROYECTO DE PRACTICAS PROFESIONALIZANTES\" |asignatura == \"ORGANIZACION INDUSTRIAL Y RELACIONES HUMANAS\" |asignatura == \"QUIMICA APLICADA\" |asignatura == \"TECNOLOGIA DE LOS ALIMENTOS\" |asignatura == \"TRABAJOS PRACTICOS DE TECNOL. DE LOS ALIMENTOS\" )))\n",
    "materias_desempeño <- aux %>%\n",
    "    dplyr::select('asignatura', 'Desempeño') %>%\n",
    "    table()\n",
    "\n",
    "# Reordenamos la tabla\n",
    "materias_desempeño1 <- cbind(materias_desempeño[,5], materias_desempeño[,1], materias_desempeño[,2], materias_desempeño[,4], materias_desempeño[,3])\n",
    "colnames(materias_desempeño1) <- c(\"Regular\", \"Aprobado\", \"Bueno\",\"MuyBueno\",\"Distinguido\")\n",
    "rownames(materias_desempeño1) <- c(\"QUIMICA\", \"CIENCIAS AGROPECUARIAS\", \"EDUCACION FISICA\",\"PROYECTO DE PRACTICAS PROFESIONALIZANTES\", \"ORGANIZACION INDUSTRIAL Y RELACIONES HUMANAS\", \"QUIMICA APLICADA\", \"TECNOLOGIA DE LOS ALIMENTOS\", \"TRABAJOS PRACTICOS DE TECNOL. DE LOS ALIMENTOS\")\n",
    "materias_desempeño1\n",
    "\n",
    "print(\"Tabla con marginales fila y columna\")\n",
    "materias_desempeño2 <- cbind(materias_desempeño1, \"Total\"= margin.table(materias_desempeño1,1))\n",
    "materias_desempeño2 <- rbind(materias_desempeño2, \"Total\"=margin.table(materias_desempeño2,2))\n",
    "materias_desempeño2\n",
    "\n",
    "print(\"Tabla contingencia ~ Porcentaje Total\")\n",
    "tabla_cont_total <- prop.table(materias_desempeño1)*100\n",
    "tabla_cont_total <- cbind(tabla_cont_total, \"Total\"=margin.table(tabla_cont_total,1))\n",
    "tabla_cont_total <- rbind(tabla_cont_total, \"Total\"=margin.table(tabla_cont_total,2))\n",
    "round(tabla_cont_total,1)\n",
    "\n",
    "print(\"Tabla contingencia ~ Porcentaje Fila\")\n",
    "tabla_cont_filas <- prop.table(rbind(materias_desempeño1, \"Total\"=margin.table(materias_desempeño1, 2)),1)*100\n",
    "tabla_cont_filas <- cbind(tabla_cont_filas, \"Total\"=margin.table(tabla_cont_filas,1))\n",
    "round(tabla_cont_filas,1)\n",
    "\n",
    "print(\"Tabla contingencia ~ Porcentaje Columna\")\n",
    "tabla_cont_col <- prop.table(cbind(materias_desempeño1, \"Total\"=margin.table(materias_desempeño1, 1)),2)*100\n",
    "tabla_cont_col <- rbind(tabla_cont_col, \"Total\"=margin.table(tabla_cont_col,2))\n",
    "round(tabla_cont_col,1)\n"
   ]
  },
  {
   "cell_type": "code",
   "execution_count": null,
   "id": "fec7b5ce-c90d-4c64-9d5b-266b90729325",
   "metadata": {},
   "outputs": [],
   "source": [
    "# Organizamos los datos para hacer un grafico de barras adosadas\n",
    "tabla_variable_fila <- round(prop.table(table(aux$asignatura, aux$Desempeño), 1)*100,1)\n",
    "tabla_variable_fila <- t(tabla_variable_fila)\n",
    "unique(aux$`Desempeño`)\n",
    "\n",
    "# Define el orden deseado de las categorías de desempeño\n",
    "orden_categorias <- c('Insuficiente', 'Regular', 'Aprobado', 'Bueno', 'MuyBueno', 'Distinguido')\n",
    "\n",
    "# Convierte la columna \"Desempeño\" a un factor con el orden deseado\n",
    "aux$Desempeño <- factor(aux$Desempeño, levels = orden_categorias)\n",
    "\n",
    "# Organizamos los datos para hacer un grafico de barras apiladas\n",
    "tabla_variable_col <- round(prop.table(table(aux$asignatura, aux$Desempeño), 2) * 100, 1)\n",
    "grafico <- barplot(tabla_variable_col,\n",
    "                   main = \"Gráfico de Contingencia por columna - Primer Año\",\n",
    "                   beside = FALSE,\n",
    "                   space = rep(0.7, ncol(tabla_variable_col)),\n",
    "                   ylim = c(0, 110),\n",
    "                   cex.axis = 1.2, \n",
    "                   cex.names = 1, \n",
    "                   cex.main = 1.1, \n",
    "                   col = c(\"#8bc34a\", \"#804000\", \"#BDFCC9\", \"#ff7514\", \"#7668af\", \"cyan\", \"#aeea00\", \"#C23B22\"),\n",
    "                   xlab = \"Desempeños\",\n",
    "                   cex.lab = 1.1,\n",
    "                   ylab = \"Porcentaje\",\n",
    "                   col.lab = \"black\")\n",
    "\n",
    "# Primera línea de la leyenda\n",
    "legend(x = 0, y = 115, rownames(tabla_variable_col)[1:4],\n",
    "       cex = 0.6, fill = c(\"#8bc34a\", \"#804000\", \"#BDFCC9\", \"#ff7514\"),\n",
    "       xpd = TRUE, horiz = FALSE, bty = \"y\")\n",
    "\n",
    "# Segunda línea de la leyenda\n",
    "legend(x = 5.5, y = 115, rownames(tabla_variable_col)[5:8],\n",
    "       cex = 0.6, fill = c(\"#7668af\", \"cyan\", \"#aeea00\", \"#C23B22\"),\n",
    "       xpd = TRUE, horiz = FALSE, bty = \"y\")#Códigos hexadecimales que representan diferentes colores que vamos a usar para personalizar los gráficos"
   ]
  },
  {
   "cell_type": "code",
   "execution_count": null,
   "id": "6e9cbd10-a9ed-4e48-9353-a7316f398c0f",
   "metadata": {},
   "outputs": [],
   "source": [
    "# Como muestran los graficos y las tablas, segun el tipo de materia \"causa\" el desempeño final\n",
    "#de cada alumno\n",
    "# Para saber si realmente existe una relación entre las variables aplicaremos el test de chi cuadrado\n",
    "# H0 ---> No hay relación entre las variables\n",
    "# H1 ---> Si hay relación entre las variables\n",
    "chi <-chisq.test(aux$asignatura, aux$Desempeño)\n",
    "chi\n",
    "\n",
    "# Vemos la fuerza de asociación\n",
    "CramerV(aux$asignatura, aux$Desempeño)"
   ]
  },
  {
   "cell_type": "code",
   "execution_count": null,
   "id": "1275eba5-6555-4fcb-9799-93597522b699",
   "metadata": {},
   "outputs": [],
   "source": [
    "# Frecuencias observadas\n",
    "chi$observed\n",
    "\n",
    "# Frecuencias esperadas si las variables fueran independientes\n",
    "round(chi$expected,0)\n",
    "\n",
    "# Residuos estandarizados\n",
    "round(chi$residuals,1)\n",
    "\n",
    "# Residuos ajustados\n",
    "round(chi$stdres,1)"
   ]
  },
  {
   "cell_type": "markdown",
   "id": "f8d8a4f2-c95f-4855-9a96-c32725b62986",
   "metadata": {},
   "source": [
    "--------------------"
   ]
  },
  {
   "cell_type": "markdown",
   "id": "8a2cd996-0950-4e52-a107-e8ae44b63de1",
   "metadata": {},
   "source": [
    "## Guia 9 - Análisis Multivariado"
   ]
  },
  {
   "cell_type": "markdown",
   "id": "84dd3ecf-6c29-41e3-adfb-ac05d7b78eca",
   "metadata": {},
   "source": [
    "### Graficamos promedios generales por cada colegios"
   ]
  },
  {
   "cell_type": "code",
   "execution_count": null,
   "id": "ab8d12eb-1022-47b4-bb93-c543be564cd4",
   "metadata": {},
   "outputs": [],
   "source": [
    "PRIMERO <- filter(secundaria_VICTORIA, (Año_Curso == \"PRIMERO\"))\n",
    "# Boxplot comparativo para las diferentes escuelas según el Promedio\n",
    "g2 <- ggplot(PRIMERO, aes(factor(CodigoUnicoEscolar), Promedio))\n",
    "g2 + geom_boxplot(aes(fill = factor(CodigoUnicoEscolar))) +\n",
    "  labs(title = \"Distribución del Promedio por Código Único Escolar - Primer Año\",\n",
    "       x = \"Código Único Escolar\",\n",
    "       y = \"Promedio\",\n",
    "       fill = \"Código Único Escolar\") +\n",
    "  theme_minimal() +\n",
    "  theme(axis.text.x = element_text(angle = 45, hjust = 1),\n",
    "        legend.position = \"none\")"
   ]
  },
  {
   "cell_type": "code",
   "execution_count": null,
   "id": "3a035b3e-52c0-45f6-8f33-c8f53e2d30ff",
   "metadata": {},
   "outputs": [],
   "source": [
    "SEGUNDO <- filter(secundaria_VICTORIA, (Año_Curso == \"SEGUNDO\"))\n",
    "# Boxplot comparativo para las diferentes escuelas según el Promedio\n",
    "g2 <- ggplot(SEGUNDO, aes(factor(CodigoUnicoEscolar), Promedio))\n",
    "g2 + geom_boxplot(aes(fill = factor(CodigoUnicoEscolar))) +\n",
    "  labs(title = \"Distribución del Promedio por Código Único Escolar - Segundo Año\",\n",
    "       x = \"Código Único Escolar\",\n",
    "       y = \"Promedio\",\n",
    "       fill = \"Código Único Escolar\") +\n",
    "  theme_minimal() +\n",
    "  theme(axis.text.x = element_text(angle = 45, hjust = 1),\n",
    "        legend.position = \"none\")"
   ]
  },
  {
   "cell_type": "code",
   "execution_count": null,
   "id": "aed5f5b3-1268-4aba-9f7c-546d39d53944",
   "metadata": {},
   "outputs": [],
   "source": [
    "TERCERO <- filter(secundaria_VICTORIA, (Año_Curso == \"TERCERO\"))\n",
    "# Boxplot comparativo para las diferentes escuelas según el Promedio\n",
    "g2 <- ggplot(TERCERO, aes(factor(CodigoUnicoEscolar), Promedio))\n",
    "g2 + geom_boxplot(aes(fill = factor(CodigoUnicoEscolar))) +\n",
    "  labs(title = \"Distribución del Promedio por Código Único Escolar - Tercer Año\",\n",
    "       x = \"Código Único Escolar\",\n",
    "       y = \"Promedio\",\n",
    "       fill = \"Código Único Escolar\") +\n",
    "  theme_minimal() +\n",
    "  theme(axis.text.x = element_text(angle = 45, hjust = 1),\n",
    "        legend.position = \"none\")"
   ]
  },
  {
   "cell_type": "code",
   "execution_count": null,
   "id": "806f0c63-a520-4fb9-8205-a0fe46b36e56",
   "metadata": {},
   "outputs": [],
   "source": [
    "CUARTO <- filter(secundaria_VICTORIA, (Año_Curso == \"CUARTO\"))\n",
    "# Boxplot comparativo para las diferentes escuelas según el Promedio\n",
    "g2 <- ggplot(CUARTO, aes(factor(CodigoUnicoEscolar), Promedio))\n",
    "g2 + geom_boxplot(aes(fill = factor(CodigoUnicoEscolar))) +\n",
    "  labs(title = \"Distribución del Promedio por Código Único Escolar - Cuarto Año\",\n",
    "       x = \"Código Único Escolar\",\n",
    "       y = \"Promedio\",\n",
    "       fill = \"Código Único Escolar\") +\n",
    "  theme_minimal() +\n",
    "  theme(axis.text.x = element_text(angle = 45, hjust = 1),\n",
    "        legend.position = \"none\")"
   ]
  },
  {
   "cell_type": "code",
   "execution_count": null,
   "id": "0ae9257c-d88f-412b-96e9-77689af2cdb8",
   "metadata": {},
   "outputs": [],
   "source": [
    "QUINTO <- filter(secundaria_VICTORIA, (Año_Curso == \"QUINTO\"))\n",
    "# Boxplot comparativo para las diferentes escuelas según el Promedio\n",
    "g2 <- ggplot(QUINTO, aes(factor(CodigoUnicoEscolar), Promedio))\n",
    "g2 + geom_boxplot(aes(fill = factor(CodigoUnicoEscolar))) +\n",
    "  labs(title = \"Distribución del Promedio por Código Único Escolar - Quinto Año\",\n",
    "       x = \"Código Único Escolar\",\n",
    "       y = \"Promedio\",\n",
    "       fill = \"Código Único Escolar\") +\n",
    "  theme_minimal() +\n",
    "  theme(axis.text.x = element_text(angle = 45, hjust = 1),\n",
    "        legend.position = \"none\")"
   ]
  },
  {
   "cell_type": "code",
   "execution_count": null,
   "id": "dfac5a49-b3d6-4c0d-9210-125a7bc392ac",
   "metadata": {},
   "outputs": [],
   "source": [
    "SEXTO <- filter(secundaria_VICTORIA, (Año_Curso == \"SEXTO\"))\n",
    "# Boxplot comparativo para las diferentes escuelas según el Promedio\n",
    "g2 <- ggplot(SEXTO, aes(factor(CodigoUnicoEscolar), Promedio))\n",
    "g2 + geom_boxplot(aes(fill = factor(CodigoUnicoEscolar))) +\n",
    "  labs(title = \"Distribución del Promedio por Código Único Escolar - Sexto Año\",\n",
    "       x = \"Código Único Escolar\",\n",
    "       y = \"Promedio\",\n",
    "       fill = \"Código Único Escolar\") +\n",
    "  theme_minimal() +\n",
    "  theme(axis.text.x = element_text(angle = 45, hjust = 1),\n",
    "        legend.position = \"none\")"
   ]
  },
  {
   "cell_type": "code",
   "execution_count": null,
   "id": "e91753c7-bfa4-43bf-aec6-8d54ce4761f8",
   "metadata": {},
   "outputs": [],
   "source": [
    "SEPTIMO <- filter(secundaria_VICTORIA, (Año_Curso == \"SEPTIMO\"))\n",
    "# Boxplot comparativo para las diferentes escuelas según el Promedio\n",
    "g2 <- ggplot(SEPTIMO, aes(factor(CodigoUnicoEscolar), Promedio))\n",
    "g2 + geom_boxplot(aes(fill = factor(CodigoUnicoEscolar))) +\n",
    "  labs(title = \"Distribución del Promedio por Código Único Escolar - Septimo Año\",\n",
    "       x = \"Código Único Escolar\",\n",
    "       y = \"Promedio\",\n",
    "       fill = \"Código Único Escolar\") +\n",
    "  theme_minimal() +\n",
    "  theme(axis.text.x = element_text(angle = 45, hjust = 1),\n",
    "        legend.position = \"none\")\n"
   ]
  }
 ],
 "metadata": {
  "kernelspec": {
   "display_name": "R",
   "language": "R",
   "name": "ir"
  },
  "language_info": {
   "codemirror_mode": "r",
   "file_extension": ".r",
   "mimetype": "text/x-r-source",
   "name": "R",
   "pygments_lexer": "r",
   "version": "4.3.1"
  }
 },
 "nbformat": 4,
 "nbformat_minor": 5
}
