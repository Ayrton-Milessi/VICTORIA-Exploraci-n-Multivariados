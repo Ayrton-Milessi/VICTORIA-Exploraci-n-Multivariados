{
 "cells": [
  {
   "cell_type": "code",
   "execution_count": null,
   "id": "18b3b347-c356-4b3b-bc41-04c39c40462f",
   "metadata": {},
   "outputs": [],
   "source": [
    "# -*- coding: utf-8 -*-\n",
    "#leemos las librerias para poder aplicar distintas funciones\n",
    "library(readxl) \n",
    "library(dplyr)\n",
    "library(stringr)\n",
    "library(writexl)"
   ]
  },
  {
   "cell_type": "code",
   "execution_count": null,
   "id": "82302e92-656a-424e-90e8-79c2661d624f",
   "metadata": {
    "slideshow": {
     "slide_type": ""
    },
    "tags": []
   },
   "outputs": [],
   "source": [
    "#guardamos los archivos\n",
    "Victoria <- read.csv(\"VICTORIA.csv\")"
   ]
  },
  {
   "cell_type": "code",
   "execution_count": null,
   "id": "417f2a8f-8c4e-4106-bdfa-fbf72ec42f44",
   "metadata": {
    "scrolled": true
   },
   "outputs": [],
   "source": [
    "names(Victoria) #muestra las variables\n",
    "#cambiamos los nombres de las variables para un mejor entendimiento\n",
    "Victoria <- rename(Victoria, c(\"CodigoUnicoEscolar\" = \"CUE\", \"ModEnseñanza\" = \"ModEnsenaza\", \"año\" = \"anioLectivo\", \"esMultiaño\" =\"esMultianio\", \"IdModEnseñanza\" = \"IdModEnsenanza\",\"NivelEnseñanza\" = \"NivelEnsenanza\"))\n",
    "str(Victoria) #muestra los nombres del dataset, nos ayuda a identificar el tipo de variables"
   ]
  },
  {
   "cell_type": "code",
   "execution_count": null,
   "id": "c97c7c0a-088c-4a85-8257-9278d207f6dc",
   "metadata": {
    "scrolled": true
   },
   "outputs": [],
   "source": [
    "#descubrimos que al intentar modificar el nombre de una varible, esta se encuentra dos veces en el conjunto de datos\n",
    "Victoria$ddivision <- NULL #entonces procedemos a eliminar una columna\n",
    "names(Victoria) #verificamos si se elimino correctamente"
   ]
  },
  {
   "cell_type": "code",
   "execution_count": null,
   "id": "7406d2aa-1828-454d-8adc-03291b1e5042",
   "metadata": {},
   "outputs": [],
   "source": [
    "#reemplazamos las notas \"EPAC\", \"UP\" y \"PA\" \n",
    "Victoria$nota[Victoria$nota %in% c(\"EPAC\")] <- 5\n",
    "Victoria$nota[Victoria$nota %in% c(\"PA\")] <- 6\n",
    "Victoria$nota[Victoria$nota %in% c(\"UP\")] <- 7\n",
    "Victoria$nota <- suppressWarnings(as.numeric(Victoria$nota)) #convertimos la variable nota a tipo numérico"
   ]
  },
  {
   "cell_type": "code",
   "execution_count": null,
   "id": "5a8a7455-991a-4217-b7cc-ab3c82b9cf64",
   "metadata": {},
   "outputs": [],
   "source": [
    "#ahora podemos dividir el dataset en dos\n",
    "Victoria_primaria <- filter(Victoria, NivelEnseñanza == \"PRIMARIO\" & ( ModEnseñanza == \"Comun\"| ModEnseñanza == \"Escuelas NINA\") & Modalidad == \"Primaria\" & esMultiaño == \"N\") #se guardan los alumnos que cursan la primaria\n",
    "Victoria_secundaria <- filter(Victoria, NivelEnseñanza == \"SECUNDARIO\" & (ModEnseñanza == \"Comun\" | ModEnseñanza == \"Técnica\" | ModEnseñanza ==\"Agrotécnica\") & esMultiaño == \"N\" & Modalidad == \"Secundaria\") #se guardan los alumnos que cursan la secundaria\n",
    "length(unique(Victoria_primaria$CodigoUnicoEscolar)) #cantidad de escuelas primarias en Victoria\n",
    "length(unique(primaria_2023$CUE)) #total de escuelas primarias\n",
    "length(unique(Victoria_secundaria$CodigoUnicoEscolar))#cantidad de escuelas secundarias en Victoria\n",
    "length(unique(secundaria_2023$CUE))#total de escuelas secundarias"
   ]
  },
  {
   "cell_type": "code",
   "execution_count": null,
   "id": "2212fe48-9a01-4ae7-b45d-b5dc7b1281d9",
   "metadata": {},
   "outputs": [],
   "source": [
    "dim(Victoria_primaria)\n",
    "dim(Victoria_secundaria)"
   ]
  },
  {
   "cell_type": "code",
   "execution_count": null,
   "id": "439d86df-e96e-4dc2-8a01-3eacf86608ec",
   "metadata": {},
   "outputs": [],
   "source": [
    "PrimerT_primaria <- filter(Victoria_primaria, periodoEvaluatorio == \"Primer Trimestre\")\n",
    "PrimerT_primaria <- rename(PrimerT_primaria,NotasPrimerT = nota)\n",
    "SegundoT_primaria <- filter(Victoria_primaria, periodoEvaluatorio == \"Segundo Trimestre\")\n",
    "SegundoT_primaria <- rename(SegundoT_primaria,NotasSegundoT = nota)\n",
    "TercerT_primaria <- filter(Victoria_primaria, periodoEvaluatorio == \"Tercer Trimestre\")\n",
    "TercerT_primaria <- rename(TercerT_primaria,NotasTercerT = nota)"
   ]
  },
  {
   "cell_type": "code",
   "execution_count": null,
   "id": "2fe9664c-8f9d-401d-9c07-ee6b6a89c492",
   "metadata": {},
   "outputs": [],
   "source": [
    "aux <- merge(x = PrimerT_primaria, y = SegundoT_primaria, by = c(\"Documento\", \"asignatura\"))\n",
    "auxiliar <- merge(x = aux, y = TercerT_primaria, by = c(\"Documento\", \"asignatura\"))"
   ]
  },
  {
   "cell_type": "code",
   "execution_count": null,
   "id": "42c5b055-3292-4569-9cea-c54c663bc313",
   "metadata": {},
   "outputs": [],
   "source": [
    "Notas_Victoria_primaria <- select(auxiliar, 'CodigoUnicoEscolar', 'departamento', 'localidad', 'EsPrivada', 'turno' , 'curso' , 'periodoEvaluatorio' , 'Documento', 'asignatura','idalumno', 'observaciones', 'idSubOrganizacion', 'idDivision', 'NivelEnseñanza', 'orden','Nivel', 'esMultiaño', 'IdModEnseñanza', 'Modalidad', 'ModEnseñanza', 'año','NotasPrimerT','NotasSegundoT', 'NotasTercerT')"
   ]
  },
  {
   "cell_type": "code",
   "execution_count": null,
   "id": "b43e5949-d68e-4731-8c23-06e9f605e30e",
   "metadata": {
    "scrolled": true
   },
   "outputs": [],
   "source": [
    "Notas_Victoria_primaria$Promedio <-round ((as.numeric(Notas_Victoria_primaria$NotasPrimerT)+as.numeric(Notas_Victoria_primaria$NotasSegundoT)+as.numeric(Notas_Victoria_primaria$NotasTercerT))/3,2)\n",
    "head(Notas_Victoria_primaria)"
   ]
  },
  {
   "cell_type": "code",
   "execution_count": null,
   "id": "d02406f5-c342-4d92-83d5-24647d0819e5",
   "metadata": {},
   "outputs": [],
   "source": [
    "xd <- filter(Notas_Victoria_primaria, NotasTercerT < 6)\n",
    "xd"
   ]
  },
  {
   "cell_type": "code",
   "execution_count": null,
   "id": "a8ee8167-f48b-4e07-81e3-4319325ffe6c",
   "metadata": {
    "scrolled": true
   },
   "outputs": [],
   "source": [
    "Notas_Victoria_primaria <- Notas_Victoria_primaria %>% \n",
    "  mutate(Condición = case_when(\n",
    "    Promedio >= 6 & NotasTercerT >= 6 ~ \"Aprobado\", \n",
    "    Promedio < 6 | NotasTercerT < 6 ~ \"Rinde\",      \n",
    "    TRUE ~ \"sin registro completo\"                    \n",
    "  ))\n",
    "\n",
    "head(Notas_Victoria_primaria)"
   ]
  },
  {
   "cell_type": "code",
   "execution_count": null,
   "id": "33ae1e6d-565b-410d-9b8d-c916109dd5c8",
   "metadata": {
    "scrolled": true
   },
   "outputs": [],
   "source": [
    "table(Notas_Victoria_primaria$asignatura)\n",
    "head(Notas_Victoria_primaria$asignatura,10)\n",
    "Notas_Victoria_primaria$asignatura <- toupper(Notas_Victoria_primaria$asignatura)\n",
    "head(Notas_Victoria_primaria$asignatura,10)"
   ]
  },
  {
   "cell_type": "code",
   "execution_count": null,
   "id": "0ef377a6-ff52-4ef0-b4ae-acff8e4de93d",
   "metadata": {},
   "outputs": [],
   "source": [
    "Notas_Victoria_primaria$asignatura <- gsub(\"MATEMÁTICA|ACOMPAÑAMIENTO AL ESTUDIO MATEMÁTICA\", \"MATEMATICA\", Notas_Victoria_primaria$asignatura)\n",
    "Notas_Victoria_primaria$asignatura <- gsub(\"LITERATURA|ACOMPAÑAMIENTO AL ESTUDIO LENGUA\", \"LENGUA\", Notas_Victoria_primaria$asignatura)\n",
    "Notas_Victoria_primaria$asignatura <- gsub(\"ACOMPAÑAMIENTO AL ESTUDIO SOCIALES\", \"CIENCIAS SOCIALES\", Notas_Victoria_primaria$asignatura)\n",
    "Notas_Victoria_primaria$asignatura <- gsub(\"ACOMPAÑAMIENTO AL ESTUDIO NATURALES|TALLER VIDA EN LA NATURALEZA\", \"CIENCIAS NATURALES\", Notas_Victoria_primaria$asignatura)\n",
    "Notas_Victoria_primaria$asignatura <- gsub(\"TALLER DE ARTES VISUALES|TALLER DE LENGUAJE DE LAS ARTES VISUALES\", \"ARTES VISUALES\", Notas_Victoria_primaria$asignatura)\n",
    "Notas_Victoria_primaria$asignatura <- gsub(\"TALLER DE DEPORTE|DEPORTE\", \"EDUCACION FISICA\", Notas_Victoria_primaria$asignatura)\n",
    "Notas_Victoria_primaria$asignatura <- gsub(\"E.D.I.\", \"EDI\", Notas_Victoria_primaria$asignatura)\n",
    "Notas_Victoria_primaria$asignatura <- gsub(\"TALLER DE MUSICA|TALLER DE FOLKLORE\", \"EDUCACION MUSICAL\", Notas_Victoria_primaria$asignatura)\n",
    "Notas_Victoria_primaria$asignatura <- gsub(\"TALLER DE TIC|TALLER DE TIC Y RECREACIÓN DE LA IMAGEN|TALLER TIC|TICS\", \"TIC\", Notas_Victoria_primaria$asignatura)\n",
    "Notas_Victoria_primaria$asignatura <- gsub(\"IDIOMA EXTRANJERO|INGLÉS|TALLER DE INGLES|TALLER DE INGLÉS|TALLER DE LENGUA EXTRANJERA|INGLEs|TALLER INGLES|TALLER LENGUA EXTRANJERA (INGLES)\", \"INGLES\", Notas_Victoria_primaria$asignatura)\n",
    "Notas_Victoria_primaria$asignatura <- gsub(\"TALLER DE TEATRO|TALLER TEATRO\", \"TALLER  DE TEATRO\", Notas_Victoria_primaria$asignatura)\n",
    "Notas_Victoria_primaria$asignatura <- gsub(\"INFORMÁTICA\", \"INFORMATICA\", Notas_Victoria_primaria$asignatura)\n",
    "Notas_Victoria_primaria$asignatura <- gsub(\"TALLER LABORATORIO\", \"TALLER DE LABORATORIO\", Notas_Victoria_primaria$asignatura)\n",
    "Notas_Victoria_primaria$asignatura <- gsub(\"AC.EN LENGUA Y CS. SOCIALES|T/A ESTUDIO (LENGUA-CS SOCIALES)|TALLER ACOMPAÑAMIENTO LENGUA Y CIENCIAS SOCIALES\", \"TALLER DE CS. SOCIALES Y LENGUA\", Notas_Victoria_primaria$asignatura)\n",
    "Notas_Victoria_primaria$asignatura <- gsub(\"AC.EN MATEMÁTICA Y CS. NATURALES|T/A ESTUDIO (MATEMATICA-CS NATURALES)|TALLER ACOMPAÑAMIENTO  MATEMÁTICA Y CS. NATURALES\", \"TALLER DE CS. NATURALES Y MATEMATICA\", Notas_Victoria_primaria$asignatura)"
   ]
  },
  {
   "cell_type": "code",
   "execution_count": null,
   "id": "6fb5bf30-0f85-486a-856f-ef126d783ef7",
   "metadata": {
    "scrolled": true
   },
   "outputs": [],
   "source": [
    "table(Notas_Victoria_primaria$curso)\n",
    "Notas_Victoria_primaria <- Notas_Victoria_primaria[Notas_Victoria_primaria$curso != \"1-6 - A Prim\", ]\n",
    "table(Notas_Victoria_primaria$curso)"
   ]
  },
  {
   "cell_type": "code",
   "execution_count": null,
   "id": "924f6af6-5491-44c3-8b2e-6d026045e1d3",
   "metadata": {},
   "outputs": [],
   "source": [
    "Notas_Victoria_primaria <- Notas_Victoria_primaria[Notas_Victoria_primaria$Condición != \"sin registro completo\", ]"
   ]
  },
  {
   "cell_type": "code",
   "execution_count": null,
   "id": "1afaad17-a0bb-4c61-8cd7-532578797902",
   "metadata": {},
   "outputs": [],
   "source": [
    "Notas_Victoria_primaria$curso <- as.character(Notas_Victoria_primaria$curso)\n",
    "Notas_Victoria_primaria$Año_curso <- str_sub(Notas_Victoria_primaria$curso,1, 1)\n",
    "print(head(Notas_Victoria_primaria$Año_curso),2)\n",
    "table(Notas_Victoria_primaria$Año_curso)"
   ]
  },
  {
   "cell_type": "code",
   "execution_count": null,
   "id": "aacb5b8b-7edf-46d0-bc50-1bec74ff389d",
   "metadata": {},
   "outputs": [],
   "source": [
    "Notas_Victoria_primaria$Año_curso <- str_replace(Notas_Victoria_primaria$Año_curso, \"1\" , \"PRIMERO\")\n",
    "Notas_Victoria_primaria$Año_curso <- str_replace(Notas_Victoria_primaria$Año_curso, \"2\" , \"SEGUNDO\")\n",
    "Notas_Victoria_primaria$Año_curso <- str_replace(Notas_Victoria_primaria$Año_curso, \"3\" , \"TERCERO\")\n",
    "Notas_Victoria_primaria$Año_curso <- str_replace(Notas_Victoria_primaria$Año_curso, \"4\" , \"CUARTO\")\n",
    "Notas_Victoria_primaria$Año_curso <- str_replace(Notas_Victoria_primaria$Año_curso, \"5\" , \"QUINTO\")\n",
    "Notas_Victoria_primaria$Año_curso <- str_replace(Notas_Victoria_primaria$Año_curso, \"6\" , \"SEXTO\")"
   ]
  },
  {
   "cell_type": "code",
   "execution_count": null,
   "id": "07d7e601-e9bb-4ba4-837a-1b524b2616bc",
   "metadata": {
    "scrolled": true
   },
   "outputs": [],
   "source": [
    "Notas_Victoria_1Grado <- distinct(filter(Notas_Victoria_primaria, Año_curso == \"PRIMERO\"))\n",
    "math <- Notas_Victoria_1Grado %>% group_by(CodigoUnicoEscolar,asignatura) %>%  filter(asignatura==\"MATEMATICA\")\n",
    "math\n",
    "tabla1 <- Notas_Victoria_1Grado %>% group_by(asignatura) %>%  summarise(conteo=n())\n",
    "tabla1"
   ]
  },
  {
   "cell_type": "code",
   "execution_count": null,
   "id": "0fcb44e3-b24f-415f-84e3-e51b007e3dd6",
   "metadata": {
    "scrolled": true
   },
   "outputs": [],
   "source": [
    "Notas_Victoria_2Grado <- distinct(filter(Notas_Victoria_primaria, Año_curso == \"SEGUNDO\"))\n",
    "math <- Notas_Victoria_2Grado %>% group_by(CodigoUnicoEscolar,asignatura) %>%  filter(asignatura==\"MATEMATICA\")\n",
    "math\n",
    "tabla2 <- Notas_Victoria_2Grado %>% group_by(asignatura) %>%  summarise(conteo=n())\n",
    "tabla2"
   ]
  },
  {
   "cell_type": "code",
   "execution_count": null,
   "id": "5551c688-9848-46a0-ab14-e88a8f85b96c",
   "metadata": {
    "scrolled": true
   },
   "outputs": [],
   "source": [
    "Notas_Victoria_3Grado <- distinct(filter(Notas_Victoria_primaria, Año_curso == \"TERCERO\"))\n",
    "math <- Notas_Victoria_3Grado %>% group_by(CodigoUnicoEscolar,asignatura) %>%  filter(asignatura==\"MATEMATICA\")\n",
    "math\n",
    "tabla3 <- Notas_Victoria_3Grado %>% group_by(asignatura) %>%  summarise(conteo=n())\n",
    "tabla3"
   ]
  },
  {
   "cell_type": "code",
   "execution_count": null,
   "id": "bbcdc867-7362-4569-8057-73753c080518",
   "metadata": {
    "scrolled": true
   },
   "outputs": [],
   "source": [
    "Notas_Victoria_4Grado <- distinct(filter(Notas_Victoria_primaria, Año_curso == \"CUARTO\"))\n",
    "math <- Notas_Victoria_4Grado %>% group_by(CodigoUnicoEscolar,asignatura) %>%  filter(asignatura==\"MATEMATICA\")\n",
    "math\n",
    "tabla4 <- Notas_Victoria_4Grado %>% group_by(asignatura) %>%  summarise(conteo=n())\n",
    "tabla4"
   ]
  },
  {
   "cell_type": "code",
   "execution_count": null,
   "id": "5ed69fe4-10d7-496c-889f-d521e33d51e1",
   "metadata": {
    "scrolled": true
   },
   "outputs": [],
   "source": [
    "Notas_Victoria_5Grado <- distinct(filter(Notas_Victoria_primaria, Año_curso == \"QUINTO\"))\n",
    "math <- Notas_Victoria_5Grado %>% group_by(CodigoUnicoEscolar,asignatura) %>%  filter(asignatura==\"MATEMATICA\")\n",
    "math\n",
    "tabla5 <- Notas_Victoria_5Grado %>% group_by(asignatura) %>%  summarise(conteo=n())\n",
    "tabla5"
   ]
  },
  {
   "cell_type": "code",
   "execution_count": null,
   "id": "360d01f1-1aff-4b65-b442-59bf96b914f9",
   "metadata": {
    "scrolled": true
   },
   "outputs": [],
   "source": [
    "Notas_Victoria_6Grado <- distinct(filter(Notas_Victoria_primaria, Año_curso == \"SEXTO\"))\n",
    "math <- Notas_Victoria_6Grado %>% group_by(CodigoUnicoEscolar,asignatura) %>%  filter(asignatura==\"MATEMATICA\")\n",
    "math\n",
    "tabla6 <- Notas_Victoria_6Grado %>% group_by(asignatura) %>%  summarise(conteo=n())\n",
    "tabla6"
   ]
  },
  {
   "cell_type": "code",
   "execution_count": null,
   "id": "65c572c4-3757-4f56-82d4-7934b20095f7",
   "metadata": {},
   "outputs": [],
   "source": [
    "dim(Notas_Victoria_primaria)"
   ]
  },
  {
   "cell_type": "code",
   "execution_count": null,
   "id": "6159791b-d59e-450d-beb4-0d917be7ba7a",
   "metadata": {},
   "outputs": [],
   "source": [
    "write_xlsx(Notas_Victoria_primaria, \"C:/Users/ayrto/OneDrive/Escritorio/Exploración de Datos Multivariados/Trabajo Practico/VICTORIA_BASE_PRIMARIA_LIMPIA.xlsx\")"
   ]
  },
  {
   "cell_type": "code",
   "execution_count": null,
   "id": "65c93cb9-789f-4cd9-9262-75bd3d1ee8d0",
   "metadata": {},
   "outputs": [],
   "source": []
  },
  {
   "cell_type": "code",
   "execution_count": null,
   "id": "40fc57fb-b639-4e28-97c7-443903f67a84",
   "metadata": {},
   "outputs": [],
   "source": [
    "PrimerT_secundaria <- filter(Victoria_secundaria, periodoEvaluatorio == \"Primer Trimestre\")\n",
    "PrimerT_secundaria <- rename(PrimerT_secundaria,NotasPrimerT = nota)\n",
    "SegundoT_secundaria <- filter(Victoria_secundaria, periodoEvaluatorio == \"Segundo Trimestre\")\n",
    "SegundoT_secundaria <- rename(SegundoT_secundaria,NotasSegundoT = nota)\n",
    "TercerT_secundaria <- filter(Victoria_secundaria, periodoEvaluatorio == \"Tercer Trimestre\")\n",
    "TercerT_secundaria <- rename(TercerT_secundaria,NotasTercerT = nota)"
   ]
  },
  {
   "cell_type": "code",
   "execution_count": null,
   "id": "b79f6394-b929-4a5a-bc03-b5a40b8bdcea",
   "metadata": {},
   "outputs": [],
   "source": [
    "aux2 <- merge(x = PrimerT_secundaria, y = SegundoT_secundaria, by = c(\"Documento\", \"asignatura\"))\n",
    "auxiliar2 <- merge(x = aux2, y = TercerT_secundaria, by = c(\"Documento\", \"asignatura\"))"
   ]
  },
  {
   "cell_type": "code",
   "execution_count": null,
   "id": "b04eff97-082e-4d48-bb22-b48755f32127",
   "metadata": {},
   "outputs": [],
   "source": [
    "Notas_Victoria_secundaria <- select(auxiliar2, 'CodigoUnicoEscolar', 'departamento', 'localidad', 'EsPrivada', 'turno' , 'curso' , 'periodoEvaluatorio' , 'Documento', 'asignatura','idalumno', 'observaciones', 'idSubOrganizacion', 'idDivision', 'NivelEnseñanza', 'orden','Nivel', 'esMultiaño', 'IdModEnseñanza', 'Modalidad', 'ModEnseñanza', 'año','NotasPrimerT','NotasSegundoT', 'NotasTercerT')"
   ]
  },
  {
   "cell_type": "code",
   "execution_count": null,
   "id": "272ea036-d1ef-4d63-8ff7-e31349b01971",
   "metadata": {
    "scrolled": true
   },
   "outputs": [],
   "source": [
    "Notas_Victoria_secundaria$Promedio <-round ((as.numeric(Notas_Victoria_secundaria$NotasPrimerT)+as.numeric(Notas_Victoria_secundaria$NotasSegundoT)+as.numeric(Notas_Victoria_secundaria$NotasTercerT))/3,2)\n",
    "head(Notas_Victoria_secundaria)"
   ]
  },
  {
   "cell_type": "code",
   "execution_count": null,
   "id": "bfc48e0a-f8a9-4478-8262-989501e1d032",
   "metadata": {
    "scrolled": true
   },
   "outputs": [],
   "source": [
    "Notas_Victoria_secundaria <- Notas_Victoria_secundaria %>% mutate(Condición = case_when(\n",
    "  Promedio >= 6 ~ \"Aprobado\",\n",
    "  Promedio <=6  ~ \"Rinde\",\n",
    "   TRUE~ \"sin registro completo\"))\n",
    "head(Notas_Victoria_secundaria)"
   ]
  },
  {
   "cell_type": "code",
   "execution_count": null,
   "id": "d90c6beb-9fd7-436b-b9ba-3bf7a6e9ba01",
   "metadata": {
    "scrolled": true
   },
   "outputs": [],
   "source": [
    "table(Notas_Victoria_secundaria$asignatura)\n",
    "head(Notas_Victoria_secundaria$asignatura,10)\n",
    "Notas_Victoria_secundaria$asignatura <- toupper(Notas_Victoria_secundaria$asignatura)\n",
    "head(Notas_Victoria_secundaria$asignatura,10)"
   ]
  },
  {
   "cell_type": "code",
   "execution_count": null,
   "id": "154929b5-d700-443c-8c89-e34c72368164",
   "metadata": {},
   "outputs": [],
   "source": [
    "Notas_Victoria_secundaria$asignatura <- str_replace_all(Notas_Victoria_secundaria$asignatura, \".*BIOLOGIA.*\", \"BIOLOGIA\")\n",
    "Notas_Victoria_secundaria$asignatura <- str_replace_all(Notas_Victoria_secundaria$asignatura, \".*MATEMATICA*\", \"MATEMATICA\")\n",
    "Notas_Victoria_secundaria$asignatura <- str_replace_all(Notas_Victoria_secundaria$asignatura, \".*LENGUA*\", \"LENGUA\")\n",
    "Notas_Victoria_secundaria$asignatura <- str_replace_all(Notas_Victoria_secundaria$asignatura, \".*EXTRANJERA*\", \"INGLES\")\n",
    "Notas_Victoria_secundaria$asignatura <- str_replace_all(Notas_Victoria_secundaria$asignatura, \".*GEOGRAFIA.*\", \"GEOGRAFIA\")\n",
    "Notas_Victoria_secundaria$asignatura <- str_replace_all(Notas_Victoria_secundaria$asignatura, \".*HISTORIA*\", \"HISTORIA\")\n",
    "Notas_Victoria_secundaria$asignatura <- str_replace_all(Notas_Victoria_secundaria$asignatura, \".*BIOLOGIA.*\", \"BIOLOGIA\")\n",
    "Notas_Victoria_secundaria$asignatura <- str_replace_all(Notas_Victoria_secundaria$asignatura, \".*ETICA*\", \"ETICA\")\n",
    "Notas_Victoria_secundaria$asignatura <- str_replace_all(Notas_Victoria_secundaria$asignatura, \".*MUSICA*\", \"MUSICA\")\n",
    "Notas_Victoria_secundaria$asignatura <- str_replace_all(Notas_Victoria_secundaria$asignatura, \".*ETICA*\", \"ETICA\")\n",
    "Notas_Victoria_secundaria$asignatura <- str_replace_all(Notas_Victoria_secundaria$asignatura, \".*FILOSOFIA*\", \"FILOSOFIA\")\n",
    "Notas_Victoria_secundaria$asignatura <- str_replace_all(Notas_Victoria_secundaria$asignatura, \".*ECONOMIA*\", \"ECONOMIA\")\n",
    "Notas_Victoria_secundaria$asignatura <- str_replace_all(Notas_Victoria_secundaria$asignatura, \".*FISICO QUIMICA*\", \"FISICA Y QUIMICA\")\n",
    "Notas_Victoria_secundaria$asignatura <- gsub(\"AUTO C.A.D\", \"C.A.D\", Notas_Victoria_secundaria$asignatura)\n",
    "Notas_Victoria_secundaria$asignatura <- gsub(\"DERECHO COMERCIAL\", \"DERECHO\", Notas_Victoria_secundaria$asignatura)\n",
    "Notas_Victoria_secundaria$asignatura <- gsub(\"CEREALES Y OLEAGINOSAS|MARCO JURIDICO DE LOS CIENCIAS AGROPECUARIAS |PRODUCCION HORTICOLA|PRODUCCION DE PLANTAS EN VIVERO |PRODUCCION DE FORRAJES|PRODUCCION DE CERDOS|PRODUCCION DE CAPRINOS|PRODUCCION BOVINO PARA CARNE|PROCESOS PRODUCTIVOS|INSTALACIONES AGROPECUARIAS|CIENCIAS NATURALES APLICADAS A PRO. AGROPECUARIOS|INDUSTRIA DE PROD. LACTEOS DE BOVINO O CAPRINO|INDUSTRIA CARNE PORCINA\", \"CIENCIAS AGROPECUARIAS\", Notas_Victoria_secundaria$asignatura)\n",
    "Notas_Victoria_secundaria$asignatura <- gsub(\"CIENCIAS NATURALES (FISICO QUIMICA)|FISICO Y QUIMICA)|CIENCIAS NATURALES FISICO-QUIMICA|FISICA Y QUIMICA|ESPACIO DE LA ORIENTACION EN CIENCIAS NATURALES (FISICO QUIMICA)\", \"FISICO Y QUIMICA\", Notas_Victoria_secundaria$asignatura)\n",
    "Notas_Victoria_secundaria$asignatura <- gsub(\"CIRCUITOS TURISTICOS I Y II|MARKETING TURISTICO|INTRODUCCION AL TURISMO|EMPRESAS TURISTICAS|INFRAESTRUCTURA TURISTICA Y TURISMO TERMAL II|INFRAESTRUCTURA TURISTICA Y TURISMO TERMAL I|INFRAESTRUCTURA TURISTICA Y TURISMO TERMAL|CIRCUITOS TURISTICOS II|DESARROLLO DE LOCALIDADES TURISTICAS\", \"TURISMO\", Notas_Victoria_secundaria$asignatura)\n",
    "Notas_Victoria_secundaria$asignatura <- gsub(\"ECONOMIA II\", \"ECONOMIA\", Notas_Victoria_secundaria$asignatura)\n",
    "Notas_Victoria_secundaria$asignatura <- gsub(\"ETICA Y CIUDADANA|ETICAS CONTEMPORANEAS I\", \"ETICA\", Notas_Victoria_secundaria$asignatura)\n",
    "Notas_Victoria_secundaria$asignatura <- gsub(\"FILOSOFIA II\", \"FILOSOFIA\", Notas_Victoria_secundaria$asignatura)\n",
    "Notas_Victoria_secundaria$asignatura <- gsub(\"FISICA APLICADA|TRABAJOS PRACTICOS DE FISICA APLICADA\", \"FISICA\", Notas_Victoria_secundaria$asignatura)\n",
    "Notas_Victoria_secundaria$asignatura <- gsub(\"FRANCÉS\", \"FRANCES\", Notas_Victoria_secundaria$asignatura)\n",
    "Notas_Victoria_secundaria$asignatura <- gsub(\"INGLES (INGLES)|INGLES (INGLES)|INGLESS\", \"INGLES\", Notas_Victoria_secundaria$asignatura)\n",
    "Notas_Victoria_secundaria$asignatura <- gsub(\"PORTUGUÉS\", \"PORTUGUES\", Notas_Victoria_secundaria$asignatura)\n",
    "Notas_Victoria_secundaria$asignatura <- gsub(\"QUIMICA ANALITICA CUALITATIVA|QUIMICA APLICADA|TRABAJOS PRACTICOS DE QUIMICA ORGANICA II|TRABAJOS PRACTICOS DE QUIMICA ORGANICA |TRABAJOS PRACTICOS DE QUIMICA INORGANICA |TRABAJOS PRACTICOS DE QUIMICA INDUSTRIAL APLICADA |TRABAJOS PRACTICOS DE QUIMICA INDUSTRIAL|TRABAJOS PRACTICOS DE QUIMICA GENERAL|TRABAJOS PRACTICOS DE QUIMICA ANALITICA CUANTIT.|TRABAJOS PRACTICOS DE PROC. Y OPERACIONES QUIMICAS|TRABAJOS PRACTICOS DE PROC. Y OPERACIONES QUIMICAS|QUIMICA ANALITICA CUANTITATIVA|QUIMICA GENERAL|QUIMICA INORGANICA|QUIMICA ORGANICA II|TALLER MODULAR QUIMICA\", \"QUIMICA\", Notas_Victoria_secundaria$asignatura)\n",
    "Notas_Victoria_secundaria$asignatura <- gsub(\"TECNOLOGIA I|TECNOLOGIA II|TECNOLOGIA III|EDUCACION TECNOLOGICA\", \"TECNOLOGIA\", Notas_Victoria_secundaria$asignatura)\n",
    "Notas_Victoria_secundaria$asignatura <- gsub(\"TUTORIAS DISCIPLINARES\", \"TUTORIAS\", Notas_Victoria_secundaria$asignatura)\n",
    "Notas_Victoria_secundaria$asignatura <- gsub(\"GESTION DE LA PRODUCCION ARTISTICA\", \"ARTES VISUALES\", Notas_Victoria_secundaria$asignatura)\n",
    "Notas_Victoria_secundaria$asignatura <- gsub(\"HISTORIA)\", \"HISTORIA\", Notas_Victoria_secundaria$asignatura)\n",
    "Notas_Victoria_secundaria$asignatura <- gsub(\"MATEMATICA|MATEMATICAO\", \"MATEMATICA\", Notas_Victoria_secundaria$asignatura)\n",
    "Notas_Victoria_secundaria$asignatura <- gsub(\"LENGUA Y LITERATURA|LITERATURA ARGENTINA|LITERATURA LATINOAMERICANA\", \"LENGUA Y LITERATURA\", Notas_Victoria_secundaria$asignatura)\n",
    "Notas_Victoria_secundaria$asignatura <- gsub(\"INGLES\\\\s*\\\\(INGLES\\\\)\", \"INGLES\", Notas_Victoria_secundaria$asignatura)"
   ]
  },
  {
   "cell_type": "code",
   "execution_count": null,
   "id": "90a60ae4-681d-456d-a93b-77489857e68f",
   "metadata": {
    "scrolled": true
   },
   "outputs": [],
   "source": [
    "table(Notas_Victoria_secundaria$asignatura)"
   ]
  },
  {
   "cell_type": "code",
   "execution_count": null,
   "id": "d2ee9252-b149-48a7-b646-1fc9d2557778",
   "metadata": {
    "scrolled": true
   },
   "outputs": [],
   "source": [
    "table(Notas_Victoria_secundaria$curso)\n",
    "Notas_Victoria_secundaria <- Notas_Victoria_secundaria[Notas_Victoria_secundaria$curso != \"CN - RURAL CNR\", ]\n",
    "table(Notas_Victoria_secundaria$curso)"
   ]
  },
  {
   "cell_type": "code",
   "execution_count": null,
   "id": "3f686998-179b-43e8-9836-6ceb8be8cb94",
   "metadata": {},
   "outputs": [],
   "source": [
    "Notas_Victoria_secundaria <- Notas_Victoria_secundaria[Notas_Victoria_secundaria$Condición != \"sin registro completo\", ]"
   ]
  },
  {
   "cell_type": "code",
   "execution_count": null,
   "id": "5c371ced-212c-4563-a417-046feaabe35b",
   "metadata": {},
   "outputs": [],
   "source": [
    "Notas_Victoria_secundaria$curso <- as.character(Notas_Victoria_secundaria$curso)\n",
    "Notas_Victoria_secundaria$Año_curso <- str_sub(Notas_Victoria_secundaria$curso,1, 1)\n",
    "print(head(Notas_Victoria_secundaria$Año_curso),2)\n",
    "table(Notas_Victoria_secundaria$Año_curso)"
   ]
  },
  {
   "cell_type": "code",
   "execution_count": null,
   "id": "3a29a39b-af48-4992-8a79-1847a0cd2049",
   "metadata": {},
   "outputs": [],
   "source": [
    "Notas_Victoria_secundaria$Año_curso <- str_replace(Notas_Victoria_secundaria$Año_curso, \"1\" , \"PRIMERO\")\n",
    "Notas_Victoria_secundaria$Año_curso <- str_replace(Notas_Victoria_secundaria$Año_curso, \"2\" , \"SEGUNDO\")\n",
    "Notas_Victoria_secundaria$Año_curso <- str_replace(Notas_Victoria_secundaria$Año_curso, \"3\" , \"TERCERO\")\n",
    "Notas_Victoria_secundaria$Año_curso <- str_replace(Notas_Victoria_secundaria$Año_curso, \"4\" , \"CUARTO\")\n",
    "Notas_Victoria_secundaria$Año_curso <- str_replace(Notas_Victoria_secundaria$Año_curso, \"5\" , \"QUINTO\")\n",
    "Notas_Victoria_secundaria$Año_curso <- str_replace(Notas_Victoria_secundaria$Año_curso, \"6\" , \"SEXTO\")\n",
    "Notas_Victoria_secundaria$Año_curso <- str_replace(Notas_Victoria_secundaria$Año_curso, \"7\" , \"SEPTIMO\")"
   ]
  },
  {
   "cell_type": "code",
   "execution_count": null,
   "id": "65093e28-cb96-469a-a54f-708305b8ad02",
   "metadata": {
    "scrolled": true
   },
   "outputs": [],
   "source": [
    "Notas_Victoria_1Año <- distinct(filter(Notas_Victoria_secundaria, Año_curso == \"PRIMERO\"))\n",
    "math <- Notas_Victoria_1Año %>% group_by(CodigoUnicoEscolar,asignatura) %>%  filter(asignatura==\"MATEMATICA\")\n",
    "math\n",
    "tabla1 <- Notas_Victoria_1Año %>% group_by(asignatura) %>%  summarise(conteo=n())\n",
    "tabla1"
   ]
  },
  {
   "cell_type": "code",
   "execution_count": null,
   "id": "02747ae9-afbe-4bc7-a724-9a31340b2df1",
   "metadata": {},
   "outputs": [],
   "source": [
    "Notas_Victoria_2Año <- distinct(filter(Notas_Victoria_secundaria, Año_curso == \"SEGUNDO\"))\n",
    "math <- Notas_Victoria_2Año %>% group_by(CodigoUnicoEscolar,asignatura) %>%  filter(asignatura==\"MATEMATICA\")\n",
    "math\n",
    "tabla1 <- Notas_Victoria_2Año %>% group_by(asignatura) %>%  summarise(conteo=n())\n",
    "tabla1"
   ]
  },
  {
   "cell_type": "code",
   "execution_count": null,
   "id": "0946a975-370f-465c-8d09-8dc7d3f908d8",
   "metadata": {},
   "outputs": [],
   "source": [
    "Notas_Victoria_3Año <- distinct(filter(Notas_Victoria_secundaria, Año_curso == \"TERCERO\"))\n",
    "math <- Notas_Victoria_3Año %>% group_by(CodigoUnicoEscolar,asignatura) %>%  filter(asignatura==\"MATEMATICA\")\n",
    "math\n",
    "tabla1 <- Notas_Victoria_3Año %>% group_by(asignatura) %>%  summarise(conteo=n())\n",
    "tabla1"
   ]
  },
  {
   "cell_type": "code",
   "execution_count": null,
   "id": "63643d8f-2761-4aa8-97a1-d95458de6768",
   "metadata": {},
   "outputs": [],
   "source": [
    "Notas_Victoria_4Año <- distinct(filter(Notas_Victoria_secundaria, Año_curso == \"CUARTO\"))\n",
    "math <- Notas_Victoria_4Año %>% group_by(CodigoUnicoEscolar,asignatura) %>%  filter(asignatura==\"MATEMATICA\")\n",
    "math\n",
    "tabla1 <- Notas_Victoria_4Año %>% group_by(asignatura) %>%  summarise(conteo=n())\n",
    "tabla1"
   ]
  },
  {
   "cell_type": "code",
   "execution_count": null,
   "id": "8056a600-1131-42f4-95f9-09a40406d555",
   "metadata": {},
   "outputs": [],
   "source": [
    "Notas_Victoria_5Año <- distinct(filter(Notas_Victoria_secundaria, Año_curso == \"QUINTO\"))\n",
    "math <- Notas_Victoria_5Año %>% group_by(CodigoUnicoEscolar,asignatura) %>%  filter(asignatura==\"MATEMATICA\")\n",
    "math\n",
    "tabla1 <- Notas_Victoria_5Año %>% group_by(asignatura) %>%  summarise(conteo=n())\n",
    "tabla1"
   ]
  },
  {
   "cell_type": "code",
   "execution_count": null,
   "id": "91c551f3-f118-43ca-a68b-e24b56723712",
   "metadata": {
    "scrolled": true
   },
   "outputs": [],
   "source": [
    "Notas_Victoria_6Año <- distinct(filter(Notas_Victoria_secundaria, Año_curso == \"SEXTO\"))\n",
    "math <- Notas_Victoria_6Año %>% group_by(CodigoUnicoEscolar,asignatura) %>%  filter(asignatura==\"MATEMATICA\")\n",
    "math\n",
    "tabla1 <- Notas_Victoria_6Año %>% group_by(asignatura) %>%  summarise(conteo=n())\n",
    "tabla1"
   ]
  },
  {
   "cell_type": "code",
   "execution_count": null,
   "id": "319ebec0-a78b-403a-a172-07e023aab75b",
   "metadata": {
    "scrolled": true
   },
   "outputs": [],
   "source": [
    "Notas_Victoria_7Año <- distinct(filter(Notas_Victoria_secundaria, Año_curso == \"SEPTIMO\"))\n",
    "math <- Notas_Victoria_7Año %>% group_by(CodigoUnicoEscolar,asignatura) %>%  filter(asignatura==\"MATEMATICA\")\n",
    "math\n",
    "tabla1 <- Notas_Victoria_7Año %>% group_by(asignatura) %>%  summarise(conteo=n())\n",
    "tabla1"
   ]
  },
  {
   "cell_type": "code",
   "execution_count": null,
   "id": "c31cf357-e143-4d48-a44b-6a47dfb75115",
   "metadata": {},
   "outputs": [],
   "source": [
    "dim(Notas_Victoria_secundaria)"
   ]
  },
  {
   "cell_type": "code",
   "execution_count": null,
   "id": "e4355dbb-4c5f-4427-ae95-d14ca5c1229e",
   "metadata": {},
   "outputs": [],
   "source": [
    "write_xlsx(Notas_Victoria_secundaria, \"C:/Users/ayrto/OneDrive/Escritorio/Exploración de Datos Multivariados/Trabajo Practico/VICTORIA_BASE_SECUNDARIA_LIMPIA.xlsx\")"
   ]
  }
 ],
 "metadata": {
  "kernelspec": {
   "display_name": "R",
   "language": "R",
   "name": "ir"
  },
  "language_info": {
   "codemirror_mode": "r",
   "file_extension": ".r",
   "mimetype": "text/x-r-source",
   "name": "R",
   "pygments_lexer": "r",
   "version": "4.1.3"
  }
 },
 "nbformat": 4,
 "nbformat_minor": 5
}
