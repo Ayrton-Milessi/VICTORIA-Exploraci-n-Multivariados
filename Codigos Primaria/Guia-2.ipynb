{
 "cells": [
  {
   "cell_type": "code",
   "execution_count": null,
   "id": "c76d39de-99af-49b4-b705-79b42e93d440",
   "metadata": {},
   "outputs": [],
   "source": [
    "#leemos las librerias\n",
    "library(readxl)\n",
    "library(dplyr)\n",
    "library(stringr)\n",
    "library(fdth)\n",
    "library(\"moments\")"
   ]
  },
  {
   "cell_type": "code",
   "execution_count": null,
   "id": "602c9c6a-e810-4df6-ba16-eacd7618f61d",
   "metadata": {},
   "outputs": [],
   "source": [
    "#funcion para poder sacar la moda\n",
    "Mode <- function(x) {\n",
    "  ux <- unique(x)\n",
    "  ux[which.max(tabulate(match(x, ux)))]\n",
    "}"
   ]
  },
  {
   "cell_type": "code",
   "execution_count": null,
   "id": "e75e9a6f-8d96-4c01-aefb-bf48b5cae87d",
   "metadata": {},
   "outputs": [],
   "source": [
    "#cargamos el archivo con la primera etapa de limpieza\n",
    "Victoria_primaria <- read_excel (\"C:/Users/ayrto/OneDrive/Escritorio/Exploración de Datos Multivariados/1 - Trabajo Practico/VICTORIA_BASE_PRIMARIA_LIMPIA.xlsx\") \n",
    "Victoria_secundaria <- read_excel(\"C:/Users/ayrto/OneDrive/Escritorio/Exploración de Datos Multivariados/1 - Trabajo Practico/VICTORIA_BASE_SECUNDARIA_LIMPIA.xlsx\")"
   ]
  },
  {
   "cell_type": "code",
   "execution_count": null,
   "id": "80e64e84-7e33-4305-83a1-b8c9542a5743",
   "metadata": {},
   "outputs": [],
   "source": [
    "names(Victoria_primaria) #mostramos las variables guardadas anteriormente\n",
    "#seleccionames las que creemos esenciales\n",
    "Victoria_primaria <- dplyr::select(Victoria_primaria,'CodigoUnicoEscolar','departamento','EsPrivada','turno','Año_curso','periodoEvaluatorio','Documento','asignatura','idalumno','observaciones','idSubOrganizacion','idDivision','NivelEnseñanza','orden','Nivel','esMultiaño','IdModEnseñanza','Modalidad','ModEnseñanza','NotasPrimerT','NotasSegundoT','NotasTercerT','Promedio','Condición')"
   ]
  },
  {
   "cell_type": "code",
   "execution_count": null,
   "id": "5ea8c8f2-fe58-4561-968a-bcca47eddfd2",
   "metadata": {
    "scrolled": true
   },
   "outputs": [],
   "source": [
    "#verificamos las variables y aplicamos otro filtro\n",
    "names(Victoria_secundaria)\n",
    "Victoria_secundaria <- dplyr::select(Victoria_secundaria,'CodigoUnicoEscolar','departamento','EsPrivada','turno','Año_curso','periodoEvaluatorio','Documento','asignatura','idalumno','observaciones','idSubOrganizacion','idDivision','NivelEnseñanza','orden','Nivel','esMultiaño','IdModEnseñanza','Modalidad','ModEnseñanza','NotasPrimerT','NotasSegundoT','NotasTercerT','Promedio','Condición')"
   ]
  },
  {
   "cell_type": "code",
   "execution_count": null,
   "id": "b13a0abd-8dba-4e7b-a8cb-7330337ba61a",
   "metadata": {
    "scrolled": true
   },
   "outputs": [],
   "source": [
    "table(Victoria_primaria$asignatura)#veemos si todas las materias fueron bien modificadas"
   ]
  },
  {
   "cell_type": "code",
   "execution_count": null,
   "id": "3fd043b6-fdc6-4db2-b4cd-b5e422bca39c",
   "metadata": {
    "scrolled": true
   },
   "outputs": [],
   "source": [
    "#ante una incorrecta modificacion, planteamos modificarlas antes de pasar a procesar los datos\n",
    "Victoria_primaria$asignatura <- str_replace_all(Victoria_primaria$asignatura, \"INGLES.*\", \"INGLES\")\n",
    "table(Victoria_primaria$asignatura)"
   ]
  },
  {
   "cell_type": "code",
   "execution_count": null,
   "id": "673c397d-f7a6-4c7a-ac66-471a233e43b3",
   "metadata": {
    "scrolled": true
   },
   "outputs": [],
   "source": [
    "table(Victoria_secundaria$asignatura) #veemos si todas las materias fueron bien modificadas"
   ]
  },
  {
   "cell_type": "code",
   "execution_count": null,
   "id": "6d470e81-e5d9-4667-8883-b18f9cf0f5d0",
   "metadata": {
    "scrolled": true
   },
   "outputs": [],
   "source": [
    "#ante una incorrecta modificacion, planteamos modificarlas antes de pasar a procesar los datos\n",
    "Victoria_secundaria$asignatura <- gsub(\"FISICO Y QUIMICA)\", \"FISICO Y QUIMICA\", Victoria_secundaria$asignatura)\n",
    "Victoria_secundaria$asignatura <- gsub(\"MATEMATICA APLICADA\", \"MATEMATICA\", Victoria_secundaria$asignatura)\n",
    "table(Victoria_secundaria$asignatura)"
   ]
  },
  {
   "cell_type": "code",
   "execution_count": null,
   "id": "ce63cfdb-c53c-4cd1-9354-3e6b3c9340fb",
   "metadata": {},
   "outputs": [],
   "source": [
    "Victoria <- rbind(Victoria_primaria, Victoria_secundaria) #juntamos los archivos por si los necesitamos unidos"
   ]
  },
  {
   "cell_type": "code",
   "execution_count": null,
   "id": "e024b2da-1182-4e90-b30f-031402b3d829",
   "metadata": {
    "scrolled": true
   },
   "outputs": [],
   "source": [
    "Fa <- table(Victoria$NivelEnseñanza)\n",
    "Fr <- prop.table(Fa)\n",
    "fip <- prop.table(Fa)*100\n",
    "FA <- cumsum(Fa)\n",
    "FR <- cumsum(Fr)\n",
    "tabla_frecuencias_nivel <- round(cbind(Fa, Fr, fip,FA, FR),2)\n",
    "print(\"Tabla de frecuencias de niveles\")\n",
    "tabla_frecuencias_nivel"
   ]
  },
  {
   "cell_type": "code",
   "execution_count": null,
   "id": "78a202e4-d4d0-47cd-bc31-be44926b8fb4",
   "metadata": {
    "scrolled": true
   },
   "outputs": [],
   "source": [
    "Fa <- table(Victoria$turno)\n",
    "Fr <- prop.table(Fa)\n",
    "fip <- prop.table(Fa)*100\n",
    "FA <- cumsum(Fa)\n",
    "FR <- cumsum(Fr)\n",
    "tabla_frecuencias_turno <- round(cbind(Fa, Fr, fip,FA, FR),3)\n",
    "tabla_frecuencias_turno #tabla de frecuencias de turnos\n",
    "\n",
    "Fa <- table(Victoria_primaria$turno)\n",
    "Fr <- prop.table(Fa)\n",
    "fip <- prop.table(Fa)*100\n",
    "FA <- cumsum(Fa)\n",
    "FR <- cumsum(Fr)\n",
    "tabla_frecuencias_turno_p <- round(cbind(Fa, Fr, fip,FA, FR),3)\n",
    "tabla_frecuencias_turno_p #tabla de frecuencias de turnos nivel primario\n",
    "\n",
    "Fa <- table(Victoria_secundaria$turno)\n",
    "Fr <- prop.table(Fa)\n",
    "fip <- prop.table(Fa)*100\n",
    "FA <- cumsum(Fa)\n",
    "FR <- cumsum(Fr)\n",
    "tabla_frecuencias_turno_s <- round(cbind(Fa, Fr, fip,FA, FR),3)\n",
    "tabla_frecuencias_turno_s #tabla de frecuencias de turnos nivel secundario"
   ]
  },
  {
   "cell_type": "code",
   "execution_count": null,
   "id": "a881d1a2-9b17-4127-b31f-e8f247d86abb",
   "metadata": {
    "scrolled": true
   },
   "outputs": [],
   "source": [
    "Fa <- table(Victoria_primaria$EsPrivada)\n",
    "Fr <- prop.table(Fa)\n",
    "fip <- prop.table(Fa)*100\n",
    "FA <- cumsum(Fa)\n",
    "FR <- cumsum(Fr)\n",
    "tabla_frecuencias_sector_p <- round(cbind(Fa, Fr, fip,FA, FR),2)\n",
    "tabla_frecuencias_sector_p #tabla de frecuencias de gestion nivel primario\n",
    "\n",
    "Fa <- table(Victoria_secundaria$EsPrivada)\n",
    "Fr <- prop.table(Fa)\n",
    "fip <- prop.table(Fa)*100\n",
    "FA <- cumsum(Fa)\n",
    "FR <- cumsum(Fr)\n",
    "tabla_frecuencias_sector_s <- round(cbind(Fa, Fr, fip,FA, FR),2)\n",
    "tabla_frecuencias_sector_s #tabla de frecuencias de gestion nivel secundario"
   ]
  },
  {
   "cell_type": "code",
   "execution_count": null,
   "id": "8590e665-06a7-49d2-87c4-e7fdd2ac2cc6",
   "metadata": {
    "scrolled": true
   },
   "outputs": [],
   "source": [
    "Fa <- table(Victoria_primaria$Año_curso)\n",
    "Fr <- prop.table(Fa)\n",
    "fip <- prop.table(Fa)*100\n",
    "FA <- cumsum(Fa)\n",
    "FR <- cumsum(Fr)\n",
    "tabla_frecuencias_cursos_p <- round(cbind(Fa, Fr, fip,FA, FR),2)\n",
    "tabla_frecuencias_cursos_p #tabla de frecuencias de cursos nivel primario\n",
    "\n",
    "Fa <- table(Victoria_secundaria$Año_curso)\n",
    "Fr <- prop.table(Fa)\n",
    "fip <- prop.table(Fa)*100\n",
    "FA <- cumsum(Fa)\n",
    "FR <- cumsum(Fr)\n",
    "tabla_frecuencias_cursos_s <- round(cbind(Fa, Fr, fip,FA, FR),2)\n",
    "tabla_frecuencias_cursos_s #tabla de frecuencias de cursos nivel secundario"
   ]
  },
  {
   "cell_type": "code",
   "execution_count": null,
   "id": "c1c040d7-adff-4503-a21e-a520b0dc6b69",
   "metadata": {
    "scrolled": true
   },
   "outputs": [],
   "source": [
    "Fa <- table(Victoria_primaria$ModEnseñanza)\n",
    "Fr <- prop.table(Fa)\n",
    "fip <- prop.table(Fa)*100\n",
    "FA <- cumsum(Fa)\n",
    "FR <- cumsum(Fr)\n",
    "tabla_frecuencias_modEnseñanza_p <- round(cbind(Fa, Fr, fip,FA, FR),2)\n",
    "tabla_frecuencias_modEnseñanza_p #tabla de frecuencias de modos de enseñanza nivel primario\n",
    "\n",
    "Fa <- table(Victoria_secundaria$ModEnseñanza)\n",
    "Fr <- prop.table(Fa)\n",
    "fip <- prop.table(Fa)*100\n",
    "FA <- cumsum(Fa)\n",
    "FR <- cumsum(Fr)\n",
    "tabla_frecuencias_modEnseñanza_s <- round(cbind(Fa, Fr, fip,FA, FR),2)\n",
    "tabla_frecuencias_modEnseñanza_s #tabla de frecuencias de modos de enseñanza nivel secundario"
   ]
  },
  {
   "cell_type": "code",
   "execution_count": null,
   "id": "f79d8f08-6578-4b4d-be89-2ecf585cbb4a",
   "metadata": {
    "scrolled": true
   },
   "outputs": [],
   "source": [
    "Fa <- table(Victoria_primaria$Condición)\n",
    "Fr <- prop.table(Fa)\n",
    "fip <- prop.table(Fa)*100\n",
    "FA <- cumsum(Fa)\n",
    "FR <- cumsum(Fr)\n",
    "tabla_frecuencias_condicion_p <- round(cbind(Fa, Fr, fip,FA, FR),2)\n",
    "tabla_frecuencias_condicion_p #tabla de frecuencias de condicion final nivel primario\n",
    "\n",
    "Fa <- table(Victoria_secundaria$Condición)\n",
    "Fr <- prop.table(Fa)\n",
    "fip <- prop.table(Fa)*100\n",
    "FA <- cumsum(Fa)\n",
    "FR <- cumsum(Fr)\n",
    "tabla_frecuencias_condicion_s <- round(cbind(Fa, Fr, fip,FA, FR),2)\n",
    "tabla_frecuencias_condicion_s #tabla de frecuencias de condicion final nivel secundario"
   ]
  },
  {
   "cell_type": "code",
   "execution_count": null,
   "id": "79188c2c-7fc5-420a-a5e5-79d7cae6cab4",
   "metadata": {},
   "outputs": [],
   "source": [
    "#segmentamos la base por nivel, año y seleccionamos las materias troncales\n",
    "Victoria_primaria_primero <- dplyr::select(filter(Victoria_primaria, Año_curso == \"PRIMERO\" & (asignatura == \"LENGUA\" | asignatura == \"MATEMATICA\"))       \n",
    "                                             , CodigoUnicoEscolar, asignatura, Promedio, departamento, Documento) %>%\n",
    "  distinct()\n",
    "\n",
    "Victoria_primaria_segundo <- dplyr::select(filter(Victoria_primaria, Año_curso == \"SEGUNDO\" & (asignatura == \"LENGUA\" | asignatura == \"MATEMATICA\"))       \n",
    "                                             , CodigoUnicoEscolar, asignatura, Promedio, departamento, Documento) %>%\n",
    "  distinct()\n",
    "\n",
    "Victoria_primaria_tercero <- dplyr::select(filter(Victoria_primaria, Año_curso == \"TERCERO\" & (asignatura == \"LENGUA\" | asignatura == \"MATEMATICA\"))       \n",
    "                                             , CodigoUnicoEscolar, asignatura, Promedio, departamento, Documento) %>%\n",
    "  distinct()\n",
    "\n",
    "Victoria_primaria_cuarto <- dplyr::select(filter(Victoria_primaria, Año_curso == \"CUARTO\" & (asignatura == \"LENGUA\" | asignatura == \"MATEMATICA\"))       \n",
    "                                             , CodigoUnicoEscolar, asignatura, Promedio, departamento, Documento) %>%\n",
    "  distinct()\n",
    "\n",
    "Victoria_primaria_quinto <- dplyr::select(filter(Victoria_primaria, Año_curso == \"QUINTO\" & (asignatura == \"LENGUA\" | asignatura == \"MATEMATICA\"))       \n",
    "                                             , CodigoUnicoEscolar, asignatura, Promedio, departamento, Documento) %>%\n",
    "  distinct()\n",
    "\n",
    "Victoria_primaria_sexto <- dplyr::select(filter(Victoria_primaria, Año_curso == \"SEXTO\" & (asignatura == \"LENGUA\" | asignatura == \"MATEMATICA\"))       \n",
    "                                             , CodigoUnicoEscolar, asignatura, Promedio, departamento, Documento) %>%\n",
    "  distinct()\n",
    "\n",
    "Victoria_primaria_septimo <- dplyr::select(filter(Victoria_primaria, Año_curso == \"SEPTIMO\" & (asignatura == \"LENGUA\" | asignatura == \"MATEMATICA\"))       \n",
    "                                             , CodigoUnicoEscolar, asignatura, Promedio, departamento, Documento) %>%\n",
    "  distinct()"
   ]
  },
  {
   "cell_type": "code",
   "execution_count": null,
   "id": "c324ae34-3e8a-4e71-918c-74654b421adb",
   "metadata": {},
   "outputs": [],
   "source": [
    "#segmentamos la base por nivel, año y seleccionamos las materias troncales\n",
    "Victoria_secundaria_primero <- dplyr::select(filter(Victoria_secundaria, Año_curso == \"PRIMERO\" & (asignatura == \"LENGUA Y LITERATURA\" | asignatura == \"MATEMATICA\"))       \n",
    "                                             , CodigoUnicoEscolar, asignatura, Promedio, departamento, Documento) %>%\n",
    "  distinct()\n",
    "\n",
    "Victoria_secundaria_segundo <- dplyr::select(filter(Victoria_secundaria, Año_curso == \"SEGUNDO\" & (asignatura == \"LENGUA Y LITERATURA\" | asignatura == \"MATEMATICA\"))       \n",
    "                                             , CodigoUnicoEscolar, asignatura, Promedio, departamento, Documento) %>%\n",
    "  distinct()\n",
    "\n",
    "Victoria_secundaria_tercero <- dplyr::select(filter(Victoria_secundaria, Año_curso == \"TERCERO\" & (asignatura == \"LENGUA Y LITERATURA\" | asignatura == \"MATEMATICA\"))       \n",
    "                                             , CodigoUnicoEscolar, asignatura, Promedio, departamento, Documento) %>%\n",
    "  distinct()\n",
    "\n",
    "Victoria_secundaria_cuarto <- dplyr::select(filter(Victoria_secundaria, Año_curso == \"CUARTO\" & (asignatura == \"LENGUA Y LITERATURA\" | asignatura == \"MATEMATICA\"))       \n",
    "                                             , CodigoUnicoEscolar, asignatura, Promedio, departamento, Documento) %>%\n",
    "  distinct()\n",
    "\n",
    "Victoria_secundaria_quinto <- dplyr::select(filter(Victoria_secundaria, Año_curso == \"QUINTO\" & (asignatura == \"LENGUA Y LITERATURA\" | asignatura == \"MATEMATICA\"))       \n",
    "                                             , CodigoUnicoEscolar, asignatura, Promedio, departamento, Documento) %>%\n",
    "  distinct()\n",
    "\n",
    "Victoria_secundaria_sexto <- dplyr::select(filter(Victoria_secundaria, Año_curso == \"SEXTO\" & (asignatura == \"LENGUA Y LITERATURA\" | asignatura == \"MATEMATICA\"))       \n",
    "                                             , CodigoUnicoEscolar, asignatura, Promedio, departamento, Documento) %>%\n",
    "  distinct()\n",
    "\n",
    "Victoria_secundaria_septimo <- dplyr::select(filter(Victoria_secundaria, Año_curso == \"SEPTIMO\" & (asignatura == \"CIENCIAS AGROPECUARIAS\" | asignatura == \"MATEMATICA\"))       \n",
    "                                             , CodigoUnicoEscolar, asignatura, Promedio, departamento, Documento) %>%\n",
    "  distinct()"
   ]
  },
  {
   "cell_type": "code",
   "execution_count": null,
   "id": "e87ec755-c34d-4d70-ae9f-05e0bda02aef",
   "metadata": {},
   "outputs": [],
   "source": [
    "Frec_Prom_mat1 <- fdt(filter(Victoria_primaria_primero,asignatura==\"MATEMATICA\")$Promedio ,breaks=\"Sturges\",na.rm=TRUE) # calcula la distribución de frecuencias utilizando la regla Sturge\n",
    "Frec_Prom_mat1 #nos brinda una tabla con los calculos de la distribución de frecuencias. breaks=c('Sturges', 'Scott', 'FD')\n",
    "\n",
    "Frec_Prom_len1 <- fdt(filter(Victoria_primaria_primero,asignatura== \"LENGUA\")$Promedio, breaks=\"Sturges\", na.rm=TRUE)\n",
    "Frec_Prom_len1"
   ]
  },
  {
   "cell_type": "code",
   "execution_count": null,
   "id": "56673175-047c-49cd-be66-720eda3b9672",
   "metadata": {},
   "outputs": [],
   "source": [
    "Frec_Prom_mat2 <- fdt(filter(Victoria_primaria_segundo,asignatura==\"MATEMATICA\")$Promedio ,breaks=\"Sturges\",na.rm=TRUE) \n",
    "Frec_Prom_mat2\n",
    "\n",
    "Frec_Prom_len2 <- fdt(filter(Victoria_primaria_segundo,asignatura== \"LENGUA\")$Promedio, breaks=\"Sturges\", na.rm=TRUE)\n",
    "Frec_Prom_len2"
   ]
  },
  {
   "cell_type": "code",
   "execution_count": null,
   "id": "eec8d289-7378-4a06-b3ee-ee0179deb296",
   "metadata": {},
   "outputs": [],
   "source": [
    "Frec_Prom_mat3 <- fdt(filter(Victoria_primaria_tercero,asignatura==\"MATEMATICA\")$Promedio ,breaks=\"Sturges\",na.rm=TRUE)\n",
    "Frec_Prom_mat3\n",
    "\n",
    "Frec_Prom_len3 <- fdt(filter(Victoria_primaria_tercero,asignatura== \"LENGUA\")$Promedio, breaks=\"Sturges\", na.rm=TRUE)\n",
    "Frec_Prom_len3"
   ]
  },
  {
   "cell_type": "code",
   "execution_count": null,
   "id": "69f4d2f0-2e71-4b8f-a6ac-1df6fb69276b",
   "metadata": {},
   "outputs": [],
   "source": [
    "Frec_Prom_mat4 <- fdt(filter(Victoria_primaria_cuarto,asignatura==\"MATEMATICA\")$Promedio ,breaks=\"Sturges\",na.rm=TRUE)\n",
    "Frec_Prom_mat4\n",
    "\n",
    "Frec_Prom_len4 <- fdt(filter(Victoria_primaria_cuarto,asignatura== \"LENGUA\")$Promedio, breaks=\"Sturges\", na.rm=TRUE)\n",
    "Frec_Prom_len4"
   ]
  },
  {
   "cell_type": "code",
   "execution_count": null,
   "id": "e99435ff-a9c6-461b-81d1-5927bc091410",
   "metadata": {},
   "outputs": [],
   "source": [
    "Frec_Prom_mat5 <- fdt(filter(Victoria_primaria_quinto,asignatura==\"MATEMATICA\")$Promedio ,breaks=\"Sturges\",na.rm=TRUE)\n",
    "Frec_Prom_mat5\n",
    "\n",
    "Frec_Prom_len5 <- fdt(filter(Victoria_primaria_quinto,asignatura== \"LENGUA\")$Promedio, breaks=\"Sturges\", na.rm=TRUE)\n",
    "Frec_Prom_len5"
   ]
  },
  {
   "cell_type": "code",
   "execution_count": null,
   "id": "46065d4a-9f13-433c-9c1e-19a66ebe00a2",
   "metadata": {},
   "outputs": [],
   "source": [
    "Frec_Prom_mat6 <- fdt(filter(Victoria_primaria_sexto,asignatura==\"MATEMATICA\")$Promedio ,breaks=\"Sturges\",na.rm=TRUE)\n",
    "Frec_Prom_mat6\n",
    "\n",
    "Frec_Prom_len6 <- fdt(filter(Victoria_primaria_sexto,asignatura== \"LENGUA\")$Promedio, breaks=\"Sturges\", na.rm=TRUE)\n",
    "Frec_Prom_len6"
   ]
  },
  {
   "cell_type": "code",
   "execution_count": null,
   "id": "50218b7d-0f7e-489e-9771-760b1f777321",
   "metadata": {},
   "outputs": [],
   "source": [
    "Frec_Prom_mat11 <- fdt(filter(Victoria_secundaria_primero,asignatura==\"MATEMATICA\")$Promedio ,breaks=\"Sturges\",na.rm=TRUE)\n",
    "Frec_Prom_mat11\n",
    "\n",
    "Frec_Prom_len11 <- fdt(filter(Victoria_secundaria_primero,asignatura==\"LENGUA Y LITERATURA\")$Promedio ,breaks=\"Sturges\",na.rm=TRUE)\n",
    "Frec_Prom_len11"
   ]
  },
  {
   "cell_type": "code",
   "execution_count": null,
   "id": "861e0232-0d45-4e27-89b2-ad6fe6eac57a",
   "metadata": {},
   "outputs": [],
   "source": [
    "Frec_Prom_mat22 <- fdt(filter(Victoria_secundaria_segundo,asignatura==\"MATEMATICA\")$Promedio ,breaks=\"Sturges\",na.rm=TRUE)\n",
    "Frec_Prom_mat22\n",
    "\n",
    "Frec_Prom_len22 <- fdt(filter(Victoria_secundaria_segundo,asignatura==\"LENGUA Y LITERATURA\")$Promedio ,breaks=\"Sturges\",na.rm=TRUE)\n",
    "Frec_Prom_len22"
   ]
  },
  {
   "cell_type": "code",
   "execution_count": null,
   "id": "57b0f50a-4a53-4480-a435-353fe06ecd3a",
   "metadata": {},
   "outputs": [],
   "source": [
    "Frec_Prom_mat33 <- fdt(filter(Victoria_secundaria_tercero,asignatura==\"MATEMATICA\")$Promedio ,breaks=\"Sturges\",na.rm=TRUE)\n",
    "Frec_Prom_mat33\n",
    "\n",
    "Frec_Prom_len33 <- fdt(filter(Victoria_secundaria_tercero,asignatura==\"LENGUA Y LITERATURA\")$Promedio ,breaks=\"Sturges\",na.rm=TRUE)\n",
    "Frec_Prom_len33"
   ]
  },
  {
   "cell_type": "code",
   "execution_count": null,
   "id": "d1bb4593-6796-4003-bb2e-081e9a8a090e",
   "metadata": {},
   "outputs": [],
   "source": [
    "Frec_Prom_mat44 <- fdt(filter(Victoria_secundaria_cuarto,asignatura==\"MATEMATICA\")$Promedio ,breaks=\"Sturges\",na.rm=TRUE)\n",
    "Frec_Prom_mat44\n",
    "\n",
    "Frec_Prom_len44 <- fdt(filter(Victoria_secundaria_cuarto,asignatura==\"LENGUA Y LITERATURA\")$Promedio ,breaks=\"Sturges\",na.rm=TRUE)\n",
    "Frec_Prom_len44"
   ]
  },
  {
   "cell_type": "code",
   "execution_count": null,
   "id": "c68e9685-89eb-4653-b5e5-bb391e34360f",
   "metadata": {},
   "outputs": [],
   "source": [
    "Frec_Prom_mat55 <- fdt(filter(Victoria_secundaria_quinto,asignatura==\"MATEMATICA\")$Promedio ,breaks=\"Sturges\",na.rm=TRUE)\n",
    "Frec_Prom_mat55\n",
    "\n",
    "Frec_Prom_len55 <- fdt(filter(Victoria_secundaria_quinto,asignatura==\"LENGUA Y LITERATURA\")$Promedio ,breaks=\"Sturges\",na.rm=TRUE)\n",
    "Frec_Prom_len55"
   ]
  },
  {
   "cell_type": "code",
   "execution_count": null,
   "id": "bdad3d96-c63b-4492-86d8-e659abd4678a",
   "metadata": {},
   "outputs": [],
   "source": [
    "Frec_Prom_mat66 <- fdt(filter(Victoria_secundaria_sexto,asignatura==\"MATEMATICA\")$Promedio ,breaks=\"Sturges\",na.rm=TRUE)\n",
    "Frec_Prom_mat66\n",
    "\n",
    "Frec_Prom_len66 <- fdt(filter(Victoria_secundaria_sexto,asignatura==\"LENGUA Y LITERATURA\")$Promedio ,breaks=\"Sturges\",na.rm=TRUE)\n",
    "Frec_Prom_len66"
   ]
  },
  {
   "cell_type": "code",
   "execution_count": null,
   "id": "046c2f8f-593f-41ef-b83a-5e5efcd27ba5",
   "metadata": {},
   "outputs": [],
   "source": [
    "Frec_Prom_mat77 <- fdt(filter(Victoria_secundaria_septimo,asignatura==\"MATEMATICA\")$Promedio ,breaks=\"Sturges\",na.rm=TRUE)\n",
    "Frec_Prom_mat77\n",
    "\n",
    "Frec_Prom_agro77 <- fdt(filter(Victoria_secundaria_septimo,asignatura==\"CIENCIAS AGROPECUARIAS\")$Promedio ,breaks=\"Sturges\",na.rm=TRUE)\n",
    "Frec_Prom_agro77"
   ]
  },
  {
   "cell_type": "code",
   "execution_count": null,
   "id": "33780571-e79f-4b23-a0ca-694b60ccca61",
   "metadata": {},
   "outputs": [],
   "source": [
    "Victoria_primaria_primero %>%\n",
    "  group_by(asignatura) %>%\n",
    "  summarise(Conteo = n(),\n",
    "            Media = round(mean(Promedio, na.rm = TRUE), 2),\n",
    "            Varianza = round(var(Promedio, na.rm = TRUE), 2),\n",
    "            Desvio = round(sd(Promedio, na.rm = TRUE), 2),\n",
    "            Minimo = round(min(Promedio, na.rm = TRUE), 2),\n",
    "            Maximo = round(max(Promedio, na.rm = TRUE), 2),\n",
    "            IQR = round(IQR(Promedio, na.rm = TRUE), 2),\n",
    "            Rango = Maximo - Minimo,\n",
    "            Mediana = round(median(Promedio, na.rm = TRUE), 2),\n",
    "            Moda = Mode(Promedio),\n",
    "            Q1 = round(quantile(Promedio, 0.25, na.rm = TRUE), 2),\n",
    "            Q3 = round(quantile(Promedio, 0.75, na.rm = TRUE), 2),\n",
    "            Sup. = round((Q3 + 1.5 * IQR), 2),\n",
    "            Inf. = round((Q1 - 1.5 * IQR), 2),\n",
    "            CV = round(sd(Promedio, na.rm = TRUE) / mean(Promedio, na.rm = TRUE) * 100, 2))"
   ]
  },
  {
   "cell_type": "code",
   "execution_count": null,
   "id": "1deefc74-c141-4081-84e4-66911fa98a4b",
   "metadata": {},
   "outputs": [],
   "source": [
    "Victoria_primaria_segundo %>%\n",
    "  group_by(asignatura) %>%\n",
    "  summarise(Conteo = n(),\n",
    "            Media = round(mean(Promedio, na.rm = TRUE), 2),\n",
    "            Varianza = round(var(Promedio, na.rm = TRUE), 2),\n",
    "            Desvio = round(sd(Promedio, na.rm = TRUE), 2),\n",
    "            Minimo = round(min(Promedio, na.rm = TRUE), 2),\n",
    "            Maximo = round(max(Promedio, na.rm = TRUE), 2),\n",
    "            IQR = round(IQR(Promedio, na.rm = TRUE), 2),\n",
    "            Rango = Maximo - Minimo,\n",
    "            Mediana = round(median(Promedio, na.rm = TRUE), 2),\n",
    "            Moda = Mode(Promedio),\n",
    "            Q1 = round(quantile(Promedio, 0.25, na.rm = TRUE), 2),\n",
    "            Q3 = round(quantile(Promedio, 0.75, na.rm = TRUE), 2),\n",
    "            Sup. = round((Q3 + 1.5 * IQR), 2),\n",
    "            Inf. = round((Q1 - 1.5 * IQR), 2),\n",
    "            CV = round(sd(Promedio, na.rm = TRUE) / mean(Promedio, na.rm = TRUE) * 100, 2))"
   ]
  },
  {
   "cell_type": "code",
   "execution_count": null,
   "id": "fe1ad559-a6a3-4448-ad68-546805e2246d",
   "metadata": {},
   "outputs": [],
   "source": [
    "Victoria_primaria_tercero %>%\n",
    "  group_by(asignatura) %>%\n",
    "  summarise(Conteo = n(),\n",
    "            Media = round(mean(Promedio, na.rm = TRUE), 2),\n",
    "            Varianza = round(var(Promedio, na.rm = TRUE), 2),\n",
    "            Desvio = round(sd(Promedio, na.rm = TRUE), 2),\n",
    "            Minimo = round(min(Promedio, na.rm = TRUE), 2),\n",
    "            Maximo = round(max(Promedio, na.rm = TRUE), 2),\n",
    "            IQR = round(IQR(Promedio, na.rm = TRUE), 2),\n",
    "            Rango = Maximo - Minimo,\n",
    "            Mediana = round(median(Promedio, na.rm = TRUE), 2),\n",
    "            Moda = Mode(Promedio),\n",
    "            Q1 = round(quantile(Promedio, 0.25, na.rm = TRUE), 2),\n",
    "            Q3 = round(quantile(Promedio, 0.75, na.rm = TRUE), 2),\n",
    "            Sup. = round((Q3 + 1.5 * IQR), 2),\n",
    "            Inf. = round((Q1 - 1.5 * IQR), 2),\n",
    "            CV = round(sd(Promedio, na.rm = TRUE) / mean(Promedio, na.rm = TRUE) * 100, 2))"
   ]
  },
  {
   "cell_type": "code",
   "execution_count": null,
   "id": "869bf131-4ac5-4256-a39d-17e884ee9d16",
   "metadata": {},
   "outputs": [],
   "source": [
    "Victoria_primaria_cuarto %>%\n",
    "  group_by(asignatura) %>%\n",
    "  summarise(Conteo = n(),\n",
    "            Media = round(mean(Promedio, na.rm = TRUE), 2),\n",
    "            Varianza = round(var(Promedio, na.rm = TRUE), 2),\n",
    "            Desvio = round(sd(Promedio, na.rm = TRUE), 2),\n",
    "            Minimo = round(min(Promedio, na.rm = TRUE), 2),\n",
    "            Maximo = round(max(Promedio, na.rm = TRUE), 2),\n",
    "            IQR = round(IQR(Promedio, na.rm = TRUE), 2),\n",
    "            Rango = Maximo - Minimo,\n",
    "            Mediana = round(median(Promedio, na.rm = TRUE), 2),\n",
    "            Moda = Mode(Promedio),\n",
    "            Q1 = round(quantile(Promedio, 0.25, na.rm = TRUE), 2),\n",
    "            Q3 = round(quantile(Promedio, 0.75, na.rm = TRUE), 2),\n",
    "            Sup. = round((Q3 + 1.5 * IQR), 2),\n",
    "            Inf. = round((Q1 - 1.5 * IQR), 2),\n",
    "            CV = round(sd(Promedio, na.rm = TRUE) / mean(Promedio, na.rm = TRUE) * 100, 2))"
   ]
  },
  {
   "cell_type": "code",
   "execution_count": null,
   "id": "e6713604-8177-4496-a259-0ecbff1606a5",
   "metadata": {},
   "outputs": [],
   "source": [
    "Victoria_primaria_quinto %>%\n",
    "  group_by(asignatura) %>%\n",
    "  summarise(Conteo = n(),\n",
    "            Media = round(mean(Promedio, na.rm = TRUE), 2),\n",
    "            Varianza = round(var(Promedio, na.rm = TRUE), 2),\n",
    "            Desvio = round(sd(Promedio, na.rm = TRUE), 2),\n",
    "            Minimo = round(min(Promedio, na.rm = TRUE), 2),\n",
    "            Maximo = round(max(Promedio, na.rm = TRUE), 2),\n",
    "            IQR = round(IQR(Promedio, na.rm = TRUE), 2),\n",
    "            Rango = Maximo - Minimo,\n",
    "            Mediana = round(median(Promedio, na.rm = TRUE), 2),\n",
    "            Moda = Mode(Promedio),\n",
    "            Q1 = round(quantile(Promedio, 0.25, na.rm = TRUE), 2),\n",
    "            Q3 = round(quantile(Promedio, 0.75, na.rm = TRUE), 2),\n",
    "            Sup. = round((Q3 + 1.5 * IQR), 2),\n",
    "            Inf. = round((Q1 - 1.5 * IQR), 2),\n",
    "            CV = round(sd(Promedio, na.rm = TRUE) / mean(Promedio, na.rm = TRUE) * 100, 2))"
   ]
  },
  {
   "cell_type": "code",
   "execution_count": null,
   "id": "e2f9595d-c385-4db2-94f3-57dd44d1f29d",
   "metadata": {},
   "outputs": [],
   "source": [
    "Victoria_primaria_sexto %>%\n",
    "  group_by(asignatura) %>%\n",
    "  summarise(Conteo = n(),\n",
    "            Media = round(mean(Promedio, na.rm = TRUE), 2),\n",
    "            Varianza = round(var(Promedio, na.rm = TRUE), 2),\n",
    "            Desvio = round(sd(Promedio, na.rm = TRUE), 2),\n",
    "            Minimo = round(min(Promedio, na.rm = TRUE), 2),\n",
    "            Maximo = round(max(Promedio, na.rm = TRUE), 2),\n",
    "            IQR = round(IQR(Promedio, na.rm = TRUE), 2),\n",
    "            Rango = Maximo - Minimo,\n",
    "            Mediana = round(median(Promedio, na.rm = TRUE), 2),\n",
    "            Moda = Mode(Promedio),\n",
    "            Q1 = round(quantile(Promedio, 0.25, na.rm = TRUE), 2),\n",
    "            Q3 = round(quantile(Promedio, 0.75, na.rm = TRUE), 2),\n",
    "            Sup. = round((Q3 + 1.5 * IQR), 2),\n",
    "            Inf. = round((Q1 - 1.5 * IQR), 2),\n",
    "            CV = round(sd(Promedio, na.rm = TRUE) / mean(Promedio, na.rm = TRUE) * 100, 2))"
   ]
  },
  {
   "cell_type": "code",
   "execution_count": null,
   "id": "617461b7-0d1c-4d7f-a0f6-1b476bf36763",
   "metadata": {},
   "outputs": [],
   "source": [
    "Victoria_secundaria_primero %>%\n",
    "  group_by(asignatura) %>%\n",
    "  summarise(Conteo = n(),\n",
    "            Media = round(mean(Promedio, na.rm = TRUE), 2),\n",
    "            Varianza = round(var(Promedio, na.rm = TRUE), 2),\n",
    "            Desvio = round(sd(Promedio, na.rm = TRUE), 2),\n",
    "            Minimo = round(min(Promedio, na.rm = TRUE), 2),\n",
    "            Maximo = round(max(Promedio, na.rm = TRUE), 2),\n",
    "            IQR = round(IQR(Promedio, na.rm = TRUE), 2),\n",
    "            Rango = Maximo - Minimo,\n",
    "            Mediana = round(median(Promedio, na.rm = TRUE), 2),\n",
    "            Moda = Mode(Promedio),\n",
    "            Q1 = round(quantile(Promedio, 0.25, na.rm = TRUE), 2),\n",
    "            Q3 = round(quantile(Promedio, 0.75, na.rm = TRUE), 2),\n",
    "            Sup. = round((Q3 + 1.5 * IQR), 2),\n",
    "            Inf. = round((Q1 - 1.5 * IQR), 2),\n",
    "            CV = round(sd(Promedio, na.rm = TRUE) / mean(Promedio, na.rm = TRUE) * 100, 2))"
   ]
  },
  {
   "cell_type": "code",
   "execution_count": null,
   "id": "61dcb3aa-35cf-4cea-8b1f-d08d4e82323c",
   "metadata": {},
   "outputs": [],
   "source": [
    "Victoria_secundaria_segundo %>%\n",
    "  group_by(asignatura) %>%\n",
    "  summarise(Conteo = n(),\n",
    "            Media = round(mean(Promedio, na.rm = TRUE), 2),\n",
    "            Varianza = round(var(Promedio, na.rm = TRUE), 2),\n",
    "            Desvio = round(sd(Promedio, na.rm = TRUE), 2),\n",
    "            Minimo = round(min(Promedio, na.rm = TRUE), 2),\n",
    "            Maximo = round(max(Promedio, na.rm = TRUE), 2),\n",
    "            IQR = round(IQR(Promedio, na.rm = TRUE), 2),\n",
    "            Rango = Maximo - Minimo,\n",
    "            Mediana = round(median(Promedio, na.rm = TRUE), 2),\n",
    "            Moda = Mode(Promedio),\n",
    "            Q1 = round(quantile(Promedio, 0.25, na.rm = TRUE), 2),\n",
    "            Q3 = round(quantile(Promedio, 0.75, na.rm = TRUE), 2),\n",
    "            Sup. = round((Q3 + 1.5 * IQR), 2),\n",
    "            Inf. = round((Q1 - 1.5 * IQR), 2),\n",
    "            CV = round(sd(Promedio, na.rm = TRUE) / mean(Promedio, na.rm = TRUE) * 100, 2))"
   ]
  },
  {
   "cell_type": "code",
   "execution_count": null,
   "id": "134375e8-152e-4787-ad96-0f0057e68ae2",
   "metadata": {},
   "outputs": [],
   "source": [
    "Victoria_secundaria_tercero %>%\n",
    "  group_by(asignatura) %>%\n",
    "  summarise(Conteo = n(),\n",
    "            Media = round(mean(Promedio, na.rm = TRUE), 2),\n",
    "            Varianza = round(var(Promedio, na.rm = TRUE), 2),\n",
    "            Desvio = round(sd(Promedio, na.rm = TRUE), 2),\n",
    "            Minimo = round(min(Promedio, na.rm = TRUE), 2),\n",
    "            Maximo = round(max(Promedio, na.rm = TRUE), 2),\n",
    "            IQR = round(IQR(Promedio, na.rm = TRUE), 2),\n",
    "            Rango = Maximo - Minimo,\n",
    "            Mediana = round(median(Promedio, na.rm = TRUE), 2),\n",
    "            Moda = Mode(Promedio),\n",
    "            Q1 = round(quantile(Promedio, 0.25, na.rm = TRUE), 2),\n",
    "            Q3 = round(quantile(Promedio, 0.75, na.rm = TRUE), 2),\n",
    "            Sup. = round((Q3 + 1.5 * IQR), 2),\n",
    "            Inf. = round((Q1 - 1.5 * IQR), 2),\n",
    "            CV = round(sd(Promedio, na.rm = TRUE) / mean(Promedio, na.rm = TRUE) * 100, 2))"
   ]
  },
  {
   "cell_type": "code",
   "execution_count": null,
   "id": "13cbf28c-03d6-419b-8009-87ae2411109a",
   "metadata": {},
   "outputs": [],
   "source": [
    "Victoria_secundaria_cuarto %>%\n",
    "  group_by(asignatura) %>%\n",
    "  summarise(Conteo = n(),\n",
    "            Media = round(mean(Promedio, na.rm = TRUE), 2),\n",
    "            Varianza = round(var(Promedio, na.rm = TRUE), 2),\n",
    "            Desvio = round(sd(Promedio, na.rm = TRUE), 2),\n",
    "            Minimo = round(min(Promedio, na.rm = TRUE), 2),\n",
    "            Maximo = round(max(Promedio, na.rm = TRUE), 2),\n",
    "            IQR = round(IQR(Promedio, na.rm = TRUE), 2),\n",
    "            Rango = Maximo - Minimo,\n",
    "            Mediana = round(median(Promedio, na.rm = TRUE), 2),\n",
    "            Moda = Mode(Promedio),\n",
    "            Q1 = round(quantile(Promedio, 0.25, na.rm = TRUE), 2),\n",
    "            Q3 = round(quantile(Promedio, 0.75, na.rm = TRUE), 2),\n",
    "            Sup. = round((Q3 + 1.5 * IQR), 2),\n",
    "            Inf. = round((Q1 - 1.5 * IQR), 2),\n",
    "            CV = round(sd(Promedio, na.rm = TRUE) / mean(Promedio, na.rm = TRUE) * 100, 2))"
   ]
  },
  {
   "cell_type": "code",
   "execution_count": null,
   "id": "4d9e291e-392a-4b6c-9333-53183c208bfc",
   "metadata": {},
   "outputs": [],
   "source": [
    "Victoria_secundaria_quinto %>%\n",
    "  group_by(asignatura) %>%\n",
    "  summarise(Conteo = n(),\n",
    "            Media = round(mean(Promedio, na.rm = TRUE), 2),\n",
    "            Varianza = round(var(Promedio, na.rm = TRUE), 2),\n",
    "            Desvio = round(sd(Promedio, na.rm = TRUE), 2),\n",
    "            Minimo = round(min(Promedio, na.rm = TRUE), 2),\n",
    "            Maximo = round(max(Promedio, na.rm = TRUE), 2),\n",
    "            IQR = round(IQR(Promedio, na.rm = TRUE), 2),\n",
    "            Rango = Maximo - Minimo,\n",
    "            Mediana = round(median(Promedio, na.rm = TRUE), 2),\n",
    "            Moda = Mode(Promedio),\n",
    "            Q1 = round(quantile(Promedio, 0.25, na.rm = TRUE), 2),\n",
    "            Q3 = round(quantile(Promedio, 0.75, na.rm = TRUE), 2),\n",
    "            Sup. = round((Q3 + 1.5 * IQR), 2),\n",
    "            Inf. = round((Q1 - 1.5 * IQR), 2),\n",
    "            CV = round(sd(Promedio, na.rm = TRUE) / mean(Promedio, na.rm = TRUE) * 100, 2))"
   ]
  },
  {
   "cell_type": "code",
   "execution_count": null,
   "id": "2c9e8f7c-34fe-49d7-836b-27841e8b5eca",
   "metadata": {},
   "outputs": [],
   "source": [
    "Victoria_secundaria_sexto %>%\n",
    "  group_by(asignatura) %>%\n",
    "  summarise(Conteo = n(),\n",
    "            Media = round(mean(Promedio, na.rm = TRUE), 2),\n",
    "            Varianza = round(var(Promedio, na.rm = TRUE), 2),\n",
    "            Desvio = round(sd(Promedio, na.rm = TRUE), 2),\n",
    "            Minimo = round(min(Promedio, na.rm = TRUE), 2),\n",
    "            Maximo = round(max(Promedio, na.rm = TRUE), 2),\n",
    "            IQR = round(IQR(Promedio, na.rm = TRUE), 2),\n",
    "            Rango = Maximo - Minimo,\n",
    "            Mediana = round(median(Promedio, na.rm = TRUE), 2),\n",
    "            Moda = Mode(Promedio),\n",
    "            Q1 = round(quantile(Promedio, 0.25, na.rm = TRUE), 2),\n",
    "            Q3 = round(quantile(Promedio, 0.75, na.rm = TRUE), 2),\n",
    "            Sup. = round((Q3 + 1.5 * IQR), 2),\n",
    "            Inf. = round((Q1 - 1.5 * IQR), 2),\n",
    "            CV = round(sd(Promedio, na.rm = TRUE) / mean(Promedio, na.rm = TRUE) * 100, 2))"
   ]
  },
  {
   "cell_type": "code",
   "execution_count": null,
   "id": "af72b7a4-a934-4c84-9a7c-5dc9e9c96284",
   "metadata": {},
   "outputs": [],
   "source": [
    "Victoria_secundaria_septimo %>%\n",
    "  group_by(asignatura) %>%\n",
    "  summarise(Conteo = n(),\n",
    "            Media = round(mean(Promedio, na.rm = TRUE), 2),\n",
    "            Varianza = round(var(Promedio, na.rm = TRUE), 2),\n",
    "            Desvio = round(sd(Promedio, na.rm = TRUE), 2),\n",
    "            Minimo = round(min(Promedio, na.rm = TRUE), 2),\n",
    "            Maximo = round(max(Promedio, na.rm = TRUE), 2),\n",
    "            IQR = round(IQR(Promedio, na.rm = TRUE), 2),\n",
    "            Rango = Maximo - Minimo,\n",
    "            Mediana = round(median(Promedio, na.rm = TRUE), 2),\n",
    "            Moda = Mode(Promedio),\n",
    "            Q1 = round(quantile(Promedio, 0.25, na.rm = TRUE), 2),\n",
    "            Q3 = round(quantile(Promedio, 0.75, na.rm = TRUE), 2),\n",
    "            Sup. = round((Q3 + 1.5 * IQR), 2),\n",
    "            Inf. = round((Q1 - 1.5 * IQR), 2),\n",
    "            CV = round(sd(Promedio, na.rm = TRUE) / mean(Promedio, na.rm = TRUE) * 100, 2))"
   ]
  },
  {
   "cell_type": "code",
   "execution_count": null,
   "id": "a7f4a6c1-69c4-4356-a6fa-b477b3edbc5f",
   "metadata": {},
   "outputs": [],
   "source": [
    "#coeficiente de asimetria sirve para medir la distribucion de los datos\n",
    "#coef_sim = 0 ---> simetria perfecta\n",
    "#coef_sim = negativa ---> simetria sesgada hacia la izquierda\n",
    "#coef_sim = positiva ---> simetria sesgada hacia la derecha\n",
    "\n",
    "#curtosis es para saber el alto de la punta y cola de la curva\n",
    "#kurtosis = 0 ---> curva normal (campana de Gaus)\n",
    "#kurtosis = negativa ---> colas mas altas y pico menos pronunciado\n",
    "#kurtosis = positiva ---> colas mas bajas y pico mas pronunciado\n",
    "\n",
    "coef_sim=skewness(filter(Victoria_primaria_primero,asignatura==\"MATEMATICA\")$Promedio, na.rm=TRUE) \n",
    "kurtosis=kurtosis(filter(Victoria_primaria_primero,asignatura==\"MATEMATICA\")$Promedio, na.rm=TRUE)\n",
    "print(\"coef_sim\")\n",
    "print(coef_sim)\n",
    "print(\"kurtosis\")\n",
    "print(kurtosis)"
   ]
  },
  {
   "cell_type": "code",
   "execution_count": null,
   "id": "7641965a-9911-4915-b2a9-c8948ef4db27",
   "metadata": {},
   "outputs": [],
   "source": [
    "coef_sim=skewness(filter(Victoria_primaria_segundo,asignatura==\"MATEMATICA\")$Promedio, na.rm=TRUE)\n",
    "kurtosis=kurtosis(filter(Victoria_primaria_segundo,asignatura==\"MATEMATICA\")$Promedio, na.rm=TRUE)\n",
    "print(\"coef_sim\")\n",
    "print(coef_sim)\n",
    "print(\"kurtosis\")\n",
    "print(kurtosis)"
   ]
  },
  {
   "cell_type": "code",
   "execution_count": null,
   "id": "ad70352d-4501-4b02-8817-33e3ca6f36ae",
   "metadata": {},
   "outputs": [],
   "source": [
    "coef_sim=skewness(filter(Victoria_primaria_tercero,asignatura==\"MATEMATICA\")$Promedio, na.rm=TRUE)\n",
    "kurtosis=kurtosis(filter(Victoria_primaria_tercero,asignatura==\"MATEMATICA\")$Promedio, na.rm=TRUE)\n",
    "print(\"coef_sim\")\n",
    "print(coef_sim)\n",
    "print(\"kurtosis\")\n",
    "print(kurtosis)"
   ]
  },
  {
   "cell_type": "code",
   "execution_count": null,
   "id": "b4fcd2c8-a149-42a8-821e-0dbac46ca3d4",
   "metadata": {},
   "outputs": [],
   "source": [
    "coef_sim=skewness(filter(Victoria_primaria_cuarto,asignatura==\"MATEMATICA\")$Promedio, na.rm=TRUE)\n",
    "kurtosis=kurtosis(filter(Victoria_primaria_cuarto,asignatura==\"MATEMATICA\")$Promedio, na.rm=TRUE)\n",
    "print(\"coef_sim\")\n",
    "print(coef_sim)\n",
    "print(\"kurtosis\")\n",
    "print(kurtosis)"
   ]
  },
  {
   "cell_type": "code",
   "execution_count": null,
   "id": "bd94601c-5f31-4abf-a2ec-ec7ee4914bbf",
   "metadata": {},
   "outputs": [],
   "source": [
    "coef_sim=skewness(filter(Victoria_primaria_quinto,asignatura==\"MATEMATICA\")$Promedio, na.rm=TRUE) #coeficiente de asimetria c=0 esta en el medio, negativo a la izq y positivo a la der\n",
    "kurtosis=kurtosis(filter(Victoria_primaria_quinto,asignatura==\"MATEMATICA\")$Promedio, na.rm=TRUE) \n",
    "print(\"coef_sim\")\n",
    "print(coef_sim)\n",
    "print(\"kurtosis\")\n",
    "print(kurtosis)"
   ]
  },
  {
   "cell_type": "code",
   "execution_count": null,
   "id": "39ea0fb1-35d8-42a9-b987-83835f82a2f3",
   "metadata": {},
   "outputs": [],
   "source": [
    "coef_sim=skewness(filter(Victoria_primaria_sexto,asignatura==\"MATEMATICA\")$Promedio, na.rm=TRUE)\n",
    "kurtosis=kurtosis(filter(Victoria_primaria_sexto,asignatura==\"MATEMATICA\")$Promedio, na.rm=TRUE)\n",
    "print(\"coef_sim\")\n",
    "print(coef_sim)\n",
    "print(\"kurtosis\")\n",
    "print(kurtosis)"
   ]
  },
  {
   "cell_type": "code",
   "execution_count": null,
   "id": "f4647eef-d04c-42ed-8db7-52d79d6e948d",
   "metadata": {},
   "outputs": [],
   "source": [
    "coef_sim=skewness(filter(Victoria_secundaria_primero,asignatura==\"MATEMATICA\")$Promedio, na.rm=TRUE)\n",
    "kurtosis=kurtosis(filter(Victoria_secundaria_primero,asignatura==\"MATEMATICA\")$Promedio, na.rm=TRUE)\n",
    "print(\"coef_sim\")\n",
    "print(coef_sim)\n",
    "print(\"kurtosis\")\n",
    "print(kurtosis)"
   ]
  },
  {
   "cell_type": "code",
   "execution_count": null,
   "id": "05d18016-35a2-47be-8c74-1d4af73c31e7",
   "metadata": {},
   "outputs": [],
   "source": [
    "coef_sim=skewness(filter(Victoria_secundaria_segundo,asignatura==\"MATEMATICA\")$Promedio, na.rm=TRUE)\n",
    "kurtosis=kurtosis(filter(Victoria_secundaria_segundo,asignatura==\"MATEMATICA\")$Promedio, na.rm=TRUE)\n",
    "print(\"coef_sim\")\n",
    "print(coef_sim)\n",
    "print(\"kurtosis\")\n",
    "print(kurtosis)"
   ]
  },
  {
   "cell_type": "code",
   "execution_count": null,
   "id": "4c70c56b-53d5-4949-9677-849fbb8c1e7f",
   "metadata": {},
   "outputs": [],
   "source": [
    "coef_sim=skewness(filter(Victoria_secundaria_tercero,asignatura==\"MATEMATICA\")$Promedio, na.rm=TRUE)\n",
    "kurtosis=kurtosis(filter(Victoria_secundaria_tercero,asignatura==\"MATEMATICA\")$Promedio, na.rm=TRUE)\n",
    "print(\"coef_sim\")\n",
    "print(coef_sim)\n",
    "print(\"kurtosis\")\n",
    "print(kurtosis)"
   ]
  },
  {
   "cell_type": "code",
   "execution_count": null,
   "id": "00197ade-698c-416c-bc1b-a4eb30b37f12",
   "metadata": {},
   "outputs": [],
   "source": [
    "coef_sim=skewness(filter(Victoria_secundaria_cuarto,asignatura==\"MATEMATICA\")$Promedio, na.rm=TRUE)\n",
    "kurtosis=kurtosis(filter(Victoria_secundaria_cuarto,asignatura==\"MATEMATICA\")$Promedio, na.rm=TRUE)\n",
    "print(\"coef_sim\")\n",
    "print(coef_sim)\n",
    "print(\"kurtosis\")\n",
    "print(kurtosis)"
   ]
  },
  {
   "cell_type": "code",
   "execution_count": null,
   "id": "0cf6a259-8848-49bb-a240-c5b1c7f631fb",
   "metadata": {},
   "outputs": [],
   "source": [
    "coef_sim=skewness(filter(Victoria_secundaria_quinto,asignatura==\"MATEMATICA\")$Promedio, na.rm=TRUE)\n",
    "kurtosis=kurtosis(filter(Victoria_secundaria_quinto,asignatura==\"MATEMATICA\")$Promedio, na.rm=TRUE)\n",
    "print(\"coef_sim\")\n",
    "print(coef_sim)\n",
    "print(\"kurtosis\")\n",
    "print(kurtosis)"
   ]
  },
  {
   "cell_type": "code",
   "execution_count": null,
   "id": "ae788986-6a05-46a2-8d19-14bfbee9f4c2",
   "metadata": {},
   "outputs": [],
   "source": [
    "coef_sim=skewness(filter(Victoria_secundaria_sexto,asignatura==\"MATEMATICA\")$Promedio, na.rm=TRUE)\n",
    "kurtosis=kurtosis(filter(Victoria_secundaria_sexto,asignatura==\"MATEMATICA\")$Promedio, na.rm=TRUE)\n",
    "print(\"coef_sim\")\n",
    "print(coef_sim)\n",
    "print(\"kurtosis\")\n",
    "print(kurtosis)"
   ]
  },
  {
   "cell_type": "code",
   "execution_count": null,
   "id": "f66d06e0-9aa4-4a9a-89f5-fd49346f4546",
   "metadata": {},
   "outputs": [],
   "source": [
    "coef_sim=skewness(filter(Victoria_secundaria_septimo,asignatura==\"MATEMATICA\")$Promedio, na.rm=TRUE)\n",
    "kurtosis=kurtosis(filter(Victoria_secundaria_septimo,asignatura==\"MATEMATICA\")$Promedio, na.rm=TRUE)\n",
    "print(\"coef_sim\")\n",
    "print(coef_sim)\n",
    "print(\"kurtosis\")\n",
    "print(kurtosis)"
   ]
  },
  {
   "cell_type": "code",
   "execution_count": null,
   "id": "84980726-f2fd-4b5e-8e7e-048447c2713a",
   "metadata": {},
   "outputs": [],
   "source": []
  }
 ],
 "metadata": {
  "kernelspec": {
   "display_name": "R",
   "language": "R",
   "name": "ir"
  },
  "language_info": {
   "codemirror_mode": "r",
   "file_extension": ".r",
   "mimetype": "text/x-r-source",
   "name": "R",
   "pygments_lexer": "r",
   "version": "4.1.3"
  }
 },
 "nbformat": 4,
 "nbformat_minor": 5
}
