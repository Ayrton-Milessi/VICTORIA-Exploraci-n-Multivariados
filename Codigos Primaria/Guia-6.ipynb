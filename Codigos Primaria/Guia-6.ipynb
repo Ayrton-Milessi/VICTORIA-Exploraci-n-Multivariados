{
 "cells": [
  {
   "cell_type": "code",
   "execution_count": null,
   "id": "3fb97df9",
   "metadata": {},
   "outputs": [],
   "source": [
    "library(readxl)\n",
    "library(dplyr)\n",
    "library(\"nortest\") "
   ]
  },
  {
   "cell_type": "code",
   "execution_count": null,
   "id": "360c861e",
   "metadata": {},
   "outputs": [],
   "source": [
    "Victoria_primaria <- read_excel(\"C:/Users/ayrto/OneDrive/Escritorio/Exploración de Datos Multivariados/1 - Trabajo Practico/VICTORIA_BASE_PRIMARIA_LIMPIA.xlsx\")"
   ]
  },
  {
   "cell_type": "markdown",
   "id": "8ca4467a",
   "metadata": {},
   "source": [
    "### Actividad 1.1"
   ]
  },
  {
   "cell_type": "code",
   "execution_count": null,
   "id": "03eb7434",
   "metadata": {},
   "outputs": [],
   "source": [
    "datos_mat <- filter(Victoria_primaria, Año_curso== \"PRIMERO\" & asignatura == \"MATEMATICA\")$Promedio\n",
    "\n",
    "# Vemos si son normales los datos\n",
    "shapiro.test(datos_mat) #p-value = 1.374e-13\n",
    "\n",
    "# Al querer comparar las media del promedio conseguido por los alumnos de primer grado en Matematica, se\n",
    "#debería usar un test parametrico pero con el supuesto de que los datos tengan una distribucion normal. \n",
    "#Al no cumplir con esta condición, utilizaremos un test no parametrico como lo es el test de Wilcox pero \n",
    "#en vez de comparar las medias, compararemos las medianas.\n",
    "\n",
    "# H0 -> la mediana de los alumnos de primer grado en matematica es 7\n",
    "# H1 -> la mediana de los alumnos de primer grado en matematica es mayor a 7\n",
    "wilcox.test(datos_mat, mu=7, alternative = \"greater\", conf.level = 0.95)\n",
    "\n",
    "# Tenemos la evidencia suficiente para rechazar H0 y decir que la mediana de los estudiantes es mayor a 7"
   ]
  },
  {
   "cell_type": "markdown",
   "id": "d0a16405",
   "metadata": {},
   "source": [
    "### Actividad 1.2"
   ]
  },
  {
   "cell_type": "code",
   "execution_count": null,
   "id": "759cab2e",
   "metadata": {},
   "outputs": [],
   "source": [
    "datos_lengua <- filter(Victoria_primaria, asignatura == \"LENGUA\")$Promedio\n",
    "\n",
    "shapiro.test(datos_lengua) #p-value < 2.2e-16\n",
    "\n",
    "# H0 -> la mediana de los alumnos de Victoria en lengua es 6\n",
    "# H1 -> la mediana de los alumnos de Victoria en lengua es menor a 6\n",
    "wilcox.test(datos_lengua, mu=6, alternative = \"less\", conf.level = 0.95)\n",
    "\n",
    "# No tengo las pruebas suficientes para rechazar H0. El 50% de los estudiantes tienen un promedio mayor a 6"
   ]
  },
  {
   "cell_type": "markdown",
   "id": "c8473c25",
   "metadata": {},
   "source": [
    "### Actividad 1.3"
   ]
  },
  {
   "cell_type": "code",
   "execution_count": null,
   "id": "264d8048",
   "metadata": {},
   "outputs": [],
   "source": [
    "# Notas de primer y tercer trimestre de todo el departamento del nivel primaria\n",
    "notas_primer_trimestre <- Victoria_primaria$NotasPrimerT\n",
    "notas_tercer_trimestre <- Victoria_primaria$NotasTercerT\n",
    "\n",
    "# Calculamos diferencias\n",
    "diferencias <- notas_tercer_trimestre - notas_primer_trimestre\n",
    "\n",
    "# La normalidad de las diferencias\n",
    "ks.test(diferencias, \"pnorm\") # p-value < 2.2e-16\n",
    "\n",
    "# H0 -> las notas de los alumnos de Victoria es el mismo en el primer y tercer trimestre\n",
    "# H1 -> las notas de los alumnos de Victoria son mayores en el tercer trimestre que en el primero\n",
    "wilcox.test(notas_tercer_trimestre, notas_primer_trimestre, paired = TRUE, alternative = \"greater\", conf.level = 0.95)\n",
    "\n",
    "# La evidencia es suficiente para decir que las notas del tercer trimestre son mejores que las del primer trimestre"
   ]
  },
  {
   "cell_type": "code",
   "execution_count": null,
   "id": "7254d83a",
   "metadata": {},
   "outputs": [],
   "source": [
    "# Segmentamos por grado para analizar los trimestres para cada uno\n",
    "Notas_Victoria_1Grado <- distinct(filter(Victoria_primaria, Año_curso == \"PRIMERO\"))\n",
    "Notas_Victoria_2Grado <- distinct(filter(Victoria_primaria, Año_curso == \"SEGUNDO\"))\n",
    "Notas_Victoria_3Grado <- distinct(filter(Victoria_primaria, Año_curso == \"TERCERO\"))\n",
    "Notas_Victoria_4Grado <- distinct(filter(Victoria_primaria, Año_curso == \"CUARTO\"))\n",
    "Notas_Victoria_5Grado <- distinct(filter(Victoria_primaria, Año_curso == \"QUINTO\"))\n",
    "Notas_Victoria_6Grado <- distinct(filter(Victoria_primaria, Año_curso == \"SEXTO\"))"
   ]
  },
  {
   "cell_type": "code",
   "execution_count": null,
   "id": "0edee474",
   "metadata": {},
   "outputs": [],
   "source": [
    "# Test de hipotesis para PRIMER GRADO\n",
    "primero_1t <- Notas_Victoria_1Grado$NotasPrimerT\n",
    "primero_3t <- Notas_Victoria_1Grado$NotasTercerT\n",
    "\n",
    "print(\"Medidas del Primer trimestre\")\n",
    "print(mean(primero_1t))\n",
    "print(median(primero_1t))\n",
    "print(\"Medidas del Tercer trimestre\")\n",
    "print(mean(primero_3t))\n",
    "print(median(primero_3t))\n",
    "\n",
    "diferencias_primero <- primero_3t - primero_1t\n",
    "\n",
    "ks.test(diferencias_primero, \"pnorm\") #p-value =  2.2e-16\n",
    "\n",
    "# H0 -> las notas de los alumnos de primero es el mismo en el primer y tercer trimestre\n",
    "# H1 -> las notas de los alumnos de primero son mayores en el tercer trimestre que en el primero\n",
    "wilcox.test(x=primero_3t, y=primero_1t, alternative = \"greater\", paired = TRUE, correct = FALSE, conf.level=0.95)\n",
    "\n",
    "# La evidencia es suficiente para afirmar que las notas del tercer trimestre son mejores que las del primer trimestre"
   ]
  },
  {
   "cell_type": "code",
   "execution_count": null,
   "id": "29df5d8a",
   "metadata": {},
   "outputs": [],
   "source": [
    "# Test de hipotesis para SEGUNDO GRADO\n",
    "segundo_1t <- Notas_Victoria_2Grado$NotasPrimerT\n",
    "segundo_3t <- Notas_Victoria_2Grado$NotasTercerT\n",
    "\n",
    "print(\"Medidas del Primer trimestre\")\n",
    "print(mean(segundo_1t))\n",
    "print(median(segundo_1t))\n",
    "print(\"Medidas del Tercer trimestre\")\n",
    "print(mean(segundo_3t))\n",
    "print(median(segundo_3t))\n",
    "\n",
    "diferencias_segundo <- segundo_3t - segundo_1t\n",
    "\n",
    "ks.test(diferencias_segundo, \"pnorm\") #p-value =  2.2e-16\n",
    "\n",
    "# H0 -> las notas de los alumnos de segundo es el mismo en el primer y tercer trimestre\n",
    "# H1 -> las notas de los alumnos de segundo son mayores en el tercer trimestre que en el primero\n",
    "wilcox.test(x=segundo_3t, y=segundo_1t, alternative = \"greater\", paired = TRUE, correct = FALSE, conf.level=0.95)\n",
    "\n",
    "# La evidencia es suficiente para afirmar que las notas del tercer trimestre son mejores que las del primer trimestre"
   ]
  },
  {
   "cell_type": "code",
   "execution_count": null,
   "id": "47b1fbea",
   "metadata": {},
   "outputs": [],
   "source": [
    "# Test de hipotesis para TERCER GRADO\n",
    "tercero_1t <- Notas_Victoria_3Grado$NotasPrimerT\n",
    "tercero_3t <- Notas_Victoria_3Grado$NotasTercerT\n",
    "\n",
    "print(\"Medidas del Primer trimestre\")\n",
    "print(mean(tercero_1t))\n",
    "print(median(tercero_1t))\n",
    "print(\"Medidas del Tercer trimestre\")\n",
    "print(mean(tercero_3t))\n",
    "print(median(tercero_3t))\n",
    "\n",
    "diferencias_tercero <- tercero_3t - tercero_1t\n",
    "\n",
    "ks.test(diferencias_tercero, \"pnorm\") #p-value =  2.2e-16\n",
    "\n",
    "# H0 -> las notas de los alumnos de tercero es el mismo en el primer y tercer trimestre\n",
    "# H1 -> las notas de los alumnos de tercero son mayores en el tercer trimestre que en el primero\n",
    "wilcox.test(x=tercero_3t, y=tercero_1t, alternative = \"greater\", paired = TRUE, correct = FALSE, conf.level=0.95)\n",
    "\n",
    "# La evidencia es suficiente para afirmar que las notas del tercer trimestre son mejores que las del primer trimestre"
   ]
  },
  {
   "cell_type": "code",
   "execution_count": null,
   "id": "eae6db94",
   "metadata": {},
   "outputs": [],
   "source": [
    "# Test de hipotesis para CUARTO GRADO\n",
    "cuarto_1t <- Notas_Victoria_4Grado$NotasPrimerT\n",
    "cuarto_3t <- Notas_Victoria_4Grado$NotasTercerT\n",
    "\n",
    "print(\"Medidas del Primer trimestre\")\n",
    "print(mean(cuarto_1t))\n",
    "print(median(cuarto_1t))\n",
    "print(\"Medidas del Tercer trimestre\")\n",
    "print(mean(cuarto_3t))\n",
    "print(median(cuarto_3t))\n",
    "\n",
    "diferencias_cuarto <- cuarto_3t - cuarto_1t\n",
    "\n",
    "ks.test(diferencias_cuarto, \"pnorm\") #p-value =  2.2e-16\n",
    "\n",
    "# H0 -> las notas de los alumnos de cuarto es el mismo en el primer y tercer trimestre\n",
    "# H1 -> las notas de los alumnos de cuarto son mayores en el tercer trimestre que en el primero\n",
    "wilcox.test(x=cuarto_3t, y=cuarto_1t, alternative = \"greater\", paired = TRUE, correct = FALSE, conf.level=0.95)\n",
    "\n",
    "# La evidencia es suficiente para afirmar que las notas del tercer trimestre son mejores que las del primer trimestre"
   ]
  },
  {
   "cell_type": "code",
   "execution_count": null,
   "id": "7c598ab5",
   "metadata": {},
   "outputs": [],
   "source": [
    "# Test de hipotesis para QUINTO GRADO\n",
    "quinto_1t <- Notas_Victoria_5Grado$NotasPrimerT\n",
    "quinto_3t <- Notas_Victoria_5Grado$NotasTercerT\n",
    "\n",
    "print(\"Medidas del Primer trimestre\")\n",
    "print(mean(quinto_1t))\n",
    "print(median(quinto_1t))\n",
    "print(\"Medidas del Tercer trimestre\")\n",
    "print(mean(quinto_3t))\n",
    "print(median(quinto_3t))\n",
    "\n",
    "diferencias_quinto <- quinto_3t - quinto_1t\n",
    "\n",
    "ks.test(diferencias_quinto, \"pnorm\") #p-value =  2.2e-16\n",
    "\n",
    "# H0 -> las notas de los alumnos de quinto es el mismo en el primer y tercer trimestre\n",
    "# H1 -> las notas de los alumnos de quinto son mayores en el tercer trimestre que en el primero\n",
    "wilcox.test(x=quinto_3t, y=quinto_1t, alternative = \"greater\", paired = TRUE, correct = FALSE, conf.level=0.95)\n",
    "\n",
    "# La evidencia es suficiente para afirmar que las notas del tercer trimestre son mejores que las del primer trimestre"
   ]
  },
  {
   "cell_type": "code",
   "execution_count": null,
   "id": "24eae5b7",
   "metadata": {},
   "outputs": [],
   "source": [
    "# Test de hipotesis para SEXTO GRADO\n",
    "sexto_1t <- Notas_Victoria_6Grado$NotasPrimerT\n",
    "sexto_3t <- Notas_Victoria_6Grado$NotasTercerT\n",
    "\n",
    "print(\"Medidas del Primer trimestre\")\n",
    "print(mean(sexto_1t))\n",
    "print(median(sexto_1t))\n",
    "print(\"Medidas del Tercer trimestre\")\n",
    "print(mean(sexto_3t))\n",
    "print(median(sexto_3t))\n",
    "\n",
    "diferencias_sexto <- sexto_3t - sexto_1t\n",
    "\n",
    "ks.test(diferencias_sexto, \"pnorm\") #p-value =  2.2e-16\n",
    "\n",
    "# H0 -> las notas de los alumnos de sexto es el mismo en el primer y tercer trimestre\n",
    "# H1 -> las notas de los alumnos de sexto son mayores en el tercer trimestre que en el primero\n",
    "wilcox.test(x=sexto_3t, y=sexto_1t, alternative = \"greater\", paired = TRUE, correct = FALSE, conf.level=0.95)\n",
    "\n",
    "# La evidencia es suficiente para afirmar que las notas del tercer trimestre son mejores que las del primer trimestre"
   ]
  },
  {
   "cell_type": "markdown",
   "id": "08123c85",
   "metadata": {},
   "source": [
    "### Actividad 1.4 "
   ]
  },
  {
   "cell_type": "code",
   "execution_count": null,
   "id": "0488c591",
   "metadata": {},
   "outputs": [],
   "source": [
    "datos_mat <- filter(Victoria_primaria, Año_curso== \"PRIMERO\" & asignatura == \"MATEMATICA\")$Promedio\n",
    "\n",
    "# Vemos si son normales los datos\n",
    "shapiro.test(datos_mat) #p-value = 1.374e-13\n",
    "\n",
    "# Al querer comparar las media del promedio conseguido por los alumnos de primer grado en Matematica, se\n",
    "#debería usar un test parametrico pero con el supuesto de que los datos tengan una distribucion normal. \n",
    "#Al no cumplir con esta condición, utilizaremos un test no parametrico como lo es el test de Wilcox pero \n",
    "#en vez de comparar las medias, compararemos las medianas.\n",
    "\n",
    "# H0 -> la mediana de los alumnos de primer grado en matematica es 7\n",
    "# H1 -> la mediana de los alumnos de primer grado en matematica es mayor a 7\n",
    "wilcox.test(datos_mat, mu=7, alternative = \"greater\", conf.level = 0.95)\n",
    "\n",
    "# Tenemos la evidencia suficiente para rechazar H0 y decir que la mediana de los estudiantes es mayor a 7"
   ]
  },
  {
   "cell_type": "markdown",
   "id": "d5833d49",
   "metadata": {},
   "source": [
    "### Actividad 1.5"
   ]
  },
  {
   "cell_type": "code",
   "execution_count": null,
   "id": "f07574fa",
   "metadata": {},
   "outputs": [],
   "source": [
    "# Separamos por turno\n",
    "datos_mañana <- filter(Notas_Victoria_1Grado, turno == \"MAÑANA\")$Promedio\n",
    "datos_tarde <- filter(Notas_Victoria_1Grado, turno == \"TARDE\")$Promedio\n",
    "\n",
    "# Vemos sus normalidades\n",
    "shapiro.test(datos_mañana)\n",
    "shapiro.test(datos_tarde)\n",
    "\n",
    "# Medianas de los datos\n",
    "median(datos_mañana)\n",
    "median(datos_tarde)\n",
    "\n",
    "# H0 -> los promedios de los alumnos de primer grado del turno mañana son iguales que los de su pares del turno tarde\n",
    "# H1 -> los promedios de los alumnos de primer grado del turno mañana son distintos que los de su pares del turno tarde\n",
    "wilcox.test(datos_mañana,datos_tarde, alternative = \"two.sided\", conf.level = 0.95)\n",
    "\n",
    "#La evidencia es suficiente para rechazar H0, lo que quiere decir que hay diferencias \n",
    "#significativas entre los promedios del los estudiantes que asisten a primer grado de mañana y tarde"
   ]
  },
  {
   "cell_type": "markdown",
   "id": "08d5c415",
   "metadata": {},
   "source": [
    "### Actividad 1.6"
   ]
  },
  {
   "cell_type": "code",
   "execution_count": null,
   "id": "f3cd7b13",
   "metadata": {},
   "outputs": [],
   "source": [
    "# Segmentamos por materia de primer grado\n",
    "datos_mat <- filter(Notas_Victoria_1Grado, asignatura == \"MATEMATICA\")$Promedio\n",
    "datos_len <- filter(Notas_Victoria_1Grado, asignatura == \"LENGUA\")$Promedio\n",
    "\n",
    "# Vemos su normalidad\n",
    "shapiro.test(datos_mat)\n",
    "shapiro.test(datos_len)\n",
    "\n",
    "# Medianas de los datos a analizar\n",
    "median(datos_mat)\n",
    "median(datos_len)\n",
    "\n",
    "# H0 -> los promedios de los alumnos de primer grado son iguales en matematica y lengua\n",
    "# H1 -> los promedios de los alumnos de primer grado son mejores en matematica que en lengua\n",
    "wilcox.test(datos_mat,datos_len, alternative = \"greater\", conf.level = 0.95)\n",
    "\n",
    "# No hay evidencia suficiente para rechazar H0, es decir que los promedios de \n",
    "#matematica no son superiores a los de lengua"
   ]
  },
  {
   "cell_type": "markdown",
   "id": "9dd17bb8",
   "metadata": {},
   "source": [
    "### Actividad 2"
   ]
  },
  {
   "cell_type": "code",
   "execution_count": null,
   "id": "6f3231e4",
   "metadata": {},
   "outputs": [],
   "source": [
    "# Queremos ver si los promedios de los alumnos de primer grado que asisten a una escuela comun son mejores que los de la escuela NINAS\n",
    "datos_comun <- filter(Notas_Victoria_1Grado, ModEnseñanza == \"Comun\")$Promedio\n",
    "datos_nina <- filter(Notas_Victoria_1Grado, ModEnseñanza == \"Escuelas NINA\")$Promedio\n",
    "\n",
    "shapiro.test(datos_comun)\n",
    "shapiro.test(datos_nina)\n",
    "\n",
    "median(datos_comun)\n",
    "median(datos_nina)\n",
    "\n",
    "#H0: Los promedios de los alumnos de primer grado son iguales\n",
    "#H1: Los promedios de los alumnos de primer grado de escuelas primaria comunes son mejores que las de Escuelas NINAS\n",
    "wilcox.test(datos_comun,datos_nina, alternative = \"greater\", conf.level = 0.95)\n",
    "\n",
    "#La evidencia es suficiente para rechazar H0 y decir que los estudiantes de primer grado de escuelas\n",
    "#primarias comunes tienen mejores promedios que sus pares de escuelas NINAS"
   ]
  },
  {
   "cell_type": "code",
   "execution_count": null,
   "id": "77248e2f",
   "metadata": {},
   "outputs": [],
   "source": [
    "# Queremos ver si los promedios de los alumnos de primer grado que asisten a una escuela privada son mejores que los de la escuela publica\n",
    "datos_priv <- filter(Notas_Victoria_1Grado, EsPrivada == \"S\" & asignatura ==\"MATEMATICA\")$Promedio\n",
    "datos_pub <- filter(Notas_Victoria_1Grado, EsPrivada == \"N\" & asignatura ==\"MATEMATICA\")$Promedio\n",
    "\n",
    "shapiro.test(datos_priv)\n",
    "shapiro.test(datos_pub)\n",
    "\n",
    "median(datos_priv)\n",
    "median(datos_pub)\n",
    "\n",
    "#H0: Los promedios de los alumnos de primer grado son iguales\n",
    "#H1: Los promedios de los alumnos de primer grado de escuelas primaria privadas son mejores que las de escuelas publicas\n",
    "wilcox.test(datos_priv,datos_pub, alternative = \"greater\", conf.level = 0.95)\n",
    "\n",
    "# La evidencia es suficiente para decir que los promedios de primer grado de escuelas privadas son mejores que los de las escuelas publicas"
   ]
  },
  {
   "cell_type": "markdown",
   "id": "420d09e9",
   "metadata": {},
   "source": [
    "### Pruebas de anexo"
   ]
  },
  {
   "cell_type": "code",
   "execution_count": null,
   "id": "93098bba",
   "metadata": {},
   "outputs": [],
   "source": [
    "hist(Notas_Victoria_1Grado$NotasPrimerT, col='#FC8D62', border='black', breaks  =c(5,6,7,8,9,10),xaxp=c(0,10,10),  ylim = c(0, 3000),labels = TRUE,  \n",
    " include.lowest=TRUE, right=FALSE, \n",
    " plot=TRUE,density=100, xlab=\"Rango de Notas\", ylab=\"Frecuencias Absolutas\", main=\"Comparación de notas del \n",
    "Primer Trimestre vs. Tercer Trimestre de Primer grado\",  cex.main=0.82)\n",
    "\n",
    "hist(Notas_Victoria_1Grado$NotasTercerT, breaks  =c(5,6,7,8,9,10),xaxp=c(0,10,10),  border='black', ylim = c(0, 3000),labels = TRUE, \n",
    " include.lowest=TRUE, right=FALSE, \n",
    " add = TRUE, col = '#FFD92F',density=100)\n",
    "\n",
    "legend(\"bottom\", c(\"Primer Trimestre\", \"Tercer Trimestre\"), fill=c('#FC8D62', '#FFD92F'),xpd = TRUE,horiz =  TRUE,inset = c(0, 0.95)) \n",
    "\n",
    "mean <- median(Notas_Victoria_1Grado$NotasPrimerT,na.rm=TRUE)  \n",
    "med <- median(Notas_Victoria_1Grado$NotasTercerT,na.rm=TRUE)\n",
    "abline(v = mean, col = '#FC8D62',lwd = 3) \n",
    "abline(v = med, col = '#E78AC3',lwd = 3)\n",
    "\n",
    "legend(x = 5, y = 2800, c(\"Mediana 1°Tri\", \"Mediana 3°Tri\"),  fill=c('#FC8D62','#E78AC3'),xpd = TRUE,horiz = TRUE,bty = \"n\") \n"
   ]
  },
  {
   "cell_type": "code",
   "execution_count": null,
   "id": "e61d72d2",
   "metadata": {},
   "outputs": [],
   "source": [
    "lillie.test(x = Notas_Victoria_1Grado$NotasPrimerT) \n",
    "lillie.test(x = Notas_Victoria_1Grado$NotasTercerT)"
   ]
  },
  {
   "cell_type": "code",
   "execution_count": null,
   "id": "d101ce64",
   "metadata": {},
   "outputs": [],
   "source": [
    "median(Notas_Victoria_1Grado$NotasPrimerT,na.rm=TRUE) \n",
    "median(Notas_Victoria_1Grado$NotasTercerT,na.rm=TRUE) \n",
    "BaseN <- data.frame(\"Notas\"=c(Notas_Victoria_1Grado$NotasPrimerT,Notas_Victoria_1Grado$NotasTercerT), \n",
    "\"Trim\"=c(rep(\"T1\",length(Notas_Victoria_1Grado$NotasPrimerT)), \n",
    "rep(\"T3\",length(Notas_Victoria_1Grado$NotasTercerT)))) \n",
    "head(BaseN) \n",
    "wilcox.test(Notas~Trim,BaseN, alternative = \"less\", conf.level =  0.95)  \n",
    "#H0 -> \n",
    "#H1 -> "
   ]
  }
 ],
 "metadata": {
  "kernelspec": {
   "display_name": "R",
   "language": "R",
   "name": "ir"
  },
  "language_info": {
   "codemirror_mode": "r",
   "file_extension": ".r",
   "mimetype": "text/x-r-source",
   "name": "R",
   "pygments_lexer": "r",
   "version": "4.1.3"
  }
 },
 "nbformat": 4,
 "nbformat_minor": 5
}
