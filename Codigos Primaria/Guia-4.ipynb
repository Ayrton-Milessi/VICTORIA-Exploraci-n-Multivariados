{
 "cells": [
  {
   "cell_type": "code",
   "execution_count": null,
   "id": "f564439c-2b45-4eec-81bb-7782b438ea98",
   "metadata": {},
   "outputs": [],
   "source": [
    "library(nortest)\n",
    "library(readxl)\n",
    "library(dplyr)\n",
    "library(stringr)"
   ]
  },
  {
   "cell_type": "code",
   "execution_count": null,
   "id": "4496d8d3-9e04-438c-9011-72fe2074f79d",
   "metadata": {},
   "outputs": [],
   "source": [
    "Victoria_primaria <- read_excel(\"C:/Users/ayrto/OneDrive/Escritorio/Exploración de Datos Multivariados/1 - Trabajo Practico/VICTORIA_BASE_PRIMARIA_LIMPIA.xlsx\")\n",
    "Victoria_secundaria <- read_excel(\"C:/Users/ayrto/OneDrive/Escritorio/Exploración de Datos Multivariados/1 - Trabajo Practico/VICTORIA_BASE_SECUNDARIA_LIMPIA.xlsx\")"
   ]
  },
  {
   "cell_type": "code",
   "execution_count": null,
   "id": "7fb4353b-813a-4429-ae2b-54309932a118",
   "metadata": {},
   "outputs": [],
   "source": [
    "Victoria_primaria_tercero_publica <- filter(Victoria_primaria, asignatura == \"MATEMATICA\" & Año_curso == \"TERCERO\" & ModEnseñanza == \"Comun\" & EsPrivada == \"N\")\n",
    "Victoria_primaria_tercero_privada <- filter(Victoria_primaria, asignatura == \"MATEMATICA\" & Año_curso == \"TERCERO\" & ModEnseñanza == \"Comun\" & EsPrivada == \"S\")\n",
    "Victoria_primaria_tercero_tecnica <- filter(Victoria_primaria, asignatura == \"MATEMATICA\" & Año_curso == \"TERCERO\" & ModEnseñanza == \"Técnica\")"
   ]
  },
  {
   "cell_type": "code",
   "execution_count": null,
   "id": "54cdb473-142d-45bc-9082-9ceb161e3ba3",
   "metadata": {},
   "outputs": [],
   "source": [
    "Prom_tercero_publica <- mean(Victoria_primaria_tercero_publica$Promedio, na.rm = TRUE)\n",
    "sd_tercero_publica <- sd(Victoria_primaria_tercero_publica$Promedio, na.rm = TRUE)\n",
    "\"MATEMATICA --> TERCERO PUBLICA COMUN\"\n",
    "print(paste(\"Promedio en Matemáticas:\", round(Prom_tercero_publica, 2)))\n",
    "print(paste(\"Desviación estándar en Matemáticas:\", round(sd_tercero_publica, 2)))\n",
    "\n",
    "Prom_tercero_privada <- mean(Victoria_primaria_tercero_privada$Promedio, na.rm = TRUE)\n",
    "sd_tercero_privada <- sd(Victoria_primaria_tercero_privada$Promedio, na.rm = TRUE)\n",
    "\"MATEMATICA --> TERCERO PRIVADA COMUN\"\n",
    "print(paste(\"Promedio en Matemáticas:\", round(Prom_tercero_privada, 2)))\n",
    "print(paste(\"Desviación estándar en Matemáticas:\", round(sd_tercero_privada, 2)))\n",
    "\n",
    "Prom_tercero_tecnica <- mean(Victoria_primaria_tercero_tecnica$Promedio, na.rm = TRUE)\n",
    "sd_tercero_tecnica <- sd(Victoria_primaria_tercero_tecnica$Promedio, na.rm = TRUE)\n",
    "\"MATEMATICA --> TERCERO TÉCNICA\"\n",
    "print(paste(\"Promedio en Matemáticas:\", round(Prom_tercero_tecnica, 2)))\n",
    "print(paste(\"Desviación estándar en Matemáticas:\", round(sd_tercero_tecnica, 2)))"
   ]
  },
  {
   "cell_type": "code",
   "execution_count": null,
   "id": "86ace4c7-5d89-4342-9ad4-b0b8afe55a01",
   "metadata": {},
   "outputs": [],
   "source": [
    "promedio_muestra <- 4\n",
    "z_tercero_publica <- (promedio_muestra - Prom_tercero_publica)/sd_tercero_publica\n",
    "print(z_tercero_publica)\n",
    "\n",
    "z_tercero_privada <- (promedio_muestra - Prom_tercero_privada)/sd_tercero_privada\n",
    "print(z_tercero_privada)\n",
    "\n",
    "z_tercero_tecnica <- (promedio_muestra - Prom_tercero_tecnica)/sd_tercero_tecnica\n",
    "print(z_tercero_tecnica)"
   ]
  },
  {
   "cell_type": "code",
   "execution_count": null,
   "id": "ccf0438b-e294-4afd-bb78-2e86657d08d7",
   "metadata": {},
   "outputs": [],
   "source": [
    "Victoria_primaria_primero <- filter(Victoria_primaria, asignatura == \"MATEMATICA\" & Año_curso == \"PRIMERO\")\n",
    "table(Victoria_primaria_primero$CodigoUnicoEscolar)"
   ]
  },
  {
   "cell_type": "code",
   "execution_count": null,
   "id": "65707f4e-1e85-4a9f-92d2-0d22cb2f7b12",
   "metadata": {},
   "outputs": [],
   "source": [
    "colegio_A <- filter(Victoria_primaria_primero, CodigoUnicoEscolar == \"9000759\")\n",
    "colegio_B <- filter(Victoria_primaria_primero, CodigoUnicoEscolar == \"9000753\")\n",
    "hist(colegio_A$Promedio, main = \"Histograma de los Promedios Colegio A\", xlab = \"Promedios\", ylab = \"Frecuencia\")\n",
    "hist(colegio_B$Promedio, main = \"Histograma de los Promedios Colegio B\", xlab = \"Promedios\", ylab = \"Frecuencia\")"
   ]
  },
  {
   "cell_type": "code",
   "execution_count": null,
   "id": "33ea3442-26d8-4673-89b5-7fc942beb4e2",
   "metadata": {},
   "outputs": [],
   "source": [
    "calificacion = 4\n",
    "promedio_colegio_A <- mean(colegio_A$Promedio, na.rm = TRUE)\n",
    "sd_colegio_A <- sd(colegio_A$Promedio, na.rm = TRUE)\n",
    "z_colegio_A <- (calificacion - promedio_colegio_A)/sd_colegio_A\n",
    "print(paste(\"Colegio_A:\", round(z_colegio_A, 2)))\n",
    "\n",
    "promedio_colegio_B <- mean(colegio_B$Promedio, na.rm = TRUE)\n",
    "sd_colegio_B <- sd(colegio_B$Promedio, na.rm = TRUE)\n",
    "z_colegio_B <- (calificacion - promedio_colegio_B)/sd_colegio_B\n",
    "print(paste(\"Colegio_B:\", round(z_colegio_B, 2)))"
   ]
  },
  {
   "cell_type": "code",
   "execution_count": null,
   "id": "9fa824df-3117-493e-a9ab-0c365ce157d7",
   "metadata": {},
   "outputs": [],
   "source": [
    "Victoria_primaria_primero_mat <- filter(Victoria_primaria, asignatura == \"MATEMATICA\" & Año_curso == \"PRIMERO\" & ModEnseñanza == \"Comun\")\n",
    "Victoria_primaria_primero_len <- filter(Victoria_primaria, asignatura == \"LENGUA\" & Año_curso == \"PRIMERO\" & ModEnseñanza == \"Comun\")"
   ]
  },
  {
   "cell_type": "code",
   "execution_count": null,
   "id": "420030d2-1818-4e47-acfb-7d15ac75d88d",
   "metadata": {},
   "outputs": [],
   "source": [
    "# Realizar la prueba de Kolmogorov-Smirnov para la normalidad\n",
    "ks.test(Victoria_primaria_primero_mat$Promedio, \"pnorm\")\n",
    "ks.test(Victoria_primaria_primero_len$Promedio, \"pnorm\")"
   ]
  },
  {
   "cell_type": "code",
   "execution_count": null,
   "id": "08e7ff1b-f1fb-4cc7-86f0-b72e04ae8e7b",
   "metadata": {},
   "outputs": [],
   "source": [
    "# Realizar la prueba de Anderson-Darling para la normalidad\n",
    "ad.test(Victoria_primaria_primero_mat$Promedio)\n",
    "ad.test(Victoria_primaria_primero_len$Promedio)"
   ]
  },
  {
   "cell_type": "code",
   "execution_count": null,
   "id": "b984a636-040e-4a75-95cb-661dd55c0837",
   "metadata": {},
   "outputs": [],
   "source": [
    "# Realizar el test de Lilliefors para la normalidad\n",
    "lillie.test(Victoria_primaria_primero_mat$Promedio)\n",
    "lillie.test(Victoria_primaria_primero_len$Promedio)"
   ]
  },
  {
   "cell_type": "code",
   "execution_count": null,
   "id": "4e943bec-1a96-48a0-ab03-7927a44a6f81",
   "metadata": {},
   "outputs": [],
   "source": [
    "shapiro.test(Victoria_primaria_primero_mat$Promedio)\n",
    "shapiro.test(Victoria_primaria_primero_len$Promedio)"
   ]
  },
  {
   "cell_type": "code",
   "execution_count": null,
   "id": "24000e34-196a-472e-9427-9610e5014e05",
   "metadata": {},
   "outputs": [],
   "source": [
    "qqnorm(as.numeric(Victoria_primaria_primero_mat[!is.na(Victoria_primaria_primero_mat$Promedio),]$Promedio))\n",
    "qqline(as.numeric(Victoria_primaria_primero_mat[!is.na(Victoria_primaria_primero_mat$Promedio),]$Promedio))\n",
    "\n",
    "qqnorm(as.numeric(Victoria_primaria_primero_len[!is.na(Victoria_primaria_primero_len$Promedio),]$Promedio))\n",
    "qqline(as.numeric(Victoria_primaria_primero_len[!is.na(Victoria_primaria_primero_len$Promedio),]$Promedio))"
   ]
  },
  {
   "cell_type": "code",
   "execution_count": null,
   "id": "62bc5211-eb31-49b6-af53-28a260f88cf6",
   "metadata": {},
   "outputs": [],
   "source": [
    "estandar_mat <- scale(Victoria_primaria_primero_mat$Promedio)\n",
    "estandar_len <- scale(Victoria_primaria_primero_len$Promedio)"
   ]
  },
  {
   "cell_type": "code",
   "execution_count": null,
   "id": "dcbaea56-5a0f-4e27-a625-79c18eaa3345",
   "metadata": {},
   "outputs": [],
   "source": [
    "shapiro.test(estandar_mat)\n",
    "shapiro.test(estandar_len)"
   ]
  },
  {
   "cell_type": "code",
   "execution_count": null,
   "id": "093e029e-43d8-4a4d-bbb5-7c75848b66d4",
   "metadata": {},
   "outputs": [],
   "source": [
    "lillie.test(estandar_mat)\n",
    "lillie.test(estandar_len)"
   ]
  },
  {
   "cell_type": "code",
   "execution_count": null,
   "id": "d72bed2f-00f9-42b9-8c1c-93bee3c23595",
   "metadata": {},
   "outputs": [],
   "source": [
    "# Realizar la prueba de Anderson-Darling para la normalidad\n",
    "ad.test(estandar_mat)\n",
    "ad.test(estandar_len)"
   ]
  },
  {
   "cell_type": "code",
   "execution_count": null,
   "id": "17f7ea4d-0fb4-4d4c-af0b-c9faffc1d0a3",
   "metadata": {},
   "outputs": [],
   "source": [
    "# Realizar la prueba de Kolmogorov-Smirnov para la normalidad\n",
    "ks.test(estandar_mat, \"pnorm\")\n",
    "ks.test(estandar_len, \"pnorm\")"
   ]
  }
 ],
 "metadata": {
  "kernelspec": {
   "display_name": "R",
   "language": "R",
   "name": "ir"
  },
  "language_info": {
   "codemirror_mode": "r",
   "file_extension": ".r",
   "mimetype": "text/x-r-source",
   "name": "R",
   "pygments_lexer": "r",
   "version": "4.1.3"
  }
 },
 "nbformat": 4,
 "nbformat_minor": 5
}
