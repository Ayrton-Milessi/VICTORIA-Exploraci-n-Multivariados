{
 "cells": [
  {
   "cell_type": "code",
   "execution_count": 6,
   "id": "095672ec",
   "metadata": {},
   "outputs": [],
   "source": [
    "library(dplyr)\n",
    "library(readxl)\n",
    "library(stringr)\n",
    "library(ggplot2)\n",
    "library(\"DescTools\")"
   ]
  },
  {
   "cell_type": "code",
   "execution_count": 8,
   "id": "4302310a",
   "metadata": {},
   "outputs": [],
   "source": [
    "Victoria <- read_excel(\"C:/Users/ayrto/OneDrive/Escritorio/Exploración de Datos Multivariados/pruebas1.xlsx\")"
   ]
  },
  {
   "cell_type": "markdown",
   "id": "efce8184",
   "metadata": {},
   "source": [
    "### Actividad 1"
   ]
  },
  {
   "cell_type": "markdown",
   "id": "e3e549de",
   "metadata": {},
   "source": [
    "### A. (terminada)"
   ]
  },
  {
   "cell_type": "markdown",
   "id": "e837f81a",
   "metadata": {},
   "source": [
    "### B."
   ]
  },
  {
   "cell_type": "code",
   "execution_count": 14,
   "id": "9509e3aa",
   "metadata": {},
   "outputs": [],
   "source": [
    "# Creamos la variable desempeño segun el promedio conseguido\n",
    "Victoria <- Victoria %>%\n",
    "    mutate(Desempeño = case_when(\n",
    "    Promedio < 4 ~ \"Insuficiente\",\n",
    "    Promedio >= 4 & Promedio < 6 ~ \"Regular\",\n",
    "    Promedio >= 6 & Promedio < 7 ~ \"Aprobado\",\n",
    "    Promedio >= 7 & Promedio < 8 ~ \"Bueno\",\n",
    "    Promedio >= 8 & Promedio < 9 ~ \"Muy Bueno\",\n",
    "    Promedio >= 9 & Promedio <= 10 ~ \"Distinguido\"))\n",
    "\n",
    "# Reordenamos las variables\n",
    "Victoria <- dplyr::select(Victoria,'CodigoUnicoEscolar','departamento','Gestión','turno','Año_curso','Documento','asignatura','idalumno','NivelEnseñanza','Modalidad','ModEnseñanza','NotasPrimerT','NotasSegundoT','NotasTercerT','Promedio', 'Desempeño','Condición', 'Rango_edad', \"Total_asignaturas\", \"asignaturas_aprobadas\", \"asignaturas_desaprobadas\", \"porcentaje_aprobadas\", \"porcentaje_desaprobadas\")"
   ]
  },
  {
   "cell_type": "markdown",
   "id": "ef5845ca",
   "metadata": {},
   "source": [
    "### C."
   ]
  },
  {
   "cell_type": "code",
   "execution_count": 18,
   "id": "5a9e1d6e",
   "metadata": {},
   "outputs": [],
   "source": [
    "# Creamos la variable eximido segun la cantidad de materias que tiene que rendir cada alumno\n",
    "Victoria <- Victoria %>%\n",
    "    mutate(Eximido = case_when(\n",
    "    asignaturas_desaprobadas == 0 ~ \"No se llevó ninguna materia\",\n",
    "    asignaturas_desaprobadas >= 1 & asignaturas_desaprobadas <= 3 ~ \"Se llevó entre 1 y 3 materias\",\n",
    "    asignaturas_desaprobadas > 3 ~ \"Se llevó más de tres materias\"))\n",
    "\n",
    "# Reordenamos las variables\n",
    "Victoria <- dplyr::select(Victoria,'CodigoUnicoEscolar','departamento','Gestión','turno','Año_curso','Documento','asignatura','idalumno','NivelEnseñanza','Modalidad','ModEnseñanza','NotasPrimerT','NotasSegundoT','NotasTercerT','Promedio', 'Desempeño','Condición', 'Eximido', 'Rango_edad', \"Total_asignaturas\", \"asignaturas_aprobadas\", \"asignaturas_desaprobadas\", \"porcentaje_aprobadas\", \"porcentaje_desaprobadas\")"
   ]
  },
  {
   "cell_type": "markdown",
   "id": "725cfa74",
   "metadata": {},
   "source": [
    "### D."
   ]
  },
  {
   "cell_type": "code",
   "execution_count": null,
   "id": "66a4f95f",
   "metadata": {},
   "outputs": [],
   "source": [
    "# Nos planteamos un desafío interesante, calcular la edad según el documento de cada estudiante\n",
    "# A traves de documentos de personas conocidas por nosotros y sabiendo las edades, logramos establecer un\n",
    "#rango para las edades.\n",
    "Notas_Victoria_primaria <- Notas_Victoria_primaria %>%\n",
    "    mutate(Rango_edad = case_when(\n",
    "    Documento > 56361672 & Documento <= 60000000 ~ \"(5 - 6) años\",\n",
    "    Documento > 57000000 & Documento <= 56361672 ~ \"(6 - 7) años\",\n",
    "    Documento > 55500000 & Documento <= 57000000 ~ \"(7 - 8) años\",\n",
    "    Documento > 54000000 & Documento <= 55500000 ~ \"(8 - 9) años\",\n",
    "    Documento > 52500000 & Documento <= 54000000 ~ \"(9 - 10) años\",\n",
    "    Documento > 51000000 & Documento <= 52500000 ~ \"(10 - 11) años\",\n",
    "    Documento > 49500000 & Documento <= 51000000 ~ \"(11 - 12) años\",\n",
    "    Documento > 48000000 & Documento <= 49500000 ~ \"(12 - 13) años\",\n",
    "    TRUE ~ \"Fuera de rango. Este DNI puede pertenercer a una persona extranjera o esta mal cargado\"\n",
    "))\n",
    "# Hay que aclarar que este tipo de \"asignación\" de edad según el documento puede tener muchos errores."
   ]
  },
  {
   "cell_type": "markdown",
   "id": "e240de49",
   "metadata": {},
   "source": [
    "### Actividad 2"
   ]
  },
  {
   "cell_type": "code",
   "execution_count": 163,
   "id": "76cef36d",
   "metadata": {},
   "outputs": [],
   "source": [
    "Notas_Victoria_1Grado <- distinct(filter(Victoria, Año_curso == \"PRIMERO\"))\n",
    "Notas_Victoria_2Grado <- distinct(filter(Victoria, Año_curso == \"SEGUNDO\"))\n",
    "Notas_Victoria_3Grado <- distinct(filter(Victoria, Año_curso == \"TERCERO\"))\n",
    "Notas_Victoria_4Grado <- distinct(filter(Victoria, Año_curso == \"CUARTO\"))\n",
    "Notas_Victoria_5Grado <- distinct(filter(Victoria, Año_curso == \"QUINTO\"))\n",
    "Notas_Victoria_6Grado <- distinct(filter(Victoria, Año_curso == \"SEXTO\"))"
   ]
  },
  {
   "cell_type": "markdown",
   "id": "76a7f931",
   "metadata": {},
   "source": [
    "### A."
   ]
  },
  {
   "cell_type": "code",
   "execution_count": 137,
   "id": "af9250b5",
   "metadata": {},
   "outputs": [
    {
     "data": {
      "text/plain": [
       "         Condición\n",
       "Año_curso Aprobado Rinde\n",
       "  PRIMERO     4865   255\n",
       "  SEGUNDO     4945   243\n",
       "  TERCERO     5238   300\n",
       "  CUARTO      4134   282\n",
       "  QUINTO      4619   417\n",
       "  SEXTO       5233   359"
      ]
     },
     "metadata": {},
     "output_type": "display_data"
    }
   ],
   "source": [
    "prueba <- Victoria %>%\n",
    "    select('Año_curso', 'Condición') %>%\n",
    "    table()\n",
    "prueba"
   ]
  },
  {
   "cell_type": "code",
   "execution_count": 138,
   "id": "3486b21c",
   "metadata": {},
   "outputs": [
    {
     "data": {
      "text/html": [
       "<table class=\"dataframe\">\n",
       "<caption>A matrix: 6 × 2 of type int</caption>\n",
       "<tbody>\n",
       "\t<tr><td>4945</td><td>243</td></tr>\n",
       "\t<tr><td>4134</td><td>282</td></tr>\n",
       "\t<tr><td>5233</td><td>359</td></tr>\n",
       "\t<tr><td>4865</td><td>255</td></tr>\n",
       "\t<tr><td>5238</td><td>300</td></tr>\n",
       "\t<tr><td>4619</td><td>417</td></tr>\n",
       "</tbody>\n",
       "</table>\n"
      ],
      "text/latex": [
       "A matrix: 6 × 2 of type int\n",
       "\\begin{tabular}{ll}\n",
       "\t 4945 & 243\\\\\n",
       "\t 4134 & 282\\\\\n",
       "\t 5233 & 359\\\\\n",
       "\t 4865 & 255\\\\\n",
       "\t 5238 & 300\\\\\n",
       "\t 4619 & 417\\\\\n",
       "\\end{tabular}\n"
      ],
      "text/markdown": [
       "\n",
       "A matrix: 6 × 2 of type int\n",
       "\n",
       "| 4945 | 243 |\n",
       "| 4134 | 282 |\n",
       "| 5233 | 359 |\n",
       "| 4865 | 255 |\n",
       "| 5238 | 300 |\n",
       "| 4619 | 417 |\n",
       "\n"
      ],
      "text/plain": [
       "     [,1] [,2]\n",
       "[1,] 4945 243 \n",
       "[2,] 4134 282 \n",
       "[3,] 5233 359 \n",
       "[4,] 4865 255 \n",
       "[5,] 5238 300 \n",
       "[6,] 4619 417 "
      ]
     },
     "metadata": {},
     "output_type": "display_data"
    }
   ],
   "source": [
    "# Reordenamos la tabla\n",
    "prueba1 <- rbind(prueba[2,], prueba[4,], prueba[6,], prueba[1,], prueba[3,], prueba[5,])\n",
    "prueba1 <- cbind(prueba1[,1], prueba1[,2])\n",
    "prueba1"
   ]
  },
  {
   "cell_type": "code",
   "execution_count": 139,
   "id": "b248feab",
   "metadata": {},
   "outputs": [
    {
     "data": {
      "text/html": [
       "<style>\n",
       ".list-inline {list-style: none; margin:0; padding: 0}\n",
       ".list-inline>li {display: inline-block}\n",
       ".list-inline>li:not(:last-child)::after {content: \"\\00b7\"; padding: 0 .5ex}\n",
       "</style>\n",
       "<ol class=list-inline><li>5188</li><li>4416</li><li>5592</li><li>5120</li><li>5538</li><li>5036</li></ol>\n"
      ],
      "text/latex": [
       "\\begin{enumerate*}\n",
       "\\item 5188\n",
       "\\item 4416\n",
       "\\item 5592\n",
       "\\item 5120\n",
       "\\item 5538\n",
       "\\item 5036\n",
       "\\end{enumerate*}\n"
      ],
      "text/markdown": [
       "1. 5188\n",
       "2. 4416\n",
       "3. 5592\n",
       "4. 5120\n",
       "5. 5538\n",
       "6. 5036\n",
       "\n",
       "\n"
      ],
      "text/plain": [
       "[1] 5188 4416 5592 5120 5538 5036"
      ]
     },
     "metadata": {},
     "output_type": "display_data"
    },
    {
     "data": {
      "text/html": [
       "<style>\n",
       ".list-inline {list-style: none; margin:0; padding: 0}\n",
       ".list-inline>li {display: inline-block}\n",
       ".list-inline>li:not(:last-child)::after {content: \"\\00b7\"; padding: 0 .5ex}\n",
       "</style>\n",
       "<ol class=list-inline><li>29034</li><li>1856</li></ol>\n"
      ],
      "text/latex": [
       "\\begin{enumerate*}\n",
       "\\item 29034\n",
       "\\item 1856\n",
       "\\end{enumerate*}\n"
      ],
      "text/markdown": [
       "1. 29034\n",
       "2. 1856\n",
       "\n",
       "\n"
      ],
      "text/plain": [
       "[1] 29034  1856"
      ]
     },
     "metadata": {},
     "output_type": "display_data"
    }
   ],
   "source": [
    "# Sumar totales por fila para obtener distribución marginal por fila\n",
    "row_marginals <- margin.table(prueba1,1)\n",
    "row_marginals\n",
    "\n",
    "# Sumar totales por columna para obtenr distribución marginal por columna\n",
    "col_marginals <- margin.table(prueba1, 2)\n",
    "col_marginals"
   ]
  },
  {
   "cell_type": "code",
   "execution_count": 140,
   "id": "91a0b010",
   "metadata": {},
   "outputs": [
    {
     "data": {
      "text/html": [
       "<table class=\"dataframe\">\n",
       "<caption>A matrix: 7 × 3 of type int</caption>\n",
       "<thead>\n",
       "\t<tr><th></th><th scope=col></th><th scope=col></th><th scope=col>Total</th></tr>\n",
       "</thead>\n",
       "<tbody>\n",
       "\t<tr><th scope=row></th><td> 4945</td><td> 243</td><td> 5188</td></tr>\n",
       "\t<tr><th scope=row></th><td> 4134</td><td> 282</td><td> 4416</td></tr>\n",
       "\t<tr><th scope=row></th><td> 5233</td><td> 359</td><td> 5592</td></tr>\n",
       "\t<tr><th scope=row></th><td> 4865</td><td> 255</td><td> 5120</td></tr>\n",
       "\t<tr><th scope=row></th><td> 5238</td><td> 300</td><td> 5538</td></tr>\n",
       "\t<tr><th scope=row></th><td> 4619</td><td> 417</td><td> 5036</td></tr>\n",
       "\t<tr><th scope=row>Total</th><td>29034</td><td>1856</td><td>30890</td></tr>\n",
       "</tbody>\n",
       "</table>\n"
      ],
      "text/latex": [
       "A matrix: 7 × 3 of type int\n",
       "\\begin{tabular}{r|lll}\n",
       "  &  &  & Total\\\\\n",
       "\\hline\n",
       "\t &  4945 &  243 &  5188\\\\\n",
       "\t &  4134 &  282 &  4416\\\\\n",
       "\t &  5233 &  359 &  5592\\\\\n",
       "\t &  4865 &  255 &  5120\\\\\n",
       "\t &  5238 &  300 &  5538\\\\\n",
       "\t &  4619 &  417 &  5036\\\\\n",
       "\tTotal & 29034 & 1856 & 30890\\\\\n",
       "\\end{tabular}\n"
      ],
      "text/markdown": [
       "\n",
       "A matrix: 7 × 3 of type int\n",
       "\n",
       "| <!--/--> | <!----> | <!----> | Total |\n",
       "|---|---|---|---|\n",
       "| <!----> |  4945 |  243 |  5188 |\n",
       "| <!----> |  4134 |  282 |  4416 |\n",
       "| <!----> |  5233 |  359 |  5592 |\n",
       "| <!----> |  4865 |  255 |  5120 |\n",
       "| <!----> |  5238 |  300 |  5538 |\n",
       "| <!----> |  4619 |  417 |  5036 |\n",
       "| Total | 29034 | 1856 | 30890 |\n",
       "\n"
      ],
      "text/plain": [
       "                 Total\n",
       "       4945  243  5188\n",
       "       4134  282  4416\n",
       "       5233  359  5592\n",
       "       4865  255  5120\n",
       "       5238  300  5538\n",
       "       4619  417  5036\n",
       "Total 29034 1856 30890"
      ]
     },
     "metadata": {},
     "output_type": "display_data"
    }
   ],
   "source": [
    "# Tabla de contigencia con marginales fila y columna\n",
    "prueba_total <- cbind(prueba1, \"Total\"= margin.table(prueba1,1))\n",
    "prueba_total <- rbind(prueba_total, \"Total\"=margin.table(prueba_total,2))\n",
    "prueba_total"
   ]
  },
  {
   "cell_type": "markdown",
   "id": "b462da05",
   "metadata": {},
   "source": [
    "### B."
   ]
  },
  {
   "cell_type": "code",
   "execution_count": 141,
   "id": "752d1ec8",
   "metadata": {},
   "outputs": [
    {
     "data": {
      "text/html": [
       "<table class=\"dataframe\">\n",
       "<caption>A matrix: 7 × 3 of type dbl</caption>\n",
       "<thead>\n",
       "\t<tr><th></th><th scope=col></th><th scope=col></th><th scope=col>Total</th></tr>\n",
       "</thead>\n",
       "<tbody>\n",
       "\t<tr><th scope=row></th><td>16.0</td><td>0.8</td><td> 16.8</td></tr>\n",
       "\t<tr><th scope=row></th><td>13.4</td><td>0.9</td><td> 14.3</td></tr>\n",
       "\t<tr><th scope=row></th><td>16.9</td><td>1.2</td><td> 18.1</td></tr>\n",
       "\t<tr><th scope=row></th><td>15.7</td><td>0.8</td><td> 16.6</td></tr>\n",
       "\t<tr><th scope=row></th><td>17.0</td><td>1.0</td><td> 17.9</td></tr>\n",
       "\t<tr><th scope=row></th><td>15.0</td><td>1.3</td><td> 16.3</td></tr>\n",
       "\t<tr><th scope=row>Total</th><td>94.0</td><td>6.0</td><td>100.0</td></tr>\n",
       "</tbody>\n",
       "</table>\n"
      ],
      "text/latex": [
       "A matrix: 7 × 3 of type dbl\n",
       "\\begin{tabular}{r|lll}\n",
       "  &  &  & Total\\\\\n",
       "\\hline\n",
       "\t & 16.0 & 0.8 &  16.8\\\\\n",
       "\t & 13.4 & 0.9 &  14.3\\\\\n",
       "\t & 16.9 & 1.2 &  18.1\\\\\n",
       "\t & 15.7 & 0.8 &  16.6\\\\\n",
       "\t & 17.0 & 1.0 &  17.9\\\\\n",
       "\t & 15.0 & 1.3 &  16.3\\\\\n",
       "\tTotal & 94.0 & 6.0 & 100.0\\\\\n",
       "\\end{tabular}\n"
      ],
      "text/markdown": [
       "\n",
       "A matrix: 7 × 3 of type dbl\n",
       "\n",
       "| <!--/--> | <!----> | <!----> | Total |\n",
       "|---|---|---|---|\n",
       "| <!----> | 16.0 | 0.8 |  16.8 |\n",
       "| <!----> | 13.4 | 0.9 |  14.3 |\n",
       "| <!----> | 16.9 | 1.2 |  18.1 |\n",
       "| <!----> | 15.7 | 0.8 |  16.6 |\n",
       "| <!----> | 17.0 | 1.0 |  17.9 |\n",
       "| <!----> | 15.0 | 1.3 |  16.3 |\n",
       "| Total | 94.0 | 6.0 | 100.0 |\n",
       "\n"
      ],
      "text/plain": [
       "               Total\n",
       "      16.0 0.8  16.8\n",
       "      13.4 0.9  14.3\n",
       "      16.9 1.2  18.1\n",
       "      15.7 0.8  16.6\n",
       "      17.0 1.0  17.9\n",
       "      15.0 1.3  16.3\n",
       "Total 94.0 6.0 100.0"
      ]
     },
     "metadata": {},
     "output_type": "display_data"
    }
   ],
   "source": [
    "# Tabla contingencia ~ Porcentaje Total\n",
    "tabla_cont_total <- prop.table(prueba1)*100\n",
    "tabla_cont_total <- cbind(tabla_cont_total, \"Total\"=margin.table(tabla_cont_total,1))\n",
    "tabla_cont_total <- rbind(tabla_cont_total, \"Total\"=margin.table(tabla_cont_total,2))\n",
    "round(tabla_cont_total,1)"
   ]
  },
  {
   "cell_type": "code",
   "execution_count": 142,
   "id": "217d8676",
   "metadata": {},
   "outputs": [
    {
     "data": {
      "text/html": [
       "<table class=\"dataframe\">\n",
       "<caption>A matrix: 7 × 3 of type dbl</caption>\n",
       "<thead>\n",
       "\t<tr><th></th><th scope=col></th><th scope=col></th><th scope=col>Total</th></tr>\n",
       "</thead>\n",
       "<tbody>\n",
       "\t<tr><th scope=row></th><td>95.3</td><td>4.7</td><td>100</td></tr>\n",
       "\t<tr><th scope=row></th><td>93.6</td><td>6.4</td><td>100</td></tr>\n",
       "\t<tr><th scope=row></th><td>93.6</td><td>6.4</td><td>100</td></tr>\n",
       "\t<tr><th scope=row></th><td>95.0</td><td>5.0</td><td>100</td></tr>\n",
       "\t<tr><th scope=row></th><td>94.6</td><td>5.4</td><td>100</td></tr>\n",
       "\t<tr><th scope=row></th><td>91.7</td><td>8.3</td><td>100</td></tr>\n",
       "\t<tr><th scope=row>Total</th><td>94.0</td><td>6.0</td><td>100</td></tr>\n",
       "</tbody>\n",
       "</table>\n"
      ],
      "text/latex": [
       "A matrix: 7 × 3 of type dbl\n",
       "\\begin{tabular}{r|lll}\n",
       "  &  &  & Total\\\\\n",
       "\\hline\n",
       "\t & 95.3 & 4.7 & 100\\\\\n",
       "\t & 93.6 & 6.4 & 100\\\\\n",
       "\t & 93.6 & 6.4 & 100\\\\\n",
       "\t & 95.0 & 5.0 & 100\\\\\n",
       "\t & 94.6 & 5.4 & 100\\\\\n",
       "\t & 91.7 & 8.3 & 100\\\\\n",
       "\tTotal & 94.0 & 6.0 & 100\\\\\n",
       "\\end{tabular}\n"
      ],
      "text/markdown": [
       "\n",
       "A matrix: 7 × 3 of type dbl\n",
       "\n",
       "| <!--/--> | <!----> | <!----> | Total |\n",
       "|---|---|---|---|\n",
       "| <!----> | 95.3 | 4.7 | 100 |\n",
       "| <!----> | 93.6 | 6.4 | 100 |\n",
       "| <!----> | 93.6 | 6.4 | 100 |\n",
       "| <!----> | 95.0 | 5.0 | 100 |\n",
       "| <!----> | 94.6 | 5.4 | 100 |\n",
       "| <!----> | 91.7 | 8.3 | 100 |\n",
       "| Total | 94.0 | 6.0 | 100 |\n",
       "\n"
      ],
      "text/plain": [
       "               Total\n",
       "      95.3 4.7 100  \n",
       "      93.6 6.4 100  \n",
       "      93.6 6.4 100  \n",
       "      95.0 5.0 100  \n",
       "      94.6 5.4 100  \n",
       "      91.7 8.3 100  \n",
       "Total 94.0 6.0 100  "
      ]
     },
     "metadata": {},
     "output_type": "display_data"
    }
   ],
   "source": [
    "# Tabla contingencia ~ Porcentaje Fila\n",
    "tabla_cont_filas <- prop.table(rbind(prueba1, \"Total\"=margin.table(prueba1, 2)),1)*100\n",
    "tabla_cont_filas <- cbind(tabla_cont_filas, \"Total\"=margin.table(tabla_cont_filas,1))\n",
    "round(tabla_cont_filas,1)"
   ]
  },
  {
   "cell_type": "code",
   "execution_count": 143,
   "id": "28bd38bd",
   "metadata": {},
   "outputs": [
    {
     "data": {
      "text/html": [
       "<table class=\"dataframe\">\n",
       "<caption>A matrix: 7 × 3 of type dbl</caption>\n",
       "<thead>\n",
       "\t<tr><th></th><th scope=col></th><th scope=col></th><th scope=col>Total</th></tr>\n",
       "</thead>\n",
       "<tbody>\n",
       "\t<tr><th scope=row></th><td> 17.0</td><td> 13.1</td><td> 16.8</td></tr>\n",
       "\t<tr><th scope=row></th><td> 14.2</td><td> 15.2</td><td> 14.3</td></tr>\n",
       "\t<tr><th scope=row></th><td> 18.0</td><td> 19.3</td><td> 18.1</td></tr>\n",
       "\t<tr><th scope=row></th><td> 16.8</td><td> 13.7</td><td> 16.6</td></tr>\n",
       "\t<tr><th scope=row></th><td> 18.0</td><td> 16.2</td><td> 17.9</td></tr>\n",
       "\t<tr><th scope=row></th><td> 15.9</td><td> 22.5</td><td> 16.3</td></tr>\n",
       "\t<tr><th scope=row>Total</th><td>100.0</td><td>100.0</td><td>100.0</td></tr>\n",
       "</tbody>\n",
       "</table>\n"
      ],
      "text/latex": [
       "A matrix: 7 × 3 of type dbl\n",
       "\\begin{tabular}{r|lll}\n",
       "  &  &  & Total\\\\\n",
       "\\hline\n",
       "\t &  17.0 &  13.1 &  16.8\\\\\n",
       "\t &  14.2 &  15.2 &  14.3\\\\\n",
       "\t &  18.0 &  19.3 &  18.1\\\\\n",
       "\t &  16.8 &  13.7 &  16.6\\\\\n",
       "\t &  18.0 &  16.2 &  17.9\\\\\n",
       "\t &  15.9 &  22.5 &  16.3\\\\\n",
       "\tTotal & 100.0 & 100.0 & 100.0\\\\\n",
       "\\end{tabular}\n"
      ],
      "text/markdown": [
       "\n",
       "A matrix: 7 × 3 of type dbl\n",
       "\n",
       "| <!--/--> | <!----> | <!----> | Total |\n",
       "|---|---|---|---|\n",
       "| <!----> |  17.0 |  13.1 |  16.8 |\n",
       "| <!----> |  14.2 |  15.2 |  14.3 |\n",
       "| <!----> |  18.0 |  19.3 |  18.1 |\n",
       "| <!----> |  16.8 |  13.7 |  16.6 |\n",
       "| <!----> |  18.0 |  16.2 |  17.9 |\n",
       "| <!----> |  15.9 |  22.5 |  16.3 |\n",
       "| Total | 100.0 | 100.0 | 100.0 |\n",
       "\n"
      ],
      "text/plain": [
       "                  Total\n",
       "       17.0  13.1  16.8\n",
       "       14.2  15.2  14.3\n",
       "       18.0  19.3  18.1\n",
       "       16.8  13.7  16.6\n",
       "       18.0  16.2  17.9\n",
       "       15.9  22.5  16.3\n",
       "Total 100.0 100.0 100.0"
      ]
     },
     "metadata": {},
     "output_type": "display_data"
    }
   ],
   "source": [
    "# Tabla contingencia ~ Porcentaje Columna\n",
    "tabla_cont_col <- prop.table(cbind(prueba1, \"Total\"=margin.table(prueba1, 1)),2)*100\n",
    "tabla_cont_col <- rbind(tabla_cont_col, \"Total\"=margin.table(tabla_cont_col,2))\n",
    "round(tabla_cont_col,1)"
   ]
  },
  {
   "cell_type": "code",
   "execution_count": 144,
   "id": "d3716199",
   "metadata": {},
   "outputs": [
    {
     "name": "stdout",
     "output_type": "stream",
     "text": [
      "\n",
      "   Cell Contents\n",
      "|-------------------------|\n",
      "|                   Count |\n",
      "|             Row Percent |\n",
      "|          Column Percent |\n",
      "|           Total Percent |\n",
      "|-------------------------|\n",
      "\n",
      "Total Observations in Table:  30890 \n",
      "\n",
      "                   | Victoria$Condición \n",
      "Victoria$Año_curso | Aprobado  |    Rinde  | Row Total | \n",
      "-------------------|-----------|-----------|-----------|\n",
      "           PRIMERO |     4865  |      255  |     5120  | \n",
      "                   |     95.0% |      5.0% |     16.6% | \n",
      "                   |     16.8% |     13.7% |           | \n",
      "                   |     15.7% |      0.8% |           | \n",
      "-------------------|-----------|-----------|-----------|\n",
      "           SEGUNDO |     4945  |      243  |     5188  | \n",
      "                   |     95.3% |      4.7% |     16.8% | \n",
      "                   |     17.0% |     13.1% |           | \n",
      "                   |     16.0% |      0.8% |           | \n",
      "-------------------|-----------|-----------|-----------|\n",
      "           TERCERO |     5238  |      300  |     5538  | \n",
      "                   |     94.6% |      5.4% |     17.9% | \n",
      "                   |     18.0% |     16.2% |           | \n",
      "                   |     17.0% |      1.0% |           | \n",
      "-------------------|-----------|-----------|-----------|\n",
      "            CUARTO |     4134  |      282  |     4416  | \n",
      "                   |     93.6% |      6.4% |     14.3% | \n",
      "                   |     14.2% |     15.2% |           | \n",
      "                   |     13.4% |      0.9% |           | \n",
      "-------------------|-----------|-----------|-----------|\n",
      "            QUINTO |     4619  |      417  |     5036  | \n",
      "                   |     91.7% |      8.3% |     16.3% | \n",
      "                   |     15.9% |     22.5% |           | \n",
      "                   |     15.0% |      1.3% |           | \n",
      "-------------------|-----------|-----------|-----------|\n",
      "             SEXTO |     5233  |      359  |     5592  | \n",
      "                   |     93.6% |      6.4% |     18.1% | \n",
      "                   |     18.0% |     19.3% |           | \n",
      "                   |     16.9% |      1.2% |           | \n",
      "-------------------|-----------|-----------|-----------|\n",
      "      Column Total |    29034  |     1856  |    30890  | \n",
      "                   |     94.0% |      6.0% |           | \n",
      "-------------------|-----------|-----------|-----------|\n",
      "\n",
      " \n"
     ]
    }
   ],
   "source": [
    "# Tabla de contigencia con libreria\n",
    "library(\"gmodels\")\n",
    "CrossTable(Victoria$Año_curso, Victoria$Condición, digits=1, prop.chisq = FALSE, format= \"SPSS\")"
   ]
  },
  {
   "cell_type": "markdown",
   "id": "faa9b9ea",
   "metadata": {},
   "source": [
    "### C."
   ]
  },
  {
   "cell_type": "code",
   "execution_count": 145,
   "id": "66b65a88",
   "metadata": {},
   "outputs": [
    {
     "data": {
      "text/plain": [
       "         \n",
       "          Aprobado Rinde\n",
       "  PRIMERO     95.0   5.0\n",
       "  SEGUNDO     95.3   4.7\n",
       "  TERCERO     94.6   5.4\n",
       "  CUARTO      93.6   6.4\n",
       "  QUINTO      91.7   8.3\n",
       "  SEXTO       93.6   6.4"
      ]
     },
     "metadata": {},
     "output_type": "display_data"
    }
   ],
   "source": [
    "# Organizamos los datos para hacer un grafico de barras adosadas\n",
    "# Grafico para la tabla de contigencia ~ porcentaje por fila\n",
    "Victoria$Año_curso <- factor(Victoria$Año_curso, levels= c('PRIMERO', 'SEGUNDO', 'TERCERO', 'CUARTO', 'QUINTO', 'SEXTO'))  \n",
    "tabla_variable_fila <- round(prop.table(table(Victoria$Condición, Victoria$Año_curso), 2)*100,1)\n",
    "tabla_variable_fila <- t(tabla_variable_fila)\n",
    "tabla_variable_fila"
   ]
  },
  {
   "cell_type": "code",
   "execution_count": 146,
   "id": "57cf2eb0",
   "metadata": {},
   "outputs": [
    {
     "data": {
      "image/png": "iVBORw0KGgoAAAANSUhEUgAAA0gAAANICAMAAADKOT/pAAAAQlBMVEUAAAAAAP8A/wBNTU1o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",
      "text/plain": [
       "Plot with title \" Grafico de Contigencia por fila\""
      ]
     },
     "metadata": {
      "image/png": {
       "height": 420,
       "width": 420
      }
     },
     "output_type": "display_data"
    }
   ],
   "source": [
    "grafico <- barplot(tabla_variable_fila,\n",
    "                  main= \" Grafico de Contigencia por fila\",\n",
    "                  beside= TRUE,\n",
    "                  space= c(0.1, 2.5),\n",
    "                  ylim= c(0, 100),\n",
    "                  cex.axis= 1.2,\n",
    "                  cex.names= 1.5,\n",
    "                  cex.main= 1.5,\n",
    "                  col= c(\"blue\", \"red\", \"green\", \"pink\", \"orange\", \"purple\"),\n",
    "                  xlab = \"Condición\",\n",
    "                  cex.lab = 1.5,\n",
    "                  ylab= \"Porcentaje\",\n",
    "                  col.lab= \"black\")\n",
    "\n",
    "legend(\"topright\", rownames(tabla_variable_fila),\n",
    "       title = \"Grados\",\n",
    "       title.adj = 0.5,     \n",
    "       title.col = \"black\",      \n",
    "       lty = c(1),\n",
    "       col= c(\"blue\", \"red\", \"green\", \"pink\", \"orange\", \"purple\"),\n",
    "       lwd = 2,\n",
    "       cex = 1.2) \n",
    "\n",
    "# valores sobre barras\n",
    "TC <- tabla_variable_fila\n",
    "text(grafico, TC+2.5,format(TC), cex=1)"
   ]
  },
  {
   "cell_type": "code",
   "execution_count": 147,
   "id": "96784c7d",
   "metadata": {},
   "outputs": [
    {
     "data": {
      "text/plain": [
       "         \n",
       "          Aprobado Rinde\n",
       "  PRIMERO     16.8  13.7\n",
       "  SEGUNDO     17.0  13.1\n",
       "  TERCERO     18.0  16.2\n",
       "  CUARTO      14.2  15.2\n",
       "  QUINTO      15.9  22.5\n",
       "  SEXTO       18.0  19.3"
      ]
     },
     "metadata": {},
     "output_type": "display_data"
    }
   ],
   "source": [
    "# Organizamos los datos para hacer un grafico de barras apiladas\n",
    "# Grafico para la tabla de contigencia ~ porcentaje por columna\n",
    "Victoria$Año_curso <- factor(Victoria$Año_curso, levels= c('PRIMERO', 'SEGUNDO', 'TERCERO', 'CUARTO', 'QUINTO', 'SEXTO'))  \n",
    "tabla_variable_col <- round(prop.table(table(Victoria$Condición, Victoria$Año_curso), 1)*100,1)\n",
    "tabla_variable_col <- t(tabla_variable_col)\n",
    "tabla_variable_col"
   ]
  },
  {
   "cell_type": "code",
   "execution_count": 148,
   "id": "e5486287",
   "metadata": {},
   "outputs": [
    {
     "data": {
      "image/png": "iVBORw0KGgoAAAANSUhEUgAAA0gAAANICAMAAADKOT/pAAAAQlBMVEUAAAAAAP8A/wBNTU1o\naGh8fHyMjIyampqgIPCnp6eysrK9vb3Hx8fQ0NDZ2dnh4eHp6enw8PD/AAD/pQD/wMv///8c\nfnFlAAAACXBIWXMAABJ0AAASdAHeZh94AAAgAElEQVR4nO3diZaySBJA4ZzBZdxQe8b3f9Vh\nJ4FERSODNOp+53T/VS6AwC0REd0DwNfc2hMAWEBIgABCAgQQEiCAkAABhAQIICRAACEBAggJ\nEEBIgABCAgQQEiCAkAABhAQIICRAACEBAggJEEBIgABCAgQQEiCAkAABhAQIICRAACEBAggJ\nEEBIgABCAgQQEiCAkAABhAQIICRAACEBAggJEEBIgABCAgQQEiDgz4S0c84d1p4ImPVXQroW\nHW3XngjYZSKky2FbdJLtzvfZmxRPSFn/222fFV0dHsW9Pp8BX91ZffixpzbVcWsx8ADzjesc\nZ25TPiHdBr9Vz1BphnTdRRg+IcX1+w/w6Hwzm2/FE9Kl/21f3zbNZ6TrrhksIf2Sn3+Aw47m\nn5N85e3Oj8f8huBbIq0eBtc6gw9p4tcfYL2VtruUUeTlnjn3Rh4yC5aQ3mXwIU38+gMsXx9l\nefvb6b193ISky+BDmvjxB1g9IV3734tXP5vy32rRHTO3qbb0rs1evfplUrcVOFjC511W7fjr\nBpXvi0g3e2/g7Tj3mcsO9+Gdy6fF8+SmL4daD+NYXLY9z0/ctXxYz8Y4Gcx03N7QBnOjU93g\ndiju4z3m0OR2s3Xho/SnYXBJOdKs/PtXblJsTvMPaWbKk/DjIR1HT0H3zbHaOVcuhlPzUsh7\nGbVtrxuvq9esvbB5ertv2wt2o1Eemssv0zv3T42PN4da/njLXkxcM8bsNjvGyWCm4+7uO5ob\nne4x9bM0OLndbF32KAfTMLjk0k7NwZ+swEOam/Ik/HhI5d/lPHC5vyRz1zs9guvq1btJtZv8\nnvW/D5facOdGecnN+30wLW8MtVr92ovO4Yk7tRdls2OcDGY67va+47kxmWX9NeHJLfl/XN58\nlP6/w0sGD68b+fQhzU55En48pH7RTC9vd3iXWwfFRsZtN1mw3Q/lEtsXK0G+bdaS8rabvHmP\nyl9t7uVd9vfHvd6F3gzfne71Cr/xJ+KNoVYDKTbarv14xhPXjrGa/pkxTgczGbd339Hc8GdZ\n98ju85M72rB681EOl9YgpHP7hkTzw8ycmZ3yJNgJqftr1f7SbvLdjptqY/0+6af94dKtxbfN\nodwBWP6VbQ6EKNcT73nm2N105925/gN5Hq5l7wy1WnnLC/LZiTt1g9nOjnEymMm4u8FO54Y3\n//pHdpqd3NHOnHcf5XBp+ZeUD+XWDvnmXzOcM7NTnoT0pmiRZyFNNvlm19XJBuK+T+LSLtBa\nf9N2AZe3vXcjCN50fqjlMK7vTtxldoyTwUw3eSdrXyik/pHtZid3NFvffZTDUfqXXCc/DC54\nPeVJSG+KFskG69QwpJt/w3t+3HYLYPxDNl4ym36w5d8/b4NtVG5z555303eGOl21nkzcfXaM\nk8FMxj1c+wZzY+6RzUzuYLYue5ThkMIPPzBn5qY8CelN0SLe38NJSN2N7ufd4MrJUnv6N294\n5TQkNxQeyNxQ3wjpnTFOBjNd17pLJnNj7pE9ndyPHuWXIc1NeRLSm6JFxru/QyEN9rMNbvUX\nQ5rOjblH9nRyP3qU00c7+6gDt52d8iSkN0WLVK9NvfdMp4uhekHuNvtTPr+zwdtArM1v2o22\nJR+hrajpTWeHuiik++wYJ4OZjLu9IjA3vBv0jyx7MbkfPcqvQpqf8iSkN0XLlE/2WVdSPl0M\n1YLtD2kI/vDqBbP3nDd96T/3VtZbQ30jpHfGOBnM7E0Cc8O7QX1NeGfDIXCfhY+yu/v1g5Dm\npzwJ6U3RMvXbgYdyUV7P9QeTyou9eT1depOldnbtLtx7vQv34ga7cL2nvPKm9ZsY28mdR94Z\n6hsh9YPZzI4x+Od7MO7J81s/N7xh1E+9ZRvnF5P70aPs3ko4fBDS/JQnIb0pWmj8MYr+SJvm\nBtUbhvfH/ZTNL7XBm4rlAMp/w2/ItoPr3x4tL9kV68v91KyzD3/Mz4c6E9Kt/IhHc0n3hux2\nfozTwUzG3VwRmBuP/p5ue6vfkK1KeDa5Hz3K6q3U6+N+7B7JgpDmpzwJ6U3RUqOS6jdyvHk9\nvP4+uLb9wT/6pPobevN2MQ/fRT8PBje5s7/n442hTguo3+gtH0Z7SXeIULffdzLG6WAm426u\nCMyNR3/Pbvqqbahnk/vRo2wP5esPduoGOPlh8pDmpzwJvx/S4KPmu2YrzF/i7SGUu1O7hkwX\nXz4+8PI2e9Bqu0AvgTuPPlb4eqiT1aVd27beJd3BnLNjDAxmPO72iuncePT3bBtojkl9Mrmf\nPcrJAb/TJTG55vWUJ8FASMWiPFT7HLyTnwyW+KU888n+Wm0kDbdQvJudm0F4Ay0/CnAIfYyi\nvPw2vHO1tXW8jW/7aqiBAqptpM1hcEkxlO3pMT/G0GBG4+5DHc8Nf1Lu5Sca/I9RzE3uh4/y\nsh1+IGRJSLNTngQTIf0VbnRUrPTAWRk+x7xLXrcL4xr1LzEhfYV5l7xN86Kl2i0W+BSuEEL6\nCvMued1eOzc4yaU0QvoK8y59h76jyd4MOYT0FebdD2hP+hFvu+5BSF9i3gECCAkQQEiAAEIC\nBBASIICQAAGEBAggJEAAIQECCAkQQEiAAEICBBASIICQAAGEBAggJEAAIQECCAkQ8GlIbkB0\nkpgIJuL3JuLjkP7lGQ/EexT+j/7YnPeQB7d6LDh7gPvHM73LeCImJ/X0pmUyWf5Ank/Evz2j\nm/YjfvpgxxO5fHa4/3kCt/YXgv/YvZOZuu47HwaT9GrM/kj+65mZCH+szYzvf/tm5N1I/uN5\nb50QmYA4IfX/DH/0Vo7BqAeLdbDAn0/E05D6obnJxeOVyvVTMFrFXk7Ms5CGkzG4YHC5e3WL\nV7PjRUjTsbSXDKZu+M+CBdHc/nlI4Rk/mPdfjLwby9OQwutEaCYsnYCYIY3/1L8MaZzey4l4\nFlJgIryL3fgWbnxjN7r17ER8GNJ0Ep7d4sXseB5SeHk8JiE9zeq15yHNzfjRRHw68m40z0Ka\nWScCf2IWT4BySP4CDK85bnzZs4l4J6TZH1+E9O7EfBNSaGpmbvF8djwNaeYxP56HtGRBNDd8\nFlJots6HtHzk3R3eCWk84GlIiyfAbkjeAN4Jqf7tb4Xk/B/G06oYkj8RUUMKrxOPfsX8fAJi\nhuQmP7rBT95L3MkdBEJ6dC8Wp2MajKGfqoghPX+wr2+hEdLgH82QvIcaN6TgOjEcT1IhDXd9\n9DuMhiGF77Bgyl6E9Gjn2/iP/WRvjUJIg2maPNjXt4gbUmClshnSI7BOVL+NxphISKMfu2mr\nH8F4jR3f6u0pex1SeEyji10/ASohBS/9bnZ8FNLoKfDbVembkPpL44c0nIZuLF/+GVEJaTCv\nZkMKLs7nEyEb0mP40i1qSKMH+/oWMUIK/BSYYpWQHsF9d38hpIH5gS4Oqb34nQl7ayJGM80b\n/POQ3OjWH03EY7Jgwn95v50dzyciMJbXIS1ZEO9ORPXO9DshLR/5WxPxdJ0Ijvn9vyKLp3TZ\nQIfrbb9yhtacub/VX02FX8x48JNbeEvZTW799WQMLpibhPAtvpwdkyEF/46MVx6pBTEY3HQi\nvHkfb+T+UGdmd+jPyYK/It9O2ouBBv74dCH1fzZGDyX4l/2DyRjt8Zh+A/PkNX0/Wf5AvpuK\nfkxzD3Y8kfKzw3tIwcc8HKF/r2/HPJqIh/dgVUfuDXU0u/uxDNtZNgFRQgL+GkICBBASIICQ\nAAGEBAggJEAAIQECCAkQQEiAAEICBBASIICQAAGEBAggJEAAIQECCAkQQEiAAEICBBASIICQ\nAAGEBAggJEAAIQECCAkQQEiAAEICBBASIICQAAGEBAggJEAAIQECCAkQQEiAAEICBBASIICQ\nAAGEBAggJEDAxyHlh1317eq7w0VyeoCf9GFIl8z1MlLCX/dZSNfimehyrX685cUzUy45ScDv\n+SykvdvP/gb8QZ+FlLm799vdscsCf9xnCYzKIST8dZ+GxDMS4JF5jbSTmRjgV30WUu7c3t9r\nx/5v/HEi7yOdZKcJ+Dkfv7q5cGQD0GE3ASCAkAABHLQKCOCgVUAAB60CAjhoFRDAQauAgEgH\nrTrfZ1MGOQ4horP4wwWz4Blp9sq152OqPlokT7n/YCqBkBYdtDof0tpzMk2EpCSBkBYdtEpI\nyxCSkgRCWnTQKiEtQ0hKUghpyUGrhLQMISlJIySBUbB4gwhJCSHZRkhKCMk2QlJCSLYRkhJC\nso2QlCQQ0qI34wlpGUJSkkBIR0KKh5CUJBDS4+Ky29ejYPEGEZKSFEIqStp8PQoWbxAhKUki\npGLr7t2z2RHSMoSkJI2QHtm7dyWkZQhJSSIhfT8KFm8QISkhJNsISQkh2UZISgjJNkJSQki2\nEZISQrKNkJQQkm2EpISQbCMkJYRkGyEpISTbCEkJIdlGSEoIyTZCUkJIthGSEkKyjZCUEJJt\nhKSEkGwjJCWEZBshKSEk2whJCSHZRkhKCMk2QlJCSLYRkhJCso2QlBCSbYSkhJBsIyQlhGQb\nISkhJNsISQkh2UZISgjJNkJSQki2EZISQrKNkJQQkm2EpISQbCMkJYRkGyEpISTbCEkJIdlG\nSEoIyTZCUkJIthGSEkKyjZCUEJJthKSEkGwjJCWEZBshKSEk2whJCSHZRkhKCMk2QlJCSLYR\nkhJCso2QlBCSbYSkhJBsIyQlhGQbISkhJNsISQkh2UZISgjJNkJSQki2EZISQrKNkJQQkm2E\npISQbCMkJYRkGyEpISTbCEkJIdlGSEoIyTZCUkJIthGSEkKyjZCUEJJthKSEkGwjJCWEZBsh\nKSEk2whJCSHZRkhKCMk2QlJCSLYRkhJCso2QlBCSbYSkhJBsIyQlhGQbISkhJNsISQkh2UZI\nSgjJNkJSQki2EZISQrKNkJQQkm2EpISQbCMkJYRkGyEpISTbCEkJIdlGSEoIyTZCUpJGSPlh\n50q7w+XTUbB4gwhJSQohXTLXy56nNB8Sgj5bJE8XwdrrbJISCOlaPBNdrtWPt7x4Zso/GoX7\nLwIISUkCIe3dfva390dBSEGEpCSBkDJ39367P98aIaRlCElJAiGNyiEkSYSkJImQeEaKhpCU\nJBDS+DXS7qNREFIQISlJIKTcub2/1+7p/m9CWiZGSAgRncWf3W34PtLps1EQUlCMkNZ+TElK\nIaQiJYEjG9aek2kiJCVphCQwChZvECEp+YWQ3toUZfEGEZKSlEK67Z3bPj1AiGekpQhJSRIh\nHTK3OT1u9T6Hw2ejYPEGEZKSFELaVgGdduWB33nmrh+NgsUbREhKEgjp4Pb3x714Vqr22OUc\ntCqJkJQkEFJz0Gq7H4FDhCQRkpIEQmrKIaQYCElJAiENn5E4aFUUISlJIKSDO9Svkao93xde\nI0kiJCUJhNTvtStKum3YayeJkJSkEFL1PtL5cXO8jySOkJQkEVKDIxvkEZKSlEL6ahQs3iBC\nUkJIthGSEkKyjZCUEJJthKSEkGwjJCWEZBshKSEk2whJCSHZRkhKCMk2QlJCSLYRkhJCso2Q\nlBCSbYSkhJBsIyQlhGQbISkhJNsISQkh2UZISgjJNkJSQki2EZISQrKNkJQQkm2EpISQbCMk\nJYRkGyEpISTbCEkJIdlGSEoIyTZCUkJIthGSEkKyjZCUEJJthKSEkGwjJCWEZBshKSEk2whJ\nCSHZRkhKCMk2QlJCSLYRkhJCso2QlBCSbYSkhJBsIyQlhGQbISkhJNsISQkh2UZISgjJNkJS\nQki2EZISQrKNkJQQkm2EpISQbCMkJYRkGyEpISTbCEkJIdlGSEoIyTZCUkJIthGSEkKyjZCU\nEJJthKSEkGwjJCWEZBshKSEk2whJCSHZRkhKCMk2QlJCSLYRkpJYIV32G1f8us8lh/8gpKUI\nSUmckG5FRa4MybmD5AgIaSlCUhIlpFvmupDcUXIMhLQQISmJElLR0TZ/lCFdipKuMUYxvWLt\nOZkmQlISI6RT0VH5m6t/Ft24I6RlCElJjJC29bNQFdLduU2EUQSuWHtOpomQlMQIqXp11ITU\n/iI8isAVa8/JNBGSEkKyjZCUxFjLd86Vbx9VBeXO7SKMInDF2nMyTYSkJEZIF29nQ/F66RJh\nFIErECQ585s5vfY6m6Qo213FU9Km2v2db+um5EcxveJ/CCAkJXFewGT9X8TsJjkGQlqIkJTE\nCem+bTvayHZESAsRkpKoB61me9HXR6NRjK5Ye5VNEyEpsfMxirVX2TQRkhJCso2QlBCSbYSk\nRDak+n2L6ZsZm73UIeCEtAwhKdEJyYl9mIKQliEkJWoh7YVGMXvF2qtsmghJic5rpLPYsSqE\ntAwhKVHa2UBIKyEkJUohbaQ+3kdIyxCSEq3d33ehQ4UIaRlCUhI9pOtZ9PBvQlqGkJTECem0\n9XfYRRnF5Iq1V9k0EZKSWJ9HIqQ0EJKSSJ+Q9Y9qED1rMSEtQ0hKYoS0d257rz5pnkt/0pyQ\nFiIkJTFCyqqTn9SbdEVJ9wijCFyx9iqbJkJSEu90XPvqVEL5W2dazQ/1y6rd4dXzFyEtQ0hK\n4oV0rg+ve+NMqxfvFA8ue54SIS1DSEoibdpVv2XV/1/utbsWz0SX+uDwW96cE+/VKAJXrL3K\npomQlEQ8QWRWvjq6vw5pPzgyfP/8OHFCWoaQlMQI6Vxszl3LJHbVzoZXm3bZYHfE/Xl4hLQM\nISmJ8m5p5trvRiq9+qaxUTmEJImQlEQJ6Va/SjpUHb081M7xjBQPISmJdILIY7U9d9q47PXO\n7/FrpKcn3SekZQhJSQJnEcqd2/t77Z7u/yakZQhJSbz3kRrb19t2w/eRTu+MInDF2qtsmghJ\nSfSQ3jr6+8KRDZEQkpLYIeV8jGJVhKREdi2/h07E9fXZGt76cBMhBRGSEuGni0MgpOcvekrH\n6mCifF+8Qjq8OLcDIS1DSEqEQ5o+JWWv3o+tjn54PLoGOWhVEiEpib6z4bVTdUBRXh/3fcme\nn9yYkJYhJCUJhLSpDnHdNk9FFw5alURIShJ4Q7b50IUb/Lp4FIQUREhKCMk2QlISJ6TL4IRc\nL+61rV4V7dtDV5/vLiekZQhJSZSQtsMddy/udSnPOfS4Nh+3ODzfXU5IyxCSkvjntXu956F4\n+jpci3sVBd32L96/JaRlCElJjJC2L09hMnL0qts+f0eWkJaJERJCRGdxN6cXnhXyft5tyonZ\nHl6dlpWQlokR0tqPKUkJvI/0ySgCV6w9J9NESEpihLQhpGQQkpIYIR3EvsN8dhSBK9aek2ki\nJCUxQrq75+ddEBhF4Iq152SaCElJlPeRLkVJol/mMh3F9Iq152SaCElJpJ0NsXcMBq5Ye06m\niZCUEJJthKSEkGwjJCUJHP0tMwoWbxAhKSEk2whJCSHZRkhKCMk2QlISK6TLvjpQaC/9dhIh\nLUNISuKEdNs0u+ve+irmj0YxuWLtOZkmQlISJaRb5rqQXn7P2GejmF6x9pxMEyEpiRJS0dE2\nf7Tf2id6ACshLUNISmKEdKq/pq96J/YkvHFHSMsQkpJIHzUvn4WqkO4CJ9EPjCJwxdpzMk2E\npCTiJ2Tb/3OI0IoISQkh2UZISmKs5TtXnc27KigX/pAfIS1DSEoindeu29mwXXxGobdGEbhi\n7TmZJkJSEmW7q3hK2lS7v/Ote/1dzB+NYnrF2nMyTYSkJM4LGO9ryrMXX8H36SgmV6w9J9NE\nSErihHTvzv69ke2IkBYiJCVRD1rN9qKvj0ajGF2x9pxMEyEp4WMUthGSEkKyjZCURHqNdKyP\nC8r20qdcJaRlCElJtI9R1Be451+t/PkoplesPSfTREhKopyyOHN9SMJnLyakZQhJSYyQjs5l\n9Sbd/bT8u5LeGkXgirXnZJoISUmkj1F0p2o4cazdqghJScSjvwO/iI0icMXaczJNhKSEkGwj\nJCUx1vKNd56GW/F6KcIoAlcgSHLmN3N67XU2STFCOniHfO/UztnwbwQQkpIou7+LP4Tby734\nqfwYhdZZhNZeZdNESEqivIA5+tsWWue1W3uVTRMhKYmzJ+DUd3SSHAEhLUVISiLtUrufd+Xh\nDbvjXXL4D0JaipCU2Dn6e+1VNk2EpCTKXjv5z/ONRxG4Yu1VNk2EpCRGSFmMdy+GowhcsfYq\nmyZCUhL9yAZhhLQMISmJEdLJubPkYAOjCFyx9iqbJkJSEmVnw3XnjtIfjR2NYnrF2qtsmghJ\nSaRNu2iHexHSMoSkhJBsIyQlhGQbISnhDVnbCEkJIdlGSEoIyTZCUkJIthGSkngn0c+cy3bi\nb8wS0jKEpCROSLfua10y4eNXCWkZQlIS7ZTFHdmSCGkZQlISJaTi+WhTnrPhftkIn0SIkBYi\nJCUxQjp7ZxHaCh/ASkjLEJKS2KcszoW/jZmQliEkJXbOtLr2KpsmQlJCSLYRkhI27WwjJCWR\nPiHr72wQPbMdIS1DSEqibHdl7P5OBSEpiRLSxf800k1yDIS0ECEpibMn4NId2pDJdkRICxGS\nkqinLM524meKJKRlCEkJH6OwjZCUEJJthKREPKTLrtik20c6qx0hLUVISqRDaj+IJPp9l8NR\nzFyx9iqbJkJSIhzSrtvrHakkQlqGkJTIhpSXBd0f9734+0fdKGavWHuVTRMhKZEN6eDcvvpp\nJ/3dsd0oZq9Ye5VNEyEpkQ1p2z4RFU9NO8kh96OYvWLtVTZNhKRENqTuMxP3WN+RREjLEJKS\nSCFF+7IxQlqGkJQQkm2EpISQbCMkJYRkGyEpISTbCEkJIdlGSEoIyTZCUiIeUoDoKGavWHuV\nTVOMkBCiMItFRzF7xdqrbJpihLT2Y0oSIdlGSEr4hKxthKSEkGwjJCVphJQf6k8E7g6vTjtE\nSMsQkpIUQrr4X/D34rsyCWkZQlKSQEjX4pnoUp8t5ZbvvBPwLxoFizeIkJQkENK++VRt6Lf3\nR8HiDSIkJQmElLm799v9+e5yQlqGkJQkENKoHEKSREhKkgiJZ6RoCElJAiGNXyM9PWsKIS1D\nSEoSCCl3bu/vtXu6/5uQliEkJQmENHof6fk3ZRLSMoSkJIWQipQ4siESQlKSRkgCo2DxBhGS\nkl8I6a3PZLB4gwhJSVohvf7sEiEtQ0hKCMk2QlKSQEiLPlFLSMsQkhJCso2QlCQQUp65rPno\nBJt20ghJSQIhPR5H53bV8XaEJI2QlCQR0uO6cdn5QUjyCElJGiE9HifntjdCEkdISlIJ6XHb\nOXciJGmEpCSZkB6Pc/bGySQJaRlCUpJQSI/7npCkEZKSlEL6ahQs3iBCUkJIthGSEkKyjZCU\nEJJthKSEkGwjJCWEZBshKSEk2whJCSHZRkhKCMk2QlJCSLYRkhJCso2QlBCSbYSkhJBsIyQl\nhGQbISkhJNsISQkh2UZISgjJNkJSQki2EZISQrKNkJQQkm2EpISQbCMkJYRkGyEpISTbCEmJ\nnZAQFGERrL3OJslOSP8ggJCUEJJthKSEkGwjJCWEZBshKSEk2whJCSHZRkhKCMk2QlJCSLYR\nkhJCso2QlBCSbYSkhJBsIyQlhGQbISkhJNsISQkh2UZISgjJNkJSQki2EZISQrKNkJQQkm2E\npISQbCMkJYRkGyEpISTbCEkJIdlGSEoIyTZCUkJIthGSEkKyjZCUEJJthKSEkGwjJCWEZBsh\nKSEk2whJCSHZRkhKCMk2QlJCSLYRkhJCso2QlBCSbYSkhJBsIyQlhGQbISkhJNsISQkh2UZI\nSgjJthghIUR0FksObOEoCCkoRkhrP6YkEZJthKSEkGwjJCWEZBshKSEk2whJCSHZRkhKCMk2\nQlJCSLYRkhJCso2QlBCSbYSkhJBsIyQlhGQbISkhJNsISQkh2UZISgjJNkJSQki2EZISQrKN\nkJQQkm2EpISQbCMkJYRkGyEpISTbCEkJIdlGSEoIyTZCUkJIthGSEkKyjZCUEJJthKQkjZDy\nw6467evucPl0FCzeIEJSkkJIl8w7hXL2PCVCWoaQlCQQ0rV4Jrpcqx9vefHMlH80ChZvECEp\nSSCkvdvP/vb+KFi8QYSkJIGQMnf3frs//4IMQlqGkJQkENKoHEKSREhKkgiJZ6RoCElJAiGN\nXyPtPhoFizeIkJQkEFLu3N7fa/d0/zchLUNIShIIafQ+0umzUbB4gwhJSQohFSlxZEMkhKQk\njZAERsHiDSIkJb8Q0lvfws7iDSIkJUmEdN64bH9rB8Lub0GEpCSFkA71XoamJEKSREhKEgjp\n4ty5+P8mq9+XJSRJhKQkgZB2rt7jvdtWz0mEJImQlCQQUlfOoXoPiZAkEZKSlEIqXiydCEkW\nISlJICTvYxQ7lxOSKEJSkkBIe9cfFZRlN0KSREhKEgjpWu21q91cRkiSCElJAiFV7yO1P18I\nSRQhKUkhpMd1n3U/3/aEJIiQlCQRksQoWLxBhKSEkGwjJCWEZBshKSEk2whJCSHZRkhKCMk2\nQlJiJyQERVgEa6+zSbIT0r8QQEhKCMk2QlJCSLYRkhJCso2QlBCSbYSkhJBsIyQlhGQbISkh\nJNsISQkh2UZISgjJNkJSQki2EZISQrKNkJQQkm2EpISQbCMkJYRkGyEpISTbCEkJIdkWIySE\niM5iyYEtHAUhBcUIae3HlCRCso2QlBCSbYSkhJBsIyQlhGQbISkhJNsISQkh2UZISgjJNkJS\nQki2EZISQrKNkJQQkm2EpISQbCMkJYRkGyEpISTbCEkJIdlGSEoIyTZCUkJIthGSEkKyjZCU\nEJJthKSEkGwjJCWEZBshKSEk2whJCSHZRkhKCMk2QlJCSLYRkhJCso2QlBCSbYSkhJBsIyQl\nhGQbISkhJNsISQkh2UZISgjJNkJSQki2EZISQrKNkJQQkm2EpISQbCMkJYRkGyEpISTbCEkJ\nIdlGSEoIyTZCUkJIthGSEkKyjZCUEJJthKSEkGwjJCWEZBshKSEk2whJCSHZRkhKCMk2QlJC\nSLYRkhJCso2QlBCSbYSkhA0XyK8AAAkcSURBVJBsIyQlhGQbISkhJNsISQkh2UZISgjJNkJS\nQki2EZISQrKNkJQQkm2EpISQbCMkJYRkGyEpISTbCEkJIdlGSEoIyTZCUkJIthGSEkKyjZCU\nEJJthKSEkGwjJCWEZBshKSEk2whJCSHZRkhK0ggpP+xcaXe4fDoKFm8QISlJIaRL5nrZ85QI\naRlCUpJASNfimehyrX685cUzU/7RKFi8QYSkJIGQ9m4/+9v7o2DxBhGSkgRCytzd++3ung6F\nkJYhJCUJhDQqZxqS880PBSEfLZIXywsBorP4wwWz4BkJsE/mNdJOZmKAX/VZSLlze3+v3au3\nkgDjRN5HOslOE/BzPn51c3n7yAbAPnYTAAIICRBASIAAQgIEEBIggJAAAYQECCAkQAAhAQII\nCRBASIAAQgIEEBIggJAAAYQECCAkQICxkC7uw8+9LzinjPDpZ8zwz8+z2Z/7S1/fL/akKbDw\nGDzbYqlsP7kjIX1tdK6rza299PX94k9cdBYeQ+9eLcL76xtOENLXxmeN27SXvr5f/ImLzsJj\n6J2cOzj3yblYCOlr/ny5Fovh3eVgY35aeAy9jcseWfOncBlC+tpwvpze3sa2MT8tPIbOrXhC\nehR/C2/L70pIXxvNl7dnk435aeExdI7lF8zkzh2b36tFdMxctr/2F5xcdqh+OW2LP5qDnUuH\n4qaHazu08y5zxV27nYDX6mp/wQ+G8OeFQ/L+uR82xfx6Mj8vu+L6Hz1JoqmQigXT/b9ULqJt\n/cr32F5wLf4rz7fcnuJyewvf9NadArM5H/OxuX234EdD+POGIR2aTbs+pItr52BlMj8fu+Z8\noz85Py2FlJdbdtUibL74rKyizeHUXFAurUv9hpO/3JprKuVzzN07lWx113PXVbPgx0P487yQ\n7uV5rLtZ3vzTqZ6TJvOzn+M/OT8thdQU1PT0qJde+b2ceflcc28uqDbFyqW2zetr2j+cbtPc\ntHxCKwLcVANrb9DeYePqBT8Zwp/nRrbtpe2Vu2v9NF49xY/nZ7k9UF5w3bqP9hatzVJI7TZd\nt23X/3Xb1AG5dsPt3C2tTf0X0rn2TvVNi//XL5bu9XLu75CNL9jwJQKVUUe77tLmn/qCy8z8\nvHQXbH9yfhoK6dI+Ex3aJeG69zIu9XJ0bR79N2hc6pdMzr9g8C019XIe3GFywdOv/vwr/Io2\n3T6bPqTcv2AyP/fdDfKfnJ+GQtp7C7JeEq7bE36vn3C6zfisO/6hv6a/oJsp53qY4ztMLmj3\nbvxp7XzLM/977t1g513302R+bvq5/pPbdnZCug82LKql5PyF4/wL5q/pfrzsu1e/793hr+tm\nw+DI4ZmQQvPTozbRYn5wkmecB0ui2qXwTUjlMS7ZPn+24IcX/Hn9bDj1mwKE9HO2/cK79bvi\n+u2HzePtTbusWhd29QXjTZHQtgmbdo9BG/t+6+zlpl1/gdqUxvDbU++5+3uhN93e7skuhfr3\n3Xjfwvim3SZ7PvPieDKEP89/Ism6HQYzIT3Z2fCbzIR0bDbnKud6N7cL7OSuf7/41zQ7xpsO\ns+qC7pZb1+6u7XePu9AQ/jw/pPLPT+5fOg4pND+bBfCbe0HNhLTxNw36LbnuXb9qsfWL03s7\ntb2muuDS3LS8/t68leuaO7Rv2HYXDIbw5w1e2uxHn0cahzSdn5t6ft5P7iefm6yEdB3+GdtX\nbxiVcbQvX6tl0y/OW//C9tJcc/BvenCe8j2RvP3l0AxkPIQ/b7iPIGve+54LaTo/+4OyDpqT\nLcRKSIfhn7H6zdlimTSLJ+veoW1v0S4375qtn0Vb4KXdcmuOresPshwN4c8bhlSGcnvMhxSY\nn+0sPz5+kJWQstH2VfW7q47dL7Yhjs0eosGyDn6MYnNodyYdN676LW833stPAfAxinnDkMqN\ngu3jSUiB+Vl+jKI/JuK3WAkpaLRogWhMr2mEBC2m1zRCghbTaxohQYvpNY2QoMX0mkZI0MKa\nBgggJEAAIQECCAkQQEiAAEICBBASIICQAAGEBAggJEAAIQECCAkQQEiAAEICBBASIICQAAGE\nBAggJEAAIQECCAkQQEiruuzLbzXZtadUXmRyMuDAldDC7F7Ruf8Chg9OHP92SNff/H6H30JI\n6xl8dcz29e1H3g5p98HAsRAhrabsaHMpN+rKb2FY/pz07tbb1WW317fCdwhpLeX3A53aXw7N\n15kt8W5IO74ITQEhrWXjdVR9OfHS1zHsT0gJy2IlefdlzpWr27YhTb4ArfxGLrftnlauh8z/\ngq7BF3e5bbMDcO7b0ALDgwRCWslh5lXRpdmTt61f15RfvjncHXEcfWVkm0xzefOCqPuCyeHg\nAsODCEJayTb8oqhdy70gOtVzyLn9bTcM6dTf8d5fOh7cdHiQQUgrCb/CuRdPINu82PDbNs8Y\nVTLX+pllV17Q3qB8I9cL6V4+xRS3y5tvE28uHQ9uOjzIIKSVhEM6d6+cNvUzhmvX90t9h/4G\n2SCkc1vKtb7B+NbN4CbDgxBm5krC6/Gu2+AqVvR9fbPcv8PgBi50+eyt94/A8CCEmbmSLLge\nF5c2h90V22rZw1/d658GN3Chy2dvnT0Cw4MQZuZKdsGdDd7aXf84XvEnN5he/satH4F74CvM\nzJUcR7u/79nuREi/i5m5kluzrdU6Vi9iFmzavRMSm3ZqmJlr2QwOCrrV7+sM9g6Uu9fGK/6T\nnQ31ToRBgJPBEVIszMy15M4r6ZbVO6ov/v7q8rie8Yp/7p7INoOQju3u71O3ty80OEKKhZm5\nmupjFKfygIO8+mRSdeiB9w5qeFOsLO5S32D8huzuVh/gcB3cejA4QoqFmbmevX+8TrMNdhtd\nMFnx8/bqw3D3QX+I0N67dDw4QoqFmbmiU/9R8/ag0mojr5TNrfjN4XOzB63uBrceDY6QYmFm\nrupcnfxkc8i9yyYfoxj9VH4KIvQxivLjFW43CWb6MYrxTxDAzAQEEBIggJAAAYQECCAkQAAh\nAQIICRBASIAAQgIEEBIggJAAAYQECCAkQAAhAQIICRBASIAAQgIEEBIggJAAAYQECCAkQAAh\nAQIICRBASIAAQgIEEBIggJAAAYQECCAkQAAhAQIICRDwfziS+3mcSXN/AAAAAElFTkSuQmCC\n",
      "text/plain": [
       "Plot with title \"Gráfico de contigencia por columna\""
      ]
     },
     "metadata": {
      "image/png": {
       "height": 420,
       "width": 420
      }
     },
     "output_type": "display_data"
    }
   ],
   "source": [
    "grafico <- barplot(tabla_variable_col,\n",
    "                  main= \"Gráfico de contigencia por columna\",\n",
    "                  beside= FALSE,\n",
    "                  space= c(0, 0.3),\n",
    "                  ylim = c(0,110),\n",
    "                  cex.axis = 1.2, \n",
    "                  cex.names=1.5, \n",
    "                  cex.main=1.5, \n",
    "                  col=c(\"blue\", \"red\", \"green\", \"pink\", \"orange\", \"purple\"),\n",
    "                  xlab = \"Condición\",\n",
    "                  cex.lab=1.5,\n",
    "                  ylab = \"Porcentaje\",\n",
    "                  col.lab = \"black\")\n",
    "\n",
    "#leyenda\n",
    "legend(x = -0.3, y = 115, rownames(tabla_variable_col),cex = 0.8, fill=c(\"blue\", \"red\", \"green\", \"pink\", \"orange\", \"purple\"),xpd = TRUE,horiz = TRUE,bty = \"n\")"
   ]
  },
  {
   "cell_type": "markdown",
   "id": "ea31b531",
   "metadata": {},
   "source": [
    "### D."
   ]
  },
  {
   "cell_type": "code",
   "execution_count": null,
   "id": "6e6e1e55",
   "metadata": {},
   "outputs": [],
   "source": [
    "# Una de las hipotesis que podemos concluir con las tablas de contigencia obtenidas es que\n",
    "# en la tabla de contigencia de porcentajes por filas se puede ver como a mayor grado de educacion, el\n",
    "# porcentaje de los estudiantes que rinden es mayor.\n",
    "# Podemos hipotetizar que el grado \"determina o causa\" el aprobado o no"
   ]
  },
  {
   "cell_type": "markdown",
   "id": "32a0cd8f",
   "metadata": {},
   "source": [
    "### E."
   ]
  },
  {
   "cell_type": "code",
   "execution_count": 149,
   "id": "e1a5d19c",
   "metadata": {},
   "outputs": [
    {
     "data": {
      "text/plain": [
       "\n",
       "\tPearson's Chi-squared test\n",
       "\n",
       "data:  Victoria$Año_curso and Victoria$Condición\n",
       "X-squared = 77.946, df = 5, p-value = 2.257e-15\n"
      ]
     },
     "metadata": {},
     "output_type": "display_data"
    }
   ],
   "source": [
    "# H0 ---> No hay relación entre las variables\n",
    "# H1 ---> Si hay relación entre las variables\n",
    "chi <-chisq.test(Victoria$Año_curso, Victoria$Condición)\n",
    "chi\n",
    "# Rechazamos H0, entonces hay relación de dependecia entre la Condición y el Grado"
   ]
  },
  {
   "cell_type": "code",
   "execution_count": 151,
   "id": "00bbfd1d",
   "metadata": {},
   "outputs": [
    {
     "data": {
      "text/html": [
       "0.0502327373520093"
      ],
      "text/latex": [
       "0.0502327373520093"
      ],
      "text/markdown": [
       "0.0502327373520093"
      ],
      "text/plain": [
       "[1] 0.05023274"
      ]
     },
     "metadata": {},
     "output_type": "display_data"
    }
   ],
   "source": [
    "CramerV(Victoria$Año_curso, Victoria$Condición)\n",
    "# La asociación es debil"
   ]
  },
  {
   "cell_type": "code",
   "execution_count": 158,
   "id": "cdbbf238",
   "metadata": {},
   "outputs": [
    {
     "data": {
      "image/png": "iVBORw0KGgoAAAANSUhEUgAAA0gAAANICAMAAADKOT/pAAAANlBMVEUAAAAA/wBNTU1oaGh8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\nAe7eitk1LTHZAAAAAElFTkSuQmCC",
      "text/plain": [
       "Plot with title \"Gráfico de Mosaico\""
      ]
     },
     "metadata": {
      "image/png": {
       "height": 420,
       "width": 420
      }
     },
     "output_type": "display_data"
    }
   ],
   "source": [
    "# Grafico para mostrar las direcciones\n",
    "mosaicplot(table(Victoria$Año_curso, Victoria$Condición),\n",
    "          main = \"Gráfico de Mosaico\",\n",
    "          color = c(\"green\", \"red\"),\n",
    "          border = \"black\",\n",
    "          xlab = \"Grado\",\n",
    "          ylab = \"Condición\",\n",
    "          cex.axis = par(\"cex\"))"
   ]
  },
  {
   "cell_type": "markdown",
   "id": "b6268d18",
   "metadata": {},
   "source": [
    "### F."
   ]
  },
  {
   "cell_type": "code",
   "execution_count": 159,
   "id": "db1efadf",
   "metadata": {},
   "outputs": [
    {
     "data": {
      "text/plain": [
       "                  Victoria$Condición\n",
       "Victoria$Año_curso Aprobado Rinde\n",
       "           PRIMERO     4865   255\n",
       "           SEGUNDO     4945   243\n",
       "           TERCERO     5238   300\n",
       "           CUARTO      4134   282\n",
       "           QUINTO      4619   417\n",
       "           SEXTO       5233   359"
      ]
     },
     "metadata": {},
     "output_type": "display_data"
    }
   ],
   "source": [
    "# Frecuencias observadas\n",
    "chi$observed"
   ]
  },
  {
   "cell_type": "code",
   "execution_count": 160,
   "id": "a35ec028",
   "metadata": {},
   "outputs": [
    {
     "data": {
      "text/html": [
       "<table class=\"dataframe\">\n",
       "<caption>A matrix: 6 × 2 of type dbl</caption>\n",
       "<thead>\n",
       "\t<tr><th></th><th scope=col>Aprobado</th><th scope=col>Rinde</th></tr>\n",
       "</thead>\n",
       "<tbody>\n",
       "\t<tr><th scope=row>PRIMERO</th><td>4812</td><td>308</td></tr>\n",
       "\t<tr><th scope=row>SEGUNDO</th><td>4876</td><td>312</td></tr>\n",
       "\t<tr><th scope=row>TERCERO</th><td>5205</td><td>333</td></tr>\n",
       "\t<tr><th scope=row>CUARTO</th><td>4151</td><td>265</td></tr>\n",
       "\t<tr><th scope=row>QUINTO</th><td>4733</td><td>303</td></tr>\n",
       "\t<tr><th scope=row>SEXTO</th><td>5256</td><td>336</td></tr>\n",
       "</tbody>\n",
       "</table>\n"
      ],
      "text/latex": [
       "A matrix: 6 × 2 of type dbl\n",
       "\\begin{tabular}{r|ll}\n",
       "  & Aprobado & Rinde\\\\\n",
       "\\hline\n",
       "\tPRIMERO & 4812 & 308\\\\\n",
       "\tSEGUNDO & 4876 & 312\\\\\n",
       "\tTERCERO & 5205 & 333\\\\\n",
       "\tCUARTO & 4151 & 265\\\\\n",
       "\tQUINTO & 4733 & 303\\\\\n",
       "\tSEXTO & 5256 & 336\\\\\n",
       "\\end{tabular}\n"
      ],
      "text/markdown": [
       "\n",
       "A matrix: 6 × 2 of type dbl\n",
       "\n",
       "| <!--/--> | Aprobado | Rinde |\n",
       "|---|---|---|\n",
       "| PRIMERO | 4812 | 308 |\n",
       "| SEGUNDO | 4876 | 312 |\n",
       "| TERCERO | 5205 | 333 |\n",
       "| CUARTO | 4151 | 265 |\n",
       "| QUINTO | 4733 | 303 |\n",
       "| SEXTO | 5256 | 336 |\n",
       "\n"
      ],
      "text/plain": [
       "                  Victoria$Condición\n",
       "Victoria$Año_curso Aprobado Rinde\n",
       "           PRIMERO 4812     308  \n",
       "           SEGUNDO 4876     312  \n",
       "           TERCERO 5205     333  \n",
       "           CUARTO  4151     265  \n",
       "           QUINTO  4733     303  \n",
       "           SEXTO   5256     336  "
      ]
     },
     "metadata": {},
     "output_type": "display_data"
    }
   ],
   "source": [
    "# Frecuencias esperadas si fueran independientes\n",
    "round(chi$expected,0)\n",
    "# Se puede ver como en el ciclo basico, se esperan más materias que se rindan. Mientras que en el\n",
    "# ciclo superior se esperan más materias aprobadas"
   ]
  },
  {
   "cell_type": "markdown",
   "id": "34eef8c9",
   "metadata": {},
   "source": [
    "### E."
   ]
  },
  {
   "cell_type": "code",
   "execution_count": 161,
   "id": "644e86ce",
   "metadata": {},
   "outputs": [
    {
     "data": {
      "text/plain": [
       "                  Victoria$Condición\n",
       "Victoria$Año_curso Aprobado Rinde\n",
       "           PRIMERO      0.8  -3.0\n",
       "           SEGUNDO      1.0  -3.9\n",
       "           TERCERO      0.5  -1.8\n",
       "           CUARTO      -0.3   1.0\n",
       "           QUINTO      -1.7   6.6\n",
       "           SEXTO       -0.3   1.3"
      ]
     },
     "metadata": {},
     "output_type": "display_data"
    }
   ],
   "source": [
    "# Residuos tipificados o estandarizados\n",
    "round(chi$residuals,1)\n",
    "# Como aclaramos anteriormente, en el primer ciclo hay menos estudiantes que rinden materias. Mientras que\n",
    "# en el ciclo superior hay menos valores de los esperados en las materias aprobadas"
   ]
  },
  {
   "cell_type": "code",
   "execution_count": 162,
   "id": "62137998",
   "metadata": {},
   "outputs": [
    {
     "data": {
      "text/plain": [
       "                  Victoria$Condición\n",
       "Victoria$Año_curso Aprobado Rinde\n",
       "           PRIMERO      3.4  -3.4\n",
       "           SEGUNDO      4.4  -4.4\n",
       "           TERCERO      2.0  -2.0\n",
       "           CUARTO      -1.1   1.1\n",
       "           QUINTO      -7.4   7.4\n",
       "           SEXTO       -1.4   1.4"
      ]
     },
     "metadata": {},
     "output_type": "display_data"
    }
   ],
   "source": [
    "# Residuos ajustados\n",
    "round(chi$stdres,1)\n",
    "# Teniendo en cuenta la cantidad de la muestra, el que mas discrepancia tiene son las materias aprobadas en\n",
    "# QUINTO grado, donde se puede ver una diferencia con el valor esperado de -7.4"
   ]
  },
  {
   "cell_type": "markdown",
   "id": "687bc65a",
   "metadata": {},
   "source": [
    "### --------------------- ------------------------------------------------- ------------------------------------"
   ]
  },
  {
   "cell_type": "code",
   "execution_count": 192,
   "id": "8c171443",
   "metadata": {},
   "outputs": [
    {
     "data": {
      "text/plain": [
       "             turno\n",
       "Desempeño     COMPLETO MAÑANA TARDE\n",
       "  Aprobado          17     38    28\n",
       "  Bueno             16     56    44\n",
       "  Distinguido        5     81    62\n",
       "  Muy Bueno         19     74    54\n",
       "  Regular           18     23    29"
      ]
     },
     "metadata": {},
     "output_type": "display_data"
    }
   ],
   "source": [
    "aux <- filter(Notas_Victoria_1Grado, asignatura == \"MATEMATICA\")\n",
    "primero_mat <- aux %>%\n",
    "    select(\"Desempeño\", \"turno\") %>%\n",
    "    table()\n",
    "primero_mat"
   ]
  },
  {
   "cell_type": "code",
   "execution_count": 193,
   "id": "dcc849aa",
   "metadata": {},
   "outputs": [
    {
     "data": {
      "text/html": [
       "<table class=\"dataframe\">\n",
       "<caption>A matrix: 5 × 3 of type int</caption>\n",
       "<tbody>\n",
       "\t<tr><td>23</td><td>29</td><td>18</td></tr>\n",
       "\t<tr><td>38</td><td>28</td><td>17</td></tr>\n",
       "\t<tr><td>56</td><td>44</td><td>16</td></tr>\n",
       "\t<tr><td>74</td><td>54</td><td>19</td></tr>\n",
       "\t<tr><td>81</td><td>62</td><td> 5</td></tr>\n",
       "</tbody>\n",
       "</table>\n"
      ],
      "text/latex": [
       "A matrix: 5 × 3 of type int\n",
       "\\begin{tabular}{lll}\n",
       "\t 23 & 29 & 18\\\\\n",
       "\t 38 & 28 & 17\\\\\n",
       "\t 56 & 44 & 16\\\\\n",
       "\t 74 & 54 & 19\\\\\n",
       "\t 81 & 62 &  5\\\\\n",
       "\\end{tabular}\n"
      ],
      "text/markdown": [
       "\n",
       "A matrix: 5 × 3 of type int\n",
       "\n",
       "| 23 | 29 | 18 |\n",
       "| 38 | 28 | 17 |\n",
       "| 56 | 44 | 16 |\n",
       "| 74 | 54 | 19 |\n",
       "| 81 | 62 |  5 |\n",
       "\n"
      ],
      "text/plain": [
       "     [,1] [,2] [,3]\n",
       "[1,] 23   29   18  \n",
       "[2,] 38   28   17  \n",
       "[3,] 56   44   16  \n",
       "[4,] 74   54   19  \n",
       "[5,] 81   62    5  "
      ]
     },
     "metadata": {},
     "output_type": "display_data"
    }
   ],
   "source": [
    "# Reordenamos la tabla\n",
    "primero_mat1 <- rbind(primero_mat[5,], primero_mat[1,], primero_mat[2,], primero_mat[4,], primero_mat[3,])\n",
    "primero_mat1 <- cbind(primero_mat1[,2], primero_mat1[,3], primero_mat1[,1])\n",
    "primero_mat1"
   ]
  },
  {
   "cell_type": "code",
   "execution_count": 194,
   "id": "82e0b8f9",
   "metadata": {},
   "outputs": [
    {
     "data": {
      "text/html": [
       "<style>\n",
       ".list-inline {list-style: none; margin:0; padding: 0}\n",
       ".list-inline>li {display: inline-block}\n",
       ".list-inline>li:not(:last-child)::after {content: \"\\00b7\"; padding: 0 .5ex}\n",
       "</style>\n",
       "<ol class=list-inline><li>70</li><li>83</li><li>116</li><li>147</li><li>148</li></ol>\n"
      ],
      "text/latex": [
       "\\begin{enumerate*}\n",
       "\\item 70\n",
       "\\item 83\n",
       "\\item 116\n",
       "\\item 147\n",
       "\\item 148\n",
       "\\end{enumerate*}\n"
      ],
      "text/markdown": [
       "1. 70\n",
       "2. 83\n",
       "3. 116\n",
       "4. 147\n",
       "5. 148\n",
       "\n",
       "\n"
      ],
      "text/plain": [
       "[1]  70  83 116 147 148"
      ]
     },
     "metadata": {},
     "output_type": "display_data"
    },
    {
     "data": {
      "text/html": [
       "<style>\n",
       ".list-inline {list-style: none; margin:0; padding: 0}\n",
       ".list-inline>li {display: inline-block}\n",
       ".list-inline>li:not(:last-child)::after {content: \"\\00b7\"; padding: 0 .5ex}\n",
       "</style>\n",
       "<ol class=list-inline><li>272</li><li>217</li><li>75</li></ol>\n"
      ],
      "text/latex": [
       "\\begin{enumerate*}\n",
       "\\item 272\n",
       "\\item 217\n",
       "\\item 75\n",
       "\\end{enumerate*}\n"
      ],
      "text/markdown": [
       "1. 272\n",
       "2. 217\n",
       "3. 75\n",
       "\n",
       "\n"
      ],
      "text/plain": [
       "[1] 272 217  75"
      ]
     },
     "metadata": {},
     "output_type": "display_data"
    }
   ],
   "source": [
    "# Sumar totales por fila para obtener distribución marginal por fila\n",
    "row_marginals <- margin.table(primero_mat1,1)\n",
    "row_marginals\n",
    "\n",
    "# Sumar totales por columna para obtenr distribución marginal por columna\n",
    "col_marginals <- margin.table(primero_mat1, 2)\n",
    "col_marginals"
   ]
  },
  {
   "cell_type": "code",
   "execution_count": 195,
   "id": "fc98f292",
   "metadata": {},
   "outputs": [
    {
     "data": {
      "text/html": [
       "<table class=\"dataframe\">\n",
       "<caption>A matrix: 6 × 4 of type int</caption>\n",
       "<thead>\n",
       "\t<tr><th></th><th scope=col></th><th scope=col></th><th scope=col></th><th scope=col>Total</th></tr>\n",
       "</thead>\n",
       "<tbody>\n",
       "\t<tr><th scope=row></th><td> 23</td><td> 29</td><td>18</td><td> 70</td></tr>\n",
       "\t<tr><th scope=row></th><td> 38</td><td> 28</td><td>17</td><td> 83</td></tr>\n",
       "\t<tr><th scope=row></th><td> 56</td><td> 44</td><td>16</td><td>116</td></tr>\n",
       "\t<tr><th scope=row></th><td> 74</td><td> 54</td><td>19</td><td>147</td></tr>\n",
       "\t<tr><th scope=row></th><td> 81</td><td> 62</td><td> 5</td><td>148</td></tr>\n",
       "\t<tr><th scope=row>Total</th><td>272</td><td>217</td><td>75</td><td>564</td></tr>\n",
       "</tbody>\n",
       "</table>\n"
      ],
      "text/latex": [
       "A matrix: 6 × 4 of type int\n",
       "\\begin{tabular}{r|llll}\n",
       "  &  &  &  & Total\\\\\n",
       "\\hline\n",
       "\t &  23 &  29 & 18 &  70\\\\\n",
       "\t &  38 &  28 & 17 &  83\\\\\n",
       "\t &  56 &  44 & 16 & 116\\\\\n",
       "\t &  74 &  54 & 19 & 147\\\\\n",
       "\t &  81 &  62 &  5 & 148\\\\\n",
       "\tTotal & 272 & 217 & 75 & 564\\\\\n",
       "\\end{tabular}\n"
      ],
      "text/markdown": [
       "\n",
       "A matrix: 6 × 4 of type int\n",
       "\n",
       "| <!--/--> | <!----> | <!----> | <!----> | Total |\n",
       "|---|---|---|---|---|\n",
       "| <!----> |  23 |  29 | 18 |  70 |\n",
       "| <!----> |  38 |  28 | 17 |  83 |\n",
       "| <!----> |  56 |  44 | 16 | 116 |\n",
       "| <!----> |  74 |  54 | 19 | 147 |\n",
       "| <!----> |  81 |  62 |  5 | 148 |\n",
       "| Total | 272 | 217 | 75 | 564 |\n",
       "\n"
      ],
      "text/plain": [
       "                 Total\n",
       "       23  29 18  70  \n",
       "       38  28 17  83  \n",
       "       56  44 16 116  \n",
       "       74  54 19 147  \n",
       "       81  62  5 148  \n",
       "Total 272 217 75 564  "
      ]
     },
     "metadata": {},
     "output_type": "display_data"
    }
   ],
   "source": [
    "# Tabla de contigencia con marginales fila y columna\n",
    "primero_mat2 <- cbind(primero_mat1, \"Total\"= margin.table(primero_mat1,1))\n",
    "primero_mat2 <- rbind(primero_mat2, \"Total\"=margin.table(primero_mat2,2))\n",
    "primero_mat2"
   ]
  },
  {
   "cell_type": "code",
   "execution_count": 196,
   "id": "e6ed67db",
   "metadata": {},
   "outputs": [
    {
     "data": {
      "text/html": [
       "<table class=\"dataframe\">\n",
       "<caption>A matrix: 6 × 4 of type dbl</caption>\n",
       "<thead>\n",
       "\t<tr><th></th><th scope=col></th><th scope=col></th><th scope=col></th><th scope=col>Total</th></tr>\n",
       "</thead>\n",
       "<tbody>\n",
       "\t<tr><th scope=row></th><td> 4.1</td><td> 5.1</td><td> 3.2</td><td> 12.4</td></tr>\n",
       "\t<tr><th scope=row></th><td> 6.7</td><td> 5.0</td><td> 3.0</td><td> 14.7</td></tr>\n",
       "\t<tr><th scope=row></th><td> 9.9</td><td> 7.8</td><td> 2.8</td><td> 20.6</td></tr>\n",
       "\t<tr><th scope=row></th><td>13.1</td><td> 9.6</td><td> 3.4</td><td> 26.1</td></tr>\n",
       "\t<tr><th scope=row></th><td>14.4</td><td>11.0</td><td> 0.9</td><td> 26.2</td></tr>\n",
       "\t<tr><th scope=row>Total</th><td>48.2</td><td>38.5</td><td>13.3</td><td>100.0</td></tr>\n",
       "</tbody>\n",
       "</table>\n"
      ],
      "text/latex": [
       "A matrix: 6 × 4 of type dbl\n",
       "\\begin{tabular}{r|llll}\n",
       "  &  &  &  & Total\\\\\n",
       "\\hline\n",
       "\t &  4.1 &  5.1 &  3.2 &  12.4\\\\\n",
       "\t &  6.7 &  5.0 &  3.0 &  14.7\\\\\n",
       "\t &  9.9 &  7.8 &  2.8 &  20.6\\\\\n",
       "\t & 13.1 &  9.6 &  3.4 &  26.1\\\\\n",
       "\t & 14.4 & 11.0 &  0.9 &  26.2\\\\\n",
       "\tTotal & 48.2 & 38.5 & 13.3 & 100.0\\\\\n",
       "\\end{tabular}\n"
      ],
      "text/markdown": [
       "\n",
       "A matrix: 6 × 4 of type dbl\n",
       "\n",
       "| <!--/--> | <!----> | <!----> | <!----> | Total |\n",
       "|---|---|---|---|---|\n",
       "| <!----> |  4.1 |  5.1 |  3.2 |  12.4 |\n",
       "| <!----> |  6.7 |  5.0 |  3.0 |  14.7 |\n",
       "| <!----> |  9.9 |  7.8 |  2.8 |  20.6 |\n",
       "| <!----> | 13.1 |  9.6 |  3.4 |  26.1 |\n",
       "| <!----> | 14.4 | 11.0 |  0.9 |  26.2 |\n",
       "| Total | 48.2 | 38.5 | 13.3 | 100.0 |\n",
       "\n"
      ],
      "text/plain": [
       "                     Total\n",
       "       4.1  5.1  3.2  12.4\n",
       "       6.7  5.0  3.0  14.7\n",
       "       9.9  7.8  2.8  20.6\n",
       "      13.1  9.6  3.4  26.1\n",
       "      14.4 11.0  0.9  26.2\n",
       "Total 48.2 38.5 13.3 100.0"
      ]
     },
     "metadata": {},
     "output_type": "display_data"
    }
   ],
   "source": [
    "# Tabla contingencia ~ Porcentaje Total\n",
    "tabla_cont_total <- prop.table(primero_mat1)*100\n",
    "tabla_cont_total <- cbind(tabla_cont_total, \"Total\"=margin.table(tabla_cont_total,1))\n",
    "tabla_cont_total <- rbind(tabla_cont_total, \"Total\"=margin.table(tabla_cont_total,2))\n",
    "round(tabla_cont_total,1)"
   ]
  },
  {
   "cell_type": "code",
   "execution_count": 197,
   "id": "55cef4e8",
   "metadata": {},
   "outputs": [
    {
     "data": {
      "text/html": [
       "<table class=\"dataframe\">\n",
       "<caption>A matrix: 6 × 4 of type dbl</caption>\n",
       "<thead>\n",
       "\t<tr><th></th><th scope=col></th><th scope=col></th><th scope=col></th><th scope=col>Total</th></tr>\n",
       "</thead>\n",
       "<tbody>\n",
       "\t<tr><th scope=row></th><td>32.9</td><td>41.4</td><td>25.7</td><td>100</td></tr>\n",
       "\t<tr><th scope=row></th><td>45.8</td><td>33.7</td><td>20.5</td><td>100</td></tr>\n",
       "\t<tr><th scope=row></th><td>48.3</td><td>37.9</td><td>13.8</td><td>100</td></tr>\n",
       "\t<tr><th scope=row></th><td>50.3</td><td>36.7</td><td>12.9</td><td>100</td></tr>\n",
       "\t<tr><th scope=row></th><td>54.7</td><td>41.9</td><td> 3.4</td><td>100</td></tr>\n",
       "\t<tr><th scope=row>Total</th><td>48.2</td><td>38.5</td><td>13.3</td><td>100</td></tr>\n",
       "</tbody>\n",
       "</table>\n"
      ],
      "text/latex": [
       "A matrix: 6 × 4 of type dbl\n",
       "\\begin{tabular}{r|llll}\n",
       "  &  &  &  & Total\\\\\n",
       "\\hline\n",
       "\t & 32.9 & 41.4 & 25.7 & 100\\\\\n",
       "\t & 45.8 & 33.7 & 20.5 & 100\\\\\n",
       "\t & 48.3 & 37.9 & 13.8 & 100\\\\\n",
       "\t & 50.3 & 36.7 & 12.9 & 100\\\\\n",
       "\t & 54.7 & 41.9 &  3.4 & 100\\\\\n",
       "\tTotal & 48.2 & 38.5 & 13.3 & 100\\\\\n",
       "\\end{tabular}\n"
      ],
      "text/markdown": [
       "\n",
       "A matrix: 6 × 4 of type dbl\n",
       "\n",
       "| <!--/--> | <!----> | <!----> | <!----> | Total |\n",
       "|---|---|---|---|---|\n",
       "| <!----> | 32.9 | 41.4 | 25.7 | 100 |\n",
       "| <!----> | 45.8 | 33.7 | 20.5 | 100 |\n",
       "| <!----> | 48.3 | 37.9 | 13.8 | 100 |\n",
       "| <!----> | 50.3 | 36.7 | 12.9 | 100 |\n",
       "| <!----> | 54.7 | 41.9 |  3.4 | 100 |\n",
       "| Total | 48.2 | 38.5 | 13.3 | 100 |\n",
       "\n"
      ],
      "text/plain": [
       "                     Total\n",
       "      32.9 41.4 25.7 100  \n",
       "      45.8 33.7 20.5 100  \n",
       "      48.3 37.9 13.8 100  \n",
       "      50.3 36.7 12.9 100  \n",
       "      54.7 41.9  3.4 100  \n",
       "Total 48.2 38.5 13.3 100  "
      ]
     },
     "metadata": {},
     "output_type": "display_data"
    }
   ],
   "source": [
    "# Tabla contingencia ~ Porcentaje Fila\n",
    "tabla_cont_filas <- prop.table(rbind(primero_mat1, \"Total\"=margin.table(primero_mat1, 2)),1)*100\n",
    "tabla_cont_filas <- cbind(tabla_cont_filas, \"Total\"=margin.table(tabla_cont_filas,1))\n",
    "round(tabla_cont_filas,1)"
   ]
  },
  {
   "cell_type": "code",
   "execution_count": 198,
   "id": "fb318ab2",
   "metadata": {},
   "outputs": [
    {
     "data": {
      "text/html": [
       "<table class=\"dataframe\">\n",
       "<caption>A matrix: 6 × 4 of type dbl</caption>\n",
       "<thead>\n",
       "\t<tr><th></th><th scope=col></th><th scope=col></th><th scope=col></th><th scope=col>Total</th></tr>\n",
       "</thead>\n",
       "<tbody>\n",
       "\t<tr><th scope=row></th><td>  8.5</td><td> 13.4</td><td> 24.0</td><td> 12.4</td></tr>\n",
       "\t<tr><th scope=row></th><td> 14.0</td><td> 12.9</td><td> 22.7</td><td> 14.7</td></tr>\n",
       "\t<tr><th scope=row></th><td> 20.6</td><td> 20.3</td><td> 21.3</td><td> 20.6</td></tr>\n",
       "\t<tr><th scope=row></th><td> 27.2</td><td> 24.9</td><td> 25.3</td><td> 26.1</td></tr>\n",
       "\t<tr><th scope=row></th><td> 29.8</td><td> 28.6</td><td>  6.7</td><td> 26.2</td></tr>\n",
       "\t<tr><th scope=row>Total</th><td>100.0</td><td>100.0</td><td>100.0</td><td>100.0</td></tr>\n",
       "</tbody>\n",
       "</table>\n"
      ],
      "text/latex": [
       "A matrix: 6 × 4 of type dbl\n",
       "\\begin{tabular}{r|llll}\n",
       "  &  &  &  & Total\\\\\n",
       "\\hline\n",
       "\t &   8.5 &  13.4 &  24.0 &  12.4\\\\\n",
       "\t &  14.0 &  12.9 &  22.7 &  14.7\\\\\n",
       "\t &  20.6 &  20.3 &  21.3 &  20.6\\\\\n",
       "\t &  27.2 &  24.9 &  25.3 &  26.1\\\\\n",
       "\t &  29.8 &  28.6 &   6.7 &  26.2\\\\\n",
       "\tTotal & 100.0 & 100.0 & 100.0 & 100.0\\\\\n",
       "\\end{tabular}\n"
      ],
      "text/markdown": [
       "\n",
       "A matrix: 6 × 4 of type dbl\n",
       "\n",
       "| <!--/--> | <!----> | <!----> | <!----> | Total |\n",
       "|---|---|---|---|---|\n",
       "| <!----> |   8.5 |  13.4 |  24.0 |  12.4 |\n",
       "| <!----> |  14.0 |  12.9 |  22.7 |  14.7 |\n",
       "| <!----> |  20.6 |  20.3 |  21.3 |  20.6 |\n",
       "| <!----> |  27.2 |  24.9 |  25.3 |  26.1 |\n",
       "| <!----> |  29.8 |  28.6 |   6.7 |  26.2 |\n",
       "| Total | 100.0 | 100.0 | 100.0 | 100.0 |\n",
       "\n"
      ],
      "text/plain": [
       "                        Total\n",
       "        8.5  13.4  24.0  12.4\n",
       "       14.0  12.9  22.7  14.7\n",
       "       20.6  20.3  21.3  20.6\n",
       "       27.2  24.9  25.3  26.1\n",
       "       29.8  28.6   6.7  26.2\n",
       "Total 100.0 100.0 100.0 100.0"
      ]
     },
     "metadata": {},
     "output_type": "display_data"
    }
   ],
   "source": [
    "# Tabla contingencia ~ Porcentaje Columna\n",
    "tabla_cont_col <- prop.table(cbind(primero_mat1, \"Total\"=margin.table(primero_mat1, 1)),2)*100\n",
    "tabla_cont_col <- rbind(tabla_cont_col, \"Total\"=margin.table(tabla_cont_col,2))\n",
    "round(tabla_cont_col,1)"
   ]
  },
  {
   "cell_type": "code",
   "execution_count": 203,
   "id": "6851d727",
   "metadata": {},
   "outputs": [
    {
     "data": {
      "text/plain": [
       "             \n",
       "              COMPLETO MAÑANA TARDE\n",
       "  Regular         25.7   32.9  41.4\n",
       "  Aprobado        20.5   45.8  33.7\n",
       "  Bueno           13.8   48.3  37.9\n",
       "  Muy Bueno       12.9   50.3  36.7\n",
       "  Distinguido      3.4   54.7  41.9"
      ]
     },
     "metadata": {},
     "output_type": "display_data"
    }
   ],
   "source": [
    "# Organizamos los datos para hacer un grafico de barras adosadas\n",
    "# Grafico para la tabla de contigencia ~ porcentaje por fila\n",
    "aux$Desempeño <- factor(aux$Desempeño, levels= c('Regular', 'Aprobado', 'Bueno', 'Muy Bueno', 'Distinguido'))  \n",
    "tabla_variable_fila <- round(prop.table(table(aux$turno, aux$Desempeño), 2)*100,1)\n",
    "tabla_variable_fila <- t(tabla_variable_fila)\n",
    "tabla_variable_fila"
   ]
  },
  {
   "cell_type": "code",
   "execution_count": 204,
   "id": "beb3ecff",
   "metadata": {},
   "outputs": [
    {
     "data": {
      "image/png": "iVBORw0KGgoAAAANSUhEUgAAA0gAAANICAMAAADKOT/pAAAAP1BMVEUAAAAAAP8A/wBNTU1o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\n",
      "text/plain": [
       "Plot with title \" Grafico de Contigencia por fila\""
      ]
     },
     "metadata": {
      "image/png": {
       "height": 420,
       "width": 420
      }
     },
     "output_type": "display_data"
    }
   ],
   "source": [
    "grafico <- barplot(tabla_variable_fila,\n",
    "                  main= \" Grafico de Contigencia por fila\",\n",
    "                  beside= TRUE,\n",
    "                  space= c(0.1, 2.5),\n",
    "                  ylim= c(0, 100),\n",
    "                  cex.axis= 1.2,\n",
    "                  cex.names= 1.5,\n",
    "                  cex.main= 1.5,\n",
    "                  col= c(\"blue\", \"red\", \"green\", \"orange\", \"purple\"),\n",
    "                  xlab = \"Turno\",\n",
    "                  cex.lab = 1.5,\n",
    "                  ylab= \"Porcentaje\",\n",
    "                  col.lab= \"black\")\n",
    "\n",
    "legend(\"topright\", rownames(tabla_variable_fila),\n",
    "       title = \"Desempeño\",\n",
    "       title.adj = 0.5,     \n",
    "       title.col = \"black\",      \n",
    "       lty = c(1),\n",
    "       col= c(\"blue\", \"red\", \"green\", \"orange\", \"purple\"),\n",
    "       lwd = 2,\n",
    "       cex = 1.2) \n",
    "\n",
    "# valores sobre barras\n",
    "TC <- tabla_variable_fila\n",
    "text(grafico, TC+2.5,format(TC), cex=0.9)"
   ]
  },
  {
   "cell_type": "code",
   "execution_count": 205,
   "id": "e410f3c3",
   "metadata": {},
   "outputs": [
    {
     "data": {
      "text/plain": [
       "             \n",
       "              COMPLETO MAÑANA TARDE\n",
       "  Regular         24.0    8.5  13.4\n",
       "  Aprobado        22.7   14.0  12.9\n",
       "  Bueno           21.3   20.6  20.3\n",
       "  Muy Bueno       25.3   27.2  24.9\n",
       "  Distinguido      6.7   29.8  28.6"
      ]
     },
     "metadata": {},
     "output_type": "display_data"
    }
   ],
   "source": [
    "# Organizamos los datos para hacer un grafico de barras apiladas\n",
    "# Grafico para la tabla de contigencia ~ porcentaje por columna\n",
    "aux$Desempeño <- factor(aux$Desempeño, levels= c('Regular', 'Aprobado', 'Bueno', 'Muy Bueno', 'Distinguido'))  \n",
    "tabla_variable_col <- round(prop.table(table(aux$turno, aux$Desempeño), 1)*100,1)\n",
    "tabla_variable_col <- t(tabla_variable_col)\n",
    "tabla_variable_col"
   ]
  },
  {
   "cell_type": "code",
   "execution_count": 206,
   "id": "f47ddc0b",
   "metadata": {},
   "outputs": [
    {
     "data": {
      "image/png": "iVBORw0KGgoAAAANSUhEUgAAA0gAAANICAMAAADKOT/pAAAAP1BMVEUAAAAAAP8A/wBNTU1o\naGh8fHyMjIyampqgIPCnp6eysrK9vb3Hx8fQ0NDZ2dnh4eHp6enw8PD/AAD/pQD///+sY8Ds\nAAAACXBIWXMAABJ0AAASdAHeZh94AAAgAElEQVR4nO2di7aqOBJA0wPioKIy7f9/6/AmvJSK\n4QSsvdfqvkfAJBVqyyuAeQHA15jQDQD4BRAJwAOIBOABRALwACIBeACRADyASAAeQCQADyAS\ngAcQCcADiATgAUQC8AAiAXgAkQA8gEgAHkAkAA8gEoAHEAnAA4gE4AFEAvAAIgF4AJEAPIBI\nAB5AJAAPIBKABxAJwAOIBOABRALwACIBeACRADyASAAeQCQADyASgAcQCcADiATgAUQC8IAa\nkRJjTBq6EfCzaBHpUXh0Ct0I+F1+QqQsPRWeRMktX1yk2CBF/afnOSq8Sl/Ft9w74Ksv/3n5\nW7d2r3X/FT8Q4D02HZeFZcoN0nPwqdpC7VOkR7JB+Yi0LccP8GJsFnbfig1S1n8618vuc4v0\nSJpiEelIHD7AoUfL2ySbcrnb67W8I7iKjdLjB7PuB0OacPQA6720JCuluJdn5swKPfysWERa\nyw+GNOHoAZbHR9G9/XRdd44bkf6WHwxpwsEDrDZIj/5zcfQTl/9Wq+4Smbja03s0Z/Xqw6Ru\nL3Cwhm9JVJ3464q6nwtJ47NVeFvnOTJRmg+/XG4Wb5NFP5Zal3Eppp1uy417lGG9q3FSzLRu\nq7RBb3RUCzzT4jtWzHPN7bpVGKXdhsGUstKo/P0rdyni63JICy3fBQcX6TLaBOXxpTo5V66G\na3MoZB1Gndp541x9RO3EZvOWn9oJyajKtJmeTb/cbxpfK0st/3xGHxrX1Bg9F2ucFDOtu/vu\nqDc6upj6Lp1tbtetsigHbRhMydrWpHazZkJaavkuOLhI5e/yfWa6vSbvpuf6ms3Vh7VIdZo8\nj/rPw7U2PLlRTnlanwdtWVFqlX7tpNt8467tpGixxkkx07rb7457Y9Jl/Zz55pbYPy4ro7T/\nHU4ZhNdVPg1pseW74OAi9atmOr094V3uHRQ7Gc9ksmK7P8o1di6S4H5qsqRcNr4316jstMnL\nr5zzV16fQm/KN9e8TvjYbsSKUqtCip22R1/PuHFtjVX7F2qcFjOp2/ruqDfsLusiy5ebO9qx\nWhnlcG0NRLq1FySaPxZ6ZrHlu+B3ROp+rdoP7S7f8xJXO+v5xJ/2j6zL4meclicAy1/ZZiBE\nmSfWdubSLZpYX65/IG/DLFtTapW85YT7YuOuXTGnxRonxUzq7oqd9obVf31k18Xmjk7mrI1y\nuLbsKWUoz7bkpz1n2DOLLd8F+2uRiHciTXb5FnN1soN47pXI2hVa0y/aruBy2byrYHbR5VLL\nMh5rG5ct1jgpZrrLO8m+OZH6yJLF5o66dW2UwyrtKY/JH4MJn1u+C/bXIhHRIKeGIj3tBfP7\n5dStgPEf0XjNxH2x5e+ftcM2Mrf5co+16JpSp6n1pnH5Yo2TYiZ1D7Nv0BtLkS00d9Ctsijn\nRZoPf6Znllq+C/bXIhHW7+FEpG6h/JYMZk7W2tvfvOHMqUhmyHwhS6WuEGlNjZNiprnWTZn0\nxlJkb5vrFOWXIi21fBfsr0Uixqe/50QanGcbLKVRpGlvLEX2trlOUU6jXYx6ZtnFlu+C/bVI\nRHVsal0zna6G6oDcxOfrfflkg7WDWLO8azfal3zN7UVNF10sVSRSvljjpJhJ3e2Mmd6wFugj\niz401ynKr0Rabvku2F+LZJQb+6gz6T5dDdWK7Yc0zP7x6YDZ2uZND/2XLmWtKnWFSGtqnBSz\nuMhMb1gL1HPmTzakM98RRtl9/eEg0nLLd8H+WiSjvhyYlqvycatvTConW309XXuTtXYz7Snc\nvD6Fm5nBKVxrk1cuWl/EOE2+PGJNqStE6ouJF2uc/fke1D3ZvvW9YZVRb3pLN24fmusUZXcp\nIXUQabnlu2B/LRIyvo2iH2nTLFBdMMxf+TVaXmuDi4plAeW/8xdk2+L6y6PllKTIl/za5OzL\nrvl9qQsiPctbPJop3QXZ03KN02ImdTczZnrj1X/TnJ71BdnKhHfNdYqyupT6eOWXLhKBSMst\n3wX7a5GUkUn1hRyrr4fz88Hc9g979En1G/q0TjEPr6LfBsVNvmyf+VhR6tSA+kJvGUY7pRsi\n1J33ndQ4LWZSdzNjpjde/Te79lX7UO+a6xRlO5SvH+zUFTj5YxLScst3wfFFGtxqnjR7YfYa\nb4dQJtc2Q6ar7z4eePlcHLTartBs5suj2wo/lzpJlzbbTtaUbjDnYo0zxYzrbmdMe+PVf7N1\noBmT+qa5blFOBvxO18RkzueW74IfEKlYlWl1zsF6+MlgjWflk0/Oj2onabiHYi12a4qwCi1v\nBUjnbqMopz+HX672ti7P8bKfSp0xoNpHitPBlKKU0/W1XONcMaO6e1HHvWE3JS/vaLBvo1hq\nrmOU2Wl4Q4hEpMWW74KfEEkLZjQq1nfhJIM79N3u6U5hPDb9JUakr6Dvdk/cHLRUp8Vm7sL1\nBCJ9BX23e7qzdmbwkEvfINJX0Hf7J+09mpzN8AcifQV9dwDah35st1/3QqQvoe8APIBIAB5A\nJAAPIBKABxAJwAOIBOABRALwACIBeACRADyASAAeQCQADyASgAcQCcADiATgAUQC8AAiAXgA\nkQA8gEgAHkAkAA8gEoAHEAnAA4gE4IFFkcyIN8ucZl9YN13YtY3vyvzcyFf5ap01D1Z828Av\nWr++J9d15CasaWSUXOvn6j2vyYcO3Sae9T1ZPqj/NVlr2cy0+TLm/vzwncUZ/wx4J9LCqx+X\nW+cN878BCzWULxFZ8RqQzUT6z4C3PTl998UfYf4dsNTI+u1T54+PwNsmHvPfAW97snqW5rCZ\ncfOai8/1/L1I1T/p6F1cH1vnjXUinU3aZMD7woKKVP5/XUduwjqR4npDFMWfRSr/7zuedSKV\n/3+eZqp2WYd/KtK62sKJVOzYRSsqDy/SJn20jnUipdUm5lH8u0ok3/GsF6nc/Ex2Qg4j0jU2\n0bWekkYmrSa3b41q/qreFZXWk/L465eUrBLpVjQlrV/jULQhHddftDq+jmZa7bRisZYVNVIg\nUvSyu8zqUmOeiYnqFwI6teJTI1eJlJmy3qu5Va1rG5o3b23K+7c3bROPRKSsfnvoq3652Slr\ndvraXOxrX0pV4Xr3uGtXv/y0+rN6S+F52rrmtZH1a0+T4RtXXVgl0qk4hLu372i+tG1s6z+Z\nwZT6T6ud9QJJFUe/rKiRgl2762uQeInVuOoFkxfnVnxq5CqR8uqnJzHPgUjFhOog+da/+XOb\neCQiVVaXH5qXeVyHIg1rn0lV6Xr3c7Kh3OBn5pS/8lO5Rc1M9Hg9omnrqvf7tD9np+9fqLtG\npLz6WYxM/fbvumG3rv6bPcX6s2vnrY/FWlbUyPUnG5ptZft/q0ur5l7L5HBsxadGrhKpPl4v\nOnQoUlYfgp7Ns190i3gkInU5F5XZeWu1aqe3tS+mqnS9+xDpVJ2bSapUrX6zkmr/NJvbXnax\nrjvV94E1It2q1Vnv25mmYUlXf9vU02Cm1c7617aKxVpW1Mj1Ip0eL7vLrC6tm/tFKz41cp1I\nabV1P49EKvyqfqZia9Et4nESqT9ja+fiuPZJqkrX+/e7dnGUNR8a+j3kGZGe2eVkrYUvWSNS\nXPXIo1rLk4YtThm3c/qV9Y1cvWuXRWVb7S4bdekXrfjUyHUilXtvl+I3aSTStdxLulvvdN8m\nHieR0vJd949+1mLt452n18wyb9q2OGOtSHdTb9FXiXRqF/kzkZ5du54CkSbt/BORCt1P+xbp\nWTTwZJ5jkard50u/Z7dRPBKRnl3Vl/J4KHpO69yZSMWWLxnVs9i6s4mvmX2k+iUrRLp0a++y\nXqRpO/9GpPm13C8QXKTyWLOUZiRS8bOfveJ4uKj/eCQiVXv0zYcsjcfHSDO1BxfpUZ9sSPoT\n9+Mdz/ugdX8rUtz8Tj7rrqx3fM9d/cn4qKn5s2tnvUAVQTI+iFrZyPUi9UlqVWgt8EUrPjVy\npUjNxe1+FVYNLTc9D2vPbqN4ZNeR7naSzelj1z5JVel69yBSs0mqzm0Ue8vJ4FRIbK7leZpO\npPvr8afHSI8u/FOhe3tiLuvqnzlrlw3amf3RWbvy/0VHpXaXWV3ar/qgZ+3KU5l1X73shpZ/\nR9ae3UbxiEc21Bl4687atcOG+toXU1W63pdFGrHc6OJ3p9ok1ccV1RinU/ela3c2vvyvfa3w\n3ZdIHxuZdj+CWXV5rb460Ld9cB3p3M602llf+6guNLheR1rVkzVRbneZ1aXWbtQ215FWru7y\nkLNtjtXQ8jc9ninObzyinmyluXWrMjbtBnJS+zRVpev9q3RuQ0nrn/1r0dJz/bOURuZUb/SL\nQ71z3/hzOSS433vaniiy/zTlxcNuHEPNNRqMbKj3T/p2VhF0V7gj/2MKXnXd1cqvxyx3XWZ1\nqbXqt2vFx0a+2pH0dUOshubG3rMLGE9d8+nSt7ga2VD+JN7jGZEWU1W43rdM53BDMJf4I3sV\nkhl7z+5wfJ+qm2RWtRudJ1+PAPIOIm3FyYTYRn6Pt1TdJLOaU85r7qb7WxBpG/wfs/0V3lJ1\nm8y6nsqbFDcp+isQaRsizyfj/xBfqUpmAXgAkQA8gEgAHkAkAA8gEoAHEAnAA4gE4AFEAvAA\nIgF4AJEAPIBIAB5AJAAPIBKABxAJwAOIBOABRALwACIBeACRADyASAAeQCQADyASgAcQCcAD\niATgAUQC8AAiAXgAkQA8gEgAHkAkAA84i3RPq1eamSTNPi8M8OM4ipRF1hsII1QC7biJ9Ci2\nRNmj+vN5T+p3rQIoxk2kc/mK+IVPAApxEykyufUp5/1doB03BUbmIBJox1UktkgAFn6OkQ77\nBlEAP7iJdDfmbJ+14/w3KMfLdaSr3zYBHA7no5uMkQ0AHZwmAPAAIgF4gEGrAB5g0CqABxi0\nCuABBq0CeIBBqwAe2GjQqrFZLuWYCLvqmGgIUhTjpy5w+5Zki7Qs0n8PiTDHQjfXDQ1B7kAk\n0aBVRDogGoLcgUiiQauIdEA0BLkDkUSDVhHpgGgIcg8iSQatItIB0RDkPkTyUMUxu19FjqkI\nEpHCoiHHVASJSGHRkGMqgkSksGjIMRVBIlJYNOSYiiB3IJJosAUiHRANQe5ApAsirYUgd8sO\nRHplJnp+XcUxu19FjqkIcg8iFSbFX1dxzO5XkWMqgtyFSMXe3dqn2SHSAdEQ5D5EekVrv4pI\nB0RDkDsR6fsqjtn9KnJMRZCIFBYNOaYiSEQKi4YcUxEkIoVFQ46pCBKRwqIhx1QEiUhh0ZBj\nKoJEpLBoyDEVQSJSWDTkmIogESksGnJMRZCIFBYNOaYiSEQKi4YcUxEkIoVFQ46pCBKRwqIh\nx1QEiUhh0ZBjKoJEpLBoyDEVQSJSWDTkmIogESksGnJMRZCIFBYNOaYiSEQKi4YcUxEkIoVF\nQ46pCBKRwqIhx1QE+TsiHRRZ9KHTxQ0NQf6OSP8eEg05hkhSEEmMhhxDJCmIJEZDjiGSFEQS\noyHHEEkKIonRkGOIJAWRxGjIMUSSgkhiNOQYIklBJDEacgyRpCCSGA05hkhSEEmMhhxDJCmI\nJEZDjiGSFEQSoyHHEEkKIonRkGOIJAWRxGjIMUSSgkhiNOQYIklBJDEacgyRpCCSGA05hkhS\nEEmMhhxDJCmIJEZDjiGSFEQSoyHHEEkKIonRkGOIJAWRxGjIMUSSgkhiNOQYIklBJDEacgyR\npCCSGA05hkhSEEmMhhxDJCmIJEZDjiGSFEQSoyHHEEkKIonRkGOIJAWRxGjIMUSSgkhiNOQY\nIklBJDEacgyRpCCSGA05hkhSEEmMhhxDJCmIJEZDjiGSFEQSoyHHEEkKIonRkGOIJAWRxGjI\nMUSSgkhiNOQYIklBJDEacgyRpCCSGA05hkhSEEmMhhxDJCmIJEZDjiGSFEQSoyHHEEkKIonR\nkGOIJAWRxGjIMUSSgkhiNOQYIklBJDEacgyRpCCSGA05hkhSEEmMhhxDJCmIJEZDjiGSFEQS\noyHHEEkKIonRkGOIJAWRxGjIMUSSgkhiNOQYIklBJDEacgyRpCCSGA05hkhSEEmMhhxDJCmI\nJEZDjiGSFEQSoyHHEEkKIonRkGOIJAWRxGjIMUSS4lzYPU1MSZJmrlUg0n7REOQeRMoi0xO9\nVwmRDoiGIHcg0qPYEmWP6s/nvdgy3Z2qQKT9oiHIHYh0NufFT+urQKT9oiHIHYgUmdz6lJu3\npSDSAdEQ5A5EGpmDSG+iD50ubmgIchcisUVa21Wh08UNDUHuQKTxMVLiVAUi7RcNQe5ApLsx\nZ/us3dvz34h0QDQEuQORRteRrm5VINJ+0RDkHkQqVGJkwyqOmWOIJIWxdmI05BgiSdlIJGOz\nuFBoJdzQkGOIJOXLwp5nY05vBwixRTokGoLchUhpZOLr61mfc0jdqkCk/aIhyD2IdKoEuibl\nwO97ZB5OVSDSftEQ5A5ESs05f+XFVqk6Y3dn0Oqb6EOnixsagtyBSM2g1fY8AkOE3kQfOl3c\n0BDkDkRqzEGkFV0VOl3c0BDkDkQabpEYtPou+tDp4oaGIHcgUmrS+hipOvOdcYz0JvrQ6eKG\nhiB3IFJ/1q4w6Rlz1u5N9KHTxQ0NQe5BpOo60u31NFxH+sAxcwyRpDCyQYyGHEMkKQxaFaMh\nxxBJCiKJ0ZBjiCQFkcRoyDFEkoJIYjTkGCJJQSQxGnIMkaQgkhgNOYZIUhBJjIYcQyQpiCRG\nQ44hkhREEqMhxxBJCiKJ0ZBjiCQFkcRoyDFEkoJIYjTkGCJJQSQxGnIMkaQgkhgNOYZIUhBJ\njIYcQyQpiCRGQ44hkhREEqMhxxBJCiKJ0ZBjiCQFkcRoyDFEkoJIYjTkGCJJQSQxGnIMkaQg\nkhgNOYZIUhBJjIYcQyQpiCRGQ44hkhREEqMhxxBJCiKJ0ZBjiCQFkcRoyDFEkoJIYjTkGCJJ\nQSQxGnIMkaQgkhgNOYZIUhBJjIYcQyQpiCRGQ44hkhREEqMhxxBJCiKJ0ZBjiCQFkcRoyDFE\nkoJIYjTkGCJJQSQxGnJMKtIxEcX4qQt8FiasApH2izDI0OvECUQKCyL9yJpEpLAg0o+sSUQK\nCyL9yJpEpLAg0o+sSUQKi4oTWogkBJHEaMgxFUEiUlg05JiKIBEpLBpyTEWQiBQWDTmmIkhE\nCouGHFMRJCKFRUOOqQgSkcKiIcdUBIlIYdGQYyqCRKSwaMgxFUEiUlg05JiKIBEpLBpyTEWQ\niBQWDTmmIsjfEemgyKIPnS5uaAjyd0T6zyHRkGOIJAWRxGjIMUSSYhWWneNyt+V891n+C5EO\niYYgtxHpGTf7/8akPitApEOiIchNRHpGphPJXHzWgEhHREOQm4hUeHS6v0qRssKkxxZVTGeE\nVsINDTmGSFKawq6FR+UnU//tdecOkQ6IhiC3EOlUb4UqkXJj4g2qmJkRWgk3NOQYIklpCmsu\nM7b//5sz7Ii0XzQEiUhh0ZBjiCSlKSwxprx8VBl0NybZoIqZGaGVcENDjiGSlKawzDrZUBwv\nZRtUMTMjtBJuaMgxRJLSFlZskuLq9Pf9VDvlv4rpjNBKuKEhxxBJSldY1I9ujp4+a0CkI6Ih\nyG1Eyk+tR7FfjxDpiGgIctNBq9HZ6/HRqIrRjNBKuKEhxxBJCrdRiNGQY4gkBZHEaMgxRJKC\nSGI05BgiSWmeQTB9MEF89jUEHJEOiIYg/0YkfzdTINIB0RDkn4l09lTF4ozQSrihIccQScpi\nYTdvQ1cR6YBoCPKPTjYg0gIacgyRpCwXFvu6vQ+RDoiGIP/q9HfuaagQIh0QDUFuLtLj5nX4\nNyIdEA1BbiPS9WSfsNukismM0Eq4oSHHEEmKdT8SIq1DQ44hkpT+Dll7VIPXpxYj0gHREOQW\nIp2NOeXVneZ333eaI9IR0RDkFiJF1cNP6l26wqR8gypmZoRWwg0NOYZIUgaP4zpXjxK6r3rS\n6j2tD6uS9NP2C5EOiIYgtxPpVg+vW/Gk1cx6xIOJ3quESAdEQ5Ab7dpVn6Lq/x/P2j2KLVFW\nDw5/3ptn4n2qYmZGaCXc0JBjiCSlKayRISqPjvLPIp0HI8PP78eJI9IB0RDkFiLdit25R6lE\nUp1s+LRrFw1OR+TvxUOkA6IhyE2ulkamfTdSyac3jY3MQaQ30YdOFzc0BLmJSM/6KCmtPPo4\n1M6wRVrLMXMMkaR0heWXan/uGpvo88nv8THS24fuI9IB0RDkDp4idDfmbJ+1e3v+G5EOiIYg\nt7uO1HD6vG83vI50XVPFzIzQSrihIccQScqcSKtGf2eMbFjFMXMMkaTMiHTnNoq3aMgxRJJi\n8rkHcX39tIZVNzch0n7REKTnzUU6I9L7g56SSzWY6H4ujpDSD892QKQDoiFIzyJNN0nRp+ux\n1eiH16tzkEGrb6IPnS5uaAhy85MNn7lWA4ru9bjvLHr/cGNEOiAagtyBSHE1xPXUbIoyBq2+\niT50urihIcgdXJBtbrowg4/iKhBpv2gIEpHCoiHHEElKV1g2eCDXh2+dqqOiczt09f3pckQ6\nIBqC3ESk0/DE3YdvZeUzh16P5naL9P3pckQ6IBqC3EKk4XPtPp95KDZf6aP4VmHQ8/zh+i0i\nHRANQW4h0unjI0xGXCzrTu+vyCLSAdEQ5Eanv4VPhcxvSVxZlH56LCsiHRANQe7gOpJLFTMz\nQivhhoYcQyQpTWExIq1GQ44hkpSmsNTbO8wXq5iZEVoJNzTkGCJJaQrLzfvnLnioYmZGaCXc\n0JBjiCSlLSwrTPL6MpdpFdMZoZVwQ0OOIZKU/mSD6DqSQxUzM0Ir4YaGHEMkKYgkRkOOIZIU\nRBKjIccQScp2Z70/V4FI+0VDkIgUFg05hkhSEEmMhhxDJCmIJEZDjiGSFKuw7FwNFDr7vpyE\nSAdEQ5DbiPSMm9N1q17F7FTFZEZoJdzQkGOIJKUt7BmZTqSP7xlzq2I6I7QSbmjIMUSS0hZW\neHS6v9q39nkdwIpIB0RDkFuIdK1f01ddib163rlDpAOiIciNbjUvt0KVSLmHh+jPVDEzI7QS\nbmjIMUSSMrxDtv0/Q4TeoCHHEEkKIonRkGOIJKUpLDHV07wrg+6eb/JDpAOiIcgtRMqskw0n\n8ROFVlUxMyO0Em5oyDFEktIWVmyS4ur09/1kPr+L2amK6YzQSrihIccQSUpXmPWa8ujDK/hc\nq5jMCK2EGxpyDJGkdIXl3dO/Y78eIdIR0RDkpoNWo7PX46NRFaMZoZVwQ0OOIZIUbqMQoyHH\nEEkKIonRkGOIJKU/RrrU44Kis+9HriLSAdEQ5Ga3UdQTzPtXK7tXMZ0RWgk3NOQYIklpCssj\n04vk+enFiHRANAS5hUgXY6J6ly6/yt+VtKqKmRmhlXBDQ44hkpT+NoruUQ1Xxtq9RUOOIZKU\n4ejvmQ/eqpiZEVoJNzTkGCJJQSQxGnIMkaQ0hcXWcxqexfHSBlXMzAithBsacgyRpDSFpdaQ\n74RnNrxFQ44hkpT29Hf5fvIsL/4qb6PgKULv0JBjiCSlLexiv9SF59q9Q0OOIZKUrrBr79HV\nZwWIdEg0BLnRKbX8lpTDG5JL7rP8FyIdEg1BMvo7LBpyDJGktGft/N/PN65iZkZoJdzQkGOI\nJKUpLPJ7DXauipkZoZVwQ0OOIZKUuZENnkGkA6IhyC1Euhpz81nsTBUzM0Ir4YaGHEMkKW1h\nj8RcfN8aO6piOiO0Em5oyDFEktLv2g3YoIqZGaGVcENDjiGSFEQSoyHHEEkKIonRkGOIJIUL\nsmI05BgiSUEkMRpyDJGkIJIYDTmGSFIQSYyGHEMkKVZh2TkyJkq8X5hFpAOiIchtRHp2r3WJ\nPI9fRaQDoiHITUR6Wi8a8/t8SEQ6IhqC3ESkYnsUl89syLPY80OEEOmIaAhyC5Fu1lOETp4H\nsCLSAdEQ5BYi2Y8svnt+GzMiHRANQW5+PxJDhN6iIccQSQoiidGQY4gkhV07MRpyDJGk9HfI\n2icbvD7ZblmkgyKLPnS6uKEhyE32u6IQp7//d0g05JhUpGMiivFTFzT/ZnYFT581INIREQYZ\nenfbiW3OBGTd0IbIr0eIdEQQSUhfWP3I4ijx/qRIRDogiCQk6G0UoZVwA5GmQYZ2wglECgsi\nTYMM7YQT3kXKkmKX7rzRU+0Q6ZAgkhBTXTeq8Pq+y2EVCzNCK+EGIk2DDO2EE55FSrqz3huZ\nhEgHBJGEmHtpUP7Kz96vH3VVLM4IrYQbiDQNMrQTTvgVKTXmXP2V+H53bFfF4ozQSriBSNMg\nQzvhhF+RTu2GqNg0JT5L7qtYnBFaCTcQaRpkaCec8CtSN+Qo9zz4qK9icUZoJdxApGmQoZ1w\nYiORNnvZGCIdEEQSgkhiEGkaZGgnnECksCDSNMjQTjiBSGFBpGmQoZ1wApHCgkjTIEM74QQi\nhQWRpkGGdsIJRAqLiruwEUmIj278VMXijNBKuKEhx6SPSgrdXCcQKSwacgyRpCCSGA05hkhS\nuENWjIYcQyQpiCRGQ44hkhTnwu5pfUdgkn567BAiHRANQe5BpMx+wd+Hd2Ui0gHREOQORHoU\nW6KsflrK855YD+AXVYFI+0VDkDsQ6dzcVTv3aX0ViLRfNAS5A5Eik1uf8venyxHpgGgIcgci\njcxBpDfRh04XNzQEuQuR2CKt7arQ6eKGhiB3INL4GOntU1MQ6YBoCHIHIt2NOdtn7d6e/0ak\nA6IhyB2INLqO9P5NmYh0QDQEuQeRCpUY2bCKY+YYIklhrJ0YDTmGSFI2EmnVPRmItF80BLkv\nkT7fu4RIB0RDkIgUFg05hkhSXC/ICu6oRaQDoiFIRAqLhhxDJCmOF2QjEzW3TrBr9yH60Oni\nhoYgdyDS63UxJqnG2yHSh+hDp4sbGoLchUivR2yi2wuRPkYfOl3c0BDkPkR6va7GnJ6I9Cn6\n0OnihoYg9yLS65kYc0WkD9GHThc3NAS5G5Fer1u04mGSiHRANAS5I5Fe+RmRPkQfOl3c0BDk\nnkT6qgpE2i8agkSksHNty2oAABF5SURBVGjIMUSSgkhiNOQYIklBJDEacgyRpCCSGA05hkhS\nEEmMhhxDJCmIJEZDjiGSFEQSoyHHEEkKIonRkGOIJAWRxGjIMUSSgkhiNOQYIklBJDEacgyR\npCCSGA05hkhSEEmMhhxDJCmIJEZDjiGSFEQSoyHHEEkKIonRkGOIJAWRxGjIMUSSgkhiNOQY\nIklBJDEacgyRpCCSGA05hkhSEEmMhhxDJCmIJEZDjiGSFEQSoyHHEEkKIonRkGOIJAWRxGjI\nMUSSgkhiNOQYIklBJDEacgyRpCCSGA05hkhSEEmMhhxDJCmIJEZDjiGSFEQSoyHHEEkKIonR\nkGOIJAWRxGjIMUSSgkhiNOQYIklBJDEacgyRpCCSGA05hkhSEEmMhhxDJCmIJEZDjiGSFEQS\noyHHEEkKIonRkGOIJAWRxGjIMUSSgkhiNOQYIklBJDEacgyRpCCSGA05hkhSEEmMhhxDJCmI\nJEZDjiGSFEQSoyHHEEkKIonRkGOIJAWRxGjIMUSSgkhiNOQYIklBJDEacgyRpCCSGA05hkhS\nEEmMhhxDJCmIJEZDjiGSFEQSoyHHEEkKIonRkGOIJAWRxGjIMUSSgkhiNOQYIklBJDEacgyR\npCCSGA05hkhSEEmMhhxDJCmIJEZDjiGSFEQSoyHHEEkKIonRkGOIJAWRxGjIMalIx0QU46cu\n8FmYsApE2i/CIEOvEycQKSyI9CNrEpHCgkg/siYRKSyI9CNrEpHCgkg/siYRKSyI9CNrEpHC\ngkg/siYRKSyI9CNrEpHCgkg/siYRKSyI9CNrEpHCgkg/siYRKSyI9CNr8ndEOiiy6EMr4QYi\nCQkq0j+HBJGmQYZ2wglECgsiTYMM7YQTiBQWRJoGGdoJJxApLIg0DTK0E04gUlgQaRpkaCec\nQKSwINI0yNBOOIFIYUGkaZChnXACkcKi4rkgiCQEkcRoyDHp8I3QzXUCkcKiIccQSYpzYfc0\nqXYBkjRzrQKR9ouGIPcgUhZZu9PRe5UQ6YBoCHIHIj2KLVH2qP583ost092pCkTaLxqC3IFI\nZ3Ne/LS+CkTaLxqC3IFIkcmtT/n7k6WIdEA0BLkDkUbmINKb6EOnixsagtyFSGyR1nZV6HRx\nQ0OQOxBpfIyUOFWBSPtFQ5A7EOluzNk+a/f2/DciHRANQe5ApNF1pKtbFYi0XzQEuQeRCpUY\n2bCKY+YYIklhrJ0YDTmGSFI2EmnViHxE2i8agtyFSLfYROdnWwinv5ejD50ubmgIcg8ipfVZ\nhsYkRHoTfeh0cUNDkDsQKTPmVvw/jurrsoj0JvrQ6eKGhiB3IFJi6jPeyanaJiHSm+hDp4sb\nGoLcgUidOWl1DQmR3kQfOl3c0BDknkQqDpauiPQ2+tDp4oaGIHcgknUbRWLuiPQu+tDp4oaG\nIHcg0tn0o4Ki6IlIb6IPnS5uaAhyByI9qrN2NU8TIdKb6EOnixsagtyBSNV1pPbvDJHeRR86\nXdzQEOQeRHo9zlH39/OMSMvRh04XNzQEuQuRfFSBSPtFQ5CIFBYNOYZIUhBJjIYcQyQpiCRG\nQ44hkhREEqMhxxBJCiKJ0ZBjiCQFkcRoyDFEkoJIYjTkGCJJQSQxGnIMkaQgkhgNOYZIUhBJ\njIYcQyQpiCRGQ44hkhREEqMhxxBJCiKJ0ZBjiCQFkcRoyDFEkoJIYjTkGCJJQSQxGnIMkaQg\nkhgNOYZIUhBJjIYcQyQpiCRGQ44hkhREEqMhxxBJCiKJ0ZBjiCQFkcRoyDFEkoJIYjTkGCJJ\nQSQxGnIMkaQgkhgNOSYV6ZiIYvzUBT4LE1aBSPtFGGTodeIEIoUFkX5kTSJSWBDpR9YkIoUF\nkX5kTSJSWBDpR9YkIoUFkX5kTSJSWBDpR9YkIoUFkX5kTSJSWBDpR9YkIoUFkX5kTSJSWBDp\nR9YkIoUFkX5kTSJSWBDpR9YkIoUFkX5kTSJSWBDpR9YkIoUFkX5kTSJSWBDpR9YkIoUFkX5k\nTSJSWBDpR9YkIoUFkX5kTSJSWBDpR9YkIoUFkX5kTSJSWBDpR9YkIoUFkX5kTSJSWBDpR9Yk\nIoUFkX5kTSJSWIQ5dlBkQYZeJ04gUlg05JiKIBEpLBpyTEWQiBQWDTmmIkhECouGHFMRJCKF\nRUOOqQgSkcKiIcdUBIlIYdGQYyqCRKSwaMgxFUEiUlg05JiKIBEpLBpyTEWQiBQWDTmmIkhE\nCouGHFMRJCKFRUOOqQgSkcKiIcdUBIlIYdGQYyqCRKSwaMgxFUEiUlg05JiKIBEpLBpyTEWQ\niBQWDTmmIkhECouGHFMRJCKFRUOOqQgSkcKiIcdUBIlIYdGQYyqCRKSwaMgxFUEiUlg05JiK\nIBEpLBpyTEWQiBQWDTmmIkhECouGHFMRJCKFRUOOqQgSkcKiIcdUBIlIYdGQYyqCRKSwaMgx\nFUEiUlg05JiKIBEpLBpyTEWQiBQWDTmmIkhECouGHFMRJCKFRUOOqQgSkcKiIcdUBIlIYdGQ\nYyqCRKSwaMgxFUEiUlg05JiKIBEpLBpyTEWQ+xDpniamJEkz1yqO2f0qckxFkHsQKYtMT/Re\nJUQ6IBqC3IFIj2JLlD2qP5/3Yst0d6rimN2vIsdUBLkDkc7mvPhpfRXH7H4VOaYiyB2IFJnc\n+pSbt6Ug0gHREOQORBqZMxXJ2CyXckyEXXVMNAQpivFTF7h9S7JFAvh9/BwjJX4aA3BU3ES6\nG3O2z9p9upQE8ON4uY509dsmgMPhfHSTrR7ZAPD7cJoAwAOIBOABRALwACIBeACRADyASAAe\nQCQADyASgAcQCcADiATgAUQ6GBcTX/InN67sDVbIsbg2A4VPoRsCQxDpWMSNSAy43xmIdCyM\neeZpbC6h2wEjEAnAA4gE4IH9iJSdy/3/5JIPpt7TU3lonfaPoDTJ+Xqzlrhdz0kVhXXPbrf8\n5FExM8+RWXy4zLRu7ywGU5EZ+y7+0ZGRHZrjgn/PYl9PIuiIz7fJ1Ci5PBeK/LtYhuxFpFt/\n77q1/3+Pu6nxo5lWfepz+74gRNIuPKxnvUhzdXtnMZiKyuPBss/BV79d8O9Z6Ou5CCzi58zU\nZH7ZPw3HYicipXZfdB16GXRRI5j9d7dMN2NUyqRnZ7p9fuXO1u2dxWBK8upTbi97Gnz12wX/\nnvm+no3AJp6bGs3ppVyk0qM4K/sxS/rMKtMqupRbg8el3GDV+yvlok3PlhR/90K0E59nU+8p\nzIm00IbhnPm6vbMYTMnVmNSqucqTq/3VbxcMxmQtTCPoZj3SNhrLu/vZ1mvj1q5iF43I7BVf\n9lu1K/Uo/ugfn5e0k0vR+l2XZ/VpLFJVSjKeNlloec5C3d5ZDKYkNtEr6jUr5iTWPpuHBYMx\nWQvTCKyZ17ndi6z9wUWknnjwK1kkQdpMTV+DydVucZnU/e5QkXj3OZHy+pOrSAt1e2cxmFel\nVVr+IDz7ZfOo32fzsGAwxmthJoKZxYdTb7NTg7GHRtzN4EfyYU5lEhedG9lLFblRdXTZcf2P\nV/lTNtujX4m0VLd3FoN51VqVfXOxlr31PzkeFgzGeC3MRTBdfDT1tLD3HoY9NCKdXbWX8dRm\nsbLj0vbANC/3wBa2SNF42mShxTlLdXtnMZhX+cqPqPt/18B+n83DgsEYr4XZCDrS+TNHt3rv\nG5E6TrNHIMl46r0/7Cl2kOuLC7fyV2lOpPNCL68Taalu7ywGU1VZbpjT7vR4NaffZ/OwYDBG\na2E+gpq8fCT2+GRDxaP2C5E65rsimky19tba87un+sNIpLrzH3NFmwFLrViq2zuLwXRpde+O\n1uo5N+vs5bcLBmPUm3MRDDjNfavPh4U1+qfsV6TpVEukpN4dyqs+7kWySWcLWSfSUt3eWQym\n39HpdniaOadmn83DgsEY9eZcBDbJ7LcQaYyDSLf6QPNW7RXNipTOF7JHkeaCKXf46hDSduxM\nM+c5OmL4YsFgDHtzNoKOOH3MfguRJkx3pEreipTXh0Dn6kd3KlI3FGtOpIVWhBNpLpjyU8d5\n0IRrfUzlYcFgDHtzOYJ7sY3KFr41yIfw7KERk0P7+akP+xpr3HRi/LJFmhTiKNJS3d5ZDCYf\n/M7mgwaeTJR7WTAYg7XwLoLBWNbRunssXHMPwx4aMT7ZnEfJdeYU9KU//V19yMpu7qf4FGmp\nbu8sBnMbZNdt0MBnlUEeFgzGYC28i6C6tX7hMu2t3iNEpI7x5c9LtYUfT31ZF2Srn6NzuU9w\nf20h0lLd3lkM5jQYODS6jFLts3lYMBiDtfA2grJb4rlvVdtxLsgOGQ7IeTab88SM3lTbDREq\n/4mq0Vm2QR5FWqrbO0vB5Haqx/UOj9XAcp/Nw4LBsPv6QwRlv5yn36o2SNF0ajB20YhygFln\n0jNqfoPKgaN9+pZHpO2g1fKfcrBw08UbiLRQt3eWgrnYO1+3wU5fybMalvr1gsEY7Ua/i6BK\njvvkW/1AZ0SyqG6juJYb+Ht1Z1K9qS93nu1bGep133RcVu1RZ9YUnyIt1O2dpWDi0dG4dRqi\non4q17cLBsNu4acI+p27fuqzuttm/jJtIHbRiOEZ0P48zXUwtb+xr/13eI5nQSSLyQT7G6Ov\nz9btnYVgHpM9y8f0wOL7BYNhtfBzBOXOXXvDhE0/Amphjf4pOxHpde1vNT/1h/WP+VvNq38n\nv0l+RZqt2zsLwYyGw9VXLAcNfBoPCwbDauHnCKqdu+Y0k0Xal4VINrfq4Sfx6FEjMw8/afqq\n3PkaDCbzLNLfPPxkPpjxIJ7q87CBVw8LBsNq4YoIys1UMzy1/WVLrou3pW/d9gX2IxLAgUEk\nAA8gEoAHEAnAA4gE4AFEAvAAIgF4AJEAPIBIAB5AJAAPIBKABxAJwAOIBOABRALwACIBeACR\nADyASAAeQCQADyASgAcQCcADiATgAUQC8AAiAXgAkQA8gEgAHkAkAA8gUlCy6jnNycXlbUVv\nntS8m3c06IHuDsitf3OAw+suVov0CPvEfB0gUjhS+9nv8ndRrhYpCfyiSxUgUjCqt6tl5U5d\n9dos8TZp7d7bw0SbvP8WbBApFN27G0tKqaQvYVorUtK9uA22A5FCEVseVW8akx7HcD5hT7Au\nAnEfvsb1YU6tSNdTccTUvp+4tCVPC+lO3WblkUYmSqfHSPVizQnA3rJBcXPlgQ8QKRDpwlFR\n1pzJa14AWvyVDU9HXNpPI5Ga6c0BUTt1VNxMeeAFRArEaf6gqM1yS4iOahtyaz8lQ5H6l0dH\neT91XNy0PPADIgVi/ggnLzYgp3ux43dqthiVMo96y5KUE9oFYjMQKS83McVy9+YV4M3UcXHT\n8sAPiBSIeZFu3ZFTXG8xTJvvWf2FfoFoINKtNeVRLzBeuiluUh54gs4MxHweJ90OV5Ho53qx\nu/2FwQJmbvri0ufXTHngCTozENFsHhdTm2F3xb5a9LLTvf5rsICZm764dPSaKQ88QWcGIpk9\n2WBld/3nOPEnC0ynr1j6NfMN+Ao6MxCX0envPEquiHRc6MxAPJt9rZZLdRAj2LVbIxK7dn8G\nnRmKeDAo6Flf1xmcHShPr40T/83JhvokwkDASXGItBV0ZijuxjLpGdUnqjP7fHU5rmec+Ldu\nQxYPRLq0p7+v3dm+ueIQaSvozGBUt1FcywEH9+rOpGrogXUFdX5XrDQuqxcYX5BNnvUAh8dg\n6UFxiLQVdGY4zvZ4nWYf7DmaMEn8ezs7HZ4+6IcIna2p4+IQaSvozIBc+1vN20Gl1U5eSbSU\n+M3wucVBq8lg6VFxiLQVdGZQbtXDT+L0bk2b3EYx+qu8C2LuNory9gqTTISZ3kYx/gs8QGcC\neACRADyASAAeQCQADyASgAcQCcADiATgAUQC8AAiAXgAkQA8gEgAHkAkAA8gEoAHEAnAA4gE\n4AFEAvAAIgF4AJEAPIBIAB5AJAAPIBKABxAJwAOIBOABRALwACIBeACRADyASAAeQCQADyAS\ngAcQCcADiATggf8Dg/CknwrW8rwAAAAASUVORK5CYII=",
      "text/plain": [
       "Plot with title \"Gráfico de contigencia por columna\""
      ]
     },
     "metadata": {
      "image/png": {
       "height": 420,
       "width": 420
      }
     },
     "output_type": "display_data"
    }
   ],
   "source": [
    "grafico <- barplot(tabla_variable_col,\n",
    "                  main= \"Gráfico de contigencia por columna\",\n",
    "                  beside= FALSE,\n",
    "                  space = rep(0.25, ncol(tabla_variable_col)),\n",
    "                  ylim = c(0,110),\n",
    "                  cex.axis = 1.2, \n",
    "                  cex.names=1.5, \n",
    "                  cex.main=1.5, \n",
    "                  col=c(\"blue\", \"red\", \"green\", \"orange\", \"purple\"),\n",
    "                  xlab = \"Condición\",\n",
    "                  cex.lab=1.5,\n",
    "                  ylab = \"Porcentaje\",\n",
    "                  col.lab = \"black\")\n",
    "\n",
    "#leyenda\n",
    "legend(x = -0.4, y = 115, rownames(tabla_variable_col),cex = 1, fill=c(\"blue\", \"red\", \"green\", \"orange\", \"purple\"),xpd = TRUE,horiz = TRUE,bty = \"n\")"
   ]
  },
  {
   "cell_type": "code",
   "execution_count": 207,
   "id": "8ee39773",
   "metadata": {},
   "outputs": [],
   "source": [
    "# Si miramos el grafico de la siguiente manera: MAÑANA, TARDE, COMPLETO\n",
    "# podremos ver como se agrandan los bloques de las \"malas notas\" y por eso se achican los bloques de las\n",
    "# notas altas\n",
    "# entonces nuestra hipotesis es esa, que el desempeño de los estudiantes en Matemáticas depende del turno\n",
    "# en el que asisten a la escuela"
   ]
  },
  {
   "cell_type": "code",
   "execution_count": 208,
   "id": "5b48785b",
   "metadata": {},
   "outputs": [
    {
     "data": {
      "text/plain": [
       "\n",
       "\tPearson's Chi-squared test\n",
       "\n",
       "data:  aux$turno and aux$Desempeño\n",
       "X-squared = 28.507, df = 8, p-value = 0.0003868\n"
      ]
     },
     "metadata": {},
     "output_type": "display_data"
    }
   ],
   "source": [
    "# H0 ---> No hay relación entre las variables\n",
    "# H1 ---> Si hay relación entre las variables\n",
    "chi <-chisq.test(aux$turno, aux$Desempeño)\n",
    "chi\n",
    "# Rechazamos H0, entonces hay relación de dependecia entre el Desempeño y el turno"
   ]
  },
  {
   "cell_type": "code",
   "execution_count": 209,
   "id": "b3376a5f",
   "metadata": {},
   "outputs": [
    {
     "data": {
      "text/html": [
       "0.158972697093328"
      ],
      "text/latex": [
       "0.158972697093328"
      ],
      "text/markdown": [
       "0.158972697093328"
      ],
      "text/plain": [
       "[1] 0.1589727"
      ]
     },
     "metadata": {},
     "output_type": "display_data"
    }
   ],
   "source": [
    "CramerV(aux$turno, aux$Desempeño)\n",
    "# La asociación es debil"
   ]
  },
  {
   "cell_type": "code",
   "execution_count": 212,
   "id": "6d4c8786",
   "metadata": {},
   "outputs": [
    {
     "data": {
      "image/png": "iVBORw0KGgoAAAANSUhEUgAAA0gAAANICAMAAADKOT/pAAAAP1BMVEUAAAAA/wBNTU1oaGh8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\n9AAAAABJRU5ErkJggg==",
      "text/plain": [
       "Plot with title \"Gráfico de Mosaico\""
      ]
     },
     "metadata": {
      "image/png": {
       "height": 420,
       "width": 420
      }
     },
     "output_type": "display_data"
    }
   ],
   "source": [
    "# Grafico para mostrar las direcciones\n",
    "mosaicplot(table(aux$turno, aux$Desempeño),\n",
    "          main = \"Gráfico de Mosaico\",\n",
    "          color = c(\"red\",\"orange\",\"yellow\",\"green\",\"purple\"),\n",
    "          border = \"black\",\n",
    "          xlab = \"Turno\",\n",
    "          ylab = \"Desempeño\",\n",
    "          cex.axis = par(\"cex\"))"
   ]
  },
  {
   "cell_type": "code",
   "execution_count": 213,
   "id": "88b706a4",
   "metadata": {},
   "outputs": [
    {
     "data": {
      "text/plain": [
       "          aux$Desempeño\n",
       "aux$turno  Regular Aprobado Bueno Muy Bueno Distinguido\n",
       "  COMPLETO      18       17    16        19           5\n",
       "  MAÑANA        23       38    56        74          81\n",
       "  TARDE         29       28    44        54          62"
      ]
     },
     "metadata": {},
     "output_type": "display_data"
    }
   ],
   "source": [
    "# Frecuencias observadas\n",
    "chi$observed"
   ]
  },
  {
   "cell_type": "code",
   "execution_count": 214,
   "id": "92425c52",
   "metadata": {},
   "outputs": [
    {
     "data": {
      "text/html": [
       "<table class=\"dataframe\">\n",
       "<caption>A matrix: 3 × 5 of type dbl</caption>\n",
       "<thead>\n",
       "\t<tr><th></th><th scope=col>Regular</th><th scope=col>Aprobado</th><th scope=col>Bueno</th><th scope=col>Muy Bueno</th><th scope=col>Distinguido</th></tr>\n",
       "</thead>\n",
       "<tbody>\n",
       "\t<tr><th scope=row>COMPLETO</th><td> 9</td><td>11</td><td>15</td><td>20</td><td>20</td></tr>\n",
       "\t<tr><th scope=row>MAÑANA</th><td>34</td><td>40</td><td>56</td><td>71</td><td>71</td></tr>\n",
       "\t<tr><th scope=row>TARDE</th><td>27</td><td>32</td><td>45</td><td>57</td><td>57</td></tr>\n",
       "</tbody>\n",
       "</table>\n"
      ],
      "text/latex": [
       "A matrix: 3 × 5 of type dbl\n",
       "\\begin{tabular}{r|lllll}\n",
       "  & Regular & Aprobado & Bueno & Muy Bueno & Distinguido\\\\\n",
       "\\hline\n",
       "\tCOMPLETO &  9 & 11 & 15 & 20 & 20\\\\\n",
       "\tMAÑANA & 34 & 40 & 56 & 71 & 71\\\\\n",
       "\tTARDE & 27 & 32 & 45 & 57 & 57\\\\\n",
       "\\end{tabular}\n"
      ],
      "text/markdown": [
       "\n",
       "A matrix: 3 × 5 of type dbl\n",
       "\n",
       "| <!--/--> | Regular | Aprobado | Bueno | Muy Bueno | Distinguido |\n",
       "|---|---|---|---|---|---|\n",
       "| COMPLETO |  9 | 11 | 15 | 20 | 20 |\n",
       "| MAÑANA | 34 | 40 | 56 | 71 | 71 |\n",
       "| TARDE | 27 | 32 | 45 | 57 | 57 |\n",
       "\n"
      ],
      "text/plain": [
       "          aux$Desempeño\n",
       "aux$turno  Regular Aprobado Bueno Muy Bueno Distinguido\n",
       "  COMPLETO  9      11       15    20        20         \n",
       "  MAÑANA   34      40       56    71        71         \n",
       "  TARDE    27      32       45    57        57         "
      ]
     },
     "metadata": {},
     "output_type": "display_data"
    }
   ],
   "source": [
    "# Frecuencias esperadas si fueran independientes\n",
    "round(chi$expected,0)\n",
    "# Se puede ver como en el turno COMPLETO, se esperan más frecuencias en las notas altas. En el turno\n",
    "# MAÑANA se esperan mas frecuencias en las notas bajas. Mientras que en el turno TARDE esta bastante repartido"
   ]
  },
  {
   "cell_type": "code",
   "execution_count": 215,
   "id": "8785f3a9",
   "metadata": {},
   "outputs": [
    {
     "data": {
      "text/plain": [
       "          aux$Desempeño\n",
       "aux$turno  Regular Aprobado Bueno Muy Bueno Distinguido\n",
       "  COMPLETO     2.8      1.8   0.1      -0.1        -3.3\n",
       "  MAÑANA      -1.9     -0.3   0.0       0.4         1.1\n",
       "  TARDE        0.4     -0.7  -0.1      -0.3         0.7"
      ]
     },
     "metadata": {},
     "output_type": "display_data"
    },
    {
     "data": {
      "text/plain": [
       "          aux$Desempeño\n",
       "aux$turno  Regular Aprobado Bueno Muy Bueno Distinguido\n",
       "  COMPLETO     3.3      2.1   0.2      -0.2        -4.1\n",
       "  MAÑANA      -2.7     -0.5   0.0       0.6         1.8\n",
       "  TARDE        0.5     -1.0  -0.1      -0.5         1.0"
      ]
     },
     "metadata": {},
     "output_type": "display_data"
    }
   ],
   "source": [
    "# Residuos tipificados o estandarizados\n",
    "round(chi$residuals,1)\n",
    "# Como aclaramos anteriormente, el turno COMPLETO tiene menos frecuencias en los desempeños altos. Mientras\n",
    "# que el turno MAÑANA carece de frecuencias en los desempeños bajos. Por ultimo, el turno TARDE tiene mas\n",
    "#frecuencias en los desempeños extremos\n",
    "\n",
    "round(chi$stdres,1)\n",
    "# Teniendo en cuenta la cantidad de la muestra, el que mas discrepancia tiene es el turno COMPLETO y el \n",
    "# desempeño DISTINGUIDO con un -4.1"
   ]
  },
  {
   "cell_type": "markdown",
   "id": "8e31feae",
   "metadata": {},
   "source": [
    "### ------------------------------------------------------------------------------------------------------------------------------------------------------------------------------------------------------------------"
   ]
  },
  {
   "cell_type": "code",
   "execution_count": 218,
   "id": "bf49e5e5",
   "metadata": {},
   "outputs": [
    {
     "data": {
      "text/plain": [
       "             turno\n",
       "Desempeño     COMPLETO MAÑANA TARDE\n",
       "  Aprobado          12     39    29\n",
       "  Bueno             20     59    55\n",
       "  Distinguido        4     72    56\n",
       "  Muy Bueno         17     72    44\n",
       "  Regular           22     30    35"
      ]
     },
     "metadata": {},
     "output_type": "display_data"
    }
   ],
   "source": [
    "aux <- filter(Notas_Victoria_1Grado, asignatura == \"LENGUA\")\n",
    "datos_lengua <- aux %>%\n",
    "    select('Desempeño', 'turno') %>%\n",
    "    table()\n",
    "datos_lengua"
   ]
  },
  {
   "cell_type": "code",
   "execution_count": 219,
   "id": "ec7fbae1",
   "metadata": {},
   "outputs": [
    {
     "data": {
      "text/html": [
       "<table class=\"dataframe\">\n",
       "<caption>A matrix: 5 × 3 of type int</caption>\n",
       "<tbody>\n",
       "\t<tr><td>30</td><td>35</td><td>22</td></tr>\n",
       "\t<tr><td>39</td><td>29</td><td>12</td></tr>\n",
       "\t<tr><td>59</td><td>55</td><td>20</td></tr>\n",
       "\t<tr><td>72</td><td>44</td><td>17</td></tr>\n",
       "\t<tr><td>72</td><td>56</td><td> 4</td></tr>\n",
       "</tbody>\n",
       "</table>\n"
      ],
      "text/latex": [
       "A matrix: 5 × 3 of type int\n",
       "\\begin{tabular}{lll}\n",
       "\t 30 & 35 & 22\\\\\n",
       "\t 39 & 29 & 12\\\\\n",
       "\t 59 & 55 & 20\\\\\n",
       "\t 72 & 44 & 17\\\\\n",
       "\t 72 & 56 &  4\\\\\n",
       "\\end{tabular}\n"
      ],
      "text/markdown": [
       "\n",
       "A matrix: 5 × 3 of type int\n",
       "\n",
       "| 30 | 35 | 22 |\n",
       "| 39 | 29 | 12 |\n",
       "| 59 | 55 | 20 |\n",
       "| 72 | 44 | 17 |\n",
       "| 72 | 56 |  4 |\n",
       "\n"
      ],
      "text/plain": [
       "     [,1] [,2] [,3]\n",
       "[1,] 30   35   22  \n",
       "[2,] 39   29   12  \n",
       "[3,] 59   55   20  \n",
       "[4,] 72   44   17  \n",
       "[5,] 72   56    4  "
      ]
     },
     "metadata": {},
     "output_type": "display_data"
    }
   ],
   "source": [
    "# Reordenamos la tabla\n",
    "datos_lengua1 <- rbind(datos_lengua[5,], datos_lengua[1,], datos_lengua[2,], datos_lengua[4,], datos_lengua[3,])\n",
    "datos_lengua1 <- cbind(datos_lengua1[,2], datos_lengua1[,3], datos_lengua1[,1])\n",
    "datos_lengua1"
   ]
  },
  {
   "cell_type": "code",
   "execution_count": 220,
   "id": "4414b6af",
   "metadata": {},
   "outputs": [
    {
     "data": {
      "text/html": [
       "<style>\n",
       ".list-inline {list-style: none; margin:0; padding: 0}\n",
       ".list-inline>li {display: inline-block}\n",
       ".list-inline>li:not(:last-child)::after {content: \"\\00b7\"; padding: 0 .5ex}\n",
       "</style>\n",
       "<ol class=list-inline><li>87</li><li>80</li><li>134</li><li>133</li><li>132</li></ol>\n"
      ],
      "text/latex": [
       "\\begin{enumerate*}\n",
       "\\item 87\n",
       "\\item 80\n",
       "\\item 134\n",
       "\\item 133\n",
       "\\item 132\n",
       "\\end{enumerate*}\n"
      ],
      "text/markdown": [
       "1. 87\n",
       "2. 80\n",
       "3. 134\n",
       "4. 133\n",
       "5. 132\n",
       "\n",
       "\n"
      ],
      "text/plain": [
       "[1]  87  80 134 133 132"
      ]
     },
     "metadata": {},
     "output_type": "display_data"
    },
    {
     "data": {
      "text/html": [
       "<style>\n",
       ".list-inline {list-style: none; margin:0; padding: 0}\n",
       ".list-inline>li {display: inline-block}\n",
       ".list-inline>li:not(:last-child)::after {content: \"\\00b7\"; padding: 0 .5ex}\n",
       "</style>\n",
       "<ol class=list-inline><li>272</li><li>219</li><li>75</li></ol>\n"
      ],
      "text/latex": [
       "\\begin{enumerate*}\n",
       "\\item 272\n",
       "\\item 219\n",
       "\\item 75\n",
       "\\end{enumerate*}\n"
      ],
      "text/markdown": [
       "1. 272\n",
       "2. 219\n",
       "3. 75\n",
       "\n",
       "\n"
      ],
      "text/plain": [
       "[1] 272 219  75"
      ]
     },
     "metadata": {},
     "output_type": "display_data"
    }
   ],
   "source": [
    "# Sumar totales por fila para obtener distribución marginal por fila\n",
    "row_marginals <- margin.table(datos_lengua1,1)\n",
    "row_marginals\n",
    "\n",
    "# Sumar totales por columna para obtenr distribución marginal por columna\n",
    "col_marginals <- margin.table(datos_lengua1, 2)\n",
    "col_marginals"
   ]
  },
  {
   "cell_type": "code",
   "execution_count": 221,
   "id": "3b079190",
   "metadata": {},
   "outputs": [
    {
     "data": {
      "text/html": [
       "<table class=\"dataframe\">\n",
       "<caption>A matrix: 6 × 4 of type int</caption>\n",
       "<thead>\n",
       "\t<tr><th></th><th scope=col></th><th scope=col></th><th scope=col></th><th scope=col>Total</th></tr>\n",
       "</thead>\n",
       "<tbody>\n",
       "\t<tr><th scope=row></th><td> 30</td><td> 35</td><td>22</td><td> 87</td></tr>\n",
       "\t<tr><th scope=row></th><td> 39</td><td> 29</td><td>12</td><td> 80</td></tr>\n",
       "\t<tr><th scope=row></th><td> 59</td><td> 55</td><td>20</td><td>134</td></tr>\n",
       "\t<tr><th scope=row></th><td> 72</td><td> 44</td><td>17</td><td>133</td></tr>\n",
       "\t<tr><th scope=row></th><td> 72</td><td> 56</td><td> 4</td><td>132</td></tr>\n",
       "\t<tr><th scope=row>Total</th><td>272</td><td>219</td><td>75</td><td>566</td></tr>\n",
       "</tbody>\n",
       "</table>\n"
      ],
      "text/latex": [
       "A matrix: 6 × 4 of type int\n",
       "\\begin{tabular}{r|llll}\n",
       "  &  &  &  & Total\\\\\n",
       "\\hline\n",
       "\t &  30 &  35 & 22 &  87\\\\\n",
       "\t &  39 &  29 & 12 &  80\\\\\n",
       "\t &  59 &  55 & 20 & 134\\\\\n",
       "\t &  72 &  44 & 17 & 133\\\\\n",
       "\t &  72 &  56 &  4 & 132\\\\\n",
       "\tTotal & 272 & 219 & 75 & 566\\\\\n",
       "\\end{tabular}\n"
      ],
      "text/markdown": [
       "\n",
       "A matrix: 6 × 4 of type int\n",
       "\n",
       "| <!--/--> | <!----> | <!----> | <!----> | Total |\n",
       "|---|---|---|---|---|\n",
       "| <!----> |  30 |  35 | 22 |  87 |\n",
       "| <!----> |  39 |  29 | 12 |  80 |\n",
       "| <!----> |  59 |  55 | 20 | 134 |\n",
       "| <!----> |  72 |  44 | 17 | 133 |\n",
       "| <!----> |  72 |  56 |  4 | 132 |\n",
       "| Total | 272 | 219 | 75 | 566 |\n",
       "\n"
      ],
      "text/plain": [
       "                 Total\n",
       "       30  35 22  87  \n",
       "       39  29 12  80  \n",
       "       59  55 20 134  \n",
       "       72  44 17 133  \n",
       "       72  56  4 132  \n",
       "Total 272 219 75 566  "
      ]
     },
     "metadata": {},
     "output_type": "display_data"
    }
   ],
   "source": [
    "# Tabla de contigencia con marginales fila y columna\n",
    "datos_lengua2 <- cbind(datos_lengua1, \"Total\"= margin.table(datos_lengua1,1))\n",
    "datos_lengua2 <- rbind(datos_lengua2, \"Total\"=margin.table(datos_lengua2,2))\n",
    "datos_lengua2"
   ]
  },
  {
   "cell_type": "code",
   "execution_count": 222,
   "id": "25868399",
   "metadata": {},
   "outputs": [
    {
     "data": {
      "text/html": [
       "<table class=\"dataframe\">\n",
       "<caption>A matrix: 6 × 4 of type dbl</caption>\n",
       "<thead>\n",
       "\t<tr><th></th><th scope=col></th><th scope=col></th><th scope=col></th><th scope=col>Total</th></tr>\n",
       "</thead>\n",
       "<tbody>\n",
       "\t<tr><th scope=row></th><td> 5.3</td><td> 6.2</td><td> 3.9</td><td> 15.4</td></tr>\n",
       "\t<tr><th scope=row></th><td> 6.9</td><td> 5.1</td><td> 2.1</td><td> 14.1</td></tr>\n",
       "\t<tr><th scope=row></th><td>10.4</td><td> 9.7</td><td> 3.5</td><td> 23.7</td></tr>\n",
       "\t<tr><th scope=row></th><td>12.7</td><td> 7.8</td><td> 3.0</td><td> 23.5</td></tr>\n",
       "\t<tr><th scope=row></th><td>12.7</td><td> 9.9</td><td> 0.7</td><td> 23.3</td></tr>\n",
       "\t<tr><th scope=row>Total</th><td>48.1</td><td>38.7</td><td>13.3</td><td>100.0</td></tr>\n",
       "</tbody>\n",
       "</table>\n"
      ],
      "text/latex": [
       "A matrix: 6 × 4 of type dbl\n",
       "\\begin{tabular}{r|llll}\n",
       "  &  &  &  & Total\\\\\n",
       "\\hline\n",
       "\t &  5.3 &  6.2 &  3.9 &  15.4\\\\\n",
       "\t &  6.9 &  5.1 &  2.1 &  14.1\\\\\n",
       "\t & 10.4 &  9.7 &  3.5 &  23.7\\\\\n",
       "\t & 12.7 &  7.8 &  3.0 &  23.5\\\\\n",
       "\t & 12.7 &  9.9 &  0.7 &  23.3\\\\\n",
       "\tTotal & 48.1 & 38.7 & 13.3 & 100.0\\\\\n",
       "\\end{tabular}\n"
      ],
      "text/markdown": [
       "\n",
       "A matrix: 6 × 4 of type dbl\n",
       "\n",
       "| <!--/--> | <!----> | <!----> | <!----> | Total |\n",
       "|---|---|---|---|---|\n",
       "| <!----> |  5.3 |  6.2 |  3.9 |  15.4 |\n",
       "| <!----> |  6.9 |  5.1 |  2.1 |  14.1 |\n",
       "| <!----> | 10.4 |  9.7 |  3.5 |  23.7 |\n",
       "| <!----> | 12.7 |  7.8 |  3.0 |  23.5 |\n",
       "| <!----> | 12.7 |  9.9 |  0.7 |  23.3 |\n",
       "| Total | 48.1 | 38.7 | 13.3 | 100.0 |\n",
       "\n"
      ],
      "text/plain": [
       "                     Total\n",
       "       5.3  6.2  3.9  15.4\n",
       "       6.9  5.1  2.1  14.1\n",
       "      10.4  9.7  3.5  23.7\n",
       "      12.7  7.8  3.0  23.5\n",
       "      12.7  9.9  0.7  23.3\n",
       "Total 48.1 38.7 13.3 100.0"
      ]
     },
     "metadata": {},
     "output_type": "display_data"
    }
   ],
   "source": [
    "# Tabla contingencia ~ Porcentaje Total\n",
    "tabla_cont_total <- prop.table(datos_lengua1)*100\n",
    "tabla_cont_total <- cbind(tabla_cont_total, \"Total\"=margin.table(tabla_cont_total,1))\n",
    "tabla_cont_total <- rbind(tabla_cont_total, \"Total\"=margin.table(tabla_cont_total,2))\n",
    "round(tabla_cont_total,1)"
   ]
  },
  {
   "cell_type": "code",
   "execution_count": 223,
   "id": "f006fa16",
   "metadata": {},
   "outputs": [
    {
     "data": {
      "text/html": [
       "<table class=\"dataframe\">\n",
       "<caption>A matrix: 6 × 4 of type dbl</caption>\n",
       "<thead>\n",
       "\t<tr><th></th><th scope=col></th><th scope=col></th><th scope=col></th><th scope=col>Total</th></tr>\n",
       "</thead>\n",
       "<tbody>\n",
       "\t<tr><th scope=row></th><td>34.5</td><td>40.2</td><td>25.3</td><td>100</td></tr>\n",
       "\t<tr><th scope=row></th><td>48.8</td><td>36.2</td><td>15.0</td><td>100</td></tr>\n",
       "\t<tr><th scope=row></th><td>44.0</td><td>41.0</td><td>14.9</td><td>100</td></tr>\n",
       "\t<tr><th scope=row></th><td>54.1</td><td>33.1</td><td>12.8</td><td>100</td></tr>\n",
       "\t<tr><th scope=row></th><td>54.5</td><td>42.4</td><td> 3.0</td><td>100</td></tr>\n",
       "\t<tr><th scope=row>Total</th><td>48.1</td><td>38.7</td><td>13.3</td><td>100</td></tr>\n",
       "</tbody>\n",
       "</table>\n"
      ],
      "text/latex": [
       "A matrix: 6 × 4 of type dbl\n",
       "\\begin{tabular}{r|llll}\n",
       "  &  &  &  & Total\\\\\n",
       "\\hline\n",
       "\t & 34.5 & 40.2 & 25.3 & 100\\\\\n",
       "\t & 48.8 & 36.2 & 15.0 & 100\\\\\n",
       "\t & 44.0 & 41.0 & 14.9 & 100\\\\\n",
       "\t & 54.1 & 33.1 & 12.8 & 100\\\\\n",
       "\t & 54.5 & 42.4 &  3.0 & 100\\\\\n",
       "\tTotal & 48.1 & 38.7 & 13.3 & 100\\\\\n",
       "\\end{tabular}\n"
      ],
      "text/markdown": [
       "\n",
       "A matrix: 6 × 4 of type dbl\n",
       "\n",
       "| <!--/--> | <!----> | <!----> | <!----> | Total |\n",
       "|---|---|---|---|---|\n",
       "| <!----> | 34.5 | 40.2 | 25.3 | 100 |\n",
       "| <!----> | 48.8 | 36.2 | 15.0 | 100 |\n",
       "| <!----> | 44.0 | 41.0 | 14.9 | 100 |\n",
       "| <!----> | 54.1 | 33.1 | 12.8 | 100 |\n",
       "| <!----> | 54.5 | 42.4 |  3.0 | 100 |\n",
       "| Total | 48.1 | 38.7 | 13.3 | 100 |\n",
       "\n"
      ],
      "text/plain": [
       "                     Total\n",
       "      34.5 40.2 25.3 100  \n",
       "      48.8 36.2 15.0 100  \n",
       "      44.0 41.0 14.9 100  \n",
       "      54.1 33.1 12.8 100  \n",
       "      54.5 42.4  3.0 100  \n",
       "Total 48.1 38.7 13.3 100  "
      ]
     },
     "metadata": {},
     "output_type": "display_data"
    }
   ],
   "source": [
    "# Tabla contingencia ~ Porcentaje Fila\n",
    "tabla_cont_filas <- prop.table(rbind(datos_lengua1, \"Total\"=margin.table(datos_lengua1, 2)),1)*100\n",
    "tabla_cont_filas <- cbind(tabla_cont_filas, \"Total\"=margin.table(tabla_cont_filas,1))\n",
    "round(tabla_cont_filas,1)"
   ]
  },
  {
   "cell_type": "code",
   "execution_count": 224,
   "id": "9a16da83",
   "metadata": {},
   "outputs": [
    {
     "data": {
      "text/html": [
       "<table class=\"dataframe\">\n",
       "<caption>A matrix: 6 × 4 of type dbl</caption>\n",
       "<thead>\n",
       "\t<tr><th></th><th scope=col></th><th scope=col></th><th scope=col></th><th scope=col>Total</th></tr>\n",
       "</thead>\n",
       "<tbody>\n",
       "\t<tr><th scope=row></th><td> 11.0</td><td> 16.0</td><td> 29.3</td><td> 15.4</td></tr>\n",
       "\t<tr><th scope=row></th><td> 14.3</td><td> 13.2</td><td> 16.0</td><td> 14.1</td></tr>\n",
       "\t<tr><th scope=row></th><td> 21.7</td><td> 25.1</td><td> 26.7</td><td> 23.7</td></tr>\n",
       "\t<tr><th scope=row></th><td> 26.5</td><td> 20.1</td><td> 22.7</td><td> 23.5</td></tr>\n",
       "\t<tr><th scope=row></th><td> 26.5</td><td> 25.6</td><td>  5.3</td><td> 23.3</td></tr>\n",
       "\t<tr><th scope=row>Total</th><td>100.0</td><td>100.0</td><td>100.0</td><td>100.0</td></tr>\n",
       "</tbody>\n",
       "</table>\n"
      ],
      "text/latex": [
       "A matrix: 6 × 4 of type dbl\n",
       "\\begin{tabular}{r|llll}\n",
       "  &  &  &  & Total\\\\\n",
       "\\hline\n",
       "\t &  11.0 &  16.0 &  29.3 &  15.4\\\\\n",
       "\t &  14.3 &  13.2 &  16.0 &  14.1\\\\\n",
       "\t &  21.7 &  25.1 &  26.7 &  23.7\\\\\n",
       "\t &  26.5 &  20.1 &  22.7 &  23.5\\\\\n",
       "\t &  26.5 &  25.6 &   5.3 &  23.3\\\\\n",
       "\tTotal & 100.0 & 100.0 & 100.0 & 100.0\\\\\n",
       "\\end{tabular}\n"
      ],
      "text/markdown": [
       "\n",
       "A matrix: 6 × 4 of type dbl\n",
       "\n",
       "| <!--/--> | <!----> | <!----> | <!----> | Total |\n",
       "|---|---|---|---|---|\n",
       "| <!----> |  11.0 |  16.0 |  29.3 |  15.4 |\n",
       "| <!----> |  14.3 |  13.2 |  16.0 |  14.1 |\n",
       "| <!----> |  21.7 |  25.1 |  26.7 |  23.7 |\n",
       "| <!----> |  26.5 |  20.1 |  22.7 |  23.5 |\n",
       "| <!----> |  26.5 |  25.6 |   5.3 |  23.3 |\n",
       "| Total | 100.0 | 100.0 | 100.0 | 100.0 |\n",
       "\n"
      ],
      "text/plain": [
       "                        Total\n",
       "       11.0  16.0  29.3  15.4\n",
       "       14.3  13.2  16.0  14.1\n",
       "       21.7  25.1  26.7  23.7\n",
       "       26.5  20.1  22.7  23.5\n",
       "       26.5  25.6   5.3  23.3\n",
       "Total 100.0 100.0 100.0 100.0"
      ]
     },
     "metadata": {},
     "output_type": "display_data"
    }
   ],
   "source": [
    "# Tabla contingencia ~ Porcentaje Columna\n",
    "tabla_cont_col <- prop.table(cbind(datos_lengua1, \"Total\"=margin.table(datos_lengua1, 1)),2)*100\n",
    "tabla_cont_col <- rbind(tabla_cont_col, \"Total\"=margin.table(tabla_cont_col,2))\n",
    "round(tabla_cont_col,1)"
   ]
  },
  {
   "cell_type": "code",
   "execution_count": 225,
   "id": "bedbd6d4",
   "metadata": {},
   "outputs": [
    {
     "data": {
      "text/plain": [
       "             \n",
       "              COMPLETO MAÑANA TARDE\n",
       "  Regular         25.3   34.5  40.2\n",
       "  Aprobado        15.0   48.8  36.2\n",
       "  Bueno           14.9   44.0  41.0\n",
       "  Muy Bueno       12.8   54.1  33.1\n",
       "  Distinguido      3.0   54.5  42.4"
      ]
     },
     "metadata": {},
     "output_type": "display_data"
    }
   ],
   "source": [
    "# Organizamos los datos para hacer un grafico de barras adosadas\n",
    "# Grafico para la tabla de contigencia ~ porcentaje por fila\n",
    "aux$Desempeño <- factor(aux$Desempeño, levels= c('Regular', 'Aprobado', 'Bueno', 'Muy Bueno', 'Distinguido'))  \n",
    "tabla_variable_fila <- round(prop.table(table(aux$turno, aux$Desempeño), 2)*100,1)\n",
    "tabla_variable_fila <- t(tabla_variable_fila)\n",
    "tabla_variable_fila"
   ]
  },
  {
   "cell_type": "code",
   "execution_count": 226,
   "id": "a316a5ca",
   "metadata": {},
   "outputs": [
    {
     "data": {
      "image/png": "iVBORw0KGgoAAAANSUhEUgAAA0gAAANICAMAAADKOT/pAAAAP1BMVEUAAAAAAP8A/wBNTU1o\naGh8fHyMjIyampqgIPCnp6eysrK9vb3Hx8fQ0NDZ2dnh4eHp6enw8PD/AAD/pQD///+sY8Ds\nAAAACXBIWXMAABJ0AAASdAHeZh94AAAgAElEQVR4nO2d66KCKhpAOaPpWFk6x/d/1hHwAl7S\n2kCYa/3Yu7x9Cq5ERBANAPwZ8e0dAPgFEAnAAYgE4ABEAnAAIgE4AJEAHIBIAA5AJAAHIBKA\nAxAJwAGIBOAARAJwACIBOACRAByASAAOQCQAByASgAMQCcABiATgAEQCcAAiATgAkQAcgEgA\nDkAkAAcgEoADEAnAAYgE4ABEAnAAIgE4AJEAHIBIAA5AJAAHIBKAAxAJwAGIBOAARAJwACIB\nOACRABxwLpHK4iKESLJ7vXOFKk+EuBRNu9bnKbVv5Xuetstl18pnkO9szWKapB5DheQXjmEv\nD3mmdlx3rfHUC1/8i3RPhl3L3tv6M9sdZD/+zu5ZkiLS0bgKk8ueVXK9rP8rUmHuWvLGRemZ\ndds+ikizJEWkg2F7tO+aJJe7N83eguCLrbxeorB3bZfke7cdGbMkPdwRLPMLx7ALXaTISpmD\nj0x+3qGHm0ze3Eopl0jljVuti3ilu23HxmyHD3cEy/zCMexC3h8lj/7bTZUuNgkkUmpehWR1\nSOpu27GBSMdGXZCe4/e8O1tVNl4TkaqS3rOr1dNXhKGoZeX2PUtUxd+wqYesbktzY+N9zDwR\nSVHbK8vL4t1e7iFjjmulRdlfLCeb1hu6ttMu9/U9fMpjexV2tpn5YRlbs5JkQC1QFe06xoEv\n7e6Qtms7vBnqGJxFpOvkElSnup5ZZuOtK7cbt1GXft70NH0OtWvd5a2+9BOmtW39jU85X3m8\nNPb7tnTHNtu0/FglG3vYhU2q1bCzzcwPa1h3kiQDw4GN6bq4u0PajpPWRFoLdQzOIpL8SX4s\nTDfz/iFGbs1irj+NRYQ0sR6rrSf5b1duyCmV8d3cF7lv8+vZwqbVid5Pui/v4a2flKyGnW1m\nflj9utMkmaXbOGd5dyXZwmpzkVZDHYOziNRn19L0/t5elnXaE7rKrFPB+iBPlrw90x6X7gSR\ny6aP7hmVeU2q5Sp53dS56FeWi9xqfa6bd0Er+zbftNpSW2h7jsGme9iHVQexEna+mdlhGetO\nksRMt+Hw6vXdnZbTZkm6GeoYnFAk41dRf+mLfNU1VReGepbZ/YdyOIErfScjf8q72xt5MhrX\nmeuwaGasrH9q7/YJtizSwqbVySsnPFb38DaEvayGnW1mdljDZudJYuzzeHi31d2d1eisirQa\n6hgccJc/4pVIsyLf6mk6KyDmoxJlf3pqxkX70zUXQ5W7vejymbOwabngc+8elqthZ5uZl3tn\nu7Qk0nh42erubqftZqhjcMBd/ojEOp1skayGBPXjeplldv8hmeZxOm5W/pIaBbaJud3KI8uL\nvt70uOCOPaxXw842Mzsse5esJFk7vJXdnTXSeC3SUqhjcMBd/gjjR3cm0rBQfc+smbNcf/nr\nac+ciyRsxkXlqTNWNtST0tVi+D17uBp2tpn5qTtMmSXJ2uG93N2lFWc5sBbqGBxwlz9iWv29\nJJJVz2Yt5VckWWE9Vn/LO5m0iUSkeZKsHd6fRVoNdQwOuMsfoeqAjTrmBZHkGSzS/PZYr2ww\nCoia9aLdpCzZLBWgOuQ9xfhANu20+qxoNy5Sr4adbWZ2WP2MhSQxFhgPL9nY3aXgkxxYD3UM\nDrjLnyGLDclg0mOSjRJ5KoxNGhY/bFU2GNe8+V3/2qMsfSL3VefqeWq1vOkdIu0JO9vM6iIL\nSWIsoOcsVzYUC+ss7/lmqGNwwF3+DP3MsZDny/OuX0ySk41cGz4+V0/T+3DGd3cyxsVE2mBc\n8uSi+nHIZbbyFP1rLLenm9OqpRY2vUOkMUi6Gna2mdlhza5vY5IY29DXX7nH943dXQo+yYH1\nUMfggLv8IdPXKMZGNt0C6qlk3dS3ZJbZwwfryaXcgGpiuvhAtt/c+GRUXXjaM6y+Gc3pFJm1\nY4meN9/0ikiVfCmhmzI8kL2sh51vZnZY3YyFJGnGNcWl0g9kk63dnaxofdgMdQwOuMufMjFJ\nP8gxcs2eX1tz+w9mOxb1q1vNGsb03K3NzVa2n1RaJnWlrPmmF0TK+mPppwxNhIZq5FnY+WZm\nh9XNWEiSZlxz2L9ya3cnK1ofNkMdgxOJZL1qnnWlMDOz+0aX2a0/OWa53jymjVar1Uar/alR\nLqw8a6R6G2alw6OX2abnBug7IXniDlOK/lxeDbuwmelh9TPmSdKMa/bq3Dd3d7Ki9WEz1DE4\nk0jt+VKoOgej8xMrs8t2bpI/VfnILpwYi927TRgblS8PFEuvUcjplb2yKmgt9XCi32PIrVNo\nsukFA1RpLC2sKe0OXm7NetilzUwOaxR1miTmrtRFomZu7u50RfPDZqhjcC6RToV45wXBDzbO\nqWNCavwYQz3G0+sPOyJNIDV+jLS7aVEVcPfNxT8FkSaQGj/GUGsnzOYSzkGkCaTGrzF27fVO\n/3jvgkgTSI2fo+9DxF+5rkGkGaQGgAMQCcABiATgAEQCcAAiATgAkQAcgEgADkAkAAcgEoAD\nEAnAAYgE4ABEAnAAIgE44GORdPcHQmTF8TqqAHDNhyKV5hgHCSrB2flMpGd7JSp1ZzGV7LRm\nuSdegNPwmUi5OU7W5BvACflMpMTqCrPmZUk4O58pMDEHkeDsfCoSVyQAAzf3SMfrYRbAKZ+J\n9BAiN2vtqP+Gk+PkOdLN7T4BHI6P725KWjYADFBNAOAARAJwAI1WARxAo1UAB9BoFcABNFoF\ncACNVgEc4KnRqjD5bM8gSsQp+CBdPkzNN65IiPRLnCI3g4n0VqPVUyT9aThFbgYT6a1Gq6dI\n+tNwitwMJtJbjVZPkfSn4RS5GU6kdxqtniLpT8MpcjOkSFGFgGCcIjcRCXxzitxEJPDNKXIT\nkcA3p8hNRALfnCI3A7ZseKNJxSmS/jScIjeDiXRFpLNyitwM+EBWJJXnEBAlp8jNgPdIpUh9\nh4AYOUVuhqxsuIq9vdmdIulPwye52d8AXK719sJ/IBOXp5OX44LW2iV7V0WkX+IvIgm/ffLm\nOoSD17Wp/gbffCaS/v/MvXbv0YapMpHtvnl/saUgq0QYAoLxF5HkDUHicF+8gUjgm7+J1N7G\nqMJdXSQiyfW1oy7S9vapu+M2Z7Sr3VORtivcEpHejWn9EtPF2wuSyPV7ck0lZxWfXZ4QCXzz\nR5FKdQtTJeMdU/9Z1QKbM9rV9PPKR6H/6Wk3Y4nJ4t3Xpw6k35X76KYMkcA3fxSpVsIk4la3\nlwyR1E1zEUX799n+m8xotAa5SPS/i96UuFRNnesi4mTxtL02tRuSqtaJyGu13CcVhYgEvvmj\nSOrzrXt0chXXYWYt1bBmNPoiVOsLTletLbRPbRHxNl9cfXuqBa9dPyKZmvX2DgdZJcIQEAwX\nImXd91pakYqs7K8a1ox+NetfX+33kKJMF6/GBS/DcpdPdjjIKhGGgGC4EMlqpKluZtKiuwMy\nW28ui7S2nWGW9eWzgcIRCXzzR5EqeYWwBXhcdGVDhUhfDwHB+KNId1mnMD2561LWgOfTGTtE\nWoqCSHAA/ihSKu9dLgvtGyq5kD1jWST9mEjdIy0uzj0SHIG/iXRTtd99lZqyIe26v5YLWTNW\nRNJN6TJxX1m8odYODsBfRHrk+oJSJ7JFnHzOWkm3Lu3Fo1a9YFszVkTqng+l0+3YIvEcCeLm\nM5F6uoYGpdkW/NLNqqczVqq/VfMF/V7p0uLdf2tWgINEJHiLv4iUDe8jyTZyIu/ucG6tSul1\nPmOlsqG6DEsvLd7/123tPnsBCpHAN1/OzTCjbSES+AaRnK0SYQgIBiI5WyXCEBAMRHK2SoQh\nIBiI5GyVCENAME6Rm4gEvjlFbiIS+OYUuYlI4JtT5CYigW9OkZuIBL45RW4iEvjmFLmJSOCb\nU+QmIoFvTpGbiAS+OUVuIhL45hS5iUjgm1PkJiKBb06Rm4gEvjlFbiIS+OYUuYlI4JtT5CYi\ngW9OkZuIBL7xm5tDB3j9UJhvrOlyN4KsEmEICEYgkcS7fXYjEhwK3yJ1H8pEDYX5wZpOdiPI\nKhGGgGAEEql56tGZP1jTxW4EWSXCEBCMUCINY8vKnodzPahlU+WJ7HLfHirJ+nbPZDf7z25G\nnXaDUry7G0FWiTAEBCPwFalKjL7wdf/5olwXqeuQX3QDabZWvVdA7HcjyCoRhoBgrOXmP2+x\nuvVu83V7j6Tq7dp/dVMVeqyKbqiWZFWkm7i0167qomsqhEjbxV0epNtVIgwBwVjJzfc8eiGS\nXWt30zo1Vzle2H0YPGxNpFQPbF73kz4a02X9IB2vEmEICEag6u9MO5D1VyjpVTYMZ7l+j2RP\n+mxQF0QC/4S4RyrEpe6/G+OWTwZYXhapftyyZMGt93YjyCoRhoBgBKlsSPvHse+K9EiHpREJ\nYiaISE/RjaG8UGBrXoj0kEP/3Z81IkHshKn+vupRm5tLd1ukWL5HqqzKhtLYDCJBvAR6jpTo\nGrprV1H3kP/vcuDzlrz3RLl2M6zpVr8hEsROqLZ2uu66boWqmkchVL22/RwpF5dnU9+EdUUq\nZFsIoevrEAniJVTLhkwk8l8pjJYNldWy4Slm7RzuetI1VYVARIJ4CSVSe+ujnsXKtnYi7+6U\nqvZL+hjujtoy3qTl3eMiRPbQJUFEgoiJIDfrNxuGvw8igW++mJt9S4VbV+ngMVKQVSIMAcH4\nYm5msiCnqheeniMhEvjmi7nZv1Ih7r4jIRL45pu5WV9TIZLc9/UIkcA/p8hNRALfnCI3EQl8\nc4rcRCTwzSlyE5HAN6fITUQC35wiNxEJfHOK3EQk8M0pchORwDenyE1EAt/4z03x1usPOxZ+\n/3UKRALfeM/NUrzVsSMiwSHxnpsXUbwzNhIiwSHxnZu1SJrkjS5SEQkOie/clL18F12vdlKB\nezqM6jIM0yLfOE+KfqLsFTIpOvXMYV3Ua+rpbXgz3VhrA0QC3/jOTdkPftW/Sy7Ezej7pB+m\npesQJekmlsZILtawLt2MrnMua60NEAl8s5ab/3uL1c0/lENp1xWkHJSiaupc9yjUDdNSd71y\n6aFe5AVoWMQe1sXqvcte68ODdLtKhCEgGCu5+Z5H6yIV6vXXezc+WD8kc6Z6FOouTNdhdJer\nmqi/5XIRa1iXvmsHPQqMvdZnB+l4lQhDQDA856bu4KTrvLsRQyfF2TBv6Mb4oSwT1rdhK41U\n5tnNEbO1tvbigx1/f5UIQ0Aw/OZmOVw3uhugPqoYvy1OHD6Mw7q8Xu4liAS+8ZubfWWB6Aev\n7KPuFMkc1gWRIGK85mZtjIdk9d69UyRrWBdEgojxmpvXYRDyoqtJ6G9zjC6Ip/dIxiLWsC79\nKDBP7pEgPrzmZlfr1sizX1aDi6Hi7d4MIk1r7YxFrGFd7kN9HrV2EB0+c9O8WqgriHxIpB7+\nqAe0fXXC5DmSbNVQ6edI9rAuPEeCePGZm4XR7LuUTgjxUL2rJupC1d/dWEO99C0b1CL2sC72\nKDDWWhsgEvjGZ27qBgwdiVDqVBeRji3vNLrVXN1PNNraWcO66LZ24ygwxlpbO/LBvr+/SoQh\nIBhBc/PzEY7+GDfIKhGGgGAgkrNVIgwBwUAkZ6tEGAKCgUjOVokwBAQDkZytEmEICMYpchOR\nwDenyE1EAt+cIjcRCXxzitxEJPDNKXIzpEiPIlNNl7Jiq/HSKZL+NJwiN8OJVPYjte/o4egU\nSX8aTpGbwUR6tleiUr9QVT2yvv8JpyEgTk6Rm8FEyru3qZa+OQoBcXKK3Awmkt05c/36AfQp\nkv40+M3N/m4hu3kNs7kbQVZpZk03EOk8hBFJvDMghYfdCLKKXIsr0lnxLZL+/7iIb16TvnaP\nlLkPAXESRqTmab0tG5pgIj2EyM1au5f134j0SwQSqfvUf+/7PZFviw+DvDRVNg7h8sagLTt2\nI8gqEvs50uurMCL9EsGuSGbHQd3/rjeTvteT7qsy6Z1BW3bsRpBVNCUtG07JWm7+5y1Wtz7e\nI1mdf+v/ibjV7aWn74crba9Nz4u6y3irs63PD9LtKhGGgGCs5OZ7Hr0QqefafW/G/7euAuLa\n9Qypvj3f7/7x44N0vMquzZr4CQFfIVT1d2Z1Zdf1Qay/1F1fxdU4660OiXfsRpBVTKpciMvL\nBkJckX6LMPdIz0L3+GiJZP82T2ZNNvDH3QiyikIPc9vd7hUvF0WkXyJUrZ0eb+/nRdLj2Nwy\nWUvySLoBAdyGgCgJJVLzwhZr0UOLVKg6kvaqpKpWHjRaPQ9fEamyboTsRQ99j9Q1Wp08LnMa\nAuIklEh3c/Sjm1U1Z42W1By61m4ydhoinYcwItU3/dg1F5en+iKn14msy3sUur7OOvmO+hzJ\nviLRaPVEhKr+1jVYT7E6Mov9K/7OoC07diPIKo28Ryr0PZIqmZbcI52HMCKlQxM6/XzFaGsn\n8ke3aGP+f2PQlh27EWQVyVBr1x5UlVJrdx5OkZuBnyPdZW0Kz5HOxSlyk5YN4JtT5GY8be0C\nh4BgnCI3EQl8c4rcRCTwzSlyE5HAN6fITUQC35wiNxEJfHOK3EQk8M0pchORwDenyE1EAt+c\nIjcRCXxzitxEJPDNKXITkcA3fnMzyW59r8PVLdvX/beHoWAQCXzj/X2k/t22fG+PiB6GgkEk\n8I1vkdL+MpSku0XS/x0OBYNI4BvfIl27t0Sf7af3RHI4FAwigW98i/To+gG6tp+EntTPkt1y\nqTEqmtpUxsNQMIgEvvHei1CiXUnFkhep7vD7br6U7WEoGEQC36zl5r9vsbp10eSqh6pa5Esi\nXcVdfr6YvQV5GAoGkcA3K7n5nkevRCqVK/f274JIla6Zs+6ePAwFg0jgG+9Fu1pdLrL2urR0\ny5PKv6VV0e1hKBhEAt94F6k9weWHdLnu4CqLb7lVz+1hKBhEAt/4F+naXilU3d2SSJW8XvUX\nFnOGxNlQMIgEvvEv0lMUTSGLXYu12amoJs+LPAwFg0jgG/8iyQrwJGkmIlXd/7sonnaPpB6G\ngkEk8E0AkQpRGmU0a2QXNWLDxe4q38NQMIgEvgkgUilSpYo+7a2RXRrd7fx8ncbpUDCIBL4J\nIJKsIaiHL/bILvKy011JxnWcDwWDSOCbECJdrMeu9sgusmx3n6zjfCgYRALffD03a7vy2wuI\nBL75em7eJyU7HyAS+ObbuVlvDGvnBEQC33w5N4130X1GCbJKhCEgGF/OzXRjeEg3IBL45hS5\niUjgm1PkJiKBb06Rm4gEvjlFbiIS+OYUuYlI4JtT5CYigW9OkZuIBL45RW4iEvjmFLmJSOAb\n369RdONKXOt+wmSJe7I8fWu7a1+WF39r45+uEmEICEYYkYbX7WYnfTcBkeDYhHixr2meubB6\nLZkv4SDIiyU+2OgnexJdCAhGGJFk1yTLY7QgEvwEoURqsrEDlLpI29umWzMU/Zqh4y1rlJY8\nGV8xt98q13/lW+fpzX7RfPFtW0QC3wQTaeySqx+ZJZ2LZI7S8kjMTk8WROo6O7lZXZ8sDOqC\nSOCftdz871usbn3cfK1GO9KdgcsOSp4X9SqSWdlgjdLSdL1rJasiWQu86IwLkcA/K7n5nkd7\nRBq7TR26hhy7X+1nGqO03If+HldEunXv1mZb3UMiEvgnWNFuFCkVWVlPluiLduOXbOiBeEWk\nrOvs4bHVYTEigX++IJK6m0kLq2u6zcEl5iLZC7zoQh+RwD/BRKq6jrwbNailcsnodRiR4NgE\nE+lu1i3UpawBN0Y/QiQ4NsFEStVNjHWJMgSYi7R8j1SZ90h6gSf3SPB9Qol0U7XfXWVDPc5c\nFeneVcrlvTrmaDDyb1+tl1NrB98njEiPvBNB11tf2qtHnXdFu8ewoF18s58j2aPB8BwJIsO3\nSD2J0fr70k2Sp3xmNxEaF+obQHQtG+zBXdRfe4H1QV0QCfwTRqTMfh/p1qqU6iKYHLMlWRRJ\nNZ5Lh+FcrMFd9N/aXmBtUBdEAv9En5u6adHfQCTwTbS5KboqiZuDXvYRCXwTbW5mukriJhwM\n+4JI4Jtoc7N/2WIyMOZHIBL4Jt7crK+pEEnuYhgyRALfnCI3EQl8c4rcRCTwzSlyE5HAN6fI\nTUQC35wiNxEJfHOK3EQk8M0pchORwDenyE1EAt+cIjcRCXxzitxEJPDNKXITkcA3p8hNRALf\nnCI3EQl8c4rcRCTwzSlyE5HAN+IUfJAu7pP6CyEAvgwiATgAkQAcgEgADkAkAAcgEoADEAnA\nAYgE4ABEAnAAIgE4AJEAHIBIAA5AJAAHIBKAAxAJwAGIBOAARAJwACIBOACRAByASAAO+Pgs\nfxSZ6iYiK0pfIQAOw4dneZkYXa4kr1VCJPh9PjvLn+2VqNTjsFeP9sr0cB8C4EgYZ3mZp7JD\nr/ylFZpc5KvfXoUA+FGGs7xKu57xhCg210pEbXyrX3eoh0jw+/RneZWIQSRx3VxLvPq6EgLg\nd+nP8tajy0MZUbYmPbfW4ooEYNKd5bfWo6a7tNy2C3fTe6RsRwiAH6Y7yy/6KqREai8w6cZa\nDyFys9buZf03IsHv053lXQf8/d/Nc99+jnTbEwLgh/lQpFYlWjYADHRnefdQVRnUltte3vN8\nGALgh+nO8tKobLhs3PPs2uzfRm0COBj9Wd5eklJV/f24aKc2uCby7yNv75CKal8IgN9lOMuN\n2oNkw4xGXbXav0W3Ao1W4ewMZ3l96T1Ktz26ifQpb6ZUu+8yef0AF5Hg95k2Wk3yPfdHqaqa\nuHSXopJGq3B2PjvLzcpy84PDEABHApEAHPDZWX5Rd0V533T1dZMiRILfp3vOI2ak+YsahFJc\navmerH7fohAv2wghEvw+qyK9fpkiE6J4tj61BlX5RhtXRILf55VIr+rirsZyl9f15YgEv8/q\nWX7faNtT3zP1cvql2OrjAZHg91k/y501kkMk+H3Wz/J08/W+P4eA0FitiC9iZQa8z4u0q7eb\nCv01BITlafpyM8R5ItIfWUq7531H8++/hYCvUBq9cTxNccodfbDBK4a0vF2Mejin5z4iBWO1\n5NbIp33yInQfvqeJkc3mDPgE430kRDo6qyW3Rr3yItuilJlquC+fX9yNBYwZ8BHjG7Jmq4Yd\nvRa/HQK8s1pyk6bIr93PZSVnZ2YTyXEGfEaXlm06X2qVsg8Xb5ovhQDvrJbcmiR56F50S7lU\nLifUpkjjDPiMLi0T1fmJTtmL3Y+qqxDgndWSW1OYTfTbT7kUZ1aCp9ruc6zuuHL1vt5jTzf6\n74cA76yW3CSWSMs3w4j0OZZId31t3+5p9ZMQ4J3VkpueKQse6lM6E2mYAR8yFu3UN9U3ELV2\nh2al5KZr7W7StNs4pcOeAe9jdxCpxj2qEenQrJTc5Bc9eE9qTFmcAe/TJXV7ZypvUtW4EheK\ndgdlteSmJssvlXyRrDanLM2A9xkLyf3YSJLNkcY+CQG+WS25LXwFt/SpWyVGl49Om9ohUjBW\nS27mf/DC2EHkVWXALRWJ4/aLZGAwVktuDSJ5JkDqkoHw+1jPkToubst2iAS/z5JIVH8DvMmC\nSA9EAngTUYsFeI4E8BZiGOTIxGlTEUSKiKWfTYNv795xEc38kpQ4fR6LSDEh/vsKsupjliob\n/ISAAGxecBDJE4j0U4h/X4FI/uCB7E+BSN8CkX4KRPoWQ9KVmV2Y9hACvINI32LsTdBbNSi5\nEw5E+haL/doh0lFBpG/RJV17QUrc9mY3CwEBQKRvMVZ/+/IIkQKCSN+C50g/BSJ9iy7pUkT6\nCRDpW3RJV7wcw9xJCAgAIn2LLulqITvi8hoCtumGNJIDGVzGEUEmX1+BSN+iT7qyNcnpYC7z\nELBFN6RR9yyir/2ZfH0JIn2LsbKB50jfph/SKJW93j6GtysnX1+CSN8CkeKhH9LI/Dv/+hJE\n+haIFA3DkEaZvgT1N62Try9BpG9B6+9YMIY0Um//j910Tr6+ApG+BSLFgjGkkWqIP16BJl9f\ngUjfApEiwRjSqNB94ffXoMnXlyDSt0CkSDD7VdC1C8kwx/r6eiuI9CWMpCtz1VAod/04idzZ\nw1wkau2OxJB0VTpkI6NRfIu+1u4uy3J9B+yTr683gEhfok86PbSOFsntOGOItB8t0lNnxbOb\nYHzd3gAifYk+6RLVnKsftc9pA1ZyZzdd+e2ZCZE9hwnj1+0NINKX6JLupofpU/l2c1y4I3fC\ngUjfYnzVvC9JyJbgdKJ/UBDpW9hvyPZ/aSJ0UBDpWyDST4FI36JLuvZ2Vj4+UgY9HL/kR+6E\nA5G+RZd0pVHZcHHcoxC5Ew5E+hZ90rWXpFRVf6v3mr2EAP8g0rcYki4ZX0ZKKj8hwDuI9C2G\npKuH3r9Ttx4h0l6mb1d+8LIlIn2LaaPVJHfe4yq5sxPxv1cgUtTwGkU8INKBQaR4QKQDM94j\nXXW7oCR33eUqubMTRDow5msUeoIQuZ8QsAEiHZgu6epEjCI57r2Y3NkJIh2YLumuQiS6SFff\nBC0bvgMiHZjxNYqhq4Ybbe2+AyIdGLv198IXZyFgix0iXYbEvBjJKpt16SEQEOlbIFI8bIt0\nG3LmZuRRbfTxgEhfoku61OinoRL7+lB7MwRssSnSc/iJe5o/dqrzyFx1WYNI36JLusJo8p3R\nZ8N32BSpH67C/NTIDHvqrsMR6Xv01d/tL9ylrBtd3qYXoa+wJdIwXIXxSZKMbzcj0rfok+5q\ntjOmX7uvsCHSOFyFMXCFWg+Rvs+QdLfRo5unEPCaDZHG4SqMgSvUeoj0fYy6n3smmzdk19pb\nCHjJhkjDcBXGwBV6PUT6PrT+joctkfoX/Kav+hnDVSDSt+hr7dy/zzcNAVt8KlJKrd336ZIu\ncfsMdikEbLGjZcOYTUaGFbK9fq5ubRFpQtcApMpV3/bzGc5YatngmN/LHU98IpIxXIW8t0Uk\nm64BSKVT6DGb4Q4xbPfudsOzELDFpyLpLtRoazenbwCSyyYGhdGl/dP5laPf3DMTV9evxk5C\nwAa0/nZN3wAkmfwK2fVFUs0AABjDSURBVC1DnDAW7d7u+unNELAFIjnGbgDSjFekyQwXIFI8\nIJJbJg1AyqGlwWSGExApHhDJLXYDkCq5LM9wAw9k4wGRnGI3ADE8mrYMcQIixQMiOcUqXj1H\nj2YPtN1Ec7mxr4X4DRBpyvjUtDB2bXyz/iWmL3ezGxJE+nEQacL41LRYfrN+G73eYz5Skcei\nXZknQiSZ8wezkeVOvGyKNK0SmlcR/ZRI41PT3Lx8GG/Wb6PXuwwJNAjkTaRqGNYlcdx+Na7c\niZhtkf7zkl8TaXhqmiSP5TfrtxlGRQ4lUmUMNOa2f0hE2gsiWYxPTQvrvJ81U4iCfnfa61Eq\n+2yoy9RxJ0KItJdfE6mrKpjUDcwbYi9jPzVdfo8xIrrduRu9CF0cN2CN7Ijj5cdE6qoKJnUD\n84bYK9hPTY8iktll8cPxaMyRHXG8/JZIfVXBpG5g1hB7hclT06OIZFWqH6+G/Tf4LZH6qoJJ\n3cDeO5zJw565SG7vP/4MIsXDT4k0VBUsmrN9RVoXKX2n1i4YFO3i4ZdEGqsKlkpi5c4u37be\nrI+Ibv9udmWD051EpJ38kkhjVcGCSEYD0o0UmYo0ebM+Ivo9Taj+/jo/JJJRVTAXabdHm2/W\nb6+/0RLEHf3GSjNA5TICIu3lh0QyWy1N6waeuz36+24Euv42xlleDk0bkl0ePYpMLZ0VW+0g\nEGknvynStG7gHrCa4BsidV0WJ9mu9kGl2aJoo3EeIu3kh0TSx6M2N6kbWGiI7Y+viPQO7f1e\nVupn1dUj23hOjUg7+U2RzF73hNUQ2z/Ri5TLX5mVb45CnJDfFMnsdU+MhT6nkVb3IKxIZXtN\nSfJ3erVLrMrH+nWyINJOfk2k7xNWpP5i+8Z4l9Pn1IjkAkRyTVCRsqHSYL9JgiuSBxDJ5u9P\ngUKK9JAG1U2dv/P8aHqP9LJCM67ciRhEsnl9uLGJVIhOiuyNsWNb+3Kz1u5l/XdcuRMxiGRz\nLJEu/YWolWP/kzL7OdLrpnlx5U7EIJLNsUQaCpv1e3WSJS0bXININgcVydtgY3HlTsT8lEgb\nNQW7NECk5t00g+bXRPrnJYg038DmEh9s9ZQg0mQTiGQv8cFWTwkiTTbx+yK9VeJFpJ2cS6R7\nKtKuuvc2fmyMju8QabLwn3bwRJxKpLs6b5Q++fixMTu+O4FIj0Qkj36tzRAf7dgJOZVIaatK\nqd6bfYpL3dyHfoXGju8OJ9InlZNXIbJab2AzhIPdPAWnEkkvJP8Vdse+Y/ddpxCpeaYiuTeI\n5JDTiVSqdtKXpTaep7kiNboLrwqR3HE2kTLdJk3INxBSu32M6vjuWCL9Yd0qa28REckZZxOp\nSJVJQly62oUB3WHXaURqmnuy4+qFSDs5m0iyRyE19FEhizdGnyhdx3cnEkm9xuQ5xHk4n0jq\nxmDWOXjf8d2ZRIokxG9wKpGSoV+hbCLS0PEdIgUP8RucSqRCvkZ6ky+V3nXRrn/neuz4DpGC\nhzgCd7MdzMVIlKGe9FQi1erVUNWrr+59p2qaScd3iBQ8xAEwmsQMo0IqnucUSTWpy/UTpCIR\nF9Vxgd3xHSIFD3EAxiYx46iQinLovelcIu3YBCKFDnEUOn/6USEVt6GFDCJNNoFIoUMchO7i\nM4wKqchFmYlUlmwQabIJRAod4hh0TWLGUSG7qf29NiJNNoFIoUMcg65JzDgqpEL1CqhqfxFp\nsglECh3iKMhHJsaokAaqlgqR7E0gUugQh6H1ZbmFPSItbAKRQoc4AEOTmKlIXVOzFJFmm9g4\n2vERt/WwW1HoVEWkn2NsEiOxau1ucsbtdCKtvAq3+4Hs+IjbetjdpTYi/ShGk5hmEEn+q9QM\n2WPB2UT62+EavT6YD7sVuUCkn8VoEmOJpN6PLFS5D5HeEclMSOtTkyQPRDoxiPS2SGP7qtIY\nJ6/otUKkU4JI74qUDSMRZZMxiRDpxCDSuyJ1j7itT114RDoviPSuSN1bgZNPKjwinRdEel+k\n5doGRDo1iPSWSGOvD+OnMTwinRdEekuk8RG3/bBbh0ekn2X7ST4ivSPS+IjbeNjdX5YQ6Xd5\nfWoh0rsiGY+4x0+I9PsgkmORduwEIv0giIRIsYc4BIiESLGHOASIhEixhzgEiIRIsYc4BIiE\nSLGHOASIhEixhzgEiORapO1H3Ij0gyCSc5GiOVpECggiIVLsIQ4BIiFS7CEOASIhUuwhDgEi\nIVLsIQ4BIiFS7CEOASIhUuwhDgEiIVLsIQ4BIiFS7CEOASIhUuwhDgEiIVLsIQ4BIiFS7CEO\nASIhUuwhDgEiIVLsIQ4BIiFS7CEOASIhUuwhDgEiIVLsIQ4BIiFS7CEOASIhUuwhDgEiIVLs\nIQ4BIiFS7CEOASIhUuwhDgEiIVLsIQ4BIiFS7CEOASIhUuwhDgEiIVLsIQ4BIiGSnxBy5M/L\nQy3S9dXccU9FevO/Y4FBJETyEqLS+rQmPW2R7urbz5mESIjkJUQuiqYpRNo0pfw0krZylSLx\nv2dhQSRE8hIiUTPkhegm7vO1fu7WCpEQyWMIeUXKRZmJ9GlOnlykfgFEQiR/IUp5L5Tpe6Rq\nnJyJzPduBQeREMlbiCq5yCVEKct3+Ti9SH/PJERCJF8htEf9ctaC958r2yESInkK8TQ9mlYv\n/FxtAyIhkp8Q97741tXfpU3/tW4QCZEQaV+Ih+ivR7mscbgNj2ALcZ3cMv0EiIRIXkJchlHc\nq0T+Vxck+bVWX5NqZb2jgkiI5CWEGERqqkyIotYTG90IL/81jxAJkaIPcQgQCZFiD3EIEAmR\nYg9xCBAJkWIPcQgQCZFiD3EIEAmRYg9xCBAJkWIPcQgQCZH8hBAb+N+1oCASIvkJsZ3WPwUi\nIZKfEIiESIjkIAQiIRIiOQiBSIiESA5CIBIiIZKDEIiESIjkIAQiIRIiOQiBSIiESA5CIBIi\nIZKDEIiESIjkIAQiIRIiOQiBSIiESA5CIBIiIZKDEIiESIjkIAQiIRIiOQiBSIiESA5CIBIi\nIZKDEIiESIjkIAQiIRIiOQiBSIiESI9Cj/yaFeWnIRAJkc4uUpkYvf0kr1VCJA0iIdKUZ3sl\nKp/qY/Vor0yPj0IgEiKdXKTcGk4vfz24HiJpEAmRpuhRXnvq1305IpIGkRBptpZ49XVvCERC\npNOLxBXpbRAJkaZM75Gyj0IgEiKdXKSHELlZa/ey/huRNIiESDPs50i3z0IgEiKdXaRWJVo2\nvAkiIZKfEIiESIi0sdk9A4YhEiKdXqR7KpK86jdC9fcOEAmRZhS6lqEzCZH2gEiINKUU4t7+\nTRP9XBaR9oBIiDQlE7rGO7uoaxIi7QGREGm2Vr9aoZ4hIdIeEAmRZmsNqxXy2oRIe0AkRJpi\nvEaRiQci7QKREGlKLsZWQUlSIdIeEAmRpjxVrZ2mEgki7QGREGlGYTRYKBFpF4iESHOeeTJ8\nrnJ/IhV67Ulbo8dFiEz3uFIMUy9GoOdFJIX58mEEIBIi+QmxQ6RC2/O0Rar11+e4QMvNEO1p\nNbyIBERCJD8httM67+wpRWGueJNfc3EdF9DuDAuoypCbvdLXQSRE8hNiM62T5KHtuI11G5JM\nXoyeIhsXaJrUvFPTH8XFw9F8DiIhkp8Qm2ld9ErkosxE+uxXTLQnxgLNVdznIsVVXYFIiOQn\nxJ7KBi2DfhlX2K9tmH/l5cnw5iKLdgUiIRIiWSKp7lVuQ9dFc5GSpDZFekjtLoiESIhkidQt\nL6wPxt9cimYuWqYi2+huLziIhEh+QvxVpGT4vPhWe0VlAyIhkiVSV7uQdiumfa1d80qkB9Xf\niIRIlkjdc6G+pWwh75a6hrOjPIZGaVvUq1UleUQgEiL5CbFfpEr1R5n2E7qGDvW4gPFJ/rup\n+XFdkBAJkTyFeOMeqcpaL0ZxZFu7i25rtyhSc0tF+rr/1/AgEiL5CRGm9XfXqrXKB/ckhoqh\nQCRE8hMiiEjdY9lKlwZ7dUr9dau3ZacgEiL5CRFCpL5Vay7vmAqj3u8hq/XSF2s6B5EQyU+I\nACINrVqH5nldaPtrEBAJkfyECCBSYdsyXIIyfUV6OUCaaxAJkfyECFPZYIhUjn22FOHrxxEJ\nkfyECC1SlYxthlR78qAXJERCJE8hdqT1a/aF7xczPSq+8AotIiGSnxAu0nrbtOFddMMjq9lr\nKBAJkfyECJHWg0h3qyBHrR0iIdInIj3sdyoy2QnELex7FoiESH5ChBTpMhb2jGavQZuHIxIi\n+QkRUiRhi9Q8MyGysK9ZIBIi+QkRRqRoQCRE8hMCkRAJkRyEQCREQiQHIRAJkRDJQQhEQiRE\nchACkRAJkRyEQCREQiQHIRAJkRDJQYggae2g/birdEAkRPISIoq0DgciIZKfEFGkdTgQCZH8\nhIgircOBSIjkJ0QUaR0OREIkPyGiSOtwIBIi+QkRRVqHA5EQyU+IKNI6HIiESH5CRJHW4UAk\nRPITIoq0DgciIZKfEFGkdTgQCZH8hIgircOBSIjkJ0QUaR0OREIkPyGiSOtwIBIi+QkRRVqH\nA5EQyU+IKNI6HIiESH5CRJHW4UAkRPITIoq0DgciIZKfEFGkdTgQCZH8hIgircOBSIjkJ0QU\naR0OREIkPyGiSOtwIBIi+QkRRVqHA5EQyU+IKNI6HIiESH5CRJHW4UAkRPITIoq0DgciIZKf\nEFGkdTgQCZH8hIgircOBSIjkJ0QUaR0OREIkPyGiSOtwIBIi+QkRRVqHA5EQyU+IKNI6HIiE\nSH5CRJHW4UAkRPITIoq0DgciIZKfEFGkdTgQCZH8hIgircOBSIjkJ0QUaR0OREIkPyGiSOtw\nIBIi+QkRRVqHA5EQyU+IKNI6HIiESH5CRJHWHfdUpLdx1x4XIbKH43RAJETyEiKKtNbchWQw\nqVZfxdNtOiASInkJEUVaa1LxaEqR9F9vomiaXFzdpgMiIZKXEFGktbk/w9dMXoyeInObDoiE\nSF5CRJHWI6W8DGkSNUO4TRxEQiQ/IaJI64HMuAAJRPJ7tIjkMkQUaT1QpKNJiOT5aBHJZYgo\n0trgPpTtEMnz0SKSyxBRpLW1Q8L6MNbiuUkHREIkLyGiSGtNIurGECml1s7v0SKSyxBRpLWm\nkM+MbiIfvubyOdJtZcc/TAdEQiQvIaJIa02dyJYMSdXoy9JTt2yo3aYDIiGSlxBRpHVHlQuR\nV2qv5ETZ1u5CWztvR4tILkNEkdbhQCRE8hMiirQOByIhkp8QUaR1OBAJkfyEiCKtw4FIiOQn\nRBRpHQ5EQiQ/IaJI63AgEiL5CRFFWocDkRDJT4go0jociIRIfkLEkdYbOEwHREIkLyEOkNbh\nTi1EQqRPQxwgrRHJz9FGkbmIhEjxn1oHyFxEQqT4T60DZC4iIVL8p9YBMheRECn+U+sAmYtI\niBT/qXWAzEUkRIr/1DpA5iISIsV/ah0gcxEJkeI/tQ6QuYiESPGfWgfIXERCpPhPrQNkbhwi\nPYpMNerMivLTEAdIa0Tyc7RRZG4MIpWJ0UA6ea0SIu05XEQ6o0jP9kpU6oEhq0d7ZXrZAxwi\n7TlcRDqjSPnQue/82/4QB0hrRPJztFFkbgQiJVZvvvXr198Qac/hItIZRZqYMxdp10um2y+n\nfn8Bl6dWgH39+wKBjjaKzHV3tJ+L9MYVCeD3cXOP5HYgIYDD8ZlIDyFys9Zu61ESwI/j5DmS\n2wG5AI7Hx3c35e6WDQC/D9UEAA5AJAAHIBKAAxAJwAGIBOAARAJwACIBOACRAByASAAOQCQA\nByDSwbiK9FpXvLgSG2TIsbh1DYUv394RsEGkY5F2ItHgPjIQ6VgIUdVFKq7f3g+YgEgADkAk\nAAd8W6Qyl6X+7FpbUx/FRd5QF2PHkyLLb3djifstz9S+G2/qDsvPOohZ6D1mtUuZeWyPrB6W\nohTmW/yTOyPzID9c8Juspv/sWAbS/D6bmmTXamWT4Y5FBQ8bbsJ9fGPdKPU/0mFq+uymqW/j\nuf1YESLrF7bj7BdpKbZHVg9LoYy2lq2sVf+64DdZSf+lYzFIq4Wp2fKyQQ/nuyIV5nEPiXe1\nkqMTzPw8LDPMmGxllooLSbyckYuxPbJ6WJJafavNZS/Wqn9d8Jssp//isZikS1OTJb1OJJL0\nKC1lmpXZeD7Jkym5yqvB8yovWLqUIhftUlHSfh6F6CdWudClgiWRVvbBnrMc2yOrhyW5CVEY\n+6DOjpu56l8XjIBZzsyPZZj1LPrjMrx75KZenvf2BV8MXZrZLdNIFaWe7Yex07ysnyxFGwss\nlfo2FUltJZtOmy20PmcltkdWD0uSiqRJRs3aOZlRZnOwYATMcmZ+LMbM21KRo+x/hM8qUmr9\nNrZZX3RTi8aarIrA8qQeC0Ht6fZYEqnW3z4VaSW2R1YPq1FaFfKnoRqXrZOxzOZgwQiY5szC\nsSwsbk+9L04NzPdCP4T10/gUF3kStwmZmEu1Z4RKVJlI4w+V/NlaTL0/ibQW2yOrh9VorWQq\nXY1l7+OPj4MFI2CaM0vHMl98MvWyUqIPyfdCF4sZep1O7RaTiVT0N6G1LIGtXJGS6bTZQqtz\n1mJ7ZPWwGjnkRzL8HXZ1LLM5WDACpjmzeCwDxXJt0l2XyE8q0mXxDiSbTn2Mtz1tYVg/SLjL\nX6AlkfKVFN0n0lpsj6welgouL9HFUD2u5oxlNgcLRsAkZ5aPRVPLzrGnlQ2Kp/brpCItH3Yy\nm2qU1vpa3Us3ZIe9GZ3Qz6VNC4u1vViL7ZHVwxpOpsdw36bn3I16zL8uGAGTFF46FovL0lrj\nObKSywGITaT5VEOkTBeCapWeo0gmxeJG9om0Ftsjq4c1Fm+GYk4359KV2RwsGAGTFF46FpNs\ncS1E2jPVEOmubyrvqiy0KFKxvJG4RVo6LFng0wdT9C1mujnV5D7hDwtGgJ3Ci8cykBbPxbVO\nLtK8ICV5KVKtb4Fy9VM7F2lodrUk0spexCDS0mHJbwO5tTM3fU/lYMEIsFN4/Vge7TWqXFnL\nOke+xfdCz27tl6c+zWesaZdgaWOKNNvIhyKtxfbI6mHV1q9rbe3qRSS1kwUjwMqZV8ditWWd\n5Odz5Tl8SL4XelrZXCfZbaEK+jpWf6svpUzScYpLkdZie2T1sO7WOXW3drVS542DBSPAyplX\nx6Jesl95THvXJcKTijR9/HlVV/Pp1MZ4IKt+enJ5/X80PkRai+2R1cO6WA2HJg9PVJnNwYIR\nYOXMy2ORCZQuraWu6Cd+IDtpkFN1l+5MTManHZoIyX+JaollGuRQpLXYHlk7rNo81VNdzDF2\nVZbZHCwYAWb6bxyLTKF8vpa6ICXzqYH5YmjZrGwwqUq63xvZcHQ8feXdZ99oVf6TDYO75PQg\n0kpsj6wd1tUsfN2tQp+kUs1S/7xgBEyK1q+ORZ0wj9laY+Pns4qkX6O4yYv5Q72ZpC/rsqBs\nvsqgc7xLpFKVnktjikuRVmJ7ZO2w0sk9uFENodC9cv11wQgw93XrWMbC3Ti1Um/gLD+mDco3\nRbJqO8c6mZs1dXyxr/9v1+esiGQwm2CuMVl9MbZHVg7rOStjPue3E39fMAKMfd0+Flm461+Y\nMBnbQq3kcgC+KlJzG181v4y39c/lV83V/9nvj1uRFmN7ZOWwJs3h9HNKa1cr4WDBCDD2dftY\nVOGuq3oyKMZtnVWktjClOj9JJ12NLHR+0qWLLHxZTcgcixS685Plw5o24lHf7V29OVgwAox9\n3XEs8jLVNU/tf+2y2+pr6b733eLbIgH8BIgE4ABEAnAAIgE4AJEAHIBIAA5AJAAHIBKAAxAJ\nwAGIBOAARAJwACIBOACRAByASAAOQCQAByASgAMQCcABiATgAEQCcAAiATgAkQAcgEgADkAk\nAAcgEoADEAnAAYgE4ABEipBp37tkUvyQRxGCSMeDPIoQRDoe5FG8YNCBIKviBZEOBFkVL4h0\nIMiqeFkZEc0YYe0mkm5Uu7pIhbiUw+K3S/v13kAoECleNkWSo7Dn6lPZ1Up0o6mW3ZCixnii\n4BdEipdNkeTIs6VdyaeuSeXwNcGkQCBSvGyKJO79BJE99XUoa7/X7f/Lo2kel+ESBb5BpHjZ\nFOk6TMjUh1LPuguR6jlpd4kC7yBSvGzfIw0THuasbNCnVPdQEABEipftWrvlWW3Jrtbf6/Yu\nKcSeAiJFzKciGevxKCoUpHO8INKBIJ3jhaLdgUCkeFkW6bEpklXZkAXZVUCkeJmKpO24bIpU\nmtXfNBMKAyLFiyVSe5lJSv2QdUukxnggS8kuEIgUL5ZIQ7Of27ZI1aTJEPgHkeLFrnIrtBnF\ndmVDa1LXaDXBo1AgUrxM6q7LTL8osUMkXqMIDiIBOACRAByASAAOQCQAByASgAMQCcABiATg\nAEQCcAAiATgAkQAcgEgADkAkAAcgEoADEAnAAYgE4ABEAnAAIgE4AJEAHIBIAA5AJAAHIBKA\nAxAJwAGIBOAARAJwACIBOACRAByASAAOQCQAByASgAMQCcABiATggP8DmoLQFNlVwMAAAAAA\nSUVORK5CYII=",
      "text/plain": [
       "Plot with title \" Grafico de Contigencia por fila\""
      ]
     },
     "metadata": {
      "image/png": {
       "height": 420,
       "width": 420
      }
     },
     "output_type": "display_data"
    }
   ],
   "source": [
    "grafico <- barplot(tabla_variable_fila,\n",
    "                  main= \" Grafico de Contigencia por fila\",\n",
    "                  beside= TRUE,\n",
    "                  space= c(0.1, 2.5),\n",
    "                  ylim= c(0, 100),\n",
    "                  cex.axis= 1.2,\n",
    "                  cex.names= 1.5,\n",
    "                  cex.main= 1.5,\n",
    "                  col= c(\"blue\", \"red\", \"green\", \"orange\", \"purple\"),\n",
    "                  xlab = \"Turno\",\n",
    "                  cex.lab = 1.5,\n",
    "                  ylab= \"Porcentaje\",\n",
    "                  col.lab= \"black\")\n",
    "\n",
    "legend(\"topright\", rownames(tabla_variable_fila),\n",
    "       title = \"Desempeño\",\n",
    "       title.adj = 0.5,     \n",
    "       title.col = \"black\",      \n",
    "       lty = c(1),\n",
    "       col= c(\"blue\", \"red\", \"green\", \"orange\", \"purple\"),\n",
    "       lwd = 2,\n",
    "       cex = 1.2) \n",
    "\n",
    "# valores sobre barras\n",
    "TC <- tabla_variable_fila\n",
    "text(grafico, TC+2.5,format(TC), cex=0.9)"
   ]
  },
  {
   "cell_type": "code",
   "execution_count": 227,
   "id": "844223ce",
   "metadata": {},
   "outputs": [
    {
     "data": {
      "text/plain": [
       "             \n",
       "              COMPLETO MAÑANA TARDE\n",
       "  Regular         29.3   11.0  16.0\n",
       "  Aprobado        16.0   14.3  13.2\n",
       "  Bueno           26.7   21.7  25.1\n",
       "  Muy Bueno       22.7   26.5  20.1\n",
       "  Distinguido      5.3   26.5  25.6"
      ]
     },
     "metadata": {},
     "output_type": "display_data"
    }
   ],
   "source": [
    "# Organizamos los datos para hacer un grafico de barras apiladas\n",
    "# Grafico para la tabla de contigencia ~ porcentaje por columna\n",
    "aux$Desempeño <- factor(aux$Desempeño, levels= c('Regular', 'Aprobado', 'Bueno', 'Muy Bueno', 'Distinguido'))  \n",
    "tabla_variable_col <- round(prop.table(table(aux$turno, aux$Desempeño), 1)*100,1)\n",
    "tabla_variable_col <- t(tabla_variable_col)\n",
    "tabla_variable_col"
   ]
  },
  {
   "cell_type": "code",
   "execution_count": 228,
   "id": "4dd72d3a",
   "metadata": {},
   "outputs": [
    {
     "data": {
      "image/png": "iVBORw0KGgoAAAANSUhEUgAAA0gAAANICAMAAADKOT/pAAAAP1BMVEUAAAAAAP8A/wBNTU1o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\n8H/sshftXhzoZwAAAABJRU5ErkJggg==",
      "text/plain": [
       "Plot with title \"Gráfico de contigencia por columna\""
      ]
     },
     "metadata": {
      "image/png": {
       "height": 420,
       "width": 420
      }
     },
     "output_type": "display_data"
    }
   ],
   "source": [
    "grafico <- barplot(tabla_variable_col,\n",
    "                  main= \"Gráfico de contigencia por columna\",\n",
    "                  beside= FALSE,\n",
    "                  space = rep(0.25, ncol(tabla_variable_col)),\n",
    "                  ylim = c(0,110),\n",
    "                  cex.axis = 1.2, \n",
    "                  cex.names=1.5, \n",
    "                  cex.main=1.5, \n",
    "                  col=c(\"blue\", \"red\", \"green\", \"orange\", \"purple\"),\n",
    "                  xlab = \"Condición\",\n",
    "                  cex.lab=1.5,\n",
    "                  ylab = \"Porcentaje\",\n",
    "                  col.lab = \"black\")\n",
    "\n",
    "#leyenda\n",
    "legend(x = -0.4, y = 115, rownames(tabla_variable_col),cex = 1, fill=c(\"blue\", \"red\", \"green\", \"orange\", \"purple\"),xpd = TRUE,horiz = TRUE,bty = \"n\")"
   ]
  },
  {
   "cell_type": "code",
   "execution_count": 229,
   "id": "49925986",
   "metadata": {},
   "outputs": [],
   "source": [
    "# Si miramos el grafico de la siguiente manera: MAÑANA, TARDE, COMPLETO\n",
    "# podremos ver como se agrandan los bloques de las \"malas notas\" y por eso se achican los bloques de las\n",
    "# notas altas\n",
    "# entonces nuestra hipotesis es esa, que el desempeño de los estudiantes en Lengua depende del turno\n",
    "# en el que asisten a la escuela"
   ]
  },
  {
   "cell_type": "code",
   "execution_count": 230,
   "id": "b9579c50",
   "metadata": {},
   "outputs": [
    {
     "data": {
      "text/plain": [
       "\n",
       "\tPearson's Chi-squared test\n",
       "\n",
       "data:  aux$turno and aux$Desempeño\n",
       "X-squared = 28.308, df = 8, p-value = 0.0004191\n"
      ]
     },
     "metadata": {},
     "output_type": "display_data"
    }
   ],
   "source": [
    "# H0 ---> No hay relación entre las variables\n",
    "# H1 ---> Si hay relación entre las variables\n",
    "chi <-chisq.test(aux$turno, aux$Desempeño)\n",
    "chi\n",
    "# Rechazamos H0, entonces hay relación de dependecia entre el Desempeño y el turno"
   ]
  },
  {
   "cell_type": "code",
   "execution_count": 231,
   "id": "a546f38a",
   "metadata": {},
   "outputs": [
    {
     "data": {
      "text/html": [
       "0.158136476013837"
      ],
      "text/latex": [
       "0.158136476013837"
      ],
      "text/markdown": [
       "0.158136476013837"
      ],
      "text/plain": [
       "[1] 0.1581365"
      ]
     },
     "metadata": {},
     "output_type": "display_data"
    }
   ],
   "source": [
    "CramerV(aux$turno, aux$Desempeño)\n",
    "# La asociación es debil"
   ]
  },
  {
   "cell_type": "code",
   "execution_count": 232,
   "id": "5a50e356",
   "metadata": {},
   "outputs": [
    {
     "data": {
      "image/png": "iVBORw0KGgoAAAANSUhEUgAAA0gAAANICAMAAADKOT/pAAAAXVBMVEUAAAAA/wAfHx85OTk8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\nQmCC",
      "text/plain": [
       "Plot with title \"Gráfico de Mosaico\""
      ]
     },
     "metadata": {
      "image/png": {
       "height": 420,
       "width": 420
      }
     },
     "output_type": "display_data"
    }
   ],
   "source": [
    "# Grafico para mostrar las direcciones\n",
    "mosaicplot(table(aux$turno, aux$Desempeño),\n",
    "          main = \"Gráfico de Mosaico\",\n",
    "          color = c(\"red\",\"orange\",\"yellow\",\"green\",\"purple\"),\n",
    "          border = \"black\",\n",
    "          xlab = \"Turno\",\n",
    "          ylab = \"Desempeño\",\n",
    "          cex.axis = par(\"cex\"))"
   ]
  },
  {
   "cell_type": "code",
   "execution_count": 233,
   "id": "1db72c34",
   "metadata": {},
   "outputs": [
    {
     "data": {
      "text/plain": [
       "          aux$Desempeño\n",
       "aux$turno  Regular Aprobado Bueno Muy Bueno Distinguido\n",
       "  COMPLETO      22       12    20        17           4\n",
       "  MAÑANA        30       39    59        72          72\n",
       "  TARDE         35       29    55        44          56"
      ]
     },
     "metadata": {},
     "output_type": "display_data"
    }
   ],
   "source": [
    "# Frecuencias observadas\n",
    "chi$observed"
   ]
  },
  {
   "cell_type": "code",
   "execution_count": 234,
   "id": "ac22d128",
   "metadata": {},
   "outputs": [
    {
     "data": {
      "text/html": [
       "<table class=\"dataframe\">\n",
       "<caption>A matrix: 3 × 5 of type dbl</caption>\n",
       "<thead>\n",
       "\t<tr><th></th><th scope=col>Regular</th><th scope=col>Aprobado</th><th scope=col>Bueno</th><th scope=col>Muy Bueno</th><th scope=col>Distinguido</th></tr>\n",
       "</thead>\n",
       "<tbody>\n",
       "\t<tr><th scope=row>COMPLETO</th><td>12</td><td>11</td><td>18</td><td>18</td><td>17</td></tr>\n",
       "\t<tr><th scope=row>MAÑANA</th><td>42</td><td>38</td><td>64</td><td>64</td><td>63</td></tr>\n",
       "\t<tr><th scope=row>TARDE</th><td>34</td><td>31</td><td>52</td><td>51</td><td>51</td></tr>\n",
       "</tbody>\n",
       "</table>\n"
      ],
      "text/latex": [
       "A matrix: 3 × 5 of type dbl\n",
       "\\begin{tabular}{r|lllll}\n",
       "  & Regular & Aprobado & Bueno & Muy Bueno & Distinguido\\\\\n",
       "\\hline\n",
       "\tCOMPLETO & 12 & 11 & 18 & 18 & 17\\\\\n",
       "\tMAÑANA & 42 & 38 & 64 & 64 & 63\\\\\n",
       "\tTARDE & 34 & 31 & 52 & 51 & 51\\\\\n",
       "\\end{tabular}\n"
      ],
      "text/markdown": [
       "\n",
       "A matrix: 3 × 5 of type dbl\n",
       "\n",
       "| <!--/--> | Regular | Aprobado | Bueno | Muy Bueno | Distinguido |\n",
       "|---|---|---|---|---|---|\n",
       "| COMPLETO | 12 | 11 | 18 | 18 | 17 |\n",
       "| MAÑANA | 42 | 38 | 64 | 64 | 63 |\n",
       "| TARDE | 34 | 31 | 52 | 51 | 51 |\n",
       "\n"
      ],
      "text/plain": [
       "          aux$Desempeño\n",
       "aux$turno  Regular Aprobado Bueno Muy Bueno Distinguido\n",
       "  COMPLETO 12      11       18    18        17         \n",
       "  MAÑANA   42      38       64    64        63         \n",
       "  TARDE    34      31       52    51        51         "
      ]
     },
     "metadata": {},
     "output_type": "display_data"
    }
   ],
   "source": [
    "# Frecuencias esperadas si fueran independientes\n",
    "round(chi$expected,0)"
   ]
  },
  {
   "cell_type": "code",
   "execution_count": 235,
   "id": "6b9bcc45",
   "metadata": {},
   "outputs": [
    {
     "data": {
      "text/plain": [
       "          aux$Desempeño\n",
       "aux$turno  Regular Aprobado Bueno Muy Bueno Distinguido\n",
       "  COMPLETO     3.1      0.4   0.5      -0.1        -3.2\n",
       "  MAÑANA      -1.8      0.1  -0.7       1.0         1.1\n",
       "  TARDE        0.2     -0.4   0.4      -1.0         0.7"
      ]
     },
     "metadata": {},
     "output_type": "display_data"
    },
    {
     "data": {
      "text/plain": [
       "          aux$Desempeño\n",
       "aux$turno  Regular Aprobado Bueno Muy Bueno Distinguido\n",
       "  COMPLETO     3.6      0.5   0.7      -0.2        -4.0\n",
       "  MAÑANA      -2.8      0.1  -1.1       1.6         1.7\n",
       "  TARDE        0.3     -0.5   0.6      -1.5         1.0"
      ]
     },
     "metadata": {},
     "output_type": "display_data"
    }
   ],
   "source": [
    "# Residuos tipificados o estandarizados\n",
    "round(chi$residuals,1)\n",
    "\n",
    "round(chi$stdres,1)"
   ]
  },
  {
 
